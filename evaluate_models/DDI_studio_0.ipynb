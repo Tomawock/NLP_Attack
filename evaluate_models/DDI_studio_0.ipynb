{
  "nbformat": 4,
  "nbformat_minor": 0,
  "metadata": {
    "colab": {
      "name": "DDI_studio_0.ipynb",
      "provenance": [],
      "collapsed_sections": [],
      "authorship_tag": "ABX9TyN+BtK6cv1E+WRoEAWPvXZM",
      "include_colab_link": true
    },
    "kernelspec": {
      "name": "python3",
      "display_name": "Python 3"
    },
    "accelerator": "GPU"
  },
  "cells": [
    {
      "cell_type": "markdown",
      "metadata": {
        "id": "view-in-github",
        "colab_type": "text"
      },
      "source": [
        "<a href=\"https://colab.research.google.com/github/Tomawock/NLP_Attack/blob/main/evaluate_models/DDI_studio_0.ipynb\" target=\"_parent\"><img src=\"https://colab.research.google.com/assets/colab-badge.svg\" alt=\"Open In Colab\"/></a>"
      ]
    },
    {
      "cell_type": "code",
      "metadata": {
        "colab": {
          "base_uri": "https://localhost:8080/"
        },
        "id": "QiMkeY5Y_NZv",
        "outputId": "6ba06792-284e-4c7f-c0e1-3ca2264a69da"
      },
      "source": [
        "from google.colab import drive\n",
        "drive.mount('/content/drive')"
      ],
      "execution_count": null,
      "outputs": [
        {
          "output_type": "stream",
          "text": [
            "Drive already mounted at /content/drive; to attempt to forcibly remount, call drive.mount(\"/content/drive\", force_remount=True).\n"
          ],
          "name": "stdout"
        }
      ]
    },
    {
      "cell_type": "code",
      "metadata": {
        "id": "f2dWPRRvBrOU",
        "colab": {
          "base_uri": "https://localhost:8080/"
        },
        "outputId": "4249ed1a-ad35-45ff-b907-a2e8a1ee7491"
      },
      "source": [
        "!pip install optuna"
      ],
      "execution_count": null,
      "outputs": [
        {
          "output_type": "stream",
          "text": [
            "Requirement already satisfied: optuna in /usr/local/lib/python3.7/dist-packages (2.5.0)\n",
            "Requirement already satisfied: tqdm in /usr/local/lib/python3.7/dist-packages (from optuna) (4.41.1)\n",
            "Requirement already satisfied: scipy!=1.4.0 in /usr/local/lib/python3.7/dist-packages (from optuna) (1.4.1)\n",
            "Requirement already satisfied: sqlalchemy>=1.1.0 in /usr/local/lib/python3.7/dist-packages (from optuna) (1.3.23)\n",
            "Requirement already satisfied: colorlog in /usr/local/lib/python3.7/dist-packages (from optuna) (4.7.2)\n",
            "Requirement already satisfied: alembic in /usr/local/lib/python3.7/dist-packages (from optuna) (1.5.5)\n",
            "Requirement already satisfied: cmaes>=0.6.0 in /usr/local/lib/python3.7/dist-packages (from optuna) (0.8.2)\n",
            "Requirement already satisfied: cliff in /usr/local/lib/python3.7/dist-packages (from optuna) (3.7.0)\n",
            "Requirement already satisfied: packaging>=20.0 in /usr/local/lib/python3.7/dist-packages (from optuna) (20.9)\n",
            "Requirement already satisfied: joblib in /usr/local/lib/python3.7/dist-packages (from optuna) (1.0.1)\n",
            "Requirement already satisfied: numpy in /usr/local/lib/python3.7/dist-packages (from optuna) (1.19.5)\n",
            "Requirement already satisfied: Mako in /usr/local/lib/python3.7/dist-packages (from alembic->optuna) (1.1.4)\n",
            "Requirement already satisfied: python-dateutil in /usr/local/lib/python3.7/dist-packages (from alembic->optuna) (2.8.1)\n",
            "Requirement already satisfied: python-editor>=0.3 in /usr/local/lib/python3.7/dist-packages (from alembic->optuna) (1.0.4)\n",
            "Requirement already satisfied: pbr!=2.1.0,>=2.0.0 in /usr/local/lib/python3.7/dist-packages (from cliff->optuna) (5.5.1)\n",
            "Requirement already satisfied: cmd2>=1.0.0 in /usr/local/lib/python3.7/dist-packages (from cliff->optuna) (1.5.0)\n",
            "Requirement already satisfied: pyparsing>=2.1.0 in /usr/local/lib/python3.7/dist-packages (from cliff->optuna) (2.4.7)\n",
            "Requirement already satisfied: stevedore>=2.0.1 in /usr/local/lib/python3.7/dist-packages (from cliff->optuna) (3.3.0)\n",
            "Requirement already satisfied: PyYAML>=3.12 in /usr/local/lib/python3.7/dist-packages (from cliff->optuna) (3.13)\n",
            "Requirement already satisfied: PrettyTable>=0.7.2 in /usr/local/lib/python3.7/dist-packages (from cliff->optuna) (2.0.0)\n",
            "Requirement already satisfied: MarkupSafe>=0.9.2 in /usr/local/lib/python3.7/dist-packages (from Mako->alembic->optuna) (1.1.1)\n",
            "Requirement already satisfied: six>=1.5 in /usr/local/lib/python3.7/dist-packages (from python-dateutil->alembic->optuna) (1.15.0)\n",
            "Requirement already satisfied: colorama>=0.3.7 in /usr/local/lib/python3.7/dist-packages (from cmd2>=1.0.0->cliff->optuna) (0.4.4)\n",
            "Requirement already satisfied: importlib-metadata>=1.6.0; python_version < \"3.8\" in /usr/local/lib/python3.7/dist-packages (from cmd2>=1.0.0->cliff->optuna) (3.7.0)\n",
            "Requirement already satisfied: attrs>=16.3.0 in /usr/local/lib/python3.7/dist-packages (from cmd2>=1.0.0->cliff->optuna) (20.3.0)\n",
            "Requirement already satisfied: wcwidth>=0.1.7 in /usr/local/lib/python3.7/dist-packages (from cmd2>=1.0.0->cliff->optuna) (0.2.5)\n",
            "Requirement already satisfied: pyperclip>=1.6 in /usr/local/lib/python3.7/dist-packages (from cmd2>=1.0.0->cliff->optuna) (1.8.2)\n",
            "Requirement already satisfied: setuptools in /usr/local/lib/python3.7/dist-packages (from PrettyTable>=0.7.2->cliff->optuna) (53.0.0)\n",
            "Requirement already satisfied: zipp>=0.5 in /usr/local/lib/python3.7/dist-packages (from importlib-metadata>=1.6.0; python_version < \"3.8\"->cmd2>=1.0.0->cliff->optuna) (3.4.0)\n",
            "Requirement already satisfied: typing-extensions>=3.6.4; python_version < \"3.8\" in /usr/local/lib/python3.7/dist-packages (from importlib-metadata>=1.6.0; python_version < \"3.8\"->cmd2>=1.0.0->cliff->optuna) (3.7.4.3)\n"
          ],
          "name": "stdout"
        }
      ]
    },
    {
      "cell_type": "code",
      "metadata": {
        "id": "mAgxUDSD-0pM"
      },
      "source": [
        "import pickle\n",
        "import pandas as pd\n",
        "import optuna\n",
        "import numpy as np\n",
        "from sklearn.preprocessing import OneHotEncoder\n",
        "from tensorflow import keras\n",
        "from sklearn.utils.class_weight import compute_class_weight"
      ],
      "execution_count": null,
      "outputs": []
    },
    {
      "cell_type": "code",
      "metadata": {
        "id": "D_Jt8EmX-IBe"
      },
      "source": [
        "path=\"/content/drive/Shareddrives/Deep Learning/datasets/DDI/\""
      ],
      "execution_count": null,
      "outputs": []
    },
    {
      "cell_type": "code",
      "metadata": {
        "id": "Dm8p2lwD_F5T"
      },
      "source": [
        "dev = pd.read_csv(path+'ddi2013-type/dev.tsv', sep='\\t')\n",
        "test = pd.read_csv(path+'ddi2013-type/test.tsv', sep='\\t')\n",
        "train = pd.read_csv(path+'ddi2013-type/train.tsv', sep='\\t')\n",
        "\n",
        "data_sinonimi = pd.read_csv(path+\"ddi2013-type/DDI_sinonimi.csv\")\n",
        "data_embedding = pd.read_csv(path+\"ddi2013-type/DDI_embedding.csv\")"
      ],
      "execution_count": null,
      "outputs": []
    },
    {
      "cell_type": "code",
      "metadata": {
        "id": "KdpEzJH3AAwb",
        "colab": {
          "base_uri": "https://localhost:8080/"
        },
        "outputId": "5bb6418b-3c36-46ec-89ae-01c723c91b2b"
      },
      "source": [
        "print(train.shape)\n",
        "print(data_sinonimi.shape)\n",
        "print(data_embedding.shape)"
      ],
      "execution_count": null,
      "outputs": [
        {
          "output_type": "stream",
          "text": [
            "(18779, 3)\n",
            "(18779, 3)\n",
            "(18779, 3)\n"
          ],
          "name": "stdout"
        }
      ]
    },
    {
      "cell_type": "code",
      "metadata": {
        "id": "WxqcDbYlANrk",
        "colab": {
          "base_uri": "https://localhost:8080/"
        },
        "outputId": "fa4e97b1-0d2e-406e-ebdd-86d574f01571"
      },
      "source": [
        "print(train.label.value_counts())\n",
        "print(data_sinonimi.label.value_counts())\n",
        "print(data_embedding.label.value_counts())"
      ],
      "execution_count": null,
      "outputs": [
        {
          "output_type": "stream",
          "text": [
            "DDI-false        15842\n",
            "DDI-effect        1212\n",
            "DDI-mechanism      946\n",
            "DDI-advise         633\n",
            "DDI-int            146\n",
            "Name: label, dtype: int64\n",
            "DDI-false        15842\n",
            "DDI-effect        1212\n",
            "DDI-mechanism      946\n",
            "DDI-advise         633\n",
            "DDI-int            146\n",
            "Name: label, dtype: int64\n",
            "DDI-false        15842\n",
            "DDI-effect        1212\n",
            "DDI-mechanism      946\n",
            "DDI-advise         633\n",
            "DDI-int            146\n",
            "Name: label, dtype: int64\n"
          ],
          "name": "stdout"
        }
      ]
    },
    {
      "cell_type": "code",
      "metadata": {
        "id": "Mx5Dywe8E8gx"
      },
      "source": [
        "with open(path+\"word2index.pkl\", 'rb') as output:\n",
        "  w2i = pickle.load(output)\n",
        "with open(path+\"embedding_matrix.pkl\", 'rb') as output:\n",
        "  embedding_matrix = pickle.load(output)"
      ],
      "execution_count": null,
      "outputs": []
    },
    {
      "cell_type": "markdown",
      "metadata": {
        "id": "vv-nI15mvf4N"
      },
      "source": [
        "Set up per allenamento Modello"
      ]
    },
    {
      "cell_type": "code",
      "metadata": {
        "id": "jUcRaXI_5f5i"
      },
      "source": [
        "categories = [['DDI-false', 'DDI-mechanism', 'DDI-effect', 'DDI-advise','DDI-int']]\n",
        "\n",
        "my_text_to_word_sequence = lambda sen: keras.preprocessing.text.text_to_word_sequence(sen,\n",
        "                                                                                      filters='!\"#&()*+,-./:;<=>?[\\\\]^_`\\'{|}~\\t\\n',\n",
        "                                                                                      lower=True)"
      ],
      "execution_count": null,
      "outputs": []
    },
    {
      "cell_type": "markdown",
      "metadata": {
        "id": "iQ_NP5DJ5iDf"
      },
      "source": [
        "TRAINSET"
      ]
    },
    {
      "cell_type": "code",
      "metadata": {
        "id": "5AQtVajZE_Nv"
      },
      "source": [
        "five_hot_train = OneHotEncoder(sparse=False, categories=categories).fit_transform(\n",
        "  train.label.to_numpy().reshape(-1, 1)\n",
        ")"
      ],
      "execution_count": null,
      "outputs": []
    },
    {
      "cell_type": "code",
      "metadata": {
        "id": "HJ7yUd9tFEV6"
      },
      "source": [
        "sentences_train = [my_text_to_word_sequence(sentence) for sentence in train['sentence']]"
      ],
      "execution_count": null,
      "outputs": []
    },
    {
      "cell_type": "markdown",
      "metadata": {
        "id": "vpyi_R0QM9yO"
      },
      "source": [
        "DEVSET"
      ]
    },
    {
      "cell_type": "code",
      "metadata": {
        "id": "I_bOaNrp5-9b"
      },
      "source": [
        "five_hot_dev = OneHotEncoder(sparse=False, categories=categories).fit_transform(\n",
        "  dev.label.to_numpy().reshape(-1, 1)\n",
        ")"
      ],
      "execution_count": null,
      "outputs": []
    },
    {
      "cell_type": "code",
      "metadata": {
        "id": "HtLEyoQX6BME"
      },
      "source": [
        "sentences_dev = [my_text_to_word_sequence(sentence) for sentence in dev['sentence']]"
      ],
      "execution_count": null,
      "outputs": []
    },
    {
      "cell_type": "markdown",
      "metadata": {
        "id": "tP9Ku4JjM_4D"
      },
      "source": [
        "SINONIMI"
      ]
    },
    {
      "cell_type": "code",
      "metadata": {
        "id": "F46YcI6F6DEP"
      },
      "source": [
        "five_hot_sin = OneHotEncoder(sparse=False, categories=categories).fit_transform(\n",
        "  data_sinonimi.label.to_numpy().reshape(-1, 1)\n",
        ")"
      ],
      "execution_count": null,
      "outputs": []
    },
    {
      "cell_type": "code",
      "metadata": {
        "id": "oPjA_DfR6DWX"
      },
      "source": [
        "sentences_sin = [my_text_to_word_sequence(sentence) for sentence in data_sinonimi['sentence']]"
      ],
      "execution_count": null,
      "outputs": []
    },
    {
      "cell_type": "markdown",
      "metadata": {
        "id": "Zw5TZ84dNdNs"
      },
      "source": [
        "EMBEDDING"
      ]
    },
    {
      "cell_type": "code",
      "metadata": {
        "id": "IwCdjTJ-6K6x"
      },
      "source": [
        "five_hot_emb = OneHotEncoder(sparse=False, categories=categories).fit_transform(\n",
        "  data_embedding.label.to_numpy().reshape(-1, 1)\n",
        ")"
      ],
      "execution_count": null,
      "outputs": []
    },
    {
      "cell_type": "code",
      "metadata": {
        "id": "HOzh1rcV6LEl"
      },
      "source": [
        "sentences_emb = [my_text_to_word_sequence(sentence) for sentence in data_embedding['sentence']]"
      ],
      "execution_count": null,
      "outputs": []
    },
    {
      "cell_type": "markdown",
      "metadata": {
        "id": "ZBbI74mh5Vs_"
      },
      "source": [
        "Estrai la massima dimensione dell'input in base ai vari dataset considerati"
      ]
    },
    {
      "cell_type": "code",
      "metadata": {
        "id": "IP3eoSK35U8J"
      },
      "source": [
        "max_index, max = (-1, -1)\n",
        "for i, sentence in enumerate(sentences_train):\n",
        "  max_index, max = (i, len(sentence)) if len(sentence) > max else (max_index, max)\n",
        "for i, sentence in enumerate(sentences_dev):\n",
        "  max_index, max = (i, len(sentence)) if len(sentence) > max else (max_index, max)\n",
        "for i, sentence in enumerate(sentences_sin):\n",
        "  max_index, max = (i, len(sentence)) if len(sentence) > max else (max_index, max)\n",
        "for i, sentence in enumerate(sentences_emb):\n",
        "  max_index, max = (i, len(sentence)) if len(sentence) > max else (max_index, max)\n",
        "  \n",
        "print(f'Il massimo è {max}')"
      ],
      "execution_count": null,
      "outputs": []
    },
    {
      "cell_type": "markdown",
      "metadata": {
        "id": "VmEM1DpJEGtd"
      },
      "source": [
        "Crao i vari embedding per tutti i dataset, quest'operazione e pesante "
      ]
    },
    {
      "cell_type": "code",
      "metadata": {
        "id": "jU4vzy2XFMNw"
      },
      "source": [
        "embedded_trainset = np.zeros(shape=(len(sentences_train), max, 300))\n",
        "for i, sentence in enumerate(sentences_train):\n",
        "  for j, word in enumerate(sentence):\n",
        "    try:\n",
        "      embedded_trainset[i, j, :] = embedding_matrix[w2i[word]]\n",
        "    except KeyError:\n",
        "      pass"
      ],
      "execution_count": null,
      "outputs": []
    },
    {
      "cell_type": "code",
      "metadata": {
        "id": "LzIOhX8XMGS8"
      },
      "source": [
        "embedded_devset = np.zeros(shape=(len(sentences_dev), max, 300))\n",
        "for i, sentence in enumerate(sentences_dev):\n",
        "  for j, word in enumerate(sentence):\n",
        "    try:\n",
        "      embedded_devset[i, j, :] = embedding_matrix[w2i[word]]\n",
        "    except KeyError:\n",
        "      pass"
      ],
      "execution_count": null,
      "outputs": []
    },
    {
      "cell_type": "code",
      "metadata": {
        "id": "d-G-eEVMM_gB"
      },
      "source": [
        "embedded_sininimi = np.zeros(shape=(len(sentences_sin), max, 300))\n",
        "for i, sentence in enumerate(sentences_sin):\n",
        "  for j, word in enumerate(sentence):\n",
        "    try:\n",
        "      embedded_sininimi[i, j, :] = embedding_matrix[w2i[word]]\n",
        "    except KeyError:\n",
        "      pass"
      ],
      "execution_count": null,
      "outputs": []
    },
    {
      "cell_type": "code",
      "metadata": {
        "id": "LR8cp_siNfYB"
      },
      "source": [
        "embedded_emb = np.zeros(shape=(len(sentences_emb), max, 300))\n",
        "for i, sentence in enumerate(sentences_emb):\n",
        "  for j, word in enumerate(sentence):\n",
        "    try:\n",
        "      embedded_emb[i, j, :] = embedding_matrix[w2i[word]]\n",
        "    except KeyError:\n",
        "      pass"
      ],
      "execution_count": null,
      "outputs": []
    },
    {
      "cell_type": "markdown",
      "metadata": {
        "id": "xG87uMvKvm0L"
      },
      "source": [
        "Carica optuna results e inizializza il modello, oppure salva il modello oppure carica solo i pesi del modello "
      ]
    },
    {
      "cell_type": "code",
      "metadata": {
        "id": "b16mA7IuBRrK"
      },
      "source": [
        "best_params = optuna.load_study(study_name=\"DDI\", storage=\"sqlite:///\"+path+\"ddi2013-type/optuna_ddi_studio_0.db\").best_params"
      ],
      "execution_count": null,
      "outputs": []
    },
    {
      "cell_type": "code",
      "metadata": {
        "id": "sMwRMnYDCMSl"
      },
      "source": [
        "print(f'{best_params}')"
      ],
      "execution_count": null,
      "outputs": []
    },
    {
      "cell_type": "code",
      "metadata": {
        "id": "QVMfBNRxCuy6"
      },
      "source": [
        "model = keras.Sequential()\n",
        "model.add(keras.layers.Input(shape=(max, 300)))\n",
        "model.add(keras.layers.Bidirectional(layer=keras.layers.LSTM(units=best_params['units'],\n",
        "                                                             recurrent_dropout=best_params['dropout'],\n",
        "                                                             activation='tanh')))\n",
        "\n",
        "model.add(keras.layers.Dense(5, activation='softmax'))\n",
        "model.compile(loss='categorical_crossentropy',\n",
        "              optimizer=keras.optimizers.Adam(learning_rate=0.001),\n",
        "              metrics=['accuracy'])"
      ],
      "execution_count": null,
      "outputs": []
    },
    {
      "cell_type": "code",
      "metadata": {
        "id": "jxDADamsukZM"
      },
      "source": [
        "#train the model\n",
        "result = model.fit(embedded_trainset,\n",
        "                   five_hot_train,\n",
        "                   epochs=100,\n",
        "                   batch_size=best_params['batch_size'],\n",
        "                   callbacks=[keras.callbacks.EarlyStopping(monitor='loss',\n",
        "                                                            patience=10)])"
      ],
      "execution_count": null,
      "outputs": []
    },
    {
      "cell_type": "code",
      "metadata": {
        "id": "xToowkfEKSeV"
      },
      "source": [
        "#save the model\n",
        "model.save_weights(path+'ddi2013-type/DDI_w_studio_0.h5')"
      ],
      "execution_count": null,
      "outputs": []
    },
    {
      "cell_type": "code",
      "metadata": {
        "id": "ouXacnu3rxOj"
      },
      "source": [
        "#load only the w of the model, the model must be already executed\n",
        "model.load_weights(path+'ddi2013-type/DDI_w_studio_0.h5')"
      ],
      "execution_count": null,
      "outputs": []
    },
    {
      "cell_type": "markdown",
      "metadata": {
        "id": "MewUJ5gCPEmC"
      },
      "source": [
        "EVALUATE ALL DATASET"
      ]
    },
    {
      "cell_type": "code",
      "metadata": {
        "id": "-3nWACJzvHyD"
      },
      "source": [
        "result_base=model.evaluate(embedded_trainset,five_hot_train)\n",
        "print(f'DATASET ORIGINARIO{result_base}')"
      ],
      "execution_count": null,
      "outputs": []
    },
    {
      "cell_type": "code",
      "metadata": {
        "id": "gjcdAwqeOi7r"
      },
      "source": [
        "result_base=model.evaluate(embedded_devset,five_hot_dev)\n",
        "print(f'DATASET DEV{result_base}')"
      ],
      "execution_count": null,
      "outputs": []
    },
    {
      "cell_type": "code",
      "metadata": {
        "id": "BuaVK__WOjDW"
      },
      "source": [
        "result_base=model.evaluate(embedded_sininimi,five_hot_sin)\n",
        "print(f'DATASET SINONIMI{result_base}')"
      ],
      "execution_count": null,
      "outputs": []
    },
    {
      "cell_type": "code",
      "metadata": {
        "id": "_JgLKE2bOjLL"
      },
      "source": [
        "result_base=model.evaluate(embedded_emb,five_hot_emb)\n",
        "print(f'DATASET EMBEDDING{result_base}')"
      ],
      "execution_count": null,
      "outputs": []
    }
  ]
}