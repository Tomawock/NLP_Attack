{
  "nbformat": 4,
  "nbformat_minor": 0,
  "metadata": {
    "colab": {
      "name": "ATE_base_model_optuna_analysis.ipynb",
      "provenance": [],
      "authorship_tag": "ABX9TyPUkBVYrJoP9G5GlzNB5/8+",
      "include_colab_link": true
    },
    "kernelspec": {
      "name": "python3",
      "display_name": "Python 3"
    }
  },
  "cells": [
    {
      "cell_type": "markdown",
      "metadata": {
        "id": "view-in-github",
        "colab_type": "text"
      },
      "source": [
        "<a href=\"https://colab.research.google.com/github/Tomawock/NLP_Attack/blob/main/evaluate_models/ATE_base_model_optuna_analysis.ipynb\" target=\"_parent\"><img src=\"https://colab.research.google.com/assets/colab-badge.svg\" alt=\"Open In Colab\"/></a>"
      ]
    },
    {
      "cell_type": "code",
      "metadata": {
        "id": "w7Xjzm1ToXpL",
        "outputId": "3c9872fa-58a8-4719-b772-69bfacfc6593",
        "colab": {
          "base_uri": "https://localhost:8080/"
        }
      },
      "source": [
        "from google.colab import drive\n",
        "drive.mount('/content/drive')"
      ],
      "execution_count": 1,
      "outputs": [
        {
          "output_type": "stream",
          "text": [
            "Mounted at /content/drive\n"
          ],
          "name": "stdout"
        }
      ]
    },
    {
      "cell_type": "code",
      "metadata": {
        "id": "cK6PUo3gn18v",
        "outputId": "aba98530-4632-4e9b-b0ce-949d543d6f96",
        "colab": {
          "base_uri": "https://localhost:8080/"
        }
      },
      "source": [
        "!pip install optuna"
      ],
      "execution_count": 2,
      "outputs": [
        {
          "output_type": "stream",
          "text": [
            "Collecting optuna\n",
            "\u001b[?25l  Downloading https://files.pythonhosted.org/packages/91/88/9c53460b97c61bce926dfe9dce51e4887c283416ff89ed30af0b73f44efa/optuna-2.5.0-py3-none-any.whl (287kB)\n",
            "\r\u001b[K     |█▏                              | 10kB 12.8MB/s eta 0:00:01\r\u001b[K     |██▎                             | 20kB 18.4MB/s eta 0:00:01\r\u001b[K     |███▍                            | 30kB 10.7MB/s eta 0:00:01\r\u001b[K     |████▋                           | 40kB 9.0MB/s eta 0:00:01\r\u001b[K     |█████▊                          | 51kB 9.6MB/s eta 0:00:01\r\u001b[K     |██████▉                         | 61kB 9.6MB/s eta 0:00:01\r\u001b[K     |████████                        | 71kB 8.5MB/s eta 0:00:01\r\u001b[K     |█████████▏                      | 81kB 9.2MB/s eta 0:00:01\r\u001b[K     |██████████▎                     | 92kB 8.6MB/s eta 0:00:01\r\u001b[K     |███████████▍                    | 102kB 9.0MB/s eta 0:00:01\r\u001b[K     |████████████▌                   | 112kB 9.0MB/s eta 0:00:01\r\u001b[K     |█████████████▊                  | 122kB 9.0MB/s eta 0:00:01\r\u001b[K     |██████████████▉                 | 133kB 9.0MB/s eta 0:00:01\r\u001b[K     |████████████████                | 143kB 9.0MB/s eta 0:00:01\r\u001b[K     |█████████████████               | 153kB 9.0MB/s eta 0:00:01\r\u001b[K     |██████████████████▎             | 163kB 9.0MB/s eta 0:00:01\r\u001b[K     |███████████████████▍            | 174kB 9.0MB/s eta 0:00:01\r\u001b[K     |████████████████████▌           | 184kB 9.0MB/s eta 0:00:01\r\u001b[K     |█████████████████████▋          | 194kB 9.0MB/s eta 0:00:01\r\u001b[K     |██████████████████████▉         | 204kB 9.0MB/s eta 0:00:01\r\u001b[K     |████████████████████████        | 215kB 9.0MB/s eta 0:00:01\r\u001b[K     |█████████████████████████       | 225kB 9.0MB/s eta 0:00:01\r\u001b[K     |██████████████████████████▎     | 235kB 9.0MB/s eta 0:00:01\r\u001b[K     |███████████████████████████▍    | 245kB 9.0MB/s eta 0:00:01\r\u001b[K     |████████████████████████████▌   | 256kB 9.0MB/s eta 0:00:01\r\u001b[K     |█████████████████████████████▋  | 266kB 9.0MB/s eta 0:00:01\r\u001b[K     |██████████████████████████████▉ | 276kB 9.0MB/s eta 0:00:01\r\u001b[K     |████████████████████████████████| 286kB 9.0MB/s eta 0:00:01\r\u001b[K     |████████████████████████████████| 296kB 9.0MB/s \n",
            "\u001b[?25hRequirement already satisfied: joblib in /usr/local/lib/python3.7/dist-packages (from optuna) (1.0.1)\n",
            "Requirement already satisfied: packaging>=20.0 in /usr/local/lib/python3.7/dist-packages (from optuna) (20.9)\n",
            "Requirement already satisfied: sqlalchemy>=1.1.0 in /usr/local/lib/python3.7/dist-packages (from optuna) (1.3.23)\n",
            "Collecting cmaes>=0.6.0\n",
            "  Downloading https://files.pythonhosted.org/packages/01/1f/43b01223a0366171f474320c6e966c39a11587287f098a5f09809b45e05f/cmaes-0.8.2-py3-none-any.whl\n",
            "Collecting colorlog\n",
            "  Downloading https://files.pythonhosted.org/packages/5e/39/0230290df0519d528d8d0ffdfd900150ed24e0076d13b1f19e279444aab1/colorlog-4.7.2-py2.py3-none-any.whl\n",
            "Requirement already satisfied: tqdm in /usr/local/lib/python3.7/dist-packages (from optuna) (4.41.1)\n",
            "Collecting alembic\n",
            "\u001b[?25l  Downloading https://files.pythonhosted.org/packages/8e/07/799a76aca0acd406e3259cc6c558ca1cdadf88250953b6c8105b421a9e33/alembic-1.5.5.tar.gz (1.2MB)\n",
            "\u001b[K     |████████████████████████████████| 1.2MB 15.2MB/s \n",
            "\u001b[?25hCollecting cliff\n",
            "\u001b[?25l  Downloading https://files.pythonhosted.org/packages/a2/d6/7d9acb68a77acd140be7fececb7f2701b2a29d2da9c54184cb8f93509590/cliff-3.7.0-py3-none-any.whl (80kB)\n",
            "\u001b[K     |████████████████████████████████| 81kB 8.0MB/s \n",
            "\u001b[?25hRequirement already satisfied: numpy in /usr/local/lib/python3.7/dist-packages (from optuna) (1.19.5)\n",
            "Requirement already satisfied: scipy!=1.4.0 in /usr/local/lib/python3.7/dist-packages (from optuna) (1.4.1)\n",
            "Requirement already satisfied: pyparsing>=2.0.2 in /usr/local/lib/python3.7/dist-packages (from packaging>=20.0->optuna) (2.4.7)\n",
            "Collecting Mako\n",
            "\u001b[?25l  Downloading https://files.pythonhosted.org/packages/5c/db/2d2d88b924aa4674a080aae83b59ea19d593250bfe5ed789947c21736785/Mako-1.1.4.tar.gz (479kB)\n",
            "\u001b[K     |████████████████████████████████| 481kB 41.3MB/s \n",
            "\u001b[?25hCollecting python-editor>=0.3\n",
            "  Downloading https://files.pythonhosted.org/packages/c6/d3/201fc3abe391bbae6606e6f1d598c15d367033332bd54352b12f35513717/python_editor-1.0.4-py3-none-any.whl\n",
            "Requirement already satisfied: python-dateutil in /usr/local/lib/python3.7/dist-packages (from alembic->optuna) (2.8.1)\n",
            "Requirement already satisfied: PyYAML>=3.12 in /usr/local/lib/python3.7/dist-packages (from cliff->optuna) (3.13)\n",
            "Collecting pbr!=2.1.0,>=2.0.0\n",
            "\u001b[?25l  Downloading https://files.pythonhosted.org/packages/fb/48/69046506f6ac61c1eaa9a0d42d22d54673b69e176d30ca98e3f61513e980/pbr-5.5.1-py2.py3-none-any.whl (106kB)\n",
            "\u001b[K     |████████████████████████████████| 112kB 40.4MB/s \n",
            "\u001b[?25hCollecting stevedore>=2.0.1\n",
            "\u001b[?25l  Downloading https://files.pythonhosted.org/packages/d4/49/b602307aeac3df3384ff1fcd05da9c0376c622a6c48bb5325f28ab165b57/stevedore-3.3.0-py3-none-any.whl (49kB)\n",
            "\u001b[K     |████████████████████████████████| 51kB 4.9MB/s \n",
            "\u001b[?25hRequirement already satisfied: PrettyTable>=0.7.2 in /usr/local/lib/python3.7/dist-packages (from cliff->optuna) (2.0.0)\n",
            "Collecting cmd2>=1.0.0\n",
            "\u001b[?25l  Downloading https://files.pythonhosted.org/packages/15/8b/15061b32332bb35ea2a2f6263d0f616779d576e82739ec8e7fcf3c94abf5/cmd2-1.5.0-py3-none-any.whl (133kB)\n",
            "\u001b[K     |████████████████████████████████| 143kB 34.0MB/s \n",
            "\u001b[?25hRequirement already satisfied: MarkupSafe>=0.9.2 in /usr/local/lib/python3.7/dist-packages (from Mako->alembic->optuna) (1.1.1)\n",
            "Requirement already satisfied: six>=1.5 in /usr/local/lib/python3.7/dist-packages (from python-dateutil->alembic->optuna) (1.15.0)\n",
            "Requirement already satisfied: importlib-metadata>=1.7.0; python_version < \"3.8\" in /usr/local/lib/python3.7/dist-packages (from stevedore>=2.0.1->cliff->optuna) (3.7.0)\n",
            "Requirement already satisfied: wcwidth in /usr/local/lib/python3.7/dist-packages (from PrettyTable>=0.7.2->cliff->optuna) (0.2.5)\n",
            "Requirement already satisfied: setuptools in /usr/local/lib/python3.7/dist-packages (from PrettyTable>=0.7.2->cliff->optuna) (53.0.0)\n",
            "Collecting colorama>=0.3.7\n",
            "  Downloading https://files.pythonhosted.org/packages/44/98/5b86278fbbf250d239ae0ecb724f8572af1c91f4a11edf4d36a206189440/colorama-0.4.4-py2.py3-none-any.whl\n",
            "Requirement already satisfied: attrs>=16.3.0 in /usr/local/lib/python3.7/dist-packages (from cmd2>=1.0.0->cliff->optuna) (20.3.0)\n",
            "Collecting pyperclip>=1.6\n",
            "  Downloading https://files.pythonhosted.org/packages/a7/2c/4c64579f847bd5d539803c8b909e54ba087a79d01bb3aba433a95879a6c5/pyperclip-1.8.2.tar.gz\n",
            "Requirement already satisfied: typing-extensions>=3.6.4; python_version < \"3.8\" in /usr/local/lib/python3.7/dist-packages (from importlib-metadata>=1.7.0; python_version < \"3.8\"->stevedore>=2.0.1->cliff->optuna) (3.7.4.3)\n",
            "Requirement already satisfied: zipp>=0.5 in /usr/local/lib/python3.7/dist-packages (from importlib-metadata>=1.7.0; python_version < \"3.8\"->stevedore>=2.0.1->cliff->optuna) (3.4.0)\n",
            "Building wheels for collected packages: alembic, Mako, pyperclip\n",
            "  Building wheel for alembic (setup.py) ... \u001b[?25l\u001b[?25hdone\n",
            "  Created wheel for alembic: filename=alembic-1.5.5-py2.py3-none-any.whl size=156597 sha256=0659f4d8a59d045b10efcabe92ef284feba6fdf1f12d0cce636416b29872cb66\n",
            "  Stored in directory: /root/.cache/pip/wheels/74/3f/61/7de6e3cef766d2680a5d81b1a388286e640f6a681eb589d643\n",
            "  Building wheel for Mako (setup.py) ... \u001b[?25l\u001b[?25hdone\n",
            "  Created wheel for Mako: filename=Mako-1.1.4-py2.py3-none-any.whl size=75675 sha256=f3dd8dffdc172e8589e1bfac5481a97afecb91313bd28a2277f7b07233dadafe\n",
            "  Stored in directory: /root/.cache/pip/wheels/ad/10/d3/aeb26e20d19045e2a68e5d3cbb57432e11b5d9c92c99f98d47\n",
            "  Building wheel for pyperclip (setup.py) ... \u001b[?25l\u001b[?25hdone\n",
            "  Created wheel for pyperclip: filename=pyperclip-1.8.2-cp37-none-any.whl size=11107 sha256=1b2489e24e2d6eafa98234dbcbf72c4ea1322cd18f774e59d2bcd0fdf76ba56f\n",
            "  Stored in directory: /root/.cache/pip/wheels/25/af/b8/3407109267803f4015e1ee2ff23be0c8c19ce4008665931ee1\n",
            "Successfully built alembic Mako pyperclip\n",
            "Installing collected packages: cmaes, colorlog, Mako, python-editor, alembic, pbr, stevedore, colorama, pyperclip, cmd2, cliff, optuna\n",
            "Successfully installed Mako-1.1.4 alembic-1.5.5 cliff-3.7.0 cmaes-0.8.2 cmd2-1.5.0 colorama-0.4.4 colorlog-4.7.2 optuna-2.5.0 pbr-5.5.1 pyperclip-1.8.2 python-editor-1.0.4 stevedore-3.3.0\n"
          ],
          "name": "stdout"
        }
      ]
    },
    {
      "cell_type": "code",
      "metadata": {
        "id": "X8y3dpQpo85M"
      },
      "source": [
        "import optuna"
      ],
      "execution_count": 3,
      "outputs": []
    },
    {
      "cell_type": "markdown",
      "metadata": {
        "id": "iSmUwh4moqdd"
      },
      "source": [
        "Load the study from diive"
      ]
    },
    {
      "cell_type": "code",
      "metadata": {
        "id": "33mbPVglogon"
      },
      "source": [
        "ate_study = optuna.load_study(study_name=\"ATE\", storage=\"sqlite:////content/drive/Shareddrives/Deep Learning/datasets/ATE_ABSITA/optuna_ATE_studio_0.db\")"
      ],
      "execution_count": 6,
      "outputs": []
    },
    {
      "cell_type": "markdown",
      "metadata": {
        "id": "oUjbWjcCq5Li"
      },
      "source": [
        "grafici andamento optuna"
      ]
    },
    {
      "cell_type": "code",
      "metadata": {
        "colab": {
          "base_uri": "https://localhost:8080/",
          "height": 542
        },
        "id": "CItJqFhyqqnG",
        "outputId": "236fcc57-1c9a-4f10-e69e-5c279237f76d"
      },
      "source": [
        "optuna.visualization.plot_optimization_history(ate_study)"
      ],
      "execution_count": null,
      "outputs": [
        {
          "output_type": "display_data",
          "data": {
            "text/html": [
              "<html>\n",
              "<head><meta charset=\"utf-8\" /></head>\n",
              "<body>\n",
              "    <div>\n",
              "            <script src=\"https://cdnjs.cloudflare.com/ajax/libs/mathjax/2.7.5/MathJax.js?config=TeX-AMS-MML_SVG\"></script><script type=\"text/javascript\">if (window.MathJax) {MathJax.Hub.Config({SVG: {font: \"STIX-Web\"}});}</script>\n",
              "                <script type=\"text/javascript\">window.PlotlyConfig = {MathJaxConfig: 'local'};</script>\n",
              "        <script src=\"https://cdn.plot.ly/plotly-latest.min.js\"></script>    \n",
              "            <div id=\"eb047d62-46bc-4f14-ab1c-bd8f099096a6\" class=\"plotly-graph-div\" style=\"height:525px; width:100%;\"></div>\n",
              "            <script type=\"text/javascript\">\n",
              "                \n",
              "                    window.PLOTLYENV=window.PLOTLYENV || {};\n",
              "                    \n",
              "                if (document.getElementById(\"eb047d62-46bc-4f14-ab1c-bd8f099096a6\")) {\n",
              "                    Plotly.newPlot(\n",
              "                        'eb047d62-46bc-4f14-ab1c-bd8f099096a6',\n",
              "                        [{\"mode\": \"markers\", \"name\": \"Objective Value\", \"type\": \"scatter\", \"x\": [0, 1, 2, 3, 4, 5, 6, 7, 8, 9, 10, 11, 12, 13, 14, 15, 16, 17, 18, 19, 20, 21, 22, 23, 24, 25, 26, 27, 28, 29, 30, 31, 32, 33, 34, 35, 36, 37, 38, 39, 40, 41, 42, 43, 44, 45, 46, 47, 48, 49, 50, 51, 52, 53, 54, 55, 56, 57, 58, 59, 60, 61, 62, 63, 64, 65, 66, 67, 68, 69, 70, 71, 72, 73, 74, 75, 76, 77, 78, 79, 80, 81, 82, 83, 84, 85, 86, 87, 88, 89, 90, 91, 92, 93, 94, 95, 96, 97, 98, 99, 100, 101, 102, 103, 104, 105, 106, 107, 108, 109, 110, 111, 112, 113, 114, 115, 116, 117, 118, 119, 120, 121, 122, 123, 124, 125, 126, 127, 128, 129, 130, 131, 132, 133, 134, 135, 136, 137, 138, 139, 140, 141, 142, 143, 144, 145, 146, 147, 148, 149, 150, 151, 152, 153, 154, 155, 156, 157, 158, 159, 160, 161, 162, 163, 164, 165, 166, 167, 168, 169, 170, 171, 172, 173, 174, 175, 176, 177, 178, 179, 180, 181, 182, 183, 184, 185, 186, 187, 188, 189, 190, 191, 192, 193, 194, 195, 196, 197, 198, 199], \"y\": [0.9852652549743652, 0.9816634058952332, 0.984282910823822, 0.9898493885993958, 0.9823182821273804, 0.9816634058952332, 0.9711853265762329, 0.9675834774971008, 0.9888670444488525, 0.9882121682167053, 0.9836280345916748, 0.9960707426071167, 0.9954158663749695, 0.993778645992279, 0.9823182821273804, 0.9908316731452942, 0.9931237697601318, 0.9813359379768372, 0.9895219206809998, 0.9793713092803955, 0.9947609901428223, 0.9859201312065125, 0.9895219206809998, 0.9957432746887207, 0.9963981509208679, 0.993778645992279, 0.9947609901428223, 0.9947609901428223, 0.9882121682167053, 0.9885396361351013, 0.9963981509208679, 0.9760969281196594, 0.9767518043518066, 0.9947609901428223, 0.9967256188392639, 0.9960707426071167, 0.9970530271530151, 0.9970530271530151, 0.9963981509208679, 0.9918140172958374, 0.9908316731452942, 0.9963981509208679, 0.9908316731452942, 0.9764243364334106, 0.9970530271530151, 0.9947609901428223, 0.9960707426071167, 0.9774066805839539, 0.9924688935279846, 0.9967256188392639, 0.9960707426071167, 0.9963981509208679, 0.9950883984565735, 0.9950883984565735, 0.9931237697601318, 0.9924688935279846, 0.9944335222244263, 0.9927963614463806, 0.9960707426071167, 0.9957432746887207, 0.9954158663749695, 0.9960707426071167, 0.9960707426071167, 0.990176796913147, 0.9908316731452942, 0.9957432746887207, 0.9934512376785278, 0.9973804950714111, 0.9970530271530151, 0.9967256188392639, 0.9963981509208679, 0.9931237697601318, 0.9970530271530151, 0.9967256188392639, 0.9908316731452942, 0.9931237697601318, 0.9954158663749695, 0.9957432746887207, 0.993778645992279, 0.9898493885993958, 0.993778645992279, 0.9908316731452942, 0.9967256188392639, 0.9967256188392639, 0.9967256188392639, 0.9963981509208679, 0.9927963614463806, 0.9954158663749695, 0.9957432746887207, 0.9954158663749695, 0.9924688935279846, 0.9967256188392639, 0.9957432746887207, 0.9967256188392639, 0.9970530271530151, 0.993778645992279, 0.9950883984565735, 0.9950883984565735, 0.9963981509208679, 0.9957432746887207, 0.984282910823822, 0.9950883984565735, 0.9960707426071167, 0.9970530271530151, 0.9970530271530151, 0.9973804950714111, 0.9954158663749695, 0.9760969281196594, 0.9977079033851624, 0.9950883984565735, 0.9960707426071167, 0.9970530271530151, 0.9970530271530151, 0.994106113910675, 0.9957432746887207, 0.9957432746887207, 0.9963981509208679, 0.9950883984565735, 0.9954158663749695, 0.9970530271530151, 0.983955442905426, 0.9967256188392639, 0.9957432746887207, 0.9944335222244263, 0.9944335222244263, 0.9950883984565735, 0.9954158663749695, 0.9970530271530151, 0.9957432746887207, 0.9092992544174194, 0.9960707426071167, 0.9921414256095886, 0.9914865493774414, 0.9783890247344971, 0.993778645992279, 0.9934512376785278, 0.9875572919845581, 0.9977079033851624, 0.9973804950714111, 0.9914865493774414, 0.9970530271530151, 0.994106113910675, 0.9967256188392639, 0.9911591410636902, 0.9957432746887207, 0.993778645992279, 0.9963981509208679, 0.9960707426071167, 0.9973804950714111, 0.9967256188392639, 0.9967256188392639, 0.9973804950714111, 0.9960707426071167, 0.9954158663749695, 0.9950883984565735, 0.9960707426071167, 0.9957432746887207, 0.9924688935279846, 0.9967256188392639, 0.9957432746887207, 0.9967256188392639, 0.9960707426071167, 0.9967256188392639, 0.9967256188392639, 0.9947609901428223, 0.9970530271530151, 0.9954158663749695, 0.9973804950714111, 0.9924688935279846, 0.9957432746887207, 0.994106113910675, 0.9963981509208679, 0.9977079033851624, 0.9973804950714111, 0.9967256188392639, 0.9921414256095886, 0.9875572919845581, 0.9977079033851624, 0.9960707426071167, 0.9970530271530151, 0.993778645992279, 0.9957432746887207, 0.9950883984565735, 0.9970530271530151, 0.9954158663749695, 0.9957432746887207, 0.9977079033851624, 0.9957432746887207, 0.9970530271530151, 0.9977079033851624, 0.9963981509208679, 0.9977079033851624, 0.9967256188392639, 0.9967256188392639, 0.9973804950714111, 0.9973804950714111, 0.9908316731452942, 0.9977079033851624, 0.9973804950714111, 0.9973804950714111]}, {\"name\": \"Best Value\", \"type\": \"scatter\", \"x\": [0, 1, 2, 3, 4, 5, 6, 7, 8, 9, 10, 11, 12, 13, 14, 15, 16, 17, 18, 19, 20, 21, 22, 23, 24, 25, 26, 27, 28, 29, 30, 31, 32, 33, 34, 35, 36, 37, 38, 39, 40, 41, 42, 43, 44, 45, 46, 47, 48, 49, 50, 51, 52, 53, 54, 55, 56, 57, 58, 59, 60, 61, 62, 63, 64, 65, 66, 67, 68, 69, 70, 71, 72, 73, 74, 75, 76, 77, 78, 79, 80, 81, 82, 83, 84, 85, 86, 87, 88, 89, 90, 91, 92, 93, 94, 95, 96, 97, 98, 99, 100, 101, 102, 103, 104, 105, 106, 107, 108, 109, 110, 111, 112, 113, 114, 115, 116, 117, 118, 119, 120, 121, 122, 123, 124, 125, 126, 127, 128, 129, 130, 131, 132, 133, 134, 135, 136, 137, 138, 139, 140, 141, 142, 143, 144, 145, 146, 147, 148, 149, 150, 151, 152, 153, 154, 155, 156, 157, 158, 159, 160, 161, 162, 163, 164, 165, 166, 167, 168, 169, 170, 171, 172, 173, 174, 175, 176, 177, 178, 179, 180, 181, 182, 183, 184, 185, 186, 187, 188, 189, 190, 191, 192, 193, 194, 195, 196, 197, 198, 199], \"y\": [0.9852652549743652, 0.9852652549743652, 0.9852652549743652, 0.9898493885993958, 0.9898493885993958, 0.9898493885993958, 0.9898493885993958, 0.9898493885993958, 0.9898493885993958, 0.9898493885993958, 0.9898493885993958, 0.9960707426071167, 0.9960707426071167, 0.9960707426071167, 0.9960707426071167, 0.9960707426071167, 0.9960707426071167, 0.9960707426071167, 0.9960707426071167, 0.9960707426071167, 0.9960707426071167, 0.9960707426071167, 0.9960707426071167, 0.9960707426071167, 0.9963981509208679, 0.9963981509208679, 0.9963981509208679, 0.9963981509208679, 0.9963981509208679, 0.9963981509208679, 0.9963981509208679, 0.9963981509208679, 0.9963981509208679, 0.9963981509208679, 0.9967256188392639, 0.9967256188392639, 0.9970530271530151, 0.9970530271530151, 0.9970530271530151, 0.9970530271530151, 0.9970530271530151, 0.9970530271530151, 0.9970530271530151, 0.9970530271530151, 0.9970530271530151, 0.9970530271530151, 0.9970530271530151, 0.9970530271530151, 0.9970530271530151, 0.9970530271530151, 0.9970530271530151, 0.9970530271530151, 0.9970530271530151, 0.9970530271530151, 0.9970530271530151, 0.9970530271530151, 0.9970530271530151, 0.9970530271530151, 0.9970530271530151, 0.9970530271530151, 0.9970530271530151, 0.9970530271530151, 0.9970530271530151, 0.9970530271530151, 0.9970530271530151, 0.9970530271530151, 0.9970530271530151, 0.9973804950714111, 0.9973804950714111, 0.9973804950714111, 0.9973804950714111, 0.9973804950714111, 0.9973804950714111, 0.9973804950714111, 0.9973804950714111, 0.9973804950714111, 0.9973804950714111, 0.9973804950714111, 0.9973804950714111, 0.9973804950714111, 0.9973804950714111, 0.9973804950714111, 0.9973804950714111, 0.9973804950714111, 0.9973804950714111, 0.9973804950714111, 0.9973804950714111, 0.9973804950714111, 0.9973804950714111, 0.9973804950714111, 0.9973804950714111, 0.9973804950714111, 0.9973804950714111, 0.9973804950714111, 0.9973804950714111, 0.9973804950714111, 0.9973804950714111, 0.9973804950714111, 0.9973804950714111, 0.9973804950714111, 0.9973804950714111, 0.9973804950714111, 0.9973804950714111, 0.9973804950714111, 0.9973804950714111, 0.9973804950714111, 0.9973804950714111, 0.9973804950714111, 0.9977079033851624, 0.9977079033851624, 0.9977079033851624, 0.9977079033851624, 0.9977079033851624, 0.9977079033851624, 0.9977079033851624, 0.9977079033851624, 0.9977079033851624, 0.9977079033851624, 0.9977079033851624, 0.9977079033851624, 0.9977079033851624, 0.9977079033851624, 0.9977079033851624, 0.9977079033851624, 0.9977079033851624, 0.9977079033851624, 0.9977079033851624, 0.9977079033851624, 0.9977079033851624, 0.9977079033851624, 0.9977079033851624, 0.9977079033851624, 0.9977079033851624, 0.9977079033851624, 0.9977079033851624, 0.9977079033851624, 0.9977079033851624, 0.9977079033851624, 0.9977079033851624, 0.9977079033851624, 0.9977079033851624, 0.9977079033851624, 0.9977079033851624, 0.9977079033851624, 0.9977079033851624, 0.9977079033851624, 0.9977079033851624, 0.9977079033851624, 0.9977079033851624, 0.9977079033851624, 0.9977079033851624, 0.9977079033851624, 0.9977079033851624, 0.9977079033851624, 0.9977079033851624, 0.9977079033851624, 0.9977079033851624, 0.9977079033851624, 0.9977079033851624, 0.9977079033851624, 0.9977079033851624, 0.9977079033851624, 0.9977079033851624, 0.9977079033851624, 0.9977079033851624, 0.9977079033851624, 0.9977079033851624, 0.9977079033851624, 0.9977079033851624, 0.9977079033851624, 0.9977079033851624, 0.9977079033851624, 0.9977079033851624, 0.9977079033851624, 0.9977079033851624, 0.9977079033851624, 0.9977079033851624, 0.9977079033851624, 0.9977079033851624, 0.9977079033851624, 0.9977079033851624, 0.9977079033851624, 0.9977079033851624, 0.9977079033851624, 0.9977079033851624, 0.9977079033851624, 0.9977079033851624, 0.9977079033851624, 0.9977079033851624, 0.9977079033851624, 0.9977079033851624, 0.9977079033851624, 0.9977079033851624, 0.9977079033851624, 0.9977079033851624, 0.9977079033851624, 0.9977079033851624, 0.9977079033851624, 0.9977079033851624, 0.9977079033851624]}],\n",
              "                        {\"template\": {\"data\": {\"bar\": [{\"error_x\": {\"color\": \"#2a3f5f\"}, \"error_y\": {\"color\": \"#2a3f5f\"}, \"marker\": {\"line\": {\"color\": \"#E5ECF6\", \"width\": 0.5}}, \"type\": \"bar\"}], \"barpolar\": [{\"marker\": {\"line\": {\"color\": \"#E5ECF6\", \"width\": 0.5}}, \"type\": \"barpolar\"}], \"carpet\": [{\"aaxis\": {\"endlinecolor\": \"#2a3f5f\", \"gridcolor\": \"white\", \"linecolor\": \"white\", \"minorgridcolor\": \"white\", \"startlinecolor\": \"#2a3f5f\"}, \"baxis\": {\"endlinecolor\": \"#2a3f5f\", \"gridcolor\": \"white\", \"linecolor\": \"white\", \"minorgridcolor\": \"white\", \"startlinecolor\": \"#2a3f5f\"}, \"type\": \"carpet\"}], \"choropleth\": [{\"colorbar\": {\"outlinewidth\": 0, \"ticks\": \"\"}, \"type\": \"choropleth\"}], \"contour\": [{\"colorbar\": {\"outlinewidth\": 0, \"ticks\": \"\"}, \"colorscale\": [[0.0, \"#0d0887\"], [0.1111111111111111, \"#46039f\"], [0.2222222222222222, \"#7201a8\"], [0.3333333333333333, \"#9c179e\"], [0.4444444444444444, \"#bd3786\"], [0.5555555555555556, \"#d8576b\"], [0.6666666666666666, \"#ed7953\"], [0.7777777777777778, \"#fb9f3a\"], [0.8888888888888888, \"#fdca26\"], [1.0, \"#f0f921\"]], \"type\": \"contour\"}], \"contourcarpet\": [{\"colorbar\": {\"outlinewidth\": 0, \"ticks\": \"\"}, \"type\": \"contourcarpet\"}], \"heatmap\": [{\"colorbar\": {\"outlinewidth\": 0, \"ticks\": \"\"}, \"colorscale\": [[0.0, \"#0d0887\"], [0.1111111111111111, \"#46039f\"], [0.2222222222222222, \"#7201a8\"], [0.3333333333333333, \"#9c179e\"], [0.4444444444444444, \"#bd3786\"], [0.5555555555555556, \"#d8576b\"], [0.6666666666666666, \"#ed7953\"], [0.7777777777777778, \"#fb9f3a\"], [0.8888888888888888, \"#fdca26\"], [1.0, \"#f0f921\"]], \"type\": \"heatmap\"}], \"heatmapgl\": [{\"colorbar\": {\"outlinewidth\": 0, \"ticks\": \"\"}, \"colorscale\": [[0.0, \"#0d0887\"], [0.1111111111111111, \"#46039f\"], [0.2222222222222222, \"#7201a8\"], [0.3333333333333333, \"#9c179e\"], [0.4444444444444444, \"#bd3786\"], [0.5555555555555556, \"#d8576b\"], [0.6666666666666666, \"#ed7953\"], [0.7777777777777778, \"#fb9f3a\"], [0.8888888888888888, \"#fdca26\"], [1.0, \"#f0f921\"]], \"type\": \"heatmapgl\"}], \"histogram\": [{\"marker\": {\"colorbar\": {\"outlinewidth\": 0, \"ticks\": \"\"}}, \"type\": \"histogram\"}], \"histogram2d\": [{\"colorbar\": {\"outlinewidth\": 0, \"ticks\": \"\"}, \"colorscale\": [[0.0, \"#0d0887\"], [0.1111111111111111, \"#46039f\"], [0.2222222222222222, \"#7201a8\"], [0.3333333333333333, \"#9c179e\"], [0.4444444444444444, \"#bd3786\"], [0.5555555555555556, \"#d8576b\"], [0.6666666666666666, \"#ed7953\"], [0.7777777777777778, \"#fb9f3a\"], [0.8888888888888888, \"#fdca26\"], [1.0, \"#f0f921\"]], \"type\": \"histogram2d\"}], \"histogram2dcontour\": [{\"colorbar\": {\"outlinewidth\": 0, \"ticks\": \"\"}, \"colorscale\": [[0.0, \"#0d0887\"], [0.1111111111111111, \"#46039f\"], [0.2222222222222222, \"#7201a8\"], [0.3333333333333333, \"#9c179e\"], [0.4444444444444444, \"#bd3786\"], [0.5555555555555556, \"#d8576b\"], [0.6666666666666666, \"#ed7953\"], [0.7777777777777778, \"#fb9f3a\"], [0.8888888888888888, \"#fdca26\"], [1.0, \"#f0f921\"]], \"type\": \"histogram2dcontour\"}], \"mesh3d\": [{\"colorbar\": {\"outlinewidth\": 0, \"ticks\": \"\"}, \"type\": \"mesh3d\"}], \"parcoords\": [{\"line\": {\"colorbar\": {\"outlinewidth\": 0, \"ticks\": \"\"}}, \"type\": \"parcoords\"}], \"pie\": [{\"automargin\": true, \"type\": \"pie\"}], \"scatter\": [{\"marker\": {\"colorbar\": {\"outlinewidth\": 0, \"ticks\": \"\"}}, \"type\": \"scatter\"}], \"scatter3d\": [{\"line\": {\"colorbar\": {\"outlinewidth\": 0, \"ticks\": \"\"}}, \"marker\": {\"colorbar\": {\"outlinewidth\": 0, \"ticks\": \"\"}}, \"type\": \"scatter3d\"}], \"scattercarpet\": [{\"marker\": {\"colorbar\": {\"outlinewidth\": 0, \"ticks\": \"\"}}, \"type\": \"scattercarpet\"}], \"scattergeo\": [{\"marker\": {\"colorbar\": {\"outlinewidth\": 0, \"ticks\": \"\"}}, \"type\": \"scattergeo\"}], \"scattergl\": [{\"marker\": {\"colorbar\": {\"outlinewidth\": 0, \"ticks\": \"\"}}, \"type\": \"scattergl\"}], \"scattermapbox\": [{\"marker\": {\"colorbar\": {\"outlinewidth\": 0, \"ticks\": \"\"}}, \"type\": \"scattermapbox\"}], \"scatterpolar\": [{\"marker\": {\"colorbar\": {\"outlinewidth\": 0, \"ticks\": \"\"}}, \"type\": \"scatterpolar\"}], \"scatterpolargl\": [{\"marker\": {\"colorbar\": {\"outlinewidth\": 0, \"ticks\": \"\"}}, \"type\": \"scatterpolargl\"}], \"scatterternary\": [{\"marker\": {\"colorbar\": {\"outlinewidth\": 0, \"ticks\": \"\"}}, \"type\": \"scatterternary\"}], \"surface\": [{\"colorbar\": {\"outlinewidth\": 0, \"ticks\": \"\"}, \"colorscale\": [[0.0, \"#0d0887\"], [0.1111111111111111, \"#46039f\"], [0.2222222222222222, \"#7201a8\"], [0.3333333333333333, \"#9c179e\"], [0.4444444444444444, \"#bd3786\"], [0.5555555555555556, \"#d8576b\"], [0.6666666666666666, \"#ed7953\"], [0.7777777777777778, \"#fb9f3a\"], [0.8888888888888888, \"#fdca26\"], [1.0, \"#f0f921\"]], \"type\": \"surface\"}], \"table\": [{\"cells\": {\"fill\": {\"color\": \"#EBF0F8\"}, \"line\": {\"color\": \"white\"}}, \"header\": {\"fill\": {\"color\": \"#C8D4E3\"}, \"line\": {\"color\": \"white\"}}, \"type\": \"table\"}]}, \"layout\": {\"annotationdefaults\": {\"arrowcolor\": \"#2a3f5f\", \"arrowhead\": 0, \"arrowwidth\": 1}, \"coloraxis\": {\"colorbar\": {\"outlinewidth\": 0, \"ticks\": \"\"}}, \"colorscale\": {\"diverging\": [[0, \"#8e0152\"], [0.1, \"#c51b7d\"], [0.2, \"#de77ae\"], [0.3, \"#f1b6da\"], [0.4, \"#fde0ef\"], [0.5, \"#f7f7f7\"], [0.6, \"#e6f5d0\"], [0.7, \"#b8e186\"], [0.8, \"#7fbc41\"], [0.9, \"#4d9221\"], [1, \"#276419\"]], \"sequential\": [[0.0, \"#0d0887\"], [0.1111111111111111, \"#46039f\"], [0.2222222222222222, \"#7201a8\"], [0.3333333333333333, \"#9c179e\"], [0.4444444444444444, \"#bd3786\"], [0.5555555555555556, \"#d8576b\"], [0.6666666666666666, \"#ed7953\"], [0.7777777777777778, \"#fb9f3a\"], [0.8888888888888888, \"#fdca26\"], [1.0, \"#f0f921\"]], \"sequentialminus\": [[0.0, \"#0d0887\"], [0.1111111111111111, \"#46039f\"], [0.2222222222222222, \"#7201a8\"], [0.3333333333333333, \"#9c179e\"], [0.4444444444444444, \"#bd3786\"], [0.5555555555555556, \"#d8576b\"], [0.6666666666666666, \"#ed7953\"], [0.7777777777777778, \"#fb9f3a\"], [0.8888888888888888, \"#fdca26\"], [1.0, \"#f0f921\"]]}, \"colorway\": [\"#636efa\", \"#EF553B\", \"#00cc96\", \"#ab63fa\", \"#FFA15A\", \"#19d3f3\", \"#FF6692\", \"#B6E880\", \"#FF97FF\", \"#FECB52\"], \"font\": {\"color\": \"#2a3f5f\"}, \"geo\": {\"bgcolor\": \"white\", \"lakecolor\": \"white\", \"landcolor\": \"#E5ECF6\", \"showlakes\": true, \"showland\": true, \"subunitcolor\": \"white\"}, \"hoverlabel\": {\"align\": \"left\"}, \"hovermode\": \"closest\", \"mapbox\": {\"style\": \"light\"}, \"paper_bgcolor\": \"white\", \"plot_bgcolor\": \"#E5ECF6\", \"polar\": {\"angularaxis\": {\"gridcolor\": \"white\", \"linecolor\": \"white\", \"ticks\": \"\"}, \"bgcolor\": \"#E5ECF6\", \"radialaxis\": {\"gridcolor\": \"white\", \"linecolor\": \"white\", \"ticks\": \"\"}}, \"scene\": {\"xaxis\": {\"backgroundcolor\": \"#E5ECF6\", \"gridcolor\": \"white\", \"gridwidth\": 2, \"linecolor\": \"white\", \"showbackground\": true, \"ticks\": \"\", \"zerolinecolor\": \"white\"}, \"yaxis\": {\"backgroundcolor\": \"#E5ECF6\", \"gridcolor\": \"white\", \"gridwidth\": 2, \"linecolor\": \"white\", \"showbackground\": true, \"ticks\": \"\", \"zerolinecolor\": \"white\"}, \"zaxis\": {\"backgroundcolor\": \"#E5ECF6\", \"gridcolor\": \"white\", \"gridwidth\": 2, \"linecolor\": \"white\", \"showbackground\": true, \"ticks\": \"\", \"zerolinecolor\": \"white\"}}, \"shapedefaults\": {\"line\": {\"color\": \"#2a3f5f\"}}, \"ternary\": {\"aaxis\": {\"gridcolor\": \"white\", \"linecolor\": \"white\", \"ticks\": \"\"}, \"baxis\": {\"gridcolor\": \"white\", \"linecolor\": \"white\", \"ticks\": \"\"}, \"bgcolor\": \"#E5ECF6\", \"caxis\": {\"gridcolor\": \"white\", \"linecolor\": \"white\", \"ticks\": \"\"}}, \"title\": {\"x\": 0.05}, \"xaxis\": {\"automargin\": true, \"gridcolor\": \"white\", \"linecolor\": \"white\", \"ticks\": \"\", \"title\": {\"standoff\": 15}, \"zerolinecolor\": \"white\", \"zerolinewidth\": 2}, \"yaxis\": {\"automargin\": true, \"gridcolor\": \"white\", \"linecolor\": \"white\", \"ticks\": \"\", \"title\": {\"standoff\": 15}, \"zerolinecolor\": \"white\", \"zerolinewidth\": 2}}}, \"title\": {\"text\": \"Optimization History Plot\"}, \"xaxis\": {\"title\": {\"text\": \"#Trials\"}}, \"yaxis\": {\"title\": {\"text\": \"Objective Value\"}}},\n",
              "                        {\"responsive\": true}\n",
              "                    ).then(function(){\n",
              "                            \n",
              "var gd = document.getElementById('eb047d62-46bc-4f14-ab1c-bd8f099096a6');\n",
              "var x = new MutationObserver(function (mutations, observer) {{\n",
              "        var display = window.getComputedStyle(gd).display;\n",
              "        if (!display || display === 'none') {{\n",
              "            console.log([gd, 'removed!']);\n",
              "            Plotly.purge(gd);\n",
              "            observer.disconnect();\n",
              "        }}\n",
              "}});\n",
              "\n",
              "// Listen for the removal of the full notebook cells\n",
              "var notebookContainer = gd.closest('#notebook-container');\n",
              "if (notebookContainer) {{\n",
              "    x.observe(notebookContainer, {childList: true});\n",
              "}}\n",
              "\n",
              "// Listen for the clearing of the current output cell\n",
              "var outputEl = gd.closest('.output');\n",
              "if (outputEl) {{\n",
              "    x.observe(outputEl, {childList: true});\n",
              "}}\n",
              "\n",
              "                        })\n",
              "                };\n",
              "                \n",
              "            </script>\n",
              "        </div>\n",
              "</body>\n",
              "</html>"
            ]
          },
          "metadata": {
            "tags": []
          }
        }
      ]
    },
    {
      "cell_type": "code",
      "metadata": {
        "colab": {
          "base_uri": "https://localhost:8080/",
          "height": 542
        },
        "id": "QpcLX6PKrHi9",
        "outputId": "0c3fe52b-319c-47d5-e254-7e53535bbbf5"
      },
      "source": [
        "optuna.visualization.plot_slice(ate_study, params=['batch_size', 'units', 'dropout'])"
      ],
      "execution_count": null,
      "outputs": [
        {
          "output_type": "display_data",
          "data": {
            "text/html": [
              "<html>\n",
              "<head><meta charset=\"utf-8\" /></head>\n",
              "<body>\n",
              "    <div>\n",
              "            <script src=\"https://cdnjs.cloudflare.com/ajax/libs/mathjax/2.7.5/MathJax.js?config=TeX-AMS-MML_SVG\"></script><script type=\"text/javascript\">if (window.MathJax) {MathJax.Hub.Config({SVG: {font: \"STIX-Web\"}});}</script>\n",
              "                <script type=\"text/javascript\">window.PlotlyConfig = {MathJaxConfig: 'local'};</script>\n",
              "        <script src=\"https://cdn.plot.ly/plotly-latest.min.js\"></script>    \n",
              "            <div id=\"8a5c3823-7514-4d6e-bd24-50ff7ff03547\" class=\"plotly-graph-div\" style=\"height:525px; width:100%;\"></div>\n",
              "            <script type=\"text/javascript\">\n",
              "                \n",
              "                    window.PLOTLYENV=window.PLOTLYENV || {};\n",
              "                    \n",
              "                if (document.getElementById(\"8a5c3823-7514-4d6e-bd24-50ff7ff03547\")) {\n",
              "                    Plotly.newPlot(\n",
              "                        '8a5c3823-7514-4d6e-bd24-50ff7ff03547',\n",
              "                        [{\"marker\": {\"color\": [0, 1, 2, 3, 4, 5, 6, 7, 8, 9, 10, 11, 12, 13, 14, 15, 16, 17, 18, 19, 20, 21, 22, 23, 24, 25, 26, 27, 28, 29, 30, 31, 32, 33, 34, 35, 36, 37, 38, 39, 40, 41, 42, 43, 44, 45, 46, 47, 48, 49, 50, 51, 52, 53, 54, 55, 56, 57, 58, 59, 60, 61, 62, 63, 64, 65, 66, 67, 68, 69, 70, 71, 72, 73, 74, 75, 76, 77, 78, 79, 80, 81, 82, 83, 84, 85, 86, 87, 88, 89, 90, 91, 92, 93, 94, 95, 96, 97, 98, 99, 100, 101, 102, 103, 104, 105, 106, 107, 108, 109, 110, 111, 112, 113, 114, 115, 116, 117, 118, 119, 120, 121, 122, 123, 124, 125, 126, 127, 128, 129, 130, 131, 132, 133, 134, 135, 136, 137, 138, 139, 140, 141, 142, 143, 144, 145, 146, 147, 148, 149, 150, 151, 152, 153, 154, 155, 156, 157, 158, 159, 160, 161, 162, 163, 164, 165, 166, 167, 168, 169, 170, 171, 172, 173, 174, 175, 176, 177, 178, 179, 180, 181, 182, 183, 184, 185, 186, 187, 188, 189, 190, 191, 192, 193, 194, 195, 196, 197, 198, 199], \"colorbar\": {\"title\": {\"text\": \"#Trials\"}, \"x\": 1.0, \"xpad\": 40}, \"colorscale\": [[0.0, \"rgb(247,251,255)\"], [0.125, \"rgb(222,235,247)\"], [0.25, \"rgb(198,219,239)\"], [0.375, \"rgb(158,202,225)\"], [0.5, \"rgb(107,174,214)\"], [0.625, \"rgb(66,146,198)\"], [0.75, \"rgb(33,113,181)\"], [0.875, \"rgb(8,81,156)\"], [1.0, \"rgb(8,48,107)\"]], \"line\": {\"color\": \"Grey\", \"width\": 0.5}, \"showscale\": true}, \"mode\": \"markers\", \"showlegend\": false, \"type\": \"scatter\", \"x\": [59, 94, 116, 86, 92, 100, 117, 77, 62, 107, 114, 66, 81, 84, 90, 72, 107, 127, 94, 126, 102, 125, 77, 54, 53, 69, 65, 70, 71, 71, 70, 71, 71, 70, 51, 51, 68, 53, 50, 50, 52, 51, 52, 50, 53, 50, 51, 54, 50, 50, 57, 58, 57, 55, 57, 59, 57, 57, 60, 58, 58, 58, 59, 60, 60, 61, 61, 63, 62, 62, 61, 63, 63, 63, 64, 64, 62, 64, 63, 65, 64, 76, 67, 75, 66, 67, 66, 67, 67, 78, 66, 67, 67, 67, 68, 55, 68, 68, 68, 74, 75, 78, 54, 55, 69, 73, 54, 73, 55, 73, 69, 73, 55, 73, 73, 86, 85, 70, 72, 55, 84, 72, 70, 70, 85, 82, 70, 70, 81, 55, 55, 81, 55, 52, 56, 56, 56, 53, 56, 56, 56, 56, 52, 98, 56, 52, 62, 52, 53, 59, 53, 53, 53, 59, 53, 59, 53, 53, 59, 59, 53, 53, 60, 59, 61, 60, 50, 50, 50, 51, 61, 50, 50, 50, 50, 65, 89, 50, 51, 50, 50, 50, 65, 57, 50, 63, 65, 57, 54, 57, 57, 54, 57, 54, 54, 54, 54, 54, 57, 54], \"xaxis\": \"x\", \"y\": [0.9852652549743652, 0.9816634058952332, 0.984282910823822, 0.9898493885993958, 0.9823182821273804, 0.9816634058952332, 0.9711853265762329, 0.9675834774971008, 0.9888670444488525, 0.9882121682167053, 0.9836280345916748, 0.9960707426071167, 0.9954158663749695, 0.993778645992279, 0.9823182821273804, 0.9908316731452942, 0.9931237697601318, 0.9813359379768372, 0.9895219206809998, 0.9793713092803955, 0.9947609901428223, 0.9859201312065125, 0.9895219206809998, 0.9957432746887207, 0.9963981509208679, 0.993778645992279, 0.9947609901428223, 0.9947609901428223, 0.9882121682167053, 0.9885396361351013, 0.9963981509208679, 0.9760969281196594, 0.9767518043518066, 0.9947609901428223, 0.9967256188392639, 0.9960707426071167, 0.9970530271530151, 0.9970530271530151, 0.9963981509208679, 0.9918140172958374, 0.9908316731452942, 0.9963981509208679, 0.9908316731452942, 0.9764243364334106, 0.9970530271530151, 0.9947609901428223, 0.9960707426071167, 0.9774066805839539, 0.9924688935279846, 0.9967256188392639, 0.9960707426071167, 0.9963981509208679, 0.9950883984565735, 0.9950883984565735, 0.9931237697601318, 0.9924688935279846, 0.9944335222244263, 0.9927963614463806, 0.9960707426071167, 0.9957432746887207, 0.9954158663749695, 0.9960707426071167, 0.9960707426071167, 0.990176796913147, 0.9908316731452942, 0.9957432746887207, 0.9934512376785278, 0.9973804950714111, 0.9970530271530151, 0.9967256188392639, 0.9963981509208679, 0.9931237697601318, 0.9970530271530151, 0.9967256188392639, 0.9908316731452942, 0.9931237697601318, 0.9954158663749695, 0.9957432746887207, 0.993778645992279, 0.9898493885993958, 0.993778645992279, 0.9908316731452942, 0.9967256188392639, 0.9967256188392639, 0.9967256188392639, 0.9963981509208679, 0.9927963614463806, 0.9954158663749695, 0.9957432746887207, 0.9954158663749695, 0.9924688935279846, 0.9967256188392639, 0.9957432746887207, 0.9967256188392639, 0.9970530271530151, 0.993778645992279, 0.9950883984565735, 0.9950883984565735, 0.9963981509208679, 0.9957432746887207, 0.984282910823822, 0.9950883984565735, 0.9960707426071167, 0.9970530271530151, 0.9970530271530151, 0.9973804950714111, 0.9954158663749695, 0.9760969281196594, 0.9977079033851624, 0.9950883984565735, 0.9960707426071167, 0.9970530271530151, 0.9970530271530151, 0.994106113910675, 0.9957432746887207, 0.9957432746887207, 0.9963981509208679, 0.9950883984565735, 0.9954158663749695, 0.9970530271530151, 0.983955442905426, 0.9967256188392639, 0.9957432746887207, 0.9944335222244263, 0.9944335222244263, 0.9950883984565735, 0.9954158663749695, 0.9970530271530151, 0.9957432746887207, 0.9092992544174194, 0.9960707426071167, 0.9921414256095886, 0.9914865493774414, 0.9783890247344971, 0.993778645992279, 0.9934512376785278, 0.9875572919845581, 0.9977079033851624, 0.9973804950714111, 0.9914865493774414, 0.9970530271530151, 0.994106113910675, 0.9967256188392639, 0.9911591410636902, 0.9957432746887207, 0.993778645992279, 0.9963981509208679, 0.9960707426071167, 0.9973804950714111, 0.9967256188392639, 0.9967256188392639, 0.9973804950714111, 0.9960707426071167, 0.9954158663749695, 0.9950883984565735, 0.9960707426071167, 0.9957432746887207, 0.9924688935279846, 0.9967256188392639, 0.9957432746887207, 0.9967256188392639, 0.9960707426071167, 0.9967256188392639, 0.9967256188392639, 0.9947609901428223, 0.9970530271530151, 0.9954158663749695, 0.9973804950714111, 0.9924688935279846, 0.9957432746887207, 0.994106113910675, 0.9963981509208679, 0.9977079033851624, 0.9973804950714111, 0.9967256188392639, 0.9921414256095886, 0.9875572919845581, 0.9977079033851624, 0.9960707426071167, 0.9970530271530151, 0.993778645992279, 0.9957432746887207, 0.9950883984565735, 0.9970530271530151, 0.9954158663749695, 0.9957432746887207, 0.9977079033851624, 0.9957432746887207, 0.9970530271530151, 0.9977079033851624, 0.9963981509208679, 0.9977079033851624, 0.9967256188392639, 0.9967256188392639, 0.9973804950714111, 0.9973804950714111, 0.9908316731452942, 0.9977079033851624, 0.9973804950714111, 0.9973804950714111], \"yaxis\": \"y\"}, {\"marker\": {\"color\": [0, 1, 2, 3, 4, 5, 6, 7, 8, 9, 10, 11, 12, 13, 14, 15, 16, 17, 18, 19, 20, 21, 22, 23, 24, 25, 26, 27, 28, 29, 30, 31, 32, 33, 34, 35, 36, 37, 38, 39, 40, 41, 42, 43, 44, 45, 46, 47, 48, 49, 50, 51, 52, 53, 54, 55, 56, 57, 58, 59, 60, 61, 62, 63, 64, 65, 66, 67, 68, 69, 70, 71, 72, 73, 74, 75, 76, 77, 78, 79, 80, 81, 82, 83, 84, 85, 86, 87, 88, 89, 90, 91, 92, 93, 94, 95, 96, 97, 98, 99, 100, 101, 102, 103, 104, 105, 106, 107, 108, 109, 110, 111, 112, 113, 114, 115, 116, 117, 118, 119, 120, 121, 122, 123, 124, 125, 126, 127, 128, 129, 130, 131, 132, 133, 134, 135, 136, 137, 138, 139, 140, 141, 142, 143, 144, 145, 146, 147, 148, 149, 150, 151, 152, 153, 154, 155, 156, 157, 158, 159, 160, 161, 162, 163, 164, 165, 166, 167, 168, 169, 170, 171, 172, 173, 174, 175, 176, 177, 178, 179, 180, 181, 182, 183, 184, 185, 186, 187, 188, 189, 190, 191, 192, 193, 194, 195, 196, 197, 198, 199], \"colorbar\": {\"title\": {\"text\": \"#Trials\"}, \"x\": 1.0, \"xpad\": 40}, \"colorscale\": [[0.0, \"rgb(247,251,255)\"], [0.125, \"rgb(222,235,247)\"], [0.25, \"rgb(198,219,239)\"], [0.375, \"rgb(158,202,225)\"], [0.5, \"rgb(107,174,214)\"], [0.625, \"rgb(66,146,198)\"], [0.75, \"rgb(33,113,181)\"], [0.875, \"rgb(8,81,156)\"], [1.0, \"rgb(8,48,107)\"]], \"line\": {\"color\": \"Grey\", \"width\": 0.5}, \"showscale\": false}, \"mode\": \"markers\", \"showlegend\": false, \"type\": \"scatter\", \"x\": [0.79, 0.79, 0.66, 0.27, 0.62, 0.67, 0.73, 0.8, 0.72, 0.27, 0.6000000000000001, 0.46, 0.44, 0.35, 0.78, 0.6100000000000001, 0.48000000000000004, 0.44, 0.27, 0.52, 0.33, 0.69, 0.5700000000000001, 0.4, 0.41000000000000003, 0.41000000000000003, 0.48000000000000004, 0.45, 0.42000000000000004, 0.43000000000000005, 0.42000000000000004, 0.47000000000000003, 0.37, 0.4, 0.39, 0.38, 0.38, 0.36, 0.39, 0.39, 0.37, 0.37, 0.37, 0.39, 0.37, 0.51, 0.53, 0.53, 0.53, 0.32, 0.31, 0.32, 0.31, 0.52, 0.31, 0.30000000000000004, 0.31, 0.32, 0.32, 0.31, 0.31, 0.31, 0.31, 0.21000000000000002, 0.2, 0.2, 0.29000000000000004, 0.23, 0.23, 0.21000000000000002, 0.24000000000000002, 0.2, 0.22, 0.2, 0.34, 0.35, 0.35, 0.35, 0.24000000000000002, 0.24000000000000002, 0.36, 0.35, 0.25, 0.24000000000000002, 0.23, 0.23, 0.23, 0.24000000000000002, 0.24000000000000002, 0.23, 0.25, 0.23, 0.25, 0.22, 0.26, 0.26, 0.28, 0.27, 0.27, 0.28, 0.27, 0.27, 0.27, 0.28, 0.27, 0.27, 0.28, 0.26, 0.28, 0.28, 0.28, 0.21000000000000002, 0.27, 0.21000000000000002, 0.21000000000000002, 0.21000000000000002, 0.21000000000000002, 0.21000000000000002, 0.22, 0.29000000000000004, 0.22, 0.44, 0.29000000000000004, 0.29000000000000004, 0.29000000000000004, 0.43000000000000005, 0.22, 0.29000000000000004, 0.29000000000000004, 0.33, 0.30000000000000004, 0.33, 0.33, 0.29000000000000004, 0.29000000000000004, 0.29000000000000004, 0.26, 0.33, 0.30000000000000004, 0.33, 0.33, 0.33, 0.26, 0.26, 0.26, 0.26, 0.26, 0.26, 0.26, 0.25, 0.25, 0.25, 0.26, 0.25, 0.25, 0.34, 0.38, 0.38, 0.37, 0.37, 0.25, 0.30000000000000004, 0.30000000000000004, 0.35, 0.37, 0.38, 0.31, 0.38, 0.38, 0.30000000000000004, 0.30000000000000004, 0.30000000000000004, 0.31, 0.4, 0.31, 0.64, 0.30000000000000004, 0.23, 0.23, 0.23, 0.31, 0.23, 0.4, 0.41000000000000003, 0.41000000000000003, 0.23, 0.23, 0.36, 0.32, 0.41000000000000003, 0.4, 0.4, 0.34, 0.42000000000000004, 0.34, 0.4, 0.41000000000000003, 0.36, 0.39, 0.28], \"xaxis\": \"x2\", \"y\": [0.9852652549743652, 0.9816634058952332, 0.984282910823822, 0.9898493885993958, 0.9823182821273804, 0.9816634058952332, 0.9711853265762329, 0.9675834774971008, 0.9888670444488525, 0.9882121682167053, 0.9836280345916748, 0.9960707426071167, 0.9954158663749695, 0.993778645992279, 0.9823182821273804, 0.9908316731452942, 0.9931237697601318, 0.9813359379768372, 0.9895219206809998, 0.9793713092803955, 0.9947609901428223, 0.9859201312065125, 0.9895219206809998, 0.9957432746887207, 0.9963981509208679, 0.993778645992279, 0.9947609901428223, 0.9947609901428223, 0.9882121682167053, 0.9885396361351013, 0.9963981509208679, 0.9760969281196594, 0.9767518043518066, 0.9947609901428223, 0.9967256188392639, 0.9960707426071167, 0.9970530271530151, 0.9970530271530151, 0.9963981509208679, 0.9918140172958374, 0.9908316731452942, 0.9963981509208679, 0.9908316731452942, 0.9764243364334106, 0.9970530271530151, 0.9947609901428223, 0.9960707426071167, 0.9774066805839539, 0.9924688935279846, 0.9967256188392639, 0.9960707426071167, 0.9963981509208679, 0.9950883984565735, 0.9950883984565735, 0.9931237697601318, 0.9924688935279846, 0.9944335222244263, 0.9927963614463806, 0.9960707426071167, 0.9957432746887207, 0.9954158663749695, 0.9960707426071167, 0.9960707426071167, 0.990176796913147, 0.9908316731452942, 0.9957432746887207, 0.9934512376785278, 0.9973804950714111, 0.9970530271530151, 0.9967256188392639, 0.9963981509208679, 0.9931237697601318, 0.9970530271530151, 0.9967256188392639, 0.9908316731452942, 0.9931237697601318, 0.9954158663749695, 0.9957432746887207, 0.993778645992279, 0.9898493885993958, 0.993778645992279, 0.9908316731452942, 0.9967256188392639, 0.9967256188392639, 0.9967256188392639, 0.9963981509208679, 0.9927963614463806, 0.9954158663749695, 0.9957432746887207, 0.9954158663749695, 0.9924688935279846, 0.9967256188392639, 0.9957432746887207, 0.9967256188392639, 0.9970530271530151, 0.993778645992279, 0.9950883984565735, 0.9950883984565735, 0.9963981509208679, 0.9957432746887207, 0.984282910823822, 0.9950883984565735, 0.9960707426071167, 0.9970530271530151, 0.9970530271530151, 0.9973804950714111, 0.9954158663749695, 0.9760969281196594, 0.9977079033851624, 0.9950883984565735, 0.9960707426071167, 0.9970530271530151, 0.9970530271530151, 0.994106113910675, 0.9957432746887207, 0.9957432746887207, 0.9963981509208679, 0.9950883984565735, 0.9954158663749695, 0.9970530271530151, 0.983955442905426, 0.9967256188392639, 0.9957432746887207, 0.9944335222244263, 0.9944335222244263, 0.9950883984565735, 0.9954158663749695, 0.9970530271530151, 0.9957432746887207, 0.9092992544174194, 0.9960707426071167, 0.9921414256095886, 0.9914865493774414, 0.9783890247344971, 0.993778645992279, 0.9934512376785278, 0.9875572919845581, 0.9977079033851624, 0.9973804950714111, 0.9914865493774414, 0.9970530271530151, 0.994106113910675, 0.9967256188392639, 0.9911591410636902, 0.9957432746887207, 0.993778645992279, 0.9963981509208679, 0.9960707426071167, 0.9973804950714111, 0.9967256188392639, 0.9967256188392639, 0.9973804950714111, 0.9960707426071167, 0.9954158663749695, 0.9950883984565735, 0.9960707426071167, 0.9957432746887207, 0.9924688935279846, 0.9967256188392639, 0.9957432746887207, 0.9967256188392639, 0.9960707426071167, 0.9967256188392639, 0.9967256188392639, 0.9947609901428223, 0.9970530271530151, 0.9954158663749695, 0.9973804950714111, 0.9924688935279846, 0.9957432746887207, 0.994106113910675, 0.9963981509208679, 0.9977079033851624, 0.9973804950714111, 0.9967256188392639, 0.9921414256095886, 0.9875572919845581, 0.9977079033851624, 0.9960707426071167, 0.9970530271530151, 0.993778645992279, 0.9957432746887207, 0.9950883984565735, 0.9970530271530151, 0.9954158663749695, 0.9957432746887207, 0.9977079033851624, 0.9957432746887207, 0.9970530271530151, 0.9977079033851624, 0.9963981509208679, 0.9977079033851624, 0.9967256188392639, 0.9967256188392639, 0.9973804950714111, 0.9973804950714111, 0.9908316731452942, 0.9977079033851624, 0.9973804950714111, 0.9973804950714111], \"yaxis\": \"y2\"}, {\"marker\": {\"color\": [0, 1, 2, 3, 4, 5, 6, 7, 8, 9, 10, 11, 12, 13, 14, 15, 16, 17, 18, 19, 20, 21, 22, 23, 24, 25, 26, 27, 28, 29, 30, 31, 32, 33, 34, 35, 36, 37, 38, 39, 40, 41, 42, 43, 44, 45, 46, 47, 48, 49, 50, 51, 52, 53, 54, 55, 56, 57, 58, 59, 60, 61, 62, 63, 64, 65, 66, 67, 68, 69, 70, 71, 72, 73, 74, 75, 76, 77, 78, 79, 80, 81, 82, 83, 84, 85, 86, 87, 88, 89, 90, 91, 92, 93, 94, 95, 96, 97, 98, 99, 100, 101, 102, 103, 104, 105, 106, 107, 108, 109, 110, 111, 112, 113, 114, 115, 116, 117, 118, 119, 120, 121, 122, 123, 124, 125, 126, 127, 128, 129, 130, 131, 132, 133, 134, 135, 136, 137, 138, 139, 140, 141, 142, 143, 144, 145, 146, 147, 148, 149, 150, 151, 152, 153, 154, 155, 156, 157, 158, 159, 160, 161, 162, 163, 164, 165, 166, 167, 168, 169, 170, 171, 172, 173, 174, 175, 176, 177, 178, 179, 180, 181, 182, 183, 184, 185, 186, 187, 188, 189, 190, 191, 192, 193, 194, 195, 196, 197, 198, 199], \"colorbar\": {\"title\": {\"text\": \"#Trials\"}, \"x\": 1.0, \"xpad\": 40}, \"colorscale\": [[0.0, \"rgb(247,251,255)\"], [0.125, \"rgb(222,235,247)\"], [0.25, \"rgb(198,219,239)\"], [0.375, \"rgb(158,202,225)\"], [0.5, \"rgb(107,174,214)\"], [0.625, \"rgb(66,146,198)\"], [0.75, \"rgb(33,113,181)\"], [0.875, \"rgb(8,81,156)\"], [1.0, \"rgb(8,48,107)\"]], \"line\": {\"color\": \"Grey\", \"width\": 0.5}, \"showscale\": false}, \"mode\": \"markers\", \"showlegend\": false, \"type\": \"scatter\", \"x\": [81, 131, 117, 56, 103, 79, 111, 58, 91, 139, 109, 104, 109, 120, 113, 82, 130, 72, 140, 56, 118, 130, 109, 81, 87, 126, 94, 92, 97, 94, 96, 96, 96, 94, 98, 93, 104, 99, 99, 100, 40, 67, 40, 66, 80, 69, 84, 70, 71, 74, 73, 102, 87, 88, 71, 86, 102, 103, 86, 85, 75, 104, 76, 86, 88, 86, 77, 105, 106, 104, 105, 77, 79, 106, 106, 105, 106, 77, 113, 113, 63, 66, 115, 107, 115, 110, 111, 114, 116, 115, 113, 120, 116, 117, 121, 110, 121, 122, 123, 120, 119, 122, 120, 99, 122, 122, 100, 126, 125, 123, 100, 100, 81, 99, 99, 99, 99, 137, 134, 80, 132, 138, 134, 136, 91, 133, 80, 90, 126, 132, 81, 90, 89, 91, 90, 82, 90, 126, 83, 81, 127, 83, 108, 83, 129, 83, 128, 128, 129, 102, 127, 128, 128, 129, 79, 78, 94, 102, 128, 129, 95, 124, 124, 79, 79, 125, 125, 124, 94, 124, 125, 95, 124, 125, 123, 118, 125, 125, 75, 124, 125, 73, 131, 131, 75, 131, 131, 130, 75, 120, 131, 130, 130, 85, 131, 131, 131, 131, 122, 135], \"xaxis\": \"x3\", \"y\": [0.9852652549743652, 0.9816634058952332, 0.984282910823822, 0.9898493885993958, 0.9823182821273804, 0.9816634058952332, 0.9711853265762329, 0.9675834774971008, 0.9888670444488525, 0.9882121682167053, 0.9836280345916748, 0.9960707426071167, 0.9954158663749695, 0.993778645992279, 0.9823182821273804, 0.9908316731452942, 0.9931237697601318, 0.9813359379768372, 0.9895219206809998, 0.9793713092803955, 0.9947609901428223, 0.9859201312065125, 0.9895219206809998, 0.9957432746887207, 0.9963981509208679, 0.993778645992279, 0.9947609901428223, 0.9947609901428223, 0.9882121682167053, 0.9885396361351013, 0.9963981509208679, 0.9760969281196594, 0.9767518043518066, 0.9947609901428223, 0.9967256188392639, 0.9960707426071167, 0.9970530271530151, 0.9970530271530151, 0.9963981509208679, 0.9918140172958374, 0.9908316731452942, 0.9963981509208679, 0.9908316731452942, 0.9764243364334106, 0.9970530271530151, 0.9947609901428223, 0.9960707426071167, 0.9774066805839539, 0.9924688935279846, 0.9967256188392639, 0.9960707426071167, 0.9963981509208679, 0.9950883984565735, 0.9950883984565735, 0.9931237697601318, 0.9924688935279846, 0.9944335222244263, 0.9927963614463806, 0.9960707426071167, 0.9957432746887207, 0.9954158663749695, 0.9960707426071167, 0.9960707426071167, 0.990176796913147, 0.9908316731452942, 0.9957432746887207, 0.9934512376785278, 0.9973804950714111, 0.9970530271530151, 0.9967256188392639, 0.9963981509208679, 0.9931237697601318, 0.9970530271530151, 0.9967256188392639, 0.9908316731452942, 0.9931237697601318, 0.9954158663749695, 0.9957432746887207, 0.993778645992279, 0.9898493885993958, 0.993778645992279, 0.9908316731452942, 0.9967256188392639, 0.9967256188392639, 0.9967256188392639, 0.9963981509208679, 0.9927963614463806, 0.9954158663749695, 0.9957432746887207, 0.9954158663749695, 0.9924688935279846, 0.9967256188392639, 0.9957432746887207, 0.9967256188392639, 0.9970530271530151, 0.993778645992279, 0.9950883984565735, 0.9950883984565735, 0.9963981509208679, 0.9957432746887207, 0.984282910823822, 0.9950883984565735, 0.9960707426071167, 0.9970530271530151, 0.9970530271530151, 0.9973804950714111, 0.9954158663749695, 0.9760969281196594, 0.9977079033851624, 0.9950883984565735, 0.9960707426071167, 0.9970530271530151, 0.9970530271530151, 0.994106113910675, 0.9957432746887207, 0.9957432746887207, 0.9963981509208679, 0.9950883984565735, 0.9954158663749695, 0.9970530271530151, 0.983955442905426, 0.9967256188392639, 0.9957432746887207, 0.9944335222244263, 0.9944335222244263, 0.9950883984565735, 0.9954158663749695, 0.9970530271530151, 0.9957432746887207, 0.9092992544174194, 0.9960707426071167, 0.9921414256095886, 0.9914865493774414, 0.9783890247344971, 0.993778645992279, 0.9934512376785278, 0.9875572919845581, 0.9977079033851624, 0.9973804950714111, 0.9914865493774414, 0.9970530271530151, 0.994106113910675, 0.9967256188392639, 0.9911591410636902, 0.9957432746887207, 0.993778645992279, 0.9963981509208679, 0.9960707426071167, 0.9973804950714111, 0.9967256188392639, 0.9967256188392639, 0.9973804950714111, 0.9960707426071167, 0.9954158663749695, 0.9950883984565735, 0.9960707426071167, 0.9957432746887207, 0.9924688935279846, 0.9967256188392639, 0.9957432746887207, 0.9967256188392639, 0.9960707426071167, 0.9967256188392639, 0.9967256188392639, 0.9947609901428223, 0.9970530271530151, 0.9954158663749695, 0.9973804950714111, 0.9924688935279846, 0.9957432746887207, 0.994106113910675, 0.9963981509208679, 0.9977079033851624, 0.9973804950714111, 0.9967256188392639, 0.9921414256095886, 0.9875572919845581, 0.9977079033851624, 0.9960707426071167, 0.9970530271530151, 0.993778645992279, 0.9957432746887207, 0.9950883984565735, 0.9970530271530151, 0.9954158663749695, 0.9957432746887207, 0.9977079033851624, 0.9957432746887207, 0.9970530271530151, 0.9977079033851624, 0.9963981509208679, 0.9977079033851624, 0.9967256188392639, 0.9967256188392639, 0.9973804950714111, 0.9973804950714111, 0.9908316731452942, 0.9977079033851624, 0.9973804950714111, 0.9973804950714111], \"yaxis\": \"y3\"}],\n",
              "                        {\"template\": {\"data\": {\"bar\": [{\"error_x\": {\"color\": \"#2a3f5f\"}, \"error_y\": {\"color\": \"#2a3f5f\"}, \"marker\": {\"line\": {\"color\": \"#E5ECF6\", \"width\": 0.5}}, \"type\": \"bar\"}], \"barpolar\": [{\"marker\": {\"line\": {\"color\": \"#E5ECF6\", \"width\": 0.5}}, \"type\": \"barpolar\"}], \"carpet\": [{\"aaxis\": {\"endlinecolor\": \"#2a3f5f\", \"gridcolor\": \"white\", \"linecolor\": \"white\", \"minorgridcolor\": \"white\", \"startlinecolor\": \"#2a3f5f\"}, \"baxis\": {\"endlinecolor\": \"#2a3f5f\", \"gridcolor\": \"white\", \"linecolor\": \"white\", \"minorgridcolor\": \"white\", \"startlinecolor\": \"#2a3f5f\"}, \"type\": \"carpet\"}], \"choropleth\": [{\"colorbar\": {\"outlinewidth\": 0, \"ticks\": \"\"}, \"type\": \"choropleth\"}], \"contour\": [{\"colorbar\": {\"outlinewidth\": 0, \"ticks\": \"\"}, \"colorscale\": [[0.0, \"#0d0887\"], [0.1111111111111111, \"#46039f\"], [0.2222222222222222, \"#7201a8\"], [0.3333333333333333, \"#9c179e\"], [0.4444444444444444, \"#bd3786\"], [0.5555555555555556, \"#d8576b\"], [0.6666666666666666, \"#ed7953\"], [0.7777777777777778, \"#fb9f3a\"], [0.8888888888888888, \"#fdca26\"], [1.0, \"#f0f921\"]], \"type\": \"contour\"}], \"contourcarpet\": [{\"colorbar\": {\"outlinewidth\": 0, \"ticks\": \"\"}, \"type\": \"contourcarpet\"}], \"heatmap\": [{\"colorbar\": {\"outlinewidth\": 0, \"ticks\": \"\"}, \"colorscale\": [[0.0, \"#0d0887\"], [0.1111111111111111, \"#46039f\"], [0.2222222222222222, \"#7201a8\"], [0.3333333333333333, \"#9c179e\"], [0.4444444444444444, \"#bd3786\"], [0.5555555555555556, \"#d8576b\"], [0.6666666666666666, \"#ed7953\"], [0.7777777777777778, \"#fb9f3a\"], [0.8888888888888888, \"#fdca26\"], [1.0, \"#f0f921\"]], \"type\": \"heatmap\"}], \"heatmapgl\": [{\"colorbar\": {\"outlinewidth\": 0, \"ticks\": \"\"}, \"colorscale\": [[0.0, \"#0d0887\"], [0.1111111111111111, \"#46039f\"], [0.2222222222222222, \"#7201a8\"], [0.3333333333333333, \"#9c179e\"], [0.4444444444444444, \"#bd3786\"], [0.5555555555555556, \"#d8576b\"], [0.6666666666666666, \"#ed7953\"], [0.7777777777777778, \"#fb9f3a\"], [0.8888888888888888, \"#fdca26\"], [1.0, \"#f0f921\"]], \"type\": \"heatmapgl\"}], \"histogram\": [{\"marker\": {\"colorbar\": {\"outlinewidth\": 0, \"ticks\": \"\"}}, \"type\": \"histogram\"}], \"histogram2d\": [{\"colorbar\": {\"outlinewidth\": 0, \"ticks\": \"\"}, \"colorscale\": [[0.0, \"#0d0887\"], [0.1111111111111111, \"#46039f\"], [0.2222222222222222, \"#7201a8\"], [0.3333333333333333, \"#9c179e\"], [0.4444444444444444, \"#bd3786\"], [0.5555555555555556, \"#d8576b\"], [0.6666666666666666, \"#ed7953\"], [0.7777777777777778, \"#fb9f3a\"], [0.8888888888888888, \"#fdca26\"], [1.0, \"#f0f921\"]], \"type\": \"histogram2d\"}], \"histogram2dcontour\": [{\"colorbar\": {\"outlinewidth\": 0, \"ticks\": \"\"}, \"colorscale\": [[0.0, \"#0d0887\"], [0.1111111111111111, \"#46039f\"], [0.2222222222222222, \"#7201a8\"], [0.3333333333333333, \"#9c179e\"], [0.4444444444444444, \"#bd3786\"], [0.5555555555555556, \"#d8576b\"], [0.6666666666666666, \"#ed7953\"], [0.7777777777777778, \"#fb9f3a\"], [0.8888888888888888, \"#fdca26\"], [1.0, \"#f0f921\"]], \"type\": \"histogram2dcontour\"}], \"mesh3d\": [{\"colorbar\": {\"outlinewidth\": 0, \"ticks\": \"\"}, \"type\": \"mesh3d\"}], \"parcoords\": [{\"line\": {\"colorbar\": {\"outlinewidth\": 0, \"ticks\": \"\"}}, \"type\": \"parcoords\"}], \"pie\": [{\"automargin\": true, \"type\": \"pie\"}], \"scatter\": [{\"marker\": {\"colorbar\": {\"outlinewidth\": 0, \"ticks\": \"\"}}, \"type\": \"scatter\"}], \"scatter3d\": [{\"line\": {\"colorbar\": {\"outlinewidth\": 0, \"ticks\": \"\"}}, \"marker\": {\"colorbar\": {\"outlinewidth\": 0, \"ticks\": \"\"}}, \"type\": \"scatter3d\"}], \"scattercarpet\": [{\"marker\": {\"colorbar\": {\"outlinewidth\": 0, \"ticks\": \"\"}}, \"type\": \"scattercarpet\"}], \"scattergeo\": [{\"marker\": {\"colorbar\": {\"outlinewidth\": 0, \"ticks\": \"\"}}, \"type\": \"scattergeo\"}], \"scattergl\": [{\"marker\": {\"colorbar\": {\"outlinewidth\": 0, \"ticks\": \"\"}}, \"type\": \"scattergl\"}], \"scattermapbox\": [{\"marker\": {\"colorbar\": {\"outlinewidth\": 0, \"ticks\": \"\"}}, \"type\": \"scattermapbox\"}], \"scatterpolar\": [{\"marker\": {\"colorbar\": {\"outlinewidth\": 0, \"ticks\": \"\"}}, \"type\": \"scatterpolar\"}], \"scatterpolargl\": [{\"marker\": {\"colorbar\": {\"outlinewidth\": 0, \"ticks\": \"\"}}, \"type\": \"scatterpolargl\"}], \"scatterternary\": [{\"marker\": {\"colorbar\": {\"outlinewidth\": 0, \"ticks\": \"\"}}, \"type\": \"scatterternary\"}], \"surface\": [{\"colorbar\": {\"outlinewidth\": 0, \"ticks\": \"\"}, \"colorscale\": [[0.0, \"#0d0887\"], [0.1111111111111111, \"#46039f\"], [0.2222222222222222, \"#7201a8\"], [0.3333333333333333, \"#9c179e\"], [0.4444444444444444, \"#bd3786\"], [0.5555555555555556, \"#d8576b\"], [0.6666666666666666, \"#ed7953\"], [0.7777777777777778, \"#fb9f3a\"], [0.8888888888888888, \"#fdca26\"], [1.0, \"#f0f921\"]], \"type\": \"surface\"}], \"table\": [{\"cells\": {\"fill\": {\"color\": \"#EBF0F8\"}, \"line\": {\"color\": \"white\"}}, \"header\": {\"fill\": {\"color\": \"#C8D4E3\"}, \"line\": {\"color\": \"white\"}}, \"type\": \"table\"}]}, \"layout\": {\"annotationdefaults\": {\"arrowcolor\": \"#2a3f5f\", \"arrowhead\": 0, \"arrowwidth\": 1}, \"coloraxis\": {\"colorbar\": {\"outlinewidth\": 0, \"ticks\": \"\"}}, \"colorscale\": {\"diverging\": [[0, \"#8e0152\"], [0.1, \"#c51b7d\"], [0.2, \"#de77ae\"], [0.3, \"#f1b6da\"], [0.4, \"#fde0ef\"], [0.5, \"#f7f7f7\"], [0.6, \"#e6f5d0\"], [0.7, \"#b8e186\"], [0.8, \"#7fbc41\"], [0.9, \"#4d9221\"], [1, \"#276419\"]], \"sequential\": [[0.0, \"#0d0887\"], [0.1111111111111111, \"#46039f\"], [0.2222222222222222, \"#7201a8\"], [0.3333333333333333, \"#9c179e\"], [0.4444444444444444, \"#bd3786\"], [0.5555555555555556, \"#d8576b\"], [0.6666666666666666, \"#ed7953\"], [0.7777777777777778, \"#fb9f3a\"], [0.8888888888888888, \"#fdca26\"], [1.0, \"#f0f921\"]], \"sequentialminus\": [[0.0, \"#0d0887\"], [0.1111111111111111, \"#46039f\"], [0.2222222222222222, \"#7201a8\"], [0.3333333333333333, \"#9c179e\"], [0.4444444444444444, \"#bd3786\"], [0.5555555555555556, \"#d8576b\"], [0.6666666666666666, \"#ed7953\"], [0.7777777777777778, \"#fb9f3a\"], [0.8888888888888888, \"#fdca26\"], [1.0, \"#f0f921\"]]}, \"colorway\": [\"#636efa\", \"#EF553B\", \"#00cc96\", \"#ab63fa\", \"#FFA15A\", \"#19d3f3\", \"#FF6692\", \"#B6E880\", \"#FF97FF\", \"#FECB52\"], \"font\": {\"color\": \"#2a3f5f\"}, \"geo\": {\"bgcolor\": \"white\", \"lakecolor\": \"white\", \"landcolor\": \"#E5ECF6\", \"showlakes\": true, \"showland\": true, \"subunitcolor\": \"white\"}, \"hoverlabel\": {\"align\": \"left\"}, \"hovermode\": \"closest\", \"mapbox\": {\"style\": \"light\"}, \"paper_bgcolor\": \"white\", \"plot_bgcolor\": \"#E5ECF6\", \"polar\": {\"angularaxis\": {\"gridcolor\": \"white\", \"linecolor\": \"white\", \"ticks\": \"\"}, \"bgcolor\": \"#E5ECF6\", \"radialaxis\": {\"gridcolor\": \"white\", \"linecolor\": \"white\", \"ticks\": \"\"}}, \"scene\": {\"xaxis\": {\"backgroundcolor\": \"#E5ECF6\", \"gridcolor\": \"white\", \"gridwidth\": 2, \"linecolor\": \"white\", \"showbackground\": true, \"ticks\": \"\", \"zerolinecolor\": \"white\"}, \"yaxis\": {\"backgroundcolor\": \"#E5ECF6\", \"gridcolor\": \"white\", \"gridwidth\": 2, \"linecolor\": \"white\", \"showbackground\": true, \"ticks\": \"\", \"zerolinecolor\": \"white\"}, \"zaxis\": {\"backgroundcolor\": \"#E5ECF6\", \"gridcolor\": \"white\", \"gridwidth\": 2, \"linecolor\": \"white\", \"showbackground\": true, \"ticks\": \"\", \"zerolinecolor\": \"white\"}}, \"shapedefaults\": {\"line\": {\"color\": \"#2a3f5f\"}}, \"ternary\": {\"aaxis\": {\"gridcolor\": \"white\", \"linecolor\": \"white\", \"ticks\": \"\"}, \"baxis\": {\"gridcolor\": \"white\", \"linecolor\": \"white\", \"ticks\": \"\"}, \"bgcolor\": \"#E5ECF6\", \"caxis\": {\"gridcolor\": \"white\", \"linecolor\": \"white\", \"ticks\": \"\"}}, \"title\": {\"x\": 0.05}, \"xaxis\": {\"automargin\": true, \"gridcolor\": \"white\", \"linecolor\": \"white\", \"ticks\": \"\", \"title\": {\"standoff\": 15}, \"zerolinecolor\": \"white\", \"zerolinewidth\": 2}, \"yaxis\": {\"automargin\": true, \"gridcolor\": \"white\", \"linecolor\": \"white\", \"ticks\": \"\", \"title\": {\"standoff\": 15}, \"zerolinecolor\": \"white\", \"zerolinewidth\": 2}}}, \"title\": {\"text\": \"Slice Plot\"}, \"xaxis\": {\"anchor\": \"y\", \"domain\": [0.0, 0.2888888888888889], \"title\": {\"text\": \"batch_size\"}}, \"xaxis2\": {\"anchor\": \"y2\", \"domain\": [0.35555555555555557, 0.6444444444444445], \"title\": {\"text\": \"dropout\"}}, \"xaxis3\": {\"anchor\": \"y3\", \"domain\": [0.7111111111111111, 1.0], \"title\": {\"text\": \"units\"}}, \"yaxis\": {\"anchor\": \"x\", \"domain\": [0.0, 1.0], \"title\": {\"text\": \"Objective Value\"}}, \"yaxis2\": {\"anchor\": \"x2\", \"domain\": [0.0, 1.0], \"matches\": \"y\", \"showticklabels\": false}, \"yaxis3\": {\"anchor\": \"x3\", \"domain\": [0.0, 1.0], \"matches\": \"y\", \"showticklabels\": false}},\n",
              "                        {\"responsive\": true}\n",
              "                    ).then(function(){\n",
              "                            \n",
              "var gd = document.getElementById('8a5c3823-7514-4d6e-bd24-50ff7ff03547');\n",
              "var x = new MutationObserver(function (mutations, observer) {{\n",
              "        var display = window.getComputedStyle(gd).display;\n",
              "        if (!display || display === 'none') {{\n",
              "            console.log([gd, 'removed!']);\n",
              "            Plotly.purge(gd);\n",
              "            observer.disconnect();\n",
              "        }}\n",
              "}});\n",
              "\n",
              "// Listen for the removal of the full notebook cells\n",
              "var notebookContainer = gd.closest('#notebook-container');\n",
              "if (notebookContainer) {{\n",
              "    x.observe(notebookContainer, {childList: true});\n",
              "}}\n",
              "\n",
              "// Listen for the clearing of the current output cell\n",
              "var outputEl = gd.closest('.output');\n",
              "if (outputEl) {{\n",
              "    x.observe(outputEl, {childList: true});\n",
              "}}\n",
              "\n",
              "                        })\n",
              "                };\n",
              "                \n",
              "            </script>\n",
              "        </div>\n",
              "</body>\n",
              "</html>"
            ]
          },
          "metadata": {
            "tags": []
          }
        }
      ]
    },
    {
      "cell_type": "code",
      "metadata": {
        "colab": {
          "base_uri": "https://localhost:8080/",
          "height": 542
        },
        "id": "uPBpt7RlsdXs",
        "outputId": "c1d6f831-58a4-42cf-b053-213524ba2395"
      },
      "source": [
        "optuna.visualization.plot_param_importances(ate_study)"
      ],
      "execution_count": null,
      "outputs": [
        {
          "output_type": "display_data",
          "data": {
            "text/html": [
              "<html>\n",
              "<head><meta charset=\"utf-8\" /></head>\n",
              "<body>\n",
              "    <div>\n",
              "            <script src=\"https://cdnjs.cloudflare.com/ajax/libs/mathjax/2.7.5/MathJax.js?config=TeX-AMS-MML_SVG\"></script><script type=\"text/javascript\">if (window.MathJax) {MathJax.Hub.Config({SVG: {font: \"STIX-Web\"}});}</script>\n",
              "                <script type=\"text/javascript\">window.PlotlyConfig = {MathJaxConfig: 'local'};</script>\n",
              "        <script src=\"https://cdn.plot.ly/plotly-latest.min.js\"></script>    \n",
              "            <div id=\"6a32c419-66a5-4570-8c21-adb1bf2ce8ab\" class=\"plotly-graph-div\" style=\"height:525px; width:100%;\"></div>\n",
              "            <script type=\"text/javascript\">\n",
              "                \n",
              "                    window.PLOTLYENV=window.PLOTLYENV || {};\n",
              "                    \n",
              "                if (document.getElementById(\"6a32c419-66a5-4570-8c21-adb1bf2ce8ab\")) {\n",
              "                    Plotly.newPlot(\n",
              "                        '6a32c419-66a5-4570-8c21-adb1bf2ce8ab',\n",
              "                        [{\"cliponaxis\": false, \"hovertemplate\": [\"batch_size (IntUniformDistribution): 0.185809556840749<extra></extra>\", \"units (IntUniformDistribution): 0.35590688130818243<extra></extra>\", \"dropout (DiscreteUniformDistribution): 0.4582835618510685<extra></extra>\"], \"marker\": {\"color\": [\"rgb(8,81,156)\", \"rgb(8,81,156)\", \"rgb(8,48,107)\"]}, \"orientation\": \"h\", \"text\": [\"0.185809556840749\", \"0.35590688130818243\", \"0.4582835618510685\"], \"textposition\": \"outside\", \"texttemplate\": \"%{text:.2f}\", \"type\": \"bar\", \"x\": [0.185809556840749, 0.35590688130818243, 0.4582835618510685], \"y\": [\"batch_size\", \"units\", \"dropout\"]}],\n",
              "                        {\"showlegend\": false, \"template\": {\"data\": {\"bar\": [{\"error_x\": {\"color\": \"#2a3f5f\"}, \"error_y\": {\"color\": \"#2a3f5f\"}, \"marker\": {\"line\": {\"color\": \"#E5ECF6\", \"width\": 0.5}}, \"type\": \"bar\"}], \"barpolar\": [{\"marker\": {\"line\": {\"color\": \"#E5ECF6\", \"width\": 0.5}}, \"type\": \"barpolar\"}], \"carpet\": [{\"aaxis\": {\"endlinecolor\": \"#2a3f5f\", \"gridcolor\": \"white\", \"linecolor\": \"white\", \"minorgridcolor\": \"white\", \"startlinecolor\": \"#2a3f5f\"}, \"baxis\": {\"endlinecolor\": \"#2a3f5f\", \"gridcolor\": \"white\", \"linecolor\": \"white\", \"minorgridcolor\": \"white\", \"startlinecolor\": \"#2a3f5f\"}, \"type\": \"carpet\"}], \"choropleth\": [{\"colorbar\": {\"outlinewidth\": 0, \"ticks\": \"\"}, \"type\": \"choropleth\"}], \"contour\": [{\"colorbar\": {\"outlinewidth\": 0, \"ticks\": \"\"}, \"colorscale\": [[0.0, \"#0d0887\"], [0.1111111111111111, \"#46039f\"], [0.2222222222222222, \"#7201a8\"], [0.3333333333333333, \"#9c179e\"], [0.4444444444444444, \"#bd3786\"], [0.5555555555555556, \"#d8576b\"], [0.6666666666666666, \"#ed7953\"], [0.7777777777777778, \"#fb9f3a\"], [0.8888888888888888, \"#fdca26\"], [1.0, \"#f0f921\"]], \"type\": \"contour\"}], \"contourcarpet\": [{\"colorbar\": {\"outlinewidth\": 0, \"ticks\": \"\"}, \"type\": \"contourcarpet\"}], \"heatmap\": [{\"colorbar\": {\"outlinewidth\": 0, \"ticks\": \"\"}, \"colorscale\": [[0.0, \"#0d0887\"], [0.1111111111111111, \"#46039f\"], [0.2222222222222222, \"#7201a8\"], [0.3333333333333333, \"#9c179e\"], [0.4444444444444444, \"#bd3786\"], [0.5555555555555556, \"#d8576b\"], [0.6666666666666666, \"#ed7953\"], [0.7777777777777778, \"#fb9f3a\"], [0.8888888888888888, \"#fdca26\"], [1.0, \"#f0f921\"]], \"type\": \"heatmap\"}], \"heatmapgl\": [{\"colorbar\": {\"outlinewidth\": 0, \"ticks\": \"\"}, \"colorscale\": [[0.0, \"#0d0887\"], [0.1111111111111111, \"#46039f\"], [0.2222222222222222, \"#7201a8\"], [0.3333333333333333, \"#9c179e\"], [0.4444444444444444, \"#bd3786\"], [0.5555555555555556, \"#d8576b\"], [0.6666666666666666, \"#ed7953\"], [0.7777777777777778, \"#fb9f3a\"], [0.8888888888888888, \"#fdca26\"], [1.0, \"#f0f921\"]], \"type\": \"heatmapgl\"}], \"histogram\": [{\"marker\": {\"colorbar\": {\"outlinewidth\": 0, \"ticks\": \"\"}}, \"type\": \"histogram\"}], \"histogram2d\": [{\"colorbar\": {\"outlinewidth\": 0, \"ticks\": \"\"}, \"colorscale\": [[0.0, \"#0d0887\"], [0.1111111111111111, \"#46039f\"], [0.2222222222222222, \"#7201a8\"], [0.3333333333333333, \"#9c179e\"], [0.4444444444444444, \"#bd3786\"], [0.5555555555555556, \"#d8576b\"], [0.6666666666666666, \"#ed7953\"], [0.7777777777777778, \"#fb9f3a\"], [0.8888888888888888, \"#fdca26\"], [1.0, \"#f0f921\"]], \"type\": \"histogram2d\"}], \"histogram2dcontour\": [{\"colorbar\": {\"outlinewidth\": 0, \"ticks\": \"\"}, \"colorscale\": [[0.0, \"#0d0887\"], [0.1111111111111111, \"#46039f\"], [0.2222222222222222, \"#7201a8\"], [0.3333333333333333, \"#9c179e\"], [0.4444444444444444, \"#bd3786\"], [0.5555555555555556, \"#d8576b\"], [0.6666666666666666, \"#ed7953\"], [0.7777777777777778, \"#fb9f3a\"], [0.8888888888888888, \"#fdca26\"], [1.0, \"#f0f921\"]], \"type\": \"histogram2dcontour\"}], \"mesh3d\": [{\"colorbar\": {\"outlinewidth\": 0, \"ticks\": \"\"}, \"type\": \"mesh3d\"}], \"parcoords\": [{\"line\": {\"colorbar\": {\"outlinewidth\": 0, \"ticks\": \"\"}}, \"type\": \"parcoords\"}], \"pie\": [{\"automargin\": true, \"type\": \"pie\"}], \"scatter\": [{\"marker\": {\"colorbar\": {\"outlinewidth\": 0, \"ticks\": \"\"}}, \"type\": \"scatter\"}], \"scatter3d\": [{\"line\": {\"colorbar\": {\"outlinewidth\": 0, \"ticks\": \"\"}}, \"marker\": {\"colorbar\": {\"outlinewidth\": 0, \"ticks\": \"\"}}, \"type\": \"scatter3d\"}], \"scattercarpet\": [{\"marker\": {\"colorbar\": {\"outlinewidth\": 0, \"ticks\": \"\"}}, \"type\": \"scattercarpet\"}], \"scattergeo\": [{\"marker\": {\"colorbar\": {\"outlinewidth\": 0, \"ticks\": \"\"}}, \"type\": \"scattergeo\"}], \"scattergl\": [{\"marker\": {\"colorbar\": {\"outlinewidth\": 0, \"ticks\": \"\"}}, \"type\": \"scattergl\"}], \"scattermapbox\": [{\"marker\": {\"colorbar\": {\"outlinewidth\": 0, \"ticks\": \"\"}}, \"type\": \"scattermapbox\"}], \"scatterpolar\": [{\"marker\": {\"colorbar\": {\"outlinewidth\": 0, \"ticks\": \"\"}}, \"type\": \"scatterpolar\"}], \"scatterpolargl\": [{\"marker\": {\"colorbar\": {\"outlinewidth\": 0, \"ticks\": \"\"}}, \"type\": \"scatterpolargl\"}], \"scatterternary\": [{\"marker\": {\"colorbar\": {\"outlinewidth\": 0, \"ticks\": \"\"}}, \"type\": \"scatterternary\"}], \"surface\": [{\"colorbar\": {\"outlinewidth\": 0, \"ticks\": \"\"}, \"colorscale\": [[0.0, \"#0d0887\"], [0.1111111111111111, \"#46039f\"], [0.2222222222222222, \"#7201a8\"], [0.3333333333333333, \"#9c179e\"], [0.4444444444444444, \"#bd3786\"], [0.5555555555555556, \"#d8576b\"], [0.6666666666666666, \"#ed7953\"], [0.7777777777777778, \"#fb9f3a\"], [0.8888888888888888, \"#fdca26\"], [1.0, \"#f0f921\"]], \"type\": \"surface\"}], \"table\": [{\"cells\": {\"fill\": {\"color\": \"#EBF0F8\"}, \"line\": {\"color\": \"white\"}}, \"header\": {\"fill\": {\"color\": \"#C8D4E3\"}, \"line\": {\"color\": \"white\"}}, \"type\": \"table\"}]}, \"layout\": {\"annotationdefaults\": {\"arrowcolor\": \"#2a3f5f\", \"arrowhead\": 0, \"arrowwidth\": 1}, \"coloraxis\": {\"colorbar\": {\"outlinewidth\": 0, \"ticks\": \"\"}}, \"colorscale\": {\"diverging\": [[0, \"#8e0152\"], [0.1, \"#c51b7d\"], [0.2, \"#de77ae\"], [0.3, \"#f1b6da\"], [0.4, \"#fde0ef\"], [0.5, \"#f7f7f7\"], [0.6, \"#e6f5d0\"], [0.7, \"#b8e186\"], [0.8, \"#7fbc41\"], [0.9, \"#4d9221\"], [1, \"#276419\"]], \"sequential\": [[0.0, \"#0d0887\"], [0.1111111111111111, \"#46039f\"], [0.2222222222222222, \"#7201a8\"], [0.3333333333333333, \"#9c179e\"], [0.4444444444444444, \"#bd3786\"], [0.5555555555555556, \"#d8576b\"], [0.6666666666666666, \"#ed7953\"], [0.7777777777777778, \"#fb9f3a\"], [0.8888888888888888, \"#fdca26\"], [1.0, \"#f0f921\"]], \"sequentialminus\": [[0.0, \"#0d0887\"], [0.1111111111111111, \"#46039f\"], [0.2222222222222222, \"#7201a8\"], [0.3333333333333333, \"#9c179e\"], [0.4444444444444444, \"#bd3786\"], [0.5555555555555556, \"#d8576b\"], [0.6666666666666666, \"#ed7953\"], [0.7777777777777778, \"#fb9f3a\"], [0.8888888888888888, \"#fdca26\"], [1.0, \"#f0f921\"]]}, \"colorway\": [\"#636efa\", \"#EF553B\", \"#00cc96\", \"#ab63fa\", \"#FFA15A\", \"#19d3f3\", \"#FF6692\", \"#B6E880\", \"#FF97FF\", \"#FECB52\"], \"font\": {\"color\": \"#2a3f5f\"}, \"geo\": {\"bgcolor\": \"white\", \"lakecolor\": \"white\", \"landcolor\": \"#E5ECF6\", \"showlakes\": true, \"showland\": true, \"subunitcolor\": \"white\"}, \"hoverlabel\": {\"align\": \"left\"}, \"hovermode\": \"closest\", \"mapbox\": {\"style\": \"light\"}, \"paper_bgcolor\": \"white\", \"plot_bgcolor\": \"#E5ECF6\", \"polar\": {\"angularaxis\": {\"gridcolor\": \"white\", \"linecolor\": \"white\", \"ticks\": \"\"}, \"bgcolor\": \"#E5ECF6\", \"radialaxis\": {\"gridcolor\": \"white\", \"linecolor\": \"white\", \"ticks\": \"\"}}, \"scene\": {\"xaxis\": {\"backgroundcolor\": \"#E5ECF6\", \"gridcolor\": \"white\", \"gridwidth\": 2, \"linecolor\": \"white\", \"showbackground\": true, \"ticks\": \"\", \"zerolinecolor\": \"white\"}, \"yaxis\": {\"backgroundcolor\": \"#E5ECF6\", \"gridcolor\": \"white\", \"gridwidth\": 2, \"linecolor\": \"white\", \"showbackground\": true, \"ticks\": \"\", \"zerolinecolor\": \"white\"}, \"zaxis\": {\"backgroundcolor\": \"#E5ECF6\", \"gridcolor\": \"white\", \"gridwidth\": 2, \"linecolor\": \"white\", \"showbackground\": true, \"ticks\": \"\", \"zerolinecolor\": \"white\"}}, \"shapedefaults\": {\"line\": {\"color\": \"#2a3f5f\"}}, \"ternary\": {\"aaxis\": {\"gridcolor\": \"white\", \"linecolor\": \"white\", \"ticks\": \"\"}, \"baxis\": {\"gridcolor\": \"white\", \"linecolor\": \"white\", \"ticks\": \"\"}, \"bgcolor\": \"#E5ECF6\", \"caxis\": {\"gridcolor\": \"white\", \"linecolor\": \"white\", \"ticks\": \"\"}}, \"title\": {\"x\": 0.05}, \"xaxis\": {\"automargin\": true, \"gridcolor\": \"white\", \"linecolor\": \"white\", \"ticks\": \"\", \"title\": {\"standoff\": 15}, \"zerolinecolor\": \"white\", \"zerolinewidth\": 2}, \"yaxis\": {\"automargin\": true, \"gridcolor\": \"white\", \"linecolor\": \"white\", \"ticks\": \"\", \"title\": {\"standoff\": 15}, \"zerolinecolor\": \"white\", \"zerolinewidth\": 2}}}, \"title\": {\"text\": \"Hyperparameter Importances\"}, \"xaxis\": {\"title\": {\"text\": \"Importance for Objective Value\"}}, \"yaxis\": {\"title\": {\"text\": \"Hyperparameter\"}}},\n",
              "                        {\"responsive\": true}\n",
              "                    ).then(function(){\n",
              "                            \n",
              "var gd = document.getElementById('6a32c419-66a5-4570-8c21-adb1bf2ce8ab');\n",
              "var x = new MutationObserver(function (mutations, observer) {{\n",
              "        var display = window.getComputedStyle(gd).display;\n",
              "        if (!display || display === 'none') {{\n",
              "            console.log([gd, 'removed!']);\n",
              "            Plotly.purge(gd);\n",
              "            observer.disconnect();\n",
              "        }}\n",
              "}});\n",
              "\n",
              "// Listen for the removal of the full notebook cells\n",
              "var notebookContainer = gd.closest('#notebook-container');\n",
              "if (notebookContainer) {{\n",
              "    x.observe(notebookContainer, {childList: true});\n",
              "}}\n",
              "\n",
              "// Listen for the clearing of the current output cell\n",
              "var outputEl = gd.closest('.output');\n",
              "if (outputEl) {{\n",
              "    x.observe(outputEl, {childList: true});\n",
              "}}\n",
              "\n",
              "                        })\n",
              "                };\n",
              "                \n",
              "            </script>\n",
              "        </div>\n",
              "</body>\n",
              "</html>"
            ]
          },
          "metadata": {
            "tags": []
          }
        }
      ]
    }
  ]
}