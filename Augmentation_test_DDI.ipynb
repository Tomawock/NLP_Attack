{
  "nbformat": 4,
  "nbformat_minor": 0,
  "metadata": {
    "colab": {
      "name": "Augmentation.ipynb",
      "provenance": [],
      "collapsed_sections": []
    },
    "kernelspec": {
      "name": "python3",
      "display_name": "Python 3"
    }
  },
  "cells": [
    {
      "cell_type": "markdown",
      "metadata": {
        "id": "tlOjpoNp8ITf"
      },
      "source": [
        "## **Import vari e inizializzazione pacchetti**"
      ]
    },
    {
      "cell_type": "code",
      "metadata": {
        "id": "XCCBpzDo8Hud"
      },
      "source": [
        "pip install textattack"
      ],
      "execution_count": null,
      "outputs": []
    },
    {
      "cell_type": "code",
      "metadata": {
        "id": "k5kKxjg6AWJt",
        "colab": {
          "base_uri": "https://localhost:8080/"
        },
        "outputId": "b9c318ca-3a54-461a-f4f4-8492bcd0d8f3"
      },
      "source": [
        "from google.colab import drive\n",
        "drive.mount('/content/drive')"
      ],
      "execution_count": 2,
      "outputs": [
        {
          "output_type": "stream",
          "text": [
            "Mounted at /content/drive\n"
          ],
          "name": "stdout"
        }
      ]
    },
    {
      "cell_type": "markdown",
      "metadata": {
        "id": "xQv50o6BA2zb"
      },
      "source": [
        "### **NOTE IMPORTANTI**\n",
        "\n",
        "\n",
        "> la funzione **Augmenter.augment(arg)** utilizza al suo interno **random**, peccato che non si puo settare il seed durante la fase di costruzione dell'oggetto o quando viene richiamata la funzione, questo ha comportato l'import di random per forzare il seed prima dell'esecuzione del codice.\n",
        "\n"
      ]
    },
    {
      "cell_type": "code",
      "metadata": {
        "id": "WFx8h8ye8N-P"
      },
      "source": [
        "import numpy as np\n",
        "import pandas as pd\n",
        "import matplotlib.pyplot as plt\n",
        "import random\n",
        "import timeit # per il testing\n",
        "import regex as re"
      ],
      "execution_count": 62,
      "outputs": []
    },
    {
      "cell_type": "markdown",
      "metadata": {
        "id": "y8-aHL3M89yn"
      },
      "source": [
        "# **DII**\n"
      ]
    },
    {
      "cell_type": "code",
      "metadata": {
        "colab": {
          "base_uri": "https://localhost:8080/"
        },
        "id": "yqRivAjI888B",
        "outputId": "50c30698-18ff-4c4b-be8e-7b6593db9018"
      },
      "source": [
        "dataset = pd.read_csv('/content/drive/Shareddrives/Deep Learning/datasets/Bert_data/ddi2013-type/train.tsv', sep='\\t')\n",
        "print(f\"COLONNE:{dataset.columns}\")\n",
        "print(f\"DIMENSIONE:{dataset.shape}\")"
      ],
      "execution_count": 53,
      "outputs": [
        {
          "output_type": "stream",
          "text": [
            "COLONNE:Index(['index', 'sentence', 'label'], dtype='object')\n",
            "DIMENSIONE:(18779, 3)\n"
          ],
          "name": "stdout"
        }
      ]
    },
    {
      "cell_type": "code",
      "metadata": {
        "colab": {
          "base_uri": "https://localhost:8080/"
        },
        "id": "hq-RlGVoVPc4",
        "outputId": "014aed6e-6b20-428f-f1de-2f9ca93c4066"
      },
      "source": [
        "pd.set_option('display.max_colwidth', -1)"
      ],
      "execution_count": 54,
      "outputs": [
        {
          "output_type": "stream",
          "text": [
            "/usr/local/lib/python3.6/dist-packages/ipykernel_launcher.py:1: FutureWarning: Passing a negative integer is deprecated in version 1.0 and will not be supported in future version. Instead, use None to not limit the column width.\n",
            "  \"\"\"Entry point for launching an IPython kernel.\n"
          ],
          "name": "stderr"
        }
      ]
    },
    {
      "cell_type": "code",
      "metadata": {
        "colab": {
          "base_uri": "https://localhost:8080/"
        },
        "id": "10QkaY3nPMLL",
        "outputId": "1e28eea5-8441-4665-dd60-afb6e170ba32"
      },
      "source": [
        "rar=dataset.copy()\r\n",
        "rar.drop_duplicates(subset =\"sentence\", \r\n",
        "                     keep = \"last\", inplace = True)\r\n",
        "print(f\"COLONNE:{rar.columns}\")\r\n",
        "print(f\"DIMENSIONE:{rar.shape}\")"
      ],
      "execution_count": 56,
      "outputs": [
        {
          "output_type": "stream",
          "text": [
            "COLONNE:Index(['index', 'sentence', 'label'], dtype='object')\n",
            "DIMENSIONE:(18439, 3)\n"
          ],
          "name": "stdout"
        }
      ]
    },
    {
      "cell_type": "markdown",
      "metadata": {
        "id": "UZ8yS8USfij2"
      },
      "source": [
        "Filtering del dataset dei dati duplicati e rimozione parti inutili di esso"
      ]
    },
    {
      "cell_type": "code",
      "metadata": {
        "id": "_hGDxZS8EOhP"
      },
      "source": [
        "rar=dataset.copy()\n",
        "#print(rar.groupby(['Text']).count().shape)\n",
        "rar.drop_duplicates(subset =\"Text\", \n",
        "                     keep = \"last\", inplace = True) \n",
        "rar.drop(['Id','ProductId', 'UserId', 'ProfileName', 'HelpfulnessNumerator','HelpfulnessDenominator','Time'], axis=1, inplace=True)\n",
        "print(f\"COLONNE:{rar.columns}\")\n",
        "print(f\"DIMENSIONE:{rar.shape}\")"
      ],
      "execution_count": null,
      "outputs": []
    },
    {
      "cell_type": "code",
      "metadata": {
        "colab": {
          "base_uri": "https://localhost:8080/"
        },
        "id": "nSqzq-4zC91n",
        "outputId": "33d8040b-5662-4076-a238-afe7270fb0c5"
      },
      "source": [
        "from textattack.augmentation import WordNetAugmenter\n",
        "from collections import OrderedDict\n",
        "random.seed(33)\n",
        "\n",
        "my_items = list()\n",
        "number_of_trasformation_to_add=1\n",
        "\n",
        "start_time = timeit.default_timer()\n",
        "augmenter = WordNetAugmenter(pct_words_to_swap=1, transformations_per_example=number_of_trasformation_to_add)\n",
        "\n",
        "for row in rar.head(6).itertuples():\n",
        "  result=augmenter.augment(row.sentence)\n",
        "  my_items.append({'index': row.index, 'label': row.label,'sentence':row.sentence})\n",
        "  \n",
        "  for i in range(number_of_trasformation_to_add):\n",
        "    my_items.append({'index': row.index, 'label': row.label,'sentence': re.sub(r'@[^$]*\\$', '@DRUG$', result[i])})\n",
        "  \n",
        "\n",
        "elapsed = timeit.default_timer() - start_time\n",
        "print(f'TIME OF EXECUTION={elapsed}')\n",
        "augmeted_new = pd.DataFrame(data=my_items, columns=rar.columns)\n",
        "print(f\"COLONNE:{augmeted_new.columns}\")\n",
        "print(f\"DIMENSIONE:{augmeted_new.shape}\")"
      ],
      "execution_count": 74,
      "outputs": [
        {
          "output_type": "stream",
          "text": [
            "TIME OF EXECUTION=0.7520406489998095\n",
            "COLONNE:Index(['index', 'sentence', 'label'], dtype='object')\n",
            "DIMENSIONE:(12, 3)\n"
          ],
          "name": "stdout"
        }
      ]
    },
    {
      "cell_type": "code",
      "metadata": {
        "colab": {
          "base_uri": "https://localhost:8080/"
        },
        "id": "FAyru7c0P1AE",
        "outputId": "0498dc93-ce93-4cce-e8c6-661918e8b58a"
      },
      "source": [
        "augmeted_new.head(6).sentence"
      ],
      "execution_count": 75,
      "outputs": [
        {
          "output_type": "execute_result",
          "data": {
            "text/plain": [
              "0    The concomitant intake of @DRUG$ and @DRUG$ does not affect the pharmacokinetics of either alcohol or acamprosate.          \n",
              "1    The incidental consumption of @DRUG$ and @DRUG$ does not impress the pharmacokinetics of either inebriant or acamprosate.   \n",
              "2    The concomitant intake of @DRUG$ and Acamprosate does not affect the pharmacokinetics of either @DRUG$ or acamprosate.      \n",
              "3    The accompanying consumption of @DRUG$ and Acamprosate does not impact the pharmacokinetics of either @DRUG$ or acamprosate.\n",
              "4    The concomitant intake of @DRUG$ and Acamprosate does not affect the pharmacokinetics of either alcohol or @DRUG$.          \n",
              "5    The sequent uptake of @DRUG$ and Acamprosate does not strike the pharmacokinetics of either inebriant or @DRUG$.            \n",
              "Name: sentence, dtype: object"
            ]
          },
          "metadata": {
            "tags": []
          },
          "execution_count": 75
        }
      ]
    },
    {
      "cell_type": "code",
      "metadata": {
        "colab": {
          "base_uri": "https://localhost:8080/"
        },
        "id": "Gar6bh0-YjiM",
        "outputId": "7e3e9b40-15c0-42b7-c9f9-e37389b0bde4"
      },
      "source": [
        "\r\n",
        "# import transformations, contraints, and the Augmenter\r\n",
        "from textattack.augmentation import EmbeddingAugmenter\r\n",
        "#Set the seed or the augmenter\r\n",
        "random.seed(33)\r\n",
        "\r\n",
        "my_items = list()\r\n",
        "number_of_trasformation_to_add=1\r\n",
        "\r\n",
        "start_time = timeit.default_timer()\r\n",
        "augmenter = EmbeddingAugmenter(pct_words_to_swap=1, transformations_per_example=number_of_trasformation_to_add)\r\n",
        "\r\n",
        "for row in rar.head(10).itertuples():\r\n",
        "  result=augmenter.augment(row.sentence)\r\n",
        "  my_items.append({'index': row.index,'label':row.label,'sentence':row.sentence})\r\n",
        "\r\n",
        "  for i in range(number_of_trasformation_to_add): \r\n",
        "    my_items.append({'index': row.index,'label':row.label,'sentence': re.sub(r'@[^$]*\\$', '@DRUG$', result[i])})\r\n",
        "\r\n",
        "elapsed = timeit.default_timer() - start_time\r\n",
        "print(f'TIME OF EXECUTION={elapsed}')\r\n",
        "embedded_new = pd.DataFrame(data=my_items, columns=rar.columns)\r\n",
        "print(f\"COLONNE:{embedded_new.columns}\")\r\n",
        "print(f\"DIMENSIONE:{embedded_new.shape}\")"
      ],
      "execution_count": 76,
      "outputs": [
        {
          "output_type": "stream",
          "text": [
            "TIME OF EXECUTION=4.7040050290002\n",
            "COLONNE:Index(['index', 'sentence', 'label'], dtype='object')\n",
            "DIMENSIONE:(20, 3)\n"
          ],
          "name": "stdout"
        }
      ]
    },
    {
      "cell_type": "code",
      "metadata": {
        "colab": {
          "base_uri": "https://localhost:8080/"
        },
        "id": "_m_TwBtZZQat",
        "outputId": "92806862-1853-4c99-8ec2-ba8047592ea4"
      },
      "source": [
        "embedded_new.head(10).sentence"
      ],
      "execution_count": 78,
      "outputs": [
        {
          "output_type": "execute_result",
          "data": {
            "text/plain": [
              "0    The concomitant intake of @DRUG$ and @DRUG$ does not affect the pharmacokinetics of either alcohol or acamprosate.            \n",
              "1    The concomitant consumption of @DRUG$ and @DRUG$ does not impacting the pharmacokinetics of neither drink or acamprosate.     \n",
              "2    The concomitant intake of @DRUG$ and Acamprosate does not affect the pharmacokinetics of either @DRUG$ or acamprosate.        \n",
              "3    The concomitant admittance of @DRUG$ and Acamprosate does not impacting the pharmacokinetics of neither @DRUG$ or acamprosate.\n",
              "4    The concomitant intake of @DRUG$ and Acamprosate does not affect the pharmacokinetics of either alcohol or @DRUG$.            \n",
              "5    The concomitant admittance of @DRUG$ and Acamprosate does not afflict the pharmacokinetics of nor drinking or @DRUG$.         \n",
              "6    The concomitant intake of alcohol and @DRUG$ does not affect the pharmacokinetics of either @DRUG$ or acamprosate.            \n",
              "7    The concomitant admittance of drinking and @DRUG$ does not influences the pharmacokinetics of nor @DRUG$ or acamprosate.      \n",
              "8    The concomitant intake of alcohol and @DRUG$ does not affect the pharmacokinetics of either alcohol or @DRUG$.                \n",
              "9    The concomitant admittance of drinking and @DRUG$ does not afflict the pharmacokinetics of nor liquor or @DRUG$.              \n",
              "Name: sentence, dtype: object"
            ]
          },
          "metadata": {
            "tags": []
          },
          "execution_count": 78
        }
      ]
    }
  ]
}