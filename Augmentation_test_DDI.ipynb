{
  "nbformat": 4,
  "nbformat_minor": 0,
  "metadata": {
    "colab": {
      "name": "Augmentation_test_DDI.ipynb",
      "provenance": [],
      "authorship_tag": "ABX9TyNW3gskVQ7MINWp3+IslGEW",
      "include_colab_link": true
    },
    "kernelspec": {
      "name": "python3",
      "display_name": "Python 3"
    }
  },
  "cells": [
    {
      "cell_type": "markdown",
      "metadata": {
        "id": "view-in-github",
        "colab_type": "text"
      },
      "source": [
        "<a href=\"https://colab.research.google.com/github/Tomawock/NLP_Attack/blob/main/Augmentation_test_DDI.ipynb\" target=\"_parent\"><img src=\"https://colab.research.google.com/assets/colab-badge.svg\" alt=\"Open In Colab\"/></a>"
      ]
    },
    {
      "cell_type": "code",
      "metadata": {
        "id": "Vw61JhILbyDD"
      },
      "source": [
        "!pip install textattack"
      ],
      "execution_count": null,
      "outputs": []
    },
    {
      "cell_type": "code",
      "metadata": {
        "colab": {
          "base_uri": "https://localhost:8080/"
        },
        "id": "M-6axcLOb0nF",
        "outputId": "f902875c-b49e-4ffe-de7d-11f9146ef8e7"
      },
      "source": [
        "from google.colab import drive\n",
        "drive.mount('/content/drive')"
      ],
      "execution_count": 2,
      "outputs": [
        {
          "output_type": "stream",
          "text": [
            "Mounted at /content/drive\n"
          ],
          "name": "stdout"
        }
      ]
    },
    {
      "cell_type": "code",
      "metadata": {
        "colab": {
          "base_uri": "https://localhost:8080/"
        },
        "id": "UwPuTTgFb7y8",
        "outputId": "37abd8fa-5c9a-4575-f6b8-154b8fee69a5"
      },
      "source": [
        "import numpy as np\n",
        "import pandas as pd\n",
        "pd.set_option('display.max_colwidth', -1)\n",
        "import matplotlib.pyplot as plt\n",
        "import random\n",
        "import timeit\n",
        "import regex as re"
      ],
      "execution_count": 3,
      "outputs": [
        {
          "output_type": "stream",
          "text": [
            "/usr/local/lib/python3.6/dist-packages/ipykernel_launcher.py:3: FutureWarning: Passing a negative integer is deprecated in version 1.0 and will not be supported in future version. Instead, use None to not limit the column width.\n",
            "  This is separate from the ipykernel package so we can avoid doing imports until\n"
          ],
          "name": "stderr"
        }
      ]
    },
    {
      "cell_type": "code",
      "metadata": {
        "colab": {
          "base_uri": "https://localhost:8080/"
        },
        "id": "UBQQFSuSb_w0",
        "outputId": "2f76832e-5988-4caa-bb75-bb61ad7143c3"
      },
      "source": [
        "dataset = pd.read_csv('/content/drive/Shareddrives/Deep Learning/datasets/Bert_data/ddi2013-type/train.tsv', sep='\\t')\n",
        "print(f\"COLONNE:{dataset.columns}\")\n",
        "print(f\"DIMENSIONE:{dataset.shape}\")"
      ],
      "execution_count": 4,
      "outputs": [
        {
          "output_type": "stream",
          "text": [
            "COLONNE:Index(['index', 'sentence', 'label'], dtype='object')\n",
            "DIMENSIONE:(18779, 3)\n"
          ],
          "name": "stdout"
        }
      ]
    },
    {
      "cell_type": "code",
      "metadata": {
        "id": "k5inSX06b_16"
      },
      "source": [
        "aug = dataset.copy()"
      ],
      "execution_count": 7,
      "outputs": []
    },
    {
      "cell_type": "markdown",
      "metadata": {
        "id": "vTW3m5fXew6J"
      },
      "source": [
        "##Augmentation Phase"
      ]
    },
    {
      "cell_type": "markdown",
      "metadata": {
        "id": "HQPKDreRezLp"
      },
      "source": [
        "###WordNet"
      ]
    },
    {
      "cell_type": "code",
      "metadata": {
        "colab": {
          "base_uri": "https://localhost:8080/"
        },
        "id": "YiJ1fOZ2b_7d",
        "outputId": "e3e5e588-57ce-4051-a033-afe97913b56d"
      },
      "source": [
        "from textattack.augmentation import WordNetAugmenter\n",
        "random.seed(33)\n",
        "\n",
        "my_items = []\n",
        "num_tras_to_add = 2\n",
        "\n",
        "start_time = timeit.default_timer()\n",
        "augmenter = WordNetAugmenter(pct_words_to_swap=1,\n",
        "                             transformations_per_example=num_tras_to_add)\n",
        "\n",
        "for row in aug.head(10).itertuples():\n",
        "  result = augmenter.augment(row.sentence)\n",
        "  my_items.append({'index': row.index,\n",
        "                   'label': row.label,\n",
        "                   'sentence':row.sentence})\n",
        "  \n",
        "  for i in range(num_tras_to_add):\n",
        "    my_items.append({'index': row.index,\n",
        "                     'label': row.label,\n",
        "                     'sentence': re.sub(r'@[^$]*\\$', '@DRUG$', result[i])})\n",
        "  \n",
        "\n",
        "elapsed = timeit.default_timer() - start_time\n",
        "print(f'TIME OF EXECUTION={elapsed}')\n",
        "augmeted_new = pd.DataFrame(data=my_items, columns=aug.columns)\n",
        "print(f\"COLONNE:{augmeted_new.columns}\")\n",
        "print(f\"DIMENSIONE:{augmeted_new.shape}\")"
      ],
      "execution_count": 8,
      "outputs": [
        {
          "output_type": "stream",
          "text": [
            "TIME OF EXECUTION=0.22870302000001175\n",
            "COLONNE:Index(['index', 'sentence', 'label'], dtype='object')\n",
            "DIMENSIONE:(30, 3)\n"
          ],
          "name": "stdout"
        }
      ]
    },
    {
      "cell_type": "code",
      "metadata": {
        "colab": {
          "base_uri": "https://localhost:8080/"
        },
        "id": "5SWTRL9qcjC2",
        "outputId": "59fc5bde-68e2-4d70-8a66-7ba8e3645713"
      },
      "source": [
        "augmeted_new.head(9).sentence"
      ],
      "execution_count": 9,
      "outputs": [
        {
          "output_type": "execute_result",
          "data": {
            "text/plain": [
              "0    The concomitant intake of @DRUG$ and @DRUG$ does not affect the pharmacokinetics of either alcohol or acamprosate.         \n",
              "1    The attendant ingestion of @DRUG$ and @DRUG$ does not strike the pharmacokinetics of either intoxicant or acamprosate.     \n",
              "2    The sequent ingestion of @DRUG$ and @DRUG$ does not impact the pharmacokinetics of either intoxicant or acamprosate.       \n",
              "3    The concomitant intake of @DRUG$ and Acamprosate does not affect the pharmacokinetics of either @DRUG$ or acamprosate.     \n",
              "4    The accompanying inhalation of @DRUG$ and Acamprosate does not regard the pharmacokinetics of either @DRUG$ or acamprosate.\n",
              "5    The consequent inspiration of @DRUG$ and Acamprosate does not impact the pharmacokinetics of either @DRUG$ or acamprosate. \n",
              "6    The concomitant intake of @DRUG$ and Acamprosate does not affect the pharmacokinetics of either alcohol or @DRUG$.         \n",
              "7    The attendant uptake of @DRUG$ and Acamprosate does not sham the pharmacokinetics of either inebriant or @DRUG$.           \n",
              "8    The sequent inspiration of @DRUG$ and Acamprosate does not pretend the pharmacokinetics of either inebriant or @DRUG$.     \n",
              "Name: sentence, dtype: object"
            ]
          },
          "metadata": {
            "tags": []
          },
          "execution_count": 9
        }
      ]
    },
    {
      "cell_type": "markdown",
      "metadata": {
        "id": "WbpvYtCoe2vj"
      },
      "source": [
        "###WordEmbedding"
      ]
    },
    {
      "cell_type": "code",
      "metadata": {
        "colab": {
          "base_uri": "https://localhost:8080/"
        },
        "id": "fEJvuoPucmI9",
        "outputId": "8383f67a-c503-48fe-8a35-dbd203540d6c"
      },
      "source": [
        "from textattack.augmentation import EmbeddingAugmenter\n",
        "random.seed(33)\n",
        "\n",
        "my_items = []\n",
        "num_tras_to_add = 2\n",
        "\n",
        "start_time = timeit.default_timer()\n",
        "augmenter = EmbeddingAugmenter(pct_words_to_swap=1,\n",
        "                               transformations_per_example=num_tras_to_add)\n",
        "\n",
        "for row in aug.head(10).itertuples():\n",
        "  result=augmenter.augment(row.sentence)\n",
        "  my_items.append({'index': row.index,\n",
        "                   'label': row.label,\n",
        "                   'sentence': row.sentence})\n",
        "\n",
        "  for i in range(num_tras_to_add): \n",
        "    my_items.append({'index': row.index,\n",
        "                     'label': row.label,\n",
        "                     'sentence': re.sub(r'@[^$]*\\$', '@DRUG$', result[i])})\n",
        "\n",
        "elapsed = timeit.default_timer() - start_time\n",
        "print(f'TIME OF EXECUTION={elapsed}')\n",
        "embedded_new = pd.DataFrame(data=my_items, columns=aug.columns)\n",
        "print(f\"COLONNE:{embedded_new.columns}\")\n",
        "print(f\"DIMENSIONE:{embedded_new.shape}\")"
      ],
      "execution_count": 12,
      "outputs": [
        {
          "output_type": "stream",
          "text": [
            "TIME OF EXECUTION=5.549257976000035\n",
            "COLONNE:Index(['index', 'sentence', 'label'], dtype='object')\n",
            "DIMENSIONE:(30, 3)\n"
          ],
          "name": "stdout"
        }
      ]
    },
    {
      "cell_type": "code",
      "metadata": {
        "colab": {
          "base_uri": "https://localhost:8080/"
        },
        "id": "6y3dKd2ZcqyV",
        "outputId": "cfb9aeb3-d563-4705-e3ed-d9b2d4e6990a"
      },
      "source": [
        "embedded_new.head(9).sentence"
      ],
      "execution_count": 13,
      "outputs": [
        {
          "output_type": "execute_result",
          "data": {
            "text/plain": [
              "0    The concomitant intake of @DRUG$ and @DRUG$ does not affect the pharmacokinetics of either alcohol or acamprosate.        \n",
              "1    The concomitant admittance of @DRUG$ and @DRUG$ does not impacting the pharmacokinetics of neither ethanol or acamprosate.\n",
              "2    The concomitant consumption of @DRUG$ and @DRUG$ does not impacting the pharmacokinetics of neither drink or acamprosate. \n",
              "3    The concomitant intake of @DRUG$ and Acamprosate does not affect the pharmacokinetics of either @DRUG$ or acamprosate.    \n",
              "4    The concomitant admittance of @DRUG$ and Acamprosate does not afflict the pharmacokinetics of nor @DRUG$ or acamprosate.  \n",
              "5    The concomitant admittance of @DRUG$ and Acamprosate does not afflict the pharmacokinetics of nor @DRUG$ or acamprosate.  \n",
              "6    The concomitant intake of @DRUG$ and Acamprosate does not affect the pharmacokinetics of either alcohol or @DRUG$.        \n",
              "7    The concomitant admittance of @DRUG$ and Acamprosate does not afflict the pharmacokinetics of neither drink or @DRUG$.    \n",
              "8    The concomitant consumption of @DRUG$ and Acamprosate does not afflict the pharmacokinetics of nor beverage or @DRUG$.    \n",
              "Name: sentence, dtype: object"
            ]
          },
          "metadata": {
            "tags": []
          },
          "execution_count": 13
        }
      ]
    }
  ]
}