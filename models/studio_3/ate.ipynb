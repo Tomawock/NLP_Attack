{
  "nbformat": 4,
  "nbformat_minor": 0,
  "metadata": {
    "colab": {
      "name": "ate studio 3.ipynb",
      "provenance": [],
      "collapsed_sections": [],
      "toc_visible": true
    },
    "kernelspec": {
      "name": "python3",
      "display_name": "Python 3"
    },
    "accelerator": "GPU"
  },
  "cells": [
    {
      "cell_type": "code",
      "metadata": {
        "id": "Rh-DWn9G8qo3",
        "colab": {
          "base_uri": "https://localhost:8080/"
        },
        "outputId": "7ebe3394-73dd-48e6-f147-b4384844d26f"
      },
      "source": [
        "from google.colab import drive\n",
        "drive.mount('/content/drive')"
      ],
      "execution_count": 1,
      "outputs": [
        {
          "output_type": "stream",
          "text": [
            "Mounted at /content/drive\n"
          ],
          "name": "stdout"
        }
      ]
    },
    {
      "cell_type": "code",
      "metadata": {
        "id": "MhZgkl4B_XVu"
      },
      "source": [
        "!pip install optuna\n",
        "import optuna"
      ],
      "execution_count": null,
      "outputs": []
    },
    {
      "cell_type": "code",
      "metadata": {
        "id": "rvIOj4268c1y"
      },
      "source": [
        "import numpy as np\n",
        "import pandas as pd\n",
        "import pickle\n",
        "\n",
        "import tensorflow as tf\n",
        "from tensorflow import keras\n",
        "from sklearn.preprocessing import OneHotEncoder"
      ],
      "execution_count": 17,
      "outputs": []
    },
    {
      "cell_type": "code",
      "metadata": {
        "id": "9omR98sh9v-r"
      },
      "source": [
        "path=\"/content/drive/Shareddrives/Deep Learning/datasets/ATE_ABSITA/\""
      ],
      "execution_count": 18,
      "outputs": []
    },
    {
      "cell_type": "code",
      "metadata": {
        "id": "xPJoY-GO8suc"
      },
      "source": [
        "test = pd.read_json(path+'ATE_ABSITA_test_set/ate_absita_gold.ndjson',\n",
        "                    lines=True)\n",
        "\n",
        "train = pd.read_json(path+'ATE_ABSITA_training_set/ate_absita_training.ndjson',\n",
        "                     lines=True)\n",
        "\n",
        "data_sinonimi = pd.read_csv(path+\"ATE_ABSITA_test_set/sinonimi.csv\")\n",
        "data_embedding = pd.read_csv(path+\"ATE_ABSITA_test_set/embedding.csv\")"
      ],
      "execution_count": 19,
      "outputs": []
    },
    {
      "cell_type": "code",
      "metadata": {
        "id": "9bZ02rvT5z8H"
      },
      "source": [
        "# carico e creo dataset per studio 3, anche se le variabili si chiamano ...study_1 \n",
        "embedding_to_concat = pd.read_csv(path+\"ATE_ABSITA_training_set/embedding.csv\")\n",
        "sinonimi_to_concat = pd.read_csv(path+\"ATE_ABSITA_training_set/sinonimi.csv\")\n",
        "train_study_1 = pd.concat([train, embedding_to_concat, sinonimi_to_concat], ignore_index=True)\n",
        "test_study_1 = pd.concat([test, data_embedding, data_sinonimi], ignore_index=True)"
      ],
      "execution_count": 20,
      "outputs": []
    },
    {
      "cell_type": "code",
      "metadata": {
        "id": "X1OCMqGV8szX",
        "colab": {
          "base_uri": "https://localhost:8080/"
        },
        "outputId": "f45f492d-fd34-4a35-8d11-0ed248591874"
      },
      "source": [
        "print(test.columns)\n",
        "print(train.columns)\n",
        "print(data_sinonimi.columns)\n",
        "print(data_embedding.columns)"
      ],
      "execution_count": 21,
      "outputs": [
        {
          "output_type": "stream",
          "text": [
            "Index(['sentence', 'id_sentence', 'score', 'polarities', 'aspects_position',\n",
            "       'aspects'],\n",
            "      dtype='object')\n",
            "Index(['sentence', 'id_sentence', 'score', 'polarities', 'aspects_position',\n",
            "       'aspects'],\n",
            "      dtype='object')\n",
            "Index(['sentence', 'score', 'polarities', 'aspects_position', 'aspects'], dtype='object')\n",
            "Index(['sentence', 'score', 'polarities', 'aspects_position', 'aspects'], dtype='object')\n"
          ],
          "name": "stdout"
        }
      ]
    },
    {
      "cell_type": "code",
      "metadata": {
        "id": "ZbAHXJR78s3W",
        "colab": {
          "base_uri": "https://localhost:8080/"
        },
        "outputId": "e70ef474-ee69-4fb8-9ec6-3cb2180c17cd"
      },
      "source": [
        "train.drop(columns=['id_sentence','polarities','aspects_position','aspects'], inplace=True)\n",
        "test.drop(columns=['id_sentence','polarities','aspects_position','aspects'], inplace=True)\n",
        "data_sinonimi.drop(columns=['polarities','aspects_position','aspects'], inplace=True)\n",
        "data_embedding.drop(columns=['polarities','aspects_position','aspects'], inplace=True)\n",
        "print(f'Contains {len(train)} sentences')\n",
        "print(f'Contains {len(test)} sentences')\n",
        "print(f'Contains {len(data_sinonimi)} sentences')\n",
        "print(f'Contains {len(data_embedding)} sentences')"
      ],
      "execution_count": 22,
      "outputs": [
        {
          "output_type": "stream",
          "text": [
            "Contains 3054 sentences\n",
            "Contains 1200 sentences\n",
            "Contains 1200 sentences\n",
            "Contains 1200 sentences\n"
          ],
          "name": "stdout"
        }
      ]
    },
    {
      "cell_type": "code",
      "metadata": {
        "id": "pkR5_q5n6ZbS",
        "colab": {
          "base_uri": "https://localhost:8080/"
        },
        "outputId": "031f7048-08a5-4b5f-bb7f-8693ab105015"
      },
      "source": [
        "# study 1\n",
        "train_study_1.drop(columns=['id_sentence','polarities','aspects_position','aspects'], inplace=True)\n",
        "test_study_1.drop(columns=['id_sentence','polarities','aspects_position','aspects'], inplace=True)\n",
        "print(f'Contains {len(train_study_1)} sentences')\n",
        "print(f'Contains {len(test_study_1)} sentences')"
      ],
      "execution_count": 23,
      "outputs": [
        {
          "output_type": "stream",
          "text": [
            "Contains 9162 sentences\n",
            "Contains 3600 sentences\n"
          ],
          "name": "stdout"
        }
      ]
    },
    {
      "cell_type": "markdown",
      "metadata": {
        "id": "iePD6n9p82nG"
      },
      "source": [
        "Creazione colonna Positivi/Negativi"
      ]
    },
    {
      "cell_type": "code",
      "metadata": {
        "id": "kuCtCXCw8s6M",
        "colab": {
          "base_uri": "https://localhost:8080/"
        },
        "outputId": "2011f464-ee3c-4068-b2c5-fd70f679810a"
      },
      "source": [
        "train[\"review_type\"] = train[\"score\"].apply(lambda x: \"neg\" if x < 5 else \"pos\")\n",
        "test[\"review_type\"] = test[\"score\"].apply(lambda x: \"neg\" if x < 5 else \"pos\")\n",
        "data_sinonimi[\"review_type\"] = data_sinonimi[\"score\"].apply(lambda x: \"neg\" if x < 5 else \"pos\")\n",
        "data_embedding[\"review_type\"] = data_embedding[\"score\"].apply(lambda x: \"neg\" if x < 5 else \"pos\")\n",
        "\n",
        "print(f'TRAIN::\\n{train.review_type.value_counts()}')\n",
        "print(f'TEST::\\n{test.review_type.value_counts()}')\n",
        "print(f'SINONIMI::\\n{data_sinonimi.review_type.value_counts()}')\n",
        "print(f'EMBEDDING::\\n{data_embedding.review_type.value_counts()}')"
      ],
      "execution_count": 24,
      "outputs": [
        {
          "output_type": "stream",
          "text": [
            "TRAIN::\n",
            "pos    2150\n",
            "neg     904\n",
            "Name: review_type, dtype: int64\n",
            "TEST::\n",
            "pos    857\n",
            "neg    343\n",
            "Name: review_type, dtype: int64\n",
            "SINONIMI::\n",
            "pos    857\n",
            "neg    343\n",
            "Name: review_type, dtype: int64\n",
            "EMBEDDING::\n",
            "pos    857\n",
            "neg    343\n",
            "Name: review_type, dtype: int64\n"
          ],
          "name": "stdout"
        }
      ]
    },
    {
      "cell_type": "code",
      "metadata": {
        "colab": {
          "base_uri": "https://localhost:8080/"
        },
        "id": "kVZ4UU_L6v0E",
        "outputId": "0ffbcbfa-f501-4547-9d28-0fd6b9815c6a"
      },
      "source": [
        "# study 1\n",
        "train_study_1[\"review_type\"] = train_study_1[\"score\"].apply(lambda x: \"neg\" if x < 5 else \"pos\")\n",
        "test_study_1[\"review_type\"] = test_study_1[\"score\"].apply(lambda x: \"neg\" if x < 5 else \"pos\")\n",
        "print(f'TRAIN::\\n{train_study_1.review_type.value_counts()}')\n",
        "print(f'TEST::\\n{test_study_1.review_type.value_counts()}')"
      ],
      "execution_count": 25,
      "outputs": [
        {
          "output_type": "stream",
          "text": [
            "TRAIN::\n",
            "pos    6450\n",
            "neg    2712\n",
            "Name: review_type, dtype: int64\n",
            "TEST::\n",
            "pos    2571\n",
            "neg    1029\n",
            "Name: review_type, dtype: int64\n"
          ],
          "name": "stdout"
        }
      ]
    },
    {
      "cell_type": "markdown",
      "metadata": {
        "id": "ru-WHUt788NG"
      },
      "source": [
        "Rimozione Colonna Score in quanto non piu significativa per la Sentiment Analysis"
      ]
    },
    {
      "cell_type": "code",
      "metadata": {
        "id": "aqPpoik2AJJZ"
      },
      "source": [
        "train.drop(columns=['score'], inplace=True)\n",
        "test.drop(columns=['score'], inplace=True)\n",
        "data_sinonimi.drop(columns=['score'], inplace=True)\n",
        "data_embedding.drop(columns=['score'], inplace=True)"
      ],
      "execution_count": 26,
      "outputs": []
    },
    {
      "cell_type": "code",
      "metadata": {
        "id": "eeI8hXfS7EEv"
      },
      "source": [
        "# study 1\n",
        "train_study_1.drop(columns=['score'], inplace=True)\n",
        "test_study_1.drop(columns=['score'], inplace=True)"
      ],
      "execution_count": 27,
      "outputs": []
    },
    {
      "cell_type": "code",
      "metadata": {
        "id": "XTQldsfF8s8_"
      },
      "source": [
        "with open(path+\"word2index.pkl\", 'rb') as output:\n",
        "  w2i = pickle.load(output)\n",
        "with open(path+\"embedding_matrix.pkl\", 'rb') as output:\n",
        "  embedding_matrix = pickle.load(output)"
      ],
      "execution_count": 28,
      "outputs": []
    },
    {
      "cell_type": "markdown",
      "metadata": {
        "id": "21BASbk79EIe"
      },
      "source": [
        "Trasformazione input da frasi a vettori di parole"
      ]
    },
    {
      "cell_type": "code",
      "metadata": {
        "id": "yv5nfe958s_s"
      },
      "source": [
        "def my_text_to_word_sequence(sentence):\n",
        "  return keras.preprocessing.text.text_to_word_sequence(sentence,\n",
        "                                                        filters='!\"#$%&()*+,-./:;<=>?@[\\\\]^_`\\'{|}~\\t\\n',\n",
        "                                                        lower=True)"
      ],
      "execution_count": 29,
      "outputs": []
    },
    {
      "cell_type": "markdown",
      "metadata": {
        "id": "UHcjEZ6j9g_F"
      },
      "source": [
        "TRAIN, Encoding e Dataset per modello"
      ]
    },
    {
      "cell_type": "code",
      "metadata": {
        "id": "8lPd3qFfAqJl"
      },
      "source": [
        "one_hot_train = OneHotEncoder(sparse=False).fit_transform(\n",
        "        train.review_type.to_numpy().reshape(-1, 1)\n",
        "        )"
      ],
      "execution_count": 30,
      "outputs": []
    },
    {
      "cell_type": "code",
      "metadata": {
        "id": "I_bOaNrp5-9b"
      },
      "source": [
        "sentences = [my_text_to_word_sequence(sentence) for sentence in train['sentence']]"
      ],
      "execution_count": 31,
      "outputs": []
    },
    {
      "cell_type": "code",
      "metadata": {
        "id": "-XbJvMUL7s2h"
      },
      "source": [
        "# study 1\n",
        "one_hot_train_study_1 = OneHotEncoder(sparse=False).fit_transform(\n",
        "        train_study_1.review_type.to_numpy().reshape(-1, 1)\n",
        "        )"
      ],
      "execution_count": 32,
      "outputs": []
    },
    {
      "cell_type": "code",
      "metadata": {
        "id": "vmO7lD0I7OXR"
      },
      "source": [
        "# study 1\n",
        "sentences_study_1 = [my_text_to_word_sequence(sentence) for sentence in train_study_1['sentence']]"
      ],
      "execution_count": 33,
      "outputs": []
    },
    {
      "cell_type": "markdown",
      "metadata": {
        "id": "pzm3YxooRiWW"
      },
      "source": [
        "TEST, Encoding e Dataset per modello"
      ]
    },
    {
      "cell_type": "code",
      "metadata": {
        "id": "kqK9OLeoRiWY"
      },
      "source": [
        "one_hot_test = OneHotEncoder(sparse=False).fit_transform(\n",
        "        test.review_type.to_numpy().reshape(-1, 1)\n",
        "        )"
      ],
      "execution_count": 34,
      "outputs": []
    },
    {
      "cell_type": "code",
      "metadata": {
        "id": "gvsh3KbXRiWY"
      },
      "source": [
        "sentences_test = [my_text_to_word_sequence(sentence) for sentence in test['sentence']]"
      ],
      "execution_count": 35,
      "outputs": []
    },
    {
      "cell_type": "code",
      "metadata": {
        "id": "RgtbtZWM76Z5"
      },
      "source": [
        "# study 1\n",
        "one_hot_test_study_1 = OneHotEncoder(sparse=False).fit_transform(\n",
        "        test_study_1.review_type.to_numpy().reshape(-1, 1)\n",
        "        )"
      ],
      "execution_count": 36,
      "outputs": []
    },
    {
      "cell_type": "code",
      "metadata": {
        "id": "DOnH57Tu75XT"
      },
      "source": [
        "# study 1\n",
        "sentences_test_study_1 = [my_text_to_word_sequence(sentence) for sentence in test_study_1['sentence']]"
      ],
      "execution_count": 37,
      "outputs": []
    },
    {
      "cell_type": "markdown",
      "metadata": {
        "id": "HtqBuF4zRi--"
      },
      "source": [
        "SINONIMI, Encoding e Dataset per modello"
      ]
    },
    {
      "cell_type": "code",
      "metadata": {
        "id": "k0sNiYBERi_A"
      },
      "source": [
        "one_hot_sin = OneHotEncoder(sparse=False).fit_transform(\n",
        "        data_sinonimi.review_type.to_numpy().reshape(-1, 1)\n",
        "        )"
      ],
      "execution_count": 38,
      "outputs": []
    },
    {
      "cell_type": "code",
      "metadata": {
        "id": "iwa-A7qfRi_B"
      },
      "source": [
        "sentences_sin = [my_text_to_word_sequence(sentence) for sentence in data_sinonimi['sentence']]"
      ],
      "execution_count": 39,
      "outputs": []
    },
    {
      "cell_type": "markdown",
      "metadata": {
        "id": "MrUKHOU9RjeZ"
      },
      "source": [
        "EMBEDDING, Encoding e Dataset per modello"
      ]
    },
    {
      "cell_type": "code",
      "metadata": {
        "id": "0l8HELWMRjea"
      },
      "source": [
        "one_hot_emb = OneHotEncoder(sparse=False).fit_transform(\n",
        "        data_embedding.review_type.to_numpy().reshape(-1, 1)\n",
        "        )"
      ],
      "execution_count": 40,
      "outputs": []
    },
    {
      "cell_type": "code",
      "metadata": {
        "id": "7pA2ra7HRjeb"
      },
      "source": [
        "sentences_emb = [my_text_to_word_sequence(sentence) for sentence in data_embedding['sentence']]"
      ],
      "execution_count": 41,
      "outputs": []
    },
    {
      "cell_type": "markdown",
      "metadata": {
        "id": "WeTE81j_9cOv"
      },
      "source": [
        "Estrai la massima dimensione dell'input in base ai vari dataset considerati"
      ]
    },
    {
      "cell_type": "code",
      "metadata": {
        "colab": {
          "base_uri": "https://localhost:8080/"
        },
        "id": "pudlFdxF8tCA",
        "outputId": "b840aa27-5aaa-4fe1-fedd-990f01601db4"
      },
      "source": [
        "max_index, max = (-1, -1)\n",
        "for i, sentence in enumerate(sentences):\n",
        "  max_index, max = (i, len(sentence)) if len(sentence) > max else (max_index, max)\n",
        "for i, sentence in enumerate(sentences_test):\n",
        "  max_index, max = (i, len(sentence)) if len(sentence) > max else (max_index, max)\n",
        "for i, sentence in enumerate(sentences_sin):\n",
        "  max_index, max = (i, len(sentence)) if len(sentence) > max else (max_index, max)\n",
        "for i, sentence in enumerate(sentences_emb):\n",
        "  max_index, max = (i, len(sentence)) if len(sentence) > max else (max_index, max)\n",
        "\n",
        "# study 1\n",
        "for i, sentence in enumerate(sentences_study_1):\n",
        "  max_index, max = (i, len(sentence)) if len(sentence) > max else (max_index, max)\n",
        "for i, sentence in enumerate(sentences_test_study_1):\n",
        "  max_index, max = (i, len(sentence)) if len(sentence) > max else (max_index, max)\n",
        "\n",
        "\n",
        "print(f'Il massimo è {max}')"
      ],
      "execution_count": 42,
      "outputs": [
        {
          "output_type": "stream",
          "text": [
            "Il massimo è 90\n"
          ],
          "name": "stdout"
        }
      ]
    },
    {
      "cell_type": "markdown",
      "metadata": {
        "id": "UbKTvQuOEaP3"
      },
      "source": [
        "Creo i vari embedding per tutti i dataset, quest'operazione e pesante "
      ]
    },
    {
      "cell_type": "code",
      "metadata": {
        "id": "tfA2XQzE9hdL"
      },
      "source": [
        "embedded_train = np.zeros(shape=(len(sentences), max, 300))\n",
        "for i, sentence in enumerate(sentences):\n",
        "  for j, word in enumerate(sentence):\n",
        "    try:\n",
        "      embedded_train[i, j, :] = embedding_matrix[w2i[word]]\n",
        "    except KeyError:\n",
        "      pass"
      ],
      "execution_count": 43,
      "outputs": []
    },
    {
      "cell_type": "code",
      "metadata": {
        "id": "3ZW78yxjTJly"
      },
      "source": [
        "embedded_test = np.zeros(shape=(len(sentences_test), max, 300))\n",
        "for i, sentence in enumerate(sentences_test):\n",
        "  for j, word in enumerate(sentence):\n",
        "    try:\n",
        "      embedded_test[i, j, :] = embedding_matrix[w2i[word]]\n",
        "    except KeyError:\n",
        "      pass"
      ],
      "execution_count": 44,
      "outputs": []
    },
    {
      "cell_type": "code",
      "metadata": {
        "id": "vkN3_ZGQTK49"
      },
      "source": [
        "embedded_sin = np.zeros(shape=(len(sentences_sin), max, 300))\n",
        "for i, sentence in enumerate(sentences_sin):\n",
        "  for j, word in enumerate(sentence):\n",
        "    try:\n",
        "      embedded_sin[i, j, :] = embedding_matrix[w2i[word]]\n",
        "    except KeyError:\n",
        "      pass"
      ],
      "execution_count": 45,
      "outputs": []
    },
    {
      "cell_type": "code",
      "metadata": {
        "id": "Mcf1fth5TLGy"
      },
      "source": [
        "embedded_emb = np.zeros(shape=(len(sentences_emb), max, 300))\n",
        "for i, sentence in enumerate(sentences_emb):\n",
        "  for j, word in enumerate(sentence):\n",
        "    try:\n",
        "      embedded_emb[i, j, :] = embedding_matrix[w2i[word]]\n",
        "    except KeyError:\n",
        "      pass"
      ],
      "execution_count": 46,
      "outputs": []
    },
    {
      "cell_type": "code",
      "metadata": {
        "id": "sfy0ur_5-mMx"
      },
      "source": [
        "# study 1\n",
        "embedded_train_study_1 = np.zeros(shape=(len(sentences_study_1), max, 300))\n",
        "for i, sentence in enumerate(sentences_study_1):\n",
        "  for j, word in enumerate(sentence):\n",
        "    try:\n",
        "      embedded_train_study_1[i, j, :] = embedding_matrix[w2i[word]]\n",
        "    except KeyError:\n",
        "      pass"
      ],
      "execution_count": 47,
      "outputs": []
    },
    {
      "cell_type": "code",
      "metadata": {
        "id": "VwaZXvkY_Ak3"
      },
      "source": [
        "# study 1\n",
        "embedded_test_study_1 = np.zeros(shape=(len(sentences_test_study_1), max, 300))\n",
        "for i, sentence in enumerate(sentences_test_study_1):\n",
        "  for j, word in enumerate(sentence):\n",
        "    try:\n",
        "      embedded_test_study_1[i, j, :] = embedding_matrix[w2i[word]]\n",
        "    except KeyError:\n",
        "      pass"
      ],
      "execution_count": 48,
      "outputs": []
    },
    {
      "cell_type": "markdown",
      "metadata": {
        "id": "v5rb4COz9oVn"
      },
      "source": [
        "#Model"
      ]
    },
    {
      "cell_type": "code",
      "metadata": {
        "id": "1IHhcxg49qg5"
      },
      "source": [
        "best_params = optuna.load_study(study_name=\"ATE\", storage=\"sqlite:///\"+path+\"optuna_ATE_studio_0.db\").best_params"
      ],
      "execution_count": 50,
      "outputs": []
    },
    {
      "cell_type": "code",
      "metadata": {
        "id": "EM6k1Bf08TJ3",
        "colab": {
          "base_uri": "https://localhost:8080/"
        },
        "outputId": "6daf05a7-e844-44a2-c5bc-2888c3541844"
      },
      "source": [
        "model = keras.Sequential()\n",
        "model.add(keras.layers.Input(shape=(max, 300)))\n",
        "model.add(keras.layers.Bidirectional(layer=keras.layers.LSTM(units=best_params[\"units\"],\n",
        "                                                             recurrent_dropout=best_params[\"dropout\"],\n",
        "                                                             activation='tanh')))\n",
        "model.add(keras.layers.Dense(2, activation='softmax'))\n",
        "\n",
        "model.compile(loss='categorical_crossentropy',\n",
        "            optimizer=keras.optimizers.Adam(0.001),\n",
        "            metrics=['accuracy'])"
      ],
      "execution_count": 51,
      "outputs": [
        {
          "output_type": "stream",
          "text": [
            "WARNING:tensorflow:Layer lstm will not use cuDNN kernel since it doesn't meet the cuDNN kernel criteria. It will use generic GPU kernel as fallback when running on GPU\n",
            "WARNING:tensorflow:Layer lstm will not use cuDNN kernel since it doesn't meet the cuDNN kernel criteria. It will use generic GPU kernel as fallback when running on GPU\n",
            "WARNING:tensorflow:Layer lstm will not use cuDNN kernel since it doesn't meet the cuDNN kernel criteria. It will use generic GPU kernel as fallback when running on GPU\n"
          ],
          "name": "stdout"
        }
      ]
    },
    {
      "cell_type": "code",
      "metadata": {
        "colab": {
          "base_uri": "https://localhost:8080/"
        },
        "id": "k2X4fzLwFwls",
        "outputId": "c64a4378-0564-4f72-bf7a-8d6c76bcfec8"
      },
      "source": [
        "best_params"
      ],
      "execution_count": 52,
      "outputs": [
        {
          "output_type": "execute_result",
          "data": {
            "text/plain": [
              "{'batch_size': 55, 'dropout': 0.28, 'units': 125}"
            ]
          },
          "metadata": {
            "tags": []
          },
          "execution_count": 52
        }
      ]
    },
    {
      "cell_type": "code",
      "metadata": {
        "id": "u8t68xO9BMmb",
        "colab": {
          "base_uri": "https://localhost:8080/"
        },
        "outputId": "8bc654f1-a9c1-4d90-e41c-ba713b98cf1b"
      },
      "source": [
        "#train model\n",
        "\n",
        "#embedded_* è il nome da cambiare per allenare il modello sul dataseta selezionato per lo studio in esame\n",
        "\n",
        "#one_hot_* è il nome dell'encoding delle parole del dataseta selezionato per lo studio in esame\n",
        "result = model.fit(embedded_train_study_1,\n",
        "                 one_hot_train_study_1,\n",
        "                 epochs=100,\n",
        "                 batch_size=best_params[\"batch_size\"],\n",
        "                 callbacks=[keras.callbacks.EarlyStopping(monitor='loss',\n",
        "                                                            patience=10)])"
      ],
      "execution_count": 53,
      "outputs": [
        {
          "output_type": "stream",
          "text": [
            "Epoch 1/100\n",
            "167/167 [==============================] - 91s 507ms/step - loss: 0.6064 - accuracy: 0.7028\n",
            "Epoch 2/100\n",
            "167/167 [==============================] - 85s 510ms/step - loss: 0.5419 - accuracy: 0.7330\n",
            "Epoch 3/100\n",
            "167/167 [==============================] - 85s 508ms/step - loss: 0.5213 - accuracy: 0.7405\n",
            "Epoch 4/100\n",
            "167/167 [==============================] - 84s 505ms/step - loss: 0.4932 - accuracy: 0.7686\n",
            "Epoch 5/100\n",
            "167/167 [==============================] - 84s 505ms/step - loss: 0.4675 - accuracy: 0.7821\n",
            "Epoch 6/100\n",
            "167/167 [==============================] - 85s 509ms/step - loss: 0.4464 - accuracy: 0.8016\n",
            "Epoch 7/100\n",
            "167/167 [==============================] - 84s 501ms/step - loss: 0.4103 - accuracy: 0.8155\n",
            "Epoch 8/100\n",
            "167/167 [==============================] - 84s 503ms/step - loss: 0.3916 - accuracy: 0.8276\n",
            "Epoch 9/100\n",
            "167/167 [==============================] - 85s 510ms/step - loss: 0.3612 - accuracy: 0.8428\n",
            "Epoch 10/100\n",
            "167/167 [==============================] - 85s 507ms/step - loss: 0.3266 - accuracy: 0.8665\n",
            "Epoch 11/100\n",
            "167/167 [==============================] - 86s 512ms/step - loss: 0.3010 - accuracy: 0.8742\n",
            "Epoch 12/100\n",
            "167/167 [==============================] - 85s 510ms/step - loss: 0.2781 - accuracy: 0.8811\n",
            "Epoch 13/100\n",
            "167/167 [==============================] - 86s 516ms/step - loss: 0.2576 - accuracy: 0.8955\n",
            "Epoch 14/100\n",
            "167/167 [==============================] - 87s 521ms/step - loss: 0.2192 - accuracy: 0.9122\n",
            "Epoch 15/100\n",
            "167/167 [==============================] - 86s 514ms/step - loss: 0.2012 - accuracy: 0.9210\n",
            "Epoch 16/100\n",
            "167/167 [==============================] - 85s 509ms/step - loss: 0.1777 - accuracy: 0.9328\n",
            "Epoch 17/100\n",
            "167/167 [==============================] - 85s 507ms/step - loss: 0.1704 - accuracy: 0.9304\n",
            "Epoch 18/100\n",
            "167/167 [==============================] - 84s 503ms/step - loss: 0.1501 - accuracy: 0.9427\n",
            "Epoch 19/100\n",
            "167/167 [==============================] - 85s 507ms/step - loss: 0.1552 - accuracy: 0.9412\n",
            "Epoch 20/100\n",
            "167/167 [==============================] - 86s 514ms/step - loss: 0.1599 - accuracy: 0.9411\n",
            "Epoch 21/100\n",
            "167/167 [==============================] - 85s 511ms/step - loss: 0.1158 - accuracy: 0.9548\n",
            "Epoch 22/100\n",
            "167/167 [==============================] - 86s 512ms/step - loss: 0.1166 - accuracy: 0.9531\n",
            "Epoch 23/100\n",
            "167/167 [==============================] - 86s 516ms/step - loss: 0.1018 - accuracy: 0.9630\n",
            "Epoch 24/100\n",
            "167/167 [==============================] - 86s 513ms/step - loss: 0.0966 - accuracy: 0.9636\n",
            "Epoch 25/100\n",
            "167/167 [==============================] - 85s 509ms/step - loss: 0.0850 - accuracy: 0.9708\n",
            "Epoch 26/100\n",
            "167/167 [==============================] - 84s 504ms/step - loss: 0.0715 - accuracy: 0.9757\n",
            "Epoch 27/100\n",
            "167/167 [==============================] - 85s 507ms/step - loss: 0.0775 - accuracy: 0.9739\n",
            "Epoch 28/100\n",
            "167/167 [==============================] - 85s 506ms/step - loss: 0.0785 - accuracy: 0.9713\n",
            "Epoch 29/100\n",
            "167/167 [==============================] - 84s 502ms/step - loss: 0.0676 - accuracy: 0.9764\n",
            "Epoch 30/100\n",
            "167/167 [==============================] - 84s 506ms/step - loss: 0.0708 - accuracy: 0.9764\n",
            "Epoch 31/100\n",
            "167/167 [==============================] - 85s 512ms/step - loss: 0.0614 - accuracy: 0.9782\n",
            "Epoch 32/100\n",
            "167/167 [==============================] - 85s 508ms/step - loss: 0.0616 - accuracy: 0.9769\n",
            "Epoch 33/100\n",
            "167/167 [==============================] - 84s 506ms/step - loss: 0.0628 - accuracy: 0.9790\n",
            "Epoch 34/100\n",
            "167/167 [==============================] - 84s 502ms/step - loss: 0.0555 - accuracy: 0.9781\n",
            "Epoch 35/100\n",
            "167/167 [==============================] - 85s 510ms/step - loss: 0.0442 - accuracy: 0.9850\n",
            "Epoch 36/100\n",
            "167/167 [==============================] - 85s 511ms/step - loss: 0.0490 - accuracy: 0.9845\n",
            "Epoch 37/100\n",
            "167/167 [==============================] - 85s 506ms/step - loss: 0.0444 - accuracy: 0.9837\n",
            "Epoch 38/100\n",
            "167/167 [==============================] - 85s 507ms/step - loss: 0.0507 - accuracy: 0.9859\n",
            "Epoch 39/100\n",
            "167/167 [==============================] - 85s 507ms/step - loss: 0.0514 - accuracy: 0.9799\n",
            "Epoch 40/100\n",
            "167/167 [==============================] - 84s 504ms/step - loss: 0.0498 - accuracy: 0.9832\n",
            "Epoch 41/100\n",
            "167/167 [==============================] - 85s 508ms/step - loss: 0.0377 - accuracy: 0.9872\n",
            "Epoch 42/100\n",
            "167/167 [==============================] - 85s 506ms/step - loss: 0.0438 - accuracy: 0.9834\n",
            "Epoch 43/100\n",
            "167/167 [==============================] - 85s 508ms/step - loss: 0.0391 - accuracy: 0.9858\n",
            "Epoch 44/100\n",
            "167/167 [==============================] - 85s 510ms/step - loss: 0.0395 - accuracy: 0.9867\n",
            "Epoch 45/100\n",
            "167/167 [==============================] - 85s 509ms/step - loss: 0.0391 - accuracy: 0.9869\n",
            "Epoch 46/100\n",
            "167/167 [==============================] - 85s 507ms/step - loss: 0.0319 - accuracy: 0.9900\n",
            "Epoch 47/100\n",
            "167/167 [==============================] - 85s 507ms/step - loss: 0.0325 - accuracy: 0.9889\n",
            "Epoch 48/100\n",
            "167/167 [==============================] - 83s 500ms/step - loss: 0.0424 - accuracy: 0.9876\n",
            "Epoch 49/100\n",
            "167/167 [==============================] - 84s 504ms/step - loss: 0.0303 - accuracy: 0.9903\n",
            "Epoch 50/100\n",
            "167/167 [==============================] - 85s 507ms/step - loss: 0.0376 - accuracy: 0.9863\n",
            "Epoch 51/100\n",
            "167/167 [==============================] - 84s 504ms/step - loss: 0.0259 - accuracy: 0.9919\n",
            "Epoch 52/100\n",
            "167/167 [==============================] - 85s 508ms/step - loss: 0.0324 - accuracy: 0.9904\n",
            "Epoch 53/100\n",
            "167/167 [==============================] - 85s 508ms/step - loss: 0.0349 - accuracy: 0.9858\n",
            "Epoch 54/100\n",
            "167/167 [==============================] - 84s 504ms/step - loss: 0.0289 - accuracy: 0.9913\n",
            "Epoch 55/100\n",
            "167/167 [==============================] - 85s 510ms/step - loss: 0.0363 - accuracy: 0.9892\n",
            "Epoch 56/100\n",
            "167/167 [==============================] - 85s 507ms/step - loss: 0.0529 - accuracy: 0.9837\n",
            "Epoch 57/100\n",
            "167/167 [==============================] - 85s 507ms/step - loss: 0.0222 - accuracy: 0.9934\n",
            "Epoch 58/100\n",
            "167/167 [==============================] - 86s 513ms/step - loss: 0.0172 - accuracy: 0.9957\n",
            "Epoch 59/100\n",
            "167/167 [==============================] - 84s 504ms/step - loss: 0.0234 - accuracy: 0.9929\n",
            "Epoch 60/100\n",
            "167/167 [==============================] - 85s 508ms/step - loss: 0.0233 - accuracy: 0.9935\n",
            "Epoch 61/100\n",
            "167/167 [==============================] - 85s 508ms/step - loss: 0.0186 - accuracy: 0.9938\n",
            "Epoch 62/100\n",
            "167/167 [==============================] - 86s 513ms/step - loss: 0.0229 - accuracy: 0.9928\n",
            "Epoch 63/100\n",
            "167/167 [==============================] - 85s 512ms/step - loss: 0.0285 - accuracy: 0.9908\n",
            "Epoch 64/100\n",
            "167/167 [==============================] - 86s 513ms/step - loss: 0.0246 - accuracy: 0.9913\n",
            "Epoch 65/100\n",
            "167/167 [==============================] - 86s 512ms/step - loss: 0.0165 - accuracy: 0.9953\n",
            "Epoch 66/100\n",
            "167/167 [==============================] - 85s 506ms/step - loss: 0.0209 - accuracy: 0.9937\n",
            "Epoch 67/100\n",
            "167/167 [==============================] - 85s 508ms/step - loss: 0.0202 - accuracy: 0.9930\n",
            "Epoch 68/100\n",
            "167/167 [==============================] - 85s 508ms/step - loss: 0.0204 - accuracy: 0.9925\n",
            "Epoch 69/100\n",
            "167/167 [==============================] - 85s 508ms/step - loss: 0.0178 - accuracy: 0.9949\n",
            "Epoch 70/100\n",
            "167/167 [==============================] - 84s 504ms/step - loss: 0.0161 - accuracy: 0.9952\n",
            "Epoch 71/100\n",
            "167/167 [==============================] - 85s 507ms/step - loss: 0.0163 - accuracy: 0.9952\n",
            "Epoch 72/100\n",
            "167/167 [==============================] - 85s 512ms/step - loss: 0.0219 - accuracy: 0.9936\n",
            "Epoch 73/100\n",
            "167/167 [==============================] - 84s 504ms/step - loss: 0.0359 - accuracy: 0.9891\n",
            "Epoch 74/100\n",
            "167/167 [==============================] - 84s 502ms/step - loss: 0.0202 - accuracy: 0.9941\n",
            "Epoch 75/100\n",
            "167/167 [==============================] - 85s 507ms/step - loss: 0.0198 - accuracy: 0.9932\n"
          ],
          "name": "stdout"
        }
      ]
    },
    {
      "cell_type": "code",
      "metadata": {
        "id": "HbstjV0B9qmF"
      },
      "source": [
        "#save the model\n",
        "# cambiare il nome in base allo studio che si svolge\n",
        "model.save_weights(path+'ATE_w_studio_3.h5')"
      ],
      "execution_count": 54,
      "outputs": []
    },
    {
      "cell_type": "code",
      "metadata": {
        "id": "QmdfbdbGBQMT"
      },
      "source": [
        "# cambiare il nome in base allo studio che si svolge\n",
        "model.load_weights(path+'ATE_w_studio_3.h5')"
      ],
      "execution_count": 55,
      "outputs": []
    },
    {
      "cell_type": "markdown",
      "metadata": {
        "id": "n5Y6MEPfCRC-"
      },
      "source": [
        "#EVALUATION"
      ]
    },
    {
      "cell_type": "code",
      "metadata": {
        "id": "-3nWACJzvHyD",
        "colab": {
          "base_uri": "https://localhost:8080/"
        },
        "outputId": "095a32bc-97c6-49d8-f973-197c4c9b98fe"
      },
      "source": [
        "# da ignorare per lo studio 1\n",
        "result_base=model.evaluate(embedded_trainset,one_hot_train,batch_size=best_params['batch_size'],)\n",
        "print(f'DATASET ORIGINARIO{result_base}')"
      ],
      "execution_count": null,
      "outputs": [
        {
          "output_type": "stream",
          "text": [
            "56/56 [==============================] - 3s 42ms/step - loss: 1.7612 - accuracy: 0.6811\n",
            "DATASET ORIGINARIO[1.7612053155899048, 0.6810740232467651]\n"
          ],
          "name": "stdout"
        }
      ]
    },
    {
      "cell_type": "code",
      "metadata": {
        "id": "gjcdAwqeOi7r",
        "colab": {
          "base_uri": "https://localhost:8080/"
        },
        "outputId": "70e5c170-c65c-45ed-b176-66544ddb2c83"
      },
      "source": [
        "result_base=model.evaluate(embedded_test,one_hot_test,batch_size=best_params['batch_size'],)\n",
        "print(f'DATASET DEV{result_base}')"
      ],
      "execution_count": 56,
      "outputs": [
        {
          "output_type": "stream",
          "text": [
            "22/22 [==============================] - 2s 44ms/step - loss: 1.9234 - accuracy: 0.7308\n",
            "DATASET DEV[1.923374891281128, 0.7308333516120911]\n"
          ],
          "name": "stdout"
        }
      ]
    },
    {
      "cell_type": "code",
      "metadata": {
        "id": "BuaVK__WOjDW",
        "colab": {
          "base_uri": "https://localhost:8080/"
        },
        "outputId": "67e025e8-564b-48f4-eafb-401ee4eeb158"
      },
      "source": [
        "result_base=model.evaluate(embedded_sin,one_hot_sin,batch_size=best_params['batch_size'])\n",
        "print(f'DATASET SINONIMI{result_base}')"
      ],
      "execution_count": 57,
      "outputs": [
        {
          "output_type": "stream",
          "text": [
            "22/22 [==============================] - 1s 43ms/step - loss: 2.0986 - accuracy: 0.6925\n",
            "DATASET SINONIMI[2.0985817909240723, 0.6924999952316284]\n"
          ],
          "name": "stdout"
        }
      ]
    },
    {
      "cell_type": "code",
      "metadata": {
        "id": "_JgLKE2bOjLL",
        "colab": {
          "base_uri": "https://localhost:8080/"
        },
        "outputId": "a5e14d23-6117-4398-fc32-4920e5f43ccd"
      },
      "source": [
        "result_base=model.evaluate(embedded_emb,one_hot_emb,batch_size=best_params['batch_size'])\n",
        "print(f'DATASET EMBEDDING{result_base}')"
      ],
      "execution_count": 58,
      "outputs": [
        {
          "output_type": "stream",
          "text": [
            "22/22 [==============================] - 1s 43ms/step - loss: 1.8758 - accuracy: 0.7117\n",
            "DATASET EMBEDDING[1.875820279121399, 0.7116666436195374]\n"
          ],
          "name": "stdout"
        }
      ]
    },
    {
      "cell_type": "code",
      "metadata": {
        "colab": {
          "base_uri": "https://localhost:8080/"
        },
        "id": "rkCNsSHVOV8v",
        "outputId": "d987d6a8-fad9-40f2-d05b-20714ac9873b"
      },
      "source": [
        "# aggiunta per studio 3 eseguo l'evaluation rispetto al testset originale + testset embedding + testset sinonimi\n",
        "result_base=model.evaluate(embedded_test_study_1,one_hot_test_study_1,batch_size=best_params['batch_size'])\n",
        "print(f'DATASET TEST+TEST_EMBEDDING_SINONIMI{result_base}')"
      ],
      "execution_count": 59,
      "outputs": [
        {
          "output_type": "stream",
          "text": [
            "66/66 [==============================] - 3s 43ms/step - loss: 1.9659 - accuracy: 0.7117\n",
            "DATASET TEST+TEST_EMBEDDING_SINONIMI[1.965925693511963, 0.7116666436195374]\n"
          ],
          "name": "stdout"
        }
      ]
    }
  ]
}