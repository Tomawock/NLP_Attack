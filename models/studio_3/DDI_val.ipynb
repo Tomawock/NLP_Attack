{
 "cells": [
  {
   "cell_type": "code",
   "execution_count": 1,
   "id": "compressed-accreditation",
   "metadata": {
    "ExecuteTime": {
     "end_time": "2021-04-12T18:13:30.690928Z",
     "start_time": "2021-04-12T18:13:27.789266Z"
    }
   },
   "outputs": [],
   "source": [
    "import pickle\n",
    "import pandas as pd\n",
    "import optuna\n",
    "import numpy as np\n",
    "from sklearn.preprocessing import OneHotEncoder\n",
    "from tensorflow import keras\n",
    "from sklearn.utils.class_weight import compute_class_weight"
   ]
  },
  {
   "cell_type": "code",
   "execution_count": 2,
   "id": "solved-affiliate",
   "metadata": {
    "ExecuteTime": {
     "end_time": "2021-04-12T18:13:30.695112Z",
     "start_time": "2021-04-12T18:13:30.692831Z"
    }
   },
   "outputs": [],
   "source": [
    "path=\"../\""
   ]
  },
  {
   "cell_type": "code",
   "execution_count": 3,
   "id": "veterinary-conspiracy",
   "metadata": {
    "ExecuteTime": {
     "end_time": "2021-04-12T18:13:31.025647Z",
     "start_time": "2021-04-12T18:13:30.696965Z"
    }
   },
   "outputs": [],
   "source": [
    "train = pd.concat(objs=[pd.read_csv(path+'ddi2013-type/train.tsv', sep='\\t'),\n",
    "                        pd.read_csv(path+'ddi2013-type/DDI_embedding.csv'),\n",
    "                        pd.read_csv(path+'ddi2013-type/DDI_sinonimi.csv')],\n",
    "                  ignore_index=True).sample(frac=1)\n",
    "dev = pd.read_csv(path+'ddi2013-type/dev.tsv', sep='\\t')\n",
    "test_org = pd.read_csv(path+'ddi2013-type/test.tsv', sep='\\t')\n",
    "\n",
    "data_sinonimi = pd.read_csv(path+\"ddi2013-type/DDI_sinonimi_test.csv\")\n",
    "data_embedding = pd.read_csv(path+\"ddi2013-type/DDI_embedding_test.csv\")"
   ]
  },
  {
   "cell_type": "code",
   "execution_count": 4,
   "id": "restricted-neutral",
   "metadata": {
    "ExecuteTime": {
     "end_time": "2021-04-12T18:13:31.072511Z",
     "start_time": "2021-04-12T18:13:31.027396Z"
    }
   },
   "outputs": [],
   "source": [
    "test = pd.concat(objs=[pd.read_csv(path+'ddi2013-type/DDI_embedding_test.csv'),\n",
    "                       test_org,\n",
    "                       pd.read_csv(path+'ddi2013-type/DDI_sinonimi_test.csv')],\n",
    "                 ignore_index=True)"
   ]
  },
  {
   "cell_type": "code",
   "execution_count": 5,
   "id": "composed-formation",
   "metadata": {
    "ExecuteTime": {
     "end_time": "2021-04-12T18:13:42.055218Z",
     "start_time": "2021-04-12T18:13:31.074328Z"
    }
   },
   "outputs": [],
   "source": [
    "with open(path+\"word2index.pkl\", 'rb') as output:\n",
    "    w2i = pickle.load(output)\n",
    "with open(path+\"embedding_matrix.pkl\", 'rb') as output:\n",
    "    embedding_matrix = pickle.load(output)"
   ]
  },
  {
   "cell_type": "code",
   "execution_count": 6,
   "id": "alone-highland",
   "metadata": {
    "ExecuteTime": {
     "end_time": "2021-04-12T18:13:42.059873Z",
     "start_time": "2021-04-12T18:13:42.056877Z"
    }
   },
   "outputs": [],
   "source": [
    "categories = [['DDI-false', 'DDI-mechanism', 'DDI-effect', 'DDI-advise','DDI-int']]\n",
    "\n",
    "my_text_to_word_sequence = lambda sen: keras.preprocessing.text.text_to_word_sequence(sen,\n",
    "                                                                                      filters='!\"#&()*+,-./:;<=>?[\\\\]^_`\\'{|}~\\t\\n',\n",
    "                                                                                      lower=True)"
   ]
  },
  {
   "cell_type": "code",
   "execution_count": 7,
   "id": "intensive-aggregate",
   "metadata": {
    "ExecuteTime": {
     "end_time": "2021-04-12T18:13:43.010459Z",
     "start_time": "2021-04-12T18:13:42.061099Z"
    }
   },
   "outputs": [],
   "source": [
    "five_hot_train = OneHotEncoder(sparse=False, categories=categories).fit_transform(\n",
    "  train.label.to_numpy().reshape(-1, 1))\n",
    "\n",
    "sentences_train = [my_text_to_word_sequence(sentence) for sentence in train['sentence']]"
   ]
  },
  {
   "cell_type": "code",
   "execution_count": 8,
   "id": "arctic-feedback",
   "metadata": {
    "ExecuteTime": {
     "end_time": "2021-04-12T18:13:43.122515Z",
     "start_time": "2021-04-12T18:13:43.013516Z"
    }
   },
   "outputs": [],
   "source": [
    "five_hot_dev = OneHotEncoder(sparse=False, categories=categories).fit_transform(\n",
    "  dev.label.to_numpy().reshape(-1, 1))\n",
    "\n",
    "sentences_dev = [my_text_to_word_sequence(sentence) for sentence in dev['sentence']]"
   ]
  },
  {
   "cell_type": "code",
   "execution_count": 9,
   "id": "hybrid-neighbor",
   "metadata": {
    "ExecuteTime": {
     "end_time": "2021-04-12T18:13:43.207758Z",
     "start_time": "2021-04-12T18:13:43.124972Z"
    }
   },
   "outputs": [],
   "source": [
    "five_hot_test_org = OneHotEncoder(sparse=False, categories=categories).fit_transform(\n",
    "  test_org.label.to_numpy().reshape(-1, 1))\n",
    "\n",
    "sentences_test_org = [my_text_to_word_sequence(sentence) for sentence in test_org['sentence']]"
   ]
  },
  {
   "cell_type": "code",
   "execution_count": 10,
   "id": "damaged-disabled",
   "metadata": {
    "ExecuteTime": {
     "end_time": "2021-04-12T18:13:43.441381Z",
     "start_time": "2021-04-12T18:13:43.209847Z"
    }
   },
   "outputs": [],
   "source": [
    "five_hot_test = OneHotEncoder(sparse=False, categories=categories).fit_transform(\n",
    "  test.label.to_numpy().reshape(-1, 1))\n",
    "\n",
    "sentences_test = [my_text_to_word_sequence(sentence) for sentence in test['sentence']]"
   ]
  },
  {
   "cell_type": "code",
   "execution_count": 11,
   "id": "adaptive-completion",
   "metadata": {
    "ExecuteTime": {
     "end_time": "2021-04-12T18:13:43.520952Z",
     "start_time": "2021-04-12T18:13:43.443483Z"
    }
   },
   "outputs": [],
   "source": [
    "five_hot_sin = OneHotEncoder(sparse=False, categories=categories).fit_transform(\n",
    "  data_sinonimi.label.to_numpy().reshape(-1, 1))\n",
    "\n",
    "sentences_sin = [my_text_to_word_sequence(sentence) for sentence in data_sinonimi['sentence']]"
   ]
  },
  {
   "cell_type": "code",
   "execution_count": 12,
   "id": "dangerous-concept",
   "metadata": {
    "ExecuteTime": {
     "end_time": "2021-04-12T18:13:43.606990Z",
     "start_time": "2021-04-12T18:13:43.522517Z"
    }
   },
   "outputs": [],
   "source": [
    "five_hot_emb = OneHotEncoder(sparse=False, categories=categories).fit_transform(\n",
    "  data_embedding.label.to_numpy().reshape(-1, 1))\n",
    "\n",
    "sentences_emb = [my_text_to_word_sequence(sentence) for sentence in data_embedding['sentence']]"
   ]
  },
  {
   "cell_type": "code",
   "execution_count": 13,
   "id": "beginning-shock",
   "metadata": {
    "ExecuteTime": {
     "end_time": "2021-04-12T18:13:43.640821Z",
     "start_time": "2021-04-12T18:13:43.608521Z"
    }
   },
   "outputs": [
    {
     "name": "stdout",
     "output_type": "stream",
     "text": [
      "Il massimo è 92\n"
     ]
    }
   ],
   "source": [
    "max_index, max = (-1, -1)\n",
    "for i, sentence in enumerate(sentences_train):\n",
    "  max_index, max = (i, len(sentence)) if len(sentence) > max else (max_index, max)\n",
    "for i, sentence in enumerate(sentences_dev):\n",
    "  max_index, max = (i, len(sentence)) if len(sentence) > max else (max_index, max)\n",
    "for i, sentence in enumerate(sentences_test):\n",
    "  max_index, max = (i, len(sentence)) if len(sentence) > max else (max_index, max)\n",
    "for i, sentence in enumerate(sentences_sin):\n",
    "  max_index, max = (i, len(sentence)) if len(sentence) > max else (max_index, max)\n",
    "for i, sentence in enumerate(sentences_emb):\n",
    "  max_index, max = (i, len(sentence)) if len(sentence) > max else (max_index, max)\n",
    "  \n",
    "print(f'Il massimo è {max}')"
   ]
  },
  {
   "cell_type": "code",
   "execution_count": 14,
   "id": "integral-uncle",
   "metadata": {
    "ExecuteTime": {
     "end_time": "2021-04-12T18:13:49.201154Z",
     "start_time": "2021-04-12T18:13:43.642231Z"
    }
   },
   "outputs": [],
   "source": [
    "embedded_trainset = np.zeros(shape=(len(sentences_train), max, 300))\n",
    "for i, sentence in enumerate(sentences_train):\n",
    "    for j, word in enumerate(sentence):\n",
    "        try:\n",
    "            embedded_trainset[i, j, :] = embedding_matrix[w2i[word]]\n",
    "        except KeyError:\n",
    "            pass"
   ]
  },
  {
   "cell_type": "code",
   "execution_count": 15,
   "id": "confident-membership",
   "metadata": {
    "ExecuteTime": {
     "end_time": "2021-04-12T18:13:50.136434Z",
     "start_time": "2021-04-12T18:13:49.202778Z"
    }
   },
   "outputs": [],
   "source": [
    "embedded_devset = np.zeros(shape=(len(sentences_dev), max, 300))\n",
    "for i, sentence in enumerate(sentences_dev):\n",
    "    for j, word in enumerate(sentence):\n",
    "        try:\n",
    "            embedded_devset[i, j, :] = embedding_matrix[w2i[word]]\n",
    "        except KeyError:\n",
    "            pass"
   ]
  },
  {
   "cell_type": "code",
   "execution_count": 16,
   "id": "commercial-migration",
   "metadata": {
    "ExecuteTime": {
     "end_time": "2021-04-12T18:13:50.754441Z",
     "start_time": "2021-04-12T18:13:50.138038Z"
    }
   },
   "outputs": [],
   "source": [
    "embedded_testset_org = np.zeros(shape=(len(sentences_test_org), max, 300))\n",
    "for i, sentence in enumerate(sentences_test_org):\n",
    "    for j, word in enumerate(sentence):\n",
    "        try:\n",
    "            embedded_testset_org[i, j, :] = embedding_matrix[w2i[word]]\n",
    "        except KeyError:\n",
    "            pass"
   ]
  },
  {
   "cell_type": "code",
   "execution_count": 17,
   "id": "secondary-reminder",
   "metadata": {
    "ExecuteTime": {
     "end_time": "2021-04-12T18:13:52.558968Z",
     "start_time": "2021-04-12T18:13:50.756021Z"
    }
   },
   "outputs": [],
   "source": [
    "embedded_testset = np.zeros(shape=(len(sentences_test), max, 300))\n",
    "for i, sentence in enumerate(sentences_test):\n",
    "    for j, word in enumerate(sentence):\n",
    "        try:\n",
    "            embedded_testset[i, j, :] = embedding_matrix[w2i[word]]\n",
    "        except KeyError:\n",
    "            pass"
   ]
  },
  {
   "cell_type": "code",
   "execution_count": 18,
   "id": "charitable-police",
   "metadata": {
    "ExecuteTime": {
     "end_time": "2021-04-12T18:13:53.189653Z",
     "start_time": "2021-04-12T18:13:52.560558Z"
    }
   },
   "outputs": [],
   "source": [
    "embedded_sin = np.zeros(shape=(len(sentences_sin), max, 300))\n",
    "for i, sentence in enumerate(sentences_sin):\n",
    "    for j, word in enumerate(sentence):\n",
    "        try:\n",
    "            embedded_sin[i, j, :] = embedding_matrix[w2i[word]]\n",
    "        except KeyError:\n",
    "            pass"
   ]
  },
  {
   "cell_type": "code",
   "execution_count": 19,
   "id": "bibliographic-showcase",
   "metadata": {
    "ExecuteTime": {
     "end_time": "2021-04-12T18:13:53.815640Z",
     "start_time": "2021-04-12T18:13:53.191245Z"
    }
   },
   "outputs": [],
   "source": [
    "embedded_emb = np.zeros(shape=(len(sentences_emb), max, 300))\n",
    "for i, sentence in enumerate(sentences_emb):\n",
    "    for j, word in enumerate(sentence):\n",
    "        try:\n",
    "            embedded_emb[i, j, :] = embedding_matrix[w2i[word]]\n",
    "        except KeyError:\n",
    "            pass"
   ]
  },
  {
   "cell_type": "markdown",
   "id": "stunning-appearance",
   "metadata": {},
   "source": [
    "# Model"
   ]
  },
  {
   "cell_type": "code",
   "execution_count": 20,
   "id": "organizational-correlation",
   "metadata": {
    "ExecuteTime": {
     "end_time": "2021-04-12T18:14:21.426573Z",
     "start_time": "2021-04-12T18:14:21.295186Z"
    }
   },
   "outputs": [],
   "source": [
    "best_params = optuna.load_study(study_name=\"DDI\",\n",
    "                                storage=\"sqlite:///\"+path+\"ddi2013-type/optuna_ddi_studio_0.db\").best_params"
   ]
  },
  {
   "cell_type": "code",
   "execution_count": 22,
   "id": "color-steal",
   "metadata": {
    "ExecuteTime": {
     "end_time": "2021-04-12T16:06:07.873547Z",
     "start_time": "2021-04-12T16:06:07.870403Z"
    }
   },
   "outputs": [
    {
     "name": "stdout",
     "output_type": "stream",
     "text": [
      "{'batch_size': 89, 'dropout': 0.63, 'units': 81}\n"
     ]
    }
   ],
   "source": [
    "print(f'{best_params}')"
   ]
  },
  {
   "cell_type": "code",
   "execution_count": 21,
   "id": "several-joshua",
   "metadata": {
    "ExecuteTime": {
     "end_time": "2021-04-12T18:14:26.647085Z",
     "start_time": "2021-04-12T18:14:26.103653Z"
    }
   },
   "outputs": [],
   "source": [
    "model = keras.Sequential()\n",
    "model.add(keras.layers.Input(shape=(max, 300)))\n",
    "model.add(keras.layers.Bidirectional(layer=keras.layers.LSTM(units=best_params['units'],\n",
    "                                                             recurrent_dropout=best_params['dropout'],\n",
    "                                                             activation='tanh')))\n",
    "\n",
    "model.add(keras.layers.Dense(5, activation='softmax'))\n",
    "model.compile(loss='categorical_crossentropy',\n",
    "              optimizer=keras.optimizers.Adam(learning_rate=0.001),\n",
    "              metrics=['accuracy'])"
   ]
  },
  {
   "cell_type": "code",
   "execution_count": 23,
   "id": "incomplete-academy",
   "metadata": {
    "ExecuteTime": {
     "end_time": "2021-04-12T19:08:26.072463Z",
     "start_time": "2021-04-12T18:31:21.881563Z"
    }
   },
   "outputs": [
    {
     "name": "stdout",
     "output_type": "stream",
     "text": [
      "Epoch 1/100\n",
      "633/633 [==============================] - 62s 98ms/step - loss: 0.2623 - accuracy: 0.8919 - val_loss: 0.4926 - val_accuracy: 0.7420\n",
      "Epoch 2/100\n",
      "633/633 [==============================] - 72s 114ms/step - loss: 0.2530 - accuracy: 0.8949 - val_loss: 0.5883 - val_accuracy: 0.7392\n",
      "Epoch 3/100\n",
      "633/633 [==============================] - 125s 198ms/step - loss: 0.2473 - accuracy: 0.8983 - val_loss: 0.5361 - val_accuracy: 0.7372\n",
      "Epoch 4/100\n",
      "633/633 [==============================] - 127s 200ms/step - loss: 0.2385 - accuracy: 0.9026 - val_loss: 0.5976 - val_accuracy: 0.7374\n",
      "Epoch 5/100\n",
      "633/633 [==============================] - 127s 201ms/step - loss: 0.2329 - accuracy: 0.9054 - val_loss: 0.6124 - val_accuracy: 0.7435\n",
      "Epoch 6/100\n",
      "633/633 [==============================] - 127s 201ms/step - loss: 0.2252 - accuracy: 0.9077 - val_loss: 0.7035 - val_accuracy: 0.7394\n",
      "Epoch 7/100\n",
      "633/633 [==============================] - 127s 200ms/step - loss: 0.2199 - accuracy: 0.9099 - val_loss: 0.5637 - val_accuracy: 0.7402\n",
      "Epoch 8/100\n",
      "633/633 [==============================] - 127s 201ms/step - loss: 0.2151 - accuracy: 0.9123 - val_loss: 0.6145 - val_accuracy: 0.7424\n",
      "Epoch 9/100\n",
      "633/633 [==============================] - 127s 201ms/step - loss: 0.2092 - accuracy: 0.9143 - val_loss: 0.6609 - val_accuracy: 0.7483\n",
      "Epoch 10/100\n",
      "633/633 [==============================] - 127s 201ms/step - loss: 0.2055 - accuracy: 0.9170 - val_loss: 0.7607 - val_accuracy: 0.7276\n",
      "Epoch 11/100\n",
      "633/633 [==============================] - 127s 200ms/step - loss: 0.2010 - accuracy: 0.9185 - val_loss: 0.6939 - val_accuracy: 0.7428\n",
      "Epoch 12/100\n",
      "633/633 [==============================] - 127s 201ms/step - loss: 0.1958 - accuracy: 0.9203 - val_loss: 0.8804 - val_accuracy: 0.7427\n",
      "Epoch 13/100\n",
      "633/633 [==============================] - 126s 200ms/step - loss: 0.1922 - accuracy: 0.9230 - val_loss: 0.7115 - val_accuracy: 0.7448\n",
      "Epoch 14/100\n",
      "633/633 [==============================] - 127s 200ms/step - loss: 0.1881 - accuracy: 0.9238 - val_loss: 0.6786 - val_accuracy: 0.7474\n",
      "Epoch 15/100\n",
      "633/633 [==============================] - 127s 201ms/step - loss: 0.1839 - accuracy: 0.9265 - val_loss: 0.7452 - val_accuracy: 0.7443\n",
      "Epoch 16/100\n",
      "633/633 [==============================] - 126s 200ms/step - loss: 0.1808 - accuracy: 0.9275 - val_loss: 0.7712 - val_accuracy: 0.7431\n",
      "Epoch 17/100\n",
      "633/633 [==============================] - 99s 157ms/step - loss: 0.1766 - accuracy: 0.9293 - val_loss: 0.7481 - val_accuracy: 0.7454\n",
      "Epoch 18/100\n",
      "633/633 [==============================] - 100s 158ms/step - loss: 0.1726 - accuracy: 0.9311 - val_loss: 0.7756 - val_accuracy: 0.7387\n",
      "Epoch 19/100\n",
      "633/633 [==============================] - 104s 165ms/step - loss: 0.1718 - accuracy: 0.9308 - val_loss: 0.7185 - val_accuracy: 0.7359\n"
     ]
    }
   ],
   "source": [
    "result = model.fit(embedded_trainset,\n",
    "                   five_hot_train,\n",
    "                   validation_data=(embedded_devset, five_hot_dev),\n",
    "                   epochs=100,\n",
    "                   batch_size=best_params['batch_size'],\n",
    "                   callbacks=[keras.callbacks.EarlyStopping(monitor='val_accuracy',\n",
    "                                                            patience=10,\n",
    "                                                            restore_best_weights=True)])"
   ]
  },
  {
   "cell_type": "code",
   "execution_count": 24,
   "id": "super-split",
   "metadata": {
    "ExecuteTime": {
     "end_time": "2021-04-12T19:09:52.394290Z",
     "start_time": "2021-04-12T19:09:52.370024Z"
    }
   },
   "outputs": [],
   "source": [
    "model.save_weights('DDI3_005.h5')"
   ]
  },
  {
   "cell_type": "markdown",
   "id": "focused-locator",
   "metadata": {},
   "source": [
    "# EVALUATION"
   ]
  },
  {
   "cell_type": "code",
   "execution_count": 25,
   "id": "lined-floor",
   "metadata": {
    "ExecuteTime": {
     "end_time": "2021-04-12T19:09:56.860596Z",
     "start_time": "2021-04-12T19:09:56.843319Z"
    }
   },
   "outputs": [],
   "source": [
    "def print_confusionMatrix_fscore(prediction, hot_encoding):\n",
    "    cm = confusion_matrix(hot_encoding.argmax(axis=1), prediction.argmax(axis=1))\n",
    "    fscore = f1_score(y_true=hot_encoding.argmax(axis=1),\n",
    "                      y_pred=prediction.argmax(axis=1),\n",
    "                      average=None)\n",
    "\n",
    "    print('Confusion Matrix:\\n\\t\\tDDI-false\\tDDI-mechanism\\tDDI-effect\\tDDI-advise\\tDDI-int')\n",
    "    print(f'DDI-false\\t{cm[0][0]}\\t\\t{cm[0][1]}\\t\\t{cm[0][2]}\\t\\t{cm[0][3]}\\t\\t{cm[0][4]}')\n",
    "    print(f'DDI-mechanism\\t{cm[1][0]}\\t\\t{cm[1][1]}\\t\\t{cm[1][2]}\\t\\t{cm[1][3]}\\t\\t{cm[1][4]}')\n",
    "    print(f'DDI-effect\\t{cm[2][0]}\\t\\t{cm[2][1]}\\t\\t{cm[2][2]}\\t\\t{cm[2][3]}\\t\\t{cm[2][4]}')\n",
    "    print(f'DDI-advise\\t{cm[3][0]}\\t\\t{cm[3][1]}\\t\\t{cm[3][2]}\\t\\t{cm[3][3]}\\t\\t{cm[3][4]}')\n",
    "    print(f'DDI-int\\t\\t{cm[4][0]}\\t\\t{cm[4][1]}\\t\\t{cm[4][2]}\\t\\t{cm[4][3]}\\t\\t{cm[4][4]}')\n",
    "\n",
    "    zipped_fscore = zip(['DDI-false', 'DDI-mechanism', 'DDI-effect', 'DDI-advise','DDI-int'], fscore)\n",
    "    print('\\n\\nFSCORE:')\n",
    "    for nm, val in zipped_fscore:\n",
    "        print(f'{nm}: {val}')"
   ]
  },
  {
   "cell_type": "code",
   "execution_count": 26,
   "id": "brazilian-stream",
   "metadata": {
    "ExecuteTime": {
     "end_time": "2021-04-12T19:09:58.658142Z",
     "start_time": "2021-04-12T19:09:58.653533Z"
    }
   },
   "outputs": [],
   "source": [
    "from sklearn.metrics import confusion_matrix, f1_score"
   ]
  },
  {
   "cell_type": "markdown",
   "id": "atmospheric-magnet",
   "metadata": {},
   "source": [
    "## DATASET ORIGINARIO"
   ]
  },
  {
   "cell_type": "code",
   "execution_count": 27,
   "id": "literary-ireland",
   "metadata": {
    "ExecuteTime": {
     "end_time": "2021-04-12T19:10:42.562063Z",
     "start_time": "2021-04-12T19:10:03.524639Z"
    }
   },
   "outputs": [
    {
     "name": "stdout",
     "output_type": "stream",
     "text": [
      "633/633 [==============================] - 27s 42ms/step - loss: 0.1707 - accuracy: 0.9306\n",
      "DATASET ORIGINARIO[0.17071473598480225, 0.9305784702301025]\n"
     ]
    }
   ],
   "source": [
    "result_base=model.evaluate(embedded_trainset, five_hot_train, batch_size=best_params['batch_size'])\n",
    "print(f'DATASET ORIGINARIO{result_base}')"
   ]
  },
  {
   "cell_type": "code",
   "execution_count": 28,
   "id": "broke-mistake",
   "metadata": {
    "ExecuteTime": {
     "end_time": "2021-04-12T19:11:22.332074Z",
     "start_time": "2021-04-12T19:10:46.220870Z"
    }
   },
   "outputs": [
    {
     "name": "stdout",
     "output_type": "stream",
     "text": [
      "Confusion Matrix:\n",
      "\t\tDDI-false\tDDI-mechanism\tDDI-effect\tDDI-advise\tDDI-int\n",
      "DDI-false\t46812\t\t268\t\t258\t\t140\t\t48\n",
      "DDI-mechanism\t1011\t\t1803\t\t24\t\t0\t\t0\n",
      "DDI-effect\t1312\t\t14\t\t2294\t\t10\t\t6\n",
      "DDI-advise\t681\t\t0\t\t2\t\t1216\t\t0\n",
      "DDI-int\t\t137\t\t0\t\t0\t\t0\t\t301\n",
      "\n",
      "\n",
      "FSCORE:\n",
      "DDI-false: 0.9604530206506017\n",
      "DDI-mechanism: 0.7324801950030468\n",
      "DDI-effect: 0.7383327969102027\n",
      "DDI-advise: 0.7448698315467075\n",
      "DDI-int: 0.759142496847415\n"
     ]
    }
   ],
   "source": [
    "pred = model.predict(embedded_trainset, batch_size=best_params['batch_size'])\n",
    "\n",
    "print_confusionMatrix_fscore(prediction=pred, hot_encoding=five_hot_train)"
   ]
  },
  {
   "cell_type": "markdown",
   "id": "close-compact",
   "metadata": {},
   "source": [
    "## TESTSET"
   ]
  },
  {
   "cell_type": "code",
   "execution_count": 29,
   "id": "tutorial-liberia",
   "metadata": {
    "ExecuteTime": {
     "end_time": "2021-04-12T19:11:47.203584Z",
     "start_time": "2021-04-12T19:11:34.970124Z"
    }
   },
   "outputs": [
    {
     "name": "stdout",
     "output_type": "stream",
     "text": [
      "195/195 [==============================] - 8s 41ms/step - loss: 0.6194 - accuracy: 0.8207\n",
      "DATASET TEST[0.6193644404411316, 0.8207486867904663]\n"
     ]
    }
   ],
   "source": [
    "result_base=model.evaluate(embedded_testset, five_hot_test, batch_size=best_params['batch_size'])\n",
    "print(f'DATASET TEST{result_base}')"
   ]
  },
  {
   "cell_type": "code",
   "execution_count": null,
   "id": "hawaiian-polls",
   "metadata": {
    "ExecuteTime": {
     "start_time": "2021-04-12T19:11:56.925Z"
    }
   },
   "outputs": [],
   "source": [
    "pred = model.predict(embedded_testset, batch_size=best_params['batch_size'])\n",
    "\n",
    "print_confusionMatrix_fscore(prediction=pred, hot_encoding=five_hot_test)"
   ]
  },
  {
   "cell_type": "markdown",
   "id": "mounted-belize",
   "metadata": {},
   "source": [
    "## TESTSET ORIGINARIO"
   ]
  },
  {
   "cell_type": "code",
   "execution_count": 30,
   "id": "decimal-maker",
   "metadata": {
    "ExecuteTime": {
     "end_time": "2021-04-12T18:10:05.358297Z",
     "start_time": "2021-04-12T18:10:02.201441Z"
    }
   },
   "outputs": [
    {
     "name": "stdout",
     "output_type": "stream",
     "text": [
      "65/65 [==============================] - 2s 28ms/step - loss: 0.5901 - accuracy: 0.8164\n",
      "DATASET TEST[0.5900827646255493, 0.8163513541221619]\n"
     ]
    }
   ],
   "source": [
    "result_base=model.evaluate(embedded_testset_org, five_hot_test_org, batch_size=best_params['batch_size'],)\n",
    "print(f'DATASET TEST{result_base}')"
   ]
  },
  {
   "cell_type": "code",
   "execution_count": 31,
   "id": "arctic-watson",
   "metadata": {
    "ExecuteTime": {
     "end_time": "2021-04-12T18:10:11.516354Z",
     "start_time": "2021-04-12T18:10:08.783072Z"
    }
   },
   "outputs": [
    {
     "name": "stdout",
     "output_type": "stream",
     "text": [
      "Confusion Matrix:\n",
      "\t\tDDI-false\tDDI-mechanism\tDDI-effect\tDDI-advise\tDDI-int\n",
      "DDI-false\t4343\t\t151\t\t203\t\t78\t\t7\n",
      "DDI-mechanism\t187\t\t111\t\t4\t\t0\t\t0\n",
      "DDI-effect\t183\t\t2\t\t171\t\t4\t\t0\n",
      "DDI-advise\t142\t\t0\t\t2\t\t77\t\t0\n",
      "DDI-int\t\t78\t\t1\t\t16\t\t0\t\t1\n",
      "\n",
      "\n",
      "FSCORE:\n",
      "DDI-false: 0.8940813175501802\n",
      "DDI-mechanism: 0.3915343915343915\n",
      "DDI-effect: 0.4523809523809524\n",
      "DDI-advise: 0.4052631578947368\n",
      "DDI-int: 0.019230769230769232\n"
     ]
    }
   ],
   "source": [
    "pred = model.predict(embedded_testset_org, batch_size=best_params['batch_size'])\n",
    "\n",
    "print_confusionMatrix_fscore(prediction=pred, hot_encoding=five_hot_test_org)"
   ]
  },
  {
   "cell_type": "markdown",
   "id": "otherwise-skill",
   "metadata": {},
   "source": [
    "## DATASET SINONIMI"
   ]
  },
  {
   "cell_type": "code",
   "execution_count": 32,
   "id": "insured-gather",
   "metadata": {
    "ExecuteTime": {
     "end_time": "2021-04-12T18:10:17.705853Z",
     "start_time": "2021-04-12T18:10:14.632534Z"
    }
   },
   "outputs": [
    {
     "name": "stdout",
     "output_type": "stream",
     "text": [
      "65/65 [==============================] - 2s 28ms/step - loss: 0.6793 - accuracy: 0.8200\n",
      "DATASET SINONIMI[0.6792577505111694, 0.8199965357780457]\n"
     ]
    }
   ],
   "source": [
    "result_base=model.evaluate(embedded_sin, five_hot_sin, batch_size=best_params['batch_size'],)\n",
    "print(f'DATASET SINONIMI{result_base}')"
   ]
  },
  {
   "cell_type": "code",
   "execution_count": 33,
   "id": "stopped-bahamas",
   "metadata": {
    "ExecuteTime": {
     "end_time": "2021-04-12T18:10:22.516009Z",
     "start_time": "2021-04-12T18:10:19.754019Z"
    }
   },
   "outputs": [
    {
     "name": "stdout",
     "output_type": "stream",
     "text": [
      "Confusion Matrix:\n",
      "\t\tDDI-false\tDDI-mechanism\tDDI-effect\tDDI-advise\tDDI-int\n",
      "DDI-false\t4508\t\t92\t\t107\t\t65\t\t10\n",
      "DDI-mechanism\t239\t\t48\t\t13\t\t1\t\t1\n",
      "DDI-effect\t259\t\t3\t\t91\t\t6\t\t1\n",
      "DDI-advise\t139\t\t1\t\t5\t\t76\t\t0\n",
      "DDI-int\t\t86\t\t2\t\t7\t\t0\t\t1\n",
      "\n",
      "\n",
      "FSCORE:\n",
      "DDI-false: 0.9004294417257566\n",
      "DDI-mechanism: 0.21428571428571427\n",
      "DDI-effect: 0.31217838765008576\n",
      "DDI-advise: 0.41192411924119243\n",
      "DDI-int: 0.018348623853211007\n"
     ]
    }
   ],
   "source": [
    "pred = model.predict(embedded_sin, batch_size=best_params['batch_size'])\n",
    "\n",
    "print_confusionMatrix_fscore(prediction=pred, hot_encoding=five_hot_sin)"
   ]
  },
  {
   "cell_type": "markdown",
   "id": "original-sword",
   "metadata": {},
   "source": [
    "## DATASET EMBEDDING"
   ]
  },
  {
   "cell_type": "code",
   "execution_count": 34,
   "id": "engaged-eight",
   "metadata": {
    "ExecuteTime": {
     "end_time": "2021-04-12T18:10:28.555694Z",
     "start_time": "2021-04-12T18:10:25.460249Z"
    }
   },
   "outputs": [
    {
     "name": "stdout",
     "output_type": "stream",
     "text": [
      "65/65 [==============================] - 2s 28ms/step - loss: 0.6436 - accuracy: 0.7971\n",
      "DATASET SINONIMI[0.643576979637146, 0.797083854675293]\n"
     ]
    }
   ],
   "source": [
    "result_base=model.evaluate(embedded_emb, five_hot_emb, batch_size=best_params['batch_size'],)\n",
    "print(f'DATASET SINONIMI{result_base}')"
   ]
  },
  {
   "cell_type": "code",
   "execution_count": 35,
   "id": "burning-lunch",
   "metadata": {
    "ExecuteTime": {
     "end_time": "2021-04-12T18:10:34.523584Z",
     "start_time": "2021-04-12T18:10:31.668851Z"
    }
   },
   "outputs": [
    {
     "name": "stdout",
     "output_type": "stream",
     "text": [
      "Confusion Matrix:\n",
      "\t\tDDI-false\tDDI-mechanism\tDDI-effect\tDDI-advise\tDDI-int\n",
      "DDI-false\t4281\t\t183\t\t194\t\t118\t\t6\n",
      "DDI-mechanism\t209\t\t90\t\t2\t\t1\t\t0\n",
      "DDI-effect\t203\t\t5\t\t146\t\t5\t\t1\n",
      "DDI-advise\t140\t\t0\t\t6\t\t75\t\t0\n",
      "DDI-int\t\t78\t\t0\t\t18\t\t0\t\t0\n",
      "\n",
      "\n",
      "FSCORE:\n",
      "DDI-false: 0.8833178582482204\n",
      "DDI-mechanism: 0.3103448275862069\n",
      "DDI-effect: 0.40220385674931125\n",
      "DDI-advise: 0.35714285714285715\n",
      "DDI-int: 0.0\n"
     ]
    }
   ],
   "source": [
    "pred = model.predict(embedded_emb, batch_size=best_params['batch_size'])\n",
    "\n",
    "print_confusionMatrix_fscore(prediction=pred, hot_encoding=five_hot_emb)"
   ]
  }
 ],
 "metadata": {
  "kernelspec": {
   "display_name": "Python 3",
   "language": "python",
   "name": "python3"
  },
  "language_info": {
   "codemirror_mode": {
    "name": "ipython",
    "version": 3
   },
   "file_extension": ".py",
   "mimetype": "text/x-python",
   "name": "python",
   "nbconvert_exporter": "python",
   "pygments_lexer": "ipython3",
   "version": "3.7.6"
  },
  "toc": {
   "base_numbering": 1,
   "nav_menu": {},
   "number_sections": true,
   "sideBar": true,
   "skip_h1_title": false,
   "title_cell": "Table of Contents",
   "title_sidebar": "Contents",
   "toc_cell": false,
   "toc_position": {},
   "toc_section_display": true,
   "toc_window_display": false
  }
 },
 "nbformat": 4,
 "nbformat_minor": 5
}
