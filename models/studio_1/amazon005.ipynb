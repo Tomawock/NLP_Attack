{
 "cells": [
  {
   "cell_type": "code",
   "execution_count": 1,
   "metadata": {
    "ExecuteTime": {
     "end_time": "2021-04-30T07:34:53.139194Z",
     "start_time": "2021-04-30T07:34:50.408007Z"
    }
   },
   "outputs": [],
   "source": [
    "# nostri import \n",
    "import random\n",
    "import pickle\n",
    "\n",
    "import numpy as np\n",
    "import tensorflow as tf\n",
    "from tensorflow import keras\n",
    "import pandas as pd\n",
    "from sklearn.model_selection import train_test_split\n",
    "import tensorflow_hub as hub\n",
    "import tensorflow_text #necessaria per hub.load\n",
    "from sklearn.preprocessing import OneHotEncoder"
   ]
  },
  {
   "cell_type": "code",
   "execution_count": 2,
   "metadata": {
    "ExecuteTime": {
     "end_time": "2021-04-30T07:34:53.144286Z",
     "start_time": "2021-04-30T07:34:53.141396Z"
    }
   },
   "outputs": [],
   "source": [
    "RANDOM_SEED = 42\n",
    "np.random.seed(RANDOM_SEED)\n",
    "tf.random.set_seed(RANDOM_SEED)"
   ]
  },
  {
   "cell_type": "code",
   "execution_count": 3,
   "metadata": {
    "ExecuteTime": {
     "end_time": "2021-04-30T07:34:57.296512Z",
     "start_time": "2021-04-30T07:34:53.146077Z"
    }
   },
   "outputs": [],
   "source": [
    "df = pd.concat([pd.read_csv('../amazon_sinonimi005.csv'), pd.read_csv('../reducedReviews.csv')], ignore_index=True)\n",
    "df = df.sample(frac=1, random_state=RANDOM_SEED)\n",
    "\n",
    "data_sinonimi = pd.read_csv('../amazon_sinonimi.csv')\n",
    "data_embedding = pd.read_csv('../amazon_embedding.csv')"
   ]
  },
  {
   "cell_type": "code",
   "execution_count": 4,
   "metadata": {
    "ExecuteTime": {
     "end_time": "2021-04-30T07:34:57.986482Z",
     "start_time": "2021-04-30T07:34:57.298980Z"
    }
   },
   "outputs": [],
   "source": [
    "df['review'] = df['Summary']+df['Text']\n",
    "del df['Summary']\n",
    "del df['Text']\n",
    "df.review.fillna(\"\",inplace = True)"
   ]
  },
  {
   "cell_type": "code",
   "execution_count": 5,
   "metadata": {
    "ExecuteTime": {
     "end_time": "2021-04-30T07:34:58.048120Z",
     "start_time": "2021-04-30T07:34:57.988077Z"
    }
   },
   "outputs": [],
   "source": [
    "df[\"review_type\"] = df[\"Score\"].apply(lambda x: \"negative\" if x < 4 else \"positive\")"
   ]
  },
  {
   "cell_type": "code",
   "execution_count": 6,
   "metadata": {
    "ExecuteTime": {
     "end_time": "2021-04-30T07:34:58.052613Z",
     "start_time": "2021-04-30T07:34:58.049452Z"
    }
   },
   "outputs": [
    {
     "name": "stdout",
     "output_type": "stream",
     "text": [
      "(347292, 3)\n",
      "(152598, 4)\n",
      "(149967, 4)\n"
     ]
    }
   ],
   "source": [
    "print(df.shape)\n",
    "print(data_sinonimi.shape)\n",
    "print(data_embedding.shape)"
   ]
  },
  {
   "cell_type": "code",
   "execution_count": 7,
   "metadata": {
    "ExecuteTime": {
     "end_time": "2021-04-30T07:34:58.263967Z",
     "start_time": "2021-04-30T07:34:58.053858Z"
    }
   },
   "outputs": [],
   "source": [
    "positive_reviews = df[df.review_type == \"positive\"]\n",
    "negative_reviews = df[df.review_type == \"negative\"]\n",
    "\n",
    "positive_df = positive_reviews.sample(n=min(len(negative_reviews), len(positive_reviews)), random_state=RANDOM_SEED)\n",
    "negative_df = negative_reviews.sample(n=min(len(negative_reviews), len(positive_reviews)), random_state=RANDOM_SEED)\n",
    "\n",
    "review_df = positive_df.append(negative_df).reset_index(drop=True)"
   ]
  },
  {
   "cell_type": "code",
   "execution_count": 8,
   "metadata": {
    "ExecuteTime": {
     "end_time": "2021-04-30T07:34:58.346214Z",
     "start_time": "2021-04-30T07:34:58.266166Z"
    }
   },
   "outputs": [],
   "source": [
    "type_one_hot = OneHotEncoder(sparse=False).fit_transform(\n",
    "  review_df.review_type.to_numpy().reshape(-1, 1))"
   ]
  },
  {
   "cell_type": "code",
   "execution_count": 9,
   "metadata": {
    "ExecuteTime": {
     "end_time": "2021-04-30T07:34:58.421639Z",
     "start_time": "2021-04-30T07:34:58.348114Z"
    }
   },
   "outputs": [],
   "source": [
    "train_reviews, test_reviews, y_train, y_test =\\\n",
    "  train_test_split(\n",
    "    review_df.review,\n",
    "    type_one_hot,\n",
    "    test_size=.3,\n",
    "    random_state=RANDOM_SEED\n",
    "  )"
   ]
  },
  {
   "cell_type": "code",
   "execution_count": 10,
   "metadata": {
    "ExecuteTime": {
     "end_time": "2021-04-30T07:35:05.677083Z",
     "start_time": "2021-04-30T07:34:58.423258Z"
    }
   },
   "outputs": [],
   "source": [
    "embed = hub.load(\"https://tfhub.dev/google/universal-sentence-encoder-multilingual-large/3\")"
   ]
  },
  {
   "cell_type": "code",
   "execution_count": 11,
   "metadata": {
    "ExecuteTime": {
     "end_time": "2021-04-30T07:35:07.499093Z",
     "start_time": "2021-04-30T07:35:05.678762Z"
    },
    "scrolled": true
   },
   "outputs": [
    {
     "name": "stdout",
     "output_type": "stream",
     "text": [
      "Model: \"sequential\"\n",
      "_________________________________________________________________\n",
      "Layer (type)                 Output Shape              Param #   \n",
      "=================================================================\n",
      "lambda (Lambda)              None                      0         \n",
      "_________________________________________________________________\n",
      "keras_layer (KerasLayer)     (None, 512)               85213184  \n",
      "_________________________________________________________________\n",
      "dense (Dense)                (None, 256)               131328    \n",
      "_________________________________________________________________\n",
      "dropout (Dropout)            (None, 256)               0         \n",
      "_________________________________________________________________\n",
      "dense_1 (Dense)              (None, 128)               32896     \n",
      "_________________________________________________________________\n",
      "dropout_1 (Dropout)          (None, 128)               0         \n",
      "_________________________________________________________________\n",
      "dense_2 (Dense)              (None, 2)                 258       \n",
      "=================================================================\n",
      "Total params: 85,377,666\n",
      "Trainable params: 164,482\n",
      "Non-trainable params: 85,213,184\n",
      "_________________________________________________________________\n"
     ]
    }
   ],
   "source": [
    "model = keras.Sequential()\n",
    "\n",
    "model.add(keras.layers.Input(shape=(1,), dtype=tf.string))\n",
    "model.add(keras.layers.Lambda(lambda x: tf.squeeze(tf.cast(x, tf.string))))\n",
    "model.add(hub.KerasLayer(handle=embed,output_shape=512)) # pre trained Convolutional Neural Net. \n",
    "model.add(keras.layers.Dense(units=256, activation='relu')) \n",
    "model.add(keras.layers.Dropout(rate=0.2))\n",
    "model.add(keras.layers.Dense(units=128, activation='relu'))\n",
    "model.add(keras.layers.Dropout(rate=0.2))\n",
    "model.add(keras.layers.Dense(2, activation='softmax'))\n",
    "model.compile(loss='categorical_crossentropy', optimizer=keras.optimizers.Adam(0.001), metrics=['accuracy'])\n",
    "model.summary()"
   ]
  },
  {
   "cell_type": "code",
   "execution_count": 12,
   "metadata": {
    "ExecuteTime": {
     "end_time": "2021-04-30T07:35:08.625134Z",
     "start_time": "2021-04-30T07:35:07.500892Z"
    }
   },
   "outputs": [],
   "source": [
    "model.load_weights('model005.h5')"
   ]
  },
  {
   "cell_type": "code",
   "execution_count": 13,
   "metadata": {
    "ExecuteTime": {
     "end_time": "2021-04-30T07:35:11.481691Z",
     "start_time": "2021-04-30T07:35:08.627696Z"
    },
    "scrolled": true
   },
   "outputs": [],
   "source": [
    "df = pd.read_csv('../reducedReviews.csv')\n",
    "df['review'] = df['Summary']+df['Text']\n",
    "del df['Summary']\n",
    "del df['Text']\n",
    "df.review.fillna(\"\",inplace = True)\n",
    "\n",
    "data_sinonimi['review'] = data_sinonimi['Summary']+data_sinonimi['Text']\n",
    "del data_sinonimi['Summary']\n",
    "del data_sinonimi['Text']\n",
    "data_sinonimi.review.fillna(\"\",inplace = True)\n",
    "\n",
    "data_sinonimi_005 = pd.read_csv('../amazon_sinonimi005.csv')\n",
    "data_sinonimi_005['review'] = data_sinonimi_005['Summary']+data_sinonimi_005['Text']\n",
    "del data_sinonimi_005['Summary']\n",
    "del data_sinonimi_005['Text']\n",
    "data_sinonimi_005.review.fillna(\"\",inplace = True)\n",
    "\n",
    "data_embedding['review'] = data_embedding['Summary']+data_embedding['Text']\n",
    "del data_embedding['Summary']\n",
    "del data_embedding['Text']\n",
    "data_embedding.review.fillna(\"\",inplace = True)"
   ]
  },
  {
   "cell_type": "code",
   "execution_count": 14,
   "metadata": {
    "ExecuteTime": {
     "end_time": "2021-04-30T07:35:11.664342Z",
     "start_time": "2021-04-30T07:35:11.483345Z"
    }
   },
   "outputs": [],
   "source": [
    "df_one_hot = OneHotEncoder(sparse=False).fit_transform(\n",
    "  df.review_type.to_numpy().reshape(-1, 1))\n",
    "_, df_test_reviews, _, df_y_test = train_test_split(df.review,\n",
    "                                                    df_one_hot,\n",
    "                                                    test_size=.3,\n",
    "                                                    random_state=RANDOM_SEED)\n",
    "\n",
    "sinonimi_one_hot = OneHotEncoder(sparse=False).fit_transform(\n",
    "  data_sinonimi.review_type.to_numpy().reshape(-1, 1))\n",
    "\n",
    "sinonimi_005_one_hot = OneHotEncoder(sparse=False).fit_transform(\n",
    "  data_sinonimi_005.review_type.to_numpy().reshape(-1, 1))\n",
    "\n",
    "embedding_one_hot = OneHotEncoder(sparse=False).fit_transform(\n",
    "  data_embedding.review_type.to_numpy().reshape(-1, 1))"
   ]
  },
  {
   "cell_type": "markdown",
   "metadata": {},
   "source": [
    "## Eval test relativo al training set usato "
   ]
  },
  {
   "cell_type": "code",
   "execution_count": null,
   "metadata": {
    "ExecuteTime": {
     "start_time": "2021-04-30T07:35:17.786Z"
    }
   },
   "outputs": [
    {
     "name": "stdout",
     "output_type": "stream",
     "text": [
      " 664/3256 [=====>........................] - ETA: 1:51:00 - loss: 0.2536 - accuracy: 0.9137"
     ]
    }
   ],
   "source": [
    "result = model.evaluate(test_reviews, y_test)"
   ]
  },
  {
   "cell_type": "code",
   "execution_count": 16,
   "metadata": {
    "ExecuteTime": {
     "end_time": "2021-04-30T12:04:35.980474Z",
     "start_time": "2021-04-30T12:04:35.971404Z"
    }
   },
   "outputs": [
    {
     "name": "stdout",
     "output_type": "stream",
     "text": [
      "Accuracy: 0.9116597175598145\n"
     ]
    }
   ],
   "source": [
    "print(f'Accuracy: {result[1]}')"
   ]
  },
  {
   "cell_type": "markdown",
   "metadata": {},
   "source": [
    "## Eval test relativo al training set originale"
   ]
  },
  {
   "cell_type": "code",
   "execution_count": null,
   "metadata": {
    "ExecuteTime": {
     "start_time": "2021-04-30T12:04:38.447Z"
    }
   },
   "outputs": [
    {
     "name": "stdout",
     "output_type": "stream",
     "text": [
      " 382/1628 [======>.......................] - ETA: 51:31 - loss: 0.1491 - accuracy: 0.9473"
     ]
    }
   ],
   "source": [
    "result = model.evaluate(df_test_reviews, df_y_test)"
   ]
  },
  {
   "cell_type": "code",
   "execution_count": 18,
   "metadata": {
    "ExecuteTime": {
     "end_time": "2021-04-30T17:29:38.945023Z",
     "start_time": "2021-04-30T17:29:38.937896Z"
    },
    "scrolled": true
   },
   "outputs": [
    {
     "name": "stdout",
     "output_type": "stream",
     "text": [
      "Accuracy: 0.9451568126678467\n"
     ]
    }
   ],
   "source": [
    "print(f'Accuracy: {result[1]}')"
   ]
  },
  {
   "cell_type": "markdown",
   "metadata": {},
   "source": [
    "## Eval test relativo a tutti i sinonimi"
   ]
  },
  {
   "cell_type": "code",
   "execution_count": null,
   "metadata": {
    "ExecuteTime": {
     "start_time": "2021-04-30T17:29:43.836Z"
    },
    "scrolled": true
   },
   "outputs": [
    {
     "name": "stdout",
     "output_type": "stream",
     "text": [
      "   2/4769 [..............................] - ETA: 3:27:32 - loss: 0.4286 - accuracy: 0.8594"
     ]
    }
   ],
   "source": [
    "result = model.evaluate(data_sinonimi.review, sinonimi_one_hot)"
   ]
  },
  {
   "cell_type": "code",
   "execution_count": 20,
   "metadata": {
    "ExecuteTime": {
     "end_time": "2021-04-30T21:14:37.700990Z",
     "start_time": "2021-04-30T21:14:37.696993Z"
    }
   },
   "outputs": [
    {
     "name": "stdout",
     "output_type": "stream",
     "text": [
      "Accuracy: 0.8238770961761475\n"
     ]
    }
   ],
   "source": [
    "print(f'Accuracy: {result[1]}')"
   ]
  },
  {
   "cell_type": "markdown",
   "metadata": {},
   "source": [
    "## Eval test relativo ai sinonimi con swap 0.05"
   ]
  },
  {
   "cell_type": "code",
   "execution_count": null,
   "metadata": {
    "ExecuteTime": {
     "start_time": "2021-05-03T07:12:44.459Z"
    }
   },
   "outputs": [
    {
     "name": "stdout",
     "output_type": "stream",
     "text": [
      "   8/5427 [..............................] - ETA: 3:39:00 - loss: 0.1579 - accuracy: 0.9414"
     ]
    }
   ],
   "source": [
    "result = model.evaluate(data_sinonimi_005.review, sinonimi_005_one_hot)"
   ]
  },
  {
   "cell_type": "code",
   "execution_count": 26,
   "metadata": {
    "ExecuteTime": {
     "end_time": "2021-05-03T14:16:35.386084Z",
     "start_time": "2021-05-03T14:16:35.345767Z"
    }
   },
   "outputs": [
    {
     "name": "stdout",
     "output_type": "stream",
     "text": [
      "Accuracy: 0.94351726770401\n"
     ]
    }
   ],
   "source": [
    "print(f'Accuracy: {result[1]}')"
   ]
  },
  {
   "cell_type": "markdown",
   "metadata": {},
   "source": [
    "## Eval test relativo a tutti gli embedding"
   ]
  },
  {
   "cell_type": "code",
   "execution_count": null,
   "metadata": {},
   "outputs": [],
   "source": [
    "result = model.evaluate(data_embedding.review, embedding_one_hot)"
   ]
  },
  {
   "cell_type": "code",
   "execution_count": 24,
   "metadata": {
    "ExecuteTime": {
     "end_time": "2021-05-03T07:12:06.630762Z",
     "start_time": "2021-05-03T07:12:06.623210Z"
    }
   },
   "outputs": [
    {
     "name": "stdout",
     "output_type": "stream",
     "text": [
      "Accuracy: 0.936279296875\n"
     ]
    }
   ],
   "source": [
    "print(f'Accuracy: {result[1]}')"
   ]
  }
 ],
 "metadata": {
  "kernelspec": {
   "display_name": "Python 3",
   "language": "python",
   "name": "python3"
  },
  "language_info": {
   "codemirror_mode": {
    "name": "ipython",
    "version": 3
   },
   "file_extension": ".py",
   "mimetype": "text/x-python",
   "name": "python",
   "nbconvert_exporter": "python",
   "pygments_lexer": "ipython3",
   "version": "3.7.6"
  },
  "toc": {
   "base_numbering": 1,
   "nav_menu": {},
   "number_sections": true,
   "sideBar": true,
   "skip_h1_title": false,
   "title_cell": "Table of Contents",
   "title_sidebar": "Contents",
   "toc_cell": false,
   "toc_position": {},
   "toc_section_display": true,
   "toc_window_display": false
  }
 },
 "nbformat": 4,
 "nbformat_minor": 4
}
