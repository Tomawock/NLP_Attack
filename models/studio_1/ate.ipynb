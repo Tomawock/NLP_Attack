{
  "nbformat": 4,
  "nbformat_minor": 0,
  "metadata": {
    "colab": {
      "name": "ate_studio1.ipynb",
      "provenance": [],
      "collapsed_sections": []
    },
    "kernelspec": {
      "name": "python3",
      "display_name": "Python 3"
    },
    "accelerator": "GPU"
  },
  "cells": [
    {
      "cell_type": "code",
      "metadata": {
        "id": "Rh-DWn9G8qo3",
        "colab": {
          "base_uri": "https://localhost:8080/"
        },
        "outputId": "38ab5fba-75fe-48e1-8ceb-ced3bdd353b9"
      },
      "source": [
        "from google.colab import drive\n",
        "drive.mount('/content/drive')"
      ],
      "execution_count": 1,
      "outputs": [
        {
          "output_type": "stream",
          "text": [
            "Mounted at /content/drive\n"
          ],
          "name": "stdout"
        }
      ]
    },
    {
      "cell_type": "code",
      "metadata": {
        "id": "MhZgkl4B_XVu"
      },
      "source": [
        "!pip install optuna\n",
        "import optuna"
      ],
      "execution_count": null,
      "outputs": []
    },
    {
      "cell_type": "code",
      "metadata": {
        "id": "rvIOj4268c1y"
      },
      "source": [
        "import numpy as np\n",
        "import pandas as pd\n",
        "import pickle\n",
        "\n",
        "import tensorflow as tf\n",
        "from tensorflow import keras\n",
        "from sklearn.preprocessing import OneHotEncoder"
      ],
      "execution_count": 3,
      "outputs": []
    },
    {
      "cell_type": "code",
      "metadata": {
        "id": "9omR98sh9v-r"
      },
      "source": [
        "path=\"/content/drive/Shareddrives/Deep Learning/datasets/ATE_ABSITA/\""
      ],
      "execution_count": 4,
      "outputs": []
    },
    {
      "cell_type": "code",
      "metadata": {
        "id": "xPJoY-GO8suc"
      },
      "source": [
        "test = pd.read_json(path+'ATE_ABSITA_test_set/ate_absita_gold.ndjson',\n",
        "                    lines=True)\n",
        "\n",
        "train = pd.read_json(path+'ATE_ABSITA_training_set/ate_absita_training.ndjson',\n",
        "                     lines=True)\n",
        "\n",
        "data_sinonimi = pd.read_csv(path+\"ATE_ABSITA_test_set/sinonimi.csv\")\n",
        "data_embedding = pd.read_csv(path+\"ATE_ABSITA_test_set/embedding.csv\")"
      ],
      "execution_count": 5,
      "outputs": []
    },
    {
      "cell_type": "code",
      "metadata": {
        "id": "X1OCMqGV8szX"
      },
      "source": [
        "print(test.columns)\n",
        "print(train.columns)\n",
        "print(data_sinonimi.columns)\n",
        "print(data_embedding.columns)"
      ],
      "execution_count": null,
      "outputs": []
    },
    {
      "cell_type": "code",
      "metadata": {
        "id": "ZbAHXJR78s3W",
        "colab": {
          "base_uri": "https://localhost:8080/"
        },
        "outputId": "fb2985f8-e2b0-4db1-8006-b9a483c1fc94"
      },
      "source": [
        "train.drop(columns=['id_sentence','polarities','aspects_position','aspects'], inplace=True)\n",
        "test.drop(columns=['id_sentence','polarities','aspects_position','aspects'], inplace=True)\n",
        "data_sinonimi.drop(columns=['polarities','aspects_position','aspects'], inplace=True)\n",
        "data_embedding.drop(columns=['polarities','aspects_position','aspects'], inplace=True)\n",
        "print(f'Contains {len(train)} sentences')\n",
        "print(f'Contains {len(test)} sentences')\n",
        "print(f'Contains {len(data_sinonimi)} sentences')\n",
        "print(f'Contains {len(data_embedding)} sentences')"
      ],
      "execution_count": 8,
      "outputs": [
        {
          "output_type": "stream",
          "text": [
            "Contains 3054 sentences\n",
            "Contains 1200 sentences\n",
            "Contains 1200 sentences\n",
            "Contains 1200 sentences\n"
          ],
          "name": "stdout"
        }
      ]
    },
    {
      "cell_type": "markdown",
      "metadata": {
        "id": "iePD6n9p82nG"
      },
      "source": [
        "Creazione colonna Positivi/Negativi"
      ]
    },
    {
      "cell_type": "code",
      "metadata": {
        "id": "kuCtCXCw8s6M",
        "colab": {
          "base_uri": "https://localhost:8080/"
        },
        "outputId": "31bb5d59-8aa5-4a35-8c18-0285d41a9278"
      },
      "source": [
        "train[\"review_type\"] = train[\"score\"].apply(lambda x: \"neg\" if x < 5 else \"pos\")\n",
        "test[\"review_type\"] = test[\"score\"].apply(lambda x: \"neg\" if x < 5 else \"pos\")\n",
        "data_sinonimi[\"review_type\"] = data_sinonimi[\"score\"].apply(lambda x: \"neg\" if x < 5 else \"pos\")\n",
        "data_embedding[\"review_type\"] = data_embedding[\"score\"].apply(lambda x: \"neg\" if x < 5 else \"pos\")\n",
        "\n",
        "print(f'TRAIN::\\n{train.review_type.value_counts()}')\n",
        "print(f'TEST::\\n{test.review_type.value_counts()}')\n",
        "print(f'SINONIMI::\\n{data_sinonimi.review_type.value_counts()}')\n",
        "print(f'EMBEDDING::\\n{data_embedding.review_type.value_counts()}')"
      ],
      "execution_count": 9,
      "outputs": [
        {
          "output_type": "stream",
          "text": [
            "TRAIN::\n",
            "pos    2150\n",
            "neg     904\n",
            "Name: review_type, dtype: int64\n",
            "TEST::\n",
            "pos    857\n",
            "neg    343\n",
            "Name: review_type, dtype: int64\n",
            "SINONIMI::\n",
            "pos    857\n",
            "neg    343\n",
            "Name: review_type, dtype: int64\n",
            "EMBEDDING::\n",
            "pos    857\n",
            "neg    343\n",
            "Name: review_type, dtype: int64\n"
          ],
          "name": "stdout"
        }
      ]
    },
    {
      "cell_type": "markdown",
      "metadata": {
        "id": "ru-WHUt788NG"
      },
      "source": [
        "Rimozione Colonna Score in quanto non piu significativa per la Sentiment Analysis"
      ]
    },
    {
      "cell_type": "code",
      "metadata": {
        "id": "aqPpoik2AJJZ"
      },
      "source": [
        "train.drop(columns=['score'], inplace=True)\n",
        "test.drop(columns=['score'], inplace=True)\n",
        "data_sinonimi.drop(columns=['score'], inplace=True)\n",
        "data_embedding.drop(columns=['score'], inplace=True)"
      ],
      "execution_count": 10,
      "outputs": []
    },
    {
      "cell_type": "code",
      "metadata": {
        "id": "XTQldsfF8s8_"
      },
      "source": [
        "with open(path+\"word2index.pkl\", 'rb') as output:\n",
        "  w2i = pickle.load(output)\n",
        "with open(path+\"embedding_matrix.pkl\", 'rb') as output:\n",
        "  embedding_matrix = pickle.load(output)"
      ],
      "execution_count": 11,
      "outputs": []
    },
    {
      "cell_type": "markdown",
      "metadata": {
        "id": "21BASbk79EIe"
      },
      "source": [
        "Trasformazione input da frasi a vettori di parole"
      ]
    },
    {
      "cell_type": "code",
      "metadata": {
        "id": "yv5nfe958s_s"
      },
      "source": [
        "def my_text_to_word_sequence(sentence):\n",
        "  return keras.preprocessing.text.text_to_word_sequence(sentence,\n",
        "                                                        filters='!\"#$%&()*+,-./:;<=>?@[\\\\]^_`\\'{|}~\\t\\n',\n",
        "                                                        lower=True)"
      ],
      "execution_count": 12,
      "outputs": []
    },
    {
      "cell_type": "markdown",
      "metadata": {
        "id": "UHcjEZ6j9g_F"
      },
      "source": [
        "TRAIN, Encoding e Dataset per modello"
      ]
    },
    {
      "cell_type": "code",
      "metadata": {
        "id": "8lPd3qFfAqJl"
      },
      "source": [
        "one_hot_train = OneHotEncoder(sparse=False).fit_transform(\n",
        "        train.review_type.to_numpy().reshape(-1, 1)\n",
        "        )"
      ],
      "execution_count": 13,
      "outputs": []
    },
    {
      "cell_type": "code",
      "metadata": {
        "id": "I_bOaNrp5-9b"
      },
      "source": [
        "sentences = [my_text_to_word_sequence(sentence) for sentence in train['sentence']]"
      ],
      "execution_count": 14,
      "outputs": []
    },
    {
      "cell_type": "markdown",
      "metadata": {
        "id": "pzm3YxooRiWW"
      },
      "source": [
        "TEST, Encoding e Dataset per modello"
      ]
    },
    {
      "cell_type": "code",
      "metadata": {
        "id": "kqK9OLeoRiWY"
      },
      "source": [
        "one_hot_test = OneHotEncoder(sparse=False).fit_transform(\n",
        "        test.review_type.to_numpy().reshape(-1, 1)\n",
        "        )"
      ],
      "execution_count": 15,
      "outputs": []
    },
    {
      "cell_type": "code",
      "metadata": {
        "id": "gvsh3KbXRiWY"
      },
      "source": [
        "sentences_test = [my_text_to_word_sequence(sentence) for sentence in test['sentence']]"
      ],
      "execution_count": 16,
      "outputs": []
    },
    {
      "cell_type": "markdown",
      "metadata": {
        "id": "HtqBuF4zRi--"
      },
      "source": [
        "SINONIMI, Encoding e Dataset per modello"
      ]
    },
    {
      "cell_type": "code",
      "metadata": {
        "id": "k0sNiYBERi_A"
      },
      "source": [
        "one_hot_sin = OneHotEncoder(sparse=False).fit_transform(\n",
        "        data_sinonimi.review_type.to_numpy().reshape(-1, 1)\n",
        "        )"
      ],
      "execution_count": 17,
      "outputs": []
    },
    {
      "cell_type": "code",
      "metadata": {
        "id": "iwa-A7qfRi_B"
      },
      "source": [
        "sentences_sin = [my_text_to_word_sequence(sentence) for sentence in data_sinonimi['sentence']]"
      ],
      "execution_count": 18,
      "outputs": []
    },
    {
      "cell_type": "markdown",
      "metadata": {
        "id": "MrUKHOU9RjeZ"
      },
      "source": [
        "EMBEDDING, Encoding e Dataset per modello"
      ]
    },
    {
      "cell_type": "code",
      "metadata": {
        "id": "0l8HELWMRjea"
      },
      "source": [
        "one_hot_emb = OneHotEncoder(sparse=False).fit_transform(\n",
        "        data_embedding.review_type.to_numpy().reshape(-1, 1)\n",
        "        )"
      ],
      "execution_count": 19,
      "outputs": []
    },
    {
      "cell_type": "code",
      "metadata": {
        "id": "7pA2ra7HRjeb"
      },
      "source": [
        "sentences_emb = [my_text_to_word_sequence(sentence) for sentence in data_embedding['sentence']]"
      ],
      "execution_count": 20,
      "outputs": []
    },
    {
      "cell_type": "markdown",
      "metadata": {
        "id": "WeTE81j_9cOv"
      },
      "source": [
        "Estrai la massima dimensione dell'input in base ai vari dataset considerati"
      ]
    },
    {
      "cell_type": "code",
      "metadata": {
        "colab": {
          "base_uri": "https://localhost:8080/"
        },
        "id": "pudlFdxF8tCA",
        "outputId": "568bad18-f0e3-4701-d006-a63908b0b36a"
      },
      "source": [
        "max_index, max = (-1, -1)\n",
        "for i, sentence in enumerate(sentences):\n",
        "  max_index, max = (i, len(sentence)) if len(sentence) > max else (max_index, max)\n",
        "for i, sentence in enumerate(sentences_test):\n",
        "  max_index, max = (i, len(sentence)) if len(sentence) > max else (max_index, max)\n",
        "for i, sentence in enumerate(sentences_sin):\n",
        "  max_index, max = (i, len(sentence)) if len(sentence) > max else (max_index, max)\n",
        "for i, sentence in enumerate(sentences_emb):\n",
        "  max_index, max = (i, len(sentence)) if len(sentence) > max else (max_index, max)\n",
        "\n",
        "\n",
        "print(f'Il massimo è {max}')"
      ],
      "execution_count": 21,
      "outputs": [
        {
          "output_type": "stream",
          "text": [
            "Il massimo è 85\n"
          ],
          "name": "stdout"
        }
      ]
    },
    {
      "cell_type": "markdown",
      "metadata": {
        "id": "UbKTvQuOEaP3"
      },
      "source": [
        "Creo i vari embedding per tutti i dataset, quest'operazione e pesante "
      ]
    },
    {
      "cell_type": "code",
      "metadata": {
        "id": "tfA2XQzE9hdL"
      },
      "source": [
        "embedded_train = np.zeros(shape=(len(sentences), max, 300))\n",
        "for i, sentence in enumerate(sentences):\n",
        "  for j, word in enumerate(sentence):\n",
        "    try:\n",
        "      embedded_train[i, j, :] = embedding_matrix[w2i[word]]\n",
        "    except KeyError:\n",
        "      pass"
      ],
      "execution_count": 26,
      "outputs": []
    },
    {
      "cell_type": "code",
      "metadata": {
        "id": "3ZW78yxjTJly"
      },
      "source": [
        "embedded_test = np.zeros(shape=(len(sentences_test), max, 300))\n",
        "for i, sentence in enumerate(sentences_test):\n",
        "  for j, word in enumerate(sentence):\n",
        "    try:\n",
        "      embedded_test[i, j, :] = embedding_matrix[w2i[word]]\n",
        "    except KeyError:\n",
        "      pass"
      ],
      "execution_count": 27,
      "outputs": []
    },
    {
      "cell_type": "code",
      "metadata": {
        "id": "vkN3_ZGQTK49"
      },
      "source": [
        "embedded_sin = np.zeros(shape=(len(sentences_sin), max, 300))\n",
        "for i, sentence in enumerate(sentences_sin):\n",
        "  for j, word in enumerate(sentence):\n",
        "    try:\n",
        "      embedded_sin[i, j, :] = embedding_matrix[w2i[word]]\n",
        "    except KeyError:\n",
        "      pass"
      ],
      "execution_count": 28,
      "outputs": []
    },
    {
      "cell_type": "code",
      "metadata": {
        "id": "Mcf1fth5TLGy"
      },
      "source": [
        "embedded_emb = np.zeros(shape=(len(sentences_emb), max, 300))\n",
        "for i, sentence in enumerate(sentences_emb):\n",
        "  for j, word in enumerate(sentence):\n",
        "    try:\n",
        "      embedded_emb[i, j, :] = embedding_matrix[w2i[word]]\n",
        "    except KeyError:\n",
        "      pass"
      ],
      "execution_count": 29,
      "outputs": []
    },
    {
      "cell_type": "markdown",
      "metadata": {
        "id": "v5rb4COz9oVn"
      },
      "source": [
        "#Model"
      ]
    },
    {
      "cell_type": "code",
      "metadata": {
        "id": "1IHhcxg49qg5"
      },
      "source": [
        "best_params = optuna.load_study(study_name=\"ATE\", storage=\"sqlite:///\"+path+\"optuna_ATE_studio_0.db\").best_params"
      ],
      "execution_count": 30,
      "outputs": []
    },
    {
      "cell_type": "code",
      "metadata": {
        "id": "EM6k1Bf08TJ3",
        "colab": {
          "base_uri": "https://localhost:8080/"
        },
        "outputId": "a28360e6-a0cc-49aa-8a66-08a68dc8504e"
      },
      "source": [
        "model = keras.Sequential()\n",
        "model.add(keras.layers.Input(shape=(max, 300)))\n",
        "model.add(keras.layers.Bidirectional(layer=keras.layers.LSTM(units=best_params[\"units\"],\n",
        "                                                             recurrent_dropout=best_params[\"dropout\"],\n",
        "                                                             activation='tanh')))\n",
        "model.add(keras.layers.Dense(2, activation='softmax'))\n",
        "\n",
        "model.compile(loss='categorical_crossentropy',\n",
        "            optimizer=keras.optimizers.Adam(0.001),\n",
        "            metrics=['accuracy'])"
      ],
      "execution_count": 31,
      "outputs": [
        {
          "output_type": "stream",
          "text": [
            "WARNING:tensorflow:Layer lstm will not use cuDNN kernel since it doesn't meet the cuDNN kernel criteria. It will use generic GPU kernel as fallback when running on GPU\n",
            "WARNING:tensorflow:Layer lstm will not use cuDNN kernel since it doesn't meet the cuDNN kernel criteria. It will use generic GPU kernel as fallback when running on GPU\n",
            "WARNING:tensorflow:Layer lstm will not use cuDNN kernel since it doesn't meet the cuDNN kernel criteria. It will use generic GPU kernel as fallback when running on GPU\n"
          ],
          "name": "stdout"
        }
      ]
    },
    {
      "cell_type": "code",
      "metadata": {
        "colab": {
          "base_uri": "https://localhost:8080/"
        },
        "id": "k2X4fzLwFwls",
        "outputId": "0fdce9a1-5468-4c67-9a29-21650c4d2307"
      },
      "source": [
        "best_params"
      ],
      "execution_count": 33,
      "outputs": [
        {
          "output_type": "execute_result",
          "data": {
            "text/plain": [
              "{'batch_size': 55, 'dropout': 0.28, 'units': 125}"
            ]
          },
          "metadata": {
            "tags": []
          },
          "execution_count": 33
        }
      ]
    },
    {
      "cell_type": "code",
      "metadata": {
        "id": "u8t68xO9BMmb",
        "colab": {
          "base_uri": "https://localhost:8080/"
        },
        "outputId": "45175d93-9241-47df-b31e-545d0680e140"
      },
      "source": [
        "#train model\n",
        "\n",
        "#embedded_* è il nome da cambiare per allenare il modello sul dataseta selezionato per lo studio in esame\n",
        "\n",
        "#one_hot_* è il nome dell'encoding delle parole del dataseta selezionato per lo studio in esame\n",
        "result = model.fit(embedded_sin,\n",
        "                 one_hot_sin,\n",
        "                 epochs=100,\n",
        "                 batch_size=best_params[\"batch_size\"],\n",
        "                 callbacks=[keras.callbacks.EarlyStopping(monitor='loss',\n",
        "                                                            patience=10)])"
      ],
      "execution_count": 34,
      "outputs": [
        {
          "output_type": "stream",
          "text": [
            "Epoch 1/100\n",
            "22/22 [==============================] - 16s 448ms/step - loss: 0.6353 - accuracy: 0.6805\n",
            "Epoch 2/100\n",
            "22/22 [==============================] - 10s 444ms/step - loss: 0.5704 - accuracy: 0.7320\n",
            "Epoch 3/100\n",
            "22/22 [==============================] - 10s 446ms/step - loss: 0.5733 - accuracy: 0.7295\n",
            "Epoch 4/100\n",
            "22/22 [==============================] - 10s 457ms/step - loss: 0.5332 - accuracy: 0.7579\n",
            "Epoch 5/100\n",
            "22/22 [==============================] - 10s 448ms/step - loss: 0.5131 - accuracy: 0.7480\n",
            "Epoch 6/100\n",
            "22/22 [==============================] - 10s 452ms/step - loss: 0.5074 - accuracy: 0.7427\n",
            "Epoch 7/100\n",
            "22/22 [==============================] - 10s 454ms/step - loss: 0.4926 - accuracy: 0.7575\n",
            "Epoch 8/100\n",
            "22/22 [==============================] - 10s 448ms/step - loss: 0.4753 - accuracy: 0.7838\n",
            "Epoch 9/100\n",
            "22/22 [==============================] - 10s 454ms/step - loss: 0.4501 - accuracy: 0.7847\n",
            "Epoch 10/100\n",
            "22/22 [==============================] - 10s 444ms/step - loss: 0.4421 - accuracy: 0.8103\n",
            "Epoch 11/100\n",
            "22/22 [==============================] - 10s 449ms/step - loss: 0.4156 - accuracy: 0.8242\n",
            "Epoch 12/100\n",
            "22/22 [==============================] - 10s 454ms/step - loss: 0.3982 - accuracy: 0.8278\n",
            "Epoch 13/100\n",
            "22/22 [==============================] - 10s 447ms/step - loss: 0.4142 - accuracy: 0.8118\n",
            "Epoch 14/100\n",
            "22/22 [==============================] - 10s 446ms/step - loss: 0.3669 - accuracy: 0.8439\n",
            "Epoch 15/100\n",
            "22/22 [==============================] - 10s 443ms/step - loss: 0.3535 - accuracy: 0.8485\n",
            "Epoch 16/100\n",
            "22/22 [==============================] - 10s 450ms/step - loss: 0.3224 - accuracy: 0.8602\n",
            "Epoch 17/100\n",
            "22/22 [==============================] - 10s 443ms/step - loss: 0.2959 - accuracy: 0.8786\n",
            "Epoch 18/100\n",
            "22/22 [==============================] - 10s 448ms/step - loss: 0.2566 - accuracy: 0.8943\n",
            "Epoch 19/100\n",
            "22/22 [==============================] - 10s 450ms/step - loss: 0.2208 - accuracy: 0.9121\n",
            "Epoch 20/100\n",
            "22/22 [==============================] - 10s 441ms/step - loss: 0.2290 - accuracy: 0.8985\n",
            "Epoch 21/100\n",
            "22/22 [==============================] - 10s 440ms/step - loss: 0.2480 - accuracy: 0.9005\n",
            "Epoch 22/100\n",
            "22/22 [==============================] - 10s 457ms/step - loss: 0.1787 - accuracy: 0.9353\n",
            "Epoch 23/100\n",
            "22/22 [==============================] - 10s 445ms/step - loss: 0.1763 - accuracy: 0.9346\n",
            "Epoch 24/100\n",
            "22/22 [==============================] - 10s 448ms/step - loss: 0.1702 - accuracy: 0.9456\n",
            "Epoch 25/100\n",
            "22/22 [==============================] - 10s 444ms/step - loss: 0.1577 - accuracy: 0.9329\n",
            "Epoch 26/100\n",
            "22/22 [==============================] - 10s 445ms/step - loss: 0.1831 - accuracy: 0.9253\n",
            "Epoch 27/100\n",
            "22/22 [==============================] - 10s 441ms/step - loss: 0.1446 - accuracy: 0.9456\n",
            "Epoch 28/100\n",
            "22/22 [==============================] - 10s 442ms/step - loss: 0.1264 - accuracy: 0.9559\n",
            "Epoch 29/100\n",
            "22/22 [==============================] - 10s 434ms/step - loss: 0.1067 - accuracy: 0.9613\n",
            "Epoch 30/100\n",
            "22/22 [==============================] - 10s 451ms/step - loss: 0.1001 - accuracy: 0.9604\n",
            "Epoch 31/100\n",
            "22/22 [==============================] - 10s 459ms/step - loss: 0.1014 - accuracy: 0.9627\n",
            "Epoch 32/100\n",
            "22/22 [==============================] - 10s 437ms/step - loss: 0.0742 - accuracy: 0.9710\n",
            "Epoch 33/100\n",
            "22/22 [==============================] - 10s 454ms/step - loss: 0.0910 - accuracy: 0.9699\n",
            "Epoch 34/100\n",
            "22/22 [==============================] - 10s 449ms/step - loss: 0.1385 - accuracy: 0.9386\n",
            "Epoch 35/100\n",
            "22/22 [==============================] - 10s 445ms/step - loss: 0.1004 - accuracy: 0.9682\n",
            "Epoch 36/100\n",
            "22/22 [==============================] - 10s 453ms/step - loss: 0.0744 - accuracy: 0.9763\n",
            "Epoch 37/100\n",
            "22/22 [==============================] - 10s 440ms/step - loss: 0.0891 - accuracy: 0.9636\n",
            "Epoch 38/100\n",
            "22/22 [==============================] - 10s 448ms/step - loss: 0.0639 - accuracy: 0.9732\n",
            "Epoch 39/100\n",
            "22/22 [==============================] - 10s 446ms/step - loss: 0.0804 - accuracy: 0.9645\n",
            "Epoch 40/100\n",
            "22/22 [==============================] - 10s 460ms/step - loss: 0.0667 - accuracy: 0.9758\n",
            "Epoch 41/100\n",
            "22/22 [==============================] - 10s 441ms/step - loss: 0.0614 - accuracy: 0.9824\n",
            "Epoch 42/100\n",
            "22/22 [==============================] - 10s 444ms/step - loss: 0.0726 - accuracy: 0.9771\n",
            "Epoch 43/100\n",
            "22/22 [==============================] - 10s 450ms/step - loss: 0.0537 - accuracy: 0.9825\n",
            "Epoch 44/100\n",
            "22/22 [==============================] - 10s 449ms/step - loss: 0.0572 - accuracy: 0.9795\n",
            "Epoch 45/100\n",
            "22/22 [==============================] - 10s 448ms/step - loss: 0.0761 - accuracy: 0.9747\n",
            "Epoch 46/100\n",
            "22/22 [==============================] - 10s 444ms/step - loss: 0.0947 - accuracy: 0.9650\n",
            "Epoch 47/100\n",
            "22/22 [==============================] - 10s 441ms/step - loss: 0.0793 - accuracy: 0.9697\n",
            "Epoch 48/100\n",
            "22/22 [==============================] - 10s 446ms/step - loss: 0.0483 - accuracy: 0.9889\n",
            "Epoch 49/100\n",
            "22/22 [==============================] - 10s 446ms/step - loss: 0.0346 - accuracy: 0.9933\n",
            "Epoch 50/100\n",
            "22/22 [==============================] - 10s 441ms/step - loss: 0.0310 - accuracy: 0.9896\n",
            "Epoch 51/100\n",
            "22/22 [==============================] - 10s 446ms/step - loss: 0.0286 - accuracy: 0.9902\n",
            "Epoch 52/100\n",
            "22/22 [==============================] - 10s 436ms/step - loss: 0.0331 - accuracy: 0.9880\n",
            "Epoch 53/100\n",
            "22/22 [==============================] - 10s 450ms/step - loss: 0.0269 - accuracy: 0.9923\n",
            "Epoch 54/100\n",
            "22/22 [==============================] - 10s 443ms/step - loss: 0.0270 - accuracy: 0.9908\n",
            "Epoch 55/100\n",
            "22/22 [==============================] - 10s 445ms/step - loss: 0.0261 - accuracy: 0.9926\n",
            "Epoch 56/100\n",
            "22/22 [==============================] - 10s 446ms/step - loss: 0.0210 - accuracy: 0.9963\n",
            "Epoch 57/100\n",
            "22/22 [==============================] - 10s 446ms/step - loss: 0.0215 - accuracy: 0.9933\n",
            "Epoch 58/100\n",
            "22/22 [==============================] - 10s 444ms/step - loss: 0.0228 - accuracy: 0.9905\n",
            "Epoch 59/100\n",
            "22/22 [==============================] - 10s 440ms/step - loss: 0.0575 - accuracy: 0.9794\n",
            "Epoch 60/100\n",
            "22/22 [==============================] - 10s 444ms/step - loss: 0.0546 - accuracy: 0.9818\n",
            "Epoch 61/100\n",
            "22/22 [==============================] - 10s 455ms/step - loss: 0.0336 - accuracy: 0.9932\n",
            "Epoch 62/100\n",
            "22/22 [==============================] - 10s 433ms/step - loss: 0.0526 - accuracy: 0.9837\n",
            "Epoch 63/100\n",
            "22/22 [==============================] - 10s 445ms/step - loss: 0.0323 - accuracy: 0.9890\n",
            "Epoch 64/100\n",
            "22/22 [==============================] - 10s 440ms/step - loss: 0.0233 - accuracy: 0.9919\n",
            "Epoch 65/100\n",
            "22/22 [==============================] - 10s 442ms/step - loss: 0.0207 - accuracy: 0.9964\n",
            "Epoch 66/100\n",
            "22/22 [==============================] - 10s 447ms/step - loss: 0.0394 - accuracy: 0.9807\n"
          ],
          "name": "stdout"
        }
      ]
    },
    {
      "cell_type": "code",
      "metadata": {
        "id": "HbstjV0B9qmF"
      },
      "source": [
        "#save the model\n",
        "# cambiare il nome in base allo studio che si svolge\n",
        "model.save_weights(path+'ATE_w_studio_1.h5')"
      ],
      "execution_count": 35,
      "outputs": []
    },
    {
      "cell_type": "code",
      "metadata": {
        "id": "QmdfbdbGBQMT"
      },
      "source": [
        "# cambiare il nome in base allo studio che si svolge\n",
        "model.load_weights(path+'ATE_w_studio_1.h5')"
      ],
      "execution_count": 36,
      "outputs": []
    },
    {
      "cell_type": "markdown",
      "metadata": {
        "id": "n5Y6MEPfCRC-"
      },
      "source": [
        "#EVALUATION"
      ]
    },
    {
      "cell_type": "code",
      "metadata": {
        "id": "-3nWACJzvHyD",
        "colab": {
          "base_uri": "https://localhost:8080/"
        },
        "outputId": "095a32bc-97c6-49d8-f973-197c4c9b98fe"
      },
      "source": [
        "result_base=model.evaluate(embedded_trainset,one_hot_train,batch_size=best_params['batch_size'],)\n",
        "print(f'DATASET ORIGINARIO{result_base}')"
      ],
      "execution_count": 37,
      "outputs": [
        {
          "output_type": "stream",
          "text": [
            "56/56 [==============================] - 3s 42ms/step - loss: 1.7612 - accuracy: 0.6811\n",
            "DATASET ORIGINARIO[1.7612053155899048, 0.6810740232467651]\n"
          ],
          "name": "stdout"
        }
      ]
    },
    {
      "cell_type": "code",
      "metadata": {
        "id": "gjcdAwqeOi7r",
        "colab": {
          "base_uri": "https://localhost:8080/"
        },
        "outputId": "7371ea14-8151-4f74-ccb9-461d2e042ee2"
      },
      "source": [
        "result_base=model.evaluate(embedded_test,one_hot_test,batch_size=best_params['batch_size'],)\n",
        "print(f'DATASET DEV{result_base}')"
      ],
      "execution_count": 38,
      "outputs": [
        {
          "output_type": "stream",
          "text": [
            "22/22 [==============================] - 1s 51ms/step - loss: 0.3679 - accuracy: 0.9067\n",
            "DATASET DEV[0.367866575717926, 0.9066666960716248]\n"
          ],
          "name": "stdout"
        }
      ]
    },
    {
      "cell_type": "code",
      "metadata": {
        "id": "BuaVK__WOjDW",
        "colab": {
          "base_uri": "https://localhost:8080/"
        },
        "outputId": "891218f9-6b7a-4bc6-861e-9be1e3052eef"
      },
      "source": [
        "result_base=model.evaluate(embedded_sin,one_hot_sin,batch_size=best_params['batch_size'])\n",
        "print(f'DATASET SINONIMI{result_base}')"
      ],
      "execution_count": 39,
      "outputs": [
        {
          "output_type": "stream",
          "text": [
            "22/22 [==============================] - 1s 49ms/step - loss: 0.0152 - accuracy: 0.9975\n",
            "DATASET SINONIMI[0.01519171055406332, 0.9975000023841858]\n"
          ],
          "name": "stdout"
        }
      ]
    },
    {
      "cell_type": "code",
      "metadata": {
        "id": "_JgLKE2bOjLL",
        "colab": {
          "base_uri": "https://localhost:8080/"
        },
        "outputId": "a2f8b69b-b8e9-48b4-cfc5-5de857f638f5"
      },
      "source": [
        "result_base=model.evaluate(embedded_emb,one_hot_emb,batch_size=best_params['batch_size'])\n",
        "print(f'DATASET EMBEDDING{result_base}')"
      ],
      "execution_count": 40,
      "outputs": [
        {
          "output_type": "stream",
          "text": [
            "22/22 [==============================] - 1s 44ms/step - loss: 0.7684 - accuracy: 0.8025\n",
            "DATASET EMBEDDING[0.7684059143066406, 0.8025000095367432]\n"
          ],
          "name": "stdout"
        }
      ]
    }
  ]
}
