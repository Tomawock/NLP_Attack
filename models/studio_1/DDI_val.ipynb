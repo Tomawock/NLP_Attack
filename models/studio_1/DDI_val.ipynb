{
 "cells": [
  {
   "cell_type": "code",
   "execution_count": 1,
   "id": "compressed-accreditation",
   "metadata": {
    "ExecuteTime": {
     "end_time": "2021-04-12T18:32:23.550848Z",
     "start_time": "2021-04-12T18:32:20.218758Z"
    }
   },
   "outputs": [],
   "source": [
    "import pickle\n",
    "import pandas as pd\n",
    "import optuna\n",
    "import numpy as np\n",
    "from sklearn.preprocessing import OneHotEncoder\n",
    "from tensorflow import keras\n",
    "from sklearn.utils.class_weight import compute_class_weight"
   ]
  },
  {
   "cell_type": "code",
   "execution_count": 2,
   "id": "solved-affiliate",
   "metadata": {
    "ExecuteTime": {
     "end_time": "2021-04-12T18:32:23.558923Z",
     "start_time": "2021-04-12T18:32:23.554445Z"
    }
   },
   "outputs": [],
   "source": [
    "path=\"../\""
   ]
  },
  {
   "cell_type": "code",
   "execution_count": 3,
   "id": "veterinary-conspiracy",
   "metadata": {
    "ExecuteTime": {
     "end_time": "2021-04-12T18:32:23.878367Z",
     "start_time": "2021-04-12T18:32:23.562820Z"
    }
   },
   "outputs": [],
   "source": [
    "train = pd.concat(objs=[pd.read_csv(path+'ddi2013-type/train.tsv', sep='\\t'),\n",
    "                        pd.read_csv(path+'ddi2013-type/DDI_sinonimi.csv')],\n",
    "                  ignore_index=True).sample(frac=1)\n",
    "dev = pd.read_csv(path+'ddi2013-type/dev.tsv', sep='\\t')\n",
    "test_org = pd.read_csv(path+'ddi2013-type/test.tsv', sep='\\t')\n",
    "\n",
    "data_sinonimi = pd.read_csv(path+\"ddi2013-type/DDI_sinonimi_test.csv\")\n",
    "data_embedding = pd.read_csv(path+\"ddi2013-type/DDI_embedding_test.csv\")"
   ]
  },
  {
   "cell_type": "code",
   "execution_count": 4,
   "id": "restricted-neutral",
   "metadata": {
    "ExecuteTime": {
     "end_time": "2021-04-12T18:32:23.908341Z",
     "start_time": "2021-04-12T18:32:23.880446Z"
    }
   },
   "outputs": [],
   "source": [
    "test = pd.concat(objs=[pd.read_csv(path+'ddi2013-type/DDI_sinonimi_test.csv'), test_org],\n",
    "                 ignore_index=True)"
   ]
  },
  {
   "cell_type": "code",
   "execution_count": 5,
   "id": "composed-formation",
   "metadata": {
    "ExecuteTime": {
     "end_time": "2021-04-12T18:32:37.297819Z",
     "start_time": "2021-04-12T18:32:23.912186Z"
    }
   },
   "outputs": [],
   "source": [
    "with open(path+\"word2index.pkl\", 'rb') as output:\n",
    "    w2i = pickle.load(output)\n",
    "with open(path+\"embedding_matrix.pkl\", 'rb') as output:\n",
    "    embedding_matrix = pickle.load(output)"
   ]
  },
  {
   "cell_type": "code",
   "execution_count": 6,
   "id": "alone-highland",
   "metadata": {
    "ExecuteTime": {
     "end_time": "2021-04-12T18:32:37.303897Z",
     "start_time": "2021-04-12T18:32:37.300001Z"
    }
   },
   "outputs": [],
   "source": [
    "categories = [['DDI-false', 'DDI-mechanism', 'DDI-effect', 'DDI-advise','DDI-int']]\n",
    "\n",
    "my_text_to_word_sequence = lambda sen: keras.preprocessing.text.text_to_word_sequence(sen,\n",
    "                                                                                      filters='!\"#&()*+,-./:;<=>?[\\\\]^_`\\'{|}~\\t\\n',\n",
    "                                                                                      lower=True)"
   ]
  },
  {
   "cell_type": "code",
   "execution_count": 7,
   "id": "intensive-aggregate",
   "metadata": {
    "ExecuteTime": {
     "end_time": "2021-04-12T18:32:38.354863Z",
     "start_time": "2021-04-12T18:32:37.305577Z"
    }
   },
   "outputs": [],
   "source": [
    "five_hot_train = OneHotEncoder(sparse=False, categories=categories).fit_transform(\n",
    "  train.label.to_numpy().reshape(-1, 1))\n",
    "\n",
    "sentences_train = [my_text_to_word_sequence(sentence) for sentence in train['sentence']]"
   ]
  },
  {
   "cell_type": "code",
   "execution_count": 8,
   "id": "arctic-feedback",
   "metadata": {
    "ExecuteTime": {
     "end_time": "2021-04-12T18:32:38.491178Z",
     "start_time": "2021-04-12T18:32:38.360956Z"
    }
   },
   "outputs": [],
   "source": [
    "five_hot_dev = OneHotEncoder(sparse=False, categories=categories).fit_transform(\n",
    "  dev.label.to_numpy().reshape(-1, 1))\n",
    "\n",
    "sentences_dev = [my_text_to_word_sequence(sentence) for sentence in dev['sentence']]"
   ]
  },
  {
   "cell_type": "code",
   "execution_count": 9,
   "id": "hybrid-neighbor",
   "metadata": {
    "ExecuteTime": {
     "end_time": "2021-04-12T18:32:38.596580Z",
     "start_time": "2021-04-12T18:32:38.493496Z"
    }
   },
   "outputs": [],
   "source": [
    "five_hot_test_org = OneHotEncoder(sparse=False, categories=categories).fit_transform(\n",
    "  test_org.label.to_numpy().reshape(-1, 1))\n",
    "\n",
    "sentences_test_org = [my_text_to_word_sequence(sentence) for sentence in test_org['sentence']]"
   ]
  },
  {
   "cell_type": "code",
   "execution_count": 10,
   "id": "damaged-disabled",
   "metadata": {
    "ExecuteTime": {
     "end_time": "2021-04-12T18:32:38.809389Z",
     "start_time": "2021-04-12T18:32:38.598986Z"
    }
   },
   "outputs": [],
   "source": [
    "five_hot_test = OneHotEncoder(sparse=False, categories=categories).fit_transform(\n",
    "  test.label.to_numpy().reshape(-1, 1))\n",
    "\n",
    "sentences_test = [my_text_to_word_sequence(sentence) for sentence in test['sentence']]"
   ]
  },
  {
   "cell_type": "code",
   "execution_count": 11,
   "id": "adaptive-completion",
   "metadata": {
    "ExecuteTime": {
     "end_time": "2021-04-12T18:32:38.901892Z",
     "start_time": "2021-04-12T18:32:38.811802Z"
    }
   },
   "outputs": [],
   "source": [
    "five_hot_sin = OneHotEncoder(sparse=False, categories=categories).fit_transform(\n",
    "  data_sinonimi.label.to_numpy().reshape(-1, 1))\n",
    "\n",
    "sentences_sin = [my_text_to_word_sequence(sentence) for sentence in data_sinonimi['sentence']]"
   ]
  },
  {
   "cell_type": "code",
   "execution_count": 12,
   "id": "dangerous-concept",
   "metadata": {
    "ExecuteTime": {
     "end_time": "2021-04-12T18:32:38.984630Z",
     "start_time": "2021-04-12T18:32:38.903915Z"
    }
   },
   "outputs": [],
   "source": [
    "five_hot_emb = OneHotEncoder(sparse=False, categories=categories).fit_transform(\n",
    "  data_embedding.label.to_numpy().reshape(-1, 1))\n",
    "\n",
    "sentences_emb = [my_text_to_word_sequence(sentence) for sentence in data_embedding['sentence']]"
   ]
  },
  {
   "cell_type": "code",
   "execution_count": 13,
   "id": "beginning-shock",
   "metadata": {
    "ExecuteTime": {
     "end_time": "2021-04-12T18:32:39.014337Z",
     "start_time": "2021-04-12T18:32:38.986694Z"
    }
   },
   "outputs": [
    {
     "name": "stdout",
     "output_type": "stream",
     "text": [
      "Il massimo è 92\n"
     ]
    }
   ],
   "source": [
    "max_index, max = (-1, -1)\n",
    "for i, sentence in enumerate(sentences_train):\n",
    "  max_index, max = (i, len(sentence)) if len(sentence) > max else (max_index, max)\n",
    "for i, sentence in enumerate(sentences_dev):\n",
    "  max_index, max = (i, len(sentence)) if len(sentence) > max else (max_index, max)\n",
    "for i, sentence in enumerate(sentences_test):\n",
    "  max_index, max = (i, len(sentence)) if len(sentence) > max else (max_index, max)\n",
    "for i, sentence in enumerate(sentences_sin):\n",
    "  max_index, max = (i, len(sentence)) if len(sentence) > max else (max_index, max)\n",
    "for i, sentence in enumerate(sentences_emb):\n",
    "  max_index, max = (i, len(sentence)) if len(sentence) > max else (max_index, max)\n",
    "  \n",
    "print(f'Il massimo è {max}')"
   ]
  },
  {
   "cell_type": "code",
   "execution_count": 14,
   "id": "integral-uncle",
   "metadata": {
    "ExecuteTime": {
     "end_time": "2021-04-12T18:32:43.407124Z",
     "start_time": "2021-04-12T18:32:39.016798Z"
    }
   },
   "outputs": [],
   "source": [
    "embedded_trainset = np.zeros(shape=(len(sentences_train), max, 300))\n",
    "for i, sentence in enumerate(sentences_train):\n",
    "    for j, word in enumerate(sentence):\n",
    "        try:\n",
    "            embedded_trainset[i, j, :] = embedding_matrix[w2i[word]]\n",
    "        except KeyError:\n",
    "            pass"
   ]
  },
  {
   "cell_type": "code",
   "execution_count": 15,
   "id": "confident-membership",
   "metadata": {
    "ExecuteTime": {
     "end_time": "2021-04-12T18:32:44.398149Z",
     "start_time": "2021-04-12T18:32:43.409012Z"
    }
   },
   "outputs": [],
   "source": [
    "embedded_devset = np.zeros(shape=(len(sentences_dev), max, 300))\n",
    "for i, sentence in enumerate(sentences_dev):\n",
    "    for j, word in enumerate(sentence):\n",
    "        try:\n",
    "            embedded_devset[i, j, :] = embedding_matrix[w2i[word]]\n",
    "        except KeyError:\n",
    "            pass"
   ]
  },
  {
   "cell_type": "code",
   "execution_count": 16,
   "id": "commercial-migration",
   "metadata": {
    "ExecuteTime": {
     "end_time": "2021-04-12T18:32:45.196652Z",
     "start_time": "2021-04-12T18:32:44.399886Z"
    }
   },
   "outputs": [],
   "source": [
    "embedded_testset_org = np.zeros(shape=(len(sentences_test_org), max, 300))\n",
    "for i, sentence in enumerate(sentences_test_org):\n",
    "    for j, word in enumerate(sentence):\n",
    "        try:\n",
    "            embedded_testset_org[i, j, :] = embedding_matrix[w2i[word]]\n",
    "        except KeyError:\n",
    "            pass"
   ]
  },
  {
   "cell_type": "code",
   "execution_count": 17,
   "id": "secondary-reminder",
   "metadata": {
    "ExecuteTime": {
     "end_time": "2021-04-12T18:32:46.680093Z",
     "start_time": "2021-04-12T18:32:45.199537Z"
    }
   },
   "outputs": [],
   "source": [
    "embedded_testset = np.zeros(shape=(len(sentences_test), max, 300))\n",
    "for i, sentence in enumerate(sentences_test):\n",
    "    for j, word in enumerate(sentence):\n",
    "        try:\n",
    "            embedded_testset[i, j, :] = embedding_matrix[w2i[word]]\n",
    "        except KeyError:\n",
    "            pass"
   ]
  },
  {
   "cell_type": "code",
   "execution_count": 18,
   "id": "charitable-police",
   "metadata": {
    "ExecuteTime": {
     "end_time": "2021-04-12T18:32:47.419716Z",
     "start_time": "2021-04-12T18:32:46.682205Z"
    }
   },
   "outputs": [],
   "source": [
    "embedded_sin = np.zeros(shape=(len(sentences_sin), max, 300))\n",
    "for i, sentence in enumerate(sentences_sin):\n",
    "    for j, word in enumerate(sentence):\n",
    "        try:\n",
    "            embedded_sin[i, j, :] = embedding_matrix[w2i[word]]\n",
    "        except KeyError:\n",
    "            pass"
   ]
  },
  {
   "cell_type": "code",
   "execution_count": 19,
   "id": "bibliographic-showcase",
   "metadata": {
    "ExecuteTime": {
     "end_time": "2021-04-12T18:32:48.136781Z",
     "start_time": "2021-04-12T18:32:47.421686Z"
    }
   },
   "outputs": [],
   "source": [
    "embedded_emb = np.zeros(shape=(len(sentences_emb), max, 300))\n",
    "for i, sentence in enumerate(sentences_emb):\n",
    "    for j, word in enumerate(sentence):\n",
    "        try:\n",
    "            embedded_emb[i, j, :] = embedding_matrix[w2i[word]]\n",
    "        except KeyError:\n",
    "            pass"
   ]
  },
  {
   "cell_type": "markdown",
   "id": "stunning-appearance",
   "metadata": {},
   "source": [
    "# Model"
   ]
  },
  {
   "cell_type": "code",
   "execution_count": 20,
   "id": "organizational-correlation",
   "metadata": {
    "ExecuteTime": {
     "end_time": "2021-04-12T18:32:51.530107Z",
     "start_time": "2021-04-12T18:32:51.387740Z"
    }
   },
   "outputs": [],
   "source": [
    "best_params = optuna.load_study(study_name=\"DDI\",\n",
    "                                storage=\"sqlite:///\"+path+\"ddi2013-type/optuna_ddi_studio_0.db\").best_params"
   ]
  },
  {
   "cell_type": "code",
   "execution_count": 21,
   "id": "color-steal",
   "metadata": {
    "ExecuteTime": {
     "end_time": "2021-04-12T18:32:52.718302Z",
     "start_time": "2021-04-12T18:32:52.713597Z"
    }
   },
   "outputs": [
    {
     "name": "stdout",
     "output_type": "stream",
     "text": [
      "{'batch_size': 89, 'dropout': 0.63, 'units': 81}\n"
     ]
    }
   ],
   "source": [
    "print(f'{best_params}')"
   ]
  },
  {
   "cell_type": "code",
   "execution_count": 22,
   "id": "several-joshua",
   "metadata": {
    "ExecuteTime": {
     "end_time": "2021-04-12T18:32:54.687485Z",
     "start_time": "2021-04-12T18:32:54.365679Z"
    }
   },
   "outputs": [],
   "source": [
    "model = keras.Sequential()\n",
    "model.add(keras.layers.Input(shape=(max, 300)))\n",
    "model.add(keras.layers.Bidirectional(layer=keras.layers.LSTM(units=best_params['units'],\n",
    "                                                             recurrent_dropout=best_params['dropout'],\n",
    "                                                             activation='tanh')))\n",
    "\n",
    "model.add(keras.layers.Dense(5, activation='softmax'))\n",
    "model.compile(loss='categorical_crossentropy',\n",
    "              optimizer=keras.optimizers.Adam(learning_rate=0.001),\n",
    "              metrics=['accuracy'])"
   ]
  },
  {
   "cell_type": "code",
   "execution_count": 24,
   "id": "incomplete-academy",
   "metadata": {
    "ExecuteTime": {
     "end_time": "2021-04-12T19:03:48.860926Z",
     "start_time": "2021-04-12T18:33:08.306390Z"
    }
   },
   "outputs": [
    {
     "name": "stdout",
     "output_type": "stream",
     "text": [
      "Epoch 1/100\n",
      "422/422 [==============================] - 73s 162ms/step - loss: 0.6776 - accuracy: 0.8363 - val_loss: 0.4712 - val_accuracy: 0.8621\n",
      "Epoch 2/100\n",
      "422/422 [==============================] - 73s 173ms/step - loss: 0.4837 - accuracy: 0.8471 - val_loss: 0.4492 - val_accuracy: 0.8657\n",
      "Epoch 3/100\n",
      "422/422 [==============================] - 73s 174ms/step - loss: 0.4415 - accuracy: 0.8462 - val_loss: 0.4209 - val_accuracy: 0.8642\n",
      "Epoch 4/100\n",
      "422/422 [==============================] - 74s 174ms/step - loss: 0.4113 - accuracy: 0.8505 - val_loss: 0.4470 - val_accuracy: 0.8548\n",
      "Epoch 5/100\n",
      "422/422 [==============================] - 74s 175ms/step - loss: 0.3907 - accuracy: 0.8515 - val_loss: 0.4214 - val_accuracy: 0.8673\n",
      "Epoch 6/100\n",
      "422/422 [==============================] - 74s 174ms/step - loss: 0.3732 - accuracy: 0.8559 - val_loss: 0.4134 - val_accuracy: 0.8690\n",
      "Epoch 7/100\n",
      "422/422 [==============================] - 74s 175ms/step - loss: 0.3594 - accuracy: 0.8564 - val_loss: 0.4316 - val_accuracy: 0.8655\n",
      "Epoch 8/100\n",
      "422/422 [==============================] - 73s 173ms/step - loss: 0.3430 - accuracy: 0.8614 - val_loss: 0.4325 - val_accuracy: 0.8687\n",
      "Epoch 9/100\n",
      "422/422 [==============================] - 73s 173ms/step - loss: 0.3323 - accuracy: 0.8626 - val_loss: 0.4340 - val_accuracy: 0.8718\n",
      "Epoch 10/100\n",
      "422/422 [==============================] - 74s 175ms/step - loss: 0.3194 - accuracy: 0.8697 - val_loss: 0.4077 - val_accuracy: 0.8660\n",
      "Epoch 11/100\n",
      "422/422 [==============================] - 73s 174ms/step - loss: 0.3095 - accuracy: 0.8718 - val_loss: 0.4674 - val_accuracy: 0.7387\n",
      "Epoch 12/100\n",
      "422/422 [==============================] - 73s 173ms/step - loss: 0.3038 - accuracy: 0.8726 - val_loss: 0.4364 - val_accuracy: 0.8646\n",
      "Epoch 13/100\n",
      "422/422 [==============================] - 73s 173ms/step - loss: 0.2909 - accuracy: 0.8786 - val_loss: 0.5511 - val_accuracy: 0.7319\n",
      "Epoch 14/100\n",
      "422/422 [==============================] - 74s 175ms/step - loss: 0.2887 - accuracy: 0.8813 - val_loss: 0.4605 - val_accuracy: 0.7441\n",
      "Epoch 15/100\n",
      "422/422 [==============================] - 73s 173ms/step - loss: 0.2812 - accuracy: 0.8834 - val_loss: 0.4188 - val_accuracy: 0.8764\n",
      "Epoch 16/100\n",
      "422/422 [==============================] - 74s 175ms/step - loss: 0.2661 - accuracy: 0.8888 - val_loss: 0.4432 - val_accuracy: 0.8731\n",
      "Epoch 17/100\n",
      "422/422 [==============================] - 73s 174ms/step - loss: 0.2601 - accuracy: 0.8949 - val_loss: 0.4806 - val_accuracy: 0.7434\n",
      "Epoch 18/100\n",
      "422/422 [==============================] - 73s 174ms/step - loss: 0.2571 - accuracy: 0.8939 - val_loss: 0.4530 - val_accuracy: 0.8711\n",
      "Epoch 19/100\n",
      "422/422 [==============================] - 73s 174ms/step - loss: 0.2468 - accuracy: 0.8989 - val_loss: 0.4266 - val_accuracy: 0.8724\n",
      "Epoch 20/100\n",
      "422/422 [==============================] - 73s 174ms/step - loss: 0.2407 - accuracy: 0.9001 - val_loss: 0.4210 - val_accuracy: 0.8712\n",
      "Epoch 21/100\n",
      "422/422 [==============================] - 74s 175ms/step - loss: 0.2369 - accuracy: 0.8996 - val_loss: 0.4625 - val_accuracy: 0.8136\n",
      "Epoch 22/100\n",
      "422/422 [==============================] - 73s 174ms/step - loss: 0.2338 - accuracy: 0.9034 - val_loss: 0.4157 - val_accuracy: 0.8686\n",
      "Epoch 23/100\n",
      "422/422 [==============================] - 73s 173ms/step - loss: 0.2285 - accuracy: 0.9037 - val_loss: 0.4792 - val_accuracy: 0.7323\n",
      "Epoch 24/100\n",
      "422/422 [==============================] - 74s 174ms/step - loss: 0.2210 - accuracy: 0.9086 - val_loss: 0.4237 - val_accuracy: 0.8740\n",
      "Epoch 25/100\n",
      "422/422 [==============================] - 73s 174ms/step - loss: 0.2149 - accuracy: 0.9124 - val_loss: 0.4514 - val_accuracy: 0.8684\n"
     ]
    }
   ],
   "source": [
    "result = model.fit(embedded_trainset,\n",
    "                   five_hot_train,\n",
    "                   validation_data=(embedded_devset, five_hot_dev),\n",
    "                   epochs=100,\n",
    "                   batch_size=best_params['batch_size'],\n",
    "                   callbacks=[keras.callbacks.EarlyStopping(monitor='val_accuracy',\n",
    "                                                            patience=10,\n",
    "                                                            restore_best_weights=True)])"
   ]
  },
  {
   "cell_type": "code",
   "execution_count": 31,
   "id": "super-split",
   "metadata": {
    "ExecuteTime": {
     "end_time": "2021-04-12T19:07:47.393377Z",
     "start_time": "2021-04-12T19:07:47.357070Z"
    }
   },
   "outputs": [],
   "source": [
    "model.save_weights('DDI1_005.h5')"
   ]
  },
  {
   "cell_type": "markdown",
   "id": "focused-locator",
   "metadata": {},
   "source": [
    "# EVALUATION"
   ]
  },
  {
   "cell_type": "code",
   "execution_count": 25,
   "id": "lined-floor",
   "metadata": {
    "ExecuteTime": {
     "end_time": "2021-04-12T19:05:46.831507Z",
     "start_time": "2021-04-12T19:05:46.820282Z"
    }
   },
   "outputs": [],
   "source": [
    "def print_confusionMatrix_fscore(prediction, hot_encoding):\n",
    "    cm = confusion_matrix(hot_encoding.argmax(axis=1), prediction.argmax(axis=1))\n",
    "    fscore = f1_score(y_true=hot_encoding.argmax(axis=1),\n",
    "                      y_pred=prediction.argmax(axis=1),\n",
    "                      average=None)\n",
    "\n",
    "    print('Confusion Matrix:\\n\\t\\tDDI-false\\tDDI-mechanism\\tDDI-effect\\tDDI-advise\\tDDI-int')\n",
    "    print(f'DDI-false\\t{cm[0][0]}\\t\\t{cm[0][1]}\\t\\t{cm[0][2]}\\t\\t{cm[0][3]}\\t\\t{cm[0][4]}')\n",
    "    print(f'DDI-mechanism\\t{cm[1][0]}\\t\\t{cm[1][1]}\\t\\t{cm[1][2]}\\t\\t{cm[1][3]}\\t\\t{cm[1][4]}')\n",
    "    print(f'DDI-effect\\t{cm[2][0]}\\t\\t{cm[2][1]}\\t\\t{cm[2][2]}\\t\\t{cm[2][3]}\\t\\t{cm[2][4]}')\n",
    "    print(f'DDI-advise\\t{cm[3][0]}\\t\\t{cm[3][1]}\\t\\t{cm[3][2]}\\t\\t{cm[3][3]}\\t\\t{cm[3][4]}')\n",
    "    print(f'DDI-int\\t\\t{cm[4][0]}\\t\\t{cm[4][1]}\\t\\t{cm[4][2]}\\t\\t{cm[4][3]}\\t\\t{cm[4][4]}')\n",
    "\n",
    "    zipped_fscore = zip(['DDI-false', 'DDI-mechanism', 'DDI-effect', 'DDI-advise','DDI-int'], fscore)\n",
    "    print('\\n\\nFSCORE:')\n",
    "    for nm, val in zipped_fscore:\n",
    "        print(f'{nm}: {val}')"
   ]
  },
  {
   "cell_type": "code",
   "execution_count": 26,
   "id": "brazilian-stream",
   "metadata": {
    "ExecuteTime": {
     "end_time": "2021-04-12T19:05:49.364265Z",
     "start_time": "2021-04-12T19:05:49.359783Z"
    }
   },
   "outputs": [],
   "source": [
    "from sklearn.metrics import confusion_matrix, f1_score"
   ]
  },
  {
   "cell_type": "markdown",
   "id": "atmospheric-magnet",
   "metadata": {},
   "source": [
    "## DATASET ORIGINARIO"
   ]
  },
  {
   "cell_type": "code",
   "execution_count": 27,
   "id": "literary-ireland",
   "metadata": {
    "ExecuteTime": {
     "end_time": "2021-04-12T19:06:26.596833Z",
     "start_time": "2021-04-12T19:05:52.693678Z"
    }
   },
   "outputs": [
    {
     "name": "stdout",
     "output_type": "stream",
     "text": [
      "422/422 [==============================] - 24s 56ms/step - loss: 0.2400 - accuracy: 0.9008\n",
      "DATASET ORIGINARIO[0.24004089832305908, 0.9008467197418213]\n"
     ]
    }
   ],
   "source": [
    "result_base=model.evaluate(embedded_trainset, five_hot_train, batch_size=best_params['batch_size'],)\n",
    "print(f'DATASET ORIGINARIO{result_base}')"
   ]
  },
  {
   "cell_type": "code",
   "execution_count": 28,
   "id": "broke-mistake",
   "metadata": {
    "ExecuteTime": {
     "end_time": "2021-04-12T19:07:00.622487Z",
     "start_time": "2021-04-12T19:06:28.961020Z"
    }
   },
   "outputs": [
    {
     "name": "stdout",
     "output_type": "stream",
     "text": [
      "Confusion Matrix:\n",
      "\t\tDDI-false\tDDI-mechanism\tDDI-effect\tDDI-advise\tDDI-int\n",
      "DDI-false\t31025\t\t180\t\t407\t\t57\t\t15\n",
      "DDI-mechanism\t1144\t\t735\t\t13\t\t0\t\t0\n",
      "DDI-effect\t1000\t\t13\t\t1404\t\t5\t\t2\n",
      "DDI-advise\t718\t\t1\t\t3\t\t544\t\t0\n",
      "DDI-int\t\t165\t\t0\t\t1\t\t0\t\t126\n",
      "\n",
      "\n",
      "FSCORE:\n",
      "DDI-false: 0.943927224047706\n",
      "DDI-mechanism: 0.5210918114143921\n",
      "DDI-effect: 0.6603951081843837\n",
      "DDI-advise: 0.5811965811965812\n",
      "DDI-int: 0.5793103448275861\n"
     ]
    }
   ],
   "source": [
    "pred = model.predict(embedded_trainset, batch_size=best_params['batch_size'])\n",
    "\n",
    "print_confusionMatrix_fscore(prediction=pred, hot_encoding=five_hot_train)"
   ]
  },
  {
   "cell_type": "markdown",
   "id": "close-compact",
   "metadata": {},
   "source": [
    "## TESTSET"
   ]
  },
  {
   "cell_type": "code",
   "execution_count": 29,
   "id": "tutorial-liberia",
   "metadata": {
    "ExecuteTime": {
     "end_time": "2021-04-12T19:07:22.828960Z",
     "start_time": "2021-04-12T19:07:12.521901Z"
    }
   },
   "outputs": [
    {
     "name": "stdout",
     "output_type": "stream",
     "text": [
      "130/130 [==============================] - 7s 56ms/step - loss: 0.5635 - accuracy: 0.8338\n",
      "DATASET TEST[0.5635077953338623, 0.8337962031364441]\n"
     ]
    }
   ],
   "source": [
    "result_base=model.evaluate(embedded_testset, five_hot_test, batch_size=best_params['batch_size'],)\n",
    "print(f'DATASET TEST{result_base}')"
   ]
  },
  {
   "cell_type": "code",
   "execution_count": 30,
   "id": "hawaiian-polls",
   "metadata": {
    "ExecuteTime": {
     "end_time": "2021-04-12T19:07:38.019889Z",
     "start_time": "2021-04-12T19:07:28.080241Z"
    }
   },
   "outputs": [
    {
     "name": "stdout",
     "output_type": "stream",
     "text": [
      "Confusion Matrix:\n",
      "\t\tDDI-false\tDDI-mechanism\tDDI-effect\tDDI-advise\tDDI-int\n",
      "DDI-false\t9135\t\t105\t\t283\t\t36\t\t5\n",
      "DDI-mechanism\t491\t\t104\t\t8\t\t1\t\t0\n",
      "DDI-effect\t456\t\t2\t\t258\t\t4\t\t0\n",
      "DDI-advise\t329\t\t2\t\t2\t\t109\t\t0\n",
      "DDI-int\t\t160\t\t2\t\t29\t\t0\t\t1\n",
      "\n",
      "\n",
      "FSCORE:\n",
      "DDI-false: 0.9073752172833375\n",
      "DDI-mechanism: 0.25396825396825395\n",
      "DDI-effect: 0.396923076923077\n",
      "DDI-advise: 0.36824324324324326\n",
      "DDI-int: 0.0101010101010101\n"
     ]
    }
   ],
   "source": [
    "pred = model.predict(embedded_testset, batch_size=best_params['batch_size'])\n",
    "\n",
    "print_confusionMatrix_fscore(prediction=pred, hot_encoding=five_hot_test)"
   ]
  },
  {
   "cell_type": "markdown",
   "id": "mounted-belize",
   "metadata": {},
   "source": [
    "## TESTSET ORIGINARIO"
   ]
  },
  {
   "cell_type": "code",
   "execution_count": 32,
   "id": "decimal-maker",
   "metadata": {
    "ExecuteTime": {
     "end_time": "2021-04-12T19:08:04.377630Z",
     "start_time": "2021-04-12T19:07:58.866516Z"
    }
   },
   "outputs": [
    {
     "name": "stdout",
     "output_type": "stream",
     "text": [
      "65/65 [==============================] - 4s 56ms/step - loss: 0.5422 - accuracy: 0.8349\n",
      "DATASET TEST[0.5421619415283203, 0.8349245190620422]\n"
     ]
    }
   ],
   "source": [
    "result_base=model.evaluate(embedded_testset_org, five_hot_test_org, batch_size=best_params['batch_size'],)\n",
    "print(f'DATASET TEST{result_base}')"
   ]
  },
  {
   "cell_type": "code",
   "execution_count": 33,
   "id": "arctic-watson",
   "metadata": {
    "ExecuteTime": {
     "end_time": "2021-04-12T19:08:14.219212Z",
     "start_time": "2021-04-12T19:08:09.212406Z"
    }
   },
   "outputs": [
    {
     "name": "stdout",
     "output_type": "stream",
     "text": [
      "Confusion Matrix:\n",
      "\t\tDDI-false\tDDI-mechanism\tDDI-effect\tDDI-advise\tDDI-int\n",
      "DDI-false\t4553\t\t52\t\t157\t\t18\t\t2\n",
      "DDI-mechanism\t246\t\t55\t\t1\t\t0\t\t0\n",
      "DDI-effect\t214\t\t0\t\t144\t\t2\t\t0\n",
      "DDI-advise\t161\t\t1\t\t1\t\t58\t\t0\n",
      "DDI-int\t\t79\t\t1\t\t16\t\t0\t\t0\n",
      "\n",
      "\n",
      "FSCORE:\n",
      "DDI-false: 0.9074240159441953\n",
      "DDI-mechanism: 0.267639902676399\n",
      "DDI-effect: 0.42415316642120765\n",
      "DDI-advise: 0.38795986622073586\n",
      "DDI-int: 0.0\n"
     ]
    }
   ],
   "source": [
    "pred = model.predict(embedded_testset_org, batch_size=best_params['batch_size'])\n",
    "\n",
    "print_confusionMatrix_fscore(prediction=pred, hot_encoding=five_hot_test_org)"
   ]
  },
  {
   "cell_type": "markdown",
   "id": "otherwise-skill",
   "metadata": {},
   "source": [
    "## DATASET SINONIMI"
   ]
  },
  {
   "cell_type": "code",
   "execution_count": 34,
   "id": "insured-gather",
   "metadata": {
    "ExecuteTime": {
     "end_time": "2021-04-12T19:08:27.768956Z",
     "start_time": "2021-04-12T19:08:22.707956Z"
    }
   },
   "outputs": [
    {
     "name": "stdout",
     "output_type": "stream",
     "text": [
      "65/65 [==============================] - 3s 49ms/step - loss: 0.5849 - accuracy: 0.8327\n",
      "DATASET SINONIMI[0.58485347032547, 0.8326679468154907]\n"
     ]
    }
   ],
   "source": [
    "result_base=model.evaluate(embedded_sin, five_hot_sin, batch_size=best_params['batch_size'],)\n",
    "print(f'DATASET SINONIMI{result_base}')"
   ]
  },
  {
   "cell_type": "code",
   "execution_count": 35,
   "id": "stopped-bahamas",
   "metadata": {
    "ExecuteTime": {
     "end_time": "2021-04-12T19:08:34.955383Z",
     "start_time": "2021-04-12T19:08:31.157377Z"
    }
   },
   "outputs": [
    {
     "name": "stdout",
     "output_type": "stream",
     "text": [
      "Confusion Matrix:\n",
      "\t\tDDI-false\tDDI-mechanism\tDDI-effect\tDDI-advise\tDDI-int\n",
      "DDI-false\t4582\t\t53\t\t126\t\t18\t\t3\n",
      "DDI-mechanism\t245\t\t49\t\t7\t\t1\t\t0\n",
      "DDI-effect\t242\t\t2\t\t114\t\t2\t\t0\n",
      "DDI-advise\t168\t\t1\t\t1\t\t51\t\t0\n",
      "DDI-int\t\t81\t\t1\t\t13\t\t0\t\t1\n",
      "\n",
      "\n",
      "FSCORE:\n",
      "DDI-false: 0.9073267326732674\n",
      "DDI-mechanism: 0.24019607843137253\n",
      "DDI-effect: 0.36714975845410625\n",
      "DDI-advise: 0.348122866894198\n",
      "DDI-int: 0.019999999999999997\n"
     ]
    }
   ],
   "source": [
    "pred = model.predict(embedded_sin, batch_size=best_params['batch_size'])\n",
    "\n",
    "print_confusionMatrix_fscore(prediction=pred, hot_encoding=five_hot_sin)"
   ]
  },
  {
   "cell_type": "markdown",
   "id": "original-sword",
   "metadata": {},
   "source": [
    "## DATASET EMBEDDING"
   ]
  },
  {
   "cell_type": "code",
   "execution_count": 36,
   "id": "engaged-eight",
   "metadata": {
    "ExecuteTime": {
     "end_time": "2021-04-12T19:08:43.888721Z",
     "start_time": "2021-04-12T19:08:39.631067Z"
    }
   },
   "outputs": [
    {
     "name": "stdout",
     "output_type": "stream",
     "text": [
      "65/65 [==============================] - 3s 42ms/step - loss: 0.6053 - accuracy: 0.8294\n",
      "DATASET SINONIMI[0.6052672266960144, 0.8293699026107788]\n"
     ]
    }
   ],
   "source": [
    "result_base=model.evaluate(embedded_emb, five_hot_emb, batch_size=best_params['batch_size'],)\n",
    "print(f'DATASET SINONIMI{result_base}')"
   ]
  },
  {
   "cell_type": "code",
   "execution_count": 37,
   "id": "burning-lunch",
   "metadata": {
    "ExecuteTime": {
     "end_time": "2021-04-12T19:08:50.835637Z",
     "start_time": "2021-04-12T19:08:46.739209Z"
    }
   },
   "outputs": [
    {
     "name": "stdout",
     "output_type": "stream",
     "text": [
      "Confusion Matrix:\n",
      "\t\tDDI-false\tDDI-mechanism\tDDI-effect\tDDI-advise\tDDI-int\n",
      "DDI-false\t4576\t\t54\t\t112\t\t39\t\t1\n",
      "DDI-mechanism\t253\t\t48\t\t1\t\t0\t\t0\n",
      "DDI-effect\t251\t\t4\t\t103\t\t2\t\t0\n",
      "DDI-advise\t167\t\t0\t\t3\t\t51\t\t0\n",
      "DDI-int\t\t80\t\t0\t\t16\t\t0\t\t0\n",
      "\n",
      "\n",
      "FSCORE:\n",
      "DDI-false: 0.9053318824809576\n",
      "DDI-mechanism: 0.23529411764705882\n",
      "DDI-effect: 0.34621848739495803\n",
      "DDI-advise: 0.32587859424920124\n",
      "DDI-int: 0.0\n"
     ]
    }
   ],
   "source": [
    "pred = model.predict(embedded_emb, batch_size=best_params['batch_size'])\n",
    "\n",
    "print_confusionMatrix_fscore(prediction=pred, hot_encoding=five_hot_emb)"
   ]
  }
 ],
 "metadata": {
  "kernelspec": {
   "display_name": "Python 3",
   "language": "python",
   "name": "python3"
  },
  "language_info": {
   "codemirror_mode": {
    "name": "ipython",
    "version": 3
   },
   "file_extension": ".py",
   "mimetype": "text/x-python",
   "name": "python",
   "nbconvert_exporter": "python",
   "pygments_lexer": "ipython3",
   "version": "3.7.6"
  },
  "toc": {
   "base_numbering": 1,
   "nav_menu": {},
   "number_sections": true,
   "sideBar": true,
   "skip_h1_title": false,
   "title_cell": "Table of Contents",
   "title_sidebar": "Contents",
   "toc_cell": false,
   "toc_position": {},
   "toc_section_display": true,
   "toc_window_display": false
  }
 },
 "nbformat": 4,
 "nbformat_minor": 5
}
