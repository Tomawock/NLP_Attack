{
 "cells": [
  {
   "cell_type": "code",
   "execution_count": 1,
   "metadata": {},
   "outputs": [],
   "source": [
    "# nostri import \n",
    "import random\n",
    "import pickle\n",
    "\n",
    "import numpy as np\n",
    "import tensorflow as tf\n",
    "from tensorflow import keras\n",
    "import pandas as pd\n",
    "from sklearn.model_selection import train_test_split\n",
    "import tensorflow_hub as hub\n",
    "import tensorflow_text #necessaria per hub.load\n",
    "from sklearn.preprocessing import OneHotEncoder"
   ]
  },
  {
   "cell_type": "code",
   "execution_count": 2,
   "metadata": {},
   "outputs": [],
   "source": [
    "RANDOM_SEED = 42\n",
    "np.random.seed(RANDOM_SEED)\n",
    "tf.random.set_seed(RANDOM_SEED)"
   ]
  },
  {
   "cell_type": "code",
   "execution_count": 39,
   "metadata": {},
   "outputs": [],
   "source": [
    "df = pd.concat([pd.read_csv('../amazon_sinonimi.csv'), pd.read_csv('../reducedReviews.csv')], ignore_index=True)\n",
    "df = df.sample(frac=1, random_state=RANDOM_SEED)\n",
    "\n",
    "data_sinonimi = pd.read_csv('../amazon_sinonimi.csv')\n",
    "data_embedding = pd.read_csv('../amazon_embedding.csv')"
   ]
  },
  {
   "cell_type": "code",
   "execution_count": 4,
   "metadata": {},
   "outputs": [],
   "source": [
    "df['review'] = df['Summary']+df['Text']\n",
    "del df['Summary']\n",
    "del df['Text']\n",
    "df.review.fillna(\"\",inplace = True)"
   ]
  },
  {
   "cell_type": "code",
   "execution_count": 5,
   "metadata": {},
   "outputs": [],
   "source": [
    "df[\"review_type\"] = df[\"Score\"].apply(lambda x: \"negative\" if x < 4 else \"positive\")"
   ]
  },
  {
   "cell_type": "code",
   "execution_count": 6,
   "metadata": {},
   "outputs": [
    {
     "name": "stdout",
     "output_type": "stream",
     "text": [
      "(326244, 3)\n",
      "(152598, 4)\n",
      "(149967, 4)\n"
     ]
    }
   ],
   "source": [
    "print(df.shape)\n",
    "print(data_sinonimi.shape)\n",
    "print(data_embedding.shape)"
   ]
  },
  {
   "cell_type": "code",
   "execution_count": 7,
   "metadata": {},
   "outputs": [],
   "source": [
    "positive_reviews = df[df.review_type == \"positive\"]\n",
    "negative_reviews = df[df.review_type == \"negative\"]\n",
    "\n",
    "positive_df = positive_reviews.sample(n=min(len(negative_reviews), len(positive_reviews)), random_state=RANDOM_SEED)\n",
    "negative_df = negative_reviews.sample(n=min(len(negative_reviews), len(positive_reviews)), random_state=RANDOM_SEED)\n",
    "\n",
    "review_df = positive_df.append(negative_df).reset_index(drop=True)"
   ]
  },
  {
   "cell_type": "code",
   "execution_count": 8,
   "metadata": {},
   "outputs": [],
   "source": [
    "type_one_hot = OneHotEncoder(sparse=False).fit_transform(\n",
    "  review_df.review_type.to_numpy().reshape(-1, 1))"
   ]
  },
  {
   "cell_type": "code",
   "execution_count": 9,
   "metadata": {},
   "outputs": [],
   "source": [
    "train_reviews, test_reviews, y_train, y_test =\\\n",
    "  train_test_split(\n",
    "    review_df.review,\n",
    "    type_one_hot,\n",
    "    test_size=.3,\n",
    "    random_state=RANDOM_SEED\n",
    "  )"
   ]
  },
  {
   "cell_type": "code",
   "execution_count": 20,
   "metadata": {},
   "outputs": [],
   "source": [
    "embed = hub.load(\"https://tfhub.dev/google/universal-sentence-encoder-multilingual-large/3\")"
   ]
  },
  {
   "cell_type": "code",
   "execution_count": 21,
   "metadata": {
    "scrolled": true
   },
   "outputs": [
    {
     "name": "stdout",
     "output_type": "stream",
     "text": [
      "Model: \"sequential\"\n",
      "_________________________________________________________________\n",
      "Layer (type)                 Output Shape              Param #   \n",
      "=================================================================\n",
      "lambda (Lambda)              None                      0         \n",
      "_________________________________________________________________\n",
      "keras_layer (KerasLayer)     (None, 512)               85213184  \n",
      "_________________________________________________________________\n",
      "dense (Dense)                (None, 256)               131328    \n",
      "_________________________________________________________________\n",
      "dropout (Dropout)            (None, 256)               0         \n",
      "_________________________________________________________________\n",
      "dense_1 (Dense)              (None, 128)               32896     \n",
      "_________________________________________________________________\n",
      "dropout_1 (Dropout)          (None, 128)               0         \n",
      "_________________________________________________________________\n",
      "dense_2 (Dense)              (None, 2)                 258       \n",
      "=================================================================\n",
      "Total params: 85,377,666\n",
      "Trainable params: 164,482\n",
      "Non-trainable params: 85,213,184\n",
      "_________________________________________________________________\n"
     ]
    }
   ],
   "source": [
    "model = keras.Sequential()\n",
    "\n",
    "model.add(keras.layers.Input(shape=(1,), dtype=tf.string))\n",
    "model.add(keras.layers.Lambda(lambda x: tf.squeeze(tf.cast(x, tf.string))))\n",
    "model.add(hub.KerasLayer(handle=embed,output_shape=512)) # pre trained Convolutional Neural Net. \n",
    "model.add(keras.layers.Dense(units=256, activation='relu')) \n",
    "model.add(keras.layers.Dropout(rate=0.2))\n",
    "model.add(keras.layers.Dense(units=128, activation='relu'))\n",
    "model.add(keras.layers.Dropout(rate=0.2))\n",
    "model.add(keras.layers.Dense(2, activation='softmax'))\n",
    "model.compile(loss='categorical_crossentropy', optimizer=keras.optimizers.Adam(0.001), metrics=['accuracy'])\n",
    "model.summary()"
   ]
  },
  {
   "cell_type": "code",
   "execution_count": 22,
   "metadata": {},
   "outputs": [],
   "source": [
    "model.load_weights('model.h5')"
   ]
  },
  {
   "cell_type": "code",
   "execution_count": 40,
   "metadata": {
    "scrolled": true
   },
   "outputs": [],
   "source": [
    "df = pd.read_csv('../reducedReviews.csv')\n",
    "df['review'] = df['Summary']+df['Text']\n",
    "del df['Summary']\n",
    "del df['Text']\n",
    "df.review.fillna(\"\",inplace = True)\n",
    "\n",
    "data_sinonimi['review'] = data_sinonimi['Summary']+data_sinonimi['Text']\n",
    "del data_sinonimi['Summary']\n",
    "del data_sinonimi['Text']\n",
    "data_sinonimi.review.fillna(\"\",inplace = True)\n",
    "\n",
    "data_embedding['review'] = data_embedding['Summary']+data_embedding['Text']\n",
    "del data_embedding['Summary']\n",
    "del data_embedding['Text']\n",
    "data_embedding.review.fillna(\"\",inplace = True)"
   ]
  },
  {
   "cell_type": "code",
   "execution_count": 44,
   "metadata": {},
   "outputs": [],
   "source": [
    "df_one_hot = OneHotEncoder(sparse=False).fit_transform(\n",
    "  df.review_type.to_numpy().reshape(-1, 1))\n",
    "_, df_test_reviews, _, df_y_test = train_test_split(df.review,\n",
    "                                                    df_one_hot,\n",
    "                                                    test_size=.3,\n",
    "                                                    random_state=RANDOM_SEED)\n",
    "\n",
    "sinonimi_one_hot = OneHotEncoder(sparse=False).fit_transform(\n",
    "  data_sinonimi.review_type.to_numpy().reshape(-1, 1))\n",
    "\n",
    "embedding_one_hot = OneHotEncoder(sparse=False).fit_transform(\n",
    "  data_embedding.review_type.to_numpy().reshape(-1, 1))"
   ]
  },
  {
   "cell_type": "markdown",
   "metadata": {},
   "source": [
    "## Eval test relativo al training set usato "
   ]
  },
  {
   "cell_type": "code",
   "execution_count": null,
   "metadata": {},
   "outputs": [
    {
     "name": "stdout",
     "output_type": "stream",
     "text": [
      "   7/3059 [..............................] - ETA: 2:41:17 - loss: 0.3255 - accuracy: 0.8728"
     ]
    }
   ],
   "source": [
    "result = model.evaluate(test_reviews, y_test)"
   ]
  },
  {
   "cell_type": "code",
   "execution_count": 32,
   "metadata": {},
   "outputs": [
    {
     "name": "stdout",
     "output_type": "stream",
     "text": [
      "Accuracy: 0.8639228940010071\n"
     ]
    }
   ],
   "source": [
    "print(f'Accuracy: {result[1]}')"
   ]
  },
  {
   "cell_type": "markdown",
   "metadata": {},
   "source": [
    "## Eval test relativo al training set originale"
   ]
  },
  {
   "cell_type": "code",
   "execution_count": 54,
   "metadata": {},
   "outputs": [
    {
     "name": "stdout",
     "output_type": "stream",
     "text": [
      "1628/1628 [==============================] - 3843s 2s/step - loss: 0.1967 - accuracy: 0.9227\n"
     ]
    }
   ],
   "source": [
    "result = model.evaluate(df_test_reviews, df_y_test)"
   ]
  },
  {
   "cell_type": "code",
   "execution_count": 55,
   "metadata": {
    "scrolled": true
   },
   "outputs": [
    {
     "name": "stdout",
     "output_type": "stream",
     "text": [
      "Accuracy: 0.9226974248886108\n"
     ]
    }
   ],
   "source": [
    "print(f'Accuracy: {result[1]}')"
   ]
  },
  {
   "cell_type": "markdown",
   "metadata": {},
   "source": [
    "## Eval test relativo a tutti i sinonimi"
   ]
  },
  {
   "cell_type": "code",
   "execution_count": 47,
   "metadata": {
    "scrolled": true
   },
   "outputs": [
    {
     "name": "stdout",
     "output_type": "stream",
     "text": [
      "4769/4769 [==============================] - 13187s 3s/step - loss: 0.2569 - accuracy: 0.9007\n"
     ]
    }
   ],
   "source": [
    "result = model.evaluate(data_sinonimi.review, sinonimi_one_hot)"
   ]
  },
  {
   "cell_type": "code",
   "execution_count": 49,
   "metadata": {},
   "outputs": [
    {
     "name": "stdout",
     "output_type": "stream",
     "text": [
      "Accuracy: 0.9007391929626465\n"
     ]
    }
   ],
   "source": [
    "print(f'Accuracy: {result[1]}')"
   ]
  },
  {
   "cell_type": "markdown",
   "metadata": {},
   "source": [
    "## Eval test relativo a tutti gli embedding"
   ]
  },
  {
   "cell_type": "code",
   "execution_count": null,
   "metadata": {},
   "outputs": [],
   "source": [
    "result = model.evaluate(data_embedding.review, embedding_one_hot)"
   ]
  },
  {
   "cell_type": "code",
   "execution_count": 53,
   "metadata": {},
   "outputs": [
    {
     "name": "stdout",
     "output_type": "stream",
     "text": [
      "Accuracy: 0.9147012233734131\n"
     ]
    }
   ],
   "source": [
    "print(f'Accuracy: {result[1]}')"
   ]
  }
 ],
 "metadata": {
  "kernelspec": {
   "display_name": "Python 3",
   "language": "python",
   "name": "python3"
  },
  "language_info": {
   "codemirror_mode": {
    "name": "ipython",
    "version": 3
   },
   "file_extension": ".py",
   "mimetype": "text/x-python",
   "name": "python",
   "nbconvert_exporter": "python",
   "pygments_lexer": "ipython3",
   "version": "3.7.6"
  },
  "toc": {
   "base_numbering": 1,
   "nav_menu": {},
   "number_sections": true,
   "sideBar": true,
   "skip_h1_title": false,
   "title_cell": "Table of Contents",
   "title_sidebar": "Contents",
   "toc_cell": false,
   "toc_position": {},
   "toc_section_display": true,
   "toc_window_display": false
  }
 },
 "nbformat": 4,
 "nbformat_minor": 4
}
