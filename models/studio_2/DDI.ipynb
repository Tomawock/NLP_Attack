{
  "nbformat": 4,
  "nbformat_minor": 0,
  "metadata": {
    "colab": {
      "name": "DDI.ipynb",
      "provenance": [],
      "collapsed_sections": [],
      "toc_visible": true,
      "include_colab_link": true
    },
    "kernelspec": {
      "name": "python3",
      "display_name": "Python 3"
    },
    "accelerator": "TPU"
  },
  "cells": [
    {
      "cell_type": "markdown",
      "metadata": {
        "id": "view-in-github",
        "colab_type": "text"
      },
      "source": [
        "<a href=\"https://colab.research.google.com/github/Tomawock/NLP_Attack/blob/main/models/studio_2/DDI.ipynb\" target=\"_parent\"><img src=\"https://colab.research.google.com/assets/colab-badge.svg\" alt=\"Open In Colab\"/></a>"
      ]
    },
    {
      "cell_type": "code",
      "metadata": {
        "id": "QiMkeY5Y_NZv"
      },
      "source": [
        "from google.colab import drive\n",
        "drive.mount('/content/drive')"
      ],
      "execution_count": null,
      "outputs": []
    },
    {
      "cell_type": "code",
      "metadata": {
        "id": "xQcpBBopuQnf"
      },
      "source": [
        "!pip install optuna "
      ],
      "execution_count": null,
      "outputs": []
    },
    {
      "cell_type": "code",
      "metadata": {
        "id": "mAgxUDSD-0pM"
      },
      "source": [
        "import pickle\n",
        "import pandas as pd\n",
        "import optuna\n",
        "import numpy as np\n",
        "from sklearn.preprocessing import OneHotEncoder\n",
        "from tensorflow import keras\n",
        "from sklearn.utils.class_weight import compute_class_weight"
      ],
      "execution_count": 1,
      "outputs": []
    },
    {
      "cell_type": "code",
      "metadata": {
        "id": "AvIuSdIzxK40"
      },
      "source": [
        "path=\"Desktop\\\\DDI\""
      ],
      "execution_count": 3,
      "outputs": []
    },
    {
      "cell_type": "code",
      "metadata": {
        "id": "D_Jt8EmX-IBe"
      },
      "source": [
        "path=\"/content/drive/Shareddrives/Deep Learning/datasets/DDI/\""
      ],
      "execution_count": null,
      "outputs": []
    },
    {
      "cell_type": "markdown",
      "metadata": {
        "id": "vcgM45TxuiWB"
      },
      "source": [
        "PATH PER WINDOWDS\n",
        "\n"
      ]
    },
    {
      "cell_type": "code",
      "metadata": {
        "id": "Dm8p2lwD_F5T"
      },
      "source": [
        "dev = pd.read_csv(path+'\\ddi2013-type\\\\dev.tsv', sep='\\t')\n",
        "test = pd.read_csv(path+'\\ddi2013-type\\\\test.tsv', sep='\\t')\n",
        "train = pd.read_csv(path+'\\ddi2013-type\\\\train.tsv', sep='\\t')\n",
        "\n",
        "data_sinonimi = pd.read_csv(path+\"\\ddi2013-type\\\\DDI_sinonimi_test.csv\")\n",
        "data_embedding = pd.read_csv(path+\"\\ddi2013-type\\\\DDI_embedding_test.csv\")\n",
        "\n",
        "data_embedding_train = pd.read_csv(path+\"\\ddi2013-type\\\\ .csv\")\n",
        "\n",
        "print(test.shape)\n",
        "print(data_sinonimi.shape)\n",
        "print(test)"
      ],
      "execution_count": null,
      "outputs": []
    },
    {
      "cell_type": "code",
      "metadata": {
        "id": "fw74BJhOugRM"
      },
      "source": [
        "dev = pd.read_csv(path+'ddi2013-type/dev.tsv', sep='\\t')\n",
        "test = pd.read_csv(path+'ddi2013-type/test.tsv', sep='\\t')\n",
        "train = pd.read_csv(path+'ddi2013-type/train.tsv', sep='\\t')\n",
        "\n",
        "data_sinonimi = pd.read_csv(path+\"ddi2013-type/DDI_sinonimi_test.csv\")\n",
        "data_embedding = pd.read_csv(path+\"ddi2013-type/DDI_embedding_test.csv\")\n",
        "\n",
        "data_embedding_train = pd.read_csv(path+\"ddi2013-type/DDI_embedding.csv\")\n",
        "\n",
        "print(test.shape)\n",
        "print(data_sinonimi.shape)\n",
        "print(test)"
      ],
      "execution_count": null,
      "outputs": []
    },
    {
      "cell_type": "code",
      "metadata": {
        "id": "YODJXjNIDjOL",
        "colab": {
          "base_uri": "https://localhost:8080/"
        },
        "outputId": "b4d27201-5740-4ac5-fd64-f6ac523e643c"
      },
      "source": [
        "test_study_1 = pd.concat([test, data_embedding], ignore_index=True)\n",
        "train_study_1 = pd.concat([train, data_embedding_train], ignore_index=True)\n",
        "print (test_study_1.shape)\n",
        "print (train_study_1.shape)"
      ],
      "execution_count": 7,
      "outputs": [
        {
          "output_type": "stream",
          "text": [
            "(11522, 3)\n",
            "(37558, 3)\n"
          ],
          "name": "stdout"
        }
      ]
    },
    {
      "cell_type": "code",
      "metadata": {
        "id": "KdpEzJH3AAwb"
      },
      "source": [
        "print(train.shape)\n",
        "print(data_sinonimi.shape)\n",
        "print(data_embedding.shape)"
      ],
      "execution_count": null,
      "outputs": []
    },
    {
      "cell_type": "code",
      "metadata": {
        "id": "WxqcDbYlANrk"
      },
      "source": [
        "print(train.label.value_counts())\n",
        "print(data_sinonimi.label.value_counts())\n",
        "print(data_embedding.label.value_counts())"
      ],
      "execution_count": null,
      "outputs": []
    },
    {
      "cell_type": "code",
      "metadata": {
        "id": "Mx5Dywe8E8gx"
      },
      "source": [
        "with open(path+\"\\word2index.pkl\", 'rb') as output:\n",
        "  w2i = pickle.load(output)\n",
        "with open(path+\"\\embedding_matrix.pkl\", 'rb') as output:\n",
        "  embedding_matrix = pickle.load(output)"
      ],
      "execution_count": 8,
      "outputs": []
    },
    {
      "cell_type": "markdown",
      "metadata": {
        "id": "vv-nI15mvf4N"
      },
      "source": [
        "Set up per allenamento Modello"
      ]
    },
    {
      "cell_type": "code",
      "metadata": {
        "id": "jUcRaXI_5f5i"
      },
      "source": [
        "categories = [['DDI-false', 'DDI-mechanism', 'DDI-effect', 'DDI-advise','DDI-int']]\n",
        "\n",
        "my_text_to_word_sequence = lambda sen: keras.preprocessing.text.text_to_word_sequence(sen,\n",
        "                                                                                      filters='!\"#&()*+,-./:;<=>?[\\\\]^_`\\'{|}~\\t\\n',\n",
        "                                                                                      lower=True)"
      ],
      "execution_count": 9,
      "outputs": []
    },
    {
      "cell_type": "markdown",
      "metadata": {
        "id": "iQ_NP5DJ5iDf"
      },
      "source": [
        "TRAINSET"
      ]
    },
    {
      "cell_type": "code",
      "metadata": {
        "id": "5AQtVajZE_Nv"
      },
      "source": [
        "five_hot_train = OneHotEncoder(sparse=False, categories=categories).fit_transform(\n",
        "  train_study_1.label.to_numpy().reshape(-1, 1)\n",
        ")"
      ],
      "execution_count": 10,
      "outputs": []
    },
    {
      "cell_type": "code",
      "metadata": {
        "id": "HJ7yUd9tFEV6"
      },
      "source": [
        "sentences_train = [my_text_to_word_sequence(sentence) for sentence in train_study_1['sentence']]"
      ],
      "execution_count": 11,
      "outputs": []
    },
    {
      "cell_type": "markdown",
      "metadata": {
        "id": "vpyi_R0QM9yO"
      },
      "source": [
        "TESTSET"
      ]
    },
    {
      "cell_type": "code",
      "metadata": {
        "id": "I_bOaNrp5-9b"
      },
      "source": [
        "five_hot_test = OneHotEncoder(sparse=False, categories=categories).fit_transform(\n",
        "  test_study_1.label.to_numpy().reshape(-1, 1)\n",
        ")"
      ],
      "execution_count": 12,
      "outputs": []
    },
    {
      "cell_type": "code",
      "metadata": {
        "id": "HtLEyoQX6BME"
      },
      "source": [
        "sentences_test = [my_text_to_word_sequence(sentence) for sentence in test_study_1['sentence']]"
      ],
      "execution_count": 13,
      "outputs": []
    },
    {
      "cell_type": "markdown",
      "metadata": {
        "id": "8ylB78veIsv_"
      },
      "source": [
        "ORIGINALE"
      ]
    },
    {
      "cell_type": "code",
      "metadata": {
        "id": "4nViSudaIqQl"
      },
      "source": [
        "five_hot_orig = OneHotEncoder(sparse=False, categories=categories).fit_transform(\n",
        "  test.label.to_numpy().reshape(-1, 1)\n",
        ")"
      ],
      "execution_count": 14,
      "outputs": []
    },
    {
      "cell_type": "code",
      "metadata": {
        "id": "znIsuAiwIyqd"
      },
      "source": [
        "sentences_orig = [my_text_to_word_sequence(sentence) for sentence in test['sentence']]"
      ],
      "execution_count": 15,
      "outputs": []
    },
    {
      "cell_type": "markdown",
      "metadata": {
        "id": "tP9Ku4JjM_4D"
      },
      "source": [
        "SINONIMI"
      ]
    },
    {
      "cell_type": "code",
      "metadata": {
        "id": "F46YcI6F6DEP"
      },
      "source": [
        "five_hot_sin = OneHotEncoder(sparse=False, categories=categories).fit_transform(\n",
        "  data_sinonimi.label.to_numpy().reshape(-1, 1)\n",
        ")"
      ],
      "execution_count": 16,
      "outputs": []
    },
    {
      "cell_type": "code",
      "metadata": {
        "id": "oPjA_DfR6DWX"
      },
      "source": [
        "sentences_sin = [my_text_to_word_sequence(sentence) for sentence in data_sinonimi['sentence']]"
      ],
      "execution_count": 17,
      "outputs": []
    },
    {
      "cell_type": "markdown",
      "metadata": {
        "id": "Zw5TZ84dNdNs"
      },
      "source": [
        "EMBEDDING"
      ]
    },
    {
      "cell_type": "code",
      "metadata": {
        "id": "IwCdjTJ-6K6x"
      },
      "source": [
        "five_hot_emb = OneHotEncoder(sparse=False, categories=categories).fit_transform(\n",
        "  data_embedding.label.to_numpy().reshape(-1, 1)\n",
        ")"
      ],
      "execution_count": 18,
      "outputs": []
    },
    {
      "cell_type": "code",
      "metadata": {
        "id": "HOzh1rcV6LEl"
      },
      "source": [
        "sentences_emb = [my_text_to_word_sequence(sentence) for sentence in data_embedding['sentence']]"
      ],
      "execution_count": 19,
      "outputs": []
    },
    {
      "cell_type": "markdown",
      "metadata": {
        "id": "ZBbI74mh5Vs_"
      },
      "source": [
        "Estrai la massima dimensione dell'input in base ai vari dataset considerati"
      ]
    },
    {
      "cell_type": "code",
      "metadata": {
        "id": "IP3eoSK35U8J"
      },
      "source": [
        "max_index, max = (-1, -1)\n",
        "for i, sentence in enumerate(sentences_train):\n",
        "  max_index, max = (i, len(sentence)) if len(sentence) > max else (max_index, max)\n",
        "for i, sentence in enumerate(sentences_test):\n",
        "  max_index, max = (i, len(sentence)) if len(sentence) > max else (max_index, max)\n",
        "for i, sentence in enumerate(sentences_orig):\n",
        "  max_index, max = (i, len(sentence)) if len(sentence) > max else (max_index, max)\n",
        "for i, sentence in enumerate(sentences_sin):\n",
        "  max_index, max = (i, len(sentence)) if len(sentence) > max else (max_index, max)\n",
        "for i, sentence in enumerate(sentences_emb):\n",
        "  max_index, max = (i, len(sentence)) if len(sentence) > max else (max_index, max)\n",
        "  \n",
        "print(f'Il massimo è {max}')"
      ],
      "execution_count": null,
      "outputs": []
    },
    {
      "cell_type": "markdown",
      "metadata": {
        "id": "VmEM1DpJEGtd"
      },
      "source": [
        "Crao i vari embedding per tutti i dataset, quest'operazione e pesante "
      ]
    },
    {
      "cell_type": "code",
      "metadata": {
        "id": "jU4vzy2XFMNw"
      },
      "source": [
        "embedded_trainset = np.zeros(shape=(len(sentences_train), max, 300))\n",
        "for i, sentence in enumerate(sentences_train):\n",
        "  for j, word in enumerate(sentence):\n",
        "    try:\n",
        "      embedded_trainset[i, j, :] = embedding_matrix[w2i[word]]\n",
        "    except KeyError:\n",
        "      pass"
      ],
      "execution_count": 21,
      "outputs": []
    },
    {
      "cell_type": "code",
      "metadata": {
        "id": "qcTLLtVaT_3x"
      },
      "source": [
        "embedded_origin = np.zeros(shape=(len(sentences_orig), max, 300))\n",
        "for i, sentence in enumerate(sentences_orig):\n",
        "  for j, word in enumerate(sentence):\n",
        "    try:\n",
        "      embedded_origin[i, j, :] = embedding_matrix[w2i[word]]\n",
        "    except KeyError:\n",
        "      pass"
      ],
      "execution_count": 22,
      "outputs": []
    },
    {
      "cell_type": "code",
      "metadata": {
        "id": "LzIOhX8XMGS8"
      },
      "source": [
        "embedded_testset = np.zeros(shape=(len(sentences_test), max, 300))\n",
        "for i, sentence in enumerate(sentences_test):\n",
        "  for j, word in enumerate(sentence):\n",
        "    try:\n",
        "      embedded_testset[i, j, :] = embedding_matrix[w2i[word]]\n",
        "    except KeyError:\n",
        "      pass"
      ],
      "execution_count": 23,
      "outputs": []
    },
    {
      "cell_type": "code",
      "metadata": {
        "id": "d-G-eEVMM_gB"
      },
      "source": [
        "embedded_sin = np.zeros(shape=(len(sentences_sin), max, 300))\n",
        "for i, sentence in enumerate(sentences_sin):\n",
        "  for j, word in enumerate(sentence):\n",
        "    try:\n",
        "      embedded_sin[i, j, :] = embedding_matrix[w2i[word]]\n",
        "    except KeyError:\n",
        "      pass"
      ],
      "execution_count": 24,
      "outputs": []
    },
    {
      "cell_type": "code",
      "metadata": {
        "id": "LR8cp_siNfYB"
      },
      "source": [
        "embedded_emb = np.zeros(shape=(len(sentences_emb), max, 300))\n",
        "for i, sentence in enumerate(sentences_emb):\n",
        "  for j, word in enumerate(sentence):\n",
        "    try:\n",
        "      embedded_emb[i, j, :] = embedding_matrix[w2i[word]]\n",
        "    except KeyError:\n",
        "      pass"
      ],
      "execution_count": 25,
      "outputs": []
    },
    {
      "cell_type": "markdown",
      "metadata": {
        "id": "xG87uMvKvm0L"
      },
      "source": [
        "Carica optuna results e inizializza il modello, oppure salva il modello oppure carica solo i pesi del modello "
      ]
    },
    {
      "cell_type": "code",
      "metadata": {
        "id": "b16mA7IuBRrK"
      },
      "source": [
        "best_params = optuna.load_study(study_name=\"DDI\", storage=\"sqlite:///\"+path+\"\\ddi2013-type\\\\optuna_ddi_studio_0.db\").best_params"
      ],
      "execution_count": 26,
      "outputs": []
    },
    {
      "cell_type": "code",
      "metadata": {
        "id": "sMwRMnYDCMSl"
      },
      "source": [
        "print(f'{best_params}')"
      ],
      "execution_count": null,
      "outputs": []
    },
    {
      "cell_type": "code",
      "metadata": {
        "id": "QVMfBNRxCuy6"
      },
      "source": [
        "model = keras.Sequential()\n",
        "model.add(keras.layers.Input(shape=(max, 300)))\n",
        "model.add(keras.layers.Bidirectional(layer=keras.layers.LSTM(units=best_params['units'],\n",
        "                                                             recurrent_dropout=best_params['dropout'],\n",
        "                                                             activation='tanh')))\n",
        "\n",
        "model.add(keras.layers.Dense(5, activation='softmax'))\n",
        "model.compile(loss='categorical_crossentropy',\n",
        "              optimizer=keras.optimizers.Adam(learning_rate=0.001),\n",
        "              metrics=['accuracy'])"
      ],
      "execution_count": 28,
      "outputs": []
    },
    {
      "cell_type": "code",
      "metadata": {
        "id": "jxDADamsukZM",
        "outputId": "7224db25-b999-4b91-f12f-0df847a58f7a",
        "colab": {
          "base_uri": "https://localhost:8080/"
        }
      },
      "source": [
        "#train the model\n",
        "result = model.fit(embedded_trainset,\n",
        "                   five_hot_train,\n",
        "                   epochs=100,\n",
        "                   batch_size=best_params['batch_size'],\n",
        "                   callbacks=[keras.callbacks.EarlyStopping(monitor='loss',\n",
        "                                                            patience=10)])"
      ],
      "execution_count": 29,
      "outputs": [
        {
          "output_type": "stream",
          "text": [
            "Epoch 1/100\n",
            "422/422 [==============================] - 90s 213ms/step - loss: 0.5936 - accuracy: 0.8417\n",
            "Epoch 2/100\n",
            "422/422 [==============================] - 93s 220ms/step - loss: 0.4776 - accuracy: 0.8455\n",
            "Epoch 3/100\n",
            "422/422 [==============================] - 98s 232ms/step - loss: 0.4275 - accuracy: 0.8476\n",
            "Epoch 4/100\n",
            "422/422 [==============================] - 95s 224ms/step - loss: 0.3983 - accuracy: 0.8491\n",
            "Epoch 5/100\n",
            "422/422 [==============================] - 92s 218ms/step - loss: 0.3792 - accuracy: 0.8525\n",
            "Epoch 6/100\n",
            "422/422 [==============================] - 93s 220ms/step - loss: 0.3637 - accuracy: 0.8557\n",
            "Epoch 7/100\n",
            "422/422 [==============================] - 94s 222ms/step - loss: 0.3491 - accuracy: 0.8592\n",
            "Epoch 8/100\n",
            "422/422 [==============================] - 91s 216ms/step - loss: 0.3367 - accuracy: 0.8621\n",
            "Epoch 9/100\n",
            "422/422 [==============================] - 93s 220ms/step - loss: 0.3241 - accuracy: 0.8669\n",
            "Epoch 10/100\n",
            "422/422 [==============================] - 93s 220ms/step - loss: 0.3137 - accuracy: 0.8721\n",
            "Epoch 11/100\n",
            "422/422 [==============================] - 92s 219ms/step - loss: 0.3016 - accuracy: 0.8756\n",
            "Epoch 12/100\n",
            "422/422 [==============================] - 93s 220ms/step - loss: 0.2913 - accuracy: 0.8797\n",
            "Epoch 13/100\n",
            "422/422 [==============================] - 93s 220ms/step - loss: 0.2800 - accuracy: 0.8858\n",
            "Epoch 14/100\n",
            "422/422 [==============================] - 93s 219ms/step - loss: 0.2700 - accuracy: 0.8883\n",
            "Epoch 15/100\n",
            "422/422 [==============================] - 95s 225ms/step - loss: 0.2618 - accuracy: 0.8925\n",
            "Epoch 16/100\n",
            "422/422 [==============================] - 97s 229ms/step - loss: 0.2523 - accuracy: 0.8979\n",
            "Epoch 17/100\n",
            "422/422 [==============================] - 97s 230ms/step - loss: 0.2474 - accuracy: 0.8993\n",
            "Epoch 18/100\n",
            "422/422 [==============================] - 97s 230ms/step - loss: 0.2390 - accuracy: 0.9033\n",
            "Epoch 19/100\n",
            "422/422 [==============================] - 98s 231ms/step - loss: 0.2342 - accuracy: 0.9045\n",
            "Epoch 20/100\n",
            "422/422 [==============================] - 96s 227ms/step - loss: 0.2280 - accuracy: 0.9075\n",
            "Epoch 21/100\n",
            "422/422 [==============================] - 95s 225ms/step - loss: 0.2241 - accuracy: 0.9087\n",
            "Epoch 22/100\n",
            "422/422 [==============================] - 96s 227ms/step - loss: 0.2173 - accuracy: 0.9112\n",
            "Epoch 23/100\n",
            "422/422 [==============================] - 95s 226ms/step - loss: 0.2113 - accuracy: 0.9147\n",
            "Epoch 24/100\n",
            "422/422 [==============================] - 96s 227ms/step - loss: 0.2073 - accuracy: 0.9166\n",
            "Epoch 25/100\n",
            "422/422 [==============================] - 97s 229ms/step - loss: 0.2052 - accuracy: 0.9181\n",
            "Epoch 26/100\n",
            "422/422 [==============================] - 96s 228ms/step - loss: 0.2002 - accuracy: 0.9202\n",
            "Epoch 27/100\n",
            "422/422 [==============================] - 97s 229ms/step - loss: 0.1967 - accuracy: 0.9208\n",
            "Epoch 28/100\n",
            "422/422 [==============================] - 97s 231ms/step - loss: 0.1941 - accuracy: 0.9224\n",
            "Epoch 29/100\n",
            "422/422 [==============================] - 98s 232ms/step - loss: 0.1905 - accuracy: 0.9234\n",
            "Epoch 30/100\n",
            "422/422 [==============================] - 98s 232ms/step - loss: 0.1855 - accuracy: 0.9259\n",
            "Epoch 31/100\n",
            "422/422 [==============================] - 98s 233ms/step - loss: 0.1825 - accuracy: 0.9272\n",
            "Epoch 32/100\n",
            "422/422 [==============================] - 97s 230ms/step - loss: 0.1789 - accuracy: 0.9285\n",
            "Epoch 33/100\n",
            "422/422 [==============================] - 96s 228ms/step - loss: 0.1767 - accuracy: 0.9294\n",
            "Epoch 34/100\n",
            "422/422 [==============================] - 96s 228ms/step - loss: 0.1731 - accuracy: 0.9312\n",
            "Epoch 35/100\n",
            "422/422 [==============================] - 97s 229ms/step - loss: 0.1690 - accuracy: 0.9343\n",
            "Epoch 36/100\n",
            "422/422 [==============================] - 96s 228ms/step - loss: 0.1652 - accuracy: 0.9347\n",
            "Epoch 37/100\n",
            "422/422 [==============================] - 98s 232ms/step - loss: 0.1645 - accuracy: 0.9348\n",
            "Epoch 38/100\n",
            "422/422 [==============================] - 101s 239ms/step - loss: 0.1611 - accuracy: 0.9368\n",
            "Epoch 39/100\n",
            "422/422 [==============================] - 100s 236ms/step - loss: 0.1590 - accuracy: 0.9378\n",
            "Epoch 40/100\n",
            "422/422 [==============================] - 100s 236ms/step - loss: 0.1579 - accuracy: 0.9376\n",
            "Epoch 41/100\n",
            "422/422 [==============================] - 101s 238ms/step - loss: 0.1559 - accuracy: 0.9374\n",
            "Epoch 42/100\n",
            "422/422 [==============================] - 99s 234ms/step - loss: 0.1516 - accuracy: 0.9403\n",
            "Epoch 43/100\n",
            "422/422 [==============================] - 99s 234ms/step - loss: 0.1495 - accuracy: 0.9409\n",
            "Epoch 44/100\n",
            "422/422 [==============================] - 99s 236ms/step - loss: 0.1487 - accuracy: 0.9416\n",
            "Epoch 45/100\n",
            "422/422 [==============================] - 99s 235ms/step - loss: 0.1425 - accuracy: 0.9443\n",
            "Epoch 46/100\n",
            "422/422 [==============================] - 98s 233ms/step - loss: 0.1426 - accuracy: 0.9436\n",
            "Epoch 47/100\n",
            "422/422 [==============================] - 98s 233ms/step - loss: 0.1407 - accuracy: 0.9448\n",
            "Epoch 48/100\n",
            "422/422 [==============================] - 99s 235ms/step - loss: 0.1367 - accuracy: 0.9457\n",
            "Epoch 49/100\n",
            "422/422 [==============================] - 99s 235ms/step - loss: 0.1348 - accuracy: 0.9467\n",
            "Epoch 50/100\n",
            "422/422 [==============================] - 100s 237ms/step - loss: 0.1348 - accuracy: 0.9468\n",
            "Epoch 51/100\n",
            "422/422 [==============================] - 99s 236ms/step - loss: 0.1326 - accuracy: 0.9491\n",
            "Epoch 52/100\n",
            "422/422 [==============================] - 100s 238ms/step - loss: 0.1296 - accuracy: 0.9495\n",
            "Epoch 53/100\n",
            "422/422 [==============================] - 100s 236ms/step - loss: 0.1288 - accuracy: 0.9502\n",
            "Epoch 54/100\n",
            "422/422 [==============================] - 99s 235ms/step - loss: 0.1250 - accuracy: 0.9508\n",
            "Epoch 55/100\n",
            "422/422 [==============================] - 101s 240ms/step - loss: 0.1263 - accuracy: 0.9497\n",
            "Epoch 56/100\n",
            "422/422 [==============================] - 100s 236ms/step - loss: 0.1214 - accuracy: 0.9535\n",
            "Epoch 57/100\n",
            "422/422 [==============================] - 98s 233ms/step - loss: 0.1219 - accuracy: 0.9525\n",
            "Epoch 58/100\n",
            "422/422 [==============================] - 101s 238ms/step - loss: 0.1194 - accuracy: 0.9530\n",
            "Epoch 59/100\n",
            "422/422 [==============================] - 100s 238ms/step - loss: 0.1172 - accuracy: 0.9541\n",
            "Epoch 60/100\n",
            "422/422 [==============================] - 100s 238ms/step - loss: 0.1143 - accuracy: 0.9556\n",
            "Epoch 61/100\n",
            "422/422 [==============================] - 100s 237ms/step - loss: 0.1125 - accuracy: 0.9560\n",
            "Epoch 62/100\n",
            "422/422 [==============================] - 99s 235ms/step - loss: 0.1125 - accuracy: 0.9570\n",
            "Epoch 63/100\n",
            "422/422 [==============================] - 100s 236ms/step - loss: 0.1079 - accuracy: 0.9586\n",
            "Epoch 64/100\n",
            "422/422 [==============================] - 100s 236ms/step - loss: 0.1086 - accuracy: 0.9579\n",
            "Epoch 65/100\n",
            "422/422 [==============================] - 99s 235ms/step - loss: 0.1067 - accuracy: 0.9570\n",
            "Epoch 66/100\n",
            "422/422 [==============================] - 101s 238ms/step - loss: 0.1037 - accuracy: 0.9610\n",
            "Epoch 67/100\n",
            "422/422 [==============================] - 101s 238ms/step - loss: 0.1022 - accuracy: 0.9614\n",
            "Epoch 68/100\n",
            "422/422 [==============================] - 100s 237ms/step - loss: 0.0990 - accuracy: 0.9616\n",
            "Epoch 69/100\n",
            "422/422 [==============================] - 101s 239ms/step - loss: 0.1005 - accuracy: 0.9607\n",
            "Epoch 70/100\n",
            "422/422 [==============================] - 102s 241ms/step - loss: 0.0985 - accuracy: 0.9614\n",
            "Epoch 71/100\n",
            "422/422 [==============================] - 102s 241ms/step - loss: 0.0967 - accuracy: 0.9637\n",
            "Epoch 72/100\n",
            "422/422 [==============================] - 103s 245ms/step - loss: 0.0956 - accuracy: 0.9633\n",
            "Epoch 73/100\n",
            "422/422 [==============================] - 104s 247ms/step - loss: 0.0934 - accuracy: 0.9639\n",
            "Epoch 74/100\n",
            "422/422 [==============================] - 106s 251ms/step - loss: 0.0924 - accuracy: 0.9649\n",
            "Epoch 75/100\n",
            "422/422 [==============================] - 106s 251ms/step - loss: 0.0902 - accuracy: 0.9650\n",
            "Epoch 76/100\n",
            "422/422 [==============================] - 107s 253ms/step - loss: 0.0876 - accuracy: 0.9667\n",
            "Epoch 77/100\n",
            "422/422 [==============================] - 102s 241ms/step - loss: 0.0855 - accuracy: 0.9678\n",
            "Epoch 78/100\n",
            "422/422 [==============================] - 104s 247ms/step - loss: 0.0859 - accuracy: 0.9672\n",
            "Epoch 79/100\n",
            "422/422 [==============================] - 106s 251ms/step - loss: 0.0846 - accuracy: 0.9679\n",
            "Epoch 80/100\n",
            "422/422 [==============================] - 106s 252ms/step - loss: 0.0860 - accuracy: 0.9671\n",
            "Epoch 81/100\n",
            "422/422 [==============================] - 107s 254ms/step - loss: 0.0835 - accuracy: 0.9682\n",
            "Epoch 82/100\n",
            "422/422 [==============================] - 106s 252ms/step - loss: 0.0815 - accuracy: 0.9690\n",
            "Epoch 83/100\n",
            "422/422 [==============================] - 107s 254ms/step - loss: 0.0803 - accuracy: 0.9693\n",
            "Epoch 84/100\n",
            "422/422 [==============================] - 107s 254ms/step - loss: 0.0793 - accuracy: 0.9702\n",
            "Epoch 85/100\n",
            "422/422 [==============================] - 107s 253ms/step - loss: 0.0768 - accuracy: 0.9699\n",
            "Epoch 86/100\n",
            "422/422 [==============================] - 105s 250ms/step - loss: 0.0771 - accuracy: 0.9711\n",
            "Epoch 87/100\n",
            "422/422 [==============================] - 108s 256ms/step - loss: 0.0747 - accuracy: 0.9725\n",
            "Epoch 88/100\n",
            "422/422 [==============================] - 112s 265ms/step - loss: 0.0748 - accuracy: 0.9717\n",
            "Epoch 89/100\n",
            "422/422 [==============================] - 113s 268ms/step - loss: 0.0740 - accuracy: 0.9728\n",
            "Epoch 90/100\n",
            "422/422 [==============================] - 113s 267ms/step - loss: 0.0748 - accuracy: 0.9726\n",
            "Epoch 91/100\n",
            "422/422 [==============================] - 112s 266ms/step - loss: 0.0708 - accuracy: 0.9741\n",
            "Epoch 92/100\n",
            "422/422 [==============================] - 112s 266ms/step - loss: 0.0723 - accuracy: 0.9729\n",
            "Epoch 93/100\n",
            "422/422 [==============================] - 114s 269ms/step - loss: 0.0704 - accuracy: 0.9737\n",
            "Epoch 94/100\n",
            "422/422 [==============================] - 115s 271ms/step - loss: 0.0677 - accuracy: 0.9748\n",
            "Epoch 95/100\n",
            "422/422 [==============================] - 115s 272ms/step - loss: 0.0680 - accuracy: 0.9740\n",
            "Epoch 96/100\n",
            "422/422 [==============================] - 112s 265ms/step - loss: 0.0661 - accuracy: 0.9759\n",
            "Epoch 97/100\n",
            "422/422 [==============================] - 102s 242ms/step - loss: 0.0667 - accuracy: 0.9753\n",
            "Epoch 98/100\n",
            "422/422 [==============================] - 102s 241ms/step - loss: 0.0645 - accuracy: 0.9771\n",
            "Epoch 99/100\n",
            "422/422 [==============================] - 103s 245ms/step - loss: 0.0639 - accuracy: 0.9764\n",
            "Epoch 100/100\n",
            "422/422 [==============================] - 104s 247ms/step - loss: 0.0660 - accuracy: 0.9750\n"
          ],
          "name": "stdout"
        }
      ]
    },
    {
      "cell_type": "code",
      "metadata": {
        "id": "xToowkfEKSeV"
      },
      "source": [
        "#save the model\n",
        "model.save_weights(path+'\\ddi2013-type\\\\DDI_w_studio_2.h5')"
      ],
      "execution_count": 30,
      "outputs": []
    },
    {
      "cell_type": "code",
      "metadata": {
        "id": "ouXacnu3rxOj"
      },
      "source": [
        "#load only the w of the model, the model must be already executed\n",
        "model.load_weights(path+'\\ddi2013-type\\\\DDI_w_studio_2.h5')"
      ],
      "execution_count": null,
      "outputs": []
    },
    {
      "cell_type": "markdown",
      "metadata": {
        "id": "MewUJ5gCPEmC"
      },
      "source": [
        "EVALUATE ALL DATASET"
      ]
    },
    {
      "cell_type": "code",
      "metadata": {
        "id": "-3nWACJzvHyD",
        "colab": {
          "base_uri": "https://localhost:8080/"
        },
        "outputId": "f4a1b5ae-c56a-479f-b613-b492c2a897be"
      },
      "source": [
        "result_base=model.evaluate(embedded_trainset, five_hot_train, batch_size=best_params['batch_size'],)\n",
        "print(f'DATASET ORIGINARIO{result_base}')"
      ],
      "execution_count": 31,
      "outputs": [
        {
          "output_type": "stream",
          "text": [
            "422/422 [==============================] - 22s 52ms/step - loss: 0.0281 - accuracy: 0.9905\n",
            "DATASET ORIGINARIO[0.02805744670331478, 0.9905479550361633]\n"
          ],
          "name": "stdout"
        }
      ]
    },
    {
      "cell_type": "code",
      "metadata": {
        "colab": {
          "base_uri": "https://localhost:8080/"
        },
        "id": "WTieKJ_5UpKo",
        "outputId": "843908d4-939d-4d3d-c920-930f125933de"
      },
      "source": [
        "result_base=model.evaluate(embedded_testset, five_hot_test, batch_size=best_params['batch_size'],)\n",
        "print(f'DATASET TEST{result_base}')"
      ],
      "execution_count": 32,
      "outputs": [
        {
          "output_type": "stream",
          "text": [
            "130/130 [==============================] - 7s 56ms/step - loss: 0.8106 - accuracy: 0.8373\n",
            "DATASET TEST[0.810559868812561, 0.8372678160667419]\n"
          ],
          "name": "stdout"
        }
      ]
    },
    {
      "cell_type": "code",
      "metadata": {
        "id": "gjcdAwqeOi7r",
        "colab": {
          "base_uri": "https://localhost:8080/"
        },
        "outputId": "53606b55-f3c1-44e3-dbb3-81d74f1d50cc"
      },
      "source": [
        "result_base=model.evaluate(embedded_origin, five_hot_orig, batch_size=best_params['batch_size'],)\n",
        "print(f'DATASET TEST{result_base}')"
      ],
      "execution_count": 33,
      "outputs": [
        {
          "output_type": "stream",
          "text": [
            "65/65 [==============================] - 4s 56ms/step - loss: 0.7490 - accuracy: 0.8441\n",
            "DATASET TEST[0.7489575743675232, 0.8441242575645447]\n"
          ],
          "name": "stdout"
        }
      ]
    },
    {
      "cell_type": "code",
      "metadata": {
        "id": "BuaVK__WOjDW",
        "colab": {
          "base_uri": "https://localhost:8080/"
        },
        "outputId": "0ff4c488-0182-4499-f849-8ed634c957f3"
      },
      "source": [
        "result_base=model.evaluate(embedded_sin, five_hot_sin, batch_size=best_params['batch_size'],)\n",
        "print(f'DATASET SINONIMI{result_base}')"
      ],
      "execution_count": 34,
      "outputs": [
        {
          "output_type": "stream",
          "text": [
            "65/65 [==============================] - 4s 55ms/step - loss: 1.0974 - accuracy: 0.8292\n",
            "DATASET SINONIMI[1.0973966121673584, 0.8291963338851929]\n"
          ],
          "name": "stdout"
        }
      ]
    },
    {
      "cell_type": "code",
      "metadata": {
        "id": "_JgLKE2bOjLL",
        "colab": {
          "base_uri": "https://localhost:8080/"
        },
        "outputId": "bdebfc5e-c8f8-4d6b-c161-0f3a949522f9"
      },
      "source": [
        "result_base=model.evaluate(embedded_emb, five_hot_emb, batch_size=best_params['batch_size'],)\n",
        "print(f'DATASET EMBEDDING{result_base}')"
      ],
      "execution_count": 35,
      "outputs": [
        {
          "output_type": "stream",
          "text": [
            "65/65 [==============================] - 4s 55ms/step - loss: 0.8722 - accuracy: 0.8304\n",
            "DATASET EMBEDDING[0.8721619248390198, 0.8304113745689392]\n"
          ],
          "name": "stdout"
        }
      ]
    },
    {
      "cell_type": "markdown",
      "metadata": {
        "id": "iYacQtzVOMBX"
      },
      "source": [
        "tali test sono stati effettuati su windows, eventuali path necessitano di essere adattati, se effettuati su sistema operativo unix like.\n",
        "\n"
      ]
    }
  ]
}