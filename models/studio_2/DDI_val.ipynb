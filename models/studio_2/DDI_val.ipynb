{
 "cells": [
  {
   "cell_type": "code",
   "execution_count": 1,
   "id": "compressed-accreditation",
   "metadata": {
    "ExecuteTime": {
     "end_time": "2021-04-12T18:32:41.803923Z",
     "start_time": "2021-04-12T18:32:38.198060Z"
    }
   },
   "outputs": [],
   "source": [
    "import pickle\n",
    "import pandas as pd\n",
    "import optuna\n",
    "import numpy as np\n",
    "from sklearn.preprocessing import OneHotEncoder\n",
    "from tensorflow import keras\n",
    "from sklearn.utils.class_weight import compute_class_weight"
   ]
  },
  {
   "cell_type": "code",
   "execution_count": 2,
   "id": "solved-affiliate",
   "metadata": {
    "ExecuteTime": {
     "end_time": "2021-04-12T18:32:41.810896Z",
     "start_time": "2021-04-12T18:32:41.807930Z"
    }
   },
   "outputs": [],
   "source": [
    "path=\"../\""
   ]
  },
  {
   "cell_type": "code",
   "execution_count": 3,
   "id": "veterinary-conspiracy",
   "metadata": {
    "ExecuteTime": {
     "end_time": "2021-04-12T18:32:42.097311Z",
     "start_time": "2021-04-12T18:32:41.812986Z"
    }
   },
   "outputs": [],
   "source": [
    "train = pd.concat(objs=[pd.read_csv(path+'ddi2013-type/train.tsv', sep='\\t'),\n",
    "                        pd.read_csv(path+'ddi2013-type/DDI_embedding.csv')],\n",
    "                  ignore_index=True).sample(frac=1)\n",
    "dev = pd.read_csv(path+'ddi2013-type/dev.tsv', sep='\\t')\n",
    "test_org = pd.read_csv(path+'ddi2013-type/test.tsv', sep='\\t')\n",
    "\n",
    "data_sinonimi = pd.read_csv(path+\"ddi2013-type/DDI_sinonimi_test.csv\")\n",
    "data_embedding = pd.read_csv(path+\"ddi2013-type/DDI_embedding_test.csv\")"
   ]
  },
  {
   "cell_type": "code",
   "execution_count": 4,
   "id": "restricted-neutral",
   "metadata": {
    "ExecuteTime": {
     "end_time": "2021-04-12T18:32:42.128749Z",
     "start_time": "2021-04-12T18:32:42.100418Z"
    }
   },
   "outputs": [],
   "source": [
    "test = pd.concat(objs=[pd.read_csv(path+'ddi2013-type/DDI_embedding_test.csv'), test_org],\n",
    "                 ignore_index=True)"
   ]
  },
  {
   "cell_type": "code",
   "execution_count": 5,
   "id": "composed-formation",
   "metadata": {
    "ExecuteTime": {
     "end_time": "2021-04-12T18:32:54.116942Z",
     "start_time": "2021-04-12T18:32:42.131275Z"
    }
   },
   "outputs": [],
   "source": [
    "with open(path+\"word2index.pkl\", 'rb') as output:\n",
    "    w2i = pickle.load(output)\n",
    "with open(path+\"embedding_matrix.pkl\", 'rb') as output:\n",
    "    embedding_matrix = pickle.load(output)"
   ]
  },
  {
   "cell_type": "code",
   "execution_count": 6,
   "id": "alone-highland",
   "metadata": {
    "ExecuteTime": {
     "end_time": "2021-04-12T18:32:54.123568Z",
     "start_time": "2021-04-12T18:32:54.119765Z"
    }
   },
   "outputs": [],
   "source": [
    "categories = [['DDI-false', 'DDI-mechanism', 'DDI-effect', 'DDI-advise','DDI-int']]\n",
    "\n",
    "my_text_to_word_sequence = lambda sen: keras.preprocessing.text.text_to_word_sequence(sen,\n",
    "                                                                                      filters='!\"#&()*+,-./:;<=>?[\\\\]^_`\\'{|}~\\t\\n',\n",
    "                                                                                      lower=True)"
   ]
  },
  {
   "cell_type": "code",
   "execution_count": 7,
   "id": "intensive-aggregate",
   "metadata": {
    "ExecuteTime": {
     "end_time": "2021-04-12T18:32:55.054019Z",
     "start_time": "2021-04-12T18:32:54.125937Z"
    }
   },
   "outputs": [],
   "source": [
    "five_hot_train = OneHotEncoder(sparse=False, categories=categories).fit_transform(\n",
    "  train.label.to_numpy().reshape(-1, 1))\n",
    "\n",
    "sentences_train = [my_text_to_word_sequence(sentence) for sentence in train['sentence']]"
   ]
  },
  {
   "cell_type": "code",
   "execution_count": 8,
   "id": "arctic-feedback",
   "metadata": {
    "ExecuteTime": {
     "end_time": "2021-04-12T18:32:55.174438Z",
     "start_time": "2021-04-12T18:32:55.058124Z"
    }
   },
   "outputs": [],
   "source": [
    "five_hot_dev = OneHotEncoder(sparse=False, categories=categories).fit_transform(\n",
    "  dev.label.to_numpy().reshape(-1, 1))\n",
    "\n",
    "sentences_dev = [my_text_to_word_sequence(sentence) for sentence in dev['sentence']]"
   ]
  },
  {
   "cell_type": "code",
   "execution_count": 9,
   "id": "hybrid-neighbor",
   "metadata": {
    "ExecuteTime": {
     "end_time": "2021-04-12T18:32:55.286559Z",
     "start_time": "2021-04-12T18:32:55.176594Z"
    }
   },
   "outputs": [],
   "source": [
    "five_hot_test_org = OneHotEncoder(sparse=False, categories=categories).fit_transform(\n",
    "  test_org.label.to_numpy().reshape(-1, 1))\n",
    "\n",
    "sentences_test_org = [my_text_to_word_sequence(sentence) for sentence in test_org['sentence']]"
   ]
  },
  {
   "cell_type": "code",
   "execution_count": 10,
   "id": "damaged-disabled",
   "metadata": {
    "ExecuteTime": {
     "end_time": "2021-04-12T18:32:55.526066Z",
     "start_time": "2021-04-12T18:32:55.288915Z"
    }
   },
   "outputs": [],
   "source": [
    "five_hot_test = OneHotEncoder(sparse=False, categories=categories).fit_transform(\n",
    "  test.label.to_numpy().reshape(-1, 1))\n",
    "\n",
    "sentences_test = [my_text_to_word_sequence(sentence) for sentence in test['sentence']]"
   ]
  },
  {
   "cell_type": "code",
   "execution_count": 11,
   "id": "adaptive-completion",
   "metadata": {
    "ExecuteTime": {
     "end_time": "2021-04-12T18:32:55.620858Z",
     "start_time": "2021-04-12T18:32:55.528001Z"
    }
   },
   "outputs": [],
   "source": [
    "five_hot_sin = OneHotEncoder(sparse=False, categories=categories).fit_transform(\n",
    "  data_sinonimi.label.to_numpy().reshape(-1, 1))\n",
    "\n",
    "sentences_sin = [my_text_to_word_sequence(sentence) for sentence in data_sinonimi['sentence']]"
   ]
  },
  {
   "cell_type": "code",
   "execution_count": 12,
   "id": "dangerous-concept",
   "metadata": {
    "ExecuteTime": {
     "end_time": "2021-04-12T18:32:55.730366Z",
     "start_time": "2021-04-12T18:32:55.622934Z"
    }
   },
   "outputs": [],
   "source": [
    "five_hot_emb = OneHotEncoder(sparse=False, categories=categories).fit_transform(\n",
    "  data_embedding.label.to_numpy().reshape(-1, 1))\n",
    "\n",
    "sentences_emb = [my_text_to_word_sequence(sentence) for sentence in data_embedding['sentence']]"
   ]
  },
  {
   "cell_type": "code",
   "execution_count": 13,
   "id": "beginning-shock",
   "metadata": {
    "ExecuteTime": {
     "end_time": "2021-04-12T18:32:55.769386Z",
     "start_time": "2021-04-12T18:32:55.732567Z"
    }
   },
   "outputs": [
    {
     "name": "stdout",
     "output_type": "stream",
     "text": [
      "Il massimo è 92\n"
     ]
    }
   ],
   "source": [
    "max_index, max = (-1, -1)\n",
    "for i, sentence in enumerate(sentences_train):\n",
    "  max_index, max = (i, len(sentence)) if len(sentence) > max else (max_index, max)\n",
    "for i, sentence in enumerate(sentences_dev):\n",
    "  max_index, max = (i, len(sentence)) if len(sentence) > max else (max_index, max)\n",
    "for i, sentence in enumerate(sentences_test):\n",
    "  max_index, max = (i, len(sentence)) if len(sentence) > max else (max_index, max)\n",
    "for i, sentence in enumerate(sentences_sin):\n",
    "  max_index, max = (i, len(sentence)) if len(sentence) > max else (max_index, max)\n",
    "for i, sentence in enumerate(sentences_emb):\n",
    "  max_index, max = (i, len(sentence)) if len(sentence) > max else (max_index, max)\n",
    "  \n",
    "print(f'Il massimo è {max}')"
   ]
  },
  {
   "cell_type": "code",
   "execution_count": 14,
   "id": "integral-uncle",
   "metadata": {
    "ExecuteTime": {
     "end_time": "2021-04-12T18:33:00.380701Z",
     "start_time": "2021-04-12T18:32:55.771836Z"
    }
   },
   "outputs": [],
   "source": [
    "embedded_trainset = np.zeros(shape=(len(sentences_train), max, 300))\n",
    "for i, sentence in enumerate(sentences_train):\n",
    "    for j, word in enumerate(sentence):\n",
    "        try:\n",
    "            embedded_trainset[i, j, :] = embedding_matrix[w2i[word]]\n",
    "        except KeyError:\n",
    "            pass"
   ]
  },
  {
   "cell_type": "code",
   "execution_count": 15,
   "id": "confident-membership",
   "metadata": {
    "ExecuteTime": {
     "end_time": "2021-04-12T18:33:01.412567Z",
     "start_time": "2021-04-12T18:33:00.383500Z"
    }
   },
   "outputs": [],
   "source": [
    "embedded_devset = np.zeros(shape=(len(sentences_dev), max, 300))\n",
    "for i, sentence in enumerate(sentences_dev):\n",
    "    for j, word in enumerate(sentence):\n",
    "        try:\n",
    "            embedded_devset[i, j, :] = embedding_matrix[w2i[word]]\n",
    "        except KeyError:\n",
    "            pass"
   ]
  },
  {
   "cell_type": "code",
   "execution_count": 16,
   "id": "commercial-migration",
   "metadata": {
    "ExecuteTime": {
     "end_time": "2021-04-12T18:33:02.176348Z",
     "start_time": "2021-04-12T18:33:01.414648Z"
    }
   },
   "outputs": [],
   "source": [
    "embedded_testset_org = np.zeros(shape=(len(sentences_test_org), max, 300))\n",
    "for i, sentence in enumerate(sentences_test_org):\n",
    "    for j, word in enumerate(sentence):\n",
    "        try:\n",
    "            embedded_testset_org[i, j, :] = embedding_matrix[w2i[word]]\n",
    "        except KeyError:\n",
    "            pass"
   ]
  },
  {
   "cell_type": "code",
   "execution_count": 17,
   "id": "secondary-reminder",
   "metadata": {
    "ExecuteTime": {
     "end_time": "2021-04-12T18:33:03.717188Z",
     "start_time": "2021-04-12T18:33:02.179208Z"
    }
   },
   "outputs": [],
   "source": [
    "embedded_testset = np.zeros(shape=(len(sentences_test), max, 300))\n",
    "for i, sentence in enumerate(sentences_test):\n",
    "    for j, word in enumerate(sentence):\n",
    "        try:\n",
    "            embedded_testset[i, j, :] = embedding_matrix[w2i[word]]\n",
    "        except KeyError:\n",
    "            pass"
   ]
  },
  {
   "cell_type": "code",
   "execution_count": 18,
   "id": "charitable-police",
   "metadata": {
    "ExecuteTime": {
     "end_time": "2021-04-12T18:33:04.552239Z",
     "start_time": "2021-04-12T18:33:03.719414Z"
    }
   },
   "outputs": [],
   "source": [
    "embedded_sin = np.zeros(shape=(len(sentences_sin), max, 300))\n",
    "for i, sentence in enumerate(sentences_sin):\n",
    "    for j, word in enumerate(sentence):\n",
    "        try:\n",
    "            embedded_sin[i, j, :] = embedding_matrix[w2i[word]]\n",
    "        except KeyError:\n",
    "            pass"
   ]
  },
  {
   "cell_type": "code",
   "execution_count": 19,
   "id": "bibliographic-showcase",
   "metadata": {
    "ExecuteTime": {
     "end_time": "2021-04-12T18:33:05.481878Z",
     "start_time": "2021-04-12T18:33:04.554343Z"
    }
   },
   "outputs": [],
   "source": [
    "embedded_emb = np.zeros(shape=(len(sentences_emb), max, 300))\n",
    "for i, sentence in enumerate(sentences_emb):\n",
    "    for j, word in enumerate(sentence):\n",
    "        try:\n",
    "            embedded_emb[i, j, :] = embedding_matrix[w2i[word]]\n",
    "        except KeyError:\n",
    "            pass"
   ]
  },
  {
   "cell_type": "markdown",
   "id": "stunning-appearance",
   "metadata": {},
   "source": [
    "# Model"
   ]
  },
  {
   "cell_type": "code",
   "execution_count": 20,
   "id": "organizational-correlation",
   "metadata": {
    "ExecuteTime": {
     "end_time": "2021-04-12T18:33:15.820248Z",
     "start_time": "2021-04-12T18:33:15.655348Z"
    }
   },
   "outputs": [],
   "source": [
    "best_params = optuna.load_study(study_name=\"DDI\",\n",
    "                                storage=\"sqlite:///\"+path+\"ddi2013-type/optuna_ddi_studio_0.db\").best_params"
   ]
  },
  {
   "cell_type": "code",
   "execution_count": 22,
   "id": "color-steal",
   "metadata": {
    "ExecuteTime": {
     "end_time": "2021-04-12T16:06:07.873547Z",
     "start_time": "2021-04-12T16:06:07.870403Z"
    }
   },
   "outputs": [
    {
     "name": "stdout",
     "output_type": "stream",
     "text": [
      "{'batch_size': 89, 'dropout': 0.63, 'units': 81}\n"
     ]
    }
   ],
   "source": [
    "print(f'{best_params}')"
   ]
  },
  {
   "cell_type": "code",
   "execution_count": 21,
   "id": "several-joshua",
   "metadata": {
    "ExecuteTime": {
     "end_time": "2021-04-12T18:33:18.955252Z",
     "start_time": "2021-04-12T18:33:18.597499Z"
    }
   },
   "outputs": [],
   "source": [
    "model = keras.Sequential()\n",
    "model.add(keras.layers.Input(shape=(max, 300)))\n",
    "model.add(keras.layers.Bidirectional(layer=keras.layers.LSTM(units=best_params['units'],\n",
    "                                                             recurrent_dropout=best_params['dropout'],\n",
    "                                                             activation='tanh')))\n",
    "\n",
    "model.add(keras.layers.Dense(5, activation='softmax'))\n",
    "model.compile(loss='categorical_crossentropy',\n",
    "              optimizer=keras.optimizers.Adam(learning_rate=0.001),\n",
    "              metrics=['accuracy'])"
   ]
  },
  {
   "cell_type": "code",
   "execution_count": 22,
   "id": "incomplete-academy",
   "metadata": {
    "ExecuteTime": {
     "end_time": "2021-04-12T19:25:59.767171Z",
     "start_time": "2021-04-12T18:33:27.841146Z"
    }
   },
   "outputs": [
    {
     "name": "stdout",
     "output_type": "stream",
     "text": [
      "Epoch 1/100\n",
      "422/422 [==============================] - 82s 184ms/step - loss: 0.6795 - accuracy: 0.8258 - val_loss: 0.4705 - val_accuracy: 0.8622\n",
      "Epoch 2/100\n",
      "422/422 [==============================] - 75s 178ms/step - loss: 0.4752 - accuracy: 0.8416 - val_loss: 0.4276 - val_accuracy: 0.8628\n",
      "Epoch 3/100\n",
      "422/422 [==============================] - 74s 176ms/step - loss: 0.4248 - accuracy: 0.8488 - val_loss: 0.4228 - val_accuracy: 0.8658\n",
      "Epoch 4/100\n",
      "422/422 [==============================] - 74s 175ms/step - loss: 0.4026 - accuracy: 0.8470 - val_loss: 0.4134 - val_accuracy: 0.8647\n",
      "Epoch 5/100\n",
      "422/422 [==============================] - 74s 176ms/step - loss: 0.3746 - accuracy: 0.8520 - val_loss: 0.4133 - val_accuracy: 0.8682\n",
      "Epoch 6/100\n",
      "422/422 [==============================] - 74s 176ms/step - loss: 0.3616 - accuracy: 0.8555 - val_loss: 0.3903 - val_accuracy: 0.8676\n",
      "Epoch 7/100\n",
      "422/422 [==============================] - 74s 175ms/step - loss: 0.3460 - accuracy: 0.8589 - val_loss: 0.4103 - val_accuracy: 0.8689\n",
      "Epoch 8/100\n",
      "422/422 [==============================] - 74s 176ms/step - loss: 0.3313 - accuracy: 0.8647 - val_loss: 0.3942 - val_accuracy: 0.8707\n",
      "Epoch 9/100\n",
      "422/422 [==============================] - 74s 174ms/step - loss: 0.3174 - accuracy: 0.8675 - val_loss: 0.3954 - val_accuracy: 0.8687\n",
      "Epoch 10/100\n",
      "422/422 [==============================] - 74s 176ms/step - loss: 0.2991 - accuracy: 0.8772 - val_loss: 0.3956 - val_accuracy: 0.8673\n",
      "Epoch 11/100\n",
      "422/422 [==============================] - 74s 174ms/step - loss: 0.2951 - accuracy: 0.8772 - val_loss: 0.3871 - val_accuracy: 0.8637\n",
      "Epoch 12/100\n",
      "422/422 [==============================] - 73s 174ms/step - loss: 0.2907 - accuracy: 0.8790 - val_loss: 0.3961 - val_accuracy: 0.8618\n",
      "Epoch 13/100\n",
      "422/422 [==============================] - 74s 175ms/step - loss: 0.2715 - accuracy: 0.8866 - val_loss: 0.4129 - val_accuracy: 0.8660\n",
      "Epoch 14/100\n",
      "422/422 [==============================] - 73s 174ms/step - loss: 0.2686 - accuracy: 0.8910 - val_loss: 0.3997 - val_accuracy: 0.8722\n",
      "Epoch 15/100\n",
      "422/422 [==============================] - 74s 175ms/step - loss: 0.2568 - accuracy: 0.8938 - val_loss: 0.3848 - val_accuracy: 0.8719\n",
      "Epoch 16/100\n",
      "422/422 [==============================] - 73s 173ms/step - loss: 0.2497 - accuracy: 0.8989 - val_loss: 0.4009 - val_accuracy: 0.8679\n",
      "Epoch 17/100\n",
      "422/422 [==============================] - 74s 175ms/step - loss: 0.2402 - accuracy: 0.9013 - val_loss: 0.3905 - val_accuracy: 0.8628\n",
      "Epoch 18/100\n",
      "422/422 [==============================] - 73s 174ms/step - loss: 0.2378 - accuracy: 0.9049 - val_loss: 0.4165 - val_accuracy: 0.8711\n",
      "Epoch 19/100\n",
      "422/422 [==============================] - 73s 173ms/step - loss: 0.2318 - accuracy: 0.9048 - val_loss: 0.4242 - val_accuracy: 0.8657\n",
      "Epoch 20/100\n",
      "422/422 [==============================] - 74s 175ms/step - loss: 0.2262 - accuracy: 0.9072 - val_loss: 0.3930 - val_accuracy: 0.8597\n",
      "Epoch 21/100\n",
      "422/422 [==============================] - 73s 174ms/step - loss: 0.2251 - accuracy: 0.9091 - val_loss: 0.4190 - val_accuracy: 0.8748\n",
      "Epoch 22/100\n",
      "422/422 [==============================] - 74s 174ms/step - loss: 0.2150 - accuracy: 0.9129 - val_loss: 0.3936 - val_accuracy: 0.8665\n",
      "Epoch 23/100\n",
      "422/422 [==============================] - 73s 174ms/step - loss: 0.2160 - accuracy: 0.9090 - val_loss: 0.4121 - val_accuracy: 0.8756\n",
      "Epoch 24/100\n",
      "422/422 [==============================] - 73s 174ms/step - loss: 0.2083 - accuracy: 0.9150 - val_loss: 0.4188 - val_accuracy: 0.8636\n",
      "Epoch 25/100\n",
      "422/422 [==============================] - 62s 148ms/step - loss: 0.2037 - accuracy: 0.9166 - val_loss: 0.4116 - val_accuracy: 0.8759\n",
      "Epoch 26/100\n",
      "422/422 [==============================] - 53s 126ms/step - loss: 0.1966 - accuracy: 0.9197 - val_loss: 0.4199 - val_accuracy: 0.8639\n",
      "Epoch 27/100\n",
      "422/422 [==============================] - 55s 130ms/step - loss: 0.1921 - accuracy: 0.9225 - val_loss: 0.4306 - val_accuracy: 0.8763\n",
      "Epoch 28/100\n",
      "422/422 [==============================] - 65s 155ms/step - loss: 0.1968 - accuracy: 0.9214 - val_loss: 0.4439 - val_accuracy: 0.8695\n",
      "Epoch 29/100\n",
      "422/422 [==============================] - 59s 140ms/step - loss: 0.1879 - accuracy: 0.9240 - val_loss: 0.4366 - val_accuracy: 0.8716\n",
      "Epoch 30/100\n",
      "422/422 [==============================] - 46s 109ms/step - loss: 0.1840 - accuracy: 0.9262 - val_loss: 0.4300 - val_accuracy: 0.8683\n",
      "Epoch 31/100\n",
      "422/422 [==============================] - 38s 90ms/step - loss: 0.1833 - accuracy: 0.9260 - val_loss: 0.4470 - val_accuracy: 0.8734\n",
      "Epoch 32/100\n",
      "422/422 [==============================] - 38s 90ms/step - loss: 0.1774 - accuracy: 0.9295 - val_loss: 0.4473 - val_accuracy: 0.8776\n",
      "Epoch 33/100\n",
      "422/422 [==============================] - 48s 115ms/step - loss: 0.1735 - accuracy: 0.9316 - val_loss: 0.4472 - val_accuracy: 0.8767\n",
      "Epoch 34/100\n",
      "422/422 [==============================] - 48s 113ms/step - loss: 0.1728 - accuracy: 0.9296 - val_loss: 0.4566 - val_accuracy: 0.8759\n",
      "Epoch 35/100\n",
      "422/422 [==============================] - 44s 105ms/step - loss: 0.1667 - accuracy: 0.9336 - val_loss: 0.4838 - val_accuracy: 0.8787\n",
      "Epoch 36/100\n",
      "422/422 [==============================] - 43s 102ms/step - loss: 0.1677 - accuracy: 0.9327 - val_loss: 0.4679 - val_accuracy: 0.8715\n",
      "Epoch 37/100\n",
      "422/422 [==============================] - 40s 95ms/step - loss: 0.1697 - accuracy: 0.9335 - val_loss: 0.4799 - val_accuracy: 0.8798\n",
      "Epoch 38/100\n",
      "422/422 [==============================] - 40s 95ms/step - loss: 0.1547 - accuracy: 0.9385 - val_loss: 0.4854 - val_accuracy: 0.8776\n",
      "Epoch 39/100\n",
      "422/422 [==============================] - 40s 95ms/step - loss: 0.1599 - accuracy: 0.9373 - val_loss: 0.4780 - val_accuracy: 0.8747\n",
      "Epoch 40/100\n",
      "422/422 [==============================] - 40s 95ms/step - loss: 0.1587 - accuracy: 0.9367 - val_loss: 0.4662 - val_accuracy: 0.8764\n",
      "Epoch 41/100\n",
      "422/422 [==============================] - 40s 95ms/step - loss: 0.1546 - accuracy: 0.9410 - val_loss: 0.4802 - val_accuracy: 0.8777\n",
      "Epoch 42/100\n",
      "422/422 [==============================] - 40s 95ms/step - loss: 0.1529 - accuracy: 0.9389 - val_loss: 0.5657 - val_accuracy: 0.7450\n",
      "Epoch 43/100\n",
      "422/422 [==============================] - 40s 95ms/step - loss: 0.1482 - accuracy: 0.9408 - val_loss: 0.4699 - val_accuracy: 0.8756\n",
      "Epoch 44/100\n",
      "422/422 [==============================] - 40s 95ms/step - loss: 0.1444 - accuracy: 0.9429 - val_loss: 0.5177 - val_accuracy: 0.7900\n",
      "Epoch 45/100\n",
      "422/422 [==============================] - 40s 96ms/step - loss: 0.1453 - accuracy: 0.9425 - val_loss: 0.5123 - val_accuracy: 0.8835\n",
      "Epoch 46/100\n",
      "422/422 [==============================] - 40s 95ms/step - loss: 0.1444 - accuracy: 0.9438 - val_loss: 0.4950 - val_accuracy: 0.8766\n",
      "Epoch 47/100\n",
      "422/422 [==============================] - 41s 97ms/step - loss: 0.1446 - accuracy: 0.9453 - val_loss: 0.5352 - val_accuracy: 0.7497\n",
      "Epoch 48/100\n",
      "422/422 [==============================] - 40s 95ms/step - loss: 0.1407 - accuracy: 0.9445 - val_loss: 0.5377 - val_accuracy: 0.7506\n",
      "Epoch 49/100\n",
      "422/422 [==============================] - 40s 96ms/step - loss: 0.1361 - accuracy: 0.9465 - val_loss: 0.5067 - val_accuracy: 0.8690\n",
      "Epoch 50/100\n",
      "422/422 [==============================] - 40s 96ms/step - loss: 0.1359 - accuracy: 0.9473 - val_loss: 0.5043 - val_accuracy: 0.8799\n",
      "Epoch 51/100\n",
      "422/422 [==============================] - 40s 95ms/step - loss: 0.1343 - accuracy: 0.9483 - val_loss: 0.5104 - val_accuracy: 0.8770\n",
      "Epoch 52/100\n",
      "422/422 [==============================] - 40s 96ms/step - loss: 0.1320 - accuracy: 0.9495 - val_loss: 0.4849 - val_accuracy: 0.8829\n",
      "Epoch 53/100\n",
      "422/422 [==============================] - 40s 95ms/step - loss: 0.1310 - accuracy: 0.9497 - val_loss: 0.5388 - val_accuracy: 0.7463\n",
      "Epoch 54/100\n",
      "422/422 [==============================] - 40s 95ms/step - loss: 0.1240 - accuracy: 0.9533 - val_loss: 0.5116 - val_accuracy: 0.8766\n",
      "Epoch 55/100\n",
      "422/422 [==============================] - 40s 94ms/step - loss: 0.1240 - accuracy: 0.9519 - val_loss: 0.5326 - val_accuracy: 0.7483\n"
     ]
    }
   ],
   "source": [
    "result = model.fit(embedded_trainset,\n",
    "                   five_hot_train,\n",
    "                   validation_data=(embedded_devset, five_hot_dev),\n",
    "                   epochs=100,\n",
    "                   batch_size=best_params['batch_size'],\n",
    "                   callbacks=[keras.callbacks.EarlyStopping(monitor='val_accuracy',\n",
    "                                                            patience=10,\n",
    "                                                            restore_best_weights=True)])"
   ]
  },
  {
   "cell_type": "code",
   "execution_count": 23,
   "id": "super-split",
   "metadata": {
    "ExecuteTime": {
     "end_time": "2021-04-12T19:26:14.653406Z",
     "start_time": "2021-04-12T19:26:14.634187Z"
    }
   },
   "outputs": [],
   "source": [
    "model.save_weights('DDI2_005.h5')"
   ]
  },
  {
   "cell_type": "markdown",
   "id": "focused-locator",
   "metadata": {},
   "source": [
    "# EVALUATION"
   ]
  },
  {
   "cell_type": "code",
   "execution_count": 24,
   "id": "lined-floor",
   "metadata": {
    "ExecuteTime": {
     "end_time": "2021-04-12T19:26:17.665691Z",
     "start_time": "2021-04-12T19:26:17.652513Z"
    }
   },
   "outputs": [],
   "source": [
    "def print_confusionMatrix_fscore(prediction, hot_encoding):\n",
    "    cm = confusion_matrix(hot_encoding.argmax(axis=1), prediction.argmax(axis=1))\n",
    "    fscore = f1_score(y_true=hot_encoding.argmax(axis=1),\n",
    "                      y_pred=prediction.argmax(axis=1),\n",
    "                      average=None)\n",
    "\n",
    "    print('Confusion Matrix:\\n\\t\\tDDI-false\\tDDI-mechanism\\tDDI-effect\\tDDI-advise\\tDDI-int')\n",
    "    print(f'DDI-false\\t{cm[0][0]}\\t\\t{cm[0][1]}\\t\\t{cm[0][2]}\\t\\t{cm[0][3]}\\t\\t{cm[0][4]}')\n",
    "    print(f'DDI-mechanism\\t{cm[1][0]}\\t\\t{cm[1][1]}\\t\\t{cm[1][2]}\\t\\t{cm[1][3]}\\t\\t{cm[1][4]}')\n",
    "    print(f'DDI-effect\\t{cm[2][0]}\\t\\t{cm[2][1]}\\t\\t{cm[2][2]}\\t\\t{cm[2][3]}\\t\\t{cm[2][4]}')\n",
    "    print(f'DDI-advise\\t{cm[3][0]}\\t\\t{cm[3][1]}\\t\\t{cm[3][2]}\\t\\t{cm[3][3]}\\t\\t{cm[3][4]}')\n",
    "    print(f'DDI-int\\t\\t{cm[4][0]}\\t\\t{cm[4][1]}\\t\\t{cm[4][2]}\\t\\t{cm[4][3]}\\t\\t{cm[4][4]}')\n",
    "\n",
    "    zipped_fscore = zip(['DDI-false', 'DDI-mechanism', 'DDI-effect', 'DDI-advise','DDI-int'], fscore)\n",
    "    print('\\n\\nFSCORE:')\n",
    "    for nm, val in zipped_fscore:\n",
    "        print(f'{nm}: {val}')"
   ]
  },
  {
   "cell_type": "code",
   "execution_count": 25,
   "id": "brazilian-stream",
   "metadata": {
    "ExecuteTime": {
     "end_time": "2021-04-12T19:26:19.549012Z",
     "start_time": "2021-04-12T19:26:19.546019Z"
    }
   },
   "outputs": [],
   "source": [
    "from sklearn.metrics import confusion_matrix, f1_score"
   ]
  },
  {
   "cell_type": "markdown",
   "id": "atmospheric-magnet",
   "metadata": {},
   "source": [
    "## DATASET ORIGINARIO"
   ]
  },
  {
   "cell_type": "code",
   "execution_count": 26,
   "id": "literary-ireland",
   "metadata": {
    "ExecuteTime": {
     "end_time": "2021-04-12T19:26:45.570349Z",
     "start_time": "2021-04-12T19:26:27.607214Z"
    }
   },
   "outputs": [
    {
     "name": "stdout",
     "output_type": "stream",
     "text": [
      "422/422 [==============================] - 12s 28ms/step - loss: 0.1046 - accuracy: 0.9602\n",
      "DATASET ORIGINARIO[0.1046377643942833, 0.9601683020591736]\n"
     ]
    }
   ],
   "source": [
    "result_base=model.evaluate(embedded_trainset, five_hot_train, batch_size=best_params['batch_size'])\n",
    "print(f'DATASET ORIGINARIO{result_base}')"
   ]
  },
  {
   "cell_type": "code",
   "execution_count": 27,
   "id": "broke-mistake",
   "metadata": {
    "ExecuteTime": {
     "end_time": "2021-04-12T19:27:08.028562Z",
     "start_time": "2021-04-12T19:26:49.855853Z"
    }
   },
   "outputs": [
    {
     "name": "stdout",
     "output_type": "stream",
     "text": [
      "Confusion Matrix:\n",
      "\t\tDDI-false\tDDI-mechanism\tDDI-effect\tDDI-advise\tDDI-int\n",
      "DDI-false\t31212\t\t164\t\t222\t\t71\t\t15\n",
      "DDI-mechanism\t293\t\t1595\t\t1\t\t3\t\t0\n",
      "DDI-effect\t367\t\t11\t\t2037\t\t6\t\t3\n",
      "DDI-advise\t259\t\t0\t\t4\t\t1003\t\t0\n",
      "DDI-int\t\t75\t\t0\t\t2\t\t0\t\t215\n",
      "\n",
      "\n",
      "FSCORE:\n",
      "DDI-false: 0.97705431209892\n",
      "DDI-mechanism: 0.8711086837793555\n",
      "DDI-effect: 0.8686567164179104\n",
      "DDI-advise: 0.8539804171988081\n",
      "DDI-int: 0.8190476190476189\n"
     ]
    }
   ],
   "source": [
    "pred = model.predict(embedded_trainset, batch_size=best_params['batch_size'])\n",
    "\n",
    "print_confusionMatrix_fscore(prediction=pred, hot_encoding=five_hot_train)"
   ]
  },
  {
   "cell_type": "markdown",
   "id": "close-compact",
   "metadata": {},
   "source": [
    "## TESTSET"
   ]
  },
  {
   "cell_type": "code",
   "execution_count": 28,
   "id": "tutorial-liberia",
   "metadata": {
    "ExecuteTime": {
     "end_time": "2021-04-12T19:27:18.139217Z",
     "start_time": "2021-04-12T19:27:12.363744Z"
    }
   },
   "outputs": [
    {
     "name": "stdout",
     "output_type": "stream",
     "text": [
      "130/130 [==============================] - 4s 28ms/step - loss: 0.6875 - accuracy: 0.8290\n",
      "DATASET TEST[0.687524676322937, 0.8290227651596069]\n"
     ]
    }
   ],
   "source": [
    "result_base=model.evaluate(embedded_testset, five_hot_test, batch_size=best_params['batch_size'])\n",
    "print(f'DATASET TEST{result_base}')"
   ]
  },
  {
   "cell_type": "code",
   "execution_count": 29,
   "id": "hawaiian-polls",
   "metadata": {
    "ExecuteTime": {
     "end_time": "2021-04-12T19:27:27.043928Z",
     "start_time": "2021-04-12T19:27:21.273880Z"
    }
   },
   "outputs": [
    {
     "name": "stdout",
     "output_type": "stream",
     "text": [
      "Confusion Matrix:\n",
      "\t\tDDI-false\tDDI-mechanism\tDDI-effect\tDDI-advise\tDDI-int\n",
      "DDI-false\t8820\t\t328\t\t284\t\t116\t\t16\n",
      "DDI-mechanism\t351\t\t231\t\t22\t\t0\t\t0\n",
      "DDI-effect\t384\t\t10\t\t315\t\t11\t\t0\n",
      "DDI-advise\t251\t\t2\t\t5\t\t183\t\t1\n",
      "DDI-int\t\t158\t\t1\t\t30\t\t0\t\t3\n",
      "\n",
      "\n",
      "FSCORE:\n",
      "DDI-false: 0.9033183121671446\n",
      "DDI-mechanism: 0.39285714285714285\n",
      "DDI-effect: 0.4578488372093023\n",
      "DDI-advise: 0.4867021276595745\n",
      "DDI-int: 0.02830188679245283\n"
     ]
    }
   ],
   "source": [
    "pred = model.predict(embedded_testset, batch_size=best_params['batch_size'])\n",
    "\n",
    "print_confusionMatrix_fscore(prediction=pred, hot_encoding=five_hot_test)"
   ]
  },
  {
   "cell_type": "markdown",
   "id": "mounted-belize",
   "metadata": {},
   "source": [
    "## TESTSET ORIGINARIO"
   ]
  },
  {
   "cell_type": "code",
   "execution_count": 30,
   "id": "decimal-maker",
   "metadata": {
    "ExecuteTime": {
     "end_time": "2021-04-12T19:27:34.663277Z",
     "start_time": "2021-04-12T19:27:31.649498Z"
    }
   },
   "outputs": [
    {
     "name": "stdout",
     "output_type": "stream",
     "text": [
      "65/65 [==============================] - 2s 28ms/step - loss: 0.6538 - accuracy: 0.8315\n",
      "DATASET TEST[0.6538183689117432, 0.8314528465270996]\n"
     ]
    }
   ],
   "source": [
    "result_base=model.evaluate(embedded_testset_org, five_hot_test_org, batch_size=best_params['batch_size'],)\n",
    "print(f'DATASET TEST{result_base}')"
   ]
  },
  {
   "cell_type": "code",
   "execution_count": 31,
   "id": "arctic-watson",
   "metadata": {
    "ExecuteTime": {
     "end_time": "2021-04-12T19:27:39.414223Z",
     "start_time": "2021-04-12T19:27:36.614120Z"
    }
   },
   "outputs": [
    {
     "name": "stdout",
     "output_type": "stream",
     "text": [
      "Confusion Matrix:\n",
      "\t\tDDI-false\tDDI-mechanism\tDDI-effect\tDDI-advise\tDDI-int\n",
      "DDI-false\t4413\t\t158\t\t152\t\t52\t\t7\n",
      "DDI-mechanism\t176\t\t114\t\t12\t\t0\t\t0\n",
      "DDI-effect\t185\t\t3\t\t167\t\t5\t\t0\n",
      "DDI-advise\t125\t\t0\t\t2\t\t94\t\t0\n",
      "DDI-int\t\t78\t\t1\t\t15\t\t0\t\t2\n",
      "\n",
      "\n",
      "FSCORE:\n",
      "DDI-false: 0.9043959422071934\n",
      "DDI-mechanism: 0.3944636678200692\n",
      "DDI-effect: 0.4717514124293785\n",
      "DDI-advise: 0.5053763440860215\n",
      "DDI-int: 0.03809523809523809\n"
     ]
    }
   ],
   "source": [
    "pred = model.predict(embedded_testset_org, batch_size=best_params['batch_size'])\n",
    "\n",
    "print_confusionMatrix_fscore(prediction=pred, hot_encoding=five_hot_test_org)"
   ]
  },
  {
   "cell_type": "markdown",
   "id": "otherwise-skill",
   "metadata": {},
   "source": [
    "## DATASET SINONIMI"
   ]
  },
  {
   "cell_type": "code",
   "execution_count": 32,
   "id": "insured-gather",
   "metadata": {
    "ExecuteTime": {
     "end_time": "2021-04-12T19:27:47.015360Z",
     "start_time": "2021-04-12T19:27:44.112383Z"
    }
   },
   "outputs": [
    {
     "name": "stdout",
     "output_type": "stream",
     "text": [
      "65/65 [==============================] - 2s 28ms/step - loss: 0.8165 - accuracy: 0.8301\n",
      "DATASET SINONIMI[0.8164849877357483, 0.8300642371177673]\n"
     ]
    }
   ],
   "source": [
    "result_base=model.evaluate(embedded_sin, five_hot_sin, batch_size=best_params['batch_size'],)\n",
    "print(f'DATASET SINONIMI{result_base}')"
   ]
  },
  {
   "cell_type": "code",
   "execution_count": 33,
   "id": "stopped-bahamas",
   "metadata": {
    "ExecuteTime": {
     "end_time": "2021-04-12T19:27:55.934542Z",
     "start_time": "2021-04-12T19:27:53.014973Z"
    }
   },
   "outputs": [
    {
     "name": "stdout",
     "output_type": "stream",
     "text": [
      "Confusion Matrix:\n",
      "\t\tDDI-false\tDDI-mechanism\tDDI-effect\tDDI-advise\tDDI-int\n",
      "DDI-false\t4566\t\t64\t\t91\t\t53\t\t8\n",
      "DDI-mechanism\t231\t\t56\t\t14\t\t1\t\t0\n",
      "DDI-effect\t258\t\t2\t\t91\t\t8\t\t1\n",
      "DDI-advise\t144\t\t3\t\t5\t\t69\t\t0\n",
      "DDI-int\t\t83\t\t2\t\t11\t\t0\t\t0\n",
      "\n",
      "\n",
      "FSCORE:\n",
      "DDI-false: 0.9073926868044515\n",
      "DDI-mechanism: 0.2610722610722611\n",
      "DDI-effect: 0.3181818181818182\n",
      "DDI-advise: 0.39204545454545453\n",
      "DDI-int: 0.0\n"
     ]
    }
   ],
   "source": [
    "pred = model.predict(embedded_sin, batch_size=best_params['batch_size'])\n",
    "\n",
    "print_confusionMatrix_fscore(prediction=pred, hot_encoding=five_hot_sin)"
   ]
  },
  {
   "cell_type": "markdown",
   "id": "original-sword",
   "metadata": {},
   "source": [
    "## DATASET EMBEDDING"
   ]
  },
  {
   "cell_type": "code",
   "execution_count": 34,
   "id": "engaged-eight",
   "metadata": {
    "ExecuteTime": {
     "end_time": "2021-04-12T19:28:04.138678Z",
     "start_time": "2021-04-12T19:28:00.706866Z"
    }
   },
   "outputs": [
    {
     "name": "stdout",
     "output_type": "stream",
     "text": [
      "65/65 [==============================] - 2s 28ms/step - loss: 0.7212 - accuracy: 0.8266\n",
      "DATASET SINONIMI[0.7212309241294861, 0.8265926241874695]\n"
     ]
    }
   ],
   "source": [
    "result_base=model.evaluate(embedded_emb, five_hot_emb, batch_size=best_params['batch_size'],)\n",
    "print(f'DATASET SINONIMI{result_base}')"
   ]
  },
  {
   "cell_type": "code",
   "execution_count": 35,
   "id": "burning-lunch",
   "metadata": {
    "ExecuteTime": {
     "end_time": "2021-04-12T19:28:09.197320Z",
     "start_time": "2021-04-12T19:28:06.603455Z"
    }
   },
   "outputs": [
    {
     "name": "stdout",
     "output_type": "stream",
     "text": [
      "Confusion Matrix:\n",
      "\t\tDDI-false\tDDI-mechanism\tDDI-effect\tDDI-advise\tDDI-int\n",
      "DDI-false\t4407\t\t170\t\t132\t\t64\t\t9\n",
      "DDI-mechanism\t175\t\t117\t\t10\t\t0\t\t0\n",
      "DDI-effect\t199\t\t7\t\t148\t\t6\t\t0\n",
      "DDI-advise\t126\t\t2\t\t3\t\t89\t\t1\n",
      "DDI-int\t\t80\t\t0\t\t15\t\t0\t\t1\n",
      "\n",
      "\n",
      "FSCORE:\n",
      "DDI-false: 0.9022417852390214\n",
      "DDI-mechanism: 0.3913043478260869\n",
      "DDI-effect: 0.4431137724550898\n",
      "DDI-advise: 0.46842105263157896\n",
      "DDI-int: 0.018691588785046728\n"
     ]
    }
   ],
   "source": [
    "pred = model.predict(embedded_emb, batch_size=best_params['batch_size'])\n",
    "\n",
    "print_confusionMatrix_fscore(prediction=pred, hot_encoding=five_hot_emb)"
   ]
  }
 ],
 "metadata": {
  "kernelspec": {
   "display_name": "Python 3",
   "language": "python",
   "name": "python3"
  },
  "language_info": {
   "codemirror_mode": {
    "name": "ipython",
    "version": 3
   },
   "file_extension": ".py",
   "mimetype": "text/x-python",
   "name": "python",
   "nbconvert_exporter": "python",
   "pygments_lexer": "ipython3",
   "version": "3.7.6"
  },
  "toc": {
   "base_numbering": 1,
   "nav_menu": {},
   "number_sections": true,
   "sideBar": true,
   "skip_h1_title": false,
   "title_cell": "Table of Contents",
   "title_sidebar": "Contents",
   "toc_cell": false,
   "toc_position": {},
   "toc_section_display": true,
   "toc_window_display": false
  }
 },
 "nbformat": 4,
 "nbformat_minor": 5
}
