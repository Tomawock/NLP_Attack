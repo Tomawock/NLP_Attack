{
  "nbformat": 4,
  "nbformat_minor": 0,
  "metadata": {
    "colab": {
      "name": "DDI.ipynb",
      "provenance": [],
      "collapsed_sections": [],
      "include_colab_link": true
    },
    "kernelspec": {
      "name": "python3",
      "display_name": "Python 3"
    },
    "accelerator": "TPU"
  },
  "cells": [
    {
      "cell_type": "markdown",
      "metadata": {
        "id": "view-in-github",
        "colab_type": "text"
      },
      "source": [
        "<a href=\"https://colab.research.google.com/github/Tomawock/NLP_Attack/blob/main/models/studio_0/DDI.ipynb\" target=\"_parent\"><img src=\"https://colab.research.google.com/assets/colab-badge.svg\" alt=\"Open In Colab\"/></a>"
      ]
    },
    {
      "cell_type": "code",
      "metadata": {
        "id": "QiMkeY5Y_NZv"
      },
      "source": [
        "from google.colab import drive\n",
        "drive.mount('/content/drive')"
      ],
      "execution_count": null,
      "outputs": []
    },
    {
      "cell_type": "code",
      "metadata": {
        "id": "f2dWPRRvBrOU"
      },
      "source": [
        "!pip install optuna"
      ],
      "execution_count": null,
      "outputs": []
    },
    {
      "cell_type": "code",
      "metadata": {
        "id": "mAgxUDSD-0pM"
      },
      "source": [
        "import pickle\n",
        "import pandas as pd\n",
        "import optuna\n",
        "import numpy as np\n",
        "from sklearn.preprocessing import OneHotEncoder\n",
        "from tensorflow import keras\n",
        "from sklearn.utils.class_weight import compute_class_weight"
      ],
      "execution_count": 1,
      "outputs": []
    },
    {
      "cell_type": "code",
      "metadata": {
        "id": "D_Jt8EmX-IBe"
      },
      "source": [
        "path=\"/content/drive/Shareddrives/Deep Learning/datasets/DDI/\""
      ],
      "execution_count": 2,
      "outputs": []
    },
    {
      "cell_type": "code",
      "metadata": {
        "id": "Dm8p2lwD_F5T"
      },
      "source": [
        "dev = pd.read_csv(path+'ddi2013-type/dev.tsv', sep='\\t')\n",
        "test = pd.read_csv(path+'ddi2013-type/test.tsv', sep='\\t')\n",
        "train = pd.read_csv(path+'ddi2013-type/train.tsv', sep='\\t')\n",
        "\n",
        "data_sinonimi = pd.read_csv(path+\"ddi2013-type/DDI_sinonimi_test.csv\")\n",
        "data_embedding = pd.read_csv(path+\"ddi2013-type/DDI_embedding_test.csv\")"
      ],
      "execution_count": 3,
      "outputs": []
    },
    {
      "cell_type": "code",
      "metadata": {
        "id": "KdpEzJH3AAwb"
      },
      "source": [
        "print(train.shape)\n",
        "print(data_sinonimi.shape)\n",
        "print(data_embedding.shape)"
      ],
      "execution_count": null,
      "outputs": []
    },
    {
      "cell_type": "code",
      "metadata": {
        "id": "WxqcDbYlANrk"
      },
      "source": [
        "print(train.label.value_counts())\n",
        "print(data_sinonimi.label.value_counts())\n",
        "print(data_embedding.label.value_counts())"
      ],
      "execution_count": null,
      "outputs": []
    },
    {
      "cell_type": "code",
      "metadata": {
        "id": "Mx5Dywe8E8gx"
      },
      "source": [
        "with open(path+\"word2index.pkl\", 'rb') as output:\n",
        "  w2i = pickle.load(output)\n",
        "with open(path+\"embedding_matrix.pkl\", 'rb') as output:\n",
        "  embedding_matrix = pickle.load(output)"
      ],
      "execution_count": 4,
      "outputs": []
    },
    {
      "cell_type": "markdown",
      "metadata": {
        "id": "vv-nI15mvf4N"
      },
      "source": [
        "Set up per allenamento Modello"
      ]
    },
    {
      "cell_type": "code",
      "metadata": {
        "id": "jUcRaXI_5f5i"
      },
      "source": [
        "categories = [['DDI-false', 'DDI-mechanism', 'DDI-effect', 'DDI-advise','DDI-int']]\n",
        "\n",
        "my_text_to_word_sequence = lambda sen: keras.preprocessing.text.text_to_word_sequence(sen,\n",
        "                                                                                      filters='!\"#&()*+,-./:;<=>?[\\\\]^_`\\'{|}~\\t\\n',\n",
        "                                                                                      lower=True)"
      ],
      "execution_count": 5,
      "outputs": []
    },
    {
      "cell_type": "markdown",
      "metadata": {
        "id": "iQ_NP5DJ5iDf"
      },
      "source": [
        "TRAINSET"
      ]
    },
    {
      "cell_type": "code",
      "metadata": {
        "id": "5AQtVajZE_Nv"
      },
      "source": [
        "five_hot_train = OneHotEncoder(sparse=False, categories=categories).fit_transform(\n",
        "  train.label.to_numpy().reshape(-1, 1)\n",
        ")"
      ],
      "execution_count": 14,
      "outputs": []
    },
    {
      "cell_type": "code",
      "metadata": {
        "id": "HJ7yUd9tFEV6"
      },
      "source": [
        "sentences_train = [my_text_to_word_sequence(sentence) for sentence in train['sentence']]"
      ],
      "execution_count": 15,
      "outputs": []
    },
    {
      "cell_type": "markdown",
      "metadata": {
        "id": "vpyi_R0QM9yO"
      },
      "source": [
        "TESTSET"
      ]
    },
    {
      "cell_type": "code",
      "metadata": {
        "id": "I_bOaNrp5-9b"
      },
      "source": [
        "five_hot_test = OneHotEncoder(sparse=False, categories=categories).fit_transform(\n",
        "  test.label.to_numpy().reshape(-1, 1)\n",
        ")"
      ],
      "execution_count": 6,
      "outputs": []
    },
    {
      "cell_type": "code",
      "metadata": {
        "id": "HtLEyoQX6BME"
      },
      "source": [
        "sentences_test = [my_text_to_word_sequence(sentence) for sentence in test['sentence']]"
      ],
      "execution_count": 7,
      "outputs": []
    },
    {
      "cell_type": "markdown",
      "metadata": {
        "id": "tP9Ku4JjM_4D"
      },
      "source": [
        "SINONIMI"
      ]
    },
    {
      "cell_type": "code",
      "metadata": {
        "id": "F46YcI6F6DEP"
      },
      "source": [
        "five_hot_sin = OneHotEncoder(sparse=False, categories=categories).fit_transform(\n",
        "  data_sinonimi.label.to_numpy().reshape(-1, 1)\n",
        ")"
      ],
      "execution_count": 12,
      "outputs": []
    },
    {
      "cell_type": "code",
      "metadata": {
        "id": "oPjA_DfR6DWX"
      },
      "source": [
        "sentences_sin = [my_text_to_word_sequence(sentence) for sentence in data_sinonimi['sentence']]"
      ],
      "execution_count": 13,
      "outputs": []
    },
    {
      "cell_type": "markdown",
      "metadata": {
        "id": "Zw5TZ84dNdNs"
      },
      "source": [
        "EMBEDDING"
      ]
    },
    {
      "cell_type": "code",
      "metadata": {
        "id": "IwCdjTJ-6K6x"
      },
      "source": [
        "five_hot_emb = OneHotEncoder(sparse=False, categories=categories).fit_transform(\n",
        "  data_embedding.label.to_numpy().reshape(-1, 1)\n",
        ")"
      ],
      "execution_count": 10,
      "outputs": []
    },
    {
      "cell_type": "code",
      "metadata": {
        "id": "HOzh1rcV6LEl"
      },
      "source": [
        "sentences_emb = [my_text_to_word_sequence(sentence) for sentence in data_embedding['sentence']]"
      ],
      "execution_count": 11,
      "outputs": []
    },
    {
      "cell_type": "markdown",
      "metadata": {
        "id": "ZBbI74mh5Vs_"
      },
      "source": [
        "Estrai la massima dimensione dell'input in base ai vari dataset considerati"
      ]
    },
    {
      "cell_type": "code",
      "metadata": {
        "id": "IP3eoSK35U8J",
        "colab": {
          "base_uri": "https://localhost:8080/"
        },
        "outputId": "5dc38525-b447-4481-e4b5-7f055b79aced"
      },
      "source": [
        "max_index, max = (-1, -1)\n",
        "for i, sentence in enumerate(sentences_train):\n",
        "  max_index, max = (i, len(sentence)) if len(sentence) > max else (max_index, max)\n",
        "for i, sentence in enumerate(sentences_test):\n",
        "  max_index, max = (i, len(sentence)) if len(sentence) > max else (max_index, max)\n",
        "for i, sentence in enumerate(sentences_sin):\n",
        "  max_index, max = (i, len(sentence)) if len(sentence) > max else (max_index, max)\n",
        "for i, sentence in enumerate(sentences_emb):\n",
        "  max_index, max = (i, len(sentence)) if len(sentence) > max else (max_index, max)\n",
        "  \n",
        "print(f'Il massimo è {max}')"
      ],
      "execution_count": 17,
      "outputs": [
        {
          "output_type": "stream",
          "text": [
            "Il massimo è 92\n"
          ],
          "name": "stdout"
        }
      ]
    },
    {
      "cell_type": "markdown",
      "metadata": {
        "id": "VmEM1DpJEGtd"
      },
      "source": [
        "Crao i vari embedding per tutti i dataset, quest'operazione e pesante "
      ]
    },
    {
      "cell_type": "code",
      "metadata": {
        "id": "jU4vzy2XFMNw"
      },
      "source": [
        "embedded_trainset = np.zeros(shape=(len(sentences_train), max, 300))\n",
        "for i, sentence in enumerate(sentences_train):\n",
        "  for j, word in enumerate(sentence):\n",
        "    try:\n",
        "      embedded_trainset[i, j, :] = embedding_matrix[w2i[word]]\n",
        "    except KeyError:\n",
        "      pass"
      ],
      "execution_count": null,
      "outputs": []
    },
    {
      "cell_type": "code",
      "metadata": {
        "id": "LzIOhX8XMGS8"
      },
      "source": [
        "embedded_testset = np.zeros(shape=(len(sentences_test), max, 300))\n",
        "for i, sentence in enumerate(sentences_test):\n",
        "  for j, word in enumerate(sentence):\n",
        "    try:\n",
        "      embedded_testset[i, j, :] = embedding_matrix[w2i[word]]\n",
        "    except KeyError:\n",
        "      pass"
      ],
      "execution_count": 18,
      "outputs": []
    },
    {
      "cell_type": "code",
      "metadata": {
        "id": "d-G-eEVMM_gB"
      },
      "source": [
        "embedded_sin = np.zeros(shape=(len(sentences_sin), max, 300))\n",
        "for i, sentence in enumerate(sentences_sin):\n",
        "  for j, word in enumerate(sentence):\n",
        "    try:\n",
        "      embedded_sin[i, j, :] = embedding_matrix[w2i[word]]\n",
        "    except KeyError:\n",
        "      pass"
      ],
      "execution_count": 20,
      "outputs": []
    },
    {
      "cell_type": "code",
      "metadata": {
        "id": "LR8cp_siNfYB"
      },
      "source": [
        "embedded_emb = np.zeros(shape=(len(sentences_emb), max, 300))\n",
        "for i, sentence in enumerate(sentences_emb):\n",
        "  for j, word in enumerate(sentence):\n",
        "    try:\n",
        "      embedded_emb[i, j, :] = embedding_matrix[w2i[word]]\n",
        "    except KeyError:\n",
        "      pass"
      ],
      "execution_count": 21,
      "outputs": []
    },
    {
      "cell_type": "markdown",
      "metadata": {
        "id": "xG87uMvKvm0L"
      },
      "source": [
        "Carica optuna results e inizializza il modello, oppure salva il modello oppure carica solo i pesi del modello "
      ]
    },
    {
      "cell_type": "code",
      "metadata": {
        "id": "b16mA7IuBRrK"
      },
      "source": [
        "best_params = optuna.load_study(study_name=\"DDI\", storage=\"sqlite:///\"+path+\"ddi2013-type/optuna_ddi_studio_0.db\").best_params"
      ],
      "execution_count": 19,
      "outputs": []
    },
    {
      "cell_type": "code",
      "metadata": {
        "id": "sMwRMnYDCMSl",
        "colab": {
          "base_uri": "https://localhost:8080/"
        },
        "outputId": "19bff8c8-4876-4c50-d0aa-05220e6706c5"
      },
      "source": [
        "print(f'{best_params}')"
      ],
      "execution_count": null,
      "outputs": [
        {
          "output_type": "stream",
          "text": [
            "{'batch_size': 89, 'dropout': 0.63, 'units': 81}\n"
          ],
          "name": "stdout"
        }
      ]
    },
    {
      "cell_type": "code",
      "metadata": {
        "id": "QVMfBNRxCuy6"
      },
      "source": [
        "model = keras.Sequential()\n",
        "model.add(keras.layers.Input(shape=(max, 300)))\n",
        "model.add(keras.layers.Bidirectional(layer=keras.layers.LSTM(units=best_params['units'],\n",
        "                                                             recurrent_dropout=best_params['dropout'],\n",
        "                                                             activation='tanh')))\n",
        "\n",
        "model.add(keras.layers.Dense(5, activation='softmax'))\n",
        "model.compile(loss='categorical_crossentropy',\n",
        "              optimizer=keras.optimizers.Adam(learning_rate=0.001),\n",
        "              metrics=['accuracy'])"
      ],
      "execution_count": 20,
      "outputs": []
    },
    {
      "cell_type": "code",
      "metadata": {
        "id": "jxDADamsukZM"
      },
      "source": [
        "#train the model\n",
        "result = model.fit(embedded_trainset,\n",
        "                   five_hot_train,\n",
        "                   epochs=100,\n",
        "                   batch_size=best_params['batch_size'],\n",
        "                   callbacks=[keras.callbacks.EarlyStopping(monitor='loss',\n",
        "                                                            patience=10)])"
      ],
      "execution_count": null,
      "outputs": []
    },
    {
      "cell_type": "code",
      "metadata": {
        "id": "xToowkfEKSeV"
      },
      "source": [
        "#save the model\n",
        "model.save_weights(path+'ddi2013-type/DDI_w_studio_0.h5')"
      ],
      "execution_count": null,
      "outputs": []
    },
    {
      "cell_type": "code",
      "metadata": {
        "id": "ouXacnu3rxOj"
      },
      "source": [
        "#load only the w of the model, the model must be already executed\n",
        "model.load_weights(path+'ddi2013-type/DDI_w_studio_0.h5')"
      ],
      "execution_count": 21,
      "outputs": []
    },
    {
      "cell_type": "markdown",
      "metadata": {
        "id": "MewUJ5gCPEmC"
      },
      "source": [
        "EVALUATE ALL DATASET"
      ]
    },
    {
      "cell_type": "code",
      "metadata": {
        "id": "-3nWACJzvHyD"
      },
      "source": [
        "result_base=model.evaluate(embedded_trainset, five_hot_train, batch_size=best_params['batch_size'],)\n",
        "print(f'DATASET ORIGINARIO{result_base}')"
      ],
      "execution_count": null,
      "outputs": []
    },
    {
      "cell_type": "markdown",
      "metadata": {
        "id": "ZbklEmZvYe8j"
      },
      "source": [
        "211/211 [==============================] - 8s 27ms/step - loss: 0.0788 - accuracy: 0.9739 </br>\n",
        "DATASET ORIGINARIO[0.0771881714463234, 0.975557804107666]"
      ]
    },
    {
      "cell_type": "code",
      "metadata": {
        "id": "gjcdAwqeOi7r",
        "outputId": "057fc74c-da0f-4054-ad86-c3a72161fd8a",
        "colab": {
          "base_uri": "https://localhost:8080/"
        }
      },
      "source": [
        "result_base=model.evaluate(embedded_testset, five_hot_test, batch_size=best_params['batch_size'],)\n",
        "print(f'DATASET TEST{result_base}')"
      ],
      "execution_count": 22,
      "outputs": [
        {
          "output_type": "stream",
          "text": [
            "65/65 [==============================] - 11s 156ms/step - loss: 0.7563 - accuracy: 0.7763\n",
            "DATASET TEST[0.7961077094078064, 0.7689636945724487]\n"
          ],
          "name": "stdout"
        }
      ]
    },
    {
      "cell_type": "code",
      "metadata": {
        "id": "BuaVK__WOjDW",
        "outputId": "ea4ec54c-bd21-4fe1-f74b-231d5c8633db",
        "colab": {
          "base_uri": "https://localhost:8080/"
        }
      },
      "source": [
        "result_base=model.evaluate(embedded_sin, five_hot_sin, batch_size=best_params['batch_size'],)\n",
        "print(f'DATASET SINONIMI{result_base}')"
      ],
      "execution_count": 35,
      "outputs": [
        {
          "output_type": "stream",
          "text": [
            "65/65 [==============================] - 11s 150ms/step - loss: 1.0687 - accuracy: 0.7950\n",
            "DATASET SINONIMI[1.0179492235183716, 0.8043742179870605]\n"
          ],
          "name": "stdout"
        }
      ]
    },
    {
      "cell_type": "code",
      "metadata": {
        "id": "_JgLKE2bOjLL",
        "outputId": "0a41dc73-5148-4b01-c224-7ba44a5a0e5a",
        "colab": {
          "base_uri": "https://localhost:8080/"
        }
      },
      "source": [
        "result_base=model.evaluate(embedded_emb, five_hot_emb, batch_size=best_params['batch_size'],)\n",
        "print(f'DATASET EMBEDDING{result_base}')"
      ],
      "execution_count": 36,
      "outputs": [
        {
          "output_type": "stream",
          "text": [
            "65/65 [==============================] - 9s 136ms/step - loss: 1.0235 - accuracy: 0.7735\n",
            "DATASET EMBEDDING[1.023476004600525, 0.7734768390655518]\n"
          ],
          "name": "stdout"
        }
      ]
    }
  ]
}