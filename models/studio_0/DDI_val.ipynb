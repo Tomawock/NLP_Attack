{
 "cells": [
  {
   "cell_type": "code",
   "execution_count": 1,
   "id": "compressed-accreditation",
   "metadata": {
    "ExecuteTime": {
     "end_time": "2021-04-12T18:16:41.943738Z",
     "start_time": "2021-04-12T18:16:38.364797Z"
    }
   },
   "outputs": [],
   "source": [
    "import pickle\n",
    "import pandas as pd\n",
    "import optuna\n",
    "import numpy as np\n",
    "from sklearn.preprocessing import OneHotEncoder\n",
    "from tensorflow import keras\n",
    "from sklearn.utils.class_weight import compute_class_weight"
   ]
  },
  {
   "cell_type": "code",
   "execution_count": 2,
   "id": "solved-affiliate",
   "metadata": {
    "ExecuteTime": {
     "end_time": "2021-04-12T18:16:41.951812Z",
     "start_time": "2021-04-12T18:16:41.947426Z"
    }
   },
   "outputs": [],
   "source": [
    "path=\"../\""
   ]
  },
  {
   "cell_type": "code",
   "execution_count": 3,
   "id": "veterinary-conspiracy",
   "metadata": {
    "ExecuteTime": {
     "end_time": "2021-04-12T18:16:42.181591Z",
     "start_time": "2021-04-12T18:16:41.956194Z"
    }
   },
   "outputs": [],
   "source": [
    "train = pd.read_csv(path+'ddi2013-type/train.tsv', sep='\\t')\n",
    "dev = pd.read_csv(path+'ddi2013-type/dev.tsv', sep='\\t')\n",
    "test = pd.read_csv(path+'ddi2013-type/test.tsv', sep='\\t')\n",
    "\n",
    "data_sinonimi = pd.read_csv(path+\"ddi2013-type/DDI_sinonimi_test.csv\")\n",
    "data_embedding = pd.read_csv(path+\"ddi2013-type/DDI_embedding_test.csv\")"
   ]
  },
  {
   "cell_type": "code",
   "execution_count": 4,
   "id": "composed-formation",
   "metadata": {
    "ExecuteTime": {
     "end_time": "2021-04-12T18:16:54.630667Z",
     "start_time": "2021-04-12T18:16:42.185358Z"
    }
   },
   "outputs": [],
   "source": [
    "with open(path+\"word2index.pkl\", 'rb') as output:\n",
    "    w2i = pickle.load(output)\n",
    "with open(path+\"embedding_matrix.pkl\", 'rb') as output:\n",
    "    embedding_matrix = pickle.load(output)"
   ]
  },
  {
   "cell_type": "code",
   "execution_count": 5,
   "id": "alone-highland",
   "metadata": {
    "ExecuteTime": {
     "end_time": "2021-04-12T18:16:54.639464Z",
     "start_time": "2021-04-12T18:16:54.634094Z"
    }
   },
   "outputs": [],
   "source": [
    "categories = [['DDI-false', 'DDI-mechanism', 'DDI-effect', 'DDI-advise','DDI-int']]\n",
    "\n",
    "my_text_to_word_sequence = lambda sen: keras.preprocessing.text.text_to_word_sequence(sen,\n",
    "                                                                                      filters='!\"#&()*+,-./:;<=>?[\\\\]^_`\\'{|}~\\t\\n',\n",
    "                                                                                      lower=True)"
   ]
  },
  {
   "cell_type": "code",
   "execution_count": 6,
   "id": "intensive-aggregate",
   "metadata": {
    "ExecuteTime": {
     "end_time": "2021-04-12T18:16:54.912927Z",
     "start_time": "2021-04-12T18:16:54.642838Z"
    }
   },
   "outputs": [],
   "source": [
    "five_hot_train = OneHotEncoder(sparse=False, categories=categories).fit_transform(\n",
    "  train.label.to_numpy().reshape(-1, 1))\n",
    "\n",
    "sentences_train = [my_text_to_word_sequence(sentence) for sentence in train['sentence']]"
   ]
  },
  {
   "cell_type": "code",
   "execution_count": 7,
   "id": "arctic-feedback",
   "metadata": {
    "ExecuteTime": {
     "end_time": "2021-04-12T18:16:55.036212Z",
     "start_time": "2021-04-12T18:16:54.916416Z"
    }
   },
   "outputs": [],
   "source": [
    "five_hot_dev = OneHotEncoder(sparse=False, categories=categories).fit_transform(\n",
    "  dev.label.to_numpy().reshape(-1, 1))\n",
    "\n",
    "sentences_dev = [my_text_to_word_sequence(sentence) for sentence in dev['sentence']]"
   ]
  },
  {
   "cell_type": "code",
   "execution_count": 8,
   "id": "damaged-disabled",
   "metadata": {
    "ExecuteTime": {
     "end_time": "2021-04-12T18:16:55.117165Z",
     "start_time": "2021-04-12T18:16:55.039011Z"
    }
   },
   "outputs": [],
   "source": [
    "five_hot_test = OneHotEncoder(sparse=False, categories=categories).fit_transform(\n",
    "  test.label.to_numpy().reshape(-1, 1))\n",
    "\n",
    "sentences_test = [my_text_to_word_sequence(sentence) for sentence in test['sentence']]"
   ]
  },
  {
   "cell_type": "code",
   "execution_count": 9,
   "id": "adaptive-completion",
   "metadata": {
    "ExecuteTime": {
     "end_time": "2021-04-12T18:16:55.523201Z",
     "start_time": "2021-04-12T18:16:55.119083Z"
    }
   },
   "outputs": [],
   "source": [
    "five_hot_sin = OneHotEncoder(sparse=False, categories=categories).fit_transform(\n",
    "  data_sinonimi.label.to_numpy().reshape(-1, 1))\n",
    "\n",
    "sentences_sin = [my_text_to_word_sequence(sentence) for sentence in data_sinonimi['sentence']]"
   ]
  },
  {
   "cell_type": "code",
   "execution_count": 10,
   "id": "dangerous-concept",
   "metadata": {
    "ExecuteTime": {
     "end_time": "2021-04-12T18:16:55.653335Z",
     "start_time": "2021-04-12T18:16:55.525862Z"
    }
   },
   "outputs": [],
   "source": [
    "five_hot_emb = OneHotEncoder(sparse=False, categories=categories).fit_transform(\n",
    "  data_embedding.label.to_numpy().reshape(-1, 1))\n",
    "\n",
    "sentences_emb = [my_text_to_word_sequence(sentence) for sentence in data_embedding['sentence']]"
   ]
  },
  {
   "cell_type": "code",
   "execution_count": 11,
   "id": "beginning-shock",
   "metadata": {
    "ExecuteTime": {
     "end_time": "2021-04-12T18:16:55.682624Z",
     "start_time": "2021-04-12T18:16:55.656282Z"
    }
   },
   "outputs": [
    {
     "name": "stdout",
     "output_type": "stream",
     "text": [
      "Il massimo è 92\n"
     ]
    }
   ],
   "source": [
    "max_index, max = (-1, -1)\n",
    "for i, sentence in enumerate(sentences_train):\n",
    "  max_index, max = (i, len(sentence)) if len(sentence) > max else (max_index, max)\n",
    "for i, sentence in enumerate(sentences_dev):\n",
    "  max_index, max = (i, len(sentence)) if len(sentence) > max else (max_index, max)\n",
    "for i, sentence in enumerate(sentences_test):\n",
    "  max_index, max = (i, len(sentence)) if len(sentence) > max else (max_index, max)\n",
    "for i, sentence in enumerate(sentences_sin):\n",
    "  max_index, max = (i, len(sentence)) if len(sentence) > max else (max_index, max)\n",
    "for i, sentence in enumerate(sentences_emb):\n",
    "  max_index, max = (i, len(sentence)) if len(sentence) > max else (max_index, max)\n",
    "  \n",
    "print(f'Il massimo è {max}')"
   ]
  },
  {
   "cell_type": "code",
   "execution_count": 12,
   "id": "integral-uncle",
   "metadata": {
    "ExecuteTime": {
     "end_time": "2021-04-12T18:16:57.448753Z",
     "start_time": "2021-04-12T18:16:55.685253Z"
    }
   },
   "outputs": [],
   "source": [
    "embedded_trainset = np.zeros(shape=(len(sentences_train), max, 300))\n",
    "for i, sentence in enumerate(sentences_train):\n",
    "    for j, word in enumerate(sentence):\n",
    "        try:\n",
    "            embedded_trainset[i, j, :] = embedding_matrix[w2i[word]]\n",
    "        except KeyError:\n",
    "            pass"
   ]
  },
  {
   "cell_type": "code",
   "execution_count": 13,
   "id": "confident-membership",
   "metadata": {
    "ExecuteTime": {
     "end_time": "2021-04-12T18:16:58.333116Z",
     "start_time": "2021-04-12T18:16:57.450815Z"
    }
   },
   "outputs": [],
   "source": [
    "embedded_devset = np.zeros(shape=(len(sentences_dev), max, 300))\n",
    "for i, sentence in enumerate(sentences_dev):\n",
    "    for j, word in enumerate(sentence):\n",
    "        try:\n",
    "            embedded_devset[i, j, :] = embedding_matrix[w2i[word]]\n",
    "        except KeyError:\n",
    "            pass"
   ]
  },
  {
   "cell_type": "code",
   "execution_count": 14,
   "id": "secondary-reminder",
   "metadata": {
    "ExecuteTime": {
     "end_time": "2021-04-12T18:16:59.122036Z",
     "start_time": "2021-04-12T18:16:58.335411Z"
    }
   },
   "outputs": [],
   "source": [
    "embedded_testset = np.zeros(shape=(len(sentences_test), max, 300))\n",
    "for i, sentence in enumerate(sentences_test):\n",
    "    for j, word in enumerate(sentence):\n",
    "        try:\n",
    "            embedded_testset[i, j, :] = embedding_matrix[w2i[word]]\n",
    "        except KeyError:\n",
    "            pass"
   ]
  },
  {
   "cell_type": "code",
   "execution_count": 15,
   "id": "charitable-police",
   "metadata": {
    "ExecuteTime": {
     "end_time": "2021-04-12T18:16:59.859668Z",
     "start_time": "2021-04-12T18:16:59.125706Z"
    }
   },
   "outputs": [],
   "source": [
    "embedded_sin = np.zeros(shape=(len(sentences_sin), max, 300))\n",
    "for i, sentence in enumerate(sentences_sin):\n",
    "    for j, word in enumerate(sentence):\n",
    "        try:\n",
    "            embedded_sin[i, j, :] = embedding_matrix[w2i[word]]\n",
    "        except KeyError:\n",
    "            pass"
   ]
  },
  {
   "cell_type": "code",
   "execution_count": 16,
   "id": "bibliographic-showcase",
   "metadata": {
    "ExecuteTime": {
     "end_time": "2021-04-12T18:17:00.507664Z",
     "start_time": "2021-04-12T18:16:59.861733Z"
    }
   },
   "outputs": [],
   "source": [
    "embedded_emb = np.zeros(shape=(len(sentences_emb), max, 300))\n",
    "for i, sentence in enumerate(sentences_emb):\n",
    "    for j, word in enumerate(sentence):\n",
    "        try:\n",
    "            embedded_emb[i, j, :] = embedding_matrix[w2i[word]]\n",
    "        except KeyError:\n",
    "            pass"
   ]
  },
  {
   "cell_type": "markdown",
   "id": "disciplinary-phoenix",
   "metadata": {},
   "source": [
    "# Model"
   ]
  },
  {
   "cell_type": "code",
   "execution_count": 17,
   "id": "organizational-correlation",
   "metadata": {
    "ExecuteTime": {
     "end_time": "2021-04-12T18:17:03.826569Z",
     "start_time": "2021-04-12T18:17:03.706819Z"
    }
   },
   "outputs": [],
   "source": [
    "best_params = optuna.load_study(study_name=\"DDI\",\n",
    "                                storage=\"sqlite:///\"+path+\"ddi2013-type/optuna_ddi_studio_0.db\").best_params"
   ]
  },
  {
   "cell_type": "code",
   "execution_count": 21,
   "id": "color-steal",
   "metadata": {},
   "outputs": [
    {
     "name": "stdout",
     "output_type": "stream",
     "text": [
      "{'batch_size': 89, 'dropout': 0.63, 'units': 81}\n"
     ]
    }
   ],
   "source": [
    "print(f'{best_params}')"
   ]
  },
  {
   "cell_type": "code",
   "execution_count": 18,
   "id": "several-joshua",
   "metadata": {
    "ExecuteTime": {
     "end_time": "2021-04-12T18:17:06.625866Z",
     "start_time": "2021-04-12T18:17:06.289521Z"
    }
   },
   "outputs": [],
   "source": [
    "model = keras.Sequential()\n",
    "model.add(keras.layers.Input(shape=(max, 300)))\n",
    "model.add(keras.layers.Bidirectional(layer=keras.layers.LSTM(units=best_params['units'],\n",
    "                                                             recurrent_dropout=best_params['dropout'],\n",
    "                                                             activation='tanh')))\n",
    "\n",
    "model.add(keras.layers.Dense(5, activation='softmax'))\n",
    "model.compile(loss='categorical_crossentropy',\n",
    "              optimizer=keras.optimizers.Adam(learning_rate=0.001),\n",
    "              metrics=['accuracy'])"
   ]
  },
  {
   "cell_type": "code",
   "execution_count": 20,
   "id": "incomplete-academy",
   "metadata": {
    "ExecuteTime": {
     "end_time": "2021-04-12T18:27:50.498136Z",
     "start_time": "2021-04-12T18:18:11.477515Z"
    }
   },
   "outputs": [
    {
     "name": "stdout",
     "output_type": "stream",
     "text": [
      "Epoch 1/100\n",
      "211/211 [==============================] - 31s 148ms/step - loss: 0.5252 - accuracy: 0.8437 - val_loss: 0.4596 - val_accuracy: 0.8624\n",
      "Epoch 2/100\n",
      "211/211 [==============================] - 30s 140ms/step - loss: 0.4796 - accuracy: 0.8449 - val_loss: 0.4499 - val_accuracy: 0.8618\n",
      "Epoch 3/100\n",
      "211/211 [==============================] - 29s 136ms/step - loss: 0.4455 - accuracy: 0.8467 - val_loss: 0.4299 - val_accuracy: 0.8650\n",
      "Epoch 4/100\n",
      "211/211 [==============================] - 29s 136ms/step - loss: 0.4268 - accuracy: 0.8476 - val_loss: 0.4314 - val_accuracy: 0.8660\n",
      "Epoch 5/100\n",
      "211/211 [==============================] - 29s 136ms/step - loss: 0.4072 - accuracy: 0.8487 - val_loss: 0.4219 - val_accuracy: 0.8672\n",
      "Epoch 6/100\n",
      "211/211 [==============================] - 28s 135ms/step - loss: 0.3910 - accuracy: 0.8516 - val_loss: 0.4408 - val_accuracy: 0.8664\n",
      "Epoch 7/100\n",
      "211/211 [==============================] - 29s 136ms/step - loss: 0.3815 - accuracy: 0.8516 - val_loss: 0.4227 - val_accuracy: 0.8654\n",
      "Epoch 8/100\n",
      "211/211 [==============================] - 29s 135ms/step - loss: 0.3702 - accuracy: 0.8553 - val_loss: 0.4092 - val_accuracy: 0.8655\n",
      "Epoch 9/100\n",
      "211/211 [==============================] - 28s 135ms/step - loss: 0.3614 - accuracy: 0.8570 - val_loss: 0.4204 - val_accuracy: 0.8675\n",
      "Epoch 10/100\n",
      "211/211 [==============================] - 28s 135ms/step - loss: 0.3555 - accuracy: 0.8560 - val_loss: 0.4101 - val_accuracy: 0.8676\n",
      "Epoch 11/100\n",
      "211/211 [==============================] - 29s 136ms/step - loss: 0.3475 - accuracy: 0.8582 - val_loss: 0.4234 - val_accuracy: 0.8665\n",
      "Epoch 12/100\n",
      "211/211 [==============================] - 29s 136ms/step - loss: 0.3403 - accuracy: 0.8613 - val_loss: 0.4198 - val_accuracy: 0.8603\n",
      "Epoch 13/100\n",
      "211/211 [==============================] - 29s 136ms/step - loss: 0.3307 - accuracy: 0.8654 - val_loss: 0.4062 - val_accuracy: 0.8647\n",
      "Epoch 14/100\n",
      "211/211 [==============================] - 29s 137ms/step - loss: 0.3243 - accuracy: 0.8683 - val_loss: 0.4220 - val_accuracy: 0.8646\n",
      "Epoch 15/100\n",
      "211/211 [==============================] - 29s 136ms/step - loss: 0.3143 - accuracy: 0.8686 - val_loss: 0.4186 - val_accuracy: 0.8649\n",
      "Epoch 16/100\n",
      "211/211 [==============================] - 28s 135ms/step - loss: 0.3096 - accuracy: 0.8722 - val_loss: 0.4342 - val_accuracy: 0.8620\n",
      "Epoch 17/100\n",
      "211/211 [==============================] - 29s 135ms/step - loss: 0.3019 - accuracy: 0.8733 - val_loss: 0.4191 - val_accuracy: 0.8631\n",
      "Epoch 18/100\n",
      "211/211 [==============================] - 28s 135ms/step - loss: 0.2951 - accuracy: 0.8774 - val_loss: 0.5176 - val_accuracy: 0.7303\n",
      "Epoch 19/100\n",
      "211/211 [==============================] - 28s 134ms/step - loss: 0.2888 - accuracy: 0.8784 - val_loss: 0.4153 - val_accuracy: 0.8673\n",
      "Epoch 20/100\n",
      "211/211 [==============================] - 29s 135ms/step - loss: 0.2860 - accuracy: 0.8808 - val_loss: 0.4337 - val_accuracy: 0.8651\n"
     ]
    }
   ],
   "source": [
    "result = model.fit(embedded_trainset,\n",
    "                   five_hot_train,\n",
    "                   validation_data=(embedded_devset, five_hot_dev),\n",
    "                   epochs=100,\n",
    "                   batch_size=best_params['batch_size'],\n",
    "                   callbacks=[keras.callbacks.EarlyStopping(monitor='val_accuracy',\n",
    "                                                            patience=10,\n",
    "                                                            restore_best_weights=True)])"
   ]
  },
  {
   "cell_type": "code",
   "execution_count": 26,
   "id": "super-split",
   "metadata": {
    "ExecuteTime": {
     "end_time": "2021-04-12T18:28:45.429908Z",
     "start_time": "2021-04-12T18:28:45.408595Z"
    }
   },
   "outputs": [],
   "source": [
    "model.save_weights('DDI0_005.h5')"
   ]
  },
  {
   "cell_type": "code",
   "execution_count": 21,
   "id": "lined-floor",
   "metadata": {
    "ExecuteTime": {
     "end_time": "2021-04-12T18:27:55.523183Z",
     "start_time": "2021-04-12T18:27:55.515315Z"
    }
   },
   "outputs": [],
   "source": [
    "def print_confusionMatrix_fscore(prediction, hot_encoding):\n",
    "    cm = confusion_matrix(hot_encoding.argmax(axis=1), prediction.argmax(axis=1))\n",
    "    fscore = f1_score(y_true=hot_encoding.argmax(axis=1),\n",
    "                      y_pred=prediction.argmax(axis=1),\n",
    "                      average=None)\n",
    "\n",
    "    print('Confusion Matrix:\\n\\t\\tDDI-false\\tDDI-mechanism\\tDDI-effect\\tDDI-advise\\tDDI-int')\n",
    "    print(f'DDI-false\\t{cm[0][0]}\\t\\t{cm[0][1]}\\t\\t{cm[0][2]}\\t\\t{cm[0][3]}\\t\\t{cm[0][4]}')\n",
    "    print(f'DDI-mechanism\\t{cm[1][0]}\\t\\t{cm[1][1]}\\t\\t{cm[1][2]}\\t\\t{cm[1][3]}\\t\\t{cm[1][4]}')\n",
    "    print(f'DDI-effect\\t{cm[2][0]}\\t\\t{cm[2][1]}\\t\\t{cm[2][2]}\\t\\t{cm[2][3]}\\t\\t{cm[2][4]}')\n",
    "    print(f'DDI-advise\\t{cm[3][0]}\\t\\t{cm[3][1]}\\t\\t{cm[3][2]}\\t\\t{cm[3][3]}\\t\\t{cm[3][4]}')\n",
    "    print(f'DDI-int\\t\\t{cm[4][0]}\\t\\t{cm[4][1]}\\t\\t{cm[4][2]}\\t\\t{cm[4][3]}\\t\\t{cm[4][4]}')\n",
    "\n",
    "    zipped_fscore = zip(['DDI-false', 'DDI-mechanism', 'DDI-effect', 'DDI-advise','DDI-int'], fscore)\n",
    "    print('\\n\\nFSCORE:')\n",
    "    for nm, val in zipped_fscore:\n",
    "        print(f'{nm}: {val}')"
   ]
  },
  {
   "cell_type": "markdown",
   "id": "focused-locator",
   "metadata": {},
   "source": [
    "# EVALUATION"
   ]
  },
  {
   "cell_type": "code",
   "execution_count": 22,
   "id": "brazilian-stream",
   "metadata": {
    "ExecuteTime": {
     "end_time": "2021-04-12T18:27:58.468396Z",
     "start_time": "2021-04-12T18:27:58.463769Z"
    }
   },
   "outputs": [],
   "source": [
    "from sklearn.metrics import confusion_matrix, f1_score"
   ]
  },
  {
   "cell_type": "markdown",
   "id": "atmospheric-magnet",
   "metadata": {},
   "source": [
    "## DATASET ORIGINARIO"
   ]
  },
  {
   "cell_type": "code",
   "execution_count": 28,
   "id": "literary-ireland",
   "metadata": {},
   "outputs": [
    {
     "name": "stdout",
     "output_type": "stream",
     "text": [
      "211/211 [==============================] - 7s 29ms/step - loss: 0.1946 - accuracy: 0.9246\n",
      "DATASET ORIGINARIO[0.19459381699562073, 0.9245966076850891]\n"
     ]
    }
   ],
   "source": [
    "result_base=model.evaluate(embedded_trainset, five_hot_train, batch_size=best_params['batch_size'],)\n",
    "print(f'DATASET ORIGINARIO{result_base}')"
   ]
  },
  {
   "cell_type": "code",
   "execution_count": 27,
   "id": "broke-mistake",
   "metadata": {
    "ExecuteTime": {
     "end_time": "2021-04-12T18:29:04.490435Z",
     "start_time": "2021-04-12T18:28:52.246803Z"
    }
   },
   "outputs": [
    {
     "name": "stdout",
     "output_type": "stream",
     "text": [
      "Confusion Matrix:\n",
      "\t\tDDI-false\tDDI-mechanism\tDDI-effect\tDDI-advise\tDDI-int\n",
      "DDI-false\t15744\t\t37\t\t49\t\t12\t\t0\n",
      "DDI-mechanism\t859\t\t87\t\t0\t\t0\t\t0\n",
      "DDI-effect\t1007\t\t5\t\t199\t\t1\t\t0\n",
      "DDI-advise\t544\t\t0\t\t0\t\t89\t\t0\n",
      "DDI-int\t\t101\t\t0\t\t1\t\t0\t\t44\n",
      "\n",
      "\n",
      "FSCORE:\n",
      "DDI-false: 0.923483004369886\n",
      "DDI-mechanism: 0.16186046511627905\n",
      "DDI-effect: 0.272416153319644\n",
      "DDI-advise: 0.2421768707482993\n",
      "DDI-int: 0.4631578947368421\n"
     ]
    }
   ],
   "source": [
    "pred = model.predict(embedded_trainset, batch_size=best_params['batch_size'])\n",
    "\n",
    "print_confusionMatrix_fscore(prediction=pred, hot_encoding=five_hot_train)"
   ]
  },
  {
   "cell_type": "markdown",
   "id": "mounted-belize",
   "metadata": {},
   "source": [
    "## TESTSET"
   ]
  },
  {
   "cell_type": "code",
   "execution_count": 23,
   "id": "decimal-maker",
   "metadata": {
    "ExecuteTime": {
     "end_time": "2021-04-12T18:28:10.507980Z",
     "start_time": "2021-04-12T18:28:06.451470Z"
    }
   },
   "outputs": [
    {
     "name": "stdout",
     "output_type": "stream",
     "text": [
      "65/65 [==============================] - 3s 38ms/step - loss: 0.5233 - accuracy: 0.8410\n",
      "DATASET TEST[0.5233203172683716, 0.8409998416900635]\n"
     ]
    }
   ],
   "source": [
    "result_base=model.evaluate(embedded_testset, five_hot_test, batch_size=best_params['batch_size'],)\n",
    "print(f'DATASET TEST{result_base}')"
   ]
  },
  {
   "cell_type": "code",
   "execution_count": 28,
   "id": "arctic-watson",
   "metadata": {
    "ExecuteTime": {
     "end_time": "2021-04-12T18:29:19.451937Z",
     "start_time": "2021-04-12T18:29:15.503335Z"
    }
   },
   "outputs": [
    {
     "name": "stdout",
     "output_type": "stream",
     "text": [
      "Confusion Matrix:\n",
      "\t\tDDI-false\tDDI-mechanism\tDDI-effect\tDDI-advise\tDDI-int\n",
      "DDI-false\t4732\t\t24\t\t21\t\t5\t\t0\n",
      "DDI-mechanism\t269\t\t32\t\t1\t\t0\t\t0\n",
      "DDI-effect\t304\t\t1\t\t55\t\t0\t\t0\n",
      "DDI-advise\t191\t\t3\t\t1\t\t26\t\t0\n",
      "DDI-int\t\t96\t\t0\t\t0\t\t0\t\t0\n",
      "\n",
      "\n",
      "FSCORE:\n",
      "DDI-false: 0.912280701754386\n",
      "DDI-mechanism: 0.17679558011049723\n",
      "DDI-effect: 0.25114155251141557\n",
      "DDI-advise: 0.20634920634920634\n",
      "DDI-int: 0.0\n"
     ]
    }
   ],
   "source": [
    "pred = model.predict(embedded_testset, batch_size=best_params['batch_size'])\n",
    "\n",
    "print_confusionMatrix_fscore(prediction=pred, hot_encoding=five_hot_test)"
   ]
  },
  {
   "cell_type": "markdown",
   "id": "otherwise-skill",
   "metadata": {},
   "source": [
    "## DATASET SINONIMI"
   ]
  },
  {
   "cell_type": "code",
   "execution_count": 24,
   "id": "insured-gather",
   "metadata": {
    "ExecuteTime": {
     "end_time": "2021-04-12T18:28:22.545093Z",
     "start_time": "2021-04-12T18:28:18.672761Z"
    }
   },
   "outputs": [
    {
     "name": "stdout",
     "output_type": "stream",
     "text": [
      "65/65 [==============================] - 3s 38ms/step - loss: 0.5804 - accuracy: 0.8332\n",
      "DATASET SINONIMI[0.5804150104522705, 0.8331886529922485]\n"
     ]
    }
   ],
   "source": [
    "result_base=model.evaluate(embedded_sin, five_hot_sin, batch_size=best_params['batch_size'],)\n",
    "print(f'DATASET SINONIMI{result_base}')"
   ]
  },
  {
   "cell_type": "code",
   "execution_count": 29,
   "id": "stopped-bahamas",
   "metadata": {
    "ExecuteTime": {
     "end_time": "2021-04-12T18:29:28.087200Z",
     "start_time": "2021-04-12T18:29:24.427136Z"
    }
   },
   "outputs": [
    {
     "name": "stdout",
     "output_type": "stream",
     "text": [
      "Confusion Matrix:\n",
      "\t\tDDI-false\tDDI-mechanism\tDDI-effect\tDDI-advise\tDDI-int\n",
      "DDI-false\t4712\t\t30\t\t28\t\t12\t\t0\n",
      "DDI-mechanism\t280\t\t22\t\t0\t\t0\t\t0\n",
      "DDI-effect\t316\t\t4\t\t36\t\t4\t\t0\n",
      "DDI-advise\t190\t\t2\t\t0\t\t29\t\t0\n",
      "DDI-int\t\t95\t\t0\t\t0\t\t0\t\t1\n",
      "\n",
      "\n",
      "FSCORE:\n",
      "DDI-false: 0.9083373493975903\n",
      "DDI-mechanism: 0.12222222222222222\n",
      "DDI-effect: 0.169811320754717\n",
      "DDI-advise: 0.2180451127819549\n",
      "DDI-int: 0.020618556701030924\n"
     ]
    }
   ],
   "source": [
    "pred = model.predict(embedded_sin, batch_size=best_params['batch_size'])\n",
    "\n",
    "print_confusionMatrix_fscore(prediction=pred, hot_encoding=five_hot_sin)"
   ]
  },
  {
   "cell_type": "markdown",
   "id": "original-sword",
   "metadata": {},
   "source": [
    "## DATASET EMBEDDING"
   ]
  },
  {
   "cell_type": "code",
   "execution_count": 25,
   "id": "engaged-eight",
   "metadata": {
    "ExecuteTime": {
     "end_time": "2021-04-12T18:28:36.388938Z",
     "start_time": "2021-04-12T18:28:32.447829Z"
    }
   },
   "outputs": [
    {
     "name": "stdout",
     "output_type": "stream",
     "text": [
      "65/65 [==============================] - 3s 38ms/step - loss: 0.5685 - accuracy: 0.8368\n",
      "DATASET SINONIMI[0.5684598684310913, 0.8368338942527771]\n"
     ]
    }
   ],
   "source": [
    "result_base=model.evaluate(embedded_emb, five_hot_emb, batch_size=best_params['batch_size'],)\n",
    "print(f'DATASET SINONIMI{result_base}')"
   ]
  },
  {
   "cell_type": "code",
   "execution_count": 30,
   "id": "burning-lunch",
   "metadata": {
    "ExecuteTime": {
     "end_time": "2021-04-12T18:29:37.398662Z",
     "start_time": "2021-04-12T18:29:33.847903Z"
    }
   },
   "outputs": [
    {
     "name": "stdout",
     "output_type": "stream",
     "text": [
      "Confusion Matrix:\n",
      "\t\tDDI-false\tDDI-mechanism\tDDI-effect\tDDI-advise\tDDI-int\n",
      "DDI-false\t4752\t\t6\t\t16\t\t8\t\t0\n",
      "DDI-mechanism\t288\t\t13\t\t1\t\t0\t\t0\n",
      "DDI-effect\t329\t\t3\t\t26\t\t2\t\t0\n",
      "DDI-advise\t190\t\t1\t\t0\t\t30\t\t0\n",
      "DDI-int\t\t96\t\t0\t\t0\t\t0\t\t0\n",
      "\n",
      "\n",
      "FSCORE:\n",
      "DDI-false: 0.9106064961195746\n",
      "DDI-mechanism: 0.08\n",
      "DDI-effect: 0.12903225806451613\n",
      "DDI-advise: 0.22988505747126436\n",
      "DDI-int: 0.0\n"
     ]
    }
   ],
   "source": [
    "pred = model.predict(embedded_emb, batch_size=best_params['batch_size'])\n",
    "\n",
    "print_confusionMatrix_fscore(prediction=pred, hot_encoding=five_hot_emb)"
   ]
  }
 ],
 "metadata": {
  "kernelspec": {
   "display_name": "Python 3",
   "language": "python",
   "name": "python3"
  },
  "language_info": {
   "codemirror_mode": {
    "name": "ipython",
    "version": 3
   },
   "file_extension": ".py",
   "mimetype": "text/x-python",
   "name": "python",
   "nbconvert_exporter": "python",
   "pygments_lexer": "ipython3",
   "version": "3.7.6"
  },
  "toc": {
   "base_numbering": 1,
   "nav_menu": {},
   "number_sections": true,
   "sideBar": true,
   "skip_h1_title": false,
   "title_cell": "Table of Contents",
   "title_sidebar": "Contents",
   "toc_cell": false,
   "toc_position": {},
   "toc_section_display": true,
   "toc_window_display": false
  }
 },
 "nbformat": 4,
 "nbformat_minor": 5
}
