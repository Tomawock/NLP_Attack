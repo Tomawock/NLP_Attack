{
 "cells": [
  {
   "cell_type": "code",
   "execution_count": 1,
   "metadata": {
    "ExecuteTime": {
     "end_time": "2021-04-21T20:28:31.625770Z",
     "start_time": "2021-04-21T20:28:29.503610Z"
    }
   },
   "outputs": [],
   "source": [
    "# nostri import \n",
    "import random\n",
    "import pickle\n",
    "\n",
    "import numpy as np\n",
    "import tensorflow as tf\n",
    "from tensorflow import keras\n",
    "import pandas as pd\n",
    "import tensorflow_hub as hub\n",
    "import tensorflow_text #necessaria per hub.load\n",
    "\n",
    "from sklearn.model_selection import train_test_split\n",
    "from sklearn.preprocessing import OneHotEncoder"
   ]
  },
  {
   "cell_type": "code",
   "execution_count": 2,
   "metadata": {
    "ExecuteTime": {
     "end_time": "2021-04-21T20:28:37.023742Z",
     "start_time": "2021-04-21T20:28:31.627764Z"
    }
   },
   "outputs": [],
   "source": [
    "df = pd.read_csv('../Reviews.csv')\n",
    "\n",
    "data_sinonimi = pd.read_csv('../amazon_sinonimi.csv')\n",
    "data_embedding = pd.read_csv('../amazon_embedding.csv')"
   ]
  },
  {
   "cell_type": "code",
   "execution_count": 16,
   "metadata": {
    "ExecuteTime": {
     "end_time": "2021-04-21T20:33:01.079140Z",
     "start_time": "2021-04-21T20:33:00.142298Z"
    }
   },
   "outputs": [],
   "source": [
    "df['review'] = df['Summary']+df['Text']\n",
    "df.review.fillna(\"\",inplace = True)\n",
    "\n",
    "data_sinonimi['review'] = data_sinonimi['Summary']+data_sinonimi['Text']\n",
    "data_sinonimi.review.fillna(\"\",inplace = True)\n",
    "\n",
    "data_embedding['review'] = data_embedding['Summary']+data_embedding['Text']\n",
    "data_embedding.review.fillna(\"\",inplace = True)"
   ]
  },
  {
   "cell_type": "code",
   "execution_count": 4,
   "metadata": {
    "ExecuteTime": {
     "end_time": "2021-04-21T20:28:38.066541Z",
     "start_time": "2021-04-21T20:28:37.971444Z"
    }
   },
   "outputs": [],
   "source": [
    "df[\"review_type\"] = df[\"Score\"].apply(lambda x: \"negative\" if x < 4 else \"positive\")"
   ]
  },
  {
   "cell_type": "code",
   "execution_count": 5,
   "metadata": {
    "ExecuteTime": {
     "end_time": "2021-04-21T20:28:38.071810Z",
     "start_time": "2021-04-21T20:28:38.068006Z"
    }
   },
   "outputs": [
    {
     "name": "stdout",
     "output_type": "stream",
     "text": [
      "(568454, 12)\n",
      "(152598, 5)\n",
      "(149967, 5)\n"
     ]
    }
   ],
   "source": [
    "print(df.shape)\n",
    "print(data_sinonimi.shape)\n",
    "print(data_embedding.shape)"
   ]
  },
  {
   "cell_type": "code",
   "execution_count": 6,
   "metadata": {
    "ExecuteTime": {
     "end_time": "2021-04-21T20:28:38.077814Z",
     "start_time": "2021-04-21T20:28:38.073493Z"
    }
   },
   "outputs": [],
   "source": [
    "RANDOM_SEED = 42\n",
    "np.random.seed(RANDOM_SEED)\n",
    "tf.random.set_seed(RANDOM_SEED)"
   ]
  },
  {
   "cell_type": "code",
   "execution_count": 7,
   "metadata": {
    "ExecuteTime": {
     "end_time": "2021-04-21T20:28:38.215340Z",
     "start_time": "2021-04-21T20:28:38.079293Z"
    }
   },
   "outputs": [],
   "source": [
    "type_one_hot = OneHotEncoder(sparse=False).fit_transform(\n",
    "  df.review_type.to_numpy().reshape(-1, 1)\n",
    ")"
   ]
  },
  {
   "cell_type": "code",
   "execution_count": 17,
   "metadata": {
    "ExecuteTime": {
     "end_time": "2021-04-21T20:33:03.993503Z",
     "start_time": "2021-04-21T20:33:03.847400Z"
    }
   },
   "outputs": [],
   "source": [
    "_, test_reviews, _, y_test =\\\n",
    "  train_test_split(\n",
    "    df.review,\n",
    "    type_one_hot,\n",
    "    test_size=.3,\n",
    "    random_state=RANDOM_SEED\n",
    "  )"
   ]
  },
  {
   "cell_type": "code",
   "execution_count": 9,
   "metadata": {
    "ExecuteTime": {
     "end_time": "2021-04-21T20:28:45.230562Z",
     "start_time": "2021-04-21T20:28:38.364831Z"
    }
   },
   "outputs": [],
   "source": [
    "embed = hub.load(\"https://tfhub.dev/google/universal-sentence-encoder-multilingual-large/3\")"
   ]
  },
  {
   "cell_type": "code",
   "execution_count": 10,
   "metadata": {
    "ExecuteTime": {
     "end_time": "2021-04-21T20:28:46.997784Z",
     "start_time": "2021-04-21T20:28:45.232527Z"
    },
    "scrolled": false
   },
   "outputs": [
    {
     "name": "stdout",
     "output_type": "stream",
     "text": [
      "Model: \"sequential\"\n",
      "_________________________________________________________________\n",
      "Layer (type)                 Output Shape              Param #   \n",
      "=================================================================\n",
      "lambda (Lambda)              None                      0         \n",
      "_________________________________________________________________\n",
      "keras_layer (KerasLayer)     (None, 512)               85213184  \n",
      "_________________________________________________________________\n",
      "dense (Dense)                (None, 256)               131328    \n",
      "_________________________________________________________________\n",
      "dropout (Dropout)            (None, 256)               0         \n",
      "_________________________________________________________________\n",
      "dense_1 (Dense)              (None, 128)               32896     \n",
      "_________________________________________________________________\n",
      "dropout_1 (Dropout)          (None, 128)               0         \n",
      "_________________________________________________________________\n",
      "dense_2 (Dense)              (None, 2)                 258       \n",
      "=================================================================\n",
      "Total params: 85,377,666\n",
      "Trainable params: 164,482\n",
      "Non-trainable params: 85,213,184\n",
      "_________________________________________________________________\n"
     ]
    }
   ],
   "source": [
    "model = keras.Sequential()\n",
    "\n",
    "model.add(keras.layers.Input(shape=(1,), dtype=tf.string))\n",
    "model.add(keras.layers.Lambda(lambda x: tf.squeeze(tf.cast(x, tf.string))))\n",
    "model.add(hub.KerasLayer(handle=embed,output_shape=512)) # pre trained Convolutional Neural Net. \n",
    "model.add(keras.layers.Dense(units=256, activation='relu')) \n",
    "model.add(keras.layers.Dropout(rate=0.2))\n",
    "model.add(keras.layers.Dense(units=128, activation='relu'))\n",
    "model.add(keras.layers.Dropout(rate=0.2))\n",
    "model.add(keras.layers.Dense(2, activation='softmax'))\n",
    "model.compile(loss='categorical_crossentropy', optimizer=keras.optimizers.Adam(0.001), metrics=['accuracy'])\n",
    "model.summary()"
   ]
  },
  {
   "cell_type": "code",
   "execution_count": 11,
   "metadata": {
    "ExecuteTime": {
     "end_time": "2021-04-21T20:28:47.959903Z",
     "start_time": "2021-04-21T20:28:46.999574Z"
    }
   },
   "outputs": [],
   "source": [
    "model.load_weights('model.h5')"
   ]
  },
  {
   "cell_type": "code",
   "execution_count": 12,
   "metadata": {
    "ExecuteTime": {
     "end_time": "2021-04-21T20:28:48.141862Z",
     "start_time": "2021-04-21T20:28:47.962292Z"
    }
   },
   "outputs": [],
   "source": [
    "df_one_hot = OneHotEncoder(sparse=False).fit_transform(\n",
    "  df.review_type.to_numpy().reshape(-1, 1)\n",
    ")\n",
    "\n",
    "sinonimi_one_hot = OneHotEncoder(sparse=False).fit_transform(\n",
    "  data_sinonimi.review_type.to_numpy().reshape(-1, 1)\n",
    ")\n",
    "\n",
    "embedding_one_hot = OneHotEncoder(sparse=False).fit_transform(\n",
    "  data_embedding.review_type.to_numpy().reshape(-1, 1)\n",
    ")"
   ]
  },
  {
   "cell_type": "code",
   "execution_count": null,
   "metadata": {
    "ExecuteTime": {
     "start_time": "2021-04-21T20:33:14.962Z"
    }
   },
   "outputs": [
    {
     "name": "stdout",
     "output_type": "stream",
     "text": [
      "  25/5330 [..............................] - ETA: 2:42:20 - loss: 0.2530 - accuracy: 0.9158"
     ]
    }
   ],
   "source": [
    "result = model.evaluate(test_reviews, y_test)"
   ]
  },
  {
   "cell_type": "code",
   "execution_count": 14,
   "metadata": {
    "ExecuteTime": {
     "end_time": "2021-04-22T06:49:34.179544Z",
     "start_time": "2021-04-22T06:49:34.142131Z"
    },
    "scrolled": true
   },
   "outputs": [
    {
     "name": "stdout",
     "output_type": "stream",
     "text": [
      "Accuracy: 0.9212077260017395\n"
     ]
    }
   ],
   "source": [
    "print(f'Accuracy: {result[1]}')"
   ]
  },
  {
   "cell_type": "code",
   "execution_count": null,
   "metadata": {
    "ExecuteTime": {
     "start_time": "2021-04-22T06:49:56.763Z"
    }
   },
   "outputs": [
    {
     "name": "stdout",
     "output_type": "stream",
     "text": [
      "2583/4769 [===============>..............] - ETA: 1:41:20 - loss: 0.6652 - accuracy: 0.8061"
     ]
    }
   ],
   "source": [
    "result = model.evaluate(data_sinonimi.review, sinonimi_one_hot)"
   ]
  },
  {
   "cell_type": "code",
   "execution_count": 16,
   "metadata": {
    "ExecuteTime": {
     "end_time": "2021-04-22T12:06:08.674712Z",
     "start_time": "2021-04-22T12:06:08.634761Z"
    }
   },
   "outputs": [
    {
     "name": "stdout",
     "output_type": "stream",
     "text": [
      "Accuracy: 0.8062229156494141\n"
     ]
    }
   ],
   "source": [
    "print(f'Accuracy: {result[1]}')"
   ]
  },
  {
   "cell_type": "code",
   "execution_count": null,
   "metadata": {
    "ExecuteTime": {
     "start_time": "2021-04-22T12:06:15.080Z"
    }
   },
   "outputs": [
    {
     "name": "stdout",
     "output_type": "stream",
     "text": [
      "   6/4687 [..............................] - ETA: 3:48:59 - loss: 0.3306 - accuracy: 0.9167"
     ]
    }
   ],
   "source": [
    "result = model.evaluate(data_embedding.review, embedding_one_hot)"
   ]
  },
  {
   "cell_type": "code",
   "execution_count": 18,
   "metadata": {
    "ExecuteTime": {
     "end_time": "2021-04-22T17:14:51.698995Z",
     "start_time": "2021-04-22T17:14:51.690572Z"
    }
   },
   "outputs": [
    {
     "name": "stdout",
     "output_type": "stream",
     "text": [
      "Accuracy: 0.9071662425994873\n"
     ]
    }
   ],
   "source": [
    "print(f'Accuracy: {result[1]}')"
   ]
  }
 ],
 "metadata": {
  "kernelspec": {
   "display_name": "Python 3",
   "language": "python",
   "name": "python3"
  },
  "language_info": {
   "codemirror_mode": {
    "name": "ipython",
    "version": 3
   },
   "file_extension": ".py",
   "mimetype": "text/x-python",
   "name": "python",
   "nbconvert_exporter": "python",
   "pygments_lexer": "ipython3",
   "version": "3.7.6"
  },
  "toc": {
   "base_numbering": 1,
   "nav_menu": {},
   "number_sections": true,
   "sideBar": true,
   "skip_h1_title": false,
   "title_cell": "Table of Contents",
   "title_sidebar": "Contents",
   "toc_cell": false,
   "toc_position": {},
   "toc_section_display": true,
   "toc_window_display": false
  }
 },
 "nbformat": 4,
 "nbformat_minor": 4
}
