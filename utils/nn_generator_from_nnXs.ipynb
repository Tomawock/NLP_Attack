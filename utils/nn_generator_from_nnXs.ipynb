{
  "nbformat": 4,
  "nbformat_minor": 0,
  "metadata": {
    "colab": {
      "name": "nn_generator_from_nnXs.ipynb",
      "provenance": [],
      "authorship_tag": "ABX9TyOXwpxtxlDJ5Jm6LyB76CIY",
      "include_colab_link": true
    },
    "kernelspec": {
      "name": "python3",
      "display_name": "Python 3"
    }
  },
  "cells": [
    {
      "cell_type": "markdown",
      "metadata": {
        "id": "view-in-github",
        "colab_type": "text"
      },
      "source": [
        "<a href=\"https://colab.research.google.com/github/Tomawock/NLP_Attack/blob/main/utils/nn_generator_from_nnXs.ipynb\" target=\"_parent\"><img src=\"https://colab.research.google.com/assets/colab-badge.svg\" alt=\"Open In Colab\"/></a>"
      ]
    },
    {
      "cell_type": "code",
      "metadata": {
        "colab": {
          "base_uri": "https://localhost:8080/"
        },
        "id": "Z1hMgmucLdSU",
        "outputId": "0fd61de1-40ca-47ee-f174-728c05358e6e"
      },
      "source": [
        "%pip install fasttext"
      ],
      "execution_count": 1,
      "outputs": [
        {
          "output_type": "stream",
          "text": [
            "Collecting fasttext\n",
            "\u001b[?25l  Downloading https://files.pythonhosted.org/packages/f8/85/e2b368ab6d3528827b147fdb814f8189acc981a4bc2f99ab894650e05c40/fasttext-0.9.2.tar.gz (68kB)\n",
            "\r\u001b[K     |████▊                           | 10kB 20.3MB/s eta 0:00:01\r\u001b[K     |█████████▌                      | 20kB 26.9MB/s eta 0:00:01\r\u001b[K     |██████████████▎                 | 30kB 13.2MB/s eta 0:00:01\r\u001b[K     |███████████████████             | 40kB 12.2MB/s eta 0:00:01\r\u001b[K     |███████████████████████▉        | 51kB 14.1MB/s eta 0:00:01\r\u001b[K     |████████████████████████████▋   | 61kB 15.5MB/s eta 0:00:01\r\u001b[K     |████████████████████████████████| 71kB 4.2MB/s \n",
            "\u001b[?25hRequirement already satisfied: pybind11>=2.2 in /usr/local/lib/python3.6/dist-packages (from fasttext) (2.6.1)\n",
            "Requirement already satisfied: setuptools>=0.7.0 in /usr/local/lib/python3.6/dist-packages (from fasttext) (50.3.2)\n",
            "Requirement already satisfied: numpy in /usr/local/lib/python3.6/dist-packages (from fasttext) (1.19.4)\n",
            "Building wheels for collected packages: fasttext\n",
            "  Building wheel for fasttext (setup.py) ... \u001b[?25l\u001b[?25hdone\n",
            "  Created wheel for fasttext: filename=fasttext-0.9.2-cp36-cp36m-linux_x86_64.whl size=3039200 sha256=cb589fe064607b444fca838d7094fb8472925d717dff01f9d0d25174f273d2ba\n",
            "  Stored in directory: /root/.cache/pip/wheels/98/ba/7f/b154944a1cf5a8cee91c154b75231136cc3a3321ab0e30f592\n",
            "Successfully built fasttext\n",
            "Installing collected packages: fasttext\n",
            "Successfully installed fasttext-0.9.2\n"
          ],
          "name": "stdout"
        }
      ]
    },
    {
      "cell_type": "code",
      "metadata": {
        "id": "qNM_zPMbMBlj"
      },
      "source": [
        "import fasttext\n",
        "import fasttext.util\n",
        "import numpy as np\n",
        "import pickle"
      ],
      "execution_count": 2,
      "outputs": []
    },
    {
      "cell_type": "code",
      "metadata": {
        "colab": {
          "base_uri": "https://localhost:8080/"
        },
        "id": "n9XKTgbJMFir",
        "outputId": "52762825-1dec-4d6e-fe53-71f46a8019ac"
      },
      "source": [
        "from google.colab import drive\n",
        "drive.mount('/content/drive')"
      ],
      "execution_count": 3,
      "outputs": [
        {
          "output_type": "stream",
          "text": [
            "Mounted at /content/drive\n"
          ],
          "name": "stdout"
        }
      ]
    },
    {
      "cell_type": "code",
      "metadata": {
        "colab": {
          "base_uri": "https://localhost:8080/"
        },
        "id": "l6fptNu1MHXU",
        "outputId": "51306a31-a770-44aa-a286-9aafdb0b560f"
      },
      "source": [
        "ft = fasttext.load_model('/content/drive/Shareddrives/Deep Learning/datasets/ATE_ABSITA/cc.it.300.bin')"
      ],
      "execution_count": 4,
      "outputs": [
        {
          "output_type": "stream",
          "text": [
            "Warning : `load_model` does not return WordVectorModel or SupervisedModel any more, but a `FastText` object which is very similar.\n"
          ],
          "name": "stderr"
        }
      ]
    },
    {
      "cell_type": "code",
      "metadata": {
        "id": "_JRGjNw1MKNM"
      },
      "source": [
        "with open(\"/content/drive/Shareddrives/Deep Learning/datasets/ATE_ABSITA/index2word.pkl\", 'rb') as output:\n",
        "  i2w = pickle.load(output)\n",
        "with open(\"/content/drive/Shareddrives/Deep Learning/datasets/ATE_ABSITA/word2index.pkl\", 'rb') as output:\n",
        "  w2i = pickle.load(output)"
      ],
      "execution_count": 30,
      "outputs": []
    },
    {
      "cell_type": "code",
      "metadata": {
        "id": "BquafZ6IMMsS"
      },
      "source": [
        "with open(\"/content/drive/Shareddrives/Deep Learning/datasets/ATE_ABSITA/temp/nn_0.pkl\", 'rb') as output:\n",
        "  nn_0 = pickle.load(output)\n",
        "with open(\"/content/drive/Shareddrives/Deep Learning/datasets/ATE_ABSITA/temp/nn_1.pkl\", 'rb') as output:\n",
        "  nn_1 = pickle.load(output)\n",
        "with open(\"/content/drive/Shareddrives/Deep Learning/datasets/ATE_ABSITA/temp/nn_2.pkl\", 'rb') as output:\n",
        "  nn_2 = pickle.load(output)\n",
        "with open(\"/content/drive/Shareddrives/Deep Learning/datasets/ATE_ABSITA/temp/nn_3.pkl\", 'rb') as output:\n",
        "  nn_3 = pickle.load(output)\n",
        "with open(\"/content/drive/Shareddrives/Deep Learning/datasets/ATE_ABSITA/temp/nn_4.pkl\", 'rb') as output:\n",
        "  nn_4 = pickle.load(output)\n",
        "with open(\"/content/drive/Shareddrives/Deep Learning/datasets/ATE_ABSITA/temp/nn_5.pkl\", 'rb') as output:\n",
        "  nn_5 = pickle.load(output)\n",
        "with open(\"/content/drive/Shareddrives/Deep Learning/datasets/ATE_ABSITA/temp/nn_6.pkl\", 'rb') as output:\n",
        "  nn_6 = pickle.load(output)\n",
        "with open(\"/content/drive/Shareddrives/Deep Learning/datasets/ATE_ABSITA/temp/nn_7.pkl\", 'rb') as output:\n",
        "  nn_7 = pickle.load(output)\n",
        "with open(\"/content/drive/Shareddrives/Deep Learning/datasets/ATE_ABSITA/temp/nn_8.pkl\", 'rb') as output:\n",
        "  nn_8 = pickle.load(output)\n",
        "with open(\"/content/drive/Shareddrives/Deep Learning/datasets/ATE_ABSITA/temp/nn_9.pkl\", 'rb') as output:\n",
        "  nn_9 = pickle.load(output)\n",
        "with open(\"/content/drive/Shareddrives/Deep Learning/datasets/ATE_ABSITA/temp/nn_10.pkl\", 'rb') as output:\n",
        "  nn_10 = pickle.load(output)\n",
        "with open(\"/content/drive/Shareddrives/Deep Learning/datasets/ATE_ABSITA/temp/nn_11.pkl\", 'rb') as output:\n",
        "  nn_11 = pickle.load(output)\n",
        "with open(\"/content/drive/Shareddrives/Deep Learning/datasets/ATE_ABSITA/temp/nn_12.pkl\", 'rb') as output:\n",
        "  nn_12 = pickle.load(output)\n",
        "with open(\"/content/drive/Shareddrives/Deep Learning/datasets/ATE_ABSITA/temp/nn_13.pkl\", 'rb') as output:\n",
        "  nn_13 = pickle.load(output)\n",
        "with open(\"/content/drive/Shareddrives/Deep Learning/datasets/ATE_ABSITA/temp/nn_14.pkl\", 'rb') as output:\n",
        "  nn_14 = pickle.load(output)\n",
        "with open(\"/content/drive/Shareddrives/Deep Learning/datasets/ATE_ABSITA/temp/nn_15.pkl\", 'rb') as output:\n",
        "  nn_15 = pickle.load(output)\n",
        "with open(\"/content/drive/Shareddrives/Deep Learning/datasets/ATE_ABSITA/temp/nn_16.pkl\", 'rb') as output:\n",
        "  nn_16 = pickle.load(output)\n",
        "with open(\"/content/drive/Shareddrives/Deep Learning/datasets/ATE_ABSITA/temp/nn_17.pkl\", 'rb') as output:\n",
        "  nn_17 = pickle.load(output)\n",
        "with open(\"/content/drive/Shareddrives/Deep Learning/datasets/ATE_ABSITA/temp/nn_18.pkl\", 'rb') as output:\n",
        "  nn_18 = pickle.load(output)\n",
        "with open(\"/content/drive/Shareddrives/Deep Learning/datasets/ATE_ABSITA/temp/nn_19.pkl\", 'rb') as output:\n",
        "  nn_19 = pickle.load(output)"
      ],
      "execution_count": 6,
      "outputs": []
    },
    {
      "cell_type": "code",
      "metadata": {
        "id": "OSQxgcAvNEhA"
      },
      "source": [
        "nn = np.concatenate((nn_0, nn_1, nn_2, nn_3,\n",
        "                     nn_4, nn_5, nn_6, nn_7,\n",
        "                     nn_8, nn_9, nn_10, nn_11,\n",
        "                     nn_12, nn_13, nn_14, nn_15,\n",
        "                     nn_16, nn_17, nn_18, nn_19))"
      ],
      "execution_count": 9,
      "outputs": []
    },
    {
      "cell_type": "code",
      "metadata": {
        "colab": {
          "base_uri": "https://localhost:8080/"
        },
        "id": "NuJfLzBZOhzb",
        "outputId": "f874273a-45a5-4704-fcee-8e42b4a41d6a"
      },
      "source": [
        "nn.shape"
      ],
      "execution_count": 10,
      "outputs": [
        {
          "output_type": "execute_result",
          "data": {
            "text/plain": [
              "(2000000, 21)"
            ]
          },
          "metadata": {
            "tags": []
          },
          "execution_count": 10
        }
      ]
    },
    {
      "cell_type": "code",
      "metadata": {
        "id": "4_5PzdcWOkC6"
      },
      "source": [
        "for i, _ in enumerate(nn):\n",
        "  nn[i][0] = i"
      ],
      "execution_count": 27,
      "outputs": []
    },
    {
      "cell_type": "code",
      "metadata": {
        "colab": {
          "base_uri": "https://localhost:8080/"
        },
        "id": "OSUmkO2nO8aM",
        "outputId": "176f1b9c-63b5-41aa-87c4-58b1c01b89a6"
      },
      "source": [
        "[i2w[val] for val in nn[1999999]]"
      ],
      "execution_count": 31,
      "outputs": [
        {
          "output_type": "execute_result",
          "data": {
            "text/plain": [
              "['ricercaLatin',\n",
              " 'ricercaSwing',\n",
              " 'ricercaSamba',\n",
              " 'ricercaLE',\n",
              " 'ricercaL',\n",
              " 'ricercaLe',\n",
              " 'ricercaLa',\n",
              " \"ricercaL'\",\n",
              " 'ricercae',\n",
              " 'ricerca5',\n",
              " 'RicercaLa',\n",
              " 'ricercaLot',\n",
              " 'ricercaMusica',\n",
              " 'ricercaZio',\n",
              " 'ricercaNUOVA',\n",
              " 'ricerca4',\n",
              " 'ricerca7',\n",
              " 'ricercaWestern',\n",
              " 'ricercaBrabante',\n",
              " 'ricercaOlanda',\n",
              " 'ricercaBasso']"
            ]
          },
          "metadata": {
            "tags": []
          },
          "execution_count": 31
        }
      ]
    },
    {
      "cell_type": "code",
      "metadata": {
        "colab": {
          "base_uri": "https://localhost:8080/"
        },
        "id": "HLkBopA_Qa7U",
        "outputId": "4a3eda2e-b62b-4776-e671-950b207dadec"
      },
      "source": [
        "[i2w[val] for val in nn[0]]"
      ],
      "execution_count": 32,
      "outputs": [
        {
          "output_type": "execute_result",
          "data": {
            "text/plain": [
              "[',',\n",
              " 'e',\n",
              " 'ma',\n",
              " ';',\n",
              " 'ed',\n",
              " '(',\n",
              " 'Ma',\n",
              " '</s>',\n",
              " ')',\n",
              " 'è',\n",
              " 'se',\n",
              " 'ha',\n",
              " 'In',\n",
              " 'Ed',\n",
              " 'o',\n",
              " 'fu',\n",
              " 'in',\n",
              " 'Il',\n",
              " 'È',\n",
              " 'il',\n",
              " '.']"
            ]
          },
          "metadata": {
            "tags": []
          },
          "execution_count": 32
        }
      ]
    },
    {
      "cell_type": "code",
      "metadata": {
        "colab": {
          "base_uri": "https://localhost:8080/"
        },
        "id": "EJC4IodUQgA8",
        "outputId": "2f41e8f0-a95a-4239-8746-de55d119bcf4"
      },
      "source": [
        "[i2w[val] for val in nn[1000000]]"
      ],
      "execution_count": 33,
      "outputs": [
        {
          "output_type": "execute_result",
          "data": {
            "text/plain": [
              "['gratuitoVisualizza',\n",
              " 'autoVisualizza',\n",
              " 'tuttoVisualizza',\n",
              " 'riscaldamentoVisualizza',\n",
              " 'DocumentoVisualizza',\n",
              " 'abbigliamentoVisualizza',\n",
              " 'EventoVisualizza',\n",
              " 'abbonamentoVisualizza',\n",
              " 'oggettoVisualizza',\n",
              " 'VimeoVisualizza',\n",
              " 'manoVisualizza',\n",
              " 'esternoVisualizza',\n",
              " 'bordoVisualizza',\n",
              " 'CEVisualizza',\n",
              " 'LEDVisualizza',\n",
              " 'legnoVisualizza',\n",
              " 'trainoVisualizza',\n",
              " 'suVisualizza',\n",
              " 'wcVisualizza',\n",
              " 'alberoVisualizza',\n",
              " 'giardinoVisualizza']"
            ]
          },
          "metadata": {
            "tags": []
          },
          "execution_count": 33
        }
      ]
    },
    {
      "cell_type": "code",
      "metadata": {
        "colab": {
          "base_uri": "https://localhost:8080/"
        },
        "id": "Wr3PMxY7QkSn",
        "outputId": "be9e8a8e-9a68-4e74-b6bf-a30dc6e14155"
      },
      "source": [
        "[i2w[val] for val in nn[w2i['Camuno']]]"
      ],
      "execution_count": 36,
      "outputs": [
        {
          "output_type": "execute_result",
          "data": {
            "text/plain": [
              "['Camuno',\n",
              " 'Camun',\n",
              " 'camuno',\n",
              " 'Cividate',\n",
              " 'Camunni',\n",
              " 'Piancamuno',\n",
              " 'Camuni',\n",
              " 'Camuns',\n",
              " 'Camune',\n",
              " 'Valcamonica',\n",
              " 'Camonica',\n",
              " 'Malegno',\n",
              " 'Esine',\n",
              " 'Asinino-Anvòia',\n",
              " 'Lovere-Cividate',\n",
              " 'Breno',\n",
              " 'Gianico',\n",
              " 'Artogne',\n",
              " 'Cedegolo',\n",
              " 'CamunoPiancognoPisognePolavenoPolpenazze',\n",
              " 'Borlezza']"
            ]
          },
          "metadata": {
            "tags": []
          },
          "execution_count": 36
        }
      ]
    },
    {
      "cell_type": "code",
      "metadata": {
        "id": "z59To1mKRA9U"
      },
      "source": [
        "with open('/content/drive/Shareddrives/Deep Learning/datasets/ATE_ABSITA/nn.pkl', 'wb') as output:\n",
        "  pickle.dump(nn, output, protocol=4)"
      ],
      "execution_count": 37,
      "outputs": []
    }
  ]
}