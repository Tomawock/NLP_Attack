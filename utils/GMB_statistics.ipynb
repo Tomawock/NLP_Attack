{
  "nbformat": 4,
  "nbformat_minor": 0,
  "metadata": {
    "colab": {
      "name": "GMB_statistics.ipynb",
      "provenance": [],
      "collapsed_sections": [],
      "authorship_tag": "ABX9TyNlA26GSBJ7Ay1Bty9HYsfL",
      "include_colab_link": true
    },
    "kernelspec": {
      "name": "python3",
      "display_name": "Python 3"
    },
    "language_info": {
      "name": "python"
    }
  },
  "cells": [
    {
      "cell_type": "markdown",
      "metadata": {
        "id": "view-in-github",
        "colab_type": "text"
      },
      "source": [
        "<a href=\"https://colab.research.google.com/github/Tomawock/NLP_Attack/blob/main/utils/GMB_statistics.ipynb\" target=\"_parent\"><img src=\"https://colab.research.google.com/assets/colab-badge.svg\" alt=\"Open In Colab\"/></a>"
      ]
    },
    {
      "cell_type": "code",
      "metadata": {
        "id": "xxevS8Kjkba8"
      },
      "source": [
        "import pandas as pd"
      ],
      "execution_count": 27,
      "outputs": []
    },
    {
      "cell_type": "code",
      "metadata": {
        "colab": {
          "base_uri": "https://localhost:8080/"
        },
        "id": "7ML1pUiCkuM7",
        "outputId": "fefb3fb5-be52-423a-9355-2dc7012c4cec"
      },
      "source": [
        "from google.colab import drive\n",
        "drive.mount('/content/drive')"
      ],
      "execution_count": 28,
      "outputs": [
        {
          "output_type": "stream",
          "text": [
            "Drive already mounted at /content/drive; to attempt to forcibly remount, call drive.mount(\"/content/drive\", force_remount=True).\n"
          ],
          "name": "stdout"
        }
      ]
    },
    {
      "cell_type": "code",
      "metadata": {
        "id": "lx_nPK0lcHy6"
      },
      "source": [
        "#Read data path\n",
        "data = \"/content/drive/Shareddrives/Deep Learning/datasets/GMB/GMB_dataset.tsv\"\n",
        "parz = pd.read_csv(data,sep='\\t', encoding=\"latin-1\", index_col=[0])"
      ],
      "execution_count": 29,
      "outputs": []
    },
    {
      "cell_type": "code",
      "metadata": {
        "id": "cNpBcSAfk1eU"
      },
      "source": [
        "name_tags = parz[\"Tag\"].unique()"
      ],
      "execution_count": 30,
      "outputs": []
    },
    {
      "cell_type": "code",
      "metadata": {
        "colab": {
          "base_uri": "https://localhost:8080/"
        },
        "id": "M6IlpNqClLqF",
        "outputId": "11e9265b-9735-4ef9-d801-651eb822d823"
      },
      "source": [
        "name_tags"
      ],
      "execution_count": 31,
      "outputs": [
        {
          "output_type": "execute_result",
          "data": {
            "text/plain": [
              "array(['O', 'B-geo', 'B-gpe', 'B-per', 'I-geo', 'B-org', 'I-org', 'B-tim',\n",
              "       'B-art', 'I-art', 'I-per', 'I-gpe', 'I-tim', 'B-nat', 'B-eve',\n",
              "       'I-eve', 'I-nat'], dtype=object)"
            ]
          },
          "metadata": {
            "tags": []
          },
          "execution_count": 31
        }
      ]
    },
    {
      "cell_type": "code",
      "metadata": {
        "colab": {
          "base_uri": "https://localhost:8080/"
        },
        "id": "2J8iINM2qra2",
        "outputId": "2cdf1829-ff65-4365-a9c6-29e0d1c9c83a"
      },
      "source": [
        "parz.shape[0]"
      ],
      "execution_count": 37,
      "outputs": [
        {
          "output_type": "execute_result",
          "data": {
            "text/plain": [
              "66161"
            ]
          },
          "metadata": {
            "tags": []
          },
          "execution_count": 37
        }
      ]
    },
    {
      "cell_type": "code",
      "metadata": {
        "id": "7iXbZro-p0MK"
      },
      "source": [
        "values =parz.groupby('Tag').Word.count()"
      ],
      "execution_count": 54,
      "outputs": []
    },
    {
      "cell_type": "code",
      "metadata": {
        "colab": {
          "base_uri": "https://localhost:8080/"
        },
        "id": "SIfvR5DoxIW5",
        "outputId": "3376d535-88fb-414b-fe60-844419c096d9"
      },
      "source": [
        "values "
      ],
      "execution_count": 65,
      "outputs": [
        {
          "output_type": "execute_result",
          "data": {
            "text/plain": [
              "Tag\n",
              "B-art       53\n",
              "B-eve       45\n",
              "B-geo     2070\n",
              "B-gpe     1230\n",
              "B-nat       20\n",
              "B-org     1237\n",
              "B-per     1107\n",
              "B-tim     1160\n",
              "I-art       34\n",
              "I-eve       37\n",
              "I-geo      414\n",
              "I-gpe       34\n",
              "I-nat        9\n",
              "I-org      926\n",
              "I-per     1234\n",
              "I-tim      334\n",
              "O        56217\n",
              "Name: Word, dtype: int64"
            ]
          },
          "metadata": {
            "tags": []
          },
          "execution_count": 65
        }
      ]
    },
    {
      "cell_type": "code",
      "metadata": {
        "id": "guy3CCVivix5"
      },
      "source": [
        "percentage = []\n",
        "for i in range (len(values)):\n",
        "  percentage.append(round(100*values[i]/parz.shape[0],3))"
      ],
      "execution_count": 59,
      "outputs": []
    },
    {
      "cell_type": "code",
      "metadata": {
        "colab": {
          "base_uri": "https://localhost:8080/"
        },
        "id": "z5vALO7rwk74",
        "outputId": "5b3c0521-a13b-44f3-aba8-8c48bb3f1073"
      },
      "source": [
        "percentage"
      ],
      "execution_count": 60,
      "outputs": [
        {
          "output_type": "execute_result",
          "data": {
            "text/plain": [
              "[0.08,\n",
              " 0.068,\n",
              " 3.129,\n",
              " 1.859,\n",
              " 0.03,\n",
              " 1.87,\n",
              " 1.673,\n",
              " 1.753,\n",
              " 0.051,\n",
              " 0.056,\n",
              " 0.626,\n",
              " 0.051,\n",
              " 0.014,\n",
              " 1.4,\n",
              " 1.865,\n",
              " 0.505,\n",
              " 84.97]"
            ]
          },
          "metadata": {
            "tags": []
          },
          "execution_count": 60
        }
      ]
    }
  ]
}