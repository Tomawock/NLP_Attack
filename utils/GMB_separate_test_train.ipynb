{
  "nbformat": 4,
  "nbformat_minor": 0,
  "metadata": {
    "colab": {
      "name": "GMB_separate_test_train.ipynb",
      "provenance": [],
      "toc_visible": true,
      "authorship_tag": "ABX9TyPsAWgxZt7Yj5XPe2L+PPh0",
      "include_colab_link": true
    },
    "kernelspec": {
      "name": "python3",
      "display_name": "Python 3"
    },
    "language_info": {
      "name": "python"
    }
  },
  "cells": [
    {
      "cell_type": "markdown",
      "metadata": {
        "id": "view-in-github",
        "colab_type": "text"
      },
      "source": [
        "<a href=\"https://colab.research.google.com/github/Tomawock/NLP_Attack/blob/main/utils/GMB_separate_test_train.ipynb\" target=\"_parent\"><img src=\"https://colab.research.google.com/assets/colab-badge.svg\" alt=\"Open In Colab\"/></a>"
      ]
    },
    {
      "cell_type": "markdown",
      "metadata": {
        "id": "kg1gpv9zYQkn"
      },
      "source": [
        "###Divisione test train"
      ]
    },
    {
      "cell_type": "markdown",
      "metadata": {
        "id": "KQlbj1aFYdGv"
      },
      "source": [
        "le prime 70% delle frasi verra messa nel training il resto nel test, questo vuol dire che le frasi da 1 a 2100 sono training le rimanensti test"
      ]
    },
    {
      "cell_type": "code",
      "metadata": {
        "colab": {
          "base_uri": "https://localhost:8080/"
        },
        "id": "mO61Wg6iYKSX",
        "outputId": "af2d9387-3539-4e4e-ce9a-e403236ea467"
      },
      "source": [
        "from google.colab import drive\n",
        "drive.mount('/content/drive')"
      ],
      "execution_count": 1,
      "outputs": [
        {
          "output_type": "stream",
          "text": [
            "Mounted at /content/drive\n"
          ],
          "name": "stdout"
        }
      ]
    },
    {
      "cell_type": "code",
      "metadata": {
        "id": "jHvKO9heYO1Y"
      },
      "source": [
        "import pandas as pd"
      ],
      "execution_count": 4,
      "outputs": []
    },
    {
      "cell_type": "code",
      "metadata": {
        "id": "-sjUv4nxYrXR"
      },
      "source": [
        "data_original = \"/content/drive/Shareddrives/Deep Learning/datasets/GMB/GMB_dataset.tsv\"\n",
        "data_sinonimi = \"/content/drive/Shareddrives/Deep Learning/datasets/GMB/GMB_sinonimi.csv\"\n",
        "data_embedding = \"/content/drive/Shareddrives/Deep Learning/datasets/GMB/GMB_embedding.csv\""
      ],
      "execution_count": 5,
      "outputs": []
    },
    {
      "cell_type": "code",
      "metadata": {
        "colab": {
          "base_uri": "https://localhost:8080/"
        },
        "id": "OTf7ArPLYCZO",
        "outputId": "6f6e656b-44a1-48e0-bf9c-62a06f165eff"
      },
      "source": [
        "dataset_original = pd.read_csv(data_original,sep='\\t', encoding=\"latin-1\", index_col=[0])\n",
        "dataset_sinonimi = pd.read_csv(data_sinonimi, encoding=\"latin-1\", na_filter = False)\n",
        "dataset_embedding = pd.read_csv(data_embedding, encoding=\"latin-1\", na_filter = False)\n",
        "\n",
        "index_test_to_train = dataset_original.index[dataset_original['Sentence #'] == 2101][0]\n",
        "\n",
        "print(f\"Indice separatore train test: \",index_test_to_train)\n",
        "\n",
        "### DIVIDI IN TRAIN TEST\n",
        "dataset_original_train = dataset_original[:index_test_to_train]\n",
        "dataset_original_test = dataset_original[index_test_to_train:]\n",
        "\n",
        "dataset_sinonimi_train = dataset_sinonimi[:index_test_to_train]\n",
        "dataset_sinonimi_test = dataset_sinonimi[index_test_to_train:]\n",
        "\n",
        "dataset_embedding_train = dataset_embedding[:index_test_to_train]\n",
        "dataset_embedding_test = dataset_embedding[index_test_to_train:]\n",
        "\n",
        "### SALVA TRAIN E TEST IN FILE CSV DIFFERENTI\n",
        "dataset_original_train.to_csv(\"/content/drive/Shareddrives/Deep Learning/datasets/GMB/GMB_original_train.csv\")\n",
        "dataset_original_test.to_csv(\"/content/drive/Shareddrives/Deep Learning/datasets/GMB/GMB_original_test.csv\")\n",
        "\n",
        "dataset_sinonimi_train.to_csv(\"/content/drive/Shareddrives/Deep Learning/datasets/GMB/GMB_sinonimi_train.csv\")\n",
        "dataset_sinonimi_test.to_csv(\"/content/drive/Shareddrives/Deep Learning/datasets/GMB/GMB_sinonimi_test.csv\")\n",
        "\n",
        "dataset_embedding_train.to_csv(\"/content/drive/Shareddrives/Deep Learning/datasets/GMB/GMB_embedding_train.csv\")\n",
        "dataset_embedding_test.to_csv(\"/content/drive/Shareddrives/Deep Learning/datasets/GMB/GMB_embedding_test.csv\")\n",
        "### SALVA unione di vari TRAIN E TEST IN FILE CSV DIFFERENTI\n",
        "frames_train_original_sinonimi =[dataset_original_train,dataset_sinonimi_train]\n",
        "frames_test_original_sinonimi =[dataset_original_test,dataset_sinonimi_test]\n",
        "\n",
        "result_train_original_sinonimi = pd.concat(frames_train_original_sinonimi)\n",
        "result_test_original_sinonimi = pd.concat(frames_test_original_sinonimi)\n",
        "\n",
        "result_train_original_sinonimi.to_csv(\"/content/drive/Shareddrives/Deep Learning/datasets/GMB/GMB_original_sinonimi_train.csv\")\n",
        "result_test_original_sinonimi.to_csv(\"/content/drive/Shareddrives/Deep Learning/datasets/GMB/GMB_original_sinonimi_test.csv\")\n",
        "\n",
        "###ORIGINAL EMBEDDING\n",
        "frames_train_original_embeding =[dataset_original_train,dataset_embedding_train]\n",
        "frames_test_original_embeding =[dataset_original_test,dataset_embedding_test]\n",
        "\n",
        "result_train_original_embeding = pd.concat(frames_train_original_embeding)\n",
        "result_test_original_embeding = pd.concat(frames_test_original_embeding)\n",
        "\n",
        "result_train_original_embeding.to_csv(\"/content/drive/Shareddrives/Deep Learning/datasets/GMB/GMB_original_embeding_train.csv\")\n",
        "result_test_original_embeding.to_csv(\"/content/drive/Shareddrives/Deep Learning/datasets/GMB/GMB_original_embeding_test.csv\")\n",
        "\n",
        "###ORIGINAL EMBEDDING SINONIMI\n",
        "frames_train_original_embeding_sinonimi =[dataset_original_train,dataset_embedding_train,dataset_sinonimi_train]\n",
        "frames_test_original_embeding_sinonimi =[dataset_original_test,dataset_embedding_test,dataset_sinonimi_test]\n",
        "\n",
        "result_train_original_embeding_sinonimi = pd.concat(frames_train_original_embeding_sinonimi)\n",
        "result_test_original_embeding_sinonimi = pd.concat(frames_test_original_embeding_sinonimi)\n",
        "\n",
        "result_train_original_embeding_sinonimi.to_csv(\"/content/drive/Shareddrives/Deep Learning/datasets/GMB/GMB_original_embeding_sinonimi_train.csv\")\n",
        "result_test_original_embeding_sinonimi.to_csv(\"/content/drive/Shareddrives/Deep Learning/datasets/GMB/GMB_original_embeding_sinonimi_test.csv\")"
      ],
      "execution_count": 6,
      "outputs": [
        {
          "output_type": "stream",
          "text": [
            "Indice separatore train test:  46373\n"
          ],
          "name": "stdout"
        }
      ]
    }
  ]
}