{
  "nbformat": 4,
  "nbformat_minor": 0,
  "metadata": {
    "colab": {
      "name": "Amazon_reduceAndChunk.ipynb",
      "provenance": [],
      "authorship_tag": "ABX9TyPF1yXL8djawGUhsyYFJ3b/",
      "include_colab_link": true
    },
    "kernelspec": {
      "name": "python3",
      "display_name": "Python 3"
    }
  },
  "cells": [
    {
      "cell_type": "markdown",
      "metadata": {
        "id": "view-in-github",
        "colab_type": "text"
      },
      "source": [
        "<a href=\"https://colab.research.google.com/github/Tomawock/NLP_Attack/blob/main/utils/Amazon_reduceAndChunk.ipynb\" target=\"_parent\"><img src=\"https://colab.research.google.com/assets/colab-badge.svg\" alt=\"Open In Colab\"/></a>"
      ]
    },
    {
      "cell_type": "code",
      "metadata": {
        "id": "HdBrZSidajh4"
      },
      "source": [
        "!pip install textattack"
      ],
      "execution_count": null,
      "outputs": []
    },
    {
      "cell_type": "code",
      "metadata": {
        "colab": {
          "base_uri": "https://localhost:8080/"
        },
        "id": "EblJyZP-anog",
        "outputId": "f1f94cc0-2ae3-4bc8-973d-7ae973b14601"
      },
      "source": [
        "from google.colab import drive\n",
        "drive.mount('/content/drive')"
      ],
      "execution_count": 2,
      "outputs": [
        {
          "output_type": "stream",
          "text": [
            "Mounted at /content/drive\n"
          ],
          "name": "stdout"
        }
      ]
    },
    {
      "cell_type": "code",
      "metadata": {
        "id": "WS4zWeC5k7Jh"
      },
      "source": [
        "import numpy as np\n",
        "import pandas as pd\n",
        "from textattack.augmentation import WordNetAugmenter\n",
        "from textattack.augmentation import EmbeddingAugmenter"
      ],
      "execution_count": null,
      "outputs": []
    },
    {
      "cell_type": "code",
      "metadata": {
        "colab": {
          "base_uri": "https://localhost:8080/"
        },
        "id": "EES0nLx0aapK",
        "outputId": "14f23fb8-9632-4d1f-96cf-fb9c03547b13"
      },
      "source": [
        "dataset = pd.read_csv('/content/drive/Shareddrives/Deep Learning/datasets/Amazon/Reviews.csv')\n",
        "print(f\"COLONNE:{dataset.columns}\")\n",
        "print(f\"DIMENSIONE:{dataset.shape}\")"
      ],
      "execution_count": 8,
      "outputs": [
        {
          "output_type": "stream",
          "text": [
            "COLONNE:Index(['Id', 'ProductId', 'UserId', 'ProfileName', 'HelpfulnessNumerator',\n",
            "       'HelpfulnessDenominator', 'Score', 'Time', 'Summary', 'Text'],\n",
            "      dtype='object')\n",
            "DIMENSIONE:(568454, 10)\n",
            "COLONNE:Index(['Score', 'Summary', 'Text'], dtype='object')\n",
            "DIMENSIONE:(393579, 3)\n"
          ],
          "name": "stdout"
        }
      ]
    },
    {
      "cell_type": "markdown",
      "metadata": {
        "id": "KmuPwBBjlOqj"
      },
      "source": [
        "##Filtering del dataset dei dati duplicati e rimozione parti inutili di esso"
      ]
    },
    {
      "cell_type": "code",
      "metadata": {
        "id": "Job4O-xHlK6f"
      },
      "source": [
        "rar=dataset.copy()\n",
        "rar.drop_duplicates(subset =\"Text\",\n",
        "                    keep = \"last\", inplace = True)\n",
        "rar.drop(['Id','ProductId', 'UserId', 'ProfileName', 'HelpfulnessNumerator','HelpfulnessDenominator','Time'], axis=1, inplace=True)\n",
        "print(f\"COLONNE:{rar.columns}\")\n",
        "print(f\"DIMENSIONE:{rar.shape}\")"
      ],
      "execution_count": null,
      "outputs": []
    },
    {
      "cell_type": "code",
      "metadata": {
        "id": "PfKcP6Qjinv7"
      },
      "source": [
        "rar[\"review_type\"] = rar[\"Score\"].apply(lambda x: \"negative\" if x < 4 else \"positive\")"
      ],
      "execution_count": 11,
      "outputs": []
    },
    {
      "cell_type": "code",
      "metadata": {
        "colab": {
          "base_uri": "https://localhost:8080/"
        },
        "id": "VNHiK3TUiblp",
        "outputId": "cf9b58ce-edc3-4a90-90fd-5dbc12484ba2"
      },
      "source": [
        "rar.review_type.value_counts()"
      ],
      "execution_count": 12,
      "outputs": [
        {
          "output_type": "execute_result",
          "data": {
            "text/plain": [
              "positive    306756\n",
              "negative     86823\n",
              "Name: review_type, dtype: int64"
            ]
          },
          "metadata": {
            "tags": []
          },
          "execution_count": 12
        }
      ]
    },
    {
      "cell_type": "code",
      "metadata": {
        "id": "7klaoVwci76A"
      },
      "source": [
        "positive_reviews = rar[rar.review_type == \"positive\"]\n",
        "negative_reviews = rar[rar.review_type == \"negative\"]"
      ],
      "execution_count": 14,
      "outputs": []
    },
    {
      "cell_type": "code",
      "metadata": {
        "id": "8PqtMNDwjMfh"
      },
      "source": [
        "positive_df = positive_reviews.sample(n=len(negative_reviews), random_state=22)\n",
        "negative_df = negative_reviews"
      ],
      "execution_count": 31,
      "outputs": []
    },
    {
      "cell_type": "code",
      "metadata": {
        "colab": {
          "base_uri": "https://localhost:8080/",
          "height": 424
        },
        "id": "icalC3hDkAn9",
        "outputId": "e7c0228e-4705-4bbe-cffc-de8f0450a229"
      },
      "source": [
        "df = pd.concat(objs=[positive_df, negative_df]).sample(frac=1).reset_index(drop=True)\n",
        "df"
      ],
      "execution_count": 56,
      "outputs": [
        {
          "output_type": "execute_result",
          "data": {
            "text/html": [
              "<div>\n",
              "<style scoped>\n",
              "    .dataframe tbody tr th:only-of-type {\n",
              "        vertical-align: middle;\n",
              "    }\n",
              "\n",
              "    .dataframe tbody tr th {\n",
              "        vertical-align: top;\n",
              "    }\n",
              "\n",
              "    .dataframe thead th {\n",
              "        text-align: right;\n",
              "    }\n",
              "</style>\n",
              "<table border=\"1\" class=\"dataframe\">\n",
              "  <thead>\n",
              "    <tr style=\"text-align: right;\">\n",
              "      <th></th>\n",
              "      <th>Score</th>\n",
              "      <th>Summary</th>\n",
              "      <th>Text</th>\n",
              "      <th>review_type</th>\n",
              "    </tr>\n",
              "  </thead>\n",
              "  <tbody>\n",
              "    <tr>\n",
              "      <th>0</th>\n",
              "      <td>5</td>\n",
              "      <td>excellent steak and meat seasoning</td>\n",
              "      <td>The Lynchburg seasoning adds great flavor to a...</td>\n",
              "      <td>positive</td>\n",
              "    </tr>\n",
              "    <tr>\n",
              "      <th>1</th>\n",
              "      <td>3</td>\n",
              "      <td>Just Okay</td>\n",
              "      <td>I was very happy to find this item at Amazon. ...</td>\n",
              "      <td>negative</td>\n",
              "    </tr>\n",
              "    <tr>\n",
              "      <th>2</th>\n",
              "      <td>5</td>\n",
              "      <td>Awesome, Who do I tell?!</td>\n",
              "      <td>I just had two of these heated in the microwav...</td>\n",
              "      <td>positive</td>\n",
              "    </tr>\n",
              "    <tr>\n",
              "      <th>3</th>\n",
              "      <td>1</td>\n",
              "      <td>Most weren't flavored</td>\n",
              "      <td>I didn't expect to receive the exact mix that ...</td>\n",
              "      <td>negative</td>\n",
              "    </tr>\n",
              "    <tr>\n",
              "      <th>4</th>\n",
              "      <td>4</td>\n",
              "      <td>McCann's Steel Cut Oatmeal</td>\n",
              "      <td>What a treat! This oatmeal is fantastic and al...</td>\n",
              "      <td>positive</td>\n",
              "    </tr>\n",
              "    <tr>\n",
              "      <th>...</th>\n",
              "      <td>...</td>\n",
              "      <td>...</td>\n",
              "      <td>...</td>\n",
              "      <td>...</td>\n",
              "    </tr>\n",
              "    <tr>\n",
              "      <th>173641</th>\n",
              "      <td>2</td>\n",
              "      <td>Ok but tastes suspiciously like Campbell's Select</td>\n",
              "      <td>This soup is ok, but it's certainly not what y...</td>\n",
              "      <td>negative</td>\n",
              "    </tr>\n",
              "    <tr>\n",
              "      <th>173642</th>\n",
              "      <td>1</td>\n",
              "      <td>not my cup of coffee</td>\n",
              "      <td>i bought this becuase i liked the nescaf&amp;eacut...</td>\n",
              "      <td>negative</td>\n",
              "    </tr>\n",
              "    <tr>\n",
              "      <th>173643</th>\n",
              "      <td>5</td>\n",
              "      <td>Amazing coffee!</td>\n",
              "      <td>I absolutely love this coffee and even though ...</td>\n",
              "      <td>positive</td>\n",
              "    </tr>\n",
              "    <tr>\n",
              "      <th>173644</th>\n",
              "      <td>1</td>\n",
              "      <td>BUGS IN THE CHOCOLATE</td>\n",
              "      <td>I FOUND BUGS IN THE PACKETTE! IF YOU DONT LIKE...</td>\n",
              "      <td>negative</td>\n",
              "    </tr>\n",
              "    <tr>\n",
              "      <th>173645</th>\n",
              "      <td>1</td>\n",
              "      <td>Waaaay Overpriced</td>\n",
              "      <td>Buy them anywhere for much cheaper.  They shou...</td>\n",
              "      <td>negative</td>\n",
              "    </tr>\n",
              "  </tbody>\n",
              "</table>\n",
              "<p>173646 rows × 4 columns</p>\n",
              "</div>"
            ],
            "text/plain": [
              "        Score  ... review_type\n",
              "0           5  ...    positive\n",
              "1           3  ...    negative\n",
              "2           5  ...    positive\n",
              "3           1  ...    negative\n",
              "4           4  ...    positive\n",
              "...       ...  ...         ...\n",
              "173641      2  ...    negative\n",
              "173642      1  ...    negative\n",
              "173643      5  ...    positive\n",
              "173644      1  ...    negative\n",
              "173645      1  ...    negative\n",
              "\n",
              "[173646 rows x 4 columns]"
            ]
          },
          "metadata": {
            "tags": []
          },
          "execution_count": 56
        }
      ]
    },
    {
      "cell_type": "code",
      "metadata": {
        "id": "lbFBC5ExmZPz"
      },
      "source": [
        "df.to_csv('/content/drive/Shareddrives/Deep Learning/datasets/Amazon/reducedReviews.csv', index=False)"
      ],
      "execution_count": 63,
      "outputs": []
    },
    {
      "cell_type": "code",
      "metadata": {
        "colab": {
          "base_uri": "https://localhost:8080/",
          "height": 363
        },
        "id": "kGkmxxpnqF0M",
        "outputId": "5a09dcd7-2070-4e73-eb82-7adc678f46f1"
      },
      "source": [
        "df.iloc[[i*2000 for i in range(10)]]"
      ],
      "execution_count": 67,
      "outputs": [
        {
          "output_type": "execute_result",
          "data": {
            "text/html": [
              "<div>\n",
              "<style scoped>\n",
              "    .dataframe tbody tr th:only-of-type {\n",
              "        vertical-align: middle;\n",
              "    }\n",
              "\n",
              "    .dataframe tbody tr th {\n",
              "        vertical-align: top;\n",
              "    }\n",
              "\n",
              "    .dataframe thead th {\n",
              "        text-align: right;\n",
              "    }\n",
              "</style>\n",
              "<table border=\"1\" class=\"dataframe\">\n",
              "  <thead>\n",
              "    <tr style=\"text-align: right;\">\n",
              "      <th></th>\n",
              "      <th>Score</th>\n",
              "      <th>Summary</th>\n",
              "      <th>Text</th>\n",
              "      <th>review_type</th>\n",
              "    </tr>\n",
              "  </thead>\n",
              "  <tbody>\n",
              "    <tr>\n",
              "      <th>0</th>\n",
              "      <td>5</td>\n",
              "      <td>excellent steak and meat seasoning</td>\n",
              "      <td>The Lynchburg seasoning adds great flavor to a...</td>\n",
              "      <td>positive</td>\n",
              "    </tr>\n",
              "    <tr>\n",
              "      <th>2000</th>\n",
              "      <td>2</td>\n",
              "      <td>Edible, But Not as Good As Hoped For</td>\n",
              "      <td>I must start off by saying that I really reall...</td>\n",
              "      <td>negative</td>\n",
              "    </tr>\n",
              "    <tr>\n",
              "      <th>4000</th>\n",
              "      <td>5</td>\n",
              "      <td>Salon Quality</td>\n",
              "      <td>I was impressed with this shampoo.  It has a n...</td>\n",
              "      <td>positive</td>\n",
              "    </tr>\n",
              "    <tr>\n",
              "      <th>6000</th>\n",
              "      <td>1</td>\n",
              "      <td>Taste just like real pasta</td>\n",
              "      <td>Because it is. I am a low carb eater and one s...</td>\n",
              "      <td>negative</td>\n",
              "    </tr>\n",
              "    <tr>\n",
              "      <th>8000</th>\n",
              "      <td>2</td>\n",
              "      <td>terminally mediocre (in my hands)</td>\n",
              "      <td>My experience is quite different to most other...</td>\n",
              "      <td>negative</td>\n",
              "    </tr>\n",
              "    <tr>\n",
              "      <th>10000</th>\n",
              "      <td>5</td>\n",
              "      <td>BROWN RICE CAKES</td>\n",
              "      <td>These are absolutely the best rice cakes in th...</td>\n",
              "      <td>positive</td>\n",
              "    </tr>\n",
              "    <tr>\n",
              "      <th>12000</th>\n",
              "      <td>1</td>\n",
              "      <td>WAY TOO MUCH SEASONING</td>\n",
              "      <td>I am sorry I bought a dozen. I though I could ...</td>\n",
              "      <td>negative</td>\n",
              "    </tr>\n",
              "    <tr>\n",
              "      <th>14000</th>\n",
              "      <td>5</td>\n",
              "      <td>The best cereal!</td>\n",
              "      <td>My family loves this cereal!  It is the only k...</td>\n",
              "      <td>positive</td>\n",
              "    </tr>\n",
              "    <tr>\n",
              "      <th>16000</th>\n",
              "      <td>5</td>\n",
              "      <td>Outstanding gingerbread flavor!</td>\n",
              "      <td>Went to a Red Robin's chain restaurant the oth...</td>\n",
              "      <td>positive</td>\n",
              "    </tr>\n",
              "    <tr>\n",
              "      <th>18000</th>\n",
              "      <td>5</td>\n",
              "      <td>Peachy Goodness</td>\n",
              "      <td>I purchased this item To use as wedding favors...</td>\n",
              "      <td>positive</td>\n",
              "    </tr>\n",
              "  </tbody>\n",
              "</table>\n",
              "</div>"
            ],
            "text/plain": [
              "       Score  ... review_type\n",
              "0          5  ...    positive\n",
              "2000       2  ...    negative\n",
              "4000       5  ...    positive\n",
              "6000       1  ...    negative\n",
              "8000       2  ...    negative\n",
              "10000      5  ...    positive\n",
              "12000      1  ...    negative\n",
              "14000      5  ...    positive\n",
              "16000      5  ...    positive\n",
              "18000      5  ...    positive\n",
              "\n",
              "[10 rows x 4 columns]"
            ]
          },
          "metadata": {
            "tags": []
          },
          "execution_count": 67
        }
      ]
    },
    {
      "cell_type": "markdown",
      "metadata": {
        "id": "50EoTG9jrsuw"
      },
      "source": [
        "#### Function to chunk"
      ]
    },
    {
      "cell_type": "code",
      "metadata": {
        "id": "vWaIjZZybdtR"
      },
      "source": [
        "def chunk(dataset, dim=2000, max_iteration=60):\n",
        "  for i in range(min(len(dataset)//dim, max_iteration)):\n",
        "    yield dataset[i*dim:(i+1)*dim]"
      ],
      "execution_count": 64,
      "outputs": []
    },
    {
      "cell_type": "markdown",
      "metadata": {
        "id": "Bw-hb32Erw4E"
      },
      "source": [
        "### Parallel execution"
      ]
    },
    {
      "cell_type": "code",
      "metadata": {
        "id": "ZzncXqUAr1KM"
      },
      "source": [
        "import threading"
      ],
      "execution_count": 92,
      "outputs": []
    },
    {
      "cell_type": "code",
      "metadata": {
        "colab": {
          "base_uri": "https://localhost:8080/",
          "height": 363
        },
        "id": "ilal88gYt2Ia",
        "outputId": "2ff355ae-5086-4793-e687-50df0db9052f"
      },
      "source": [
        "df.iloc[[2000*i for i in range(10)], [0]]"
      ],
      "execution_count": 89,
      "outputs": [
        {
          "output_type": "execute_result",
          "data": {
            "text/html": [
              "<div>\n",
              "<style scoped>\n",
              "    .dataframe tbody tr th:only-of-type {\n",
              "        vertical-align: middle;\n",
              "    }\n",
              "\n",
              "    .dataframe tbody tr th {\n",
              "        vertical-align: top;\n",
              "    }\n",
              "\n",
              "    .dataframe thead th {\n",
              "        text-align: right;\n",
              "    }\n",
              "</style>\n",
              "<table border=\"1\" class=\"dataframe\">\n",
              "  <thead>\n",
              "    <tr style=\"text-align: right;\">\n",
              "      <th></th>\n",
              "      <th>Score</th>\n",
              "    </tr>\n",
              "  </thead>\n",
              "  <tbody>\n",
              "    <tr>\n",
              "      <th>0</th>\n",
              "      <td>5</td>\n",
              "    </tr>\n",
              "    <tr>\n",
              "      <th>2000</th>\n",
              "      <td>2</td>\n",
              "    </tr>\n",
              "    <tr>\n",
              "      <th>4000</th>\n",
              "      <td>5</td>\n",
              "    </tr>\n",
              "    <tr>\n",
              "      <th>6000</th>\n",
              "      <td>1</td>\n",
              "    </tr>\n",
              "    <tr>\n",
              "      <th>8000</th>\n",
              "      <td>2</td>\n",
              "    </tr>\n",
              "    <tr>\n",
              "      <th>10000</th>\n",
              "      <td>5</td>\n",
              "    </tr>\n",
              "    <tr>\n",
              "      <th>12000</th>\n",
              "      <td>1</td>\n",
              "    </tr>\n",
              "    <tr>\n",
              "      <th>14000</th>\n",
              "      <td>5</td>\n",
              "    </tr>\n",
              "    <tr>\n",
              "      <th>16000</th>\n",
              "      <td>5</td>\n",
              "    </tr>\n",
              "    <tr>\n",
              "      <th>18000</th>\n",
              "      <td>5</td>\n",
              "    </tr>\n",
              "  </tbody>\n",
              "</table>\n",
              "</div>"
            ],
            "text/plain": [
              "       Score\n",
              "0          5\n",
              "2000       2\n",
              "4000       5\n",
              "6000       1\n",
              "8000       2\n",
              "10000      5\n",
              "12000      1\n",
              "14000      5\n",
              "16000      5\n",
              "18000      5"
            ]
          },
          "metadata": {
            "tags": []
          },
          "execution_count": 89
        }
      ]
    },
    {
      "cell_type": "code",
      "metadata": {
        "id": "OFpfMMwvtOYl"
      },
      "source": [
        "def stampa(subset):\n",
        "  print(subset.iloc[0])"
      ],
      "execution_count": 100,
      "outputs": []
    },
    {
      "cell_type": "code",
      "metadata": {
        "colab": {
          "base_uri": "https://localhost:8080/"
        },
        "id": "-8IYikq8b_He",
        "outputId": "9d353a37-4439-47b1-8ea3-006b89d7e457"
      },
      "source": [
        "i = 0\n",
        "for subset in chunk(df):\n",
        "  threading.Thread(target=stampa,\n",
        "                   args=[subset]).start()"
      ],
      "execution_count": 101,
      "outputs": [
        {
          "output_type": "stream",
          "text": [
            "Score                                                          5\n",
            "Summary                       excellent steak and meat seasoning\n",
            "Text           The Lynchburg seasoning adds great flavor to a...\n",
            "review_type                                             positive\n",
            "Name: 0, dtype: object\n",
            "Score                                                          2\n",
            "Summary                     Edible, But Not as Good As Hoped For\n",
            "Text           I must start off by saying that I really reall...\n",
            "review_type                                             negative\n",
            "Name: 2000, dtype: object\n",
            "Score                                                          5\n",
            "Summary                                            Salon Quality\n",
            "Text           I was impressed with this shampoo.  It has a n...\n",
            "review_type                                             positive\n",
            "Name: 4000, dtype: object\n",
            "Score                                                          1\n",
            "Summary                               Taste just like real pasta\n",
            "Text           Because it is. I am a low carb eater and one s...\n",
            "review_type                                             negative\n",
            "Name: 6000, dtype: objectScore                                                          2\n",
            "Summary                        terminally mediocre (in my hands)\n",
            "Text           My experience is quite different to most other...\n",
            "review_type                                             negative\n",
            "Name: 8000, dtype: object\n",
            "\n",
            "Score                                                          5\n",
            "Summary                                         BROWN RICE CAKES\n",
            "Text           These are absolutely the best rice cakes in th...\n",
            "review_type                                             positive\n",
            "Name: 10000, dtype: object\n",
            "Score                                                          1\n",
            "Summary                                   WAY TOO MUCH SEASONING\n",
            "Text           I am sorry I bought a dozen. I though I could ...\n",
            "review_type                                             negative\n",
            "Name: 12000, dtype: object\n",
            "Score                                                          5\n",
            "Summary                                         The best cereal!\n",
            "Text           My family loves this cereal!  It is the only k...\n",
            "review_type                                             positive\n",
            "Name: 14000, dtype: object\n",
            "Score                                                          5\n",
            "Summary                          Outstanding gingerbread flavor!\n",
            "Text           Went to a Red Robin's chain restaurant the oth...\n",
            "review_type                                             positive\n",
            "Name: 16000, dtype: object\n",
            "Score                                                          5\n",
            "Summary                                          Peachy Goodness\n",
            "Text           I purchased this item To use as wedding favors...\n",
            "review_type                                             positive\n",
            "Name: 18000, dtype: object\n",
            "Score                                                          2\n",
            "Summary        Nice flavor topping but watch for defective se...\n",
            "Text           This topping has a very nice flavor and makes ...\n",
            "review_type                                             negative\n",
            "Name: 20000, dtype: object\n",
            "Score                                                          1\n",
            "Summary                                    price jumps be warned\n",
            "Text           I purchased this item on subscription for less...\n",
            "review_type                                             negative\n",
            "Name: 22000, dtype: object\n",
            "Score                                                          5\n",
            "Summary                                     Superb Pate/Rillette\n",
            "Text           This is a fabulous French rillette made with d...\n",
            "review_type                                             positive\n",
            "Name: 24000, dtype: object\n",
            "Score                                                          1\n",
            "Summary                                             Dissapointed\n",
            "Text           Purchasing these, I was expecting dried tart c...\n",
            "review_type                                             negative\n",
            "Name: 26000, dtype: object\n",
            "Score                                                          4\n",
            "Summary                                          Freshness First\n",
            "Text           freshness is my #1 priority in making coffee. ...\n",
            "review_type                                             positive\n",
            "Name: 28000, dtype: object\n",
            "Score                                                          5\n",
            "Summary                                        almost guilt free\n",
            "Text           The pancakes and waffles taste great! I just f...\n",
            "review_type                                             positive\n",
            "Name: 30000, dtype: object\n",
            "Score                                                          1\n",
            "Summary                                            wrong product\n",
            "Text           I ordered triple chocolate crunch bars and rec...\n",
            "review_type                                             negative\n",
            "Name: 32000, dtype: objectScore                                                          1\n",
            "Summary                                                     YUCK\n",
            "Text           Sorry, but I can't say too many good things ab...\n",
            "review_type                                             negative\n",
            "Name: 34000, dtype: object\n",
            "\n",
            "Score                                                          1\n",
            "Summary                                            Tastes BURNT!\n",
            "Text           I had bought the \"original\" version of this br...\n",
            "review_type                                             negative\n",
            "Name: 36000, dtype: object\n",
            "Score                                                          5\n",
            "Summary                                      Quick, easy, tasty!\n",
            "Text           I loved this quick meal so much (my family and...\n",
            "review_type                                             positive\n",
            "Name: 38000, dtype: object\n",
            "Score                                                          5\n",
            "Summary                          great breakfast stuff and snack\n",
            "Text           Pretty expensive to buy this way, but it is go...\n",
            "review_type                                             positive\n",
            "Name: 40000, dtype: object\n",
            "Score                                                          2\n",
            "Summary                                                    EEWW!\n",
            "Text           Leaves nasty gunk on ones fingers, totally cru...\n",
            "review_type                                             negative\n",
            "Name: 42000, dtype: object\n",
            "Score                                                          1\n",
            "Summary                                      SMELLED LIKE MILDEW\n",
            "Text           WORST PURCHASE I EVER BOUGHT OFF OF AMAZON AND...\n",
            "review_type                                             negative\n",
            "Name: 44000, dtype: object\n",
            "Score                                                          5\n",
            "Summary                                       Pure Concentration\n",
            "Text           My dog is totally fixated on these rawhide bon...\n",
            "review_type                                             positive\n",
            "Name: 46000, dtype: object\n",
            "Score                                                          5\n",
            "Summary                                  Great Buy for the Money\n",
            "Text           A great product.  Healthy, nice container, and...\n",
            "review_type                                             positive\n",
            "Name: 48000, dtype: object\n",
            "Score                                                          1\n",
            "Summary                                        Cats won't eat it\n",
            "Text           My cats are not finicky eaters. They will eat ...\n",
            "review_type                                             negative\n",
            "Name: 50000, dtype: object\n",
            "Score                                                          5\n",
            "Summary        The ENERGY drink is the only one I can tolerat...\n",
            "Text           We got a Sodastream for Christmas. My kids hav...\n",
            "review_type                                             positive\n",
            "Name: 52000, dtype: object\n",
            "Score                                                          5\n",
            "Summary                                                  Delish!\n",
            "Text           My dauchshunds adore this.  I break it in quar...\n",
            "review_type                                             positive\n",
            "Name: 54000, dtype: object\n",
            "Score                                                          5\n",
            "Summary                                                addictive\n",
            "Text           I really have not much to add to all the other...\n",
            "review_type                                             positive\n",
            "Name: 56000, dtype: object\n",
            "Score                                                          4\n",
            "Summary                          Worth it after modifying recipe\n",
            "Text           Great cupcakes, but had to modify recipe to ma...\n",
            "review_type                                             positive\n",
            "Name: 58000, dtype: object\n",
            "Score                                                          5\n",
            "Summary                                     Vet Recommended Food\n",
            "Text           Our Vet is very much into quality nutrition fo...\n",
            "review_type                                             positive\n",
            "Name: 60000, dtype: object\n",
            "Score                                                          3\n",
            "Summary                       Wonderful idea-difficult to clean.\n",
            "Text           I love, love, love the idea of this product an...\n",
            "review_type                                             negative\n",
            "Name: 62000, dtype: object\n",
            "Score                                                          5\n",
            "Summary                                                     chai\n",
            "Text           The chai is excellent!  My parents lived in Ne...\n",
            "review_type                                             positive\n",
            "Name: 64000, dtype: object\n",
            "Score                                                          1\n",
            "Summary        Reviews are nor exaggerated, these little guys...\n",
            "Text           These definitely are nice and powerful mints, ...\n",
            "review_type                                             negative\n",
            "Name: 66000, dtype: object\n",
            "Score                                                          1\n",
            "Summary                                       Used to love this.\n",
            "Text           Rondnoir used to be my favorite candy of all t...\n",
            "review_type                                             negative\n",
            "Name: 68000, dtype: object\n",
            "Score                                                          2\n",
            "Summary                Lindt Excellence Chili Dark Chocolate Bar\n",
            "Text           I agree with the other reviews that said this ...\n",
            "review_type                                             negative\n",
            "Name: 70000, dtype: object\n",
            "Score                                                          1\n",
            "Summary                                  Not liked by either dog\n",
            "Text           These are just glorified rawhide chews.Both do...\n",
            "review_type                                             negative\n",
            "Name: 72000, dtype: object\n",
            "Score                                                          5\n",
            "Summary                                         THIS SAUCE ROCKS\n",
            "Text           I got this sauce for a Christmas present.I was...\n",
            "review_type                                             positive\n",
            "Name: 74000, dtype: object\n",
            "Score                                                          1\n",
            "Summary                                 Worst hot chocolate ever\n",
            "Text           Just bought the new keurig vue after having an...\n",
            "review_type                                             negative\n",
            "Name: 76000, dtype: object\n",
            "Score                                                          5\n",
            "Summary                                     Awesome jasmine rice\n",
            "Text           I wanted to get some rice.  Just plain rice.  ...\n",
            "review_type                                             positive\n",
            "Name: 78000, dtype: object\n",
            "Score                                                          2\n",
            "Summary        Too bitter for my taste, not what I expected o...\n",
            "Text           The illy issimo Coffee Drink, Caff&egrave;, 6....\n",
            "review_type                                             negative\n",
            "Name: 80000, dtype: object\n",
            "Score                                                          3\n",
            "Summary                                         Not too thrilled\n",
            "Text           I had some quinoa pasta at a relative's house ...\n",
            "review_type                                             negative\n",
            "Name: 82000, dtype: object\n",
            "Score                                                          5\n",
            "Summary                                Best deal on Wheat Gluten\n",
            "Text           Hands down, this is the best bulk deal on Whea...\n",
            "review_type                                             positive\n",
            "Name: 84000, dtype: object\n",
            "Score                                                          2\n",
            "Summary                                          Tough To Digest\n",
            "Text           I have 2 dogs.  A Chow and a Berner.  These Sm...\n",
            "review_type                                             negative\n",
            "Name: 86000, dtype: object\n",
            "Score                                                          5\n",
            "Summary                                             Good Product\n",
            "Text           Definately a very high quality taste.  I used ...\n",
            "review_type                                             positive\n",
            "Name: 88000, dtype: object\n",
            "Score                                                          1\n",
            "Summary                                                 Not good\n",
            "Text           Got a 12 pack of these on sale from amazon war...\n",
            "review_type                                             negative\n",
            "Name: 90000, dtype: object\n",
            "Score                                                          5\n",
            "Summary                                         Love this sauce!\n",
            "Text           This is an excellent Kung Pao sauce. It's just...\n",
            "review_type                                             positive\n",
            "Name: 92000, dtype: object\n",
            "Score                                                          5\n",
            "Summary                                              Great Price\n",
            "Text           Our yorkie and shitzu love greenies and the pr...\n",
            "review_type                                             positive\n",
            "Name: 94000, dtype: object\n",
            "Score                                                          5\n",
            "Summary                                      My \"go to\" food now\n",
            "Text           My Siberian huskies are super sensitive to foo...\n",
            "review_type                                             positive\n",
            "Name: 96000, dtype: object\n",
            "Score                                                          5\n",
            "Summary                               Wonderful soda alternative\n",
            "Text           All non sugar soda is going to have some kind ...\n",
            "review_type                                             positive\n",
            "Name: 98000, dtype: object\n",
            "Score                                                          2\n",
            "Summary                    Good, as long as they are still fresh\n",
            "Text           I bought these chips in May 2009, and they wer...\n",
            "review_type                                             negative\n",
            "Name: 100000, dtype: object\n",
            "Score                                                          5\n",
            "Summary                                   Shortbreads are great!\n",
            "Text           I have always loved any of the Walker shortbre...\n",
            "review_type                                             positive\n",
            "Name: 102000, dtype: object\n",
            "Score                                                          2\n",
            "Summary                                      Disappointing beets\n",
            "Text           I purchased a sampler package which included t...\n",
            "review_type                                             negative\n",
            "Name: 104000, dtype: object\n",
            "Score                                                          1\n",
            "Summary                                        Very Disappointed\n",
            "Text           After having the privilege to test Emerald's M...\n",
            "review_type                                             negative\n",
            "Name: 106000, dtype: object\n",
            "Score                                                          1\n",
            "Summary                           Please don't waste your money.\n",
            "Text           I tried rinsing them.  I tried eating them.  I...\n",
            "review_type                                             negative\n",
            "Name: 108000, dtype: object\n",
            "Score                                                          3\n",
            "Summary                                      such a nice product\n",
            "Text           Needed Sugar for cookies I was baking for my f...\n",
            "review_type                                             negative\n",
            "Name: 110000, dtype: object\n",
            "Score                                                          1\n",
            "Summary                                               Ridiculous\n",
            "Text           I purchased this package of Milky Ways a few m...\n",
            "review_type                                             negative\n",
            "Name: 112000, dtype: object\n",
            "Score                                                          2\n",
            "Summary              hmmm, just did not hit the taste buds right\n",
            "Text           1st, i really do like the BLACK licorice and r...\n",
            "review_type                                             negative\n",
            "Name: 114000, dtype: object\n",
            "Score                                                          1\n",
            "Summary                                          do not buy this\n",
            "Text           This was a waist of $. The flowering tea DOES ...\n",
            "review_type                                             negative\n",
            "Name: 116000, dtype: object\n",
            "Score                                                          5\n",
            "Summary                   Stevia may be the ideal diet sweetener\n",
            "Text           If you are drinking diet soda for the taste, p...\n",
            "review_type                                             positive\n",
            "Name: 118000, dtype: object\n"
          ],
          "name": "stdout"
        }
      ]
    }
  ]
}