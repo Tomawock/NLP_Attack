{
  "nbformat": 4,
  "nbformat_minor": 0,
  "metadata": {
    "colab": {
      "name": "ATE_nn_picklegen.ipynb",
      "provenance": [],
      "authorship_tag": "ABX9TyNU5WfJQbv5fv0YqYXp0nG6",
      "include_colab_link": true
    },
    "kernelspec": {
      "name": "python3",
      "display_name": "Python 3"
    },
    "accelerator": "GPU"
  },
  "cells": [
    {
      "cell_type": "markdown",
      "metadata": {
        "id": "view-in-github",
        "colab_type": "text"
      },
      "source": [
        "<a href=\"https://colab.research.google.com/github/Tomawock/NLP_Attack/blob/main/utils/ATE_nn_picklegen.ipynb\" target=\"_parent\"><img src=\"https://colab.research.google.com/assets/colab-badge.svg\" alt=\"Open In Colab\"/></a>"
      ]
    },
    {
      "cell_type": "code",
      "metadata": {
        "id": "4oLEDXbdU-L4"
      },
      "source": [
        "%pip install fasttext"
      ],
      "execution_count": null,
      "outputs": []
    },
    {
      "cell_type": "code",
      "metadata": {
        "id": "N9hU7bL0TntE"
      },
      "source": [
        "import fasttext\n",
        "import fasttext.util\n",
        "import numpy as np\n",
        "import pickle\n",
        "from tqdm import tqdm"
      ],
      "execution_count": 91,
      "outputs": []
    },
    {
      "cell_type": "code",
      "metadata": {
        "colab": {
          "base_uri": "https://localhost:8080/"
        },
        "id": "ezdT7-SPVR5v",
        "outputId": "653e50dc-c1eb-4c4b-a181-b8e9c13bcf87"
      },
      "source": [
        "from google.colab import drive\n",
        "drive.mount('/content/drive')"
      ],
      "execution_count": 3,
      "outputs": [
        {
          "output_type": "stream",
          "text": [
            "Mounted at /content/drive\n"
          ],
          "name": "stdout"
        }
      ]
    },
    {
      "cell_type": "code",
      "metadata": {
        "colab": {
          "base_uri": "https://localhost:8080/"
        },
        "id": "eTgCPc5qVifJ",
        "outputId": "315bc5ad-e41c-444d-ecb2-fce6141f5a6b"
      },
      "source": [
        "ft = fasttext.load_model('/content/drive/Shareddrives/Deep Learning/datasets/ATE_ABSITA/cc.it.300.bin')"
      ],
      "execution_count": 4,
      "outputs": [
        {
          "output_type": "stream",
          "text": [
            "Warning : `load_model` does not return WordVectorModel or SupervisedModel any more, but a `FastText` object which is very similar.\n"
          ],
          "name": "stderr"
        }
      ]
    },
    {
      "cell_type": "code",
      "metadata": {
        "id": "ZA2GeNHNgdJ6"
      },
      "source": [
        "with open(\"/content/drive/Shareddrives/Deep Learning/datasets/ATE_ABSITA/word2index.pkl\", 'rb') as output:\n",
        "  w2i = pickle.load(output)"
      ],
      "execution_count": 35,
      "outputs": []
    },
    {
      "cell_type": "code",
      "metadata": {
        "id": "LYb4vjwtj5oR"
      },
      "source": [
        "nn_1 = np.zeros((500000, 21), dtype=np.uint32)"
      ],
      "execution_count": 96,
      "outputs": []
    },
    {
      "cell_type": "code",
      "metadata": {
        "id": "PW6b7VzuciOg"
      },
      "source": [
        "for i, word in tqdm(enumerate(ft.words)):\n",
        "  if i > 500000:\n",
        "    break\n",
        "  else:\n",
        "    nn_1[i][:] = [i] + [w2i[val] for _, val in ft.get_nearest_neighbors(word, k=20)]"
      ],
      "execution_count": null,
      "outputs": []
    },
    {
      "cell_type": "code",
      "metadata": {
        "id": "zrMMQlCWmu3s"
      },
      "source": [
        "with open('/content/drive/Shareddrives/Deep Learning/datasets/ATE_ABSITA/nn_1.pkl', 'wb') as output:\n",
        "  pickle.dump(nn_1, output, protocol=4)"
      ],
      "execution_count": null,
      "outputs": []
    }
  ]
}