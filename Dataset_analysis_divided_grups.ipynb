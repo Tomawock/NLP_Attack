{
  "nbformat": 4,
  "nbformat_minor": 0,
  "metadata": {
    "colab": {
      "name": "Dataset_analysis_divided_grups.ipynb",
      "provenance": [],
      "collapsed_sections": [],
      "toc_visible": true,
      "include_colab_link": true
    },
    "kernelspec": {
      "name": "python3",
      "display_name": "Python 3"
    }
  },
  "cells": [
    {
      "cell_type": "markdown",
      "metadata": {
        "id": "view-in-github",
        "colab_type": "text"
      },
      "source": [
        "<a href=\"https://colab.research.google.com/github/Tomawock/NLP_Attack/blob/main/Dataset_analysis_divided_grups.ipynb\" target=\"_parent\"><img src=\"https://colab.research.google.com/assets/colab-badge.svg\" alt=\"Open In Colab\"/></a>"
      ]
    },
    {
      "cell_type": "code",
      "metadata": {
        "id": "sUPEOo7j24cZ"
      },
      "source": [
        "import pandas as pd\n",
        "import numpy as np\n",
        "import matplotlib.pyplot as plt"
      ],
      "execution_count": null,
      "outputs": []
    },
    {
      "cell_type": "markdown",
      "metadata": {
        "id": "8Q4iQSjeCD8T"
      },
      "source": [
        "### **Gruppo 1**\n",
        "\n",
        "> Non male i vari dataset escluso quello it che non si cpisce cosa sono i dati all'interno. Carini quelli di GMB e delle droghe, molto generici e relativamente fatti bene\n"
      ]
    },
    {
      "cell_type": "markdown",
      "metadata": {
        "id": "F2ddmm_dBr9o"
      },
      "source": [
        "## **Amazon recensioni**"
      ]
    },
    {
      "cell_type": "code",
      "metadata": {
        "id": "JgA59Rad6M2D"
      },
      "source": [
        "rev= pd.read_csv('Reviews.csv')"
      ],
      "execution_count": null,
      "outputs": []
    },
    {
      "cell_type": "code",
      "metadata": {
        "colab": {
          "base_uri": "https://localhost:8080/"
        },
        "id": "S1UDXjKX6M7f",
        "outputId": "a75b4ccd-a58c-48d1-f75d-7d2931cfa819"
      },
      "source": [
        "print(\"Numero RIGHE COLONNE\\n\",rev.shape)\n",
        "print(\"Nomi Colonne\\n\",rev.columns)\n",
        "print(\"Tipo Colonne\\n\",rev.dtypes)"
      ],
      "execution_count": null,
      "outputs": [
        {
          "output_type": "stream",
          "text": [
            "Numero RIGHE COLONNE\n",
            " (568454, 10)\n",
            "Nomi Colonne\n",
            " Index(['Id', 'ProductId', 'UserId', 'ProfileName', 'HelpfulnessNumerator',\n",
            "       'HelpfulnessDenominator', 'Score', 'Time', 'Summary', 'Text'],\n",
            "      dtype='object')\n",
            "Tipo Colonne\n",
            " Id                         int64\n",
            "ProductId                 object\n",
            "UserId                    object\n",
            "ProfileName               object\n",
            "HelpfulnessNumerator       int64\n",
            "HelpfulnessDenominator     int64\n",
            "Score                      int64\n",
            "Time                       int64\n",
            "Summary                   object\n",
            "Text                      object\n",
            "dtype: object\n"
          ],
          "name": "stdout"
        }
      ]
    },
    {
      "cell_type": "code",
      "metadata": {
        "colab": {
          "base_uri": "https://localhost:8080/"
        },
        "id": "_fnCfFLBYWFm",
        "outputId": "70446556-7fd4-4698-fcca-a470fcf0a5d9"
      },
      "source": [
        "rev.groupby(\"Text\")['Id'].count()\n",
        "# dato che le righe son divere dalle righe totali vuo,dire che certe review sono doppie e non sono poche, scartyo di circa 174875 circa 30%"
      ],
      "execution_count": null,
      "outputs": [
        {
          "output_type": "execute_result",
          "data": {
            "text/plain": [
              "Text\n",
              "! think I just ruined my dish. open this and poured it in. some past stuck to the lid, I thought I hadn't shook enough, almost all the rest was syrupy liquid with a little more, not much, past on the bottom. I tasted what was dripping from the can-- what the hell!!! It was like corn syrup!!<br />Don't buy this stuff!                                                                                                                                                                                                                                                                                                                                                                                                                                                                                                                                                                                                                                                                                                                                                                                                                                                                                                                                                                                                                                                                                                                                              1\n",
              "!!! PRODUCT HAS NOTHING TO DO WITH MARVEL!!! FALSE ADVERTISEMENT!!!  WASTE OF MONEY! IF I WANTED REGULAR BUBBLE GUM TAPE FOR MY SON'S SUPERHERO THEME PARTY I WOULDVE WENT TO DOLLAR STORE OR WALMART!<a href=\"http://www.amazon.com/gp/product/B0053TENTW\">Marvel Heroes Crazy Rollz Gum, 24 count</a>                                                                                                                                                                                                                                                                                                                                                                                                                                                                                                                                                                                                                                                                                                                                                                                                                                                                                                                                                                                                                                                                                                                                                                     1\n",
              "!!!<br />Animal digest? She does that on her own already, LOL!<br /><br />Does our 13 yeard old miniature fox terrier really need added color in her food?<br /><br />The texture is less crunchy so nice for older dogs who may not have the heartiest teeth and the sizes vary.<br /><br />We have blended it in with her TD & LD, also put some in a dish to give as treats<br /><br />1. Ground yellow corn,<br />2. chicken by-product meal,<br />3. corn gluten meal,<br />4. whole wheat flour,<br />5. beef tallow preserved with mixed-tocopherols<br />6. rice flour,<br />7. beef,<br />8. soy flour,<br />9. sugar,<br />10. sorbitol,<br />11. tricalcium phosphate,<br />12. water,<br />13. animal digest,<br />14. salt,<br />15. phosphoric acid,<br />16. potassium chloride,<br />17. dicalcium phosphate,<br />18. sorbic acid<br />19. l-lysine monohydrochloride,<br />20. dried peas,<br />21. dried carrots,<br />22. calcium carbonate,<br />23. calcium propionate<br />24. choline chloride,<br />25. vitamin supplements (E, A, B12, D3),<br />26. added color<br />27. dl-methionine,<br />28. zinc sulfate,<br />29. glyceryl monostearate,<br />30. ferrous sulfate,<br />31. niacin,<br />32. manganese sulfate,<br />33. calcium pantothenate,<br />34. riboflavin supplement,<br />35. biotin,<br />36. thiamine mononitrate,<br />37. garlic oil, (Garlic oil? I thought Garlic was bad for dogs - rut roh!)<br />38. copper sulfate,    1\n",
              "!!HEY, these are BIG! There are actually two candy bars in each of these wraps, (36 servings) so two people can enjoy Baby Ruth, or eat one for now, save one for later! Each bar is 250 calories, has 2 grams of protein and 16 carbs. NO trans fat and no cholesterol, either!  My sister and I love these King Size Baby Ruth bars because each of us gets a BIG bar and is not tempted to consume BOTH! (You know, once the wrapper is ripped open and the other candy bar is just sitting there!) Great idea Nestle had! This is an excellent afternoon pick me up snack!                                                                                                                                                                                                                                                                                                                                                                                                                                                                                                                                                                                                                                                                                                                                                                                                                                                                                              1\n",
              "\"  WITH  \" ... Olive Oil.  What does this mean?  How much of the oil in this mayo is olive oil, and how much is the (Omega 6) oil you're supposed to avoid?<br /><br />Ingredient options?<br />(A) Olive Oil. Then it'd be \"Olive Oil Mayonnaise\" instead of \"Mayonnaise with Olive Oil.\"<br />(B) \"Soybean oil, then olive oil.\"  In which case there is definitely less than 50% olive oil.<br />(C) \"First olive oil, then soybean oil, then canola oil\".<br /><br />Option (C) is the tricky part. Could there be as little as 34% olive oil, plus 33% soybean oil, plus 33% canola oil? My understanding of food labeling regulations is \"YES.\" Were I Mitch Hedberg, I'd say \"I'm not allowed to tell you the ingredients in this mayonnaise but there are three oils involved...\" Instead (and to conclude) Kraft.com made it easy to  cut and paste the ingredients:<br /><br />Ingredients: WATER, OLIVE OIL, CANOLA OIL, SOYBEAN OIL, VINEGAR, MODIFIED FOOD STARCH*, SUGAR, MALTODEXTRIN*, EGGS, CONTAINS LESS THAN 2% OF SALT, MUSTARD FLOUR, DRIED ONIONS, DRIED GARLIC, NATURAL FLAVOR, ENZYME MODIFIED EGG YOLK*, BETA CAROTENE* (COLOR), LACTIC ACID*, POTASSIUM SORBATE* AND CALCIUM DISODIUM EDTA AS PRESERVATIVES, PHOSPHORIC ACID. *INGREDIENT NOT NORMALLY FOUND IN MAYONNAISE. CONTAINS: EGG.<br />Size: 30 OZ<br />Upc: 2100002631<br /><br />Bon Appetit!                                                                                          1\n",
              "                                                                                                                                                                                                                                                                                                                                                                                                                                                                                                                                                                                                                                                                                                                                                                                                                                                                                                                                                                                                                                                                                                                                                                                                                                                                                                                                                                                                                                                                           ..\n",
              "~<br /><br />These are sooooooooooooooooooooooooo delicious!!! It's hard not to eat a whole box at once!!!<br /><br />AMAZON why does it take 20 minutes (or longer) for your pages to load???<br /><br />I would leave a lot more feedback if it was not for looooooooooooooong wait of your heavy pages to load!!!<br /><br />Out here in the middle of nowhere we only have dialup or satellite as internet options and I am NOT going to pay the $300. setup/installation fee just to leave feedback here.<br />I do 90% of my shopping online and your web pages are the heaviest of any place I shop. Your web designer should be able to design the pages a lot lighter so that they load quicker... if not you should hire a more educated web designer.<br /><br />Sly                                                                                                                                                                                                                                                                                                                                                                                                                                                                                                                                                                                                                                                                                             1\n",
              "~<br />This is a `3 for the price of 1' review because 3 people in my house actually had 3 different opinions.<br /><br />#1 tester did not think he liked them well enough to buy a whole box. He said that although it was tasty enough, the cookie's chocolate coating was hard and cracked into small pieces when he bit into it, the graham cracker-ish crust was too dry, and the cookie was too sweet to eat more than one at a time.<br /><br />#2 tester thought that they were very good (not great). He thought that they were a bit too sweet as well, but he (being a typical teenager) was able to polish off 3 or 4 with no difficulties.<br /><br />#3 tester was the most impressed. He thought that they were over the moon terrific. He loved the combination of the chocolate, the marshmallow fluff and the crust. With a tall glass of cold milk he was able to devour half a dozen of the sweet treats. (another teenager)<br /><br />I received an 8 oz box (18 cookies).  The packaging was fine; inside the box was a plastic tray with two rows of cookies. All of the cookies inside the box arrived in tact and looked beautiful.                                                                                                                                                                                                                                                                                                              1\n",
              "~<br />This would be a great coffee drink to grab out of the refrigerator at home, but at about $2 for 8.45 ounces, this beverage is just so-so.<br /><br />After chilling in the refrigerator overnight, I pulled the tab on the tall and slim can of illy issimo cappuccino, and it smelled terrific: a light coffee and chocolate scent. I poured half of it in a small glass, and gave the other half to my teen-aged son (who loves coffee drinks). We both had the same good/bad opinion: The good part - It has a nice mix of coffee/cocoa taste, a little too sweet, but not bad. The bad part - You can definitely taste a tin-y flavor within the mix.<br /><br />All-in-all, not a bad drink, but not one the either of us would look for and purchase specifically, especially for the price.                                                                                                                                                                                                                                                                                                                                                                                                                                                                                                                                                                                                                                                                   1\n",
              "~Earth's Best Infant Formula Soy Iron, 13.2-Ounce is a great alternative formula for the baby who is lactose intolerant and for the parents who want a formula that is balanced nutritional. It is easily digested even by the most finicky eater.<br /> Our granddaughter had gastric surgery at 3 weeks of age and continued feeding with the formula right after surgery without any problems. The powder easily mixes unlike most formulas.<br />I have bought other Earth's Best products and all are great.<br />At Earth's [...] they have gift baskets sampling of all there products.<br />The Amazon price of the formula for one can is the same online as in my store. But not all stores stock it yet. Thus why I buy online.                                                                                                                                                                                                                                                                                                                                                                                                                                                                                                                                                                                                                                                                                                                                  1\n",
              "~Taste..... I was expecting it to taste pretty close to the movies, I even added <a href=\"http://www.amazon.com/gp/product/B004W8LT10\">Gold Medal Prod. 2045 Flavacol Seasoning Popcorn Salt</a>, it didn't. It was good but not any better than the Kernel Season's Movie Theatre Butter Popping and Topping Oil that I've been using since I got my<a href=\"http://www.amazon.com/gp/product/B000NCPXBG\">Maxi-Matic EPM-450 Elite Tabletop Old-Fashioned 4-Ounce Kettle Popcorn Popper Machine</a> at the beginning of the week.<br /><br />~Conclusion... decent taste but not worth the calories. I would rather save those for some <a href=\"http://www.amazon.com/gp/product/B002YLNUL4\">O'Dells Popcorn Supur-Kist Topping (Gallon) Non-Trans Fat</a> which I'm about to purchase, hopefully that's good! Now I'm stuck with a gallon of oil that I would rather not use. I would be all for the calories if it actually tasted like the movies.                                                                                                                                                                                                                                                                                                                                                                                                                                                                                                                     1\n",
              "Name: Id, Length: 393579, dtype: int64"
            ]
          },
          "metadata": {
            "tags": []
          },
          "execution_count": 94
        }
      ]
    },
    {
      "cell_type": "code",
      "metadata": {
        "colab": {
          "base_uri": "https://localhost:8080/"
        },
        "id": "Zb36xsYR-XKj",
        "outputId": "520e3e64-f9e2-483a-9953-9e1b9173c669"
      },
      "source": [
        "rev['Text'] = rev['Text'].astype(str)\n",
        "#type(rev.Text.iat[0])\n",
        "rev['Text_lenght']=rev.Text.str.len()\n",
        "#type(rev.Text_lenght.iat[0])"
      ],
      "execution_count": null,
      "outputs": [
        {
          "output_type": "stream",
          "text": [
            "443.07809742859575\n"
          ],
          "name": "stdout"
        }
      ]
    },
    {
      "cell_type": "code",
      "metadata": {
        "colab": {
          "base_uri": "https://localhost:8080/"
        },
        "id": "txWraBt0-tOt",
        "outputId": "0541b745-7b36-448f-865a-d6806c32d435"
      },
      "source": [
        "print('Caratteri per Testo Medi\\t',rev.Text_lenght.mean())\n",
        "print('Approssimazione di Parole per Frase\\t',rev.Text_lenght.mean()/4.7)"
      ],
      "execution_count": null,
      "outputs": [
        {
          "output_type": "stream",
          "text": [
            "Caratteri per Testo Medi\t 443.07809742859575\n",
            "Approssimazione di Parole per Frase\t 94.27193562310548\n"
          ],
          "name": "stdout"
        }
      ]
    },
    {
      "cell_type": "markdown",
      "metadata": {
        "id": "9_MP3KbEB5z5"
      },
      "source": [
        "## **Annotated GMB Corpus**\n",
        "\n",
        "> Note \n",
        "Sto dataset e un plao inq uanto \n",
        "\n",
        "1.   Non e in csv => necessita conversione per fare le cose fast \n",
        "2.   Notazione IOB, mai vista pero non e troppo comoda\n",
        "3.   Potrebbe pero essere divertente fare questo tipo di classifacazione(Named Entity Recognition),perche il compito e penso non banale e gli attachi potrebbero essere implementabili in modo agile data la struttura in ambi i casi di CNN e LSTM o RNN o BiRNN\n",
        "\n",
        "\n"
      ]
    },
    {
      "cell_type": "code",
      "metadata": {
        "id": "dRXVyJ32CjcC"
      },
      "source": [
        "gmb=''\n",
        "with open('GMB_dataset.txt','rb') as f:\n",
        "    for line in f:\n",
        "        gmb+=line.decode(errors='ignore')"
      ],
      "execution_count": null,
      "outputs": []
    },
    {
      "cell_type": "code",
      "metadata": {
        "id": "hmwrRLQnCdKt"
      },
      "source": [
        "print(\"OUTPUT\\n\",gmb)"
      ],
      "execution_count": null,
      "outputs": []
    },
    {
      "cell_type": "markdown",
      "metadata": {
        "id": "5Sa-zOpZLPcS"
      },
      "source": [
        "## **Sentipolc**\n",
        "\n",
        "> capire il codice dato da sito prima del dataset\n",
        "\n"
      ]
    },
    {
      "cell_type": "code",
      "metadata": {
        "colab": {
          "base_uri": "https://localhost:8080/",
          "height": 185
        },
        "id": "ZunDPUAjLtkj",
        "outputId": "dead6678-053a-466d-cfa2-f80ee13db00c"
      },
      "source": [
        "#!/usr/bin/env python\n",
        "# evaluation script for the SENTIPOLC 2016 shared task\n",
        "\n",
        "verbose=True\n",
        "\n",
        "from argparse import ArgumentParser\n",
        "\n",
        "argparser = ArgumentParser(description='')\n",
        "argparser.add_argument('-r', dest='result_file', action='store', help='CSV file of the run results')\n",
        "argparser.add_argument('-g', dest='gold_file', action='store', default=\"sentipolc16_gold2000.csv\", help='gold standard annotation CSV file')\n",
        "args = argparser.parse_args()\n",
        "\n",
        "# read gold standard and populate the count matrix\n",
        "gold = dict()\n",
        "gold_counts =  {'subj':{'0':0,'1':0},\n",
        "                'opos':{'0':0,'1':0},\n",
        "                'oneg':{'0':0,'1':0},\n",
        "                'iro':{'0':0,'1':0},\n",
        "                'lpos':{'0':0,'1':0},\n",
        "                'lneg':{'0':0,'1':0}\n",
        "                }\n",
        "with open(args.gold_file) as f:\n",
        "    for line in f:\n",
        "        if len(line.split(',')) > 6:\n",
        "            id, subj, opos, oneg, iro, lpos, lneg, top = map(lambda x: x[1:-1], line.rstrip().split(','))\n",
        "        else:\n",
        "            id, subj, opos, oneg, iro, top = map(lambda x: x[1:-1], line.rstrip().split(','))\n",
        "        #id, subj, opos, oneg, iro, lpos, lneg, top = map(lambda x: x[1:-1], line.rstrip().split(','))\n",
        "        gold[id] = {'subj':subj, 'opos':opos, 'oneg':oneg, 'iro':iro, 'lpos':lpos, 'lneg':lneg}\n",
        "        gold_counts['subj'][subj]+=1\n",
        "        gold_counts['opos'][opos]+=1\n",
        "        gold_counts['oneg'][oneg]+=1\n",
        "        gold_counts['iro'][iro]+=1\n",
        "\n",
        "        if len(line.split(',')) > 6:\n",
        "            gold_counts['lpos'][lpos]+=1\n",
        "            gold_counts['lneg'][lneg]+=1\n",
        "        \n",
        "        \n",
        "# read result data\n",
        "result = dict()\n",
        "with open(args.result_file) as f:\n",
        "    for line in f:\n",
        "        if len(line.split(',')) > 6:\n",
        "            id, subj, opos, oneg, iro, lpos, lneg, top = map(lambda x: x[1:-1], line.rstrip().split(','))\n",
        "            result[id]= {'subj':subj, 'opos':opos, 'oneg':oneg, 'iro':iro}\n",
        "        else:\n",
        "            id, subj, opos, oneg, iro, top = map(lambda x: x[1:-1], line.rstrip().split(','))\n",
        "            result[id]= {'subj':subj, 'opos':opos, 'oneg':oneg, 'iro':iro}\n",
        "\n",
        "# evaluation: single classes\n",
        "for task in ['subj', 'opos', 'oneg', 'iro']:    #add 'lpos' and 'lneg' if you want to measure literal polairty\n",
        "    # table header\n",
        "    if verbose: print(\"\\ntask: {}\".format(task))\n",
        "    if verbose: print(\"prec. 0\\trec. 0\\tF-sc. 0\\tprec. 1\\trec. 1\\tF-sc. 1\\tF-sc.\")\n",
        "    correct =  {'0':0,'1':0}\n",
        "    assigned = {'0':0,'1':0}\n",
        "    precision ={'0':0.0,'1':0.0}\n",
        "    recall =   {'0':0.0,'1':0.0}\n",
        "    fscore =   {'0':0.0,'1':0.0}\n",
        "   \n",
        "    # count the labels\n",
        "    for id, gold_labels in gold.iteritems():\n",
        "        if (not id in result) or result[id][task]=='':\n",
        "            pass\n",
        "        else:\n",
        "            assigned[result[id][task]] += 1                    \n",
        "            if gold_labels[task]==result[id][task]:\n",
        "                correct[result[id][task]] += 1\n",
        "\n",
        "    # compute precision, recall and F-score\n",
        "    for label in ['0','1']:\n",
        "        try:\n",
        "            precision[label] = float(correct[label])/float(assigned[label])\n",
        "            recall[label] = float(correct[label])/float(gold_counts[task][label])\n",
        "            fscore[label] = (2.0 * precision[label] * recall[label]) / (precision[label] + recall[label])\n",
        "        except:\n",
        "            # if a team doesn't participate in a task it gets default 0 F-score\n",
        "            fscore[label] = 0.0\n",
        "            \n",
        "    # write down the table\n",
        "    print(\"{0:.4f}\\t{1:.4f}\\t{2:.4f}\\t{3:.4f}\\t{4:.4f}\\t{5:.4f}\\t{6:.4f}\".format( \n",
        "            precision['0'], recall['0'], fscore['0'], \n",
        "            precision['1'], recall['1'], fscore['1'],\n",
        "            (fscore['0'] + fscore['1'])/2.0)\n",
        "    )\n",
        "            \n",
        "# polarity evaluation needs a further step\n",
        "if verbose: print (\"\\ntask: polarity\")\n",
        "if verbose: print (\"Combined F-score\")\n",
        "correct =  {'opos':{'0':0,'1':0}, 'oneg':{'0':0,'1':0}}\n",
        "assigned = {'opos':{'0':0,'1':0}, 'oneg':{'0':0,'1':0}}\n",
        "precision ={'opos':{'0':0.0,'1':0.0}, 'oneg':{'0':0.0,'1':0.0}}\n",
        "recall =   {'opos':{'0':0.0,'1':0.0}, 'oneg':{'0':0.0,'1':0.0}}\n",
        "fscore =   {'opos':{'0':0.0,'1':0.0}, 'oneg':{'0':0.0,'1':0.0}}\n",
        "\n",
        "# count the labels\n",
        "for id, gold_labels in gold.iteritems():\n",
        "    for cl in ['opos','oneg']:\n",
        "        if (not id in result) or result[id][cl]=='':\n",
        "            pass\n",
        "        else:\n",
        "            assigned[cl][result[id][cl]] += 1\n",
        "            if gold_labels[cl]==result[id][cl]:\n",
        "                correct[cl][result[id][cl]] += 1\n",
        "            \n",
        "# compute precision, recall and F-score\n",
        "for cl in ['opos','oneg']:\n",
        "    for label in ['0','1']:\n",
        "        try:\n",
        "            precision[cl][label] = float(correct[cl][label])/float(assigned[cl][label])\n",
        "            recall[cl][label] = float(correct[cl][label])/float(gold_counts[cl][label])\n",
        "            fscore[cl][label] = float(2.0 * precision[cl][label] * recall[cl][label]) / float(precision[cl][label] + recall[cl][label])\n",
        "        except:\n",
        "            fscore[cl][label] = 0.0\n",
        "\n",
        "fscore_pos = (fscore['opos']['0'] + fscore['opos']['1'] ) / 2.0\n",
        "fscore_neg = (fscore['oneg']['0'] + fscore['oneg']['1'] ) / 2.0\n",
        "\n",
        "# write down the table\n",
        "print (\"{0:.4f}\".format((fscore_pos + fscore_neg)/2.0))"
      ],
      "execution_count": null,
      "outputs": [
        {
          "output_type": "stream",
          "text": [
            "usage: ipykernel_launcher.py [-h] [-r RESULT_FILE] [-g GOLD_FILE]\n",
            "ipykernel_launcher.py: error: unrecognized arguments: -f /root/.local/share/jupyter/runtime/kernel-d4fba6fc-053a-4c1e-ad84-06c1e4beec59.json\n"
          ],
          "name": "stderr"
        },
        {
          "output_type": "error",
          "ename": "SystemExit",
          "evalue": "ignored",
          "traceback": [
            "An exception has occurred, use %tb to see the full traceback.\n",
            "\u001b[0;31mSystemExit\u001b[0m\u001b[0;31m:\u001b[0m 2\n"
          ]
        },
        {
          "output_type": "stream",
          "text": [
            "/usr/local/lib/python3.6/dist-packages/IPython/core/interactiveshell.py:2890: UserWarning: To exit: use 'exit', 'quit', or Ctrl-D.\n",
            "  warn(\"To exit: use 'exit', 'quit', or Ctrl-D.\", stacklevel=1)\n"
          ],
          "name": "stderr"
        }
      ]
    },
    {
      "cell_type": "markdown",
      "metadata": {
        "id": "EY_tnppdRAEM"
      },
      "source": [
        "## **UCI ML Drug Review**\n",
        "\n",
        "> NOTE\n",
        "\n",
        "1.   Review non sono univoche vedi codice sotto\n",
        "2.   possibile solo fare classificazione ? Sentiment analisys sul rating ?\n",
        "3.   Classificazione dalla review al farmaco ?\n",
        "\n",
        "\n",
        "\n"
      ]
    },
    {
      "cell_type": "code",
      "metadata": {
        "id": "wr93f_edTjjB"
      },
      "source": [
        "rev= pd.read_csv('drugsComTrain_raw.csv')"
      ],
      "execution_count": null,
      "outputs": []
    },
    {
      "cell_type": "code",
      "metadata": {
        "colab": {
          "base_uri": "https://localhost:8080/"
        },
        "id": "HJy_Ve69TjjC",
        "outputId": "42e5aac5-39b8-40b8-cad3-2a8b5e809ca2"
      },
      "source": [
        "print(\"Numero RIGHE COLONNE\\n\",rev.shape)\n",
        "print(\"Nomi Colonne\\n\",rev.columns)\n",
        "print(\"Tipo Colonne\\n\",rev.dtypes)"
      ],
      "execution_count": null,
      "outputs": [
        {
          "output_type": "stream",
          "text": [
            "Numero RIGHE COLONNE\n",
            " (161297, 7)\n",
            "Nomi Colonne\n",
            " Index(['uniqueID', 'drugName', 'condition', 'review', 'rating', 'date',\n",
            "       'usefulCount'],\n",
            "      dtype='object')\n",
            "Tipo Colonne\n",
            " uniqueID        int64\n",
            "drugName       object\n",
            "condition      object\n",
            "review         object\n",
            "rating          int64\n",
            "date           object\n",
            "usefulCount     int64\n",
            "dtype: object\n"
          ],
          "name": "stdout"
        }
      ]
    },
    {
      "cell_type": "code",
      "metadata": {
        "colab": {
          "base_uri": "https://localhost:8080/"
        },
        "id": "E3u3TrQPT2Vr",
        "outputId": "2f4c2342-e1b0-4d04-f709-6067592e9d64"
      },
      "source": [
        "rev.groupby(\"review\")['uniqueID'].count()\n",
        "# dato che le righe son divere dalle righe totali vuo,dire che certe review sono doppie e non sono poche, scartyo di circa 48968 circa 30 %"
      ],
      "execution_count": null,
      "outputs": [
        {
          "output_type": "execute_result",
          "data": {
            "text/plain": [
              "review\n",
              "\"\\r\\n\\r\\n please tell the ones who is suffering from anxiety to use lavender chamomile spray by air wick.  it gives immediate relief , doctors not letting know patients about this. please spread the word!!.  Please keep this post here.\"                                                                                                                                                                                                                                                                                                                                                                                                                                                                                                                                                                                                                                                                                                                                                                                                                                                                                                                                                                                                                                                                                                                                                                                                                                                                                                                                                                                                                                                                                                                                                                                                                                                                                                                                                                                                                                                      1\n",
              "\"\\r\\n300 mg and colcris to reduce anything the might happen. Miracle drug if something  on side line whoops the gout in shape. Took for 30 days and was in perfect shape... had a bad gout attack and found more colcris which was prescribed a year ago and I wasn&#039;t suppose to be taking ... anyways however I was taking it for 30 more days... My feet were in peace and in heaven for the ultimate use your foot at u wanted mode. 3 days after colcris ran out... It&#039;s been hell! I don&#039;t know what to do.... I just might finally cut my foot off!\"                                                                                                                                                                                                                                                                                                                                                                                                                                                                                                                                                                                                                                                                                                                                                                                                                                                                                                                                                                                                                                                                                                                                                                                                                                                                                                                                                                                                                                                                                                                         1\n",
              "\"\\r\\nAfrin is great and it works in seconds.  Just don&#039;t use it more than 3 days in a row or you&#039;ll be more stuffed up than you were before you started.\"                                                                                                                                                                                                                                                                                                                                                                                                                                                                                                                                                                                                                                                                                                                                                                                                                                                                                                                                                                                                                                                                                                                                                                                                                                                                                                                                                                                                                                                                                                                                                                                                                                                                                                                                                                                                                                                                                                                               1\n",
              "\"\\r\\nFirst of all, the worst side effect for me is the constant yeast infections. Never had one in my life until I started this pill, now I will have one constantly, cured for a week then it returns with vengeance. So dry down there, to the point where my partner and I had tension about one of us unknowingly carrying and STD (neither of us were) absolute horrific mood swings, you will become a completely different person. Nausea. Sweating. Weight gain. All of the things you don&#039;t want. It took me 3 months to realize this pill was the source of my misery. Do yourself a favor and stop it, there are so many better options out there ladies! Best of luck x o\"                                                                                                                                                                                                                                                                                                                                                                                                                                                                                                                                                                                                                                                                                                                                                                                                                                                                                                                                                                                                                                                                                                                                                                                                                                                                                                                                                                                                       2\n",
              "\"\\r\\nGood. Concentration, happy, easy to talk to\\r\\n\\r\\nBad: ECG showed it was bad for my heart, had to stop. Anxiety, afraid and didn&#039;t know why. Although it made me happy it felt fake and like I was a prisoner in my mind just  pleasing others. I won&#039;t take it to please others. \\r\\n\\r\\nMeds basically free in my country after reaching over $300 cause third highest tax paying country in the world.\"                                                                                                                                                                                                                                                                                                                                                                                                                                                                                                                                                                                                                                                                                                                                                                                                                                                                                                                                                                                                                                                                                                                                                                                                                                                                                                                                                                                                                                                                                                                                                                                                                                                                        2\n",
              "                                                                                                                                                                                                                                                                                                                                                                                                                                                                                                                                                                                                                                                                                                                                                                                                                                                                                                                                                                                                                                                                                                                                                                                                                                                                                                                                                                                                                                                                                                                                                                                                                                                                                                                                                                                                                                                                                                                                                                                                                                                                                                 ..\n",
              "\"zero relief and headaches due to blood pressure and heart rate going up\"                                                                                                                                                                                                                                                                                                                                                                                                                                                                                                                                                                                                                                                                                                                                                                                                                                                                                                                                                                                                                                                                                                                                                                                                                                                                                                                                                                                                                                                                                                                                                                                                                                                                                                                                                                                                                                                                                                                                                                                                                         1\n",
              "\"zolpidem means i&#039;ll get some sleep but not much.  first time i took remeron didnt sleep a wink though i felt the drowsiness. zombie in the morning. clonazepam made me feel normal. second time i took it with half a zolpidem with clonazepam 4 hours before, slept my first full 8 hours in 20 years.  next night no clonazepam, still slept but woke up every sleep cycle. last night by itself 1.5 hours sleep.  varies greatly. does not stop my mind from running full speed.\"                                                                                                                                                                                                                                                                                                                                                                                                                                                                                                                                                                                                                                                                                                                                                                                                                                                                                                                                                                                                                                                                                                                                                                                                                                                                                                                                                                                                                                                                                                                                                                                                        1\n",
              "\"І am a 28 year old female with ADD and mild form of narcolepsy. Before Concerta, І was tired and sleepy ALL the time and distracted. It&rsquo;s gotten to the point where іt was affecting my work. І thought enough was enough and went to my doctor. Concerta was the first medication he prescribed and it&rsquo;s the best. But we experimented with Adderral (good pill but knocked me out at 7:00pm after іt wore off, so іt didn&rsquo;t address narcolepsy) and Ritalin (heart rate was just insane) and Vyvanse (gave me anxiety that I never had). With Concerta І have 0 side effects, І am never sleepy anymore (but sleep well at night) and distraction levels have decreased significantly. Giving іt a 9 because І am not at 100% with focus. І wish it were slightly stronger.\"                                                                                                                                                                                                                                                                                                                                                                                                                                                                                                                                                                                                                                                                                                                                                                                                                                                                                                                                                                                                                                                                                                                                                                                                                                                                                                 1\n",
              "\"​Hello everyone,\\r\\n\\r\\nI&#039;m your typical 18 year old lad and have never written on a forum before but I want to write something for the people that are worried about taking this (in my opinion) miracle drug. I am coming to the end of my 6 month course and I can honestly say it&#039;s been life changing. \\r\\n\\r\\nBefore I started Roaccutane, I was fairly depressed and seriously lacking confidence due to my appearance. But after months of failed treatments on various antibiotics, I was referred to a dermatologist who instantly said there&#039;s only one way to fix my acne problem, Roaccutane. At first I thought this is the worst case scenario and I&#039;m going to be even more depressed as a result of the possible mental health side affects. Depression has run in my family so I was very worried. However, living like with acne wasn&#039;t something I was prepared to do, so I started the course on 40mg a day.\\r\\n\\r\\nThe first week I had a headache daily, but thankfully these die off after a week and paracetamol and ibuprofen will take all the pain away. Almost immediately, my lips were cracking and from then on in, I never went anywhere without some Carmex lip balm in my pocket.\\r\\n\\r\\nAs the first 3 months went by, I was still breaking out and was starting to think it isn&#039;t going to work. However, I&#039;m so glad I stuck with it because now I haven&#039;t got a single spot of my face and the scars have faded to the point where you can barely see them! After the third month, my derm upped my dose and I started to take 60mg a day. \\r\\n\\r\\nLuckily for me I hadn&#039;t had any serious side affects. Just your occasional nose bleed and dry skin, and sometimes my eyes were a bit blurry but it&#039;s not much of an issue.\\r\\n\\r\\nAnyway, I just want anyone reading this that is worried about starting this medication, that not everyone has a horror story about Roaccutane and I couldn&#039;t be happier at how it&#039;s made me feel!!\\r\\n\\r\\nDon&#039;t let acne take over your life!:)\"    1\n",
              "\"❤️❤️❤️ Cialis for US!!    I wish I had my husband start this decades ago \"                                                                                                                                                                                                                                                                                                                                                                                                                                                                                                                                                                                                                                                                                                                                                                                                                                                                                                                                                                                                                                                                                                                                                                                                                                                                                                                                                                                                                                                                                                                                                                                                                                                                                                                                                                                                                                                                                                                                                                                                                       2\n",
              "Name: uniqueID, Length: 112329, dtype: int64"
            ]
          },
          "metadata": {
            "tags": []
          },
          "execution_count": 90
        }
      ]
    },
    {
      "cell_type": "markdown",
      "metadata": {
        "id": "E--W9W5nayGi"
      },
      "source": [
        "### **Gruppo 2**\n",
        "\n",
        "> Non male i vari dataset escluso quello it che non si cpisce cosa sono i dati all'interno. Carini quelli di GMB e delle droghe, molto generici e relativamente fatti bene"
      ]
    },
    {
      "cell_type": "code",
      "metadata": {
        "id": "vc9PFuoAYC3o"
      },
      "source": [
        "import pandas as pd\n",
        "import numpy as np\n",
        "import matplotlib.pyplot as plt"
      ],
      "execution_count": null,
      "outputs": []
    },
    {
      "cell_type": "markdown",
      "metadata": {
        "id": "pa4LNExubW_9"
      },
      "source": [
        "## **Fake news dataset**\n",
        "\n",
        "> NOTE\n",
        "Fatto bene, circa 50% e 50% di vere e di false,Non troppo complesso.\n",
        "\n"
      ]
    },
    {
      "cell_type": "code",
      "metadata": {
        "id": "LM-uCr0IXCgI"
      },
      "source": [
        "rev= pd.read_csv('Fake.csv')\n",
        "rev2= pd.read_csv('True.csv')"
      ],
      "execution_count": null,
      "outputs": []
    },
    {
      "cell_type": "code",
      "metadata": {
        "colab": {
          "base_uri": "https://localhost:8080/"
        },
        "id": "ZtbUAniAXCgI",
        "outputId": "eed86673-1135-4ee7-9278-0309437feca0"
      },
      "source": [
        "print(\"Numero RIGHE COLONNE\\n\",rev.shape)\n",
        "print(\"Nomi Colonne\\n\",rev.columns)\n",
        "print(\"Tipo Colonne\\n\",rev.dtypes)"
      ],
      "execution_count": null,
      "outputs": [
        {
          "output_type": "stream",
          "text": [
            "Numero RIGHE COLONNE\n",
            " (3054, 6)\n",
            "Nomi Colonne\n",
            " Index(['sentence', 'id_sentence', 'score', 'polarities', 'aspects_position',\n",
            "       'aspects'],\n",
            "      dtype='object')\n",
            "Tipo Colonne\n",
            " sentence            object\n",
            "id_sentence         object\n",
            "score                int64\n",
            "polarities          object\n",
            "aspects_position    object\n",
            "aspects             object\n",
            "dtype: object\n"
          ],
          "name": "stdout"
        }
      ]
    },
    {
      "cell_type": "code",
      "metadata": {
        "id": "v3ErG3XoYpLd",
        "colab": {
          "base_uri": "https://localhost:8080/"
        },
        "outputId": "66644355-e98e-43c2-f17a-186cfca63708"
      },
      "source": [
        "print(\"Numero RIGHE COLONNE\\n\",rev2.shape)\n",
        "print(\"Nomi Colonne\\n\",rev2.columns)\n",
        "print(\"Tipo Colonne\\n\",rev2.dtypes)"
      ],
      "execution_count": null,
      "outputs": [
        {
          "output_type": "stream",
          "text": [
            "Numero RIGHE COLONNE\n",
            " (21417, 4)\n",
            "Nomi Colonne\n",
            " Index(['title', 'text', 'subject', 'date'], dtype='object')\n",
            "Tipo Colonne\n",
            " title      object\n",
            "text       object\n",
            "subject    object\n",
            "date       object\n",
            "dtype: object\n"
          ],
          "name": "stdout"
        }
      ]
    },
    {
      "cell_type": "markdown",
      "metadata": {
        "id": "k8lndm9gZ4VJ"
      },
      "source": [
        "## **ATE ABISTA**\n",
        "\n",
        "> NOTE:\n",
        "Fatto bene piu comprenseibile piu dell'altro gruppo, si possono fare vaire classificazioni:\n",
        "1.   Aspect Term Extraction (ATE)\n",
        "2.   Aspect Based Sentiment Analysis (ABSA)\n",
        "3.   Sentiment Analysis (SA).\n",
        "\n",
        "Risulta ingoto il significato delle **\"polarities\"**\n",
        "\n",
        "gia diviso in Train Test e validation, ma i vari dataset sono overlapping \n",
        "\n",
        "\n",
        "\n",
        "\n",
        "\n"
      ]
    },
    {
      "cell_type": "code",
      "metadata": {
        "id": "QIgcern0a-Z3"
      },
      "source": [
        "rev= pd.read_json('ate_absita_training.ndjson',lines=True)#formato non standard di json ma facilmente parsabile"
      ],
      "execution_count": null,
      "outputs": []
    },
    {
      "cell_type": "code",
      "metadata": {
        "colab": {
          "base_uri": "https://localhost:8080/"
        },
        "id": "ytCxtyFsbZRQ",
        "outputId": "864d7302-cefb-4f0b-9866-2d157ddc7cf4"
      },
      "source": [
        "print(\"Numero RIGHE COLONNE\\n\",rev.shape)\n",
        "print(\"Nomi Colonne\\n\",rev.columns)\n",
        "print(\"Tipo Colonne\\n\",rev.dtypes)"
      ],
      "execution_count": null,
      "outputs": [
        {
          "output_type": "stream",
          "text": [
            "Numero RIGHE COLONNE\n",
            " (3054, 6)\n",
            "Nomi Colonne\n",
            " Index(['sentence', 'id_sentence', 'score', 'polarities', 'aspects_position',\n",
            "       'aspects'],\n",
            "      dtype='object')\n",
            "Tipo Colonne\n",
            " sentence            object\n",
            "id_sentence         object\n",
            "score                int64\n",
            "polarities          object\n",
            "aspects_position    object\n",
            "aspects             object\n",
            "dtype: object\n"
          ],
          "name": "stdout"
        }
      ]
    },
    {
      "cell_type": "code",
      "metadata": {
        "id": "I0bsReBVbdHP",
        "colab": {
          "base_uri": "https://localhost:8080/"
        },
        "outputId": "6b240246-5916-4944-b092-eaa7a135f166"
      },
      "source": [
        "i=913\n",
        "print(rev.aspects_position[i])\n",
        "print(rev.aspects[i])\n",
        "print(rev.polarities[i])\n",
        "print(rev.score[i])\n",
        "print(rev.sentence[i])"
      ],
      "execution_count": null,
      "outputs": [
        {
          "output_type": "stream",
          "text": [
            "[[107, 126], [85, 105], [71, 82]]\n",
            "['non troppo rumoroso', 'tre velocità diverse', 'ventilatore']\n",
            "[[1, 1], [1, 0], [1, 0]]\n",
            "5\n",
            "Consegna puntualissima,  cosa volete che vi dica fa il suo dovere è un ventilatore,  tre velocità diverse, non troppo rumoroso e subito montato            \n"
          ],
          "name": "stdout"
        }
      ]
    },
    {
      "cell_type": "markdown",
      "metadata": {
        "id": "y-77MEXpiTOA"
      },
      "source": [
        "## **ChemProt**\n",
        "\n",
        "> NOTE devo leggere il readme del dataset, comunque sembra menata\n",
        "\n"
      ]
    }
  ]
}