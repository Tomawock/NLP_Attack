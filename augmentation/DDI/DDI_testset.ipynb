{
  "nbformat": 4,
  "nbformat_minor": 0,
  "metadata": {
    "colab": {
      "name": "DDI.ipynb",
      "provenance": [],
      "include_colab_link": true
    },
    "kernelspec": {
      "name": "python3",
      "display_name": "Python 3"
    },
    "accelerator": "GPU"
  },
  "cells": [
    {
      "cell_type": "markdown",
      "metadata": {
        "id": "view-in-github",
        "colab_type": "text"
      },
      "source": [
        "<a href=\"https://colab.research.google.com/github/Tomawock/NLP_Attack/blob/main/augmentation/DDI/DDI_testset.ipynb\" target=\"_parent\"><img src=\"https://colab.research.google.com/assets/colab-badge.svg\" alt=\"Open In Colab\"/></a>"
      ]
    },
    {
      "cell_type": "code",
      "metadata": {
        "id": "Vw61JhILbyDD"
      },
      "source": [
        "!pip install textattack"
      ],
      "execution_count": null,
      "outputs": []
    },
    {
      "cell_type": "code",
      "metadata": {
        "colab": {
          "base_uri": "https://localhost:8080/"
        },
        "id": "M-6axcLOb0nF",
        "outputId": "ce14818a-f59e-4f59-f81b-1eb474637a02"
      },
      "source": [
        "from google.colab import drive\n",
        "drive.mount('/content/drive')"
      ],
      "execution_count": 3,
      "outputs": [
        {
          "output_type": "stream",
          "text": [
            "Mounted at /content/drive\n"
          ],
          "name": "stdout"
        }
      ]
    },
    {
      "cell_type": "code",
      "metadata": {
        "id": "UwPuTTgFb7y8"
      },
      "source": [
        "import numpy as np\n",
        "import pandas as pd\n",
        "import matplotlib.pyplot as plt\n",
        "import random\n",
        "import timeit\n",
        "import regex as re"
      ],
      "execution_count": 4,
      "outputs": []
    },
    {
      "cell_type": "code",
      "metadata": {
        "colab": {
          "base_uri": "https://localhost:8080/"
        },
        "id": "UBQQFSuSb_w0",
        "outputId": "563bdd12-7da7-449c-a445-1a0c0df98722"
      },
      "source": [
        "dataset = pd.read_csv('/content/drive/Shareddrives/Deep Learning/datasets/DDI/ddi2013-type/test.tsv', sep='\\t')\n",
        "print(f\"COLONNE:{dataset.columns}\")\n",
        "print(f\"DIMENSIONE:{dataset.shape}\")"
      ],
      "execution_count": 5,
      "outputs": [
        {
          "output_type": "stream",
          "text": [
            "COLONNE:Index(['index', 'sentence', 'label'], dtype='object')\n",
            "DIMENSIONE:(5761, 3)\n"
          ],
          "name": "stdout"
        }
      ]
    },
    {
      "cell_type": "code",
      "metadata": {
        "id": "k5inSX06b_16"
      },
      "source": [
        "aug = dataset.copy()"
      ],
      "execution_count": 6,
      "outputs": []
    },
    {
      "cell_type": "markdown",
      "metadata": {
        "id": "vTW3m5fXew6J"
      },
      "source": [
        "##Augmentation Phase"
      ]
    },
    {
      "cell_type": "markdown",
      "metadata": {
        "id": "HQPKDreRezLp"
      },
      "source": [
        "###WordNet"
      ]
    },
    {
      "cell_type": "code",
      "metadata": {
        "colab": {
          "base_uri": "https://localhost:8080/"
        },
        "id": "YiJ1fOZ2b_7d",
        "outputId": "3014808c-b41f-4d8f-af65-5a6e5c41e5fa"
      },
      "source": [
        "from textattack.augmentation import WordNetAugmenter\n",
        "random.seed(33)\n",
        "\n",
        "my_items = []\n",
        "num_tras_to_add = 1\n",
        "\n",
        "start_time = timeit.default_timer()\n",
        "augmenter = WordNetAugmenter(pct_words_to_swap=0.5,\n",
        "                             transformations_per_example=num_tras_to_add)\n",
        "\n",
        "for row in aug.itertuples():\n",
        "  result = augmenter.augment(row.sentence)\n",
        "  # my_items.append({'index': row.index,\n",
        "  #                  'label': row.label,\n",
        "  #                  'sentence':row.sentence})\n",
        "  \n",
        "  for i in range(num_tras_to_add):\n",
        "    my_items.append({'index': row.index,\n",
        "                     'label': row.label,\n",
        "                     'sentence': re.sub(r'@[^$]*\\$', '@DRUG$', result[i])})\n",
        "  \n",
        "\n",
        "elapsed = timeit.default_timer() - start_time\n",
        "print(f'TIME OF EXECUTION={elapsed}')\n",
        "augmeted_new = pd.DataFrame(data=my_items, columns=aug.columns)\n",
        "print(f\"COLONNE:{augmeted_new.columns}\")\n",
        "print(f\"DIMENSIONE:{augmeted_new.shape}\")"
      ],
      "execution_count": 8,
      "outputs": [
        {
          "output_type": "stream",
          "text": [
            "TIME OF EXECUTION=2645.3930491650003\n",
            "COLONNE:Index(['index', 'sentence', 'label'], dtype='object')\n",
            "DIMENSIONE:(5761, 3)\n"
          ],
          "name": "stdout"
        }
      ]
    },
    {
      "cell_type": "code",
      "metadata": {
        "id": "rbSS21xw9bC3"
      },
      "source": [
        "augmeted_new.to_csv(\"/content/drive/Shareddrives/Deep Learning/datasets/DDI/ddi2013-type/DDI_sinonimi_test.csv\",index=False)"
      ],
      "execution_count": 9,
      "outputs": []
    },
    {
      "cell_type": "code",
      "metadata": {
        "id": "j-sc0glP9npJ"
      },
      "source": [
        "augmeted_load=pd.read_csv(\"/content/drive/Shareddrives/Deep Learning/datasets/DDI/ddi2013-type/DDI_sinonimi_test.csv\")"
      ],
      "execution_count": null,
      "outputs": []
    },
    {
      "cell_type": "markdown",
      "metadata": {
        "id": "WbpvYtCoe2vj"
      },
      "source": [
        "###WordEmbedding"
      ]
    },
    {
      "cell_type": "code",
      "metadata": {
        "id": "fEJvuoPucmI9"
      },
      "source": [
        "from textattack.augmentation import EmbeddingAugmenter\n",
        "random.seed(33)\n",
        "\n",
        "my_items = []\n",
        "num_tras_to_add = 2\n",
        "\n",
        "start_time = timeit.default_timer()\n",
        "augmenter = EmbeddingAugmenter(pct_words_to_swap=0.5,\n",
        "                               transformations_per_example=num_tras_to_add)\n",
        "\n",
        "for row in aug.itertuples():\n",
        "  result=augmenter.augment(row.sentence)\n",
        "  # my_items.append({'index': row.index,\n",
        "  #                  'label': row.label,\n",
        "  #                  'sentence': row.sentence})\n",
        "\n",
        "  for i in range(num_tras_to_add): \n",
        "    my_items.append({'index': row.index,\n",
        "                     'label': row.label,\n",
        "                     'sentence': re.sub(r'@[^$]*\\$', '@DRUG$', result[i])})\n",
        "\n",
        "elapsed = timeit.default_timer() - start_time\n",
        "print(f'TIME OF EXECUTION={elapsed}')\n",
        "aug_embedding = pd.DataFrame(data=my_items, columns=aug.columns)\n",
        "print(f\"COLONNE:{aug_embedding.columns}\")\n",
        "print(f\"DIMENSIONE:{aug_embedding.shape}\")"
      ],
      "execution_count": null,
      "outputs": []
    },
    {
      "cell_type": "code",
      "metadata": {
        "id": "DD8hQCf9_on8"
      },
      "source": [
        "aug_embedding.to_csv((\"/content/drive/Shareddrives/Deep Learning/datasets/DDI/ddi2013-type/DDI_embedding_test.csv\",index=False)"
      ],
      "execution_count": null,
      "outputs": []
    },
    {
      "cell_type": "code",
      "metadata": {
        "id": "1hP4rV2v_yh5"
      },
      "source": [
        "aug_embedding_load=pd.read_csv(\"/content/drive/Shareddrives/Deep Learning/datasets/DDI/ddi2013-type/DDI_embedding_test.csv\")"
      ],
      "execution_count": null,
      "outputs": []
    }
  ]
}