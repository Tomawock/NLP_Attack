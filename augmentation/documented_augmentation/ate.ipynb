{
  "nbformat": 4,
  "nbformat_minor": 0,
  "metadata": {
    "colab": {
      "name": "ate.ipynb",
      "provenance": [],
      "toc_visible": true,
      "include_colab_link": true
    },
    "kernelspec": {
      "name": "python3",
      "display_name": "Python 3"
    }
  },
  "cells": [
    {
      "cell_type": "markdown",
      "metadata": {
        "id": "view-in-github",
        "colab_type": "text"
      },
      "source": [
        "<a href=\"https://colab.research.google.com/github/Tomawock/NLP_Attack/blob/main/augmentation/documented_augmentation/ate.ipynb\" target=\"_parent\"><img src=\"https://colab.research.google.com/assets/colab-badge.svg\" alt=\"Open In Colab\"/></a>"
      ]
    },
    {
      "cell_type": "code",
      "metadata": {
        "id": "QeVVV3Z6Cn5L"
      },
      "source": [
        "!pip install textattack"
      ],
      "execution_count": null,
      "outputs": []
    },
    {
      "cell_type": "code",
      "metadata": {
        "id": "-KnCAl2ZCs7R"
      },
      "source": [
        "import random\n",
        "import timeit\n",
        "import pickle"
      ],
      "execution_count": 10,
      "outputs": []
    },
    {
      "cell_type": "code",
      "metadata": {
        "id": "3lK8QmX4C1Ol",
        "colab": {
          "base_uri": "https://localhost:8080/"
        },
        "outputId": "81899847-a345-4faf-c62e-97527f129a81"
      },
      "source": [
        "import pandas as pd\n",
        "\n",
        "from google.colab import drive\n",
        "drive.mount('/content/drive')\n",
        "\n",
        "dataset = pd.read_json('/content/drive/Shareddrives/Deep Learning/datasets/ATE_ABSITA/ATE_ABSITA_training_set/ate_absita_training.ndjson'\n",
        "                       , lines=True)"
      ],
      "execution_count": 11,
      "outputs": [
        {
          "output_type": "stream",
          "text": [
            "Drive already mounted at /content/drive; to attempt to forcibly remount, call drive.mount(\"/content/drive\", force_remount=True).\n"
          ],
          "name": "stdout"
        }
      ]
    },
    {
      "cell_type": "code",
      "metadata": {
        "id": "3brDTf7iHBBH"
      },
      "source": [
        "dataset.drop(columns=['id_sentence'], inplace=True)"
      ],
      "execution_count": 12,
      "outputs": []
    },
    {
      "cell_type": "code",
      "metadata": {
        "colab": {
          "base_uri": "https://localhost:8080/",
          "height": 224
        },
        "id": "SsoiD7PXEh2p",
        "outputId": "3b8aece0-8993-4104-fac8-306bed105d6e"
      },
      "source": [
        "print(f'Contains {len(dataset)} sentences')\n",
        "dataset.head()"
      ],
      "execution_count": 13,
      "outputs": [
        {
          "output_type": "stream",
          "text": [
            "Contains 3054 sentences\n"
          ],
          "name": "stdout"
        },
        {
          "output_type": "execute_result",
          "data": {
            "text/html": [
              "<div>\n",
              "<style scoped>\n",
              "    .dataframe tbody tr th:only-of-type {\n",
              "        vertical-align: middle;\n",
              "    }\n",
              "\n",
              "    .dataframe tbody tr th {\n",
              "        vertical-align: top;\n",
              "    }\n",
              "\n",
              "    .dataframe thead th {\n",
              "        text-align: right;\n",
              "    }\n",
              "</style>\n",
              "<table border=\"1\" class=\"dataframe\">\n",
              "  <thead>\n",
              "    <tr style=\"text-align: right;\">\n",
              "      <th></th>\n",
              "      <th>sentence</th>\n",
              "      <th>score</th>\n",
              "      <th>polarities</th>\n",
              "      <th>aspects_position</th>\n",
              "      <th>aspects</th>\n",
              "    </tr>\n",
              "  </thead>\n",
              "  <tbody>\n",
              "    <tr>\n",
              "      <th>0</th>\n",
              "      <td>Ottimo prodotto di marca, la qualità é veramen...</td>\n",
              "      <td>5</td>\n",
              "      <td>[[0, 0], [0, 1], [1, 0]]</td>\n",
              "      <td>[[120, 142], [71, 79], [29, 36]]</td>\n",
              "      <td>[provvisto di una tasca, capiente, qualità]</td>\n",
              "    </tr>\n",
              "    <tr>\n",
              "      <th>1</th>\n",
              "      <td>Ottimo rasoio dal semplice utilizzo. Rade molt...</td>\n",
              "      <td>5</td>\n",
              "      <td>[[1, 0], [1, 0], [1, 0], [1, 0]]</td>\n",
              "      <td>[[18, 26], [37, 41], [79, 86], [99, 105]]</td>\n",
              "      <td>[semplice, Rade, Pratico, pulire]</td>\n",
              "    </tr>\n",
              "    <tr>\n",
              "      <th>2</th>\n",
              "      <td>Un quarto delle dimensioni dello Show original...</td>\n",
              "      <td>5</td>\n",
              "      <td>[[1, 0], [1, 0], [1, 0], [0, 0]]</td>\n",
              "      <td>[[118, 132], [51, 62], [65, 70], [16, 26]]</td>\n",
              "      <td>[modalità notte, prestazioni, suono, dimensioni]</td>\n",
              "    </tr>\n",
              "    <tr>\n",
              "      <th>3</th>\n",
              "      <td>Il prodotto si presenta esattamente come in fo...</td>\n",
              "      <td>5</td>\n",
              "      <td>[[1, 0], [1, 0], [1, 0]]</td>\n",
              "      <td>[[147, 158], [132, 140], [24, 48]]</td>\n",
              "      <td>[vestibilità, capienza, esattamente come in foto]</td>\n",
              "    </tr>\n",
              "    <tr>\n",
              "      <th>4</th>\n",
              "      <td>Superlativa, velocità in scrittura superiore a...</td>\n",
              "      <td>5</td>\n",
              "      <td>[[1, 0]]</td>\n",
              "      <td>[[13, 21]]</td>\n",
              "      <td>[velocità]</td>\n",
              "    </tr>\n",
              "  </tbody>\n",
              "</table>\n",
              "</div>"
            ],
            "text/plain": [
              "                                            sentence  ...                                            aspects\n",
              "0  Ottimo prodotto di marca, la qualità é veramen...  ...        [provvisto di una tasca, capiente, qualità]\n",
              "1  Ottimo rasoio dal semplice utilizzo. Rade molt...  ...                  [semplice, Rade, Pratico, pulire]\n",
              "2  Un quarto delle dimensioni dello Show original...  ...   [modalità notte, prestazioni, suono, dimensioni]\n",
              "3  Il prodotto si presenta esattamente come in fo...  ...  [vestibilità, capienza, esattamente come in foto]\n",
              "4  Superlativa, velocità in scrittura superiore a...  ...                                         [velocità]\n",
              "\n",
              "[5 rows x 5 columns]"
            ]
          },
          "metadata": {
            "tags": []
          },
          "execution_count": 13
        }
      ]
    },
    {
      "cell_type": "markdown",
      "metadata": {
        "id": "4z6YhkUwHg5z"
      },
      "source": [
        "###Sono presenti solo 20 duplicati. Si decide di non rimuoverli"
      ]
    },
    {
      "cell_type": "code",
      "metadata": {
        "colab": {
          "base_uri": "https://localhost:8080/"
        },
        "id": "W54DNrzJGr9f",
        "outputId": "91c7dbec-643e-4cb5-97e5-eaa822632c9d"
      },
      "source": [
        "len(dataset.groupby('sentence'))"
      ],
      "execution_count": 21,
      "outputs": [
        {
          "output_type": "execute_result",
          "data": {
            "text/plain": [
              "3034"
            ]
          },
          "metadata": {
            "tags": []
          },
          "execution_count": 21
        }
      ]
    },
    {
      "cell_type": "code",
      "metadata": {
        "id": "SECu86H-FQqT"
      },
      "source": [
        "aug = dataset.copy()"
      ],
      "execution_count": 7,
      "outputs": []
    },
    {
      "cell_type": "markdown",
      "metadata": {
        "id": "UsE7HlbAk0Bt"
      },
      "source": [
        "##Augmentation Phase"
      ]
    },
    {
      "cell_type": "markdown",
      "metadata": {
        "id": "SFA8DbunkiTk"
      },
      "source": [
        "###WordNet"
      ]
    },
    {
      "cell_type": "code",
      "metadata": {
        "colab": {
          "base_uri": "https://localhost:8080/"
        },
        "id": "QHeTXUiaLO3N",
        "outputId": "d416e91b-5d23-4d6f-ee94-e7556d610464"
      },
      "source": [
        "from textattack.transformations import WordSwapWordNet\n",
        "\n",
        "from textattack.constraints.pre_transformation import RepeatModification\n",
        "from textattack.constraints.pre_transformation import StopwordModification\n",
        "\n",
        "from textattack.augmentation import Augmenter\n",
        "random.seed(33)\n",
        "\n",
        "\n",
        "transformation = WordSwapWordNet(language='ita')\n",
        "constraints = [RepeatModification(), StopwordModification()]\n",
        "\n",
        "my_items = []\n",
        "num_tras_to_add = 1\n",
        "\n",
        "start_time = timeit.default_timer()\n",
        "augmenter = Augmenter(transformation=transformation,\n",
        "                      constraints=constraints,\n",
        "                      pct_words_to_swap=1,\n",
        "                      transformations_per_example=num_tras_to_add)\n",
        "\n",
        "for row in aug.itertuples():\n",
        "  result=augmenter.augment(row.sentence)\n",
        "  # my_items.append({'sentence': row.sentence,\n",
        "  #                  'score': row.score,\n",
        "  #                  'polarities': row.polarities,\n",
        "  #                  'aspects_position': row.aspects_position,\n",
        "  #                  'aspects': row.aspects})\n",
        "  for i in range(num_tras_to_add):\n",
        "    ### QUI MODIFICHE\n",
        "    my_items.append({'sentence': result[i],\n",
        "                     'score': row.score,\n",
        "                     'polarities': row.polarities,\n",
        "                     'aspects_position': row.aspects_position,\n",
        "                     'aspects': row.aspects})\n",
        "\n",
        "elapsed = timeit.default_timer() - start_time\n",
        "print(f'TIME OF EXECUTION={elapsed}')\n",
        "augmeted_new = pd.DataFrame(data=my_items, columns=aug.columns)\n",
        "print(f\"COLONNE:{augmeted_new.columns}\")\n",
        "print(f\"DIMENSIONE:{augmeted_new.shape}\")"
      ],
      "execution_count": 22,
      "outputs": [
        {
          "output_type": "stream",
          "text": [
            "TIME OF EXECUTION=362.381112721\n",
            "COLONNE:Index(['sentence', 'score', 'polarities', 'aspects_position', 'aspects'], dtype='object')\n",
            "DIMENSIONE:(3054, 5)\n"
          ],
          "name": "stdout"
        }
      ]
    },
    {
      "cell_type": "code",
      "metadata": {
        "id": "cWi5o81Ot5KJ"
      },
      "source": [
        "augmeted_new.to_csv(\"ATE_sinonimi.csv\",index=False)"
      ],
      "execution_count": 23,
      "outputs": []
    },
    {
      "cell_type": "code",
      "metadata": {
        "id": "CFoZuemqlBen"
      },
      "source": [
        "augmeted_load=pd.read_csv('ATE_sinonimi.csv')  "
      ],
      "execution_count": 24,
      "outputs": []
    },
    {
      "cell_type": "markdown",
      "metadata": {
        "id": "AxJiwtawk3ib"
      },
      "source": [
        "###WordEmbedding"
      ]
    },
    {
      "cell_type": "code",
      "metadata": {
        "id": "Yh0WqjtKcOtg"
      },
      "source": [
        "with open(\"/content/drive/Shareddrives/Deep Learning/datasets/ATE_ABSITA/index2word.pkl\", 'rb') as output:\n",
        "  i2w = pickle.load(output)\n",
        "with open(\"/content/drive/Shareddrives/Deep Learning/datasets/ATE_ABSITA/word2index.pkl\", 'rb') as output:\n",
        "  w2i = pickle.load(output)\n",
        "with open(\"/content/drive/Shareddrives/Deep Learning/datasets/ATE_ABSITA/nn.pkl\", 'rb') as output:\n",
        "  nn_matrix = pickle.load(output)\n",
        "with open(\"/content/drive/Shareddrives/Deep Learning/datasets/ATE_ABSITA/embedding_matrix.pkl\", 'rb') as output:\n",
        "  embedding_matrix = pickle.load(output)"
      ],
      "execution_count": 26,
      "outputs": []
    },
    {
      "cell_type": "code",
      "metadata": {
        "id": "RMs9OxRwc3ym"
      },
      "source": [
        "import textattack\n",
        "#from TextAttack as T\n",
        "embedding = textattack.shared.WordEmbedding(embedding_matrix,w2i,i2w,nn_matrix)"
      ],
      "execution_count": 28,
      "outputs": []
    },
    {
      "cell_type": "code",
      "metadata": {
        "id": "ekoIYNTdlvmu"
      },
      "source": [
        "from typing import cast\n",
        "t=cast(textattack.shared.AbstractWordEmbedding,embedding)"
      ],
      "execution_count": 29,
      "outputs": []
    },
    {
      "cell_type": "code",
      "metadata": {
        "id": "J-oS3dmvm_zb",
        "colab": {
          "base_uri": "https://localhost:8080/"
        },
        "outputId": "ae0f54d4-3b02-4bda-f937-2ef18e557002"
      },
      "source": [
        "type(embedding)"
      ],
      "execution_count": 30,
      "outputs": [
        {
          "output_type": "execute_result",
          "data": {
            "text/plain": [
              "textattack.shared.word_embedding.WordEmbedding"
            ]
          },
          "metadata": {
            "tags": []
          },
          "execution_count": 30
        }
      ]
    },
    {
      "cell_type": "code",
      "metadata": {
        "id": "c35MweMsY2uA",
        "colab": {
          "base_uri": "https://localhost:8080/"
        },
        "outputId": "f614f1c8-e1b4-4d82-8512-5e861aa527b1"
      },
      "source": [
        "#from TextAttack import textattack\n",
        "\n",
        "from textattack.transformations import WordSwapEmbedding\n",
        "from textattack.constraints.pre_transformation import RepeatModification\n",
        "from textattack.constraints.pre_transformation import StopwordModification\n",
        "\n",
        "from textattack.augmentation import Augmenter\n",
        "random.seed(33)\n",
        "\n",
        "transformation = WordSwapEmbedding(20,embedding)\n",
        "\n",
        "constraints = [RepeatModification(), StopwordModification()]\n",
        "\n",
        "my_items = []\n",
        "num_tras_to_add = 1\n",
        "\n",
        "start_time = timeit.default_timer()\n",
        "augmenter = Augmenter(transformation=transformation,\n",
        "                      constraints=constraints,\n",
        "                      pct_words_to_swap=1,\n",
        "                      transformations_per_example=num_tras_to_add)\n",
        "\n",
        "for row in aug.head(10).itertuples():\n",
        "  result=augmenter.augment(row.sentence)\n",
        "  # my_items.append({'sentence': row.sentence,\n",
        "  #                  'score': row.score,\n",
        "  #                  'polarities': row.polarities,\n",
        "  #                  'aspects_position': row.aspects_position,\n",
        "  #                  'aspects': row.aspects})\n",
        "  for i in range(num_tras_to_add):\n",
        "    ### QUI MODIFICHE\n",
        "    my_items.append({'sentence': result[i],\n",
        "                     'score': row.score,\n",
        "                     'polarities': row.polarities,\n",
        "                     'aspects_position': row.aspects_position,\n",
        "                     'aspects': row.aspects})\n",
        "\n",
        "elapsed = timeit.default_timer() - start_time\n",
        "print(f'TIME OF EXECUTION={elapsed}')\n",
        "augmeted_new_embedding = pd.DataFrame(data=my_items, columns=aug.columns)\n",
        "print(f\"COLONNE:{augmeted_new.columns}\")\n",
        "print(f\"DIMENSIONE:{augmeted_new.shape}\")"
      ],
      "execution_count": 33,
      "outputs": [
        {
          "output_type": "stream",
          "text": [
            "TIME OF EXECUTION=29.802634086999888\n",
            "COLONNE:Index(['sentence', 'score', 'polarities', 'aspects_position', 'aspects'], dtype='object')\n",
            "DIMENSIONE:(10, 5)\n"
          ],
          "name": "stdout"
        }
      ]
    },
    {
      "cell_type": "code",
      "metadata": {
        "id": "ezvATEzd0OdF"
      },
      "source": [
        "augmeted_new_embedding.to_csv(\"ATE_embedding.csv\",index=False)"
      ],
      "execution_count": 34,
      "outputs": []
    },
    {
      "cell_type": "code",
      "metadata": {
        "id": "1Ma9jSiJ1Nl8"
      },
      "source": [
        "augmeted_load_embedding=pd.read_csv('ATE_embedding.csv')  "
      ],
      "execution_count": 35,
      "outputs": []
    }
  ]
}
