{
  "nbformat": 4,
  "nbformat_minor": 0,
  "metadata": {
    "colab": {
      "name": "DDI.ipynb",
      "provenance": [],
      "toc_visible": true,
      "include_colab_link": true
    },
    "kernelspec": {
      "name": "python3",
      "display_name": "Python 3"
    }
  },
  "cells": [
    {
      "cell_type": "markdown",
      "metadata": {
        "id": "view-in-github",
        "colab_type": "text"
      },
      "source": [
        "<a href=\"https://colab.research.google.com/github/Tomawock/NLP_Attack/blob/main/augmentation/documented_augmentation/DDI.ipynb\" target=\"_parent\"><img src=\"https://colab.research.google.com/assets/colab-badge.svg\" alt=\"Open In Colab\"/></a>"
      ]
    },
    {
      "cell_type": "code",
      "metadata": {
        "id": "Vw61JhILbyDD"
      },
      "source": [
        "!pip install textattack"
      ],
      "execution_count": null,
      "outputs": []
    },
    {
      "cell_type": "code",
      "metadata": {
        "colab": {
          "base_uri": "https://localhost:8080/"
        },
        "id": "M-6axcLOb0nF",
        "outputId": "2f7658dd-8316-4850-e7e5-643ba827ad17"
      },
      "source": [
        "from google.colab import drive\n",
        "drive.mount('/content/drive')"
      ],
      "execution_count": 2,
      "outputs": [
        {
          "output_type": "stream",
          "text": [
            "Mounted at /content/drive\n"
          ],
          "name": "stdout"
        }
      ]
    },
    {
      "cell_type": "code",
      "metadata": {
        "id": "UwPuTTgFb7y8"
      },
      "source": [
        "import numpy as np\n",
        "import pandas as pd\n",
        "import matplotlib.pyplot as plt\n",
        "import random\n",
        "import timeit\n",
        "import regex as re"
      ],
      "execution_count": 3,
      "outputs": []
    },
    {
      "cell_type": "code",
      "metadata": {
        "colab": {
          "base_uri": "https://localhost:8080/"
        },
        "id": "UBQQFSuSb_w0",
        "outputId": "be2a0fd1-8f73-459e-a1d1-3c3628de0134"
      },
      "source": [
        "dataset = pd.read_csv('/content/drive/Shareddrives/Deep Learning/datasets/Bert_data/ddi2013-type/train.tsv', sep='\\t')\n",
        "print(f\"COLONNE:{dataset.columns}\")\n",
        "print(f\"DIMENSIONE:{dataset.shape}\")"
      ],
      "execution_count": 6,
      "outputs": [
        {
          "output_type": "stream",
          "text": [
            "COLONNE:Index(['index', 'sentence', 'label'], dtype='object')\n",
            "DIMENSIONE:(18779, 3)\n"
          ],
          "name": "stdout"
        }
      ]
    },
    {
      "cell_type": "code",
      "metadata": {
        "id": "k5inSX06b_16"
      },
      "source": [
        "aug = dataset.copy()"
      ],
      "execution_count": 7,
      "outputs": []
    },
    {
      "cell_type": "markdown",
      "metadata": {
        "id": "vTW3m5fXew6J"
      },
      "source": [
        "##Augmentation Phase"
      ]
    },
    {
      "cell_type": "markdown",
      "metadata": {
        "id": "HQPKDreRezLp"
      },
      "source": [
        "###WordNet"
      ]
    },
    {
      "cell_type": "code",
      "metadata": {
        "colab": {
          "base_uri": "https://localhost:8080/"
        },
        "id": "YiJ1fOZ2b_7d",
        "outputId": "b527157e-3169-4e0d-cf76-5f2add3b3099"
      },
      "source": [
        "from textattack.augmentation import WordNetAugmenter\n",
        "random.seed(33)\n",
        "\n",
        "my_items = []\n",
        "num_tras_to_add = 1\n",
        "\n",
        "start_time = timeit.default_timer()\n",
        "augmenter = WordNetAugmenter(pct_words_to_swap=1,\n",
        "                             transformations_per_example=num_tras_to_add)\n",
        "\n",
        "for row in aug.head(10).itertuples():\n",
        "  result = augmenter.augment(row.sentence)\n",
        "  # my_items.append({'index': row.index,\n",
        "  #                  'label': row.label,\n",
        "  #                  'sentence':row.sentence})\n",
        "  \n",
        "  for i in range(num_tras_to_add):\n",
        "    my_items.append({'index': row.index,\n",
        "                     'label': row.label,\n",
        "                     'sentence': re.sub(r'@[^$]*\\$', '@DRUG$', result[i])})\n",
        "  \n",
        "\n",
        "elapsed = timeit.default_timer() - start_time\n",
        "print(f'TIME OF EXECUTION={elapsed}')\n",
        "augmeted_new = pd.DataFrame(data=my_items, columns=aug.columns)\n",
        "print(f\"COLONNE:{augmeted_new.columns}\")\n",
        "print(f\"DIMENSIONE:{augmeted_new.shape}\")"
      ],
      "execution_count": 14,
      "outputs": [
        {
          "output_type": "stream",
          "text": [
            "TIME OF EXECUTION=0.19188749100021596\n",
            "COLONNE:Index(['index', 'sentence', 'label'], dtype='object')\n",
            "DIMENSIONE:(10, 3)\n"
          ],
          "name": "stdout"
        }
      ]
    },
    {
      "cell_type": "code",
      "metadata": {
        "id": "rbSS21xw9bC3"
      },
      "source": [
        "augmeted_new.to_csv(\"DDI_sinonimi.csv\",index=False)"
      ],
      "execution_count": 10,
      "outputs": []
    },
    {
      "cell_type": "code",
      "metadata": {
        "id": "j-sc0glP9npJ"
      },
      "source": [
        "augmeted_load=pd.read_csv('DDI_sinonimi.csv')"
      ],
      "execution_count": 11,
      "outputs": []
    },
    {
      "cell_type": "markdown",
      "metadata": {
        "id": "WbpvYtCoe2vj"
      },
      "source": [
        "###WordEmbedding"
      ]
    },
    {
      "cell_type": "code",
      "metadata": {
        "colab": {
          "base_uri": "https://localhost:8080/"
        },
        "id": "fEJvuoPucmI9",
        "outputId": "8383f67a-c503-48fe-8a35-dbd203540d6c"
      },
      "source": [
        "from textattack.augmentation import EmbeddingAugmenter\n",
        "random.seed(33)\n",
        "\n",
        "my_items = []\n",
        "num_tras_to_add = 2\n",
        "\n",
        "start_time = timeit.default_timer()\n",
        "augmenter = EmbeddingAugmenter(pct_words_to_swap=1,\n",
        "                               transformations_per_example=num_tras_to_add)\n",
        "\n",
        "for row in aug.head(10).itertuples():\n",
        "  result=augmenter.augment(row.sentence)\n",
        "  # my_items.append({'index': row.index,\n",
        "  #                  'label': row.label,\n",
        "  #                  'sentence': row.sentence})\n",
        "\n",
        "  for i in range(num_tras_to_add): \n",
        "    my_items.append({'index': row.index,\n",
        "                     'label': row.label,\n",
        "                     'sentence': re.sub(r'@[^$]*\\$', '@DRUG$', result[i])})\n",
        "\n",
        "elapsed = timeit.default_timer() - start_time\n",
        "print(f'TIME OF EXECUTION={elapsed}')\n",
        "aug_embedding = pd.DataFrame(data=my_items, columns=aug.columns)\n",
        "print(f\"COLONNE:{embedded_new.columns}\")\n",
        "print(f\"DIMENSIONE:{embedded_new.shape}\")"
      ],
      "execution_count": null,
      "outputs": [
        {
          "output_type": "stream",
          "text": [
            "TIME OF EXECUTION=5.549257976000035\n",
            "COLONNE:Index(['index', 'sentence', 'label'], dtype='object')\n",
            "DIMENSIONE:(30, 3)\n"
          ],
          "name": "stdout"
        }
      ]
    },
    {
      "cell_type": "code",
      "metadata": {
        "id": "DD8hQCf9_on8"
      },
      "source": [
        "aug_embedding.to_csv(\"DDI_embedding.csv\",index=False)"
      ],
      "execution_count": null,
      "outputs": []
    },
    {
      "cell_type": "code",
      "metadata": {
        "id": "1hP4rV2v_yh5"
      },
      "source": [
        "aug_embedding_load=pd.read_csv('DDI_embedding.csv')"
      ],
      "execution_count": null,
      "outputs": []
    }
  ]
}
