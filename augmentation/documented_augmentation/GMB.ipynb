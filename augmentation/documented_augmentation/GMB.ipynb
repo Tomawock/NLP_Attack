{
  "nbformat": 4,
  "nbformat_minor": 0,
  "metadata": {
    "colab": {
      "name": "GMB.ipynb",
      "provenance": [],
      "collapsed_sections": [],
      "authorship_tag": "ABX9TyNhMtBoC5r9/VTSffvbaLA0",
      "include_colab_link": true
    },
    "kernelspec": {
      "name": "python3",
      "display_name": "Python 3"
    }
  },
  "cells": [
    {
      "cell_type": "markdown",
      "metadata": {
        "id": "view-in-github",
        "colab_type": "text"
      },
      "source": [
        "<a href=\"https://colab.research.google.com/github/Tomawock/NLP_Attack/blob/main/augmentation/documented_augmentation/GMB.ipynb\" target=\"_parent\"><img src=\"https://colab.research.google.com/assets/colab-badge.svg\" alt=\"Open In Colab\"/></a>"
      ]
    },
    {
      "cell_type": "code",
      "metadata": {
        "id": "KviStw2JQACp"
      },
      "source": [
        "pip install textattack"
      ],
      "execution_count": null,
      "outputs": []
    },
    {
      "cell_type": "code",
      "metadata": {
        "id": "OoUwEP-BTsb7"
      },
      "source": [
        "import random\n",
        "import timeit"
      ],
      "execution_count": null,
      "outputs": []
    },
    {
      "cell_type": "code",
      "metadata": {
        "colab": {
          "base_uri": "https://localhost:8080/"
        },
        "id": "edpRDoFeQxfP",
        "outputId": "8207cebc-27ef-49ba-c8f1-6469c8e752f2"
      },
      "source": [
        "import pandas as pd\n",
        "\n",
        "from google.colab import drive\n",
        "drive.mount('/content/drive')\n",
        "\n",
        "dataset = pd.read_csv('/content/drive/Shareddrives/Deep Learning/datasets/GMB/GMB_dataset.txt', sep=\"\\t\", encoding=\"latin1\", index_col=0)"
      ],
      "execution_count": null,
      "outputs": [
        {
          "output_type": "stream",
          "text": [
            "Drive already mounted at /content/drive; to attempt to forcibly remount, call drive.mount(\"/content/drive\", force_remount=True).\n"
          ],
          "name": "stdout"
        }
      ]
    },
    {
      "cell_type": "markdown",
      "metadata": {
        "id": "q-MMbPn6MYup"
      },
      "source": [
        "Per interpretare i POS si consiglia di tener presente:\n",
        "https://www.ling.upenn.edu/courses/Fall_2003/ling001/penn_treebank_pos.html."
      ]
    },
    {
      "cell_type": "code",
      "metadata": {
        "colab": {
          "base_uri": "https://localhost:8080/",
          "height": 241
        },
        "id": "y9qBhPkCSsvA",
        "outputId": "8e4cedf1-b948-4795-8248-690797142cad"
      },
      "source": [
        "print(f'Contains {dataset[\"Sentence #\"].iloc[-1]} sentences')\n",
        "print(f'Contains {len(dataset)} words')\n",
        "dataset.head()"
      ],
      "execution_count": null,
      "outputs": [
        {
          "output_type": "stream",
          "text": [
            "Contains 2999.0 sentences\n",
            "Contains 66161 words\n"
          ],
          "name": "stdout"
        },
        {
          "output_type": "execute_result",
          "data": {
            "text/html": [
              "<div>\n",
              "<style scoped>\n",
              "    .dataframe tbody tr th:only-of-type {\n",
              "        vertical-align: middle;\n",
              "    }\n",
              "\n",
              "    .dataframe tbody tr th {\n",
              "        vertical-align: top;\n",
              "    }\n",
              "\n",
              "    .dataframe thead th {\n",
              "        text-align: right;\n",
              "    }\n",
              "</style>\n",
              "<table border=\"1\" class=\"dataframe\">\n",
              "  <thead>\n",
              "    <tr style=\"text-align: right;\">\n",
              "      <th></th>\n",
              "      <th>Sentence #</th>\n",
              "      <th>Word</th>\n",
              "      <th>POS</th>\n",
              "      <th>Tag</th>\n",
              "    </tr>\n",
              "  </thead>\n",
              "  <tbody>\n",
              "    <tr>\n",
              "      <th>0</th>\n",
              "      <td>1.0</td>\n",
              "      <td>Thousands</td>\n",
              "      <td>NNS</td>\n",
              "      <td>O</td>\n",
              "    </tr>\n",
              "    <tr>\n",
              "      <th>1</th>\n",
              "      <td>1.0</td>\n",
              "      <td>of</td>\n",
              "      <td>IN</td>\n",
              "      <td>O</td>\n",
              "    </tr>\n",
              "    <tr>\n",
              "      <th>2</th>\n",
              "      <td>1.0</td>\n",
              "      <td>demonstrators</td>\n",
              "      <td>NNS</td>\n",
              "      <td>O</td>\n",
              "    </tr>\n",
              "    <tr>\n",
              "      <th>3</th>\n",
              "      <td>1.0</td>\n",
              "      <td>have</td>\n",
              "      <td>VBP</td>\n",
              "      <td>O</td>\n",
              "    </tr>\n",
              "    <tr>\n",
              "      <th>4</th>\n",
              "      <td>1.0</td>\n",
              "      <td>marched</td>\n",
              "      <td>VBN</td>\n",
              "      <td>O</td>\n",
              "    </tr>\n",
              "  </tbody>\n",
              "</table>\n",
              "</div>"
            ],
            "text/plain": [
              "   Sentence #           Word  POS Tag\n",
              "0         1.0      Thousands  NNS   O\n",
              "1         1.0             of   IN   O\n",
              "2         1.0  demonstrators  NNS   O\n",
              "3         1.0           have  VBP   O\n",
              "4         1.0        marched  VBN   O"
            ]
          },
          "metadata": {
            "tags": []
          },
          "execution_count": 106
        }
      ]
    },
    {
      "cell_type": "code",
      "metadata": {
        "id": "CpWhPOBtZDwf"
      },
      "source": [
        "def get_sentence(data):\n",
        "      agg_func = lambda s: [w for w in s['Word'].values.tolist()]\n",
        "      grouped = data.groupby('Sentence #').apply(agg_func)\n",
        "      return [' '.join(s) for s in grouped]\n",
        "\n",
        "def get_sentence_mantain_struct(data):\n",
        "      agg_func = lambda s: [(w, p, t) for w, p, t in zip(s[\"Word\"].values.tolist(),\n",
        "                                                         s[\"POS\"].values.tolist(),\n",
        "                                                         s[\"Tag\"].values.tolist())]\n",
        "      return data.groupby('Sentence #').apply(agg_func)"
      ],
      "execution_count": null,
      "outputs": []
    },
    {
      "cell_type": "markdown",
      "metadata": {
        "id": "EbLhJij4pbw9"
      },
      "source": [
        "##Rimozione Dell'unico duplicato"
      ]
    },
    {
      "cell_type": "code",
      "metadata": {
        "id": "qlzTK4UPThES"
      },
      "source": [
        "aug = dataset.copy()\n",
        "sentences = get_sentence(aug)\n",
        "temp = pd.DataFrame(sentences)\n",
        "dropped = temp.drop_duplicates(subset = 0, keep = \"last\")\n",
        "print(f'{len(dropped)}')\n",
        "print('Only one sample is duplicated.')\n",
        "for i, (ag, dr) in enumerate(zip(sentences, dropped.values)):\n",
        "  if ag != dr:\n",
        "    remove_index = i+1\n",
        "    break\n",
        "remove_index = aug.loc[aug['Sentence #'] == remove_index].index\n",
        "aug.drop(remove_index, inplace=True)"
      ],
      "execution_count": null,
      "outputs": []
    },
    {
      "cell_type": "markdown",
      "metadata": {
        "id": "ExNVtbDEpt0v"
      },
      "source": [
        "##Augmentation Phase"
      ]
    },
    {
      "cell_type": "markdown",
      "metadata": {
        "id": "N2rk80sAKlKU"
      },
      "source": [
        "###WordNet"
      ]
    },
    {
      "cell_type": "code",
      "metadata": {
        "colab": {
          "base_uri": "https://localhost:8080/"
        },
        "id": "zDESHKrDKovx",
        "outputId": "673292a9-a02a-4f23-e555-53421b6a7494"
      },
      "source": [
        "from textattack.augmentation import WordNetAugmenter\n",
        "random.seed(33)\n",
        "\n",
        "my_items = []\n",
        "num_tras_to_add = 2\n",
        "num_sentences = aug[\"Sentence #\"].iloc[-1]\n",
        "\n",
        "start_time = timeit.default_timer()\n",
        "augmenter = WordNetAugmenter(pct_words_to_swap=1,\n",
        "                               transformations_per_example=num_tras_to_add)\n",
        "sentences_num = aug.drop_duplicates('Sentence #')['Sentence #'].values\n",
        "for i, row in enumerate(get_sentence(aug)[0:10]):\n",
        "  word_comp = aug.loc[aug['Sentence #'] == sentences_num[i], ['POS', 'Tag']]\n",
        "  word_index = word_comp.index\n",
        "  result = augmenter.augment(row)\n",
        "  for aug_row in result:\n",
        "    num_sentences += 1\n",
        "    for j, word in enumerate(aug_row.split(' ')):\n",
        "      my_items.append({'Sentence #': num_sentences,\n",
        "                       'Word': word,\n",
        "                       'POS': word_comp['POS'][word_index[j]],\n",
        "                       'Tag': word_comp['Tag'][word_index[j]]})\n",
        "\n",
        "\n",
        "elapsed = timeit.default_timer() - start_time\n",
        "print(f'TIME OF EXECUTION={elapsed}')\n",
        "augmeted_new = pd.DataFrame(data=my_items, columns=aug.columns)\n",
        "print(f\"DIMENSIONE:{augmeted_new.shape}\")"
      ],
      "execution_count": null,
      "outputs": [
        {
          "output_type": "stream",
          "text": [
            "TIME OF EXECUTION=4.026953916998536\n",
            "DIMENSIONE:(442, 4)\n"
          ],
          "name": "stdout"
        }
      ]
    },
    {
      "cell_type": "code",
      "metadata": {
        "colab": {
          "base_uri": "https://localhost:8080/",
          "height": 424
        },
        "id": "vE2uhU2zKv9o",
        "outputId": "c57eafd5-3691-4f1f-a982-79050f3c50ab"
      },
      "source": [
        "augmeted_new"
      ],
      "execution_count": null,
      "outputs": [
        {
          "output_type": "execute_result",
          "data": {
            "text/html": [
              "<div>\n",
              "<style scoped>\n",
              "    .dataframe tbody tr th:only-of-type {\n",
              "        vertical-align: middle;\n",
              "    }\n",
              "\n",
              "    .dataframe tbody tr th {\n",
              "        vertical-align: top;\n",
              "    }\n",
              "\n",
              "    .dataframe thead th {\n",
              "        text-align: right;\n",
              "    }\n",
              "</style>\n",
              "<table border=\"1\" class=\"dataframe\">\n",
              "  <thead>\n",
              "    <tr style=\"text-align: right;\">\n",
              "      <th></th>\n",
              "      <th>Sentence #</th>\n",
              "      <th>Word</th>\n",
              "      <th>POS</th>\n",
              "      <th>Tag</th>\n",
              "    </tr>\n",
              "  </thead>\n",
              "  <tbody>\n",
              "    <tr>\n",
              "      <th>0</th>\n",
              "      <td>3000.0</td>\n",
              "      <td>G</td>\n",
              "      <td>NNS</td>\n",
              "      <td>O</td>\n",
              "    </tr>\n",
              "    <tr>\n",
              "      <th>1</th>\n",
              "      <td>3000.0</td>\n",
              "      <td>of</td>\n",
              "      <td>IN</td>\n",
              "      <td>O</td>\n",
              "    </tr>\n",
              "    <tr>\n",
              "      <th>2</th>\n",
              "      <td>3000.0</td>\n",
              "      <td>demonstrator</td>\n",
              "      <td>NNS</td>\n",
              "      <td>O</td>\n",
              "    </tr>\n",
              "    <tr>\n",
              "      <th>3</th>\n",
              "      <td>3000.0</td>\n",
              "      <td>have</td>\n",
              "      <td>VBP</td>\n",
              "      <td>O</td>\n",
              "    </tr>\n",
              "    <tr>\n",
              "      <th>4</th>\n",
              "      <td>3000.0</td>\n",
              "      <td>edge</td>\n",
              "      <td>VBN</td>\n",
              "      <td>O</td>\n",
              "    </tr>\n",
              "    <tr>\n",
              "      <th>...</th>\n",
              "      <td>...</td>\n",
              "      <td>...</td>\n",
              "      <td>...</td>\n",
              "      <td>...</td>\n",
              "    </tr>\n",
              "    <tr>\n",
              "      <th>437</th>\n",
              "      <td>3019.0</td>\n",
              "      <td>surveillance</td>\n",
              "      <td>NN</td>\n",
              "      <td>O</td>\n",
              "    </tr>\n",
              "    <tr>\n",
              "      <th>438</th>\n",
              "      <td>3019.0</td>\n",
              "      <td>scheme</td>\n",
              "      <td>NN</td>\n",
              "      <td>O</td>\n",
              "    </tr>\n",
              "    <tr>\n",
              "      <th>439</th>\n",
              "      <td>3019.0</td>\n",
              "      <td>commence</td>\n",
              "      <td>VBZ</td>\n",
              "      <td>O</td>\n",
              "    </tr>\n",
              "    <tr>\n",
              "      <th>440</th>\n",
              "      <td>3019.0</td>\n",
              "      <td>operate</td>\n",
              "      <td>VBG</td>\n",
              "      <td>O</td>\n",
              "    </tr>\n",
              "    <tr>\n",
              "      <th>441</th>\n",
              "      <td>3019.0</td>\n",
              "      <td>.</td>\n",
              "      <td>.</td>\n",
              "      <td>O</td>\n",
              "    </tr>\n",
              "  </tbody>\n",
              "</table>\n",
              "<p>442 rows × 4 columns</p>\n",
              "</div>"
            ],
            "text/plain": [
              "     Sentence #          Word  POS Tag\n",
              "0        3000.0             G  NNS   O\n",
              "1        3000.0            of   IN   O\n",
              "2        3000.0  demonstrator  NNS   O\n",
              "3        3000.0          have  VBP   O\n",
              "4        3000.0          edge  VBN   O\n",
              "..          ...           ...  ...  ..\n",
              "437      3019.0  surveillance   NN   O\n",
              "438      3019.0        scheme   NN   O\n",
              "439      3019.0      commence  VBZ   O\n",
              "440      3019.0       operate  VBG   O\n",
              "441      3019.0             .    .   O\n",
              "\n",
              "[442 rows x 4 columns]"
            ]
          },
          "metadata": {
            "tags": []
          },
          "execution_count": 313
        }
      ]
    },
    {
      "cell_type": "markdown",
      "metadata": {
        "id": "hJnAhKkJqJeN"
      },
      "source": [
        "###WordEmbedding"
      ]
    },
    {
      "cell_type": "code",
      "metadata": {
        "colab": {
          "base_uri": "https://localhost:8080/"
        },
        "id": "D0uErh2NYg8p",
        "outputId": "e338a36e-44bb-4151-8197-9b9c2c81305d"
      },
      "source": [
        "from textattack.augmentation import EmbeddingAugmenter\n",
        "random.seed(33)\n",
        "\n",
        "my_items = []\n",
        "num_tras_to_add = 2\n",
        "num_sentences = aug[\"Sentence #\"].iloc[-1]\n",
        "\n",
        "start_time = timeit.default_timer()\n",
        "augmenter = EmbeddingAugmenter(pct_words_to_swap=1,\n",
        "                               transformations_per_example=num_tras_to_add)\n",
        "sentences_num = aug.drop_duplicates('Sentence #')['Sentence #'].values\n",
        "for i, row in enumerate(get_sentence(aug)[0:10]):\n",
        "  word_comp = aug.loc[aug['Sentence #'] == sentences_num[i], ['POS', 'Tag']]\n",
        "  word_index = word_comp.index\n",
        "  result = augmenter.augment(row)\n",
        "  for aug_row in result:\n",
        "    num_sentences += 1\n",
        "    for j, word in enumerate(aug_row.split(' ')):\n",
        "      my_items.append({'Sentence #': num_sentences,\n",
        "                       'Word': word,\n",
        "                       'POS': word_comp['POS'][word_index[j]],\n",
        "                       'Tag': word_comp['Tag'][word_index[j]]})\n",
        "\n",
        "\n",
        "elapsed = timeit.default_timer() - start_time\n",
        "print(f'TIME OF EXECUTION={elapsed}')\n",
        "augmeted_new = pd.DataFrame(data=my_items, columns=aug.columns)\n",
        "print(f\"DIMENSIONE:{augmeted_new.shape}\")"
      ],
      "execution_count": null,
      "outputs": [
        {
          "output_type": "stream",
          "text": [
            "TIME OF EXECUTION=14.007430034000208\n",
            "DIMENSIONE:(442, 4)\n"
          ],
          "name": "stdout"
        }
      ]
    },
    {
      "cell_type": "code",
      "metadata": {
        "colab": {
          "base_uri": "https://localhost:8080/",
          "height": 424
        },
        "id": "6NyMNJoo_OFW",
        "outputId": "f93fd179-e619-4487-fda1-56e99b8dc2ab"
      },
      "source": [
        "augmeted_new"
      ],
      "execution_count": null,
      "outputs": [
        {
          "output_type": "execute_result",
          "data": {
            "text/html": [
              "<div>\n",
              "<style scoped>\n",
              "    .dataframe tbody tr th:only-of-type {\n",
              "        vertical-align: middle;\n",
              "    }\n",
              "\n",
              "    .dataframe tbody tr th {\n",
              "        vertical-align: top;\n",
              "    }\n",
              "\n",
              "    .dataframe thead th {\n",
              "        text-align: right;\n",
              "    }\n",
              "</style>\n",
              "<table border=\"1\" class=\"dataframe\">\n",
              "  <thead>\n",
              "    <tr style=\"text-align: right;\">\n",
              "      <th></th>\n",
              "      <th>Sentence #</th>\n",
              "      <th>Word</th>\n",
              "      <th>POS</th>\n",
              "      <th>Tag</th>\n",
              "    </tr>\n",
              "  </thead>\n",
              "  <tbody>\n",
              "    <tr>\n",
              "      <th>0</th>\n",
              "      <td>3000.0</td>\n",
              "      <td>Thousand</td>\n",
              "      <td>NNS</td>\n",
              "      <td>O</td>\n",
              "    </tr>\n",
              "    <tr>\n",
              "      <th>1</th>\n",
              "      <td>3000.0</td>\n",
              "      <td>of</td>\n",
              "      <td>IN</td>\n",
              "      <td>O</td>\n",
              "    </tr>\n",
              "    <tr>\n",
              "      <th>2</th>\n",
              "      <td>3000.0</td>\n",
              "      <td>demonstrations</td>\n",
              "      <td>NNS</td>\n",
              "      <td>O</td>\n",
              "    </tr>\n",
              "    <tr>\n",
              "      <th>3</th>\n",
              "      <td>3000.0</td>\n",
              "      <td>have</td>\n",
              "      <td>VBP</td>\n",
              "      <td>O</td>\n",
              "    </tr>\n",
              "    <tr>\n",
              "      <th>4</th>\n",
              "      <td>3000.0</td>\n",
              "      <td>paraded</td>\n",
              "      <td>VBN</td>\n",
              "      <td>O</td>\n",
              "    </tr>\n",
              "    <tr>\n",
              "      <th>...</th>\n",
              "      <td>...</td>\n",
              "      <td>...</td>\n",
              "      <td>...</td>\n",
              "      <td>...</td>\n",
              "    </tr>\n",
              "    <tr>\n",
              "      <th>437</th>\n",
              "      <td>3019.0</td>\n",
              "      <td>monitoring</td>\n",
              "      <td>NN</td>\n",
              "      <td>O</td>\n",
              "    </tr>\n",
              "    <tr>\n",
              "      <th>438</th>\n",
              "      <td>3019.0</td>\n",
              "      <td>system</td>\n",
              "      <td>NN</td>\n",
              "      <td>O</td>\n",
              "    </tr>\n",
              "    <tr>\n",
              "      <th>439</th>\n",
              "      <td>3019.0</td>\n",
              "      <td>initiates</td>\n",
              "      <td>VBZ</td>\n",
              "      <td>O</td>\n",
              "    </tr>\n",
              "    <tr>\n",
              "      <th>440</th>\n",
              "      <td>3019.0</td>\n",
              "      <td>operational</td>\n",
              "      <td>VBG</td>\n",
              "      <td>O</td>\n",
              "    </tr>\n",
              "    <tr>\n",
              "      <th>441</th>\n",
              "      <td>3019.0</td>\n",
              "      <td>.</td>\n",
              "      <td>.</td>\n",
              "      <td>O</td>\n",
              "    </tr>\n",
              "  </tbody>\n",
              "</table>\n",
              "<p>442 rows × 4 columns</p>\n",
              "</div>"
            ],
            "text/plain": [
              "     Sentence #            Word  POS Tag\n",
              "0        3000.0        Thousand  NNS   O\n",
              "1        3000.0              of   IN   O\n",
              "2        3000.0  demonstrations  NNS   O\n",
              "3        3000.0            have  VBP   O\n",
              "4        3000.0         paraded  VBN   O\n",
              "..          ...             ...  ...  ..\n",
              "437      3019.0      monitoring   NN   O\n",
              "438      3019.0          system   NN   O\n",
              "439      3019.0       initiates  VBZ   O\n",
              "440      3019.0     operational  VBG   O\n",
              "441      3019.0               .    .   O\n",
              "\n",
              "[442 rows x 4 columns]"
            ]
          },
          "metadata": {
            "tags": []
          },
          "execution_count": 306
        }
      ]
    },
    {
      "cell_type": "markdown",
      "metadata": {
        "id": "qw2sGxtILFqF"
      },
      "source": [
        "##Final comments"
      ]
    },
    {
      "cell_type": "markdown",
      "metadata": {
        "id": "LC329YTPLJo3"
      },
      "source": [
        "Eseguendo le modifiche basate solo sulla sostituzione di parole tramite sinonimi non ci si aspetta un miglioramento netto, ma comunque presente.\n",
        "Per ulteriori miglioramenti si tenga conto di:\n",
        "https://github.com/daixiangau/coling2020-data-augmentation.\n",
        "\n",
        "Come modello qui ci sono suggerimenti:\n",
        "https://medium.com/@kaushik.sairam/named-entity-recognition-ner-on-groningen-meaning-bank-gmb-corpus-fba8914be26."
      ]
    }
  ]
}
