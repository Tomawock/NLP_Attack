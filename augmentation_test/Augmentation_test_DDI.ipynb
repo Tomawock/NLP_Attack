{
  "nbformat": 4,
  "nbformat_minor": 0,
  "metadata": {
    "colab": {
      "name": "Augmentation_test_DDI.ipynb",
      "provenance": [],
      "toc_visible": true,
      "include_colab_link": true
    },
    "kernelspec": {
      "name": "python3",
      "display_name": "Python 3"
    }
  },
  "cells": [
    {
      "cell_type": "markdown",
      "metadata": {
        "id": "view-in-github",
        "colab_type": "text"
      },
      "source": [
        "<a href=\"https://colab.research.google.com/github/Tomawock/NLP_Attack/blob/main/augmentation_test/Augmentation_test_DDI.ipynb\" target=\"_parent\"><img src=\"https://colab.research.google.com/assets/colab-badge.svg\" alt=\"Open In Colab\"/></a>"
      ]
    },
    {
      "cell_type": "code",
      "metadata": {
        "id": "Vw61JhILbyDD",
        "colab": {
          "base_uri": "https://localhost:8080/"
        },
        "outputId": "5a84d7d3-cf2f-42fe-ced4-dcc3f49dadf8"
      },
      "source": [
        "!pip install textattack"
      ],
      "execution_count": 1,
      "outputs": [
        {
          "output_type": "stream",
          "text": [
            "Requirement already satisfied: textattack in /usr/local/lib/python3.6/dist-packages (0.2.15)\n",
            "Requirement already satisfied: lemminflect in /usr/local/lib/python3.6/dist-packages (from textattack) (0.2.1)\n",
            "Requirement already satisfied: transformers>=3.3.0 in /usr/local/lib/python3.6/dist-packages (from textattack) (4.2.2)\n",
            "Requirement already satisfied: terminaltables in /usr/local/lib/python3.6/dist-packages (from textattack) (3.1.0)\n",
            "Requirement already satisfied: pandas>=1.0.1 in /usr/local/lib/python3.6/dist-packages (from textattack) (1.1.5)\n",
            "Requirement already satisfied: editdistance in /usr/local/lib/python3.6/dist-packages (from textattack) (0.5.3)\n",
            "Requirement already satisfied: lru-dict in /usr/local/lib/python3.6/dist-packages (from textattack) (1.1.7)\n",
            "Requirement already satisfied: datasets in /usr/local/lib/python3.6/dist-packages (from textattack) (1.2.1)\n",
            "Requirement already satisfied: PySocks!=1.5.7,>=1.5.6 in /usr/local/lib/python3.6/dist-packages (from textattack) (1.7.1)\n",
            "Requirement already satisfied: numpy<1.19.0 in /usr/local/lib/python3.6/dist-packages (from textattack) (1.18.5)\n",
            "Requirement already satisfied: torch in /usr/local/lib/python3.6/dist-packages (from textattack) (1.7.0+cu101)\n",
            "Requirement already satisfied: bert-score>=0.3.5 in /usr/local/lib/python3.6/dist-packages (from textattack) (0.3.7)\n",
            "Requirement already satisfied: filelock in /usr/local/lib/python3.6/dist-packages (from textattack) (3.0.12)\n",
            "Requirement already satisfied: tqdm<4.50.0,>=4.27 in /usr/local/lib/python3.6/dist-packages (from textattack) (4.41.1)\n",
            "Requirement already satisfied: nltk in /usr/local/lib/python3.6/dist-packages (from textattack) (3.2.5)\n",
            "Requirement already satisfied: more-itertools in /usr/local/lib/python3.6/dist-packages (from textattack) (8.6.0)\n",
            "Requirement already satisfied: flair==0.6.1.post1 in /usr/local/lib/python3.6/dist-packages (from textattack) (0.6.1.post1)\n",
            "Requirement already satisfied: num2words in /usr/local/lib/python3.6/dist-packages (from textattack) (0.5.10)\n",
            "Requirement already satisfied: word2number in /usr/local/lib/python3.6/dist-packages (from textattack) (1.1)\n",
            "Requirement already satisfied: language-tool-python in /usr/local/lib/python3.6/dist-packages (from textattack) (2.5.2)\n",
            "Requirement already satisfied: scipy==1.4.1 in /usr/local/lib/python3.6/dist-packages (from textattack) (1.4.1)\n",
            "Requirement already satisfied: dataclasses; python_version < \"3.7\" in /usr/local/lib/python3.6/dist-packages (from transformers>=3.3.0->textattack) (0.8)\n",
            "Requirement already satisfied: regex!=2019.12.17 in /usr/local/lib/python3.6/dist-packages (from transformers>=3.3.0->textattack) (2019.12.20)\n",
            "Requirement already satisfied: tokenizers==0.9.4 in /usr/local/lib/python3.6/dist-packages (from transformers>=3.3.0->textattack) (0.9.4)\n",
            "Requirement already satisfied: requests in /usr/local/lib/python3.6/dist-packages (from transformers>=3.3.0->textattack) (2.23.0)\n",
            "Requirement already satisfied: importlib-metadata; python_version < \"3.8\" in /usr/local/lib/python3.6/dist-packages (from transformers>=3.3.0->textattack) (3.4.0)\n",
            "Requirement already satisfied: packaging in /usr/local/lib/python3.6/dist-packages (from transformers>=3.3.0->textattack) (20.9)\n",
            "Requirement already satisfied: sacremoses in /usr/local/lib/python3.6/dist-packages (from transformers>=3.3.0->textattack) (0.0.43)\n",
            "Requirement already satisfied: pytz>=2017.2 in /usr/local/lib/python3.6/dist-packages (from pandas>=1.0.1->textattack) (2018.9)\n",
            "Requirement already satisfied: python-dateutil>=2.7.3 in /usr/local/lib/python3.6/dist-packages (from pandas>=1.0.1->textattack) (2.8.1)\n",
            "Requirement already satisfied: xxhash in /usr/local/lib/python3.6/dist-packages (from datasets->textattack) (2.0.0)\n",
            "Requirement already satisfied: pyarrow>=0.17.1 in /usr/local/lib/python3.6/dist-packages (from datasets->textattack) (3.0.0)\n",
            "Requirement already satisfied: multiprocess in /usr/local/lib/python3.6/dist-packages (from datasets->textattack) (0.70.11.1)\n",
            "Requirement already satisfied: dill in /usr/local/lib/python3.6/dist-packages (from datasets->textattack) (0.3.3)\n",
            "Requirement already satisfied: future in /usr/local/lib/python3.6/dist-packages (from torch->textattack) (0.16.0)\n",
            "Requirement already satisfied: typing-extensions in /usr/local/lib/python3.6/dist-packages (from torch->textattack) (3.7.4.3)\n",
            "Requirement already satisfied: matplotlib in /usr/local/lib/python3.6/dist-packages (from bert-score>=0.3.5->textattack) (3.2.2)\n",
            "Requirement already satisfied: six in /usr/local/lib/python3.6/dist-packages (from nltk->textattack) (1.15.0)\n",
            "Requirement already satisfied: scikit-learn>=0.21.3 in /usr/local/lib/python3.6/dist-packages (from flair==0.6.1.post1->textattack) (0.22.2.post1)\n",
            "Requirement already satisfied: ftfy in /usr/local/lib/python3.6/dist-packages (from flair==0.6.1.post1->textattack) (5.8)\n",
            "Requirement already satisfied: sqlitedict>=1.6.0 in /usr/local/lib/python3.6/dist-packages (from flair==0.6.1.post1->textattack) (1.7.0)\n",
            "Requirement already satisfied: konoha<5.0.0,>=4.0.0 in /usr/local/lib/python3.6/dist-packages (from flair==0.6.1.post1->textattack) (4.6.2)\n",
            "Requirement already satisfied: janome in /usr/local/lib/python3.6/dist-packages (from flair==0.6.1.post1->textattack) (0.4.1)\n",
            "Requirement already satisfied: gensim>=3.4.0 in /usr/local/lib/python3.6/dist-packages (from flair==0.6.1.post1->textattack) (3.6.0)\n",
            "Requirement already satisfied: bpemb>=0.3.2 in /usr/local/lib/python3.6/dist-packages (from flair==0.6.1.post1->textattack) (0.3.2)\n",
            "Requirement already satisfied: sentencepiece!=0.1.92 in /usr/local/lib/python3.6/dist-packages (from flair==0.6.1.post1->textattack) (0.1.95)\n",
            "Requirement already satisfied: gdown in /usr/local/lib/python3.6/dist-packages (from flair==0.6.1.post1->textattack) (3.6.4)\n",
            "Requirement already satisfied: segtok>=1.5.7 in /usr/local/lib/python3.6/dist-packages (from flair==0.6.1.post1->textattack) (1.5.10)\n",
            "Requirement already satisfied: mpld3==0.3 in /usr/local/lib/python3.6/dist-packages (from flair==0.6.1.post1->textattack) (0.3)\n",
            "Requirement already satisfied: hyperopt>=0.1.1 in /usr/local/lib/python3.6/dist-packages (from flair==0.6.1.post1->textattack) (0.1.2)\n",
            "Requirement already satisfied: langdetect in /usr/local/lib/python3.6/dist-packages (from flair==0.6.1.post1->textattack) (1.0.8)\n",
            "Requirement already satisfied: tabulate in /usr/local/lib/python3.6/dist-packages (from flair==0.6.1.post1->textattack) (0.8.7)\n",
            "Requirement already satisfied: deprecated>=1.2.4 in /usr/local/lib/python3.6/dist-packages (from flair==0.6.1.post1->textattack) (1.2.11)\n",
            "Requirement already satisfied: lxml in /usr/local/lib/python3.6/dist-packages (from flair==0.6.1.post1->textattack) (4.2.6)\n",
            "Requirement already satisfied: docopt>=0.6.2 in /usr/local/lib/python3.6/dist-packages (from num2words->textattack) (0.6.2)\n",
            "Requirement already satisfied: urllib3!=1.25.0,!=1.25.1,<1.26,>=1.21.1 in /usr/local/lib/python3.6/dist-packages (from requests->transformers>=3.3.0->textattack) (1.24.3)\n",
            "Requirement already satisfied: certifi>=2017.4.17 in /usr/local/lib/python3.6/dist-packages (from requests->transformers>=3.3.0->textattack) (2020.12.5)\n",
            "Requirement already satisfied: chardet<4,>=3.0.2 in /usr/local/lib/python3.6/dist-packages (from requests->transformers>=3.3.0->textattack) (3.0.4)\n",
            "Requirement already satisfied: idna<3,>=2.5 in /usr/local/lib/python3.6/dist-packages (from requests->transformers>=3.3.0->textattack) (2.10)\n",
            "Requirement already satisfied: zipp>=0.5 in /usr/local/lib/python3.6/dist-packages (from importlib-metadata; python_version < \"3.8\"->transformers>=3.3.0->textattack) (3.4.0)\n",
            "Requirement already satisfied: pyparsing>=2.0.2 in /usr/local/lib/python3.6/dist-packages (from packaging->transformers>=3.3.0->textattack) (2.4.7)\n",
            "Requirement already satisfied: click in /usr/local/lib/python3.6/dist-packages (from sacremoses->transformers>=3.3.0->textattack) (7.1.2)\n",
            "Requirement already satisfied: joblib in /usr/local/lib/python3.6/dist-packages (from sacremoses->transformers>=3.3.0->textattack) (1.0.0)\n",
            "Requirement already satisfied: kiwisolver>=1.0.1 in /usr/local/lib/python3.6/dist-packages (from matplotlib->bert-score>=0.3.5->textattack) (1.3.1)\n",
            "Requirement already satisfied: cycler>=0.10 in /usr/local/lib/python3.6/dist-packages (from matplotlib->bert-score>=0.3.5->textattack) (0.10.0)\n",
            "Requirement already satisfied: wcwidth in /usr/local/lib/python3.6/dist-packages (from ftfy->flair==0.6.1.post1->textattack) (0.2.5)\n",
            "Requirement already satisfied: overrides==3.0.0 in /usr/local/lib/python3.6/dist-packages (from konoha<5.0.0,>=4.0.0->flair==0.6.1.post1->textattack) (3.0.0)\n",
            "Requirement already satisfied: smart-open>=1.2.1 in /usr/local/lib/python3.6/dist-packages (from gensim>=3.4.0->flair==0.6.1.post1->textattack) (4.1.2)\n",
            "Requirement already satisfied: networkx in /usr/local/lib/python3.6/dist-packages (from hyperopt>=0.1.1->flair==0.6.1.post1->textattack) (2.5)\n",
            "Requirement already satisfied: pymongo in /usr/local/lib/python3.6/dist-packages (from hyperopt>=0.1.1->flair==0.6.1.post1->textattack) (3.11.2)\n",
            "Requirement already satisfied: wrapt<2,>=1.10 in /usr/local/lib/python3.6/dist-packages (from deprecated>=1.2.4->flair==0.6.1.post1->textattack) (1.12.1)\n",
            "Requirement already satisfied: decorator>=4.3.0 in /usr/local/lib/python3.6/dist-packages (from networkx->hyperopt>=0.1.1->flair==0.6.1.post1->textattack) (4.4.2)\n"
          ],
          "name": "stdout"
        }
      ]
    },
    {
      "cell_type": "code",
      "metadata": {
        "colab": {
          "base_uri": "https://localhost:8080/"
        },
        "id": "M-6axcLOb0nF",
        "outputId": "2f7658dd-8316-4850-e7e5-643ba827ad17"
      },
      "source": [
        "from google.colab import drive\n",
        "drive.mount('/content/drive')"
      ],
      "execution_count": 2,
      "outputs": [
        {
          "output_type": "stream",
          "text": [
            "Mounted at /content/drive\n"
          ],
          "name": "stdout"
        }
      ]
    },
    {
      "cell_type": "code",
      "metadata": {
        "id": "UwPuTTgFb7y8"
      },
      "source": [
        "import numpy as np\n",
        "import pandas as pd\n",
        "import matplotlib.pyplot as plt\n",
        "import random\n",
        "import timeit\n",
        "import regex as re"
      ],
      "execution_count": 3,
      "outputs": []
    },
    {
      "cell_type": "code",
      "metadata": {
        "colab": {
          "base_uri": "https://localhost:8080/"
        },
        "id": "UBQQFSuSb_w0",
        "outputId": "be2a0fd1-8f73-459e-a1d1-3c3628de0134"
      },
      "source": [
        "dataset = pd.read_csv('/content/drive/Shareddrives/Deep Learning/datasets/Bert_data/ddi2013-type/train.tsv', sep='\\t')\n",
        "print(f\"COLONNE:{dataset.columns}\")\n",
        "print(f\"DIMENSIONE:{dataset.shape}\")"
      ],
      "execution_count": 6,
      "outputs": [
        {
          "output_type": "stream",
          "text": [
            "COLONNE:Index(['index', 'sentence', 'label'], dtype='object')\n",
            "DIMENSIONE:(18779, 3)\n"
          ],
          "name": "stdout"
        }
      ]
    },
    {
      "cell_type": "code",
      "metadata": {
        "id": "k5inSX06b_16"
      },
      "source": [
        "aug = dataset.copy()"
      ],
      "execution_count": 7,
      "outputs": []
    },
    {
      "cell_type": "markdown",
      "metadata": {
        "id": "vTW3m5fXew6J"
      },
      "source": [
        "##Augmentation Phase"
      ]
    },
    {
      "cell_type": "markdown",
      "metadata": {
        "id": "HQPKDreRezLp"
      },
      "source": [
        "###WordNet"
      ]
    },
    {
      "cell_type": "code",
      "metadata": {
        "id": "YiJ1fOZ2b_7d"
      },
      "source": [
        "from textattack.augmentation import WordNetAugmenter\n",
        "random.seed(33)\n",
        "\n",
        "my_items = []\n",
        "num_tras_to_add = 1\n",
        "\n",
        "start_time = timeit.default_timer()\n",
        "augmenter = WordNetAugmenter(pct_words_to_swap=1,\n",
        "                             transformations_per_example=num_tras_to_add)\n",
        "\n",
        "for row in aug.itertuples():\n",
        "  result = augmenter.augment(row.sentence)\n",
        "  # my_items.append({'index': row.index,\n",
        "  #                  'label': row.label,\n",
        "  #                  'sentence':row.sentence})\n",
        "  \n",
        "  for i in range(num_tras_to_add):\n",
        "    my_items.append({'index': row.index,\n",
        "                     'label': row.label,\n",
        "                     'sentence': re.sub(r'@[^$]*\\$', '@DRUG$', result[i])})\n",
        "  \n",
        "\n",
        "elapsed = timeit.default_timer() - start_time\n",
        "print(f'TIME OF EXECUTION={elapsed}')\n",
        "augmeted_new = pd.DataFrame(data=my_items, columns=aug.columns)\n",
        "print(f\"COLONNE:{augmeted_new.columns}\")\n",
        "print(f\"DIMENSIONE:{augmeted_new.shape}\")"
      ],
      "execution_count": null,
      "outputs": []
    },
    {
      "cell_type": "code",
      "metadata": {
        "id": "rbSS21xw9bC3"
      },
      "source": [
        "augmeted_new.to_csv(\"DDI_sinonimi.csv\",index=False)"
      ],
      "execution_count": 10,
      "outputs": []
    },
    {
      "cell_type": "code",
      "metadata": {
        "id": "j-sc0glP9npJ"
      },
      "source": [
        "augmeted_load=pd.read_csv('DDI_sinonimi.csv')"
      ],
      "execution_count": 11,
      "outputs": []
    },
    {
      "cell_type": "markdown",
      "metadata": {
        "id": "WbpvYtCoe2vj"
      },
      "source": [
        "###WordEmbedding"
      ]
    },
    {
      "cell_type": "code",
      "metadata": {
        "colab": {
          "base_uri": "https://localhost:8080/"
        },
        "id": "fEJvuoPucmI9",
        "outputId": "8383f67a-c503-48fe-8a35-dbd203540d6c"
      },
      "source": [
        "from textattack.augmentation import EmbeddingAugmenter\n",
        "random.seed(33)\n",
        "\n",
        "my_items = []\n",
        "num_tras_to_add = 2\n",
        "\n",
        "start_time = timeit.default_timer()\n",
        "augmenter = EmbeddingAugmenter(pct_words_to_swap=1,\n",
        "                               transformations_per_example=num_tras_to_add)\n",
        "\n",
        "for row in aug.head(10).itertuples():\n",
        "  result=augmenter.augment(row.sentence)\n",
        "  # my_items.append({'index': row.index,\n",
        "  #                  'label': row.label,\n",
        "  #                  'sentence': row.sentence})\n",
        "\n",
        "  for i in range(num_tras_to_add): \n",
        "    my_items.append({'index': row.index,\n",
        "                     'label': row.label,\n",
        "                     'sentence': re.sub(r'@[^$]*\\$', '@DRUG$', result[i])})\n",
        "\n",
        "elapsed = timeit.default_timer() - start_time\n",
        "print(f'TIME OF EXECUTION={elapsed}')\n",
        "aug_embedding = pd.DataFrame(data=my_items, columns=aug.columns)\n",
        "print(f\"COLONNE:{embedded_new.columns}\")\n",
        "print(f\"DIMENSIONE:{embedded_new.shape}\")"
      ],
      "execution_count": null,
      "outputs": [
        {
          "output_type": "stream",
          "text": [
            "TIME OF EXECUTION=5.549257976000035\n",
            "COLONNE:Index(['index', 'sentence', 'label'], dtype='object')\n",
            "DIMENSIONE:(30, 3)\n"
          ],
          "name": "stdout"
        }
      ]
    },
    {
      "cell_type": "code",
      "metadata": {
        "id": "DD8hQCf9_on8"
      },
      "source": [
        "aug_embedding.to_csv(\"DDI_embedding.csv\",index=False)"
      ],
      "execution_count": null,
      "outputs": []
    },
    {
      "cell_type": "code",
      "metadata": {
        "id": "1hP4rV2v_yh5"
      },
      "source": [
        "aug_embedding_load=pd.read_csv('DDI_embedding.csv')"
      ],
      "execution_count": null,
      "outputs": []
    }
  ]
}