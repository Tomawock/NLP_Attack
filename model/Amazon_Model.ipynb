{
  "nbformat": 4,
  "nbformat_minor": 0,
  "metadata": {
    "colab": {
      "name": "Amazon_Model.ipynb",
      "provenance": [],
      "authorship_tag": "ABX9TyORVLwrR1v/vCdz0H1xzW/M",
      "include_colab_link": true
    },
    "kernelspec": {
      "name": "python3",
      "display_name": "Python 3"
    },
    "accelerator": "GPU"
  },
  "cells": [
    {
      "cell_type": "markdown",
      "metadata": {
        "id": "view-in-github",
        "colab_type": "text"
      },
      "source": [
        "<a href=\"https://colab.research.google.com/github/Tomawock/NLP_Attack/blob/main/model/Amazon_Model.ipynb\" target=\"_parent\"><img src=\"https://colab.research.google.com/assets/colab-badge.svg\" alt=\"Open In Colab\"/></a>"
      ]
    },
    {
      "cell_type": "code",
      "metadata": {
        "colab": {
          "base_uri": "https://localhost:8080/"
        },
        "id": "FS86AJL_dcdy",
        "outputId": "91d4a83a-edf1-47cc-e12c-4b5ef02cce7a"
      },
      "source": [
        "from google.colab import drive\r\n",
        "drive.mount('/content/drive')"
      ],
      "execution_count": 2,
      "outputs": [
        {
          "output_type": "stream",
          "text": [
            "Mounted at /content/drive\n"
          ],
          "name": "stdout"
        }
      ]
    },
    {
      "cell_type": "code",
      "metadata": {
        "id": "NWKwPomViKdD"
      },
      "source": [
        "!pip install tensorflow_text"
      ],
      "execution_count": null,
      "outputs": []
    },
    {
      "cell_type": "code",
      "metadata": {
        "id": "1rkxWSNKdmgb"
      },
      "source": [
        "# nostri import \r\n",
        "import random\r\n",
        "import timeit\r\n",
        "\r\n",
        "\r\n",
        "import numpy as np\r\n",
        "import tensorflow as tf\r\n",
        "from tensorflow import keras\r\n",
        "import pandas as pd\r\n",
        "import seaborn as sns\r\n",
        "from pylab import rcParams\r\n",
        "from tqdm import tqdm\r\n",
        "import matplotlib.pyplot as plt\r\n",
        "from matplotlib import rc\r\n",
        "from pandas.plotting import register_matplotlib_converters\r\n",
        "from sklearn.model_selection import train_test_split\r\n",
        "import tensorflow_hub as hub\r\n",
        "import tensorflow_text\r\n",
        "from wordcloud import WordCloud, STOPWORDS, ImageColorGenerator"
      ],
      "execution_count": 4,
      "outputs": []
    },
    {
      "cell_type": "code",
      "metadata": {
        "id": "y2GoKWeXd6Cc"
      },
      "source": [
        "tf.test.is_gpu_available()"
      ],
      "execution_count": null,
      "outputs": []
    },
    {
      "cell_type": "code",
      "metadata": {
        "id": "f91KCyFZfSl2"
      },
      "source": [
        "RANDOM_SEED = 42\r\n",
        "\r\n",
        "np.random.seed(RANDOM_SEED)\r\n",
        "tf.random.set_seed(RANDOM_SEED)"
      ],
      "execution_count": 6,
      "outputs": []
    },
    {
      "cell_type": "code",
      "metadata": {
        "colab": {
          "base_uri": "https://localhost:8080/"
        },
        "id": "lprv3rB1dytR",
        "outputId": "5401e2eb-14db-4633-dc7a-ac51302fe6bf"
      },
      "source": [
        "df = pd.read_csv('/content/drive/Shareddrives/Deep Learning/datasets/Amazon/Reviews.csv')\r\n",
        "print(f\"COLONNE:{df.columns}\")\r\n",
        "print(f\"DIMENSIONE:{df.shape}\")"
      ],
      "execution_count": 7,
      "outputs": [
        {
          "output_type": "stream",
          "text": [
            "COLONNE:Index(['Id', 'ProductId', 'UserId', 'ProfileName', 'HelpfulnessNumerator',\n",
            "       'HelpfulnessDenominator', 'Score', 'Time', 'Summary', 'Text'],\n",
            "      dtype='object')\n",
            "DIMENSIONE:(568454, 10)\n"
          ],
          "name": "stdout"
        }
      ]
    },
    {
      "cell_type": "code",
      "metadata": {
        "id": "cFqpboIseHZo"
      },
      "source": [
        "del df['Id']\r\n",
        "del df['ProductId']\r\n",
        "del df['UserId']\r\n",
        "del df['ProfileName']\r\n",
        "del df['HelpfulnessNumerator']\r\n",
        "del df['HelpfulnessDenominator']\r\n",
        "del df['Time']"
      ],
      "execution_count": 8,
      "outputs": []
    },
    {
      "cell_type": "code",
      "metadata": {
        "colab": {
          "base_uri": "https://localhost:8080/",
          "height": 204
        },
        "id": "rR3QSVYCeIRH",
        "outputId": "099c6c8d-83bc-43c1-c504-a0a089b242f0"
      },
      "source": [
        "df['review'] = df['Summary']+df['Text']\r\n",
        "del df['Summary']\r\n",
        "del df['Text']\r\n",
        "df.review.fillna(\"\",inplace = True)\r\n",
        "df.head()"
      ],
      "execution_count": 9,
      "outputs": [
        {
          "output_type": "execute_result",
          "data": {
            "text/html": [
              "<div>\n",
              "<style scoped>\n",
              "    .dataframe tbody tr th:only-of-type {\n",
              "        vertical-align: middle;\n",
              "    }\n",
              "\n",
              "    .dataframe tbody tr th {\n",
              "        vertical-align: top;\n",
              "    }\n",
              "\n",
              "    .dataframe thead th {\n",
              "        text-align: right;\n",
              "    }\n",
              "</style>\n",
              "<table border=\"1\" class=\"dataframe\">\n",
              "  <thead>\n",
              "    <tr style=\"text-align: right;\">\n",
              "      <th></th>\n",
              "      <th>Score</th>\n",
              "      <th>review</th>\n",
              "    </tr>\n",
              "  </thead>\n",
              "  <tbody>\n",
              "    <tr>\n",
              "      <th>0</th>\n",
              "      <td>5</td>\n",
              "      <td>Good Quality Dog FoodI have bought several of ...</td>\n",
              "    </tr>\n",
              "    <tr>\n",
              "      <th>1</th>\n",
              "      <td>1</td>\n",
              "      <td>Not as AdvertisedProduct arrived labeled as Ju...</td>\n",
              "    </tr>\n",
              "    <tr>\n",
              "      <th>2</th>\n",
              "      <td>4</td>\n",
              "      <td>\"Delight\" says it allThis is a confection that...</td>\n",
              "    </tr>\n",
              "    <tr>\n",
              "      <th>3</th>\n",
              "      <td>2</td>\n",
              "      <td>Cough MedicineIf you are looking for the secre...</td>\n",
              "    </tr>\n",
              "    <tr>\n",
              "      <th>4</th>\n",
              "      <td>5</td>\n",
              "      <td>Great taffyGreat taffy at a great price.  Ther...</td>\n",
              "    </tr>\n",
              "  </tbody>\n",
              "</table>\n",
              "</div>"
            ],
            "text/plain": [
              "   Score                                             review\n",
              "0      5  Good Quality Dog FoodI have bought several of ...\n",
              "1      1  Not as AdvertisedProduct arrived labeled as Ju...\n",
              "2      4  \"Delight\" says it allThis is a confection that...\n",
              "3      2  Cough MedicineIf you are looking for the secre...\n",
              "4      5  Great taffyGreat taffy at a great price.  Ther..."
            ]
          },
          "metadata": {
            "tags": []
          },
          "execution_count": 9
        }
      ]
    },
    {
      "cell_type": "code",
      "metadata": {
        "id": "gt8WX-qGeOTZ"
      },
      "source": [
        "df[\"review_type\"] = df[\"Score\"].apply(lambda x: \"negative\" if x < 4 else \"positive\")"
      ],
      "execution_count": 10,
      "outputs": []
    },
    {
      "cell_type": "code",
      "metadata": {
        "colab": {
          "base_uri": "https://localhost:8080/"
        },
        "id": "ddxTumAbeiYX",
        "outputId": "342d3247-83bc-42f0-81df-67c8f73bc4f8"
      },
      "source": [
        "df.review_type.value_counts()"
      ],
      "execution_count": 11,
      "outputs": [
        {
          "output_type": "execute_result",
          "data": {
            "text/plain": [
              "positive    443777\n",
              "negative    124677\n",
              "Name: review_type, dtype: int64"
            ]
          },
          "metadata": {
            "tags": []
          },
          "execution_count": 11
        }
      ]
    },
    {
      "cell_type": "code",
      "metadata": {
        "id": "eacu1K9sew8b"
      },
      "source": [
        "positive_reviews = df[df.review_type == \"positive\"]\r\n",
        "negative_reviews = df[df.review_type == \"negative\"]"
      ],
      "execution_count": 12,
      "outputs": []
    },
    {
      "cell_type": "code",
      "metadata": {
        "id": "x4hOsTGmeqfW"
      },
      "source": [
        "positive_df = positive_reviews.sample(n=len(negative_reviews), random_state=RANDOM_SEED)\r\n",
        "negative_df = negative_reviews"
      ],
      "execution_count": 13,
      "outputs": []
    },
    {
      "cell_type": "code",
      "metadata": {
        "colab": {
          "base_uri": "https://localhost:8080/"
        },
        "id": "GJHE4EbNfZYl",
        "outputId": "9fed72cd-2d77-45cd-bb5d-237f67eff16a"
      },
      "source": [
        "review_df = positive_df.append(negative_df).reset_index(drop=True)\r\n",
        "review_df.shape"
      ],
      "execution_count": 14,
      "outputs": [
        {
          "output_type": "execute_result",
          "data": {
            "text/plain": [
              "(249354, 3)"
            ]
          },
          "metadata": {
            "tags": []
          },
          "execution_count": 14
        }
      ]
    },
    {
      "cell_type": "code",
      "metadata": {
        "id": "KFwjDO-kfqmz"
      },
      "source": [
        "use = hub.load(\"https://tfhub.dev/google/universal-sentence-encoder-multilingual-large/3\")"
      ],
      "execution_count": 15,
      "outputs": []
    },
    {
      "cell_type": "code",
      "metadata": {
        "id": "WTsFQENXfs1g"
      },
      "source": [
        "from sklearn.preprocessing import OneHotEncoder\r\n",
        "\r\n",
        "type_one_hot = OneHotEncoder(sparse=False).fit_transform(\r\n",
        "  review_df.review_type.to_numpy().reshape(-1, 1)\r\n",
        ")"
      ],
      "execution_count": 16,
      "outputs": []
    },
    {
      "cell_type": "code",
      "metadata": {
        "id": "U1kJ-hvtfwtT"
      },
      "source": [
        "train_reviews, test_reviews, y_train, y_test =\\\r\n",
        "  train_test_split(\r\n",
        "    review_df.review, \r\n",
        "    type_one_hot, \r\n",
        "    test_size=.1, \r\n",
        "    random_state=RANDOM_SEED\r\n",
        "  )"
      ],
      "execution_count": 17,
      "outputs": []
    },
    {
      "cell_type": "code",
      "metadata": {
        "colab": {
          "base_uri": "https://localhost:8080/"
        },
        "id": "YgVcoRPAfy4u",
        "outputId": "d42c8b36-b86f-41a2-ee1b-de9a68a960bd"
      },
      "source": [
        "X_train = []\r\n",
        "for r in tqdm(train_reviews):\r\n",
        "  emb = use(r)\r\n",
        "  review_emb = tf.reshape(emb, [-1]).numpy()\r\n",
        "  X_train.append(review_emb)\r\n",
        "\r\n",
        "X_train = np.array(X_train)"
      ],
      "execution_count": 18,
      "outputs": [
        {
          "output_type": "stream",
          "text": [
            "100%|██████████| 224418/224418 [56:21<00:00, 66.36it/s]\n"
          ],
          "name": "stderr"
        }
      ]
    },
    {
      "cell_type": "code",
      "metadata": {
        "colab": {
          "base_uri": "https://localhost:8080/"
        },
        "id": "XVigz3DTfzuI",
        "outputId": "956a9740-5217-4b1d-fa37-3a4e88571d54"
      },
      "source": [
        "X_test = []\r\n",
        "for r in tqdm(test_reviews):\r\n",
        "  emb = use(r)\r\n",
        "  review_emb = tf.reshape(emb, [-1]).numpy()\r\n",
        "  X_test.append(review_emb)\r\n",
        "\r\n",
        "X_test = np.array(X_test)"
      ],
      "execution_count": 19,
      "outputs": [
        {
          "output_type": "stream",
          "text": [
            "100%|██████████| 24936/24936 [06:15<00:00, 66.43it/s]\n"
          ],
          "name": "stderr"
        }
      ]
    },
    {
      "cell_type": "code",
      "metadata": {
        "id": "42WVLQS53qxf"
      },
      "source": [
        "import pickle\r\n",
        "\r\n",
        "with open(\"/content/drive/Shareddrives/Deep Learning/datasets/Amazon/X_train.pkl\", 'wb') as output:\r\n",
        "  pickle.dump(X_train, output, protocol=4)\r\n",
        "\r\n",
        "with open(\"/content/drive/Shareddrives/Deep Learning/datasets/Amazon/X_test.pkl\", 'wb') as output:\r\n",
        "  pickle.dump(X_test, output, protocol=4)"
      ],
      "execution_count": 22,
      "outputs": []
    },
    {
      "cell_type": "code",
      "metadata": {
        "colab": {
          "base_uri": "https://localhost:8080/"
        },
        "id": "mDysgPLAf1wW",
        "outputId": "60c943d1-b5cd-43f8-8706-2ef24dc55c5e"
      },
      "source": [
        "model = keras.Sequential()\r\n",
        "\r\n",
        "model.add(keras.layers.Dense(units=256, input_shape=(X_train.shape[1], ), activation='relu'))\r\n",
        "model.add(keras.layers.Dropout(rate=0.2))\r\n",
        "model.add(keras.layers.Dense(units=128, activation='relu'))\r\n",
        "model.add(keras.layers.Dropout(rate=0.2))\r\n",
        "model.add(keras.layers.Dense(2, activation='softmax'))\r\n",
        "model.compile(loss='categorical_crossentropy', optimizer=keras.optimizers.Adam(0.001), metrics=['accuracy'])\r\n",
        "model.summary()"
      ],
      "execution_count": 23,
      "outputs": [
        {
          "output_type": "stream",
          "text": [
            "Model: \"sequential\"\n",
            "_________________________________________________________________\n",
            "Layer (type)                 Output Shape              Param #   \n",
            "=================================================================\n",
            "dense (Dense)                (None, 256)               131328    \n",
            "_________________________________________________________________\n",
            "dropout (Dropout)            (None, 256)               0         \n",
            "_________________________________________________________________\n",
            "dense_1 (Dense)              (None, 128)               32896     \n",
            "_________________________________________________________________\n",
            "dropout_1 (Dropout)          (None, 128)               0         \n",
            "_________________________________________________________________\n",
            "dense_2 (Dense)              (None, 2)                 258       \n",
            "=================================================================\n",
            "Total params: 164,482\n",
            "Trainable params: 164,482\n",
            "Non-trainable params: 0\n",
            "_________________________________________________________________\n"
          ],
          "name": "stdout"
        }
      ]
    },
    {
      "cell_type": "code",
      "metadata": {
        "id": "P8Hmkf9zf4BP"
      },
      "source": [
        "history = model.fit(\r\n",
        "    X_train, y_train, \r\n",
        "    epochs=15, \r\n",
        "    batch_size=16, \r\n",
        "    validation_split=0.1, \r\n",
        "    verbose=1, \r\n",
        "    shuffle=True\r\n",
        ")"
      ],
      "execution_count": null,
      "outputs": []
    },
    {
      "cell_type": "code",
      "metadata": {
        "colab": {
          "base_uri": "https://localhost:8080/",
          "height": 35
        },
        "id": "3SYpnj9p_SeY",
        "outputId": "d8dea763-0782-4572-fecf-caca84f2b855"
      },
      "source": [
        "train_reviews[180138]"
      ],
      "execution_count": 72,
      "outputs": [
        {
          "output_type": "execute_result",
          "data": {
            "application/vnd.google.colaboratory.intrinsic+json": {
              "type": "string"
            },
            "text/plain": [
              "'Smoky BaconThis bacon was really good and smoky.  It was not great, though.  I would shop around before ordering again.'"
            ]
          },
          "metadata": {
            "tags": []
          },
          "execution_count": 72
        }
      ]
    },
    {
      "cell_type": "code",
      "metadata": {
        "colab": {
          "base_uri": "https://localhost:8080/",
          "height": 103
        },
        "id": "zC-tGAlY7nam",
        "outputId": "0893efd6-3f4d-4756-fd58-598704a4cd08"
      },
      "source": [
        "df.iloc[94752].review"
      ],
      "execution_count": 63,
      "outputs": [
        {
          "output_type": "execute_result",
          "data": {
            "application/vnd.google.colaboratory.intrinsic+json": {
              "type": "string"
            },
            "text/plain": [
              "'Made a neurotically picky brother happy.  Or as close to happy as he ever getsTo say that my brother is \"picky\" is the most extreme of understatements.  His finicky culinary mandates are the most outrageous, unreasonable and demanding of almost any human I\\'ve ever known.  His love of nuts is extremely persnickety, and he has been known to turn his nose up at some of the most expensive gourmet nut selections available.<br />Sunflower Food and Spice Co Honey Toasted Cashews gave me a first ever accomplishment in my gift-giving history with my sibling.  This year, instead of the usual  \"eh, not really that good actually.\"  or the one time in 1996 when I got a \"meh, they\\'re ok I guess.\"  He said this:<br /><br />\"Best cashews I\\'ve ever had.\"<br /><br />Truly, I can not tell you how significant a statement that is.'"
            ]
          },
          "metadata": {
            "tags": []
          },
          "execution_count": 63
        }
      ]
    },
    {
      "cell_type": "code",
      "metadata": {
        "colab": {
          "base_uri": "https://localhost:8080/"
        },
        "id": "xifFnken8US7",
        "outputId": "80df02db-0a9e-4a65-ca67-a56af6b923e5"
      },
      "source": [
        "review_df.iloc[94752]"
      ],
      "execution_count": 55,
      "outputs": [
        {
          "output_type": "execute_result",
          "data": {
            "text/plain": [
              "Score                                                          5\n",
              "review         Not CoffeeMy thinking about Teeccino is that i...\n",
              "review_type                                             positive\n",
              "Name: 94752, dtype: object"
            ]
          },
          "metadata": {
            "tags": []
          },
          "execution_count": 55
        }
      ]
    },
    {
      "cell_type": "code",
      "metadata": {
        "colab": {
          "base_uri": "https://localhost:8080/"
        },
        "id": "X5s6AD4789lO",
        "outputId": "675dfe3c-ca4d-4299-b634-a704bee058f1"
      },
      "source": [
        "y_test[0]"
      ],
      "execution_count": 56,
      "outputs": [
        {
          "output_type": "execute_result",
          "data": {
            "text/plain": [
              "array([0., 1.])"
            ]
          },
          "metadata": {
            "tags": []
          },
          "execution_count": 56
        }
      ]
    },
    {
      "cell_type": "code",
      "metadata": {
        "colab": {
          "base_uri": "https://localhost:8080/"
        },
        "id": "qcxGPz1Sf6Rg",
        "outputId": "d621a285-6f4d-48d0-a112-b65c990c4b99"
      },
      "source": [
        "frase=\"s.  His finicky culinary mandates are the most outrageous, unreasonable and demanding of almost any human I\\'ve ever known.  His love of nuts is extremely persnickety, and he has been known to turn his nose up at some of the most expensive gourmet nut selections available.<br />Sunflower Food and Spice Co Honey Toasted Cashews gave me a first ever accomplishment in my gift-giving history with my sibling.  This year, instead of the usual  eh, not really that good actually.  or the one time in 1996 when I got a meh, they\\'re ok I guess.  He said this:<br /><br />Best cashews I\\'ve ever had.<br /><br />Truly, I can not tell you how significant a statement that is.\"\r\n",
        "\r\n",
        "emb_frase=use(frase)\r\n",
        "\r\n",
        "model.predict(emb_frase)"
      ],
      "execution_count": 74,
      "outputs": [
        {
          "output_type": "execute_result",
          "data": {
            "text/plain": [
              "array([[0.5780398 , 0.42196018]], dtype=float32)"
            ]
          },
          "metadata": {
            "tags": []
          },
          "execution_count": 74
        }
      ]
    }
  ]
}