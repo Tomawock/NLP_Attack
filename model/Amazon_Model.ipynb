{
  "nbformat": 4,
  "nbformat_minor": 0,
  "metadata": {
    "colab": {
      "name": "Amazon_Model.ipynb",
      "provenance": [],
      "include_colab_link": true
    },
    "kernelspec": {
      "name": "python3",
      "display_name": "Python 3"
    },
    "accelerator": "GPU"
  },
  "cells": [
    {
      "cell_type": "markdown",
      "metadata": {
        "id": "view-in-github",
        "colab_type": "text"
      },
      "source": [
        "<a href=\"https://colab.research.google.com/github/Tomawock/NLP_Attack/blob/main/model/Amazon_Model.ipynb\" target=\"_parent\"><img src=\"https://colab.research.google.com/assets/colab-badge.svg\" alt=\"Open In Colab\"/></a>"
      ]
    },
    {
      "cell_type": "code",
      "metadata": {
        "colab": {
          "base_uri": "https://localhost:8080/"
        },
        "id": "FS86AJL_dcdy",
        "outputId": "c99dc71e-8ef6-4555-a1ee-2f6ff07d2d19"
      },
      "source": [
        "from google.colab import drive\r\n",
        "drive.mount('/content/drive')"
      ],
      "execution_count": 37,
      "outputs": [
        {
          "output_type": "stream",
          "text": [
            "Drive already mounted at /content/drive; to attempt to forcibly remount, call drive.mount(\"/content/drive\", force_remount=True).\n"
          ],
          "name": "stdout"
        }
      ]
    },
    {
      "cell_type": "code",
      "metadata": {
        "id": "NWKwPomViKdD",
        "outputId": "d6e3310f-ccd0-4dcc-ddcf-84c778daab03",
        "colab": {
          "base_uri": "https://localhost:8080/"
        }
      },
      "source": [
        "!pip install tensorflow_text"
      ],
      "execution_count": 38,
      "outputs": [
        {
          "output_type": "stream",
          "text": [
            "Requirement already satisfied: tensorflow_text in /usr/local/lib/python3.6/dist-packages (2.3.0)\n",
            "Requirement already satisfied: tensorflow<2.4,>=2.3.0 in /usr/local/lib/python3.6/dist-packages (from tensorflow_text) (2.3.0)\n",
            "Requirement already satisfied: h5py<2.11.0,>=2.10.0 in /usr/local/lib/python3.6/dist-packages (from tensorflow<2.4,>=2.3.0->tensorflow_text) (2.10.0)\n",
            "Requirement already satisfied: keras-preprocessing<1.2,>=1.1.1 in /usr/local/lib/python3.6/dist-packages (from tensorflow<2.4,>=2.3.0->tensorflow_text) (1.1.2)\n",
            "Requirement already satisfied: protobuf>=3.9.2 in /usr/local/lib/python3.6/dist-packages (from tensorflow<2.4,>=2.3.0->tensorflow_text) (3.12.4)\n",
            "Requirement already satisfied: scipy==1.4.1 in /usr/local/lib/python3.6/dist-packages (from tensorflow<2.4,>=2.3.0->tensorflow_text) (1.4.1)\n",
            "Requirement already satisfied: gast==0.3.3 in /usr/local/lib/python3.6/dist-packages (from tensorflow<2.4,>=2.3.0->tensorflow_text) (0.3.3)\n",
            "Requirement already satisfied: google-pasta>=0.1.8 in /usr/local/lib/python3.6/dist-packages (from tensorflow<2.4,>=2.3.0->tensorflow_text) (0.2.0)\n",
            "Requirement already satisfied: wrapt>=1.11.1 in /usr/local/lib/python3.6/dist-packages (from tensorflow<2.4,>=2.3.0->tensorflow_text) (1.12.1)\n",
            "Requirement already satisfied: absl-py>=0.7.0 in /usr/local/lib/python3.6/dist-packages (from tensorflow<2.4,>=2.3.0->tensorflow_text) (0.10.0)\n",
            "Requirement already satisfied: tensorboard<3,>=2.3.0 in /usr/local/lib/python3.6/dist-packages (from tensorflow<2.4,>=2.3.0->tensorflow_text) (2.3.0)\n",
            "Requirement already satisfied: opt-einsum>=2.3.2 in /usr/local/lib/python3.6/dist-packages (from tensorflow<2.4,>=2.3.0->tensorflow_text) (3.3.0)\n",
            "Requirement already satisfied: numpy<1.19.0,>=1.16.0 in /usr/local/lib/python3.6/dist-packages (from tensorflow<2.4,>=2.3.0->tensorflow_text) (1.18.5)\n",
            "Requirement already satisfied: tensorflow-estimator<2.4.0,>=2.3.0 in /usr/local/lib/python3.6/dist-packages (from tensorflow<2.4,>=2.3.0->tensorflow_text) (2.3.0)\n",
            "Requirement already satisfied: six>=1.12.0 in /usr/local/lib/python3.6/dist-packages (from tensorflow<2.4,>=2.3.0->tensorflow_text) (1.15.0)\n",
            "Requirement already satisfied: grpcio>=1.8.6 in /usr/local/lib/python3.6/dist-packages (from tensorflow<2.4,>=2.3.0->tensorflow_text) (1.34.0)\n",
            "Requirement already satisfied: astunparse==1.6.3 in /usr/local/lib/python3.6/dist-packages (from tensorflow<2.4,>=2.3.0->tensorflow_text) (1.6.3)\n",
            "Requirement already satisfied: termcolor>=1.1.0 in /usr/local/lib/python3.6/dist-packages (from tensorflow<2.4,>=2.3.0->tensorflow_text) (1.1.0)\n",
            "Requirement already satisfied: wheel>=0.26 in /usr/local/lib/python3.6/dist-packages (from tensorflow<2.4,>=2.3.0->tensorflow_text) (0.36.1)\n",
            "Requirement already satisfied: setuptools in /usr/local/lib/python3.6/dist-packages (from protobuf>=3.9.2->tensorflow<2.4,>=2.3.0->tensorflow_text) (50.3.2)\n",
            "Requirement already satisfied: google-auth-oauthlib<0.5,>=0.4.1 in /usr/local/lib/python3.6/dist-packages (from tensorboard<3,>=2.3.0->tensorflow<2.4,>=2.3.0->tensorflow_text) (0.4.2)\n",
            "Requirement already satisfied: markdown>=2.6.8 in /usr/local/lib/python3.6/dist-packages (from tensorboard<3,>=2.3.0->tensorflow<2.4,>=2.3.0->tensorflow_text) (3.3.3)\n",
            "Requirement already satisfied: werkzeug>=0.11.15 in /usr/local/lib/python3.6/dist-packages (from tensorboard<3,>=2.3.0->tensorflow<2.4,>=2.3.0->tensorflow_text) (1.0.1)\n",
            "Requirement already satisfied: google-auth<2,>=1.6.3 in /usr/local/lib/python3.6/dist-packages (from tensorboard<3,>=2.3.0->tensorflow<2.4,>=2.3.0->tensorflow_text) (1.17.2)\n",
            "Requirement already satisfied: requests<3,>=2.21.0 in /usr/local/lib/python3.6/dist-packages (from tensorboard<3,>=2.3.0->tensorflow<2.4,>=2.3.0->tensorflow_text) (2.23.0)\n",
            "Requirement already satisfied: tensorboard-plugin-wit>=1.6.0 in /usr/local/lib/python3.6/dist-packages (from tensorboard<3,>=2.3.0->tensorflow<2.4,>=2.3.0->tensorflow_text) (1.7.0)\n",
            "Requirement already satisfied: requests-oauthlib>=0.7.0 in /usr/local/lib/python3.6/dist-packages (from google-auth-oauthlib<0.5,>=0.4.1->tensorboard<3,>=2.3.0->tensorflow<2.4,>=2.3.0->tensorflow_text) (1.3.0)\n",
            "Requirement already satisfied: importlib-metadata; python_version < \"3.8\" in /usr/local/lib/python3.6/dist-packages (from markdown>=2.6.8->tensorboard<3,>=2.3.0->tensorflow<2.4,>=2.3.0->tensorflow_text) (3.1.1)\n",
            "Requirement already satisfied: rsa<5,>=3.1.4; python_version >= \"3\" in /usr/local/lib/python3.6/dist-packages (from google-auth<2,>=1.6.3->tensorboard<3,>=2.3.0->tensorflow<2.4,>=2.3.0->tensorflow_text) (4.6)\n",
            "Requirement already satisfied: pyasn1-modules>=0.2.1 in /usr/local/lib/python3.6/dist-packages (from google-auth<2,>=1.6.3->tensorboard<3,>=2.3.0->tensorflow<2.4,>=2.3.0->tensorflow_text) (0.2.8)\n",
            "Requirement already satisfied: cachetools<5.0,>=2.0.0 in /usr/local/lib/python3.6/dist-packages (from google-auth<2,>=1.6.3->tensorboard<3,>=2.3.0->tensorflow<2.4,>=2.3.0->tensorflow_text) (4.1.1)\n",
            "Requirement already satisfied: urllib3!=1.25.0,!=1.25.1,<1.26,>=1.21.1 in /usr/local/lib/python3.6/dist-packages (from requests<3,>=2.21.0->tensorboard<3,>=2.3.0->tensorflow<2.4,>=2.3.0->tensorflow_text) (1.24.3)\n",
            "Requirement already satisfied: certifi>=2017.4.17 in /usr/local/lib/python3.6/dist-packages (from requests<3,>=2.21.0->tensorboard<3,>=2.3.0->tensorflow<2.4,>=2.3.0->tensorflow_text) (2020.12.5)\n",
            "Requirement already satisfied: chardet<4,>=3.0.2 in /usr/local/lib/python3.6/dist-packages (from requests<3,>=2.21.0->tensorboard<3,>=2.3.0->tensorflow<2.4,>=2.3.0->tensorflow_text) (3.0.4)\n",
            "Requirement already satisfied: idna<3,>=2.5 in /usr/local/lib/python3.6/dist-packages (from requests<3,>=2.21.0->tensorboard<3,>=2.3.0->tensorflow<2.4,>=2.3.0->tensorflow_text) (2.10)\n",
            "Requirement already satisfied: oauthlib>=3.0.0 in /usr/local/lib/python3.6/dist-packages (from requests-oauthlib>=0.7.0->google-auth-oauthlib<0.5,>=0.4.1->tensorboard<3,>=2.3.0->tensorflow<2.4,>=2.3.0->tensorflow_text) (3.1.0)\n",
            "Requirement already satisfied: zipp>=0.5 in /usr/local/lib/python3.6/dist-packages (from importlib-metadata; python_version < \"3.8\"->markdown>=2.6.8->tensorboard<3,>=2.3.0->tensorflow<2.4,>=2.3.0->tensorflow_text) (3.4.0)\n",
            "Requirement already satisfied: pyasn1>=0.1.3 in /usr/local/lib/python3.6/dist-packages (from rsa<5,>=3.1.4; python_version >= \"3\"->google-auth<2,>=1.6.3->tensorboard<3,>=2.3.0->tensorflow<2.4,>=2.3.0->tensorflow_text) (0.4.8)\n"
          ],
          "name": "stdout"
        }
      ]
    },
    {
      "cell_type": "code",
      "metadata": {
        "id": "1rkxWSNKdmgb"
      },
      "source": [
        "# nostri import \r\n",
        "import random\r\n",
        "import timeit\r\n",
        "import pickle\r\n",
        "\r\n",
        "\r\n",
        "import numpy as np\r\n",
        "import tensorflow as tf\r\n",
        "from tensorflow import keras\r\n",
        "import pandas as pd\r\n",
        "import seaborn as sns\r\n",
        "from pylab import rcParams\r\n",
        "from tqdm import tqdm\r\n",
        "import matplotlib.pyplot as plt\r\n",
        "from matplotlib import rc\r\n",
        "from pandas.plotting import register_matplotlib_converters\r\n",
        "from sklearn.model_selection import train_test_split\r\n",
        "import tensorflow_hub as hub\r\n",
        "import tensorflow_text\r\n",
        "from wordcloud import WordCloud, STOPWORDS, ImageColorGenerator"
      ],
      "execution_count": 39,
      "outputs": []
    },
    {
      "cell_type": "code",
      "metadata": {
        "id": "y2GoKWeXd6Cc",
        "outputId": "9fb274d7-604b-48ea-f74f-855f78f1bd25",
        "colab": {
          "base_uri": "https://localhost:8080/"
        }
      },
      "source": [
        "tf.test.is_gpu_available()"
      ],
      "execution_count": 40,
      "outputs": [
        {
          "output_type": "stream",
          "text": [
            "WARNING:tensorflow:From <ipython-input-40-17bb7203622b>:1: is_gpu_available (from tensorflow.python.framework.test_util) is deprecated and will be removed in a future version.\n",
            "Instructions for updating:\n",
            "Use `tf.config.list_physical_devices('GPU')` instead.\n"
          ],
          "name": "stdout"
        },
        {
          "output_type": "execute_result",
          "data": {
            "text/plain": [
              "True"
            ]
          },
          "metadata": {
            "tags": []
          },
          "execution_count": 40
        }
      ]
    },
    {
      "cell_type": "code",
      "metadata": {
        "id": "f91KCyFZfSl2"
      },
      "source": [
        "RANDOM_SEED = 42\r\n",
        "\r\n",
        "np.random.seed(RANDOM_SEED)\r\n",
        "tf.random.set_seed(RANDOM_SEED)"
      ],
      "execution_count": 41,
      "outputs": []
    },
    {
      "cell_type": "code",
      "metadata": {
        "colab": {
          "base_uri": "https://localhost:8080/"
        },
        "id": "lprv3rB1dytR",
        "outputId": "a65ce08e-de9b-4aad-9f0c-7844758d1681"
      },
      "source": [
        "df = pd.read_csv('/content/drive/Shareddrives/Deep Learning/datasets/Amazon/Reviews.csv')\r\n",
        "print(f\"COLONNE:{df.columns}\")\r\n",
        "print(f\"DIMENSIONE:{df.shape}\")"
      ],
      "execution_count": 42,
      "outputs": [
        {
          "output_type": "stream",
          "text": [
            "COLONNE:Index(['Id', 'ProductId', 'UserId', 'ProfileName', 'HelpfulnessNumerator',\n",
            "       'HelpfulnessDenominator', 'Score', 'Time', 'Summary', 'Text'],\n",
            "      dtype='object')\n",
            "DIMENSIONE:(568454, 10)\n"
          ],
          "name": "stdout"
        }
      ]
    },
    {
      "cell_type": "code",
      "metadata": {
        "id": "cFqpboIseHZo"
      },
      "source": [
        "del df['Id']\r\n",
        "del df['ProductId']\r\n",
        "del df['UserId']\r\n",
        "del df['ProfileName']\r\n",
        "del df['HelpfulnessNumerator']\r\n",
        "del df['HelpfulnessDenominator']\r\n",
        "del df['Time']"
      ],
      "execution_count": 43,
      "outputs": []
    },
    {
      "cell_type": "code",
      "metadata": {
        "colab": {
          "base_uri": "https://localhost:8080/",
          "height": 206
        },
        "id": "rR3QSVYCeIRH",
        "outputId": "e9dd41b7-031f-4766-f994-780257413749"
      },
      "source": [
        "df['review'] = df['Summary']+df['Text']\r\n",
        "del df['Summary']\r\n",
        "del df['Text']\r\n",
        "df.review.fillna(\"\",inplace = True)\r\n",
        "df.head()"
      ],
      "execution_count": 44,
      "outputs": [
        {
          "output_type": "execute_result",
          "data": {
            "text/html": [
              "<div>\n",
              "<style scoped>\n",
              "    .dataframe tbody tr th:only-of-type {\n",
              "        vertical-align: middle;\n",
              "    }\n",
              "\n",
              "    .dataframe tbody tr th {\n",
              "        vertical-align: top;\n",
              "    }\n",
              "\n",
              "    .dataframe thead th {\n",
              "        text-align: right;\n",
              "    }\n",
              "</style>\n",
              "<table border=\"1\" class=\"dataframe\">\n",
              "  <thead>\n",
              "    <tr style=\"text-align: right;\">\n",
              "      <th></th>\n",
              "      <th>Score</th>\n",
              "      <th>review</th>\n",
              "    </tr>\n",
              "  </thead>\n",
              "  <tbody>\n",
              "    <tr>\n",
              "      <th>0</th>\n",
              "      <td>5</td>\n",
              "      <td>Good Quality Dog FoodI have bought several of ...</td>\n",
              "    </tr>\n",
              "    <tr>\n",
              "      <th>1</th>\n",
              "      <td>1</td>\n",
              "      <td>Not as AdvertisedProduct arrived labeled as Ju...</td>\n",
              "    </tr>\n",
              "    <tr>\n",
              "      <th>2</th>\n",
              "      <td>4</td>\n",
              "      <td>\"Delight\" says it allThis is a confection that...</td>\n",
              "    </tr>\n",
              "    <tr>\n",
              "      <th>3</th>\n",
              "      <td>2</td>\n",
              "      <td>Cough MedicineIf you are looking for the secre...</td>\n",
              "    </tr>\n",
              "    <tr>\n",
              "      <th>4</th>\n",
              "      <td>5</td>\n",
              "      <td>Great taffyGreat taffy at a great price.  Ther...</td>\n",
              "    </tr>\n",
              "  </tbody>\n",
              "</table>\n",
              "</div>"
            ],
            "text/plain": [
              "   Score                                             review\n",
              "0      5  Good Quality Dog FoodI have bought several of ...\n",
              "1      1  Not as AdvertisedProduct arrived labeled as Ju...\n",
              "2      4  \"Delight\" says it allThis is a confection that...\n",
              "3      2  Cough MedicineIf you are looking for the secre...\n",
              "4      5  Great taffyGreat taffy at a great price.  Ther..."
            ]
          },
          "metadata": {
            "tags": []
          },
          "execution_count": 44
        }
      ]
    },
    {
      "cell_type": "code",
      "metadata": {
        "id": "gt8WX-qGeOTZ"
      },
      "source": [
        "df[\"review_type\"] = df[\"Score\"].apply(lambda x: \"negative\" if x < 4 else \"positive\")"
      ],
      "execution_count": 45,
      "outputs": []
    },
    {
      "cell_type": "code",
      "metadata": {
        "colab": {
          "base_uri": "https://localhost:8080/"
        },
        "id": "ddxTumAbeiYX",
        "outputId": "dd8d427f-8abf-491e-aa20-9f585f5b32f6"
      },
      "source": [
        "df.review_type.value_counts()"
      ],
      "execution_count": 46,
      "outputs": [
        {
          "output_type": "execute_result",
          "data": {
            "text/plain": [
              "positive    443777\n",
              "negative    124677\n",
              "Name: review_type, dtype: int64"
            ]
          },
          "metadata": {
            "tags": []
          },
          "execution_count": 46
        }
      ]
    },
    {
      "cell_type": "code",
      "metadata": {
        "id": "eacu1K9sew8b"
      },
      "source": [
        "positive_reviews = df[df.review_type == \"positive\"]\r\n",
        "negative_reviews = df[df.review_type == \"negative\"]"
      ],
      "execution_count": 47,
      "outputs": []
    },
    {
      "cell_type": "code",
      "metadata": {
        "id": "x4hOsTGmeqfW"
      },
      "source": [
        "positive_df = positive_reviews.sample(n=len(negative_reviews), random_state=RANDOM_SEED)\r\n",
        "negative_df = negative_reviews"
      ],
      "execution_count": 48,
      "outputs": []
    },
    {
      "cell_type": "code",
      "metadata": {
        "colab": {
          "base_uri": "https://localhost:8080/"
        },
        "id": "GJHE4EbNfZYl",
        "outputId": "652362a4-2984-4d94-8452-a8d328452bcb"
      },
      "source": [
        "review_df = positive_df.append(negative_df).reset_index(drop=True)\r\n",
        "review_df.shape"
      ],
      "execution_count": 49,
      "outputs": [
        {
          "output_type": "execute_result",
          "data": {
            "text/plain": [
              "(249354, 3)"
            ]
          },
          "metadata": {
            "tags": []
          },
          "execution_count": 49
        }
      ]
    },
    {
      "cell_type": "code",
      "metadata": {
        "id": "KFwjDO-kfqmz"
      },
      "source": [
        "use = hub.load(\"https://tfhub.dev/google/universal-sentence-encoder-multilingual-large/3\")"
      ],
      "execution_count": 50,
      "outputs": []
    },
    {
      "cell_type": "code",
      "metadata": {
        "id": "WTsFQENXfs1g"
      },
      "source": [
        "from sklearn.preprocessing import OneHotEncoder\r\n",
        "\r\n",
        "type_one_hot = OneHotEncoder(sparse=False).fit_transform(\r\n",
        "  review_df.review_type.to_numpy().reshape(-1, 1)\r\n",
        ")"
      ],
      "execution_count": 51,
      "outputs": []
    },
    {
      "cell_type": "code",
      "metadata": {
        "id": "U1kJ-hvtfwtT"
      },
      "source": [
        "train_reviews, test_reviews, y_train, y_test =\\\r\n",
        "  train_test_split(\r\n",
        "    review_df.review, \r\n",
        "    type_one_hot, \r\n",
        "    test_size=.1, \r\n",
        "    random_state=RANDOM_SEED\r\n",
        "  )"
      ],
      "execution_count": 52,
      "outputs": []
    },
    {
      "cell_type": "code",
      "metadata": {
        "colab": {
          "base_uri": "https://localhost:8080/"
        },
        "id": "YgVcoRPAfy4u",
        "outputId": "1596b359-8602-435d-9014-96d965265fdc"
      },
      "source": [
        "X_train = []\r\n",
        "for r in tqdm(train_reviews):\r\n",
        "  emb = use(r)\r\n",
        "  review_emb = tf.reshape(emb, [-1]).numpy()\r\n",
        "  X_train.append(review_emb)\r\n",
        "\r\n",
        "X_train = np.array(X_train)"
      ],
      "execution_count": 53,
      "outputs": [
        {
          "output_type": "stream",
          "text": [
            "100%|██████████| 224418/224418 [56:16<00:00, 66.46it/s]\n"
          ],
          "name": "stderr"
        }
      ]
    },
    {
      "cell_type": "code",
      "metadata": {
        "colab": {
          "base_uri": "https://localhost:8080/"
        },
        "id": "XVigz3DTfzuI",
        "outputId": "89f710fe-f141-4394-f134-01c66bed42e7"
      },
      "source": [
        "X_test = []\r\n",
        "for r in tqdm(test_reviews):\r\n",
        "  emb = use(r)\r\n",
        "  review_emb = tf.reshape(emb, [-1]).numpy()\r\n",
        "  X_test.append(review_emb)\r\n",
        "\r\n",
        "X_test = np.array(X_test)"
      ],
      "execution_count": 54,
      "outputs": [
        {
          "output_type": "stream",
          "text": [
            "100%|██████████| 24936/24936 [06:14<00:00, 66.51it/s]\n"
          ],
          "name": "stderr"
        }
      ]
    },
    {
      "cell_type": "code",
      "metadata": {
        "id": "42WVLQS53qxf"
      },
      "source": [
        "with open(\"/content/drive/Shareddrives/Deep Learning/datasets/Amazon/X_train.pkl\", 'wb') as output:\r\n",
        "  pickle.dump(X_train, output, protocol=4)\r\n",
        "\r\n",
        "with open(\"/content/drive/Shareddrives/Deep Learning/datasets/Amazon/X_test.pkl\", 'wb') as output:\r\n",
        "  pickle.dump(X_test, output, protocol=4)"
      ],
      "execution_count": 55,
      "outputs": []
    },
    {
      "cell_type": "code",
      "metadata": {
        "id": "W-NeCOf2BkG-",
        "outputId": "a758f14f-e616-4c79-d21e-a2d5c4b90d8e",
        "colab": {
          "base_uri": "https://localhost:8080/"
        }
      },
      "source": [
        "with open(\"/content/drive/Shareddrives/Deep Learning/datasets/Amazon/X_train.pkl\", 'rb') as output:\n",
        "  print(output)\n",
        "  X_train=pickle.load(output)\n",
        "\n",
        "with open(\"/content/drive/Shareddrives/Deep Learning/datasets/Amazon/X_test.pkl\", 'rb') as output:\n",
        "  print(output)\n",
        "  X_test=pickle.load(output)"
      ],
      "execution_count": 56,
      "outputs": [
        {
          "output_type": "stream",
          "text": [
            "<_io.BufferedReader name='/content/drive/Shareddrives/Deep Learning/datasets/Amazon/X_train.pkl'>\n",
            "<_io.BufferedReader name='/content/drive/Shareddrives/Deep Learning/datasets/Amazon/X_test.pkl'>\n"
          ],
          "name": "stdout"
        }
      ]
    },
    {
      "cell_type": "code",
      "metadata": {
        "id": "bD1OiVRvGKI8",
        "outputId": "a108facd-f8bd-4a32-c57f-01dca5fc2934",
        "colab": {
          "base_uri": "https://localhost:8080/"
        }
      },
      "source": [
        "X_test.shape"
      ],
      "execution_count": 57,
      "outputs": [
        {
          "output_type": "execute_result",
          "data": {
            "text/plain": [
              "(24936, 512)"
            ]
          },
          "metadata": {
            "tags": []
          },
          "execution_count": 57
        }
      ]
    },
    {
      "cell_type": "code",
      "metadata": {
        "colab": {
          "base_uri": "https://localhost:8080/"
        },
        "id": "mDysgPLAf1wW",
        "outputId": "3f0d4afd-bad7-45f6-ccf6-ed0f903b568c"
      },
      "source": [
        "model = keras.Sequential()\r\n",
        "\r\n",
        "model.add(keras.layers.Dense(units=256, input_shape=(X_train.shape[1], ), activation='relu'))\r\n",
        "model.add(keras.layers.Dropout(rate=0.2))\r\n",
        "model.add(keras.layers.Dense(units=128, activation='relu'))\r\n",
        "model.add(keras.layers.Dropout(rate=0.2))\r\n",
        "model.add(keras.layers.Dense(2, activation='softmax'))\r\n",
        "model.compile(loss='categorical_crossentropy', optimizer=keras.optimizers.Adam(0.001), metrics=['accuracy'])\r\n",
        "model.summary()"
      ],
      "execution_count": 58,
      "outputs": [
        {
          "output_type": "stream",
          "text": [
            "Model: \"sequential\"\n",
            "_________________________________________________________________\n",
            "Layer (type)                 Output Shape              Param #   \n",
            "=================================================================\n",
            "dense (Dense)                (None, 256)               131328    \n",
            "_________________________________________________________________\n",
            "dropout (Dropout)            (None, 256)               0         \n",
            "_________________________________________________________________\n",
            "dense_1 (Dense)              (None, 128)               32896     \n",
            "_________________________________________________________________\n",
            "dropout_1 (Dropout)          (None, 128)               0         \n",
            "_________________________________________________________________\n",
            "dense_2 (Dense)              (None, 2)                 258       \n",
            "=================================================================\n",
            "Total params: 164,482\n",
            "Trainable params: 164,482\n",
            "Non-trainable params: 0\n",
            "_________________________________________________________________\n"
          ],
          "name": "stdout"
        }
      ]
    },
    {
      "cell_type": "code",
      "metadata": {
        "id": "P8Hmkf9zf4BP",
        "outputId": "c5fed9c0-69c6-4911-cc2d-afd8573a5950",
        "colab": {
          "base_uri": "https://localhost:8080/"
        }
      },
      "source": [
        "history = model.fit(\r\n",
        "    X_train, y_train, \r\n",
        "    epochs=15, \r\n",
        "    batch_size=16, \r\n",
        "    validation_split=0.1, \r\n",
        "    verbose=1, \r\n",
        "    shuffle=True\r\n",
        ")"
      ],
      "execution_count": 59,
      "outputs": [
        {
          "output_type": "stream",
          "text": [
            "Epoch 1/15\n",
            "12624/12624 [==============================] - 32s 3ms/step - loss: 0.3047 - accuracy: 0.8717 - val_loss: 0.2857 - val_accuracy: 0.8793\n",
            "Epoch 2/15\n",
            "12624/12624 [==============================] - 31s 2ms/step - loss: 0.2734 - accuracy: 0.8870 - val_loss: 0.2674 - val_accuracy: 0.8893\n",
            "Epoch 3/15\n",
            "12624/12624 [==============================] - 32s 2ms/step - loss: 0.2532 - accuracy: 0.8959 - val_loss: 0.2635 - val_accuracy: 0.8935\n",
            "Epoch 4/15\n",
            "12624/12624 [==============================] - 31s 2ms/step - loss: 0.2357 - accuracy: 0.9042 - val_loss: 0.2575 - val_accuracy: 0.8946\n",
            "Epoch 5/15\n",
            "12624/12624 [==============================] - 31s 2ms/step - loss: 0.2201 - accuracy: 0.9114 - val_loss: 0.2531 - val_accuracy: 0.8995\n",
            "Epoch 6/15\n",
            "12624/12624 [==============================] - 30s 2ms/step - loss: 0.2067 - accuracy: 0.9170 - val_loss: 0.2467 - val_accuracy: 0.9010\n",
            "Epoch 7/15\n",
            "12624/12624 [==============================] - 31s 2ms/step - loss: 0.1950 - accuracy: 0.9215 - val_loss: 0.2557 - val_accuracy: 0.8994\n",
            "Epoch 8/15\n",
            "12624/12624 [==============================] - 31s 2ms/step - loss: 0.1841 - accuracy: 0.9255 - val_loss: 0.2577 - val_accuracy: 0.9004\n",
            "Epoch 9/15\n",
            "12624/12624 [==============================] - 32s 3ms/step - loss: 0.1764 - accuracy: 0.9286 - val_loss: 0.2681 - val_accuracy: 0.9019\n",
            "Epoch 10/15\n",
            "12624/12624 [==============================] - 31s 2ms/step - loss: 0.1670 - accuracy: 0.9328 - val_loss: 0.2635 - val_accuracy: 0.9040\n",
            "Epoch 11/15\n",
            "12624/12624 [==============================] - 31s 2ms/step - loss: 0.1592 - accuracy: 0.9357 - val_loss: 0.2663 - val_accuracy: 0.9038\n",
            "Epoch 12/15\n",
            "12624/12624 [==============================] - 31s 2ms/step - loss: 0.1517 - accuracy: 0.9387 - val_loss: 0.2836 - val_accuracy: 0.9054\n",
            "Epoch 13/15\n",
            "12624/12624 [==============================] - 32s 3ms/step - loss: 0.1469 - accuracy: 0.9408 - val_loss: 0.2918 - val_accuracy: 0.8999\n",
            "Epoch 14/15\n",
            "12624/12624 [==============================] - 31s 2ms/step - loss: 0.1417 - accuracy: 0.9431 - val_loss: 0.2846 - val_accuracy: 0.9043\n",
            "Epoch 15/15\n",
            "12624/12624 [==============================] - 31s 2ms/step - loss: 0.1360 - accuracy: 0.9451 - val_loss: 0.2805 - val_accuracy: 0.9047\n"
          ],
          "name": "stdout"
        }
      ]
    },
    {
      "cell_type": "code",
      "metadata": {
        "colab": {
          "base_uri": "https://localhost:8080/",
          "height": 35
        },
        "id": "3SYpnj9p_SeY",
        "outputId": "878d2fac-dc3c-4a60-d728-40b1055bf9fb"
      },
      "source": [
        "train_reviews[180138]"
      ],
      "execution_count": 60,
      "outputs": [
        {
          "output_type": "execute_result",
          "data": {
            "application/vnd.google.colaboratory.intrinsic+json": {
              "type": "string"
            },
            "text/plain": [
              "'Smoky BaconThis bacon was really good and smoky.  It was not great, though.  I would shop around before ordering again.'"
            ]
          },
          "metadata": {
            "tags": []
          },
          "execution_count": 60
        }
      ]
    },
    {
      "cell_type": "code",
      "metadata": {
        "colab": {
          "base_uri": "https://localhost:8080/",
          "height": 122
        },
        "id": "zC-tGAlY7nam",
        "outputId": "99c59d43-86ae-4a60-bff1-2322a745e729"
      },
      "source": [
        "df.iloc[94752].review"
      ],
      "execution_count": 61,
      "outputs": [
        {
          "output_type": "execute_result",
          "data": {
            "application/vnd.google.colaboratory.intrinsic+json": {
              "type": "string"
            },
            "text/plain": [
              "'Made a neurotically picky brother happy.  Or as close to happy as he ever getsTo say that my brother is \"picky\" is the most extreme of understatements.  His finicky culinary mandates are the most outrageous, unreasonable and demanding of almost any human I\\'ve ever known.  His love of nuts is extremely persnickety, and he has been known to turn his nose up at some of the most expensive gourmet nut selections available.<br />Sunflower Food and Spice Co Honey Toasted Cashews gave me a first ever accomplishment in my gift-giving history with my sibling.  This year, instead of the usual  \"eh, not really that good actually.\"  or the one time in 1996 when I got a \"meh, they\\'re ok I guess.\"  He said this:<br /><br />\"Best cashews I\\'ve ever had.\"<br /><br />Truly, I can not tell you how significant a statement that is.'"
            ]
          },
          "metadata": {
            "tags": []
          },
          "execution_count": 61
        }
      ]
    },
    {
      "cell_type": "code",
      "metadata": {
        "colab": {
          "base_uri": "https://localhost:8080/"
        },
        "id": "xifFnken8US7",
        "outputId": "f8f1666e-507b-4fa3-e74e-32d9dd2bc422"
      },
      "source": [
        "review_df.iloc[94752]"
      ],
      "execution_count": 62,
      "outputs": [
        {
          "output_type": "execute_result",
          "data": {
            "text/plain": [
              "Score                                                          5\n",
              "review         Not CoffeeMy thinking about Teeccino is that i...\n",
              "review_type                                             positive\n",
              "Name: 94752, dtype: object"
            ]
          },
          "metadata": {
            "tags": []
          },
          "execution_count": 62
        }
      ]
    },
    {
      "cell_type": "code",
      "metadata": {
        "colab": {
          "base_uri": "https://localhost:8080/"
        },
        "id": "X5s6AD4789lO",
        "outputId": "f33eaf28-5ebb-45b7-d9ec-413694ffe853"
      },
      "source": [
        "y_test[0]"
      ],
      "execution_count": 63,
      "outputs": [
        {
          "output_type": "execute_result",
          "data": {
            "text/plain": [
              "array([0., 1.])"
            ]
          },
          "metadata": {
            "tags": []
          },
          "execution_count": 63
        }
      ]
    },
    {
      "cell_type": "code",
      "metadata": {
        "colab": {
          "base_uri": "https://localhost:8080/"
        },
        "id": "qcxGPz1Sf6Rg",
        "outputId": "2961b09a-933a-46b2-ca2e-b27ff3a82773"
      },
      "source": [
        "frase=\"s.  His finicky culinary mandates are the most outrageous, unreasonable and demanding of almost any human I\\'ve ever known.  His love of nuts is extremely persnickety, and he has been known to turn his nose up at some of the most expensive gourmet nut selections available.<br />Sunflower Food and Spice Co Honey Toasted Cashews gave me a first ever accomplishment in my gift-giving history with my sibling.  This year, instead of the usual  eh, not really that good actually.  or the one time in 1996 when I got a meh, they\\'re ok I guess.  He said this:<br /><br />Best cashews I\\'ve ever had.<br /><br />Truly, I can not tell you how significant a statement that is.\"\r\n",
        "\r\n",
        "emb_frase=use(frase)\r\n",
        "\r\n",
        "model.predict(emb_frase)"
      ],
      "execution_count": 64,
      "outputs": [
        {
          "output_type": "execute_result",
          "data": {
            "text/plain": [
              "array([[0.2918787 , 0.70812136]], dtype=float32)"
            ]
          },
          "metadata": {
            "tags": []
          },
          "execution_count": 64
        }
      ]
    }
  ]
}