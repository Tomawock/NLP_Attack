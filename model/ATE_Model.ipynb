{
  "nbformat": 4,
  "nbformat_minor": 0,
  "metadata": {
    "colab": {
      "name": "ATE_Model.ipynb",
      "provenance": [],
      "collapsed_sections": [],
      "include_colab_link": true
    },
    "kernelspec": {
      "name": "python3",
      "display_name": "Python 3"
    }
  },
  "cells": [
    {
      "cell_type": "markdown",
      "metadata": {
        "id": "view-in-github",
        "colab_type": "text"
      },
      "source": [
        "<a href=\"https://colab.research.google.com/github/Tomawock/NLP_Attack/blob/main/model/ATE_Model.ipynb\" target=\"_parent\"><img src=\"https://colab.research.google.com/assets/colab-badge.svg\" alt=\"Open In Colab\"/></a>"
      ]
    },
    {
      "cell_type": "code",
      "metadata": {
        "colab": {
          "base_uri": "https://localhost:8080/"
        },
        "id": "BDTxZNnpMpha",
        "outputId": "eb519f13-77ff-45d9-aada-09575bb216f0"
      },
      "source": [
        "from google.colab import drive\n",
        "drive.mount('/content/drive')"
      ],
      "execution_count": 1,
      "outputs": [
        {
          "output_type": "stream",
          "text": [
            "Drive already mounted at /content/drive; to attempt to forcibly remount, call drive.mount(\"/content/drive\", force_remount=True).\n"
          ],
          "name": "stdout"
        }
      ]
    },
    {
      "cell_type": "code",
      "metadata": {
        "id": "OXxaHXN1K8Sx"
      },
      "source": [
        "import numpy\n",
        "import pandas as pd\n",
        "import matplotlib.pyplot as plt"
      ],
      "execution_count": 2,
      "outputs": []
    },
    {
      "cell_type": "code",
      "metadata": {
        "id": "CKn9LFuuw_8m"
      },
      "source": [
        "import nltk\n",
        "from nltk.tokenize import word_tokenize\n",
        "import numpy as np\n",
        "from tensorflow.keras.preprocessing.sequence import pad_sequences\n",
        "nltk.download('punkt')"
      ],
      "execution_count": null,
      "outputs": []
    },
    {
      "cell_type": "code",
      "metadata": {
        "id": "upSUyaySxE36"
      },
      "source": [
        "import tensorflow as tf\n",
        "from tensorflow import keras\n",
        "from sklearn.model_selection import train_test_split\n",
        "from sklearn.preprocessing import OneHotEncoder"
      ],
      "execution_count": null,
      "outputs": []
    },
    {
      "cell_type": "markdown",
      "metadata": {
        "id": "m-BZeFloM9Dq"
      },
      "source": [
        "Load Dataset"
      ]
    },
    {
      "cell_type": "code",
      "metadata": {
        "id": "zJ9Kg6ZBM-7v"
      },
      "source": [
        "test = pd.read_json('/content/drive/Shareddrives/Deep Learning/datasets/ATE_ABSITA/ATE_ABSITA_test_set/ate_absita_gold.ndjson'\n",
        "                       , lines=True)"
      ],
      "execution_count": 3,
      "outputs": []
    },
    {
      "cell_type": "code",
      "metadata": {
        "id": "Mbhv62DrXkvL"
      },
      "source": [
        "train = pd.read_json('/content/drive/Shareddrives/Deep Learning/datasets/ATE_ABSITA/ATE_ABSITA_training_set/ate_absita_training.ndjson'\n",
        "                       , lines=True)"
      ],
      "execution_count": 4,
      "outputs": []
    },
    {
      "cell_type": "code",
      "metadata": {
        "colab": {
          "base_uri": "https://localhost:8080/",
          "height": 143
        },
        "id": "5WY0bqnZXtee",
        "outputId": "37fb1b97-29ab-4356-a555-58d617c92f9b"
      },
      "source": [
        "train.head(3)"
      ],
      "execution_count": 5,
      "outputs": [
        {
          "output_type": "execute_result",
          "data": {
            "text/html": [
              "<div>\n",
              "<style scoped>\n",
              "    .dataframe tbody tr th:only-of-type {\n",
              "        vertical-align: middle;\n",
              "    }\n",
              "\n",
              "    .dataframe tbody tr th {\n",
              "        vertical-align: top;\n",
              "    }\n",
              "\n",
              "    .dataframe thead th {\n",
              "        text-align: right;\n",
              "    }\n",
              "</style>\n",
              "<table border=\"1\" class=\"dataframe\">\n",
              "  <thead>\n",
              "    <tr style=\"text-align: right;\">\n",
              "      <th></th>\n",
              "      <th>sentence</th>\n",
              "      <th>id_sentence</th>\n",
              "      <th>score</th>\n",
              "      <th>polarities</th>\n",
              "      <th>aspects_position</th>\n",
              "      <th>aspects</th>\n",
              "    </tr>\n",
              "  </thead>\n",
              "  <tbody>\n",
              "    <tr>\n",
              "      <th>0</th>\n",
              "      <td>Ottimo prodotto di marca, la qualità é veramen...</td>\n",
              "      <td>4b7254a1-3f31-4143-ab22-a8558aa4a73b</td>\n",
              "      <td>5</td>\n",
              "      <td>[[0, 0], [0, 1], [1, 0]]</td>\n",
              "      <td>[[120, 142], [71, 79], [29, 36]]</td>\n",
              "      <td>[provvisto di una tasca, capiente, qualità]</td>\n",
              "    </tr>\n",
              "    <tr>\n",
              "      <th>1</th>\n",
              "      <td>Ottimo rasoio dal semplice utilizzo. Rade molt...</td>\n",
              "      <td>4b74d99d-891f-4526-bbd3-549fa244cd1c</td>\n",
              "      <td>5</td>\n",
              "      <td>[[1, 0], [1, 0], [1, 0], [1, 0]]</td>\n",
              "      <td>[[18, 26], [37, 41], [79, 86], [99, 105]]</td>\n",
              "      <td>[semplice, Rade, Pratico, pulire]</td>\n",
              "    </tr>\n",
              "    <tr>\n",
              "      <th>2</th>\n",
              "      <td>Un quarto delle dimensioni dello Show original...</td>\n",
              "      <td>4b7ff44f-fa9f-4ef0-97c8-e295e70ccc9b</td>\n",
              "      <td>5</td>\n",
              "      <td>[[1, 0], [1, 0], [1, 0], [0, 0]]</td>\n",
              "      <td>[[118, 132], [51, 62], [65, 70], [16, 26]]</td>\n",
              "      <td>[modalità notte, prestazioni, suono, dimensioni]</td>\n",
              "    </tr>\n",
              "  </tbody>\n",
              "</table>\n",
              "</div>"
            ],
            "text/plain": [
              "                                            sentence  ...                                           aspects\n",
              "0  Ottimo prodotto di marca, la qualità é veramen...  ...       [provvisto di una tasca, capiente, qualità]\n",
              "1  Ottimo rasoio dal semplice utilizzo. Rade molt...  ...                 [semplice, Rade, Pratico, pulire]\n",
              "2  Un quarto delle dimensioni dello Show original...  ...  [modalità notte, prestazioni, suono, dimensioni]\n",
              "\n",
              "[3 rows x 6 columns]"
            ]
          },
          "metadata": {
            "tags": []
          },
          "execution_count": 5
        }
      ]
    },
    {
      "cell_type": "code",
      "metadata": {
        "colab": {
          "base_uri": "https://localhost:8080/"
        },
        "id": "-mjOG8VpaeWu",
        "outputId": "b5d3d4ac-a765-4a8e-8c34-92d3ace06181"
      },
      "source": [
        "print(test.columns)\n",
        "print(train.columns)"
      ],
      "execution_count": null,
      "outputs": [
        {
          "output_type": "stream",
          "text": [
            "Index(['sentence', 'id_sentence', 'score', 'polarities', 'aspects_position',\n",
            "       'aspects'],\n",
            "      dtype='object')\n",
            "Index(['sentence', 'id_sentence', 'score', 'polarities', 'aspects_position',\n",
            "       'aspects'],\n",
            "      dtype='object')\n"
          ],
          "name": "stdout"
        }
      ]
    },
    {
      "cell_type": "code",
      "metadata": {
        "colab": {
          "base_uri": "https://localhost:8080/"
        },
        "id": "fb6duFp6NSsl",
        "outputId": "71f23a3e-63e8-4609-9a9c-5bdfe2548018"
      },
      "source": [
        "train.drop(columns=['id_sentence','polarities','aspects_position','aspects'], inplace=True)\n",
        "test.drop(columns=['id_sentence','polarities','aspects_position','aspects'], inplace=True)\n",
        "print(f'Contains {len(train)} sentences')\n",
        "print(f'Contains {len(test)} sentences')"
      ],
      "execution_count": 6,
      "outputs": [
        {
          "output_type": "stream",
          "text": [
            "Contains 3054 sentences\n",
            "Contains 1200 sentences\n"
          ],
          "name": "stdout"
        }
      ]
    },
    {
      "cell_type": "code",
      "metadata": {
        "id": "1nXKH3OhN-Jd"
      },
      "source": [
        "train[\"review_type\"] = train[\"score\"].apply(lambda x: \"neg\" if x < 5 else \"pos\")\n",
        "test[\"review_type\"] = test[\"score\"].apply(lambda x: \"neg\" if x < 5 else \"pos\")"
      ],
      "execution_count": 7,
      "outputs": []
    },
    {
      "cell_type": "code",
      "metadata": {
        "colab": {
          "base_uri": "https://localhost:8080/"
        },
        "id": "1bQI-kjaOLEt",
        "outputId": "5ee15da3-bb6d-4e2e-91c5-074e7411028a"
      },
      "source": [
        "print(f'TRAIN::\\n{train.review_type.value_counts()}')\n",
        "print(f'COMPLETO::\\n{test.review_type.value_counts()}')"
      ],
      "execution_count": 8,
      "outputs": [
        {
          "output_type": "stream",
          "text": [
            "TRAIN::\n",
            "pos    2150\n",
            "neg     904\n",
            "Name: review_type, dtype: int64\n",
            "COMPLETO::\n",
            "pos    857\n",
            "neg    343\n",
            "Name: review_type, dtype: int64\n"
          ],
          "name": "stdout"
        }
      ]
    },
    {
      "cell_type": "markdown",
      "metadata": {
        "id": "5Hju8aFRPUNl"
      },
      "source": [
        "**Necessaria Augemntation**"
      ]
    },
    {
      "cell_type": "code",
      "metadata": {
        "id": "eEKPlbZKOR2D"
      },
      "source": [
        "train.drop(columns=['score'], inplace=True)\n",
        "test.drop(columns=['score'], inplace=True)"
      ],
      "execution_count": 9,
      "outputs": []
    },
    {
      "cell_type": "markdown",
      "metadata": {
        "id": "tSXceNfmLsPj"
      },
      "source": [
        "Shuffled datset for improving the learning since negative entries are lower than positive"
      ]
    },
    {
      "cell_type": "code",
      "metadata": {
        "id": "YJauy2I6K4XQ"
      },
      "source": [
        "shuffle=train.sample(frac=1)"
      ],
      "execution_count": 10,
      "outputs": []
    },
    {
      "cell_type": "code",
      "metadata": {
        "id": "EOeVBufPjBIz"
      },
      "source": [
        "#embed = hub.load(\"https://tfhub.dev/google/universal-sentence-encoder-multilingual-large/3\")"
      ],
      "execution_count": null,
      "outputs": []
    },
    {
      "cell_type": "markdown",
      "metadata": {
        "id": "gR-gToLzMJf2"
      },
      "source": [
        "changhe shuffle with train if u want to use standard db"
      ]
    },
    {
      "cell_type": "code",
      "metadata": {
        "id": "m4DYqo3elAgO"
      },
      "source": [
        "\n",
        "\n",
        "one_hot_train = OneHotEncoder(sparse=False).fit_transform(\n",
        "  shuffle.review_type.to_numpy().reshape(-1, 1)\n",
        ")\n",
        "\n",
        "one_hot_test = OneHotEncoder(sparse=False).fit_transform(\n",
        "  test.review_type.to_numpy().reshape(-1, 1)\n",
        ")"
      ],
      "execution_count": 11,
      "outputs": []
    },
    {
      "cell_type": "markdown",
      "metadata": {
        "id": "HqvD4U-HoluU"
      },
      "source": [
        "Trasforma da pos, neg a [0,1], [1,0]"
      ]
    },
    {
      "cell_type": "code",
      "metadata": {
        "id": "-glNJ8m2Kr5E",
        "colab": {
          "base_uri": "https://localhost:8080/"
        },
        "outputId": "cf1cefc9-9e6b-4677-fc57-883344ee2a24"
      },
      "source": [
        "\r\n",
        "\r\n",
        "matrix = [word_tokenize(sent) for sent in train.sentence]\r\n",
        "\r\n",
        "for elem in matrix:\r\n",
        "  if len(elem) > max:\r\n",
        "    max = len(elem)\r\n",
        "\r\n",
        "print(f'La unghezza massima è: {max}')\r\n",
        "\r\n",
        "for i, row in enumerate(matrix):\r\n",
        "  matrix[i] = matrix[i] + [''] * (max - len(row))"
      ],
      "execution_count": 127,
      "outputs": [
        {
          "output_type": "stream",
          "text": [
            "La unghezza massima è: 95\n"
          ],
          "name": "stdout"
        }
      ]
    },
    {
      "cell_type": "code",
      "metadata": {
        "id": "vnVqVd9ZfAeL"
      },
      "source": [
        "matrix = tf.convert_to_tensor(matrix)\n",
        "#matrix = tf.convert_to_tensor(np.random.rand(3054, 95))"
      ],
      "execution_count": 128,
      "outputs": []
    },
    {
      "cell_type": "code",
      "metadata": {
        "id": "CCVm1ywVpT5S",
        "outputId": "dc243ea6-033d-4fd7-ed81-8e18990c2a3c",
        "colab": {
          "base_uri": "https://localhost:8080/"
        }
      },
      "source": [
        "tokenizer = tf.keras.preprocessing.text.Tokenizer(num_words=8000, # Dimensione dizionario\n",
        "                                                  filters='!\"#$%&()*+,-./:;<=>?@[\\]^_`{|}~',\n",
        "                                                  lower=True)\n",
        "\n",
        "tokenizer.fit_on_texts(train['sentence'].values)\n",
        "word_index = tokenizer.word_index\n",
        "print(f'Trovati {len(word_index)} token univoci.')"
      ],
      "execution_count": 169,
      "outputs": [
        {
          "output_type": "stream",
          "text": [
            "Trovati 7577 token univoci.\n"
          ],
          "name": "stdout"
        }
      ]
    },
    {
      "cell_type": "code",
      "metadata": {
        "id": "uOEqqCaYtNI1",
        "outputId": "ea5931b6-0d7d-4fc5-8c49-809dbf591d4e",
        "colab": {
          "base_uri": "https://localhost:8080/"
        }
      },
      "source": [
        "X = tokenizer.texts_to_sequences(train['sentence'].values)\n",
        "X = pad_sequences(X, maxlen=95, padding='post')\n",
        "print('Shape of data tensor:', X.shape)"
      ],
      "execution_count": 171,
      "outputs": [
        {
          "output_type": "stream",
          "text": [
            "Shape of data tensor: (3054, 95)\n"
          ],
          "name": "stdout"
        }
      ]
    },
    {
      "cell_type": "markdown",
      "metadata": {
        "id": "5pngT9HISyE2"
      },
      "source": [
        "How to find batch size, if it not belongs to N, the code will not work (we know why but is not crystal clear)"
      ]
    },
    {
      "cell_type": "code",
      "metadata": {
        "id": "nxt3Vrs2LZg9",
        "outputId": "cb6bcfa5-3479-472b-b2bb-aea586363c1b",
        "colab": {
          "base_uri": "https://localhost:8080/"
        }
      },
      "source": [
        "# define the LSTM model\n",
        "model = keras.Sequential()\n",
        "model.add(keras.layers.Input(shape=(95,)))\n",
        "model.add(keras.layers.Lambda(lambda x: tf.reshape(x, [6, 95, 1])))\n",
        "model.add(keras.layers.LSTM(64))\n",
        "model.add(keras.layers.Dropout(0.2))\n",
        "model.add(keras.layers.Dense(32, activation='relu'))\n",
        "model.add(keras.layers.Dropout(0.3))\n",
        "model.add(keras.layers.Dense(2, activation='softmax'))\n",
        "model.compile(loss='categorical_crossentropy', optimizer=keras.optimizers.Adam(0.001), metrics=['accuracy'])\n",
        "model.summary()"
      ],
      "execution_count": 180,
      "outputs": [
        {
          "output_type": "stream",
          "text": [
            "Model: \"sequential_25\"\n",
            "_________________________________________________________________\n",
            "Layer (type)                 Output Shape              Param #   \n",
            "=================================================================\n",
            "lambda_8 (Lambda)            (6, 95, 1)                0         \n",
            "_________________________________________________________________\n",
            "lstm_22 (LSTM)               (6, 64)                   16896     \n",
            "_________________________________________________________________\n",
            "dropout_30 (Dropout)         (6, 64)                   0         \n",
            "_________________________________________________________________\n",
            "dense_30 (Dense)             (6, 32)                   2080      \n",
            "_________________________________________________________________\n",
            "dropout_31 (Dropout)         (6, 32)                   0         \n",
            "_________________________________________________________________\n",
            "dense_31 (Dense)             (6, 2)                    66        \n",
            "=================================================================\n",
            "Total params: 19,042\n",
            "Trainable params: 19,042\n",
            "Non-trainable params: 0\n",
            "_________________________________________________________________\n"
          ],
          "name": "stdout"
        }
      ]
    },
    {
      "cell_type": "code",
      "metadata": {
        "id": "QW6FAgnbabtE"
      },
      "source": [
        "one_hot_train = tf.convert_to_tensor(\n",
        "    OneHotEncoder(sparse=False).fit_transform(\n",
        "        train.review_type.to_numpy().reshape(-1, 1)\n",
        "        )\n",
        "    )\n",
        "\n",
        "one_hot_test = OneHotEncoder(sparse=False).fit_transform(\n",
        "  test.review_type.to_numpy().reshape(-1, 1)\n",
        ")"
      ],
      "execution_count": 93,
      "outputs": []
    },
    {
      "cell_type": "code",
      "metadata": {
        "id": "U0Z8HN44LybB",
        "outputId": "b83ee046-f05c-4a2c-a8bf-80d131ddaa6f",
        "colab": {
          "base_uri": "https://localhost:8080/"
        }
      },
      "source": [
        "result = model.fit(X, one_hot_train, epochs=5, batch_size=6)"
      ],
      "execution_count": 182,
      "outputs": [
        {
          "output_type": "stream",
          "text": [
            "Epoch 1/5\n",
            "509/509 [==============================] - 11s 21ms/step - loss: 0.6128 - accuracy: 0.7040\n",
            "Epoch 2/5\n",
            "509/509 [==============================] - 11s 21ms/step - loss: 0.6137 - accuracy: 0.7040\n",
            "Epoch 3/5\n",
            "509/509 [==============================] - 11s 21ms/step - loss: 0.6139 - accuracy: 0.7040\n",
            "Epoch 4/5\n",
            "509/509 [==============================] - 11s 21ms/step - loss: 0.6144 - accuracy: 0.7040\n",
            "Epoch 5/5\n",
            "509/509 [==============================] - 11s 21ms/step - loss: 0.6114 - accuracy: 0.7040\n"
          ],
          "name": "stdout"
        }
      ]
    }
  ]
}