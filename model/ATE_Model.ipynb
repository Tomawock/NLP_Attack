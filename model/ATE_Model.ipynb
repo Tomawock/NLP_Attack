{
  "nbformat": 4,
  "nbformat_minor": 0,
  "metadata": {
    "colab": {
      "name": "ATE_Model.ipynb",
      "provenance": [],
      "collapsed_sections": [],
      "authorship_tag": "ABX9TyM3a11miA+ROPe8UdQkQ5Tv",
      "include_colab_link": true
    },
    "kernelspec": {
      "name": "python3",
      "display_name": "Python 3"
    }
  },
  "cells": [
    {
      "cell_type": "markdown",
      "metadata": {
        "id": "view-in-github",
        "colab_type": "text"
      },
      "source": [
        "<a href=\"https://colab.research.google.com/github/Tomawock/NLP_Attack/blob/main/model/ATE_Model.ipynb\" target=\"_parent\"><img src=\"https://colab.research.google.com/assets/colab-badge.svg\" alt=\"Open In Colab\"/></a>"
      ]
    },
    {
      "cell_type": "code",
      "metadata": {
        "colab": {
          "base_uri": "https://localhost:8080/"
        },
        "id": "BDTxZNnpMpha",
        "outputId": "882c9ddb-b1e8-49b9-9b78-dd7c9a3d86c0"
      },
      "source": [
        "from google.colab import drive\n",
        "drive.mount('/content/drive')"
      ],
      "execution_count": 145,
      "outputs": [
        {
          "output_type": "stream",
          "text": [
            "Drive already mounted at /content/drive; to attempt to forcibly remount, call drive.mount(\"/content/drive\", force_remount=True).\n"
          ],
          "name": "stdout"
        }
      ]
    },
    {
      "cell_type": "code",
      "metadata": {
        "id": "OXxaHXN1K8Sx"
      },
      "source": [
        "import numpy\n",
        "import pandas as pd\n",
        "import matplotlib.pyplot as plt\n"
      ],
      "execution_count": 346,
      "outputs": []
    },
    {
      "cell_type": "markdown",
      "metadata": {
        "id": "m-BZeFloM9Dq"
      },
      "source": [
        "Load Dataset"
      ]
    },
    {
      "cell_type": "code",
      "metadata": {
        "id": "zJ9Kg6ZBM-7v"
      },
      "source": [
        "test = pd.read_json('/content/drive/Shareddrives/Deep Learning/datasets/ATE_ABSITA/ATE_ABSITA_test_set/ate_absita_gold.ndjson'\n",
        "                       , lines=True)"
      ],
      "execution_count": 326,
      "outputs": []
    },
    {
      "cell_type": "code",
      "metadata": {
        "id": "Mbhv62DrXkvL"
      },
      "source": [
        "train = pd.read_json('/content/drive/Shareddrives/Deep Learning/datasets/ATE_ABSITA/ATE_ABSITA_training_set/ate_absita_training.ndjson'\n",
        "                       , lines=True)"
      ],
      "execution_count": 327,
      "outputs": []
    },
    {
      "cell_type": "code",
      "metadata": {
        "colab": {
          "base_uri": "https://localhost:8080/",
          "height": 144
        },
        "id": "5WY0bqnZXtee",
        "outputId": "30844cf9-1fdd-493c-ec34-8c907d9e1be2"
      },
      "source": [
        "train.head(3)"
      ],
      "execution_count": 328,
      "outputs": [
        {
          "output_type": "execute_result",
          "data": {
            "text/html": [
              "<div>\n",
              "<style scoped>\n",
              "    .dataframe tbody tr th:only-of-type {\n",
              "        vertical-align: middle;\n",
              "    }\n",
              "\n",
              "    .dataframe tbody tr th {\n",
              "        vertical-align: top;\n",
              "    }\n",
              "\n",
              "    .dataframe thead th {\n",
              "        text-align: right;\n",
              "    }\n",
              "</style>\n",
              "<table border=\"1\" class=\"dataframe\">\n",
              "  <thead>\n",
              "    <tr style=\"text-align: right;\">\n",
              "      <th></th>\n",
              "      <th>sentence</th>\n",
              "      <th>id_sentence</th>\n",
              "      <th>score</th>\n",
              "      <th>polarities</th>\n",
              "      <th>aspects_position</th>\n",
              "      <th>aspects</th>\n",
              "    </tr>\n",
              "  </thead>\n",
              "  <tbody>\n",
              "    <tr>\n",
              "      <th>0</th>\n",
              "      <td>Ottimo prodotto di marca, la qualità é veramen...</td>\n",
              "      <td>4b7254a1-3f31-4143-ab22-a8558aa4a73b</td>\n",
              "      <td>5</td>\n",
              "      <td>[[0, 0], [0, 1], [1, 0]]</td>\n",
              "      <td>[[120, 142], [71, 79], [29, 36]]</td>\n",
              "      <td>[provvisto di una tasca, capiente, qualità]</td>\n",
              "    </tr>\n",
              "    <tr>\n",
              "      <th>1</th>\n",
              "      <td>Ottimo rasoio dal semplice utilizzo. Rade molt...</td>\n",
              "      <td>4b74d99d-891f-4526-bbd3-549fa244cd1c</td>\n",
              "      <td>5</td>\n",
              "      <td>[[1, 0], [1, 0], [1, 0], [1, 0]]</td>\n",
              "      <td>[[18, 26], [37, 41], [79, 86], [99, 105]]</td>\n",
              "      <td>[semplice, Rade, Pratico, pulire]</td>\n",
              "    </tr>\n",
              "    <tr>\n",
              "      <th>2</th>\n",
              "      <td>Un quarto delle dimensioni dello Show original...</td>\n",
              "      <td>4b7ff44f-fa9f-4ef0-97c8-e295e70ccc9b</td>\n",
              "      <td>5</td>\n",
              "      <td>[[1, 0], [1, 0], [1, 0], [0, 0]]</td>\n",
              "      <td>[[118, 132], [51, 62], [65, 70], [16, 26]]</td>\n",
              "      <td>[modalità notte, prestazioni, suono, dimensioni]</td>\n",
              "    </tr>\n",
              "  </tbody>\n",
              "</table>\n",
              "</div>"
            ],
            "text/plain": [
              "                                            sentence  ...                                           aspects\n",
              "0  Ottimo prodotto di marca, la qualità é veramen...  ...       [provvisto di una tasca, capiente, qualità]\n",
              "1  Ottimo rasoio dal semplice utilizzo. Rade molt...  ...                 [semplice, Rade, Pratico, pulire]\n",
              "2  Un quarto delle dimensioni dello Show original...  ...  [modalità notte, prestazioni, suono, dimensioni]\n",
              "\n",
              "[3 rows x 6 columns]"
            ]
          },
          "metadata": {
            "tags": []
          },
          "execution_count": 328
        }
      ]
    },
    {
      "cell_type": "code",
      "metadata": {
        "colab": {
          "base_uri": "https://localhost:8080/"
        },
        "id": "-mjOG8VpaeWu",
        "outputId": "854b38db-db3c-4661-f935-1943f67513f5"
      },
      "source": [
        "print(test.columns)\n",
        "print(train.columns)"
      ],
      "execution_count": 329,
      "outputs": [
        {
          "output_type": "stream",
          "text": [
            "Index(['sentence', 'id_sentence', 'score', 'polarities', 'aspects_position',\n",
            "       'aspects'],\n",
            "      dtype='object')\n",
            "Index(['sentence', 'id_sentence', 'score', 'polarities', 'aspects_position',\n",
            "       'aspects'],\n",
            "      dtype='object')\n"
          ],
          "name": "stdout"
        }
      ]
    },
    {
      "cell_type": "code",
      "metadata": {
        "colab": {
          "base_uri": "https://localhost:8080/"
        },
        "id": "fb6duFp6NSsl",
        "outputId": "e431be39-f733-4f99-d865-9fe99b38cd75"
      },
      "source": [
        "train.drop(columns=['id_sentence','polarities','aspects_position','aspects'], inplace=True)\n",
        "test.drop(columns=['id_sentence','polarities','aspects_position','aspects'], inplace=True)\n",
        "print(f'Contains {len(train)} sentences')\n",
        "print(f'Contains {len(test)} sentences')"
      ],
      "execution_count": 330,
      "outputs": [
        {
          "output_type": "stream",
          "text": [
            "Contains 3054 sentences\n",
            "Contains 1200 sentences\n"
          ],
          "name": "stdout"
        }
      ]
    },
    {
      "cell_type": "code",
      "metadata": {
        "id": "1nXKH3OhN-Jd"
      },
      "source": [
        "train[\"review_type\"] = train[\"score\"].apply(lambda x: \"neg\" if x < 5 else \"pos\")\n",
        "test[\"review_type\"] = test[\"score\"].apply(lambda x: \"neg\" if x < 5 else \"pos\")"
      ],
      "execution_count": 331,
      "outputs": []
    },
    {
      "cell_type": "code",
      "metadata": {
        "colab": {
          "base_uri": "https://localhost:8080/"
        },
        "id": "1bQI-kjaOLEt",
        "outputId": "7f0371cb-98d8-4b50-a2e1-19f024fed0e4"
      },
      "source": [
        "print(f'TRAIN::\\n{train.review_type.value_counts()}')\n",
        "print(f'COMPLETO::\\n{test.review_type.value_counts()}')"
      ],
      "execution_count": 332,
      "outputs": [
        {
          "output_type": "stream",
          "text": [
            "TRAIN::\n",
            "pos    2150\n",
            "neg     904\n",
            "Name: review_type, dtype: int64\n",
            "COMPLETO::\n",
            "pos    857\n",
            "neg    343\n",
            "Name: review_type, dtype: int64\n"
          ],
          "name": "stdout"
        }
      ]
    },
    {
      "cell_type": "markdown",
      "metadata": {
        "id": "5Hju8aFRPUNl"
      },
      "source": [
        "**Necessaria Augemntation**"
      ]
    },
    {
      "cell_type": "code",
      "metadata": {
        "id": "eEKPlbZKOR2D"
      },
      "source": [
        "train.drop(columns=['score'], inplace=True)\n",
        "test.drop(columns=['score'], inplace=True)"
      ],
      "execution_count": 333,
      "outputs": []
    },
    {
      "cell_type": "markdown",
      "metadata": {
        "id": "tSXceNfmLsPj"
      },
      "source": [
        "Shuffled datset for improving the learning since negative entries are lower than positive"
      ]
    },
    {
      "cell_type": "code",
      "metadata": {
        "id": "YJauy2I6K4XQ"
      },
      "source": [
        "shuffle=train.sample(frac=1)"
      ],
      "execution_count": 334,
      "outputs": []
    },
    {
      "cell_type": "code",
      "metadata": {
        "id": "gpJFI9sbkrqa"
      },
      "source": [
        "!pip install tensorflow_text"
      ],
      "execution_count": null,
      "outputs": []
    },
    {
      "cell_type": "code",
      "metadata": {
        "id": "LflCj6vekm84"
      },
      "source": [
        "import tensorflow_hub as hub\n",
        "import numpy as np\n",
        "import tensorflow_text\n",
        "from tensorflow import keras\n",
        "import tensorflow as tf\n",
        "\n",
        "from sklearn.model_selection import train_test_split"
      ],
      "execution_count": 335,
      "outputs": []
    },
    {
      "cell_type": "code",
      "metadata": {
        "id": "EOeVBufPjBIz"
      },
      "source": [
        "embed = hub.load(\"https://tfhub.dev/google/universal-sentence-encoder-multilingual-large/3\")"
      ],
      "execution_count": 178,
      "outputs": []
    },
    {
      "cell_type": "markdown",
      "metadata": {
        "id": "gR-gToLzMJf2"
      },
      "source": [
        "changhe shuffle with train if u want to use standard db"
      ]
    },
    {
      "cell_type": "code",
      "metadata": {
        "id": "m4DYqo3elAgO"
      },
      "source": [
        "from sklearn.preprocessing import OneHotEncoder\n",
        "\n",
        "one_hot_train = OneHotEncoder(sparse=False).fit_transform(\n",
        "  shuffle.review_type.to_numpy().reshape(-1, 1)\n",
        ")\n",
        "\n",
        "one_hot_test = OneHotEncoder(sparse=False).fit_transform(\n",
        "  test.review_type.to_numpy().reshape(-1, 1)\n",
        ")"
      ],
      "execution_count": 336,
      "outputs": []
    },
    {
      "cell_type": "markdown",
      "metadata": {
        "id": "HqvD4U-HoluU"
      },
      "source": [
        "Trasforma da pos, neg a [0,1], [1,0]"
      ]
    },
    {
      "cell_type": "code",
      "metadata": {
        "colab": {
          "base_uri": "https://localhost:8080/"
        },
        "id": "rpBBWyWooLA9",
        "outputId": "1ed95430-6fb6-464d-c3b5-47cb0f57fdb2"
      },
      "source": [
        "one_hot_train"
      ],
      "execution_count": 339,
      "outputs": [
        {
          "output_type": "execute_result",
          "data": {
            "text/plain": [
              "array([[1., 0.],\n",
              "       [0., 1.],\n",
              "       [0., 1.],\n",
              "       ...,\n",
              "       [1., 0.],\n",
              "       [0., 1.],\n",
              "       [0., 1.]])"
            ]
          },
          "metadata": {
            "tags": []
          },
          "execution_count": 339
        }
      ]
    },
    {
      "cell_type": "code",
      "metadata": {
        "colab": {
          "base_uri": "https://localhost:8080/"
        },
        "id": "GfxumdR4odOD",
        "outputId": "990d29c3-83f7-492a-fe4b-f68b0a63bf03"
      },
      "source": [
        "shuffle.review_type"
      ],
      "execution_count": 340,
      "outputs": [
        {
          "output_type": "execute_result",
          "data": {
            "text/plain": [
              "1088    neg\n",
              "941     pos\n",
              "858     pos\n",
              "1807    pos\n",
              "2270    neg\n",
              "       ... \n",
              "2775    pos\n",
              "1803    pos\n",
              "1898    neg\n",
              "1196    pos\n",
              "1853    pos\n",
              "Name: review_type, Length: 3054, dtype: object"
            ]
          },
          "metadata": {
            "tags": []
          },
          "execution_count": 340
        }
      ]
    },
    {
      "cell_type": "code",
      "metadata": {
        "colab": {
          "base_uri": "https://localhost:8080/"
        },
        "id": "h1-2Gp5NSm7R",
        "outputId": "56ec1b96-c9dd-4231-8f09-d64efb4019a6"
      },
      "source": [
        "one_hot_test"
      ],
      "execution_count": 342,
      "outputs": [
        {
          "output_type": "execute_result",
          "data": {
            "text/plain": [
              "array([[1., 0.],\n",
              "       [1., 0.],\n",
              "       [1., 0.],\n",
              "       ...,\n",
              "       [0., 1.],\n",
              "       [0., 1.],\n",
              "       [0., 1.]])"
            ]
          },
          "metadata": {
            "tags": []
          },
          "execution_count": 342
        }
      ]
    },
    {
      "cell_type": "code",
      "metadata": {
        "colab": {
          "base_uri": "https://localhost:8080/"
        },
        "id": "UvQwTih6SnC7",
        "outputId": "9504ec20-5afe-40f7-ba97-de90cf529e17"
      },
      "source": [
        "test.review_type"
      ],
      "execution_count": 341,
      "outputs": [
        {
          "output_type": "execute_result",
          "data": {
            "text/plain": [
              "0       neg\n",
              "1       neg\n",
              "2       neg\n",
              "3       pos\n",
              "4       pos\n",
              "       ... \n",
              "1195    pos\n",
              "1196    pos\n",
              "1197    pos\n",
              "1198    pos\n",
              "1199    pos\n",
              "Name: review_type, Length: 1200, dtype: object"
            ]
          },
          "metadata": {
            "tags": []
          },
          "execution_count": 341
        }
      ]
    },
    {
      "cell_type": "markdown",
      "metadata": {
        "id": "5pngT9HISyE2"
      },
      "source": [
        "How to find batch size, if it not belongs to N, the code will not work (we know why but is not crystal clear)"
      ]
    },
    {
      "cell_type": "code",
      "metadata": {
        "colab": {
          "base_uri": "https://localhost:8080/"
        },
        "id": "Dy4CU5dZuhsM",
        "outputId": "7172a887-19fc-4e96-814e-af81814c1151"
      },
      "source": [
        "len(shuffle['sentence'])/6"
      ],
      "execution_count": 343,
      "outputs": [
        {
          "output_type": "execute_result",
          "data": {
            "text/plain": [
              "509.0"
            ]
          },
          "metadata": {
            "tags": []
          },
          "execution_count": 343
        }
      ]
    },
    {
      "cell_type": "code",
      "metadata": {
        "id": "pErzsywUlQX8"
      },
      "source": [
        "def UniversalEmbedding(x):\n",
        "    return tf.reshape(embed(tf.squeeze(tf.cast(x, tf.string))),[6,512,1])#, \n",
        "    \t#signature=\"default\", as_dict=True)[\"default\"]"
      ],
      "execution_count": 344,
      "outputs": []
    },
    {
      "cell_type": "code",
      "metadata": {
        "id": "nxt3Vrs2LZg9"
      },
      "source": [
        "# define the LSTM model\n",
        "model = Sequential()\n",
        "model.add(keras.layers.Input(shape=(1,), dtype=tf.string))\n",
        "model.add(keras.layers.Lambda(UniversalEmbedding))\n",
        "model.add(keras.layers.LSTM(64))\n",
        "model.add(keras.layers.Dropout(0.2))\n",
        "model.add(keras.layers.Dense(32, activation='relu'))\n",
        "model.add(keras.layers.Dropout(0.3))\n",
        "model.add(keras.layers.Dense(2, activation='softmax'))\n",
        "model.compile(loss='categorical_crossentropy', optimizer=keras.optimizers.Adam(0.001), metrics=['accuracy'])\n",
        "model.summary()"
      ],
      "execution_count": null,
      "outputs": []
    },
    {
      "cell_type": "code",
      "metadata": {
        "id": "U0Z8HN44LybB",
        "colab": {
          "base_uri": "https://localhost:8080/"
        },
        "outputId": "f555d440-4c4b-4bcc-82d3-0c4d6f98612f"
      },
      "source": [
        "# define the checkpoint\n",
        "from tensorflow.keras.callbacks import History \n",
        "history = History()\n",
        "filepath=\"weights-improvement-{epoch:02d}-{loss:.4f}.hdf5\"\n",
        "checkpoint = ModelCheckpoint(filepath, monitor='loss', verbose=1, save_best_only=True, mode='min')\n",
        "callbacks_list = [checkpoint,history]\n",
        "# fit the model\n",
        "result=model.fit(shuffle['sentence'], type_one_hot, epochs=10, batch_size=6, callbacks=callbacks_list)"
      ],
      "execution_count": 384,
      "outputs": [
        {
          "output_type": "stream",
          "text": [
            "Epoch 1/10\n",
            "509/509 [==============================] - 161s 317ms/step - loss: 0.6098 - accuracy: 0.7040\n",
            "\n",
            "Epoch 00001: loss improved from inf to 0.60978, saving model to weights-improvement-01-0.6098.hdf5\n",
            "Epoch 2/10\n",
            "509/509 [==============================] - 162s 317ms/step - loss: 0.6107 - accuracy: 0.7040\n",
            "\n",
            "Epoch 00002: loss did not improve from 0.60978\n",
            "Epoch 3/10\n",
            "509/509 [==============================] - 161s 316ms/step - loss: 0.6091 - accuracy: 0.7040\n",
            "\n",
            "Epoch 00003: loss improved from 0.60978 to 0.60909, saving model to weights-improvement-03-0.6091.hdf5\n",
            "Epoch 4/10\n",
            "509/509 [==============================] - 162s 319ms/step - loss: 0.6110 - accuracy: 0.7040\n",
            "\n",
            "Epoch 00004: loss did not improve from 0.60909\n",
            "Epoch 5/10\n",
            "509/509 [==============================] - 162s 318ms/step - loss: 0.6088 - accuracy: 0.7040\n",
            "\n",
            "Epoch 00005: loss improved from 0.60909 to 0.60875, saving model to weights-improvement-05-0.6088.hdf5\n",
            "Epoch 6/10\n",
            "509/509 [==============================] - 161s 316ms/step - loss: 0.6102 - accuracy: 0.7040\n",
            "\n",
            "Epoch 00006: loss did not improve from 0.60875\n",
            "Epoch 7/10\n",
            "509/509 [==============================] - 161s 317ms/step - loss: 0.6104 - accuracy: 0.7040\n",
            "\n",
            "Epoch 00007: loss did not improve from 0.60875\n",
            "Epoch 8/10\n",
            "509/509 [==============================] - 162s 319ms/step - loss: 0.6095 - accuracy: 0.7040\n",
            "\n",
            "Epoch 00008: loss did not improve from 0.60875\n",
            "Epoch 9/10\n",
            "509/509 [==============================] - 161s 315ms/step - loss: 0.6088 - accuracy: 0.7040\n",
            "\n",
            "Epoch 00009: loss did not improve from 0.60875\n",
            "Epoch 10/10\n",
            "509/509 [==============================] - 162s 319ms/step - loss: 0.6095 - accuracy: 0.7040\n",
            "\n",
            "Epoch 00010: loss did not improve from 0.60875\n"
          ],
          "name": "stdout"
        }
      ]
    },
    {
      "cell_type": "code",
      "metadata": {
        "colab": {
          "base_uri": "https://localhost:8080/"
        },
        "id": "xcX6xhRfYTOU",
        "outputId": "cfc7abb3-a138-48b2-e7de-e48ac1e02d27"
      },
      "source": [
        "result.history"
      ],
      "execution_count": 385,
      "outputs": [
        {
          "output_type": "execute_result",
          "data": {
            "text/plain": [
              "{'accuracy': [0.7039947509765625,\n",
              "  0.7039947509765625,\n",
              "  0.7039947509765625,\n",
              "  0.7039947509765625,\n",
              "  0.7039947509765625,\n",
              "  0.7039947509765625,\n",
              "  0.7039947509765625,\n",
              "  0.7039947509765625,\n",
              "  0.7039947509765625,\n",
              "  0.7039947509765625],\n",
              " 'loss': [0.6097841262817383,\n",
              "  0.6106885671615601,\n",
              "  0.6090911030769348,\n",
              "  0.6110088229179382,\n",
              "  0.6087533831596375,\n",
              "  0.6101961135864258,\n",
              "  0.6103624701499939,\n",
              "  0.609462559223175,\n",
              "  0.6088404655456543,\n",
              "  0.6094622015953064]}"
            ]
          },
          "metadata": {
            "tags": []
          },
          "execution_count": 385
        }
      ]
    },
    {
      "cell_type": "code",
      "metadata": {
        "colab": {
          "base_uri": "https://localhost:8080/",
          "height": 265
        },
        "id": "XPDntW0XThn0",
        "outputId": "365334d1-ac50-407f-c333-1ff22595ae09"
      },
      "source": [
        "plt.plot(result.history['loss'], label='loss')\n",
        "plt.plot(result.history['accuracy'], label='acc')\n",
        "plt.legend()\n",
        "plt.show()"
      ],
      "execution_count": 386,
      "outputs": [
        {
          "output_type": "display_data",
          "data": {
            "image/png": "[encoded data removed]",
            "text/plain": [
              "<Figure size 432x288 with 1 Axes>"
            ]
          },
          "metadata": {
            "tags": [],
            "needs_background": "light"
          }
        }
      ]
    }
  ]
}