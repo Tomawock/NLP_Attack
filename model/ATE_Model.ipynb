{
  "nbformat": 4,
  "nbformat_minor": 0,
  "metadata": {
    "colab": {
      "name": "ATE_Model.ipynb",
      "provenance": [],
      "collapsed_sections": [],
      "include_colab_link": true
    },
    "kernelspec": {
      "name": "python3",
      "display_name": "Python 3"
    }
  },
  "cells": [
    {
      "cell_type": "markdown",
      "metadata": {
        "id": "view-in-github",
        "colab_type": "text"
      },
      "source": [
        "<a href=\"https://colab.research.google.com/github/Tomawock/NLP_Attack/blob/main/model/ATE_Model.ipynb\" target=\"_parent\"><img src=\"https://colab.research.google.com/assets/colab-badge.svg\" alt=\"Open In Colab\"/></a>"
      ]
    },
    {
      "cell_type": "markdown",
      "metadata": {
        "id": "aRFaXYA3ttqc"
      },
      "source": [
        "### Caricamento Dipendenze "
      ]
    },
    {
      "cell_type": "code",
      "metadata": {
        "colab": {
          "base_uri": "https://localhost:8080/"
        },
        "id": "BDTxZNnpMpha",
        "outputId": "5b40cfad-d0f8-4811-fb99-93bcc2e6c7c3"
      },
      "source": [
        "from google.colab import drive\n",
        "drive.mount('/content/drive')"
      ],
      "execution_count": 1,
      "outputs": [
        {
          "output_type": "stream",
          "text": [
            "Drive already mounted at /content/drive; to attempt to forcibly remount, call drive.mount(\"/content/drive\", force_remount=True).\n"
          ],
          "name": "stdout"
        }
      ]
    },
    {
      "cell_type": "code",
      "metadata": {
        "id": "OXxaHXN1K8Sx"
      },
      "source": [
        "import numpy as np\n",
        "import pandas as pd\n",
        "import pickle"
      ],
      "execution_count": 46,
      "outputs": []
    },
    {
      "cell_type": "code",
      "metadata": {
        "id": "upSUyaySxE36"
      },
      "source": [
        "import tensorflow as tf\n",
        "from tensorflow import keras\n",
        "from sklearn.preprocessing import OneHotEncoder"
      ],
      "execution_count": 3,
      "outputs": []
    },
    {
      "cell_type": "markdown",
      "metadata": {
        "id": "m-BZeFloM9Dq"
      },
      "source": [
        "Load Dataset"
      ]
    },
    {
      "cell_type": "code",
      "metadata": {
        "id": "zJ9Kg6ZBM-7v"
      },
      "source": [
        "test = pd.read_json('/content/drive/Shareddrives/Deep Learning/datasets/ATE_ABSITA/ATE_ABSITA_test_set/ate_absita_gold.ndjson'\n",
        "                       , lines=True)"
      ],
      "execution_count": 4,
      "outputs": []
    },
    {
      "cell_type": "code",
      "metadata": {
        "id": "Mbhv62DrXkvL"
      },
      "source": [
        "train = pd.read_json('/content/drive/Shareddrives/Deep Learning/datasets/ATE_ABSITA/ATE_ABSITA_training_set/ate_absita_training.ndjson'\n",
        "                       , lines=True)"
      ],
      "execution_count": 5,
      "outputs": []
    },
    {
      "cell_type": "code",
      "metadata": {
        "colab": {
          "base_uri": "https://localhost:8080/",
          "height": 143
        },
        "id": "5WY0bqnZXtee",
        "outputId": "fb47dfe3-6317-45ec-d371-ee3c33a8755d"
      },
      "source": [
        "train.head(3)"
      ],
      "execution_count": 6,
      "outputs": [
        {
          "output_type": "execute_result",
          "data": {
            "text/html": [
              "<div>\n",
              "<style scoped>\n",
              "    .dataframe tbody tr th:only-of-type {\n",
              "        vertical-align: middle;\n",
              "    }\n",
              "\n",
              "    .dataframe tbody tr th {\n",
              "        vertical-align: top;\n",
              "    }\n",
              "\n",
              "    .dataframe thead th {\n",
              "        text-align: right;\n",
              "    }\n",
              "</style>\n",
              "<table border=\"1\" class=\"dataframe\">\n",
              "  <thead>\n",
              "    <tr style=\"text-align: right;\">\n",
              "      <th></th>\n",
              "      <th>sentence</th>\n",
              "      <th>id_sentence</th>\n",
              "      <th>score</th>\n",
              "      <th>polarities</th>\n",
              "      <th>aspects_position</th>\n",
              "      <th>aspects</th>\n",
              "    </tr>\n",
              "  </thead>\n",
              "  <tbody>\n",
              "    <tr>\n",
              "      <th>0</th>\n",
              "      <td>Ottimo prodotto di marca, la qualità é veramen...</td>\n",
              "      <td>4b7254a1-3f31-4143-ab22-a8558aa4a73b</td>\n",
              "      <td>5</td>\n",
              "      <td>[[0, 0], [0, 1], [1, 0]]</td>\n",
              "      <td>[[120, 142], [71, 79], [29, 36]]</td>\n",
              "      <td>[provvisto di una tasca, capiente, qualità]</td>\n",
              "    </tr>\n",
              "    <tr>\n",
              "      <th>1</th>\n",
              "      <td>Ottimo rasoio dal semplice utilizzo. Rade molt...</td>\n",
              "      <td>4b74d99d-891f-4526-bbd3-549fa244cd1c</td>\n",
              "      <td>5</td>\n",
              "      <td>[[1, 0], [1, 0], [1, 0], [1, 0]]</td>\n",
              "      <td>[[18, 26], [37, 41], [79, 86], [99, 105]]</td>\n",
              "      <td>[semplice, Rade, Pratico, pulire]</td>\n",
              "    </tr>\n",
              "    <tr>\n",
              "      <th>2</th>\n",
              "      <td>Un quarto delle dimensioni dello Show original...</td>\n",
              "      <td>4b7ff44f-fa9f-4ef0-97c8-e295e70ccc9b</td>\n",
              "      <td>5</td>\n",
              "      <td>[[1, 0], [1, 0], [1, 0], [0, 0]]</td>\n",
              "      <td>[[118, 132], [51, 62], [65, 70], [16, 26]]</td>\n",
              "      <td>[modalità notte, prestazioni, suono, dimensioni]</td>\n",
              "    </tr>\n",
              "  </tbody>\n",
              "</table>\n",
              "</div>"
            ],
            "text/plain": [
              "                                            sentence  ...                                           aspects\n",
              "0  Ottimo prodotto di marca, la qualità é veramen...  ...       [provvisto di una tasca, capiente, qualità]\n",
              "1  Ottimo rasoio dal semplice utilizzo. Rade molt...  ...                 [semplice, Rade, Pratico, pulire]\n",
              "2  Un quarto delle dimensioni dello Show original...  ...  [modalità notte, prestazioni, suono, dimensioni]\n",
              "\n",
              "[3 rows x 6 columns]"
            ]
          },
          "metadata": {
            "tags": []
          },
          "execution_count": 6
        }
      ]
    },
    {
      "cell_type": "code",
      "metadata": {
        "colab": {
          "base_uri": "https://localhost:8080/"
        },
        "id": "-mjOG8VpaeWu",
        "outputId": "e5b2e0d5-c907-4d65-f1ca-2c96f0e23ba5"
      },
      "source": [
        "print(test.columns)\n",
        "print(train.columns)"
      ],
      "execution_count": 7,
      "outputs": [
        {
          "output_type": "stream",
          "text": [
            "Index(['sentence', 'id_sentence', 'score', 'polarities', 'aspects_position',\n",
            "       'aspects'],\n",
            "      dtype='object')\n",
            "Index(['sentence', 'id_sentence', 'score', 'polarities', 'aspects_position',\n",
            "       'aspects'],\n",
            "      dtype='object')\n"
          ],
          "name": "stdout"
        }
      ]
    },
    {
      "cell_type": "code",
      "metadata": {
        "colab": {
          "base_uri": "https://localhost:8080/"
        },
        "id": "fb6duFp6NSsl",
        "outputId": "64ff3d4b-16aa-4aae-dea4-179bede75030"
      },
      "source": [
        "train.drop(columns=['id_sentence','polarities','aspects_position','aspects'], inplace=True)\n",
        "test.drop(columns=['id_sentence','polarities','aspects_position','aspects'], inplace=True)\n",
        "print(f'Contains {len(train)} sentences')\n",
        "print(f'Contains {len(test)} sentences')"
      ],
      "execution_count": 8,
      "outputs": [
        {
          "output_type": "stream",
          "text": [
            "Contains 3054 sentences\n",
            "Contains 1200 sentences\n"
          ],
          "name": "stdout"
        }
      ]
    },
    {
      "cell_type": "markdown",
      "metadata": {
        "id": "5Hju8aFRPUNl"
      },
      "source": [
        "Creazione colonna Positivi/Negativi"
      ]
    },
    {
      "cell_type": "code",
      "metadata": {
        "id": "1nXKH3OhN-Jd"
      },
      "source": [
        "train[\"review_type\"] = train[\"score\"].apply(lambda x: \"neg\" if x < 5 else \"pos\")\n",
        "test[\"review_type\"] = test[\"score\"].apply(lambda x: \"neg\" if x < 5 else \"pos\")"
      ],
      "execution_count": 9,
      "outputs": []
    },
    {
      "cell_type": "code",
      "metadata": {
        "colab": {
          "base_uri": "https://localhost:8080/"
        },
        "id": "1bQI-kjaOLEt",
        "outputId": "4228f51e-85a2-4ce8-afec-d131099442ec"
      },
      "source": [
        "print(f'TRAIN::\\n{train.review_type.value_counts()}')\n",
        "print(f'TEST::\\n{test.review_type.value_counts()}')"
      ],
      "execution_count": 10,
      "outputs": [
        {
          "output_type": "stream",
          "text": [
            "TRAIN::\n",
            "pos    2150\n",
            "neg     904\n",
            "Name: review_type, dtype: int64\n",
            "TEST::\n",
            "pos    857\n",
            "neg    343\n",
            "Name: review_type, dtype: int64\n"
          ],
          "name": "stdout"
        }
      ]
    },
    {
      "cell_type": "markdown",
      "metadata": {
        "id": "F8maG0Wcup5L"
      },
      "source": [
        "Rimozione Colonna Score in quanto non piu significativa per la Sentiment Analysis"
      ]
    },
    {
      "cell_type": "code",
      "metadata": {
        "id": "eEKPlbZKOR2D"
      },
      "source": [
        "train.drop(columns=['score'], inplace=True)\n",
        "test.drop(columns=['score'], inplace=True)"
      ],
      "execution_count": 11,
      "outputs": []
    },
    {
      "cell_type": "code",
      "metadata": {
        "id": "jWOE4X9sGDkA"
      },
      "source": [
        "with open(\"/content/drive/Shareddrives/Deep Learning/datasets/ATE_ABSITA/index2word.pkl\", 'rb') as output:\n",
        "  i2w = pickle.load(output)\n",
        "with open(\"/content/drive/Shareddrives/Deep Learning/datasets/ATE_ABSITA/word2index.pkl\", 'rb') as output:\n",
        "  w2i = pickle.load(output)\n",
        "with open(\"/content/drive/Shareddrives/Deep Learning/datasets/ATE_ABSITA/embedding_matrix.pkl\", 'rb') as output:\n",
        "  embedding_matrix = pickle.load(output)"
      ],
      "execution_count": 12,
      "outputs": []
    },
    {
      "cell_type": "markdown",
      "metadata": {
        "id": "tSXceNfmLsPj"
      },
      "source": [
        "Trasformazione input da frasi a vettori di parole"
      ]
    },
    {
      "cell_type": "code",
      "metadata": {
        "id": "qlsXwlXxKO-6"
      },
      "source": [
        "def my_text_to_word_sequence(sentence):\n",
        "  return keras.preprocessing.text.text_to_word_sequence(sentence,\n",
        "                                                        filters='!\"#$%&()*+,-./:;<=>?@[\\\\]^_`\\'{|}~\\t\\n',\n",
        "                                                        lower=True)\n",
        "\n",
        "sentences = [my_text_to_word_sequence(sentence) for sentence in train['sentence']]"
      ],
      "execution_count": 30,
      "outputs": []
    },
    {
      "cell_type": "markdown",
      "metadata": {
        "id": "4Tt7w0eUPCkx"
      },
      "source": [
        "Trova la frase più lunga"
      ]
    },
    {
      "cell_type": "code",
      "metadata": {
        "id": "ud1amA0ONiKB"
      },
      "source": [
        "max_index, max = (-1, -1)\n",
        "for i, sentence in enumerate(sentences):\n",
        "  max_index, max = (i, len(sentence)) if len(sentence) > max else (max_index, max)"
      ],
      "execution_count": 31,
      "outputs": []
    },
    {
      "cell_type": "markdown",
      "metadata": {
        "id": "P17F0qxvvWnK"
      },
      "source": [
        "### Creazione dataset con word_embedding\n",
        "Padding fino a **`max`** ovvero la dimensione massima delle frasi ottenuto alla creazione dell'array di numpy."
      ]
    },
    {
      "cell_type": "code",
      "metadata": {
        "id": "faTkcVq0Q-Ij"
      },
      "source": [
        "embedded_trainset = np.zeros(shape=(len(sentences), max, 300))\n",
        "for i, sentence in enumerate(sentences):\n",
        "  for j, word in enumerate(sentence):\n",
        "    try:\n",
        "      embedded_trainset[i, j, :] = embedding_matrix[w2i[word]]\n",
        "    except KeyError:\n",
        "      pass"
      ],
      "execution_count": 75,
      "outputs": []
    },
    {
      "cell_type": "code",
      "metadata": {
        "id": "QW6FAgnbabtE"
      },
      "source": [
        "one_hot_train = tf.convert_to_tensor(\n",
        "    OneHotEncoder(sparse=False).fit_transform(\n",
        "        train.review_type.to_numpy().reshape(-1, 1)\n",
        "        )\n",
        "    )\n",
        "\n",
        "one_hot_test = OneHotEncoder(sparse=False).fit_transform(\n",
        "  test.review_type.to_numpy().reshape(-1, 1)\n",
        ")"
      ],
      "execution_count": 77,
      "outputs": []
    },
    {
      "cell_type": "code",
      "metadata": {
        "id": "nxt3Vrs2LZg9",
        "colab": {
          "base_uri": "https://localhost:8080/"
        },
        "outputId": "1d1f6b66-3da4-4be5-97e5-0284a8c27d82"
      },
      "source": [
        "model = keras.Sequential()\n",
        "model.add(keras.layers.Input(shape=(max, 300)))\n",
        "model.add(keras.layers.LSTM(64, recurrent_dropout=0.2))  # keras.layers.GRU prova\n",
        "model.add(keras.layers.Dense(2, activation='softmax'))\n",
        "model.compile(loss='categorical_crossentropy', optimizer=keras.optimizers.Adam(0.001), metrics=['accuracy'])\n",
        "model.summary()"
      ],
      "execution_count": 79,
      "outputs": [
        {
          "output_type": "stream",
          "text": [
            "Model: \"sequential_1\"\n",
            "_________________________________________________________________\n",
            "Layer (type)                 Output Shape              Param #   \n",
            "=================================================================\n",
            "lstm_1 (LSTM)                (None, 64)                93440     \n",
            "_________________________________________________________________\n",
            "dropout_1 (Dropout)          (None, 64)                0         \n",
            "_________________________________________________________________\n",
            "dense_1 (Dense)              (None, 2)                 130       \n",
            "=================================================================\n",
            "Total params: 93,570\n",
            "Trainable params: 93,570\n",
            "Non-trainable params: 0\n",
            "_________________________________________________________________\n"
          ],
          "name": "stdout"
        }
      ]
    },
    {
      "cell_type": "markdown",
      "metadata": {
        "id": "RQEP7Za6w84_"
      },
      "source": [
        "Trasformazione **y** in tensore, in modo tale da trasformare pos in [0,1] e neg in [1,0]"
      ]
    },
    {
      "cell_type": "code",
      "metadata": {
        "id": "U0Z8HN44LybB",
        "colab": {
          "base_uri": "https://localhost:8080/"
        },
        "outputId": "e07f3831-e3e0-4d4a-99da-9c287ae30dc8"
      },
      "source": [
        "result = model.fit(embedded_trainset, one_hot_train, epochs=2, batch_size=25)"
      ],
      "execution_count": 91,
      "outputs": [
        {
          "output_type": "stream",
          "text": [
            "Epoch 1/2\n",
            "123/123 [==============================] - 7s 58ms/step - loss: 0.6078 - accuracy: 0.7046\n",
            "Epoch 2/2\n",
            "123/123 [==============================] - 7s 61ms/step - loss: 0.6075 - accuracy: 0.7046\n"
          ],
          "name": "stdout"
        }
      ]
    },
    {
      "cell_type": "markdown",
      "metadata": {
        "id": "2b4RdBj4ZLoH"
      },
      "source": [
        "# OTTIMIZZAZIONE CON OPTUNA"
      ]
    },
    {
      "cell_type": "code",
      "metadata": {
        "id": "ktY7eHXzZPYe"
      },
      "source": [
        "%pip install optuna"
      ],
      "execution_count": null,
      "outputs": []
    },
    {
      "cell_type": "code",
      "metadata": {
        "id": "poNeE0cfZbqr"
      },
      "source": [
        "import optuna"
      ],
      "execution_count": 89,
      "outputs": []
    },
    {
      "cell_type": "code",
      "metadata": {
        "id": "5JEM_d5RZYRS",
        "outputId": "07b8b008-598b-4b17-d66c-f7ae49d27033",
        "colab": {
          "base_uri": "https://localhost:8080/"
        }
      },
      "source": [
        "def objective(trial):\n",
        "  activation = trial.suggest_categorical('activation', ['tanh', 'relu', 'gelu'])\n",
        "  units = trial.suggest_int('units', 16, 128)\n",
        "  recurrent_dropout = trial.suggest_loguniform('dropout', 0.01, 0.6)\n",
        "\n",
        "  model = keras.Sequential()\n",
        "  model.add(keras.layers.Input(shape=(max, 300)))\n",
        "  model.add(keras.layers.LSTM(units=units,\n",
        "                              recurrent_dropout=recurrent_dropout,\n",
        "                              activation=activation))\n",
        "  model.add(keras.layers.Dense(2, activation='softmax'))\n",
        "  model.compile(loss='categorical_crossentropy',\n",
        "                optimizer=keras.optimizers.Adam(0.001),\n",
        "                metrics=['accuracy'])\n",
        "  \n",
        "  batch_size = trial.suggest_int('batch_size', 15, 30)\n",
        "  result = model.fit(embedded_trainset,\n",
        "                     one_hot_train,\n",
        "                     epochs=3,\n",
        "                     batch_size=batch_size)\n",
        "\n",
        "  return model.evaluate(embedded_trainset, one_hot_train)[1]\n",
        "    \n",
        "\n",
        "study = optuna.create_study(direction='maximize')\n",
        "study.optimize(objective, n_trials=10)"
      ],
      "execution_count": 105,
      "outputs": [
        {
          "output_type": "stream",
          "text": [
            "\u001b[32m[I 2021-01-13 16:25:14,059]\u001b[0m A new study created in memory with name: no-name-84e6a40a-2515-43d6-8b45-772ed20ad686\u001b[0m\n"
          ],
          "name": "stderr"
        },
        {
          "output_type": "stream",
          "text": [
            "Epoch 1/3\n",
            "161/161 [==============================] - 18s 102ms/step - loss: 0.6222 - accuracy: 0.7117\n",
            "Epoch 2/3\n",
            "161/161 [==============================] - 16s 100ms/step - loss: 0.6141 - accuracy: 0.6857\n",
            "Epoch 3/3\n",
            "161/161 [==============================] - 16s 99ms/step - loss: 0.5953 - accuracy: 0.6975\n",
            "96/96 [==============================] - 3s 25ms/step - loss: 0.5529 - accuracy: 0.7227\n"
          ],
          "name": "stdout"
        },
        {
          "output_type": "stream",
          "text": [
            "\u001b[32m[I 2021-01-13 16:26:07,780]\u001b[0m Trial 0 finished with value: 0.7226588129997253 and parameters: {'activation': 'tanh', 'units': 51, 'dropout': 0.08751506797836402, 'batch_size': 19}. Best is trial 0 with value: 0.7226588129997253.\u001b[0m\n"
          ],
          "name": "stderr"
        },
        {
          "output_type": "stream",
          "text": [
            "Epoch 1/3\n",
            "204/204 [==============================] - 47s 216ms/step - loss: 0.6457 - accuracy: 0.6813\n",
            "Epoch 2/3\n",
            "204/204 [==============================] - 44s 217ms/step - loss: 0.6113 - accuracy: 0.7085\n",
            "Epoch 3/3\n",
            "204/204 [==============================] - 45s 219ms/step - loss: 0.6039 - accuracy: 0.7091\n",
            "96/96 [==============================] - 5s 49ms/step - loss: 0.6070 - accuracy: 0.7043\n"
          ],
          "name": "stdout"
        },
        {
          "output_type": "stream",
          "text": [
            "\u001b[32m[I 2021-01-13 16:28:28,942]\u001b[0m Trial 1 finished with value: 0.7043222188949585 and parameters: {'activation': 'gelu', 'units': 123, 'dropout': 0.015530785666453497, 'batch_size': 15}. Best is trial 0 with value: 0.7226588129997253.\u001b[0m\n"
          ],
          "name": "stderr"
        },
        {
          "output_type": "stream",
          "text": [
            "Epoch 1/3\n",
            "128/128 [==============================] - 18s 117ms/step - loss: 539980.1762 - accuracy: 0.6804\n",
            "Epoch 2/3\n",
            "128/128 [==============================] - 15s 118ms/step - loss: 0.7811 - accuracy: 0.6908\n",
            "Epoch 3/3\n",
            "128/128 [==============================] - 15s 117ms/step - loss: 0.5842 - accuracy: 0.7233\n",
            "96/96 [==============================] - 3s 27ms/step - loss: 0.6007 - accuracy: 0.7040\n"
          ],
          "name": "stdout"
        },
        {
          "output_type": "stream",
          "text": [
            "\u001b[32m[I 2021-01-13 16:29:19,987]\u001b[0m Trial 2 finished with value: 0.7039947509765625 and parameters: {'activation': 'relu', 'units': 59, 'dropout': 0.0755109581006007, 'batch_size': 24}. Best is trial 0 with value: 0.7226588129997253.\u001b[0m\n"
          ],
          "name": "stderr"
        },
        {
          "output_type": "stream",
          "text": [
            "Epoch 1/3\n",
            "180/180 [==============================] - 28s 142ms/step - loss: 0.6432 - accuracy: 0.6742\n",
            "Epoch 2/3\n",
            "180/180 [==============================] - 25s 141ms/step - loss: 0.6163 - accuracy: 0.6947\n",
            "Epoch 3/3\n",
            "180/180 [==============================] - 26s 142ms/step - loss: 0.6160 - accuracy: 0.7072\n",
            "96/96 [==============================] - 4s 33ms/step - loss: 0.6072 - accuracy: 0.7043\n"
          ],
          "name": "stdout"
        },
        {
          "output_type": "stream",
          "text": [
            "\u001b[32m[I 2021-01-13 16:30:43,703]\u001b[0m Trial 3 finished with value: 0.7043222188949585 and parameters: {'activation': 'gelu', 'units': 74, 'dropout': 0.47331919007319084, 'batch_size': 17}. Best is trial 0 with value: 0.7226588129997253.\u001b[0m\n"
          ],
          "name": "stderr"
        },
        {
          "output_type": "stream",
          "text": [
            "Epoch 1/3\n",
            "153/153 [==============================] - 20s 120ms/step - loss: 0.6451 - accuracy: 0.7003\n",
            "Epoch 2/3\n",
            "153/153 [==============================] - 18s 120ms/step - loss: 0.6078 - accuracy: 0.7028\n",
            "Epoch 3/3\n",
            "153/153 [==============================] - 18s 121ms/step - loss: 0.6067 - accuracy: 0.7076\n",
            "96/96 [==============================] - 3s 30ms/step - loss: 0.6099 - accuracy: 0.7040\n"
          ],
          "name": "stdout"
        },
        {
          "output_type": "stream",
          "text": [
            "\u001b[32m[I 2021-01-13 16:31:44,586]\u001b[0m Trial 4 finished with value: 0.7039947509765625 and parameters: {'activation': 'relu', 'units': 65, 'dropout': 0.41040627415947867, 'batch_size': 20}. Best is trial 0 with value: 0.7226588129997253.\u001b[0m\n"
          ],
          "name": "stderr"
        },
        {
          "output_type": "stream",
          "text": [
            "Epoch 1/3\n",
            "128/128 [==============================] - 22s 153ms/step - loss: 0.6506 - accuracy: 0.6957\n",
            "Epoch 2/3\n",
            "128/128 [==============================] - 20s 156ms/step - loss: 0.5844 - accuracy: 0.7263\n",
            "Epoch 3/3\n",
            "128/128 [==============================] - 20s 156ms/step - loss: 0.6134 - accuracy: 0.6943\n",
            "96/96 [==============================] - 4s 34ms/step - loss: 0.6163 - accuracy: 0.7043\n"
          ],
          "name": "stdout"
        },
        {
          "output_type": "stream",
          "text": [
            "\u001b[32m[I 2021-01-13 16:32:51,576]\u001b[0m Trial 5 finished with value: 0.7043222188949585 and parameters: {'activation': 'gelu', 'units': 75, 'dropout': 0.23175903376260182, 'batch_size': 24}. Best is trial 0 with value: 0.7226588129997253.\u001b[0m\n"
          ],
          "name": "stderr"
        },
        {
          "output_type": "stream",
          "text": [
            "Epoch 1/3\n",
            "204/204 [==============================] - 32s 143ms/step - loss: 0.6308 - accuracy: 0.6960\n",
            "Epoch 2/3\n",
            "204/204 [==============================] - 29s 141ms/step - loss: 0.6121 - accuracy: 0.6915\n",
            "Epoch 3/3\n",
            "204/204 [==============================] - 29s 142ms/step - loss: 0.6113 - accuracy: 0.6970\n",
            "96/96 [==============================] - 4s 37ms/step - loss: 0.5642 - accuracy: 0.7053\n"
          ],
          "name": "stdout"
        },
        {
          "output_type": "stream",
          "text": [
            "\u001b[32m[I 2021-01-13 16:34:26,286]\u001b[0m Trial 6 finished with value: 0.7053045034408569 and parameters: {'activation': 'tanh', 'units': 87, 'dropout': 0.3027156180267345, 'batch_size': 15}. Best is trial 0 with value: 0.7226588129997253.\u001b[0m\n"
          ],
          "name": "stderr"
        },
        {
          "output_type": "stream",
          "text": [
            "Epoch 1/3\n",
            "170/170 [==============================] - 38s 206ms/step - loss: 9241364.2348 - accuracy: 0.6924\n",
            "Epoch 2/3\n",
            "170/170 [==============================] - 36s 211ms/step - loss: 0.6192 - accuracy: 0.6967\n",
            "Epoch 3/3\n",
            "170/170 [==============================] - 35s 205ms/step - loss: 0.5982 - accuracy: 0.7171\n",
            "96/96 [==============================] - 5s 44ms/step - loss: 0.6076 - accuracy: 0.7040\n"
          ],
          "name": "stdout"
        },
        {
          "output_type": "stream",
          "text": [
            "\u001b[32m[I 2021-01-13 16:36:19,685]\u001b[0m Trial 7 finished with value: 0.7039947509765625 and parameters: {'activation': 'gelu', 'units': 110, 'dropout': 0.010573590926485188, 'batch_size': 18}. Best is trial 0 with value: 0.7226588129997253.\u001b[0m\n"
          ],
          "name": "stderr"
        },
        {
          "output_type": "stream",
          "text": [
            "Epoch 1/3\n",
            "146/146 [==============================] - 23s 146ms/step - loss: 0.6245 - accuracy: 0.7009\n",
            "Epoch 2/3\n",
            "146/146 [==============================] - 22s 148ms/step - loss: 0.5758 - accuracy: 0.7195\n",
            "Epoch 3/3\n",
            "146/146 [==============================] - 21s 146ms/step - loss: 0.5703 - accuracy: 0.7095\n",
            "96/96 [==============================] - 4s 36ms/step - loss: 0.5777 - accuracy: 0.7246\n"
          ],
          "name": "stdout"
        },
        {
          "output_type": "stream",
          "text": [
            "\u001b[32m[I 2021-01-13 16:37:30,090]\u001b[0m Trial 8 finished with value: 0.724623441696167 and parameters: {'activation': 'tanh', 'units': 81, 'dropout': 0.015427537558951116, 'batch_size': 21}. Best is trial 8 with value: 0.724623441696167.\u001b[0m\n"
          ],
          "name": "stderr"
        },
        {
          "output_type": "stream",
          "text": [
            "Epoch 1/3\n",
            "133/133 [==============================] - 21s 139ms/step - loss: 125.9286 - accuracy: 0.6982\n",
            "Epoch 2/3\n",
            "133/133 [==============================] - 19s 139ms/step - loss: 0.6096 - accuracy: 0.7037\n",
            "Epoch 3/3\n",
            "133/133 [==============================] - 19s 141ms/step - loss: 0.6051 - accuracy: 0.7074\n",
            "96/96 [==============================] - 4s 34ms/step - loss: 0.6063 - accuracy: 0.7040\n"
          ],
          "name": "stdout"
        },
        {
          "output_type": "stream",
          "text": [
            "\u001b[32m[I 2021-01-13 16:38:32,356]\u001b[0m Trial 9 finished with value: 0.7039947509765625 and parameters: {'activation': 'relu', 'units': 77, 'dropout': 0.23354444953984307, 'batch_size': 23}. Best is trial 8 with value: 0.724623441696167.\u001b[0m\n"
          ],
          "name": "stderr"
        }
      ]
    },
    {
      "cell_type": "code",
      "metadata": {
        "id": "r_PlXMj2nm0M",
        "outputId": "91b3f4be-0afd-455e-bba6-b943868b7341",
        "colab": {
          "base_uri": "https://localhost:8080/",
          "height": 363
        }
      },
      "source": [
        "study.trials_dataframe()"
      ],
      "execution_count": 106,
      "outputs": [
        {
          "output_type": "execute_result",
          "data": {
            "text/html": [
              "<div>\n",
              "<style scoped>\n",
              "    .dataframe tbody tr th:only-of-type {\n",
              "        vertical-align: middle;\n",
              "    }\n",
              "\n",
              "    .dataframe tbody tr th {\n",
              "        vertical-align: top;\n",
              "    }\n",
              "\n",
              "    .dataframe thead th {\n",
              "        text-align: right;\n",
              "    }\n",
              "</style>\n",
              "<table border=\"1\" class=\"dataframe\">\n",
              "  <thead>\n",
              "    <tr style=\"text-align: right;\">\n",
              "      <th></th>\n",
              "      <th>number</th>\n",
              "      <th>value</th>\n",
              "      <th>datetime_start</th>\n",
              "      <th>datetime_complete</th>\n",
              "      <th>duration</th>\n",
              "      <th>params_activation</th>\n",
              "      <th>params_batch_size</th>\n",
              "      <th>params_dropout</th>\n",
              "      <th>params_units</th>\n",
              "      <th>state</th>\n",
              "    </tr>\n",
              "  </thead>\n",
              "  <tbody>\n",
              "    <tr>\n",
              "      <th>0</th>\n",
              "      <td>0</td>\n",
              "      <td>0.722659</td>\n",
              "      <td>2021-01-13 16:25:14.061932</td>\n",
              "      <td>2021-01-13 16:26:07.779440</td>\n",
              "      <td>0 days 00:00:53.717508</td>\n",
              "      <td>tanh</td>\n",
              "      <td>19</td>\n",
              "      <td>0.087515</td>\n",
              "      <td>51</td>\n",
              "      <td>COMPLETE</td>\n",
              "    </tr>\n",
              "    <tr>\n",
              "      <th>1</th>\n",
              "      <td>1</td>\n",
              "      <td>0.704322</td>\n",
              "      <td>2021-01-13 16:26:07.783397</td>\n",
              "      <td>2021-01-13 16:28:28.941359</td>\n",
              "      <td>0 days 00:02:21.157962</td>\n",
              "      <td>gelu</td>\n",
              "      <td>15</td>\n",
              "      <td>0.015531</td>\n",
              "      <td>123</td>\n",
              "      <td>COMPLETE</td>\n",
              "    </tr>\n",
              "    <tr>\n",
              "      <th>2</th>\n",
              "      <td>2</td>\n",
              "      <td>0.703995</td>\n",
              "      <td>2021-01-13 16:28:28.945965</td>\n",
              "      <td>2021-01-13 16:29:19.986591</td>\n",
              "      <td>0 days 00:00:51.040626</td>\n",
              "      <td>relu</td>\n",
              "      <td>24</td>\n",
              "      <td>0.075511</td>\n",
              "      <td>59</td>\n",
              "      <td>COMPLETE</td>\n",
              "    </tr>\n",
              "    <tr>\n",
              "      <th>3</th>\n",
              "      <td>3</td>\n",
              "      <td>0.704322</td>\n",
              "      <td>2021-01-13 16:29:19.988992</td>\n",
              "      <td>2021-01-13 16:30:43.702408</td>\n",
              "      <td>0 days 00:01:23.713416</td>\n",
              "      <td>gelu</td>\n",
              "      <td>17</td>\n",
              "      <td>0.473319</td>\n",
              "      <td>74</td>\n",
              "      <td>COMPLETE</td>\n",
              "    </tr>\n",
              "    <tr>\n",
              "      <th>4</th>\n",
              "      <td>4</td>\n",
              "      <td>0.703995</td>\n",
              "      <td>2021-01-13 16:30:43.704747</td>\n",
              "      <td>2021-01-13 16:31:44.586067</td>\n",
              "      <td>0 days 00:01:00.881320</td>\n",
              "      <td>relu</td>\n",
              "      <td>20</td>\n",
              "      <td>0.410406</td>\n",
              "      <td>65</td>\n",
              "      <td>COMPLETE</td>\n",
              "    </tr>\n",
              "    <tr>\n",
              "      <th>5</th>\n",
              "      <td>5</td>\n",
              "      <td>0.704322</td>\n",
              "      <td>2021-01-13 16:31:44.587590</td>\n",
              "      <td>2021-01-13 16:32:51.576430</td>\n",
              "      <td>0 days 00:01:06.988840</td>\n",
              "      <td>gelu</td>\n",
              "      <td>24</td>\n",
              "      <td>0.231759</td>\n",
              "      <td>75</td>\n",
              "      <td>COMPLETE</td>\n",
              "    </tr>\n",
              "    <tr>\n",
              "      <th>6</th>\n",
              "      <td>6</td>\n",
              "      <td>0.705305</td>\n",
              "      <td>2021-01-13 16:32:51.578225</td>\n",
              "      <td>2021-01-13 16:34:26.285645</td>\n",
              "      <td>0 days 00:01:34.707420</td>\n",
              "      <td>tanh</td>\n",
              "      <td>15</td>\n",
              "      <td>0.302716</td>\n",
              "      <td>87</td>\n",
              "      <td>COMPLETE</td>\n",
              "    </tr>\n",
              "    <tr>\n",
              "      <th>7</th>\n",
              "      <td>7</td>\n",
              "      <td>0.703995</td>\n",
              "      <td>2021-01-13 16:34:26.288411</td>\n",
              "      <td>2021-01-13 16:36:19.684599</td>\n",
              "      <td>0 days 00:01:53.396188</td>\n",
              "      <td>gelu</td>\n",
              "      <td>18</td>\n",
              "      <td>0.010574</td>\n",
              "      <td>110</td>\n",
              "      <td>COMPLETE</td>\n",
              "    </tr>\n",
              "    <tr>\n",
              "      <th>8</th>\n",
              "      <td>8</td>\n",
              "      <td>0.724623</td>\n",
              "      <td>2021-01-13 16:36:19.688357</td>\n",
              "      <td>2021-01-13 16:37:30.089831</td>\n",
              "      <td>0 days 00:01:10.401474</td>\n",
              "      <td>tanh</td>\n",
              "      <td>21</td>\n",
              "      <td>0.015428</td>\n",
              "      <td>81</td>\n",
              "      <td>COMPLETE</td>\n",
              "    </tr>\n",
              "    <tr>\n",
              "      <th>9</th>\n",
              "      <td>9</td>\n",
              "      <td>0.703995</td>\n",
              "      <td>2021-01-13 16:37:30.092060</td>\n",
              "      <td>2021-01-13 16:38:32.355072</td>\n",
              "      <td>0 days 00:01:02.263012</td>\n",
              "      <td>relu</td>\n",
              "      <td>23</td>\n",
              "      <td>0.233544</td>\n",
              "      <td>77</td>\n",
              "      <td>COMPLETE</td>\n",
              "    </tr>\n",
              "  </tbody>\n",
              "</table>\n",
              "</div>"
            ],
            "text/plain": [
              "   number     value  ... params_units     state\n",
              "0       0  0.722659  ...           51  COMPLETE\n",
              "1       1  0.704322  ...          123  COMPLETE\n",
              "2       2  0.703995  ...           59  COMPLETE\n",
              "3       3  0.704322  ...           74  COMPLETE\n",
              "4       4  0.703995  ...           65  COMPLETE\n",
              "5       5  0.704322  ...           75  COMPLETE\n",
              "6       6  0.705305  ...           87  COMPLETE\n",
              "7       7  0.703995  ...          110  COMPLETE\n",
              "8       8  0.724623  ...           81  COMPLETE\n",
              "9       9  0.703995  ...           77  COMPLETE\n",
              "\n",
              "[10 rows x 10 columns]"
            ]
          },
          "metadata": {
            "tags": []
          },
          "execution_count": 106
        }
      ]
    }
  ]
}