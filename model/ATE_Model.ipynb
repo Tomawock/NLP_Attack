{
  "nbformat": 4,
  "nbformat_minor": 0,
  "metadata": {
    "colab": {
      "name": "ATE_Model.ipynb",
      "provenance": [],
      "collapsed_sections": [],
      "include_colab_link": true
    },
    "kernelspec": {
      "name": "python3",
      "display_name": "Python 3"
    }
  },
  "cells": [
    {
      "cell_type": "markdown",
      "metadata": {
        "id": "view-in-github",
        "colab_type": "text"
      },
      "source": [
        "<a href=\"https://colab.research.google.com/github/Tomawock/NLP_Attack/blob/main/model/ATE_Model.ipynb\" target=\"_parent\"><img src=\"https://colab.research.google.com/assets/colab-badge.svg\" alt=\"Open In Colab\"/></a>"
      ]
    },
    {
      "cell_type": "markdown",
      "metadata": {
        "id": "aRFaXYA3ttqc"
      },
      "source": [
        "### Caricamento Dipendenze "
      ]
    },
    {
      "cell_type": "code",
      "metadata": {
        "colab": {
          "base_uri": "https://localhost:8080/"
        },
        "id": "BDTxZNnpMpha",
        "outputId": "2c9d8e20-faba-427d-9a87-3cf547be29d8"
      },
      "source": [
        "from google.colab import drive\n",
        "drive.mount('/content/drive')"
      ],
      "execution_count": 55,
      "outputs": [
        {
          "output_type": "stream",
          "text": [
            "Drive already mounted at /content/drive; to attempt to forcibly remount, call drive.mount(\"/content/drive\", force_remount=True).\n"
          ],
          "name": "stdout"
        }
      ]
    },
    {
      "cell_type": "code",
      "metadata": {
        "id": "OXxaHXN1K8Sx"
      },
      "source": [
        "import numpy\n",
        "import pandas as pd\n",
        "import matplotlib.pyplot as plt"
      ],
      "execution_count": 56,
      "outputs": []
    },
    {
      "cell_type": "code",
      "metadata": {
        "id": "CKn9LFuuw_8m",
        "outputId": "b35ffa47-3f7f-486a-d5da-8f56574565e4",
        "colab": {
          "base_uri": "https://localhost:8080/"
        }
      },
      "source": [
        "import nltk\n",
        "from nltk.tokenize import word_tokenize\n",
        "import numpy as np\n",
        "from tensorflow.keras.preprocessing.sequence import pad_sequences\n",
        "nltk.download('punkt')"
      ],
      "execution_count": 57,
      "outputs": [
        {
          "output_type": "stream",
          "text": [
            "[nltk_data] Downloading package punkt to /root/nltk_data...\n",
            "[nltk_data]   Package punkt is already up-to-date!\n"
          ],
          "name": "stdout"
        },
        {
          "output_type": "execute_result",
          "data": {
            "text/plain": [
              "True"
            ]
          },
          "metadata": {
            "tags": []
          },
          "execution_count": 57
        }
      ]
    },
    {
      "cell_type": "code",
      "metadata": {
        "id": "upSUyaySxE36"
      },
      "source": [
        "import tensorflow as tf\n",
        "from tensorflow import keras\n",
        "from sklearn.model_selection import train_test_split\n",
        "from sklearn.preprocessing import OneHotEncoder"
      ],
      "execution_count": 58,
      "outputs": []
    },
    {
      "cell_type": "markdown",
      "metadata": {
        "id": "m-BZeFloM9Dq"
      },
      "source": [
        "Load Dataset"
      ]
    },
    {
      "cell_type": "code",
      "metadata": {
        "id": "zJ9Kg6ZBM-7v"
      },
      "source": [
        "test = pd.read_json('/content/drive/Shareddrives/Deep Learning/datasets/ATE_ABSITA/ATE_ABSITA_test_set/ate_absita_gold.ndjson'\n",
        "                       , lines=True)"
      ],
      "execution_count": 59,
      "outputs": []
    },
    {
      "cell_type": "code",
      "metadata": {
        "id": "Mbhv62DrXkvL"
      },
      "source": [
        "train = pd.read_json('/content/drive/Shareddrives/Deep Learning/datasets/ATE_ABSITA/ATE_ABSITA_training_set/ate_absita_training.ndjson'\n",
        "                       , lines=True)"
      ],
      "execution_count": 60,
      "outputs": []
    },
    {
      "cell_type": "code",
      "metadata": {
        "colab": {
          "base_uri": "https://localhost:8080/",
          "height": 144
        },
        "id": "5WY0bqnZXtee",
        "outputId": "1a0b1867-55cf-4a1e-e9d0-8b1091ee272d"
      },
      "source": [
        "train.head(3)"
      ],
      "execution_count": 61,
      "outputs": [
        {
          "output_type": "execute_result",
          "data": {
            "text/html": [
              "<div>\n",
              "<style scoped>\n",
              "    .dataframe tbody tr th:only-of-type {\n",
              "        vertical-align: middle;\n",
              "    }\n",
              "\n",
              "    .dataframe tbody tr th {\n",
              "        vertical-align: top;\n",
              "    }\n",
              "\n",
              "    .dataframe thead th {\n",
              "        text-align: right;\n",
              "    }\n",
              "</style>\n",
              "<table border=\"1\" class=\"dataframe\">\n",
              "  <thead>\n",
              "    <tr style=\"text-align: right;\">\n",
              "      <th></th>\n",
              "      <th>sentence</th>\n",
              "      <th>id_sentence</th>\n",
              "      <th>score</th>\n",
              "      <th>polarities</th>\n",
              "      <th>aspects_position</th>\n",
              "      <th>aspects</th>\n",
              "    </tr>\n",
              "  </thead>\n",
              "  <tbody>\n",
              "    <tr>\n",
              "      <th>0</th>\n",
              "      <td>Ottimo prodotto di marca, la qualità é veramen...</td>\n",
              "      <td>4b7254a1-3f31-4143-ab22-a8558aa4a73b</td>\n",
              "      <td>5</td>\n",
              "      <td>[[0, 0], [0, 1], [1, 0]]</td>\n",
              "      <td>[[120, 142], [71, 79], [29, 36]]</td>\n",
              "      <td>[provvisto di una tasca, capiente, qualità]</td>\n",
              "    </tr>\n",
              "    <tr>\n",
              "      <th>1</th>\n",
              "      <td>Ottimo rasoio dal semplice utilizzo. Rade molt...</td>\n",
              "      <td>4b74d99d-891f-4526-bbd3-549fa244cd1c</td>\n",
              "      <td>5</td>\n",
              "      <td>[[1, 0], [1, 0], [1, 0], [1, 0]]</td>\n",
              "      <td>[[18, 26], [37, 41], [79, 86], [99, 105]]</td>\n",
              "      <td>[semplice, Rade, Pratico, pulire]</td>\n",
              "    </tr>\n",
              "    <tr>\n",
              "      <th>2</th>\n",
              "      <td>Un quarto delle dimensioni dello Show original...</td>\n",
              "      <td>4b7ff44f-fa9f-4ef0-97c8-e295e70ccc9b</td>\n",
              "      <td>5</td>\n",
              "      <td>[[1, 0], [1, 0], [1, 0], [0, 0]]</td>\n",
              "      <td>[[118, 132], [51, 62], [65, 70], [16, 26]]</td>\n",
              "      <td>[modalità notte, prestazioni, suono, dimensioni]</td>\n",
              "    </tr>\n",
              "  </tbody>\n",
              "</table>\n",
              "</div>"
            ],
            "text/plain": [
              "                                            sentence  ...                                           aspects\n",
              "0  Ottimo prodotto di marca, la qualità é veramen...  ...       [provvisto di una tasca, capiente, qualità]\n",
              "1  Ottimo rasoio dal semplice utilizzo. Rade molt...  ...                 [semplice, Rade, Pratico, pulire]\n",
              "2  Un quarto delle dimensioni dello Show original...  ...  [modalità notte, prestazioni, suono, dimensioni]\n",
              "\n",
              "[3 rows x 6 columns]"
            ]
          },
          "metadata": {
            "tags": []
          },
          "execution_count": 61
        }
      ]
    },
    {
      "cell_type": "code",
      "metadata": {
        "colab": {
          "base_uri": "https://localhost:8080/"
        },
        "id": "-mjOG8VpaeWu",
        "outputId": "26ce9792-8a33-47e9-d2d5-53b9f309dbc2"
      },
      "source": [
        "print(test.columns)\n",
        "print(train.columns)"
      ],
      "execution_count": 62,
      "outputs": [
        {
          "output_type": "stream",
          "text": [
            "Index(['sentence', 'id_sentence', 'score', 'polarities', 'aspects_position',\n",
            "       'aspects'],\n",
            "      dtype='object')\n",
            "Index(['sentence', 'id_sentence', 'score', 'polarities', 'aspects_position',\n",
            "       'aspects'],\n",
            "      dtype='object')\n"
          ],
          "name": "stdout"
        }
      ]
    },
    {
      "cell_type": "code",
      "metadata": {
        "colab": {
          "base_uri": "https://localhost:8080/"
        },
        "id": "fb6duFp6NSsl",
        "outputId": "78d160e9-693f-4925-8c44-9d7d5a8e4ee5"
      },
      "source": [
        "train.drop(columns=['id_sentence','polarities','aspects_position','aspects'], inplace=True)\n",
        "test.drop(columns=['id_sentence','polarities','aspects_position','aspects'], inplace=True)\n",
        "print(f'Contains {len(train)} sentences')\n",
        "print(f'Contains {len(test)} sentences')"
      ],
      "execution_count": 63,
      "outputs": [
        {
          "output_type": "stream",
          "text": [
            "Contains 3054 sentences\n",
            "Contains 1200 sentences\n"
          ],
          "name": "stdout"
        }
      ]
    },
    {
      "cell_type": "markdown",
      "metadata": {
        "id": "5Hju8aFRPUNl"
      },
      "source": [
        "Creazione colonna Positivi/Negativi"
      ]
    },
    {
      "cell_type": "code",
      "metadata": {
        "id": "1nXKH3OhN-Jd"
      },
      "source": [
        "train[\"review_type\"] = train[\"score\"].apply(lambda x: \"neg\" if x < 5 else \"pos\")\n",
        "test[\"review_type\"] = test[\"score\"].apply(lambda x: \"neg\" if x < 5 else \"pos\")"
      ],
      "execution_count": 64,
      "outputs": []
    },
    {
      "cell_type": "code",
      "metadata": {
        "colab": {
          "base_uri": "https://localhost:8080/"
        },
        "id": "1bQI-kjaOLEt",
        "outputId": "7b0ae2d8-6e0d-4e79-f3f0-bab38ad2bd2a"
      },
      "source": [
        "print(f'TRAIN::\\n{train.review_type.value_counts()}')\n",
        "print(f'TEST::\\n{test.review_type.value_counts()}')"
      ],
      "execution_count": 65,
      "outputs": [
        {
          "output_type": "stream",
          "text": [
            "TRAIN::\n",
            "pos    2150\n",
            "neg     904\n",
            "Name: review_type, dtype: int64\n",
            "TEST::\n",
            "pos    857\n",
            "neg    343\n",
            "Name: review_type, dtype: int64\n"
          ],
          "name": "stdout"
        }
      ]
    },
    {
      "cell_type": "markdown",
      "metadata": {
        "id": "F8maG0Wcup5L"
      },
      "source": [
        "Rimozione Colonna Score in quanto non piu significativa per la Sentiment Analysis"
      ]
    },
    {
      "cell_type": "code",
      "metadata": {
        "id": "eEKPlbZKOR2D"
      },
      "source": [
        "train.drop(columns=['score'], inplace=True)\n",
        "test.drop(columns=['score'], inplace=True)"
      ],
      "execution_count": 66,
      "outputs": []
    },
    {
      "cell_type": "markdown",
      "metadata": {
        "id": "tSXceNfmLsPj"
      },
      "source": [
        "**OPZIONALE** Shuffled datset for improving the learning since negative entries are lower than positive"
      ]
    },
    {
      "cell_type": "code",
      "metadata": {
        "id": "YJauy2I6K4XQ"
      },
      "source": [
        "shuffle=train.sample(frac=1)"
      ],
      "execution_count": 67,
      "outputs": []
    },
    {
      "cell_type": "markdown",
      "metadata": {
        "id": "LTcPohmGvp5h"
      },
      "source": [
        "Tokenizzazione della stringa con rimozione caratteri speciali<br>\n",
        "**num_words** Numero di parole distinguibili tutte in minuscolo, ovvero la dimensione del dizionario (parola -> numero)\n"
      ]
    },
    {
      "cell_type": "code",
      "metadata": {
        "id": "CCVm1ywVpT5S",
        "colab": {
          "base_uri": "https://localhost:8080/"
        },
        "outputId": "293b7f89-ab81-4616-e146-2062461c3dee"
      },
      "source": [
        "tokenizer = tf.keras.preprocessing.text.Tokenizer(num_words=8000, \n",
        "                                                  filters='!\"#$%&()*+,-./:;<=>?@[\\]^_`{|}~',\n",
        "                                                  lower=True)\n",
        "\n",
        "tokenizer.fit_on_texts(train['sentence'].values)\n",
        "word_index = tokenizer.word_index\n",
        "print(f'Trovati {len(word_index)} token univoci.')"
      ],
      "execution_count": 68,
      "outputs": [
        {
          "output_type": "stream",
          "text": [
            "Trovati 7577 token univoci.\n"
          ],
          "name": "stdout"
        }
      ]
    },
    {
      "cell_type": "markdown",
      "metadata": {
        "id": "P17F0qxvvWnK"
      },
      "source": [
        "Padding fino a 95 ovvero la dimensione massima delle nostre stringhe "
      ]
    },
    {
      "cell_type": "code",
      "metadata": {
        "id": "uOEqqCaYtNI1",
        "colab": {
          "base_uri": "https://localhost:8080/"
        },
        "outputId": "132a5dc8-d2fb-4e1f-ae98-cb76fe92478e"
      },
      "source": [
        "X = tokenizer.texts_to_sequences(train['sentence'].values)\n",
        "X = pad_sequences(X, maxlen=95, padding='post')\n",
        "print('Shape of data tensor:', X.shape)"
      ],
      "execution_count": 69,
      "outputs": [
        {
          "output_type": "stream",
          "text": [
            "Shape of data tensor: (3054, 95)\n"
          ],
          "name": "stdout"
        }
      ]
    },
    {
      "cell_type": "markdown",
      "metadata": {
        "id": "MKxDjonHxeKZ"
      },
      "source": [
        "**NOTA**<br>\n",
        "Batch size non puo essere tutti i valori ma solo un divisore intero della dimensione totale dell'ingresso. ingresso di dimensione 3054/6 = 509"
      ]
    },
    {
      "cell_type": "markdown",
      "metadata": {
        "id": "5pngT9HISyE2"
      },
      "source": [
        "**Modello [batch-size, dimensione-input, ?]**"
      ]
    },
    {
      "cell_type": "code",
      "metadata": {
        "id": "nxt3Vrs2LZg9",
        "colab": {
          "base_uri": "https://localhost:8080/"
        },
        "outputId": "8009edff-e87b-49e8-e49b-314675c72a79"
      },
      "source": [
        "# define the LSTM model\n",
        "model = keras.Sequential()\n",
        "model.add(keras.layers.Input(shape=(95,)))\n",
        "model.add(keras.layers.Lambda(lambda x: tf.reshape(x, [6, 95, 1])))\n",
        "model.add(keras.layers.LSTM(64))\n",
        "model.add(keras.layers.Dropout(0.2))\n",
        "model.add(keras.layers.Dense(32, activation='relu'))\n",
        "model.add(keras.layers.Dropout(0.3))\n",
        "model.add(keras.layers.Dense(2, activation='softmax'))\n",
        "model.compile(loss='categorical_crossentropy', optimizer=keras.optimizers.Adam(0.001), metrics=['accuracy'])\n",
        "model.summary()"
      ],
      "execution_count": 70,
      "outputs": [
        {
          "output_type": "stream",
          "text": [
            "Model: \"sequential_12\"\n",
            "_________________________________________________________________\n",
            "Layer (type)                 Output Shape              Param #   \n",
            "=================================================================\n",
            "lambda_12 (Lambda)           (6, 95, 1)                0         \n",
            "_________________________________________________________________\n",
            "lstm_6 (LSTM)                (6, 64)                   16896     \n",
            "_________________________________________________________________\n",
            "dropout_12 (Dropout)         (6, 64)                   0         \n",
            "_________________________________________________________________\n",
            "dense_12 (Dense)             (6, 32)                   2080      \n",
            "_________________________________________________________________\n",
            "dropout_13 (Dropout)         (6, 32)                   0         \n",
            "_________________________________________________________________\n",
            "dense_13 (Dense)             (6, 2)                    66        \n",
            "=================================================================\n",
            "Total params: 19,042\n",
            "Trainable params: 19,042\n",
            "Non-trainable params: 0\n",
            "_________________________________________________________________\n"
          ],
          "name": "stdout"
        }
      ]
    },
    {
      "cell_type": "markdown",
      "metadata": {
        "id": "RQEP7Za6w84_"
      },
      "source": [
        "Trasformazione **y** in tensore, in modo tale da trasformare pos in [0,1] e neg in [1,0]"
      ]
    },
    {
      "cell_type": "code",
      "metadata": {
        "id": "QW6FAgnbabtE"
      },
      "source": [
        "one_hot_train = tf.convert_to_tensor(\n",
        "    OneHotEncoder(sparse=False).fit_transform(\n",
        "        train.review_type.to_numpy().reshape(-1, 1)\n",
        "        )\n",
        "    )\n",
        "\n",
        "one_hot_test = OneHotEncoder(sparse=False).fit_transform(\n",
        "  test.review_type.to_numpy().reshape(-1, 1)\n",
        ")"
      ],
      "execution_count": 71,
      "outputs": []
    },
    {
      "cell_type": "markdown",
      "metadata": {
        "id": "SYVisZRm0JVd"
      },
      "source": [
        "Allenamento Modello "
      ]
    },
    {
      "cell_type": "code",
      "metadata": {
        "id": "U0Z8HN44LybB",
        "colab": {
          "base_uri": "https://localhost:8080/"
        },
        "outputId": "c9c268ff-2085-4dcf-b87a-166a78c13cd5"
      },
      "source": [
        "result = model.fit(X, one_hot_train, epochs=5, batch_size=6)"
      ],
      "execution_count": null,
      "outputs": [
        {
          "output_type": "stream",
          "text": [
            "Epoch 1/5\n",
            "509/509 [==============================] - 14s 24ms/step - loss: 0.6319 - accuracy: 0.6977\n",
            "Epoch 2/5\n",
            "509/509 [==============================] - 12s 24ms/step - loss: 0.6077 - accuracy: 0.7087\n",
            "Epoch 3/5\n",
            " 97/509 [====>.........................] - ETA: 10s - loss: 0.6247 - accuracy: 0.6725"
          ],
          "name": "stdout"
        }
      ]
    }
  ]
}