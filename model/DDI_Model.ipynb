{
  "nbformat": 4,
  "nbformat_minor": 0,
  "metadata": {
    "colab": {
      "name": "DDI_Model.ipynb",
      "provenance": [],
      "authorship_tag": "ABX9TyNWsijH//9SB6u0v+4qtA/N",
      "include_colab_link": true
    },
    "kernelspec": {
      "name": "python3",
      "display_name": "Python 3"
    }
  },
  "cells": [
    {
      "cell_type": "markdown",
      "metadata": {
        "id": "view-in-github",
        "colab_type": "text"
      },
      "source": [
        "<a href=\"https://colab.research.google.com/github/Tomawock/NLP_Attack/blob/main/model/DDI_Model.ipynb\" target=\"_parent\"><img src=\"https://colab.research.google.com/assets/colab-badge.svg\" alt=\"Open In Colab\"/></a>"
      ]
    },
    {
      "cell_type": "code",
      "metadata": {
        "colab": {
          "base_uri": "https://localhost:8080/"
        },
        "id": "GL-T0HZFPhHv",
        "outputId": "ddcabaa5-664c-43f4-9604-bd73e3096256"
      },
      "source": [
        "from google.colab import drive\n",
        "drive.mount('/content/drive')"
      ],
      "execution_count": 2,
      "outputs": [
        {
          "output_type": "stream",
          "text": [
            "Drive already mounted at /content/drive; to attempt to forcibly remount, call drive.mount(\"/content/drive\", force_remount=True).\n"
          ],
          "name": "stdout"
        }
      ]
    },
    {
      "cell_type": "code",
      "metadata": {
        "id": "5PFh9tPgTXxu"
      },
      "source": [
        "import pandas as pd\n",
        "pd.set_option('display.max_colwidth', None)"
      ],
      "execution_count": 2,
      "outputs": []
    },
    {
      "cell_type": "code",
      "metadata": {
        "id": "J2mjn55GZGZe"
      },
      "source": [
        "import pickle\n",
        "from sklearn.preprocessing import OneHotEncoder\n",
        "from tensorflow import keras"
      ],
      "execution_count": 16,
      "outputs": []
    },
    {
      "cell_type": "markdown",
      "metadata": {
        "id": "_wpWMtaQtVGI"
      },
      "source": [
        "## CONFRONTO TRAINING SET E TEST SET"
      ]
    },
    {
      "cell_type": "code",
      "metadata": {
        "id": "w_Z8DO-etaM4"
      },
      "source": [
        "dev = pd.read_csv('/content/drive/Shareddrives/Deep Learning/datasets/Bert_data/ddi2013-type/dev.tsv', sep='\\t')\n",
        "test = pd.read_csv('/content/drive/Shareddrives/Deep Learning/datasets/Bert_data/ddi2013-type/test.tsv', sep='\\t')\n",
        "train = pd.read_csv('/content/drive/Shareddrives/Deep Learning/datasets/Bert_data/ddi2013-type/train.tsv', sep='\\t')"
      ],
      "execution_count": 4,
      "outputs": []
    },
    {
      "cell_type": "code",
      "metadata": {
        "colab": {
          "base_uri": "https://localhost:8080/"
        },
        "id": "LNdlrtIltsks",
        "outputId": "eafc2de4-dfea-4c4c-8b03-20a138eb78db"
      },
      "source": [
        "print(dev.shape)\n",
        "print(test.shape)\n",
        "print(train.shape)"
      ],
      "execution_count": 12,
      "outputs": [
        {
          "output_type": "stream",
          "text": [
            "(7244, 3)\n",
            "(5761, 3)\n",
            "(18779, 3)\n"
          ],
          "name": "stdout"
        }
      ]
    },
    {
      "cell_type": "markdown",
      "metadata": {
        "id": "u8_qFDByuUUU"
      },
      "source": [
        "Si osserva che le proporzioni sono costanti circa"
      ]
    },
    {
      "cell_type": "code",
      "metadata": {
        "colab": {
          "base_uri": "https://localhost:8080/"
        },
        "id": "qGHKK9k7uI9z",
        "outputId": "58117495-4c2b-4d50-9fce-9520b32bc142"
      },
      "source": [
        "print(dev.label.value_counts())\n",
        "print(test.label.value_counts())\n",
        "print(train.label.value_counts())"
      ],
      "execution_count": 14,
      "outputs": [
        {
          "output_type": "stream",
          "text": [
            "DDI-false        6240\n",
            "DDI-effect        396\n",
            "DDI-mechanism     373\n",
            "DDI-advise        193\n",
            "DDI-int            42\n",
            "Name: label, dtype: int64\n",
            "DDI-false        4782\n",
            "DDI-effect        360\n",
            "DDI-mechanism     302\n",
            "DDI-advise        221\n",
            "DDI-int            96\n",
            "Name: label, dtype: int64\n",
            "DDI-false        15842\n",
            "DDI-effect        1212\n",
            "DDI-mechanism      946\n",
            "DDI-advise         633\n",
            "DDI-int            146\n",
            "Name: label, dtype: int64\n"
          ],
          "name": "stdout"
        }
      ]
    },
    {
      "cell_type": "markdown",
      "metadata": {
        "id": "aRMszgZeYQFp"
      },
      "source": [
        "## OSSERVAZIONI SUL DATASET"
      ]
    },
    {
      "cell_type": "code",
      "metadata": {
        "colab": {
          "base_uri": "https://localhost:8080/",
          "height": 206
        },
        "id": "9h4cAIGMXLTR",
        "outputId": "a67d0517-6d81-4e7c-a02a-3cdfd8a55fcb"
      },
      "source": [
        "df.head(5)"
      ],
      "execution_count": 41,
      "outputs": [
        {
          "output_type": "execute_result",
          "data": {
            "text/html": [
              "<div>\n",
              "<style scoped>\n",
              "    .dataframe tbody tr th:only-of-type {\n",
              "        vertical-align: middle;\n",
              "    }\n",
              "\n",
              "    .dataframe tbody tr th {\n",
              "        vertical-align: top;\n",
              "    }\n",
              "\n",
              "    .dataframe thead th {\n",
              "        text-align: right;\n",
              "    }\n",
              "</style>\n",
              "<table border=\"1\" class=\"dataframe\">\n",
              "  <thead>\n",
              "    <tr style=\"text-align: right;\">\n",
              "      <th></th>\n",
              "      <th>index</th>\n",
              "      <th>sentence</th>\n",
              "      <th>label</th>\n",
              "    </tr>\n",
              "  </thead>\n",
              "  <tbody>\n",
              "    <tr>\n",
              "      <th>0</th>\n",
              "      <td>DDI-DrugBank.d0.s0.p0</td>\n",
              "      <td>The concomitant intake of @DRUG$ and @DRUG$ does not affect the pharmacokinetics of either alcohol or acamprosate.</td>\n",
              "      <td>DDI-false</td>\n",
              "    </tr>\n",
              "    <tr>\n",
              "      <th>1</th>\n",
              "      <td>DDI-DrugBank.d0.s0.p1</td>\n",
              "      <td>The concomitant intake of @DRUG$ and Acamprosate does not affect the pharmacokinetics of either @DRUG$ or acamprosate.</td>\n",
              "      <td>DDI-false</td>\n",
              "    </tr>\n",
              "    <tr>\n",
              "      <th>2</th>\n",
              "      <td>DDI-DrugBank.d0.s0.p2</td>\n",
              "      <td>The concomitant intake of @DRUG$ and Acamprosate does not affect the pharmacokinetics of either alcohol or @DRUG$.</td>\n",
              "      <td>DDI-false</td>\n",
              "    </tr>\n",
              "    <tr>\n",
              "      <th>3</th>\n",
              "      <td>DDI-DrugBank.d0.s0.p3</td>\n",
              "      <td>The concomitant intake of alcohol and @DRUG$ does not affect the pharmacokinetics of either @DRUG$ or acamprosate.</td>\n",
              "      <td>DDI-false</td>\n",
              "    </tr>\n",
              "    <tr>\n",
              "      <th>4</th>\n",
              "      <td>DDI-DrugBank.d0.s0.p4</td>\n",
              "      <td>The concomitant intake of alcohol and @DRUG$ does not affect the pharmacokinetics of either alcohol or @DRUG$.</td>\n",
              "      <td>DDI-false</td>\n",
              "    </tr>\n",
              "  </tbody>\n",
              "</table>\n",
              "</div>"
            ],
            "text/plain": [
              "                   index  ...      label\n",
              "0  DDI-DrugBank.d0.s0.p0  ...  DDI-false\n",
              "1  DDI-DrugBank.d0.s0.p1  ...  DDI-false\n",
              "2  DDI-DrugBank.d0.s0.p2  ...  DDI-false\n",
              "3  DDI-DrugBank.d0.s0.p3  ...  DDI-false\n",
              "4  DDI-DrugBank.d0.s0.p4  ...  DDI-false\n",
              "\n",
              "[5 rows x 3 columns]"
            ]
          },
          "metadata": {
            "tags": []
          },
          "execution_count": 41
        }
      ]
    },
    {
      "cell_type": "code",
      "metadata": {
        "colab": {
          "base_uri": "https://localhost:8080/"
        },
        "id": "Hp2dAOjaTgFM",
        "outputId": "f489ff22-015a-4f4e-cd99-02b782f37fda"
      },
      "source": [
        "df = pd.read_csv('/content/drive/Shareddrives/Deep Learning/datasets/Bert_data/ddi2013-type/train.tsv', sep='\\t')\n",
        "print(f\"COLONNE:{df.columns}\")\n",
        "print(f\"DIMENSIONE:{df.shape}\")"
      ],
      "execution_count": 5,
      "outputs": [
        {
          "output_type": "stream",
          "text": [
            "COLONNE:Index(['index', 'sentence', 'label'], dtype='object')\n",
            "DIMENSIONE:(18779, 3)\n"
          ],
          "name": "stdout"
        }
      ]
    },
    {
      "cell_type": "code",
      "metadata": {
        "colab": {
          "base_uri": "https://localhost:8080/"
        },
        "id": "Qgrgc5u7TpEM",
        "outputId": "9001c24a-55af-4b8d-b4e6-71cd7dfd5211"
      },
      "source": [
        "df.label.unique()"
      ],
      "execution_count": 37,
      "outputs": [
        {
          "output_type": "execute_result",
          "data": {
            "text/plain": [
              "array(['DDI-false', 'DDI-mechanism', 'DDI-effect', 'DDI-advise',\n",
              "       'DDI-int'], dtype=object)"
            ]
          },
          "metadata": {
            "tags": []
          },
          "execution_count": 37
        }
      ]
    },
    {
      "cell_type": "code",
      "metadata": {
        "colab": {
          "base_uri": "https://localhost:8080/"
        },
        "id": "J5lnz_n1WYrK",
        "outputId": "e27915bd-9c86-4054-b20f-900bb019807c"
      },
      "source": [
        "df.label.value_counts()"
      ],
      "execution_count": 40,
      "outputs": [
        {
          "output_type": "execute_result",
          "data": {
            "text/plain": [
              "DDI-false        15842\n",
              "DDI-effect        1212\n",
              "DDI-mechanism      946\n",
              "DDI-advise         633\n",
              "DDI-int            146\n",
              "Name: label, dtype: int64"
            ]
          },
          "metadata": {
            "tags": []
          },
          "execution_count": 40
        }
      ]
    },
    {
      "cell_type": "code",
      "metadata": {
        "colab": {
          "base_uri": "https://localhost:8080/",
          "height": 363
        },
        "id": "wJBbOaR5VHtR",
        "outputId": "96fd87e0-697d-4e50-d4a6-7cf611255b55"
      },
      "source": [
        "df.loc[range(10), ['sentence']]"
      ],
      "execution_count": 38,
      "outputs": [
        {
          "output_type": "execute_result",
          "data": {
            "text/html": [
              "<div>\n",
              "<style scoped>\n",
              "    .dataframe tbody tr th:only-of-type {\n",
              "        vertical-align: middle;\n",
              "    }\n",
              "\n",
              "    .dataframe tbody tr th {\n",
              "        vertical-align: top;\n",
              "    }\n",
              "\n",
              "    .dataframe thead th {\n",
              "        text-align: right;\n",
              "    }\n",
              "</style>\n",
              "<table border=\"1\" class=\"dataframe\">\n",
              "  <thead>\n",
              "    <tr style=\"text-align: right;\">\n",
              "      <th></th>\n",
              "      <th>sentence</th>\n",
              "    </tr>\n",
              "  </thead>\n",
              "  <tbody>\n",
              "    <tr>\n",
              "      <th>0</th>\n",
              "      <td>The concomitant intake of @DRUG$ and @DRUG$ does not affect the pharmacokinetics of either alcohol or acamprosate.</td>\n",
              "    </tr>\n",
              "    <tr>\n",
              "      <th>1</th>\n",
              "      <td>The concomitant intake of @DRUG$ and Acamprosate does not affect the pharmacokinetics of either @DRUG$ or acamprosate.</td>\n",
              "    </tr>\n",
              "    <tr>\n",
              "      <th>2</th>\n",
              "      <td>The concomitant intake of @DRUG$ and Acamprosate does not affect the pharmacokinetics of either alcohol or @DRUG$.</td>\n",
              "    </tr>\n",
              "    <tr>\n",
              "      <th>3</th>\n",
              "      <td>The concomitant intake of alcohol and @DRUG$ does not affect the pharmacokinetics of either @DRUG$ or acamprosate.</td>\n",
              "    </tr>\n",
              "    <tr>\n",
              "      <th>4</th>\n",
              "      <td>The concomitant intake of alcohol and @DRUG$ does not affect the pharmacokinetics of either alcohol or @DRUG$.</td>\n",
              "    </tr>\n",
              "    <tr>\n",
              "      <th>5</th>\n",
              "      <td>The concomitant intake of alcohol and Acamprosate does not affect the pharmacokinetics of either @DRUG$ or @DRUG$.</td>\n",
              "    </tr>\n",
              "    <tr>\n",
              "      <th>6</th>\n",
              "      <td>Co-administration of @DRUG$ with @DRUG$ produced a 25% increase in AUC and a 33% increase in the Cmax of acamprosate.</td>\n",
              "    </tr>\n",
              "    <tr>\n",
              "      <th>7</th>\n",
              "      <td>Co-administration of @DRUG$ with Acamprosate produced a 25% increase in AUC and a 33% increase in the Cmax of @DRUG$.</td>\n",
              "    </tr>\n",
              "    <tr>\n",
              "      <th>8</th>\n",
              "      <td>Co-administration of naltrexone with @DRUG$ produced a 25% increase in AUC and a 33% increase in the Cmax of @DRUG$.</td>\n",
              "    </tr>\n",
              "    <tr>\n",
              "      <th>9</th>\n",
              "      <td>The pharmacokinetics of @DRUG$ and its major metabolite @DRUG$ were unaffected following co-administration with Acamprosate.</td>\n",
              "    </tr>\n",
              "  </tbody>\n",
              "</table>\n",
              "</div>"
            ],
            "text/plain": [
              "                                                                                                                       sentence\n",
              "0            The concomitant intake of @DRUG$ and @DRUG$ does not affect the pharmacokinetics of either alcohol or acamprosate.\n",
              "1        The concomitant intake of @DRUG$ and Acamprosate does not affect the pharmacokinetics of either @DRUG$ or acamprosate.\n",
              "2            The concomitant intake of @DRUG$ and Acamprosate does not affect the pharmacokinetics of either alcohol or @DRUG$.\n",
              "3            The concomitant intake of alcohol and @DRUG$ does not affect the pharmacokinetics of either @DRUG$ or acamprosate.\n",
              "4                The concomitant intake of alcohol and @DRUG$ does not affect the pharmacokinetics of either alcohol or @DRUG$.\n",
              "5            The concomitant intake of alcohol and Acamprosate does not affect the pharmacokinetics of either @DRUG$ or @DRUG$.\n",
              "6         Co-administration of @DRUG$ with @DRUG$ produced a 25% increase in AUC and a 33% increase in the Cmax of acamprosate.\n",
              "7         Co-administration of @DRUG$ with Acamprosate produced a 25% increase in AUC and a 33% increase in the Cmax of @DRUG$.\n",
              "8          Co-administration of naltrexone with @DRUG$ produced a 25% increase in AUC and a 33% increase in the Cmax of @DRUG$.\n",
              "9  The pharmacokinetics of @DRUG$ and its major metabolite @DRUG$ were unaffected following co-administration with Acamprosate."
            ]
          },
          "metadata": {
            "tags": []
          },
          "execution_count": 38
        }
      ]
    },
    {
      "cell_type": "markdown",
      "metadata": {
        "id": "YLimbdOxYWe4"
      },
      "source": [
        "## FASE PRELIMINARE MODELLO"
      ]
    },
    {
      "cell_type": "code",
      "metadata": {
        "id": "Ygj2TVTgsAN6"
      },
      "source": [
        "with open(\"/content/drive/Shareddrives/Deep Learning/datasets/Bert_data/index2word.pkl\", 'rb') as output:\n",
        "  i2w = pickle.load(output)\n",
        "with open(\"/content/drive/Shareddrives/Deep Learning/datasets/Bert_data/word2index.pkl\", 'rb') as output:\n",
        "  w2i = pickle.load(output)\n",
        "with open(\"/content/drive/Shareddrives/Deep Learning/datasets/Bert_data/embedding_matrix.pkl\", 'rb') as output:\n",
        "  embedding_matrix = pickle.load(output)"
      ],
      "execution_count": 17,
      "outputs": []
    },
    {
      "cell_type": "code",
      "metadata": {
        "id": "0qH3uI-VYOsX"
      },
      "source": [
        "five_hot = OneHotEncoder(sparse=False).fit_transform(\n",
        "  df.label.to_numpy().reshape(-1, 1)\n",
        ")"
      ],
      "execution_count": 51,
      "outputs": []
    },
    {
      "cell_type": "code",
      "metadata": {
        "id": "tB_UFnVXZ5ox"
      },
      "source": [
        "def my_text_to_word_sequence(sentence):\n",
        "  return keras.preprocessing.text.text_to_word_sequence(sentence,\n",
        "                                                        filters='!\"#&()*+,-./:;<=>?[\\\\]^_`\\'{|}~\\t\\n',\n",
        "                                                        lower=True)\n",
        "\n",
        "sentences = [my_text_to_word_sequence(sentence) for sentence in df['sentence']]"
      ],
      "execution_count": 60,
      "outputs": []
    },
    {
      "cell_type": "code",
      "metadata": {
        "colab": {
          "base_uri": "https://localhost:8080/"
        },
        "id": "DjOrf5Udb_S3",
        "outputId": "2033bad2-7012-40b6-8721-abdaacdf110a"
      },
      "source": [
        "max_index, max = (-1, -1)\n",
        "for i, sentence in enumerate(sentences):\n",
        "  max_index, max = (i, len(sentence)) if len(sentence) > max else (max_index, max)\n",
        "\n",
        "print(f'Il massimo è {max} in corrispondenza di {max_index}')"
      ],
      "execution_count": 65,
      "outputs": [
        {
          "output_type": "stream",
          "text": [
            "Il massimo è 82 in corrispondenza di 17771\n"
          ],
          "name": "stdout"
        }
      ]
    },
    {
      "cell_type": "code",
      "metadata": {
        "id": "gZwFNydMdcEr"
      },
      "source": [
        "embedded_trainset = np.zeros(shape=(len(sentences), max, 300))\n",
        "for i, sentence in enumerate(sentences):\n",
        "  for j, word in enumerate(sentence):\n",
        "    try:\n",
        "      embedded_trainset[i, j, :] = embedding_matrix[w2i[word]]\n",
        "    except KeyError:\n",
        "      pass"
      ],
      "execution_count": null,
      "outputs": []
    },
    {
      "cell_type": "markdown",
      "metadata": {
        "id": "IZoGcpY_sfP4"
      },
      "source": [
        "## CREAZIONE MODELLO"
      ]
    },
    {
      "cell_type": "code",
      "metadata": {
        "id": "zt9qFNXisec8"
      },
      "source": [
        "model = keras.Sequential()\n",
        "model.add(keras.layers.Input(shape=(max, 300)))\n",
        "model.add(keras.layers.LSTM(64, recurrent_dropout=0.2))\n",
        "model.add(keras.layers.Dense(5, activation='softmax'))\n",
        "model.compile(loss='categorical_crossentropy', optimizer=keras.optimizers.Adam(0.001), metrics=['accuracy'])\n",
        "model.summary()"
      ],
      "execution_count": null,
      "outputs": []
    },
    {
      "cell_type": "code",
      "metadata": {
        "id": "rEXWG-6HspVt"
      },
      "source": [
        "result = model.fit(embedded_trainset, five_hot, epochs=2, batch_size=25)"
      ],
      "execution_count": null,
      "outputs": []
    }
  ]
}