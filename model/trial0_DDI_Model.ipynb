{
  "nbformat": 4,
  "nbformat_minor": 0,
  "metadata": {
    "colab": {
      "name": "DDI_Model.ipynb",
      "provenance": [],
      "include_colab_link": true
    },
    "kernelspec": {
      "name": "python3",
      "display_name": "Python 3"
    }
  },
  "cells": [
    {
      "cell_type": "markdown",
      "metadata": {
        "id": "view-in-github",
        "colab_type": "text"
      },
      "source": [
        "<a href=\"https://colab.research.google.com/github/Tomawock/NLP_Attack/blob/main/model/trial0_DDI_Model.ipynb\" target=\"_parent\"><img src=\"https://colab.research.google.com/assets/colab-badge.svg\" alt=\"Open In Colab\"/></a>"
      ]
    },
    {
      "cell_type": "code",
      "metadata": {
        "colab": {
          "base_uri": "https://localhost:8080/"
        },
        "id": "GL-T0HZFPhHv",
        "outputId": "fbd6f164-c8c7-4a31-807c-a42096eaf539"
      },
      "source": [
        "from google.colab import drive\n",
        "drive.mount('/content/drive')"
      ],
      "execution_count": 1,
      "outputs": [
        {
          "output_type": "stream",
          "text": [
            "Mounted at /content/drive\n"
          ],
          "name": "stdout"
        }
      ]
    },
    {
      "cell_type": "code",
      "metadata": {
        "id": "5PFh9tPgTXxu"
      },
      "source": [
        "import pandas as pd\n",
        "pd.set_option('display.max_colwidth', None)"
      ],
      "execution_count": 1,
      "outputs": []
    },
    {
      "cell_type": "code",
      "metadata": {
        "id": "J2mjn55GZGZe"
      },
      "source": [
        "import pickle\n",
        "import numpy as np\n",
        "from sklearn.preprocessing import OneHotEncoder\n",
        "from tensorflow import keras\n",
        "from sklearn.utils.class_weight import compute_class_weight"
      ],
      "execution_count": 2,
      "outputs": []
    },
    {
      "cell_type": "markdown",
      "metadata": {
        "id": "_wpWMtaQtVGI"
      },
      "source": [
        "## CONFRONTO TRAINING SET E TEST SET"
      ]
    },
    {
      "cell_type": "code",
      "metadata": {
        "id": "w_Z8DO-etaM4"
      },
      "source": [
        "dev = pd.read_csv('/content/drive/Shareddrives/Deep Learning/datasets/Bert_data/ddi2013-type/dev.tsv', sep='\\t')\n",
        "test = pd.read_csv('/content/drive/Shareddrives/Deep Learning/datasets/Bert_data/ddi2013-type/test.tsv', sep='\\t')\n",
        "train = pd.read_csv('/content/drive/Shareddrives/Deep Learning/datasets/Bert_data/ddi2013-type/train.tsv', sep='\\t')"
      ],
      "execution_count": null,
      "outputs": []
    },
    {
      "cell_type": "code",
      "metadata": {
        "colab": {
          "base_uri": "https://localhost:8080/"
        },
        "id": "LNdlrtIltsks",
        "outputId": "eafc2de4-dfea-4c4c-8b03-20a138eb78db"
      },
      "source": [
        "print(dev.shape)\n",
        "print(test.shape)\n",
        "print(train.shape)"
      ],
      "execution_count": null,
      "outputs": [
        {
          "output_type": "stream",
          "text": [
            "(7244, 3)\n",
            "(5761, 3)\n",
            "(18779, 3)\n"
          ],
          "name": "stdout"
        }
      ]
    },
    {
      "cell_type": "code",
      "metadata": {
        "id": "87FAbORII28E"
      },
      "source": [
        "merge_test = pd.merge(left=train,\n",
        "                      right=test,\n",
        "                      on='sentence')\n",
        "\n",
        "merge_dev = pd.merge(left=train,\n",
        "                     right=dev,\n",
        "                     on='sentence')"
      ],
      "execution_count": null,
      "outputs": []
    },
    {
      "cell_type": "code",
      "metadata": {
        "id": "W3Bj33bcJ2sL",
        "colab": {
          "base_uri": "https://localhost:8080/"
        },
        "outputId": "fb331fc3-d1bb-4b14-d79e-16d10e76884f"
      },
      "source": [
        "print(f'OVERLAPPING DATA: {len(merge_test.loc[merge_test[\"label_x\"] == merge_test[\"label_y\"], :])}')\n",
        "print(f'OVERLAPPING DATA: {len(merge_dev.loc[merge_dev[\"label_x\"] == merge_dev[\"label_y\"], :])}')"
      ],
      "execution_count": null,
      "outputs": [
        {
          "output_type": "stream",
          "text": [
            "OVERLAPPING DATA: 57\n",
            "OVERLAPPING DATA: 322\n"
          ],
          "name": "stdout"
        }
      ]
    },
    {
      "cell_type": "markdown",
      "metadata": {
        "id": "u8_qFDByuUUU"
      },
      "source": [
        "Si osserva che le proporzioni sono costanti circa"
      ]
    },
    {
      "cell_type": "code",
      "metadata": {
        "colab": {
          "base_uri": "https://localhost:8080/"
        },
        "id": "qGHKK9k7uI9z",
        "outputId": "58117495-4c2b-4d50-9fce-9520b32bc142"
      },
      "source": [
        "print(dev.label.value_counts())\n",
        "print(test.label.value_counts())\n",
        "print(train.label.value_counts())"
      ],
      "execution_count": null,
      "outputs": [
        {
          "output_type": "stream",
          "text": [
            "DDI-false        6240\n",
            "DDI-effect        396\n",
            "DDI-mechanism     373\n",
            "DDI-advise        193\n",
            "DDI-int            42\n",
            "Name: label, dtype: int64\n",
            "DDI-false        4782\n",
            "DDI-effect        360\n",
            "DDI-mechanism     302\n",
            "DDI-advise        221\n",
            "DDI-int            96\n",
            "Name: label, dtype: int64\n",
            "DDI-false        15842\n",
            "DDI-effect        1212\n",
            "DDI-mechanism      946\n",
            "DDI-advise         633\n",
            "DDI-int            146\n",
            "Name: label, dtype: int64\n"
          ],
          "name": "stdout"
        }
      ]
    },
    {
      "cell_type": "markdown",
      "metadata": {
        "id": "aRMszgZeYQFp"
      },
      "source": [
        "## OSSERVAZIONI SUL DATASET"
      ]
    },
    {
      "cell_type": "code",
      "metadata": {
        "id": "Hp2dAOjaTgFM"
      },
      "source": [
        "train = pd.read_csv('/content/drive/Shareddrives/Deep Learning/datasets/Bert_data/ddi2013-type/train.tsv', sep='\\t')\n",
        "dev = pd.read_csv('/content/drive/Shareddrives/Deep Learning/datasets/Bert_data/ddi2013-type/dev.tsv', sep='\\t')\n",
        "test = pd.read_csv('/content/drive/Shareddrives/Deep Learning/datasets/Bert_data/ddi2013-type/test.tsv', sep='\\t')"
      ],
      "execution_count": 3,
      "outputs": []
    },
    {
      "cell_type": "code",
      "metadata": {
        "colab": {
          "base_uri": "https://localhost:8080/"
        },
        "id": "Qgrgc5u7TpEM",
        "outputId": "e0f2715a-870e-43b1-e977-cde9e20d5b50"
      },
      "source": [
        "train.label.unique()"
      ],
      "execution_count": null,
      "outputs": [
        {
          "output_type": "execute_result",
          "data": {
            "text/plain": [
              "array(['DDI-false', 'DDI-mechanism', 'DDI-effect', 'DDI-advise',\n",
              "       'DDI-int'], dtype=object)"
            ]
          },
          "metadata": {
            "tags": []
          },
          "execution_count": 32
        }
      ]
    },
    {
      "cell_type": "code",
      "metadata": {
        "colab": {
          "base_uri": "https://localhost:8080/"
        },
        "id": "J5lnz_n1WYrK",
        "outputId": "e069c8bb-1560-4ec3-ff82-220f12eed8b2"
      },
      "source": [
        "print(f'TRAIN:\\n{train.label.value_counts()}')\n",
        "print(f'TEST:\\n{test.label.value_counts()}')"
      ],
      "execution_count": null,
      "outputs": [
        {
          "output_type": "stream",
          "text": [
            "TRAIN:\n",
            "DDI-false        15842\n",
            "DDI-effect        1212\n",
            "DDI-mechanism      946\n",
            "DDI-advise         633\n",
            "DDI-int            146\n",
            "Name: label, dtype: int64\n",
            "TEST:\n",
            "DDI-false        4782\n",
            "DDI-effect        360\n",
            "DDI-mechanism     302\n",
            "DDI-advise        221\n",
            "DDI-int            96\n",
            "Name: label, dtype: int64\n"
          ],
          "name": "stdout"
        }
      ]
    },
    {
      "cell_type": "code",
      "metadata": {
        "colab": {
          "base_uri": "https://localhost:8080/",
          "height": 597
        },
        "id": "9h4cAIGMXLTR",
        "outputId": "c00582e5-c983-4448-c187-550da5f4ab35"
      },
      "source": [
        "train"
      ],
      "execution_count": null,
      "outputs": [
        {
          "output_type": "execute_result",
          "data": {
            "text/html": [
              "<div>\n",
              "<style scoped>\n",
              "    .dataframe tbody tr th:only-of-type {\n",
              "        vertical-align: middle;\n",
              "    }\n",
              "\n",
              "    .dataframe tbody tr th {\n",
              "        vertical-align: top;\n",
              "    }\n",
              "\n",
              "    .dataframe thead th {\n",
              "        text-align: right;\n",
              "    }\n",
              "</style>\n",
              "<table border=\"1\" class=\"dataframe\">\n",
              "  <thead>\n",
              "    <tr style=\"text-align: right;\">\n",
              "      <th></th>\n",
              "      <th>index</th>\n",
              "      <th>sentence</th>\n",
              "      <th>label</th>\n",
              "    </tr>\n",
              "  </thead>\n",
              "  <tbody>\n",
              "    <tr>\n",
              "      <th>0</th>\n",
              "      <td>DDI-DrugBank.d0.s0.p0</td>\n",
              "      <td>The concomitant intake of @DRUG$ and @DRUG$ does not affect the pharmacokinetics of either alcohol or acamprosate.</td>\n",
              "      <td>DDI-false</td>\n",
              "    </tr>\n",
              "    <tr>\n",
              "      <th>1</th>\n",
              "      <td>DDI-DrugBank.d0.s0.p1</td>\n",
              "      <td>The concomitant intake of @DRUG$ and Acamprosate does not affect the pharmacokinetics of either @DRUG$ or acamprosate.</td>\n",
              "      <td>DDI-false</td>\n",
              "    </tr>\n",
              "    <tr>\n",
              "      <th>2</th>\n",
              "      <td>DDI-DrugBank.d0.s0.p2</td>\n",
              "      <td>The concomitant intake of @DRUG$ and Acamprosate does not affect the pharmacokinetics of either alcohol or @DRUG$.</td>\n",
              "      <td>DDI-false</td>\n",
              "    </tr>\n",
              "    <tr>\n",
              "      <th>3</th>\n",
              "      <td>DDI-DrugBank.d0.s0.p3</td>\n",
              "      <td>The concomitant intake of alcohol and @DRUG$ does not affect the pharmacokinetics of either @DRUG$ or acamprosate.</td>\n",
              "      <td>DDI-false</td>\n",
              "    </tr>\n",
              "    <tr>\n",
              "      <th>4</th>\n",
              "      <td>DDI-DrugBank.d0.s0.p4</td>\n",
              "      <td>The concomitant intake of alcohol and @DRUG$ does not affect the pharmacokinetics of either alcohol or @DRUG$.</td>\n",
              "      <td>DDI-false</td>\n",
              "    </tr>\n",
              "    <tr>\n",
              "      <th>...</th>\n",
              "      <td>...</td>\n",
              "      <td>...</td>\n",
              "      <td>...</td>\n",
              "    </tr>\n",
              "    <tr>\n",
              "      <th>18774</th>\n",
              "      <td>DDI-MedLine.d99.s11.p2</td>\n",
              "      <td>The clearance by means of @DRUG$ and carboxytolbutamide was significantly reduced in both groups (ie, from 901 mL/h to 318 mL/h in the group that received 150 mg of tolbutamide per day and from 723 mL/h to 457 mL/h in the group that received 75 mg of @DRUG$ per day).</td>\n",
              "      <td>DDI-false</td>\n",
              "    </tr>\n",
              "    <tr>\n",
              "      <th>18775</th>\n",
              "      <td>DDI-MedLine.d99.s11.p3</td>\n",
              "      <td>The clearance by means of 4-hydroxytolbutamide and @DRUG$ was significantly reduced in both groups (ie, from 901 mL/h to 318 mL/h in the group that received 150 mg of @DRUG$ per day and from 723 mL/h to 457 mL/h in the group that received 75 mg of tolbutamide per day).</td>\n",
              "      <td>DDI-false</td>\n",
              "    </tr>\n",
              "    <tr>\n",
              "      <th>18776</th>\n",
              "      <td>DDI-MedLine.d99.s11.p4</td>\n",
              "      <td>The clearance by means of 4-hydroxytolbutamide and @DRUG$ was significantly reduced in both groups (ie, from 901 mL/h to 318 mL/h in the group that received 150 mg of tolbutamide per day and from 723 mL/h to 457 mL/h in the group that received 75 mg of @DRUG$ per day).</td>\n",
              "      <td>DDI-false</td>\n",
              "    </tr>\n",
              "    <tr>\n",
              "      <th>18777</th>\n",
              "      <td>DDI-MedLine.d99.s11.p5</td>\n",
              "      <td>The clearance by means of 4-hydroxytolbutamide and carboxytolbutamide was significantly reduced in both groups (ie, from 901 mL/h to 318 mL/h in the group that received 150 mg of @DRUG$ per day and from 723 mL/h to 457 mL/h in the group that received 75 mg of @DRUG$ per day).</td>\n",
              "      <td>DDI-false</td>\n",
              "    </tr>\n",
              "    <tr>\n",
              "      <th>18778</th>\n",
              "      <td>DDI-MedLine.d99.s9.p0</td>\n",
              "      <td>RESULTS: During treatment with @DRUG$, there was a statistically significant decrease in the median of the total clearance of @DRUG$, from 845 mL/h to 688 mL/h, among the volunteers who received 75 mg/d.</td>\n",
              "      <td>DDI-mechanism</td>\n",
              "    </tr>\n",
              "  </tbody>\n",
              "</table>\n",
              "<p>18779 rows × 3 columns</p>\n",
              "</div>"
            ],
            "text/plain": [
              "                        index  ...          label\n",
              "0       DDI-DrugBank.d0.s0.p0  ...      DDI-false\n",
              "1       DDI-DrugBank.d0.s0.p1  ...      DDI-false\n",
              "2       DDI-DrugBank.d0.s0.p2  ...      DDI-false\n",
              "3       DDI-DrugBank.d0.s0.p3  ...      DDI-false\n",
              "4       DDI-DrugBank.d0.s0.p4  ...      DDI-false\n",
              "...                       ...  ...            ...\n",
              "18774  DDI-MedLine.d99.s11.p2  ...      DDI-false\n",
              "18775  DDI-MedLine.d99.s11.p3  ...      DDI-false\n",
              "18776  DDI-MedLine.d99.s11.p4  ...      DDI-false\n",
              "18777  DDI-MedLine.d99.s11.p5  ...      DDI-false\n",
              "18778   DDI-MedLine.d99.s9.p0  ...  DDI-mechanism\n",
              "\n",
              "[18779 rows x 3 columns]"
            ]
          },
          "metadata": {
            "tags": []
          },
          "execution_count": 31
        }
      ]
    },
    {
      "cell_type": "markdown",
      "metadata": {
        "id": "YLimbdOxYWe4"
      },
      "source": [
        "## FASE PRELIMINARE MODELLO"
      ]
    },
    {
      "cell_type": "code",
      "metadata": {
        "id": "Ygj2TVTgsAN6"
      },
      "source": [
        "with open(\"/content/drive/Shareddrives/Deep Learning/datasets/Bert_data/word2index.pkl\", 'rb') as output:\n",
        "  w2i = pickle.load(output)\n",
        "with open(\"/content/drive/Shareddrives/Deep Learning/datasets/Bert_data/embedding_matrix.pkl\", 'rb') as output:\n",
        "  embedding_matrix = pickle.load(output)"
      ],
      "execution_count": 4,
      "outputs": []
    },
    {
      "cell_type": "code",
      "metadata": {
        "id": "0qH3uI-VYOsX"
      },
      "source": [
        "categories = [['DDI-false', 'DDI-mechanism', 'DDI-effect', 'DDI-advise','DDI-int']]\n",
        "five_hot_train = OneHotEncoder(sparse=False, categories=categories).fit_transform(\n",
        "  train.label.to_numpy().reshape(-1, 1)\n",
        ")\n",
        "\n",
        "five_hot_dev = OneHotEncoder(sparse=False, categories=categories).fit_transform(\n",
        "  dev.label.to_numpy().reshape(-1, 1)\n",
        ")"
      ],
      "execution_count": 5,
      "outputs": []
    },
    {
      "cell_type": "code",
      "metadata": {
        "id": "NtfIahT6LOuw",
        "outputId": "03ff44c4-b93b-4d03-b04f-a0ee1aef0ec3",
        "colab": {
          "base_uri": "https://localhost:8080/"
        }
      },
      "source": [
        "print(np.unique(train.label))\n",
        "print(categories)"
      ],
      "execution_count": 57,
      "outputs": [
        {
          "output_type": "stream",
          "text": [
            "['DDI-advise' 'DDI-effect' 'DDI-false' 'DDI-int' 'DDI-mechanism']\n",
            "[['DDI-false', 'DDI-mechanism', 'DDI-effect', 'DDI-advise', 'DDI-int']]\n"
          ],
          "name": "stdout"
        }
      ]
    },
    {
      "cell_type": "code",
      "metadata": {
        "id": "m3sVuM7n96UR",
        "outputId": "cdcbede5-13d2-4d8d-cf5f-d6c70227dcb7",
        "colab": {
          "base_uri": "https://localhost:8080/"
        }
      },
      "source": [
        "class_weight = compute_class_weight(\"balanced\", classes=np.unique(train.label), y=train.label.to_numpy()) \n",
        "class_weight = {0: np.float32(class_weight[np.where(np.unique(train.label) == categories[0][0])[0][0]]),\n",
        "                1: np.float32(class_weight[np.where(np.unique(train.label) == categories[0][1])[0][0]]),\n",
        "                2: np.float32(class_weight[np.where(np.unique(train.label) == categories[0][2])[0][0]]),\n",
        "                3: np.float32(class_weight[np.where(np.unique(train.label) == categories[0][3])[0][0]]),\n",
        "                4: np.float32(class_weight[np.where(np.unique(train.label) == categories[0][4])[0][0]])}\n",
        "class_weight"
      ],
      "execution_count": 60,
      "outputs": [
        {
          "output_type": "execute_result",
          "data": {
            "text/plain": [
              "{0: 0.23707865, 1: 3.9701903, 2: 3.0988448, 3: 5.9333334, 4: 25.724657}"
            ]
          },
          "metadata": {
            "tags": []
          },
          "execution_count": 60
        }
      ]
    },
    {
      "cell_type": "code",
      "metadata": {
        "id": "tB_UFnVXZ5ox"
      },
      "source": [
        "my_text_to_word_sequence = lambda sen: keras.preprocessing.text.text_to_word_sequence(sen,\n",
        "                                                                                      filters='!\"#&()*+,-./:;<=>?[\\\\]^_`\\'{|}~\\t\\n',\n",
        "                                                                                      lower=True)\n",
        "\n",
        "sentences_train = [my_text_to_word_sequence(sentence) for sentence in train['sentence']]\n",
        "sentences_dev = [my_text_to_word_sequence(sentence) for sentence in dev['sentence']]"
      ],
      "execution_count": 7,
      "outputs": []
    },
    {
      "cell_type": "code",
      "metadata": {
        "colab": {
          "base_uri": "https://localhost:8080/"
        },
        "id": "DjOrf5Udb_S3",
        "outputId": "fc0ad181-3125-42ac-e6ba-95880449b5f1"
      },
      "source": [
        "max_index, max = (-1, -1)\n",
        "for i, sentence in enumerate(sentences_train):\n",
        "  max_index, max = (i, len(sentence)) if len(sentence) > max else (max_index, max)\n",
        "\n",
        "for i, sentence in enumerate(sentences_dev):\n",
        "  max_index, max = (i, len(sentence)) if len(sentence) > max else (max_index, max)\n",
        "\n",
        "print(f'Il massimo è {max}')"
      ],
      "execution_count": 8,
      "outputs": [
        {
          "output_type": "stream",
          "text": [
            "Il massimo è 92\n"
          ],
          "name": "stdout"
        }
      ]
    },
    {
      "cell_type": "code",
      "metadata": {
        "id": "gZwFNydMdcEr"
      },
      "source": [
        "embedded_trainset = np.zeros(shape=(len(sentences_train), max, 300))\n",
        "for i, sentence in enumerate(sentences_train):\n",
        "  for j, word in enumerate(sentence):\n",
        "    try:\n",
        "      embedded_trainset[i, j, :] = embedding_matrix[w2i[word]]\n",
        "    except KeyError:\n",
        "      pass\n",
        "\n",
        "embedded_devset = np.zeros(shape=(len(sentences_dev), max, 300))\n",
        "for i, sentence in enumerate(sentences_dev):\n",
        "  for j, word in enumerate(sentence):\n",
        "    try:\n",
        "      embedded_devset[i, j, :] = embedding_matrix[w2i[word]]\n",
        "    except KeyError:\n",
        "      pass"
      ],
      "execution_count": 9,
      "outputs": []
    },
    {
      "cell_type": "markdown",
      "metadata": {
        "id": "IZoGcpY_sfP4"
      },
      "source": [
        "## CREAZIONE MODELLO"
      ]
    },
    {
      "cell_type": "code",
      "metadata": {
        "id": "zt9qFNXisec8",
        "colab": {
          "base_uri": "https://localhost:8080/"
        },
        "outputId": "439b633f-7697-4697-e15f-69c031409f7f"
      },
      "source": [
        "model = keras.Sequential()\n",
        "model.add(keras.layers.Input(shape=(max, 300)))\n",
        "model.add(keras.layers.LSTM(64, recurrent_dropout=0.2))\n",
        "model.add(keras.layers.Dense(5, activation='softmax'))\n",
        "model.compile(loss='categorical_crossentropy', optimizer=keras.optimizers.Adam(0.001), metrics=['accuracy'])\n",
        "model.summary()"
      ],
      "execution_count": null,
      "outputs": [
        {
          "output_type": "stream",
          "text": [
            "Model: \"sequential\"\n",
            "_________________________________________________________________\n",
            "Layer (type)                 Output Shape              Param #   \n",
            "=================================================================\n",
            "lstm (LSTM)                  (None, 64)                93440     \n",
            "_________________________________________________________________\n",
            "dense (Dense)                (None, 5)                 325       \n",
            "=================================================================\n",
            "Total params: 93,765\n",
            "Trainable params: 93,765\n",
            "Non-trainable params: 0\n",
            "_________________________________________________________________\n"
          ],
          "name": "stdout"
        }
      ]
    },
    {
      "cell_type": "code",
      "metadata": {
        "id": "rEXWG-6HspVt",
        "colab": {
          "base_uri": "https://localhost:8080/"
        },
        "outputId": "8abe84db-a229-42fe-e571-c44ee10bc6bd"
      },
      "source": [
        "result = model.fit(embedded_trainset, five_hot_train, epochs=2, batch_size=25)"
      ],
      "execution_count": null,
      "outputs": [
        {
          "output_type": "stream",
          "text": [
            "Epoch 1/2\n",
            "752/752 [==============================] - 94s 122ms/step - loss: 0.7067 - accuracy: 0.8377\n",
            "Epoch 2/2\n",
            "752/752 [==============================] - 92s 123ms/step - loss: 0.6300 - accuracy: 0.8429\n"
          ],
          "name": "stdout"
        }
      ]
    },
    {
      "cell_type": "code",
      "metadata": {
        "id": "OjATSh1ZSW3m",
        "colab": {
          "base_uri": "https://localhost:8080/"
        },
        "outputId": "0909583e-065c-4216-a353-d19a56a25a37"
      },
      "source": [
        "frase = sentences_test[25:50]\n",
        "boh = np.zeros(shape=(len(frase), max, 300))\n",
        "for i, sentence in enumerate(frase):\n",
        "  for j, word in enumerate(sentence):\n",
        "    try:\n",
        "      boh[i, j, :] = embedding_matrix[w2i[word]]\n",
        "    except KeyError:\n",
        "      pass\n",
        "\n",
        "res = model.predict(boh)\n",
        "[row[2] for row in res]"
      ],
      "execution_count": null,
      "outputs": [
        {
          "output_type": "execute_result",
          "data": {
            "text/plain": [
              "[0.8470076,\n",
              " 0.8470076,\n",
              " 0.8470076,\n",
              " 0.8470076,\n",
              " 0.8470076,\n",
              " 0.8470076,\n",
              " 0.8470076,\n",
              " 0.8470076,\n",
              " 0.8470076,\n",
              " 0.84700775,\n",
              " 0.84700775,\n",
              " 0.84700775,\n",
              " 0.84700775,\n",
              " 0.84700763,\n",
              " 0.84700763,\n",
              " 0.84700775,\n",
              " 0.84700763,\n",
              " 0.84700763,\n",
              " 0.8470076,\n",
              " 0.84700763,\n",
              " 0.84700763,\n",
              " 0.84700763,\n",
              " 0.84700763,\n",
              " 0.8470076,\n",
              " 0.8470076]"
            ]
          },
          "metadata": {
            "tags": []
          },
          "execution_count": 92
        }
      ]
    },
    {
      "cell_type": "markdown",
      "metadata": {
        "id": "1myTotlFZgQX"
      },
      "source": [
        "**Si osserva che tutti i sample hanno la stessa probabilità di rientrare nella terza classe (che corrisponde a \"DDI-false\"). Si sottolinea che ~0.84 è la percentuale di DDI-false nel training set.**"
      ]
    },
    {
      "cell_type": "markdown",
      "metadata": {
        "id": "mCV_aFFIaUqL"
      },
      "source": [
        "## MODELLO CON SAMPLE PIÙ EQUILIBRATI (MENO DDI-FALSE)"
      ]
    },
    {
      "cell_type": "code",
      "metadata": {
        "id": "VBNwOl0gab1M"
      },
      "source": [
        "reduced_train = pd.concat([train.loc[train['label'] == 'DDI-false'].sample(n=3000), train.loc[train['label'] != 'DDI-false']]).sample(frac=1)"
      ],
      "execution_count": null,
      "outputs": []
    },
    {
      "cell_type": "code",
      "metadata": {
        "id": "Mol6HrAkbrjc"
      },
      "source": [
        "five_hot_train_reduced = OneHotEncoder(sparse=False).fit_transform(\n",
        "  reduced_train.label.to_numpy().reshape(-1, 1)\n",
        ")"
      ],
      "execution_count": null,
      "outputs": []
    },
    {
      "cell_type": "code",
      "metadata": {
        "id": "qSzdoFcLb-Ed"
      },
      "source": [
        "reduced_sentences_train = [my_text_to_word_sequence(sentence) for sentence in reduced_train['sentence']]"
      ],
      "execution_count": null,
      "outputs": []
    },
    {
      "cell_type": "code",
      "metadata": {
        "id": "Hby51E0vcO_i"
      },
      "source": [
        "reduced_embedded_trainset = np.zeros(shape=(len(reduced_sentences_train), max, 300))\n",
        "for i, sentence in enumerate(reduced_sentences_train):\n",
        "  for j, word in enumerate(sentence):\n",
        "    try:\n",
        "      reduced_embedded_trainset[i, j, :] = embedding_matrix[w2i[word]]\n",
        "    except KeyError:\n",
        "      pass"
      ],
      "execution_count": null,
      "outputs": []
    },
    {
      "cell_type": "code",
      "metadata": {
        "id": "vSGsLA8eclHh",
        "colab": {
          "base_uri": "https://localhost:8080/"
        },
        "outputId": "ce495719-6d19-47c6-d117-ec17e2ae28e9"
      },
      "source": [
        "model_reduced = keras.Sequential()\n",
        "model_reduced.add(keras.layers.Input(shape=(max, 300)))\n",
        "model_reduced.add(keras.layers.LSTM(64, recurrent_dropout=0.2))\n",
        "model_reduced.add(keras.layers.Dense(5, activation='softmax'))\n",
        "model_reduced.compile(loss='categorical_crossentropy', optimizer=keras.optimizers.Adam(0.004), metrics=['accuracy'])\n",
        "model_reduced.summary()"
      ],
      "execution_count": null,
      "outputs": [
        {
          "output_type": "stream",
          "text": [
            "Model: \"sequential\"\n",
            "_________________________________________________________________\n",
            "Layer (type)                 Output Shape              Param #   \n",
            "=================================================================\n",
            "lstm (LSTM)                  (None, 64)                93440     \n",
            "_________________________________________________________________\n",
            "dense (Dense)                (None, 5)                 325       \n",
            "=================================================================\n",
            "Total params: 93,765\n",
            "Trainable params: 93,765\n",
            "Non-trainable params: 0\n",
            "_________________________________________________________________\n"
          ],
          "name": "stdout"
        }
      ]
    },
    {
      "cell_type": "code",
      "metadata": {
        "id": "Ga4PYO4RcuHt",
        "colab": {
          "base_uri": "https://localhost:8080/"
        },
        "outputId": "3d408abd-8bb0-42e6-e3e6-9883260cf447"
      },
      "source": [
        "result = model_reduced.fit(reduced_embedded_trainset, five_hot_train_reduced, epochs=2, batch_size=25)"
      ],
      "execution_count": null,
      "outputs": [
        {
          "output_type": "stream",
          "text": [
            "Epoch 1/2\n",
            "238/238 [==============================] - 35s 138ms/step - loss: 1.3455 - accuracy: 0.4911\n",
            "Epoch 2/2\n",
            "238/238 [==============================] - 33s 137ms/step - loss: 1.2386 - accuracy: 0.5110\n"
          ],
          "name": "stdout"
        }
      ]
    },
    {
      "cell_type": "markdown",
      "metadata": {
        "id": "Xsgk7zETGRCm"
      },
      "source": [
        "## OPTUNA"
      ]
    },
    {
      "cell_type": "code",
      "metadata": {
        "id": "9ECxBAY3QnsC"
      },
      "source": [
        "%pip install optuna"
      ],
      "execution_count": null,
      "outputs": []
    },
    {
      "cell_type": "code",
      "metadata": {
        "id": "UNhUEawRGzup"
      },
      "source": [
        "import optuna\n",
        "from sklearn.metrics import confusion_matrix"
      ],
      "execution_count": 10,
      "outputs": []
    },
    {
      "cell_type": "code",
      "metadata": {
        "id": "1STkThSjKiYx"
      },
      "source": [
        "def metrics_2(t_labels, t_predictions):\n",
        "  numeric_labels = np.argmax(t_labels, axis=1)\n",
        "  numeric_predictions = np.argmax(t_predictions, axis=1)\n",
        "  matrix = confusion_matrix(numeric_labels, numeric_predictions)\n",
        "  print(matrix)\n",
        "  FP = (matrix.sum(axis=0) - np.diag(matrix))[1:]\n",
        "  FN = (matrix.sum(axis=1) - np.diag(matrix))[1:]\n",
        "  TP = (np.diag(matrix))[1:]\n",
        "  overall_fp = np.sum(FP)\n",
        "  overall_fn = np.sum(FN)\n",
        "  overall_tp = np.sum(TP)\n",
        "  overall_precision = overall_tp / (overall_tp + overall_fp)\n",
        "  overall_recall = overall_tp / (overall_tp + overall_fn)\n",
        "  overall_f_score = 2 * overall_precision * overall_recall / (overall_precision + overall_recall)\n",
        "  return overall_f_score"
      ],
      "execution_count": 11,
      "outputs": []
    },
    {
      "cell_type": "code",
      "metadata": {
        "id": "qnXfgXWqGQMJ"
      },
      "source": [
        "def objective(trial):\n",
        "    units = trial.suggest_int('units', 40, 140)\n",
        "    recurrent_dropout = trial.suggest_float('dropout', 0.2, 0.8, step=0.01)\n",
        "    \n",
        "    model = keras.Sequential()\n",
        "    model.add(keras.layers.Input(shape=(max, 300)))\n",
        "    model.add(keras.layers.Bidirectional(layer=keras.layers.LSTM(units=units,\n",
        "                                                                 recurrent_dropout=recurrent_dropout,\n",
        "                                                                 activation='tanh')))\n",
        "    \n",
        "    model.add(keras.layers.Dense(5, activation='softmax'))\n",
        "    \n",
        "    model.compile(loss='categorical_crossentropy',\n",
        "                  optimizer=keras.optimizers.Adam(learning_rate=0.001),\n",
        "                  metrics=['accuracy'])\n",
        "\n",
        "    batch_size = trial.suggest_int('batch_size', 50, 128)\n",
        "    result = model.fit(embedded_trainset,\n",
        "                       five_hot_train,\n",
        "                       epochs=2,\n",
        "                       batch_size=batch_size,\n",
        "                       class_weight=class_weight,\n",
        "                       callbacks=[keras.callbacks.EarlyStopping(monitor='loss',\n",
        "                                                                patience=10)])\n",
        "\n",
        "    return metrics_2(model.predict(embedded_devset), five_hot_dev)"
      ],
      "execution_count": 14,
      "outputs": []
    },
    {
      "cell_type": "code",
      "metadata": {
        "id": "zr4SGOnGGqyA"
      },
      "source": [
        "study = optuna.create_study(direction='maximize',storage=\"sqlite:///models.db\", study_name=\"DDI\")\n",
        "study.optimize(objective, n_trials=300, n_jobs=50)"
      ],
      "execution_count": null,
      "outputs": []
    }
  ]
}