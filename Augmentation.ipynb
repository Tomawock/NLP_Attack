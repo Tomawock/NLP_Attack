{
  "nbformat": 4,
  "nbformat_minor": 0,
  "metadata": {
    "colab": {
      "name": "Augmentation.ipynb",
      "provenance": [],
      "collapsed_sections": [],
      "toc_visible": true,
      "authorship_tag": "ABX9TyOGxilw/PIegtsvrbt/PRr6",
      "include_colab_link": true
    },
    "kernelspec": {
      "name": "python3",
      "display_name": "Python 3"
    }
  },
  "cells": [
    {
      "cell_type": "markdown",
      "metadata": {
        "id": "view-in-github",
        "colab_type": "text"
      },
      "source": [
        "<a href=\"https://colab.research.google.com/github/Tomawock/NLP_Attack/blob/main/Augmentation.ipynb\" target=\"_parent\"><img src=\"https://colab.research.google.com/assets/colab-badge.svg\" alt=\"Open In Colab\"/></a>"
      ]
    },
    {
      "cell_type": "markdown",
      "metadata": {
        "id": "tlOjpoNp8ITf"
      },
      "source": [
        "## **Import vari e inizializzazione pacchetti**"
      ]
    },
    {
      "cell_type": "code",
      "metadata": {
        "id": "XCCBpzDo8Hud"
      },
      "source": [
        "pip install textattack"
      ],
      "execution_count": null,
      "outputs": []
    },
    {
      "cell_type": "code",
      "metadata": {
        "id": "WFx8h8ye8N-P"
      },
      "source": [
        "import numpy as np\n",
        "import pandas as pd\n",
        "import matplotlib.pyplot as plt"
      ],
      "execution_count": 4,
      "outputs": []
    },
    {
      "cell_type": "markdown",
      "metadata": {
        "id": "y8-aHL3M89yn"
      },
      "source": [
        "# **AMAZON**"
      ]
    },
    {
      "cell_type": "code",
      "metadata": {
        "colab": {
          "base_uri": "https://localhost:8080/"
        },
        "id": "yqRivAjI888B",
        "outputId": "9d581bf7-5390-4cc7-8d2e-e87232170c1a"
      },
      "source": [
        "dataset = pd.read_csv('Reviews.csv')\n",
        "dataset.columns"
      ],
      "execution_count": 15,
      "outputs": [
        {
          "output_type": "execute_result",
          "data": {
            "text/plain": [
              "Index(['Id', 'ProductId', 'UserId', 'ProfileName', 'HelpfulnessNumerator',\n",
              "       'HelpfulnessDenominator', 'Score', 'Time', 'Summary', 'Text'],\n",
              "      dtype='object')"
            ]
          },
          "metadata": {
            "tags": []
          },
          "execution_count": 15
        }
      ]
    },
    {
      "cell_type": "code",
      "metadata": {
        "colab": {
          "base_uri": "https://localhost:8080/"
        },
        "id": "nSqzq-4zC91n",
        "outputId": "003202a5-3300-47a8-c101-d78e572d553a"
      },
      "source": [
        "from textattack.augmentation import WordNetAugmenter\n",
        "augmenter = WordNetAugmenter(pct_words_to_swap=0.2, transformations_per_example=5)\n",
        "s = dataset.Text[1]\n",
        "augmenter.augment(s)"
      ],
      "execution_count": 16,
      "outputs": [
        {
          "output_type": "execute_result",
          "data": {
            "text/plain": [
              "['Product arrived judge as Jumbo salt-cured Peanuts...the peanuts were actually modest sized unsalted. Not surely if this was an error or if the vendor designate to comprise the product as \"Jumbo\".',\n",
              " 'Product come labeled as gargantuan Salted Peanuts...the peanuts were actually belittled sized unsalted. Not sure if this was an misplay or if the vendor intended to comprise the product as \"jumbo\".',\n",
              " 'merchandise arrived mark as Jumbo Salted groundnut...the peanuts were actually belittled sized unsalted. Not sure if this was an error or if the trafficker think to represent the product as \"Jumbo\".',\n",
              " 'ware arrived labeled as giant Salted Peanuts...the peanuts were actually belittled sized unsalted. Not sure if this was an fault or if the vendor mean to represent the product as \"giant\".',\n",
              " 'ware arrived tag as Jumbo salt Peanuts...the peanuts were actually pocket-size sized unsalted. Not sure if this was an error or if the vendor intended to correspond the product as \"gargantuan\".']"
            ]
          },
          "metadata": {
            "tags": []
          },
          "execution_count": 16
        }
      ]
    },
    {
      "cell_type": "markdown",
      "metadata": {
        "id": "Q8IAiec-GXE4"
      },
      "source": [
        "# **ATE ABISTA**\n",
        "\n",
        "> WORD NET AUGMENTER da fare da circa zero unsado la classe WordSwapWordNet(lang=italian or it)\n",
        "\n"
      ]
    },
    {
      "cell_type": "code",
      "metadata": {
        "id": "hENigN88HIF_"
      },
      "source": [
        "# import transformations, contraints, and the Augmenter\n",
        "from textattack.transformations import WordSwapWordNet\n",
        "\n",
        "from textattack.constraints.pre_transformation import RepeatModification\n",
        "from textattack.constraints.pre_transformation import StopwordModification\n",
        "\n",
        "from textattack.augmentation import Augmenter"
      ],
      "execution_count": 11,
      "outputs": []
    },
    {
      "cell_type": "code",
      "metadata": {
        "colab": {
          "base_uri": "https://localhost:8080/"
        },
        "id": "Zu41VzGxG9h4",
        "outputId": "985c2b43-2143-4861-ce80-d28fc58a17b9"
      },
      "source": [
        "# Set up transformation using CompositeTransformation()\n",
        "transformation = WordSwapWordNet(language='ita')\n",
        "# Set up constraints\n",
        "constraints = [RepeatModification(), StopwordModification()]\n",
        "# Create augmenter with specified parameters\n",
        "augmenter = Augmenter(transformation=transformation, constraints=constraints, pct_words_to_swap=0.7, transformations_per_example=5)\n",
        "s = 'Vorrei mangiare la carbonara, ma il ristorante è al completo. Penso mangierò una pizza dal mio kebabbaro preferito!'\n",
        "# Augment!\n",
        "augmenter.augment(s)"
      ],
      "execution_count": 18,
      "outputs": [
        {
          "output_type": "execute_result",
          "data": {
            "text/plain": [
              "['Vorrei cibo la carbonara, ma il trattoria è al grandissimo. Penso mangierò una bobina dal mio kebabbaro beniamino!',\n",
              " 'Vorrei cibo la carbonara, ma il trattoria è al insieme. Penso mangierò una mattone dal mio kebabbaro coccolo!',\n",
              " 'Vorrei cibo la carbonara, ma il trattoria è al insieme. Penso mangierò una noioso dal mio kebabbaro favorito!',\n",
              " 'Vorrei pasto la carbonara, ma il restaurant è al totale. Penso mangierò una lagna dal mio kebabbaro beniamino!',\n",
              " 'Vorrei pasto la carbonara, ma il trattoria è al incondizionato. Penso mangierò una noia dal mio kebabbaro migliore!']"
            ]
          },
          "metadata": {
            "tags": []
          },
          "execution_count": 18
        }
      ]
    }
  ]
}