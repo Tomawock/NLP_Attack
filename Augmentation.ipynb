{
  "nbformat": 4,
  "nbformat_minor": 0,
  "metadata": {
    "colab": {
      "name": "Augmentation.ipynb",
      "provenance": [],
      "collapsed_sections": [],
      "toc_visible": true,
      "mount_file_id": "https://github.com/Tomawock/NLP_Attack/blob/main/Augmentation.ipynb",
      "authorship_tag": "ABX9TyOq9G2pOwjrtZkODIBlC6V6",
      "include_colab_link": true
    },
    "kernelspec": {
      "name": "python3",
      "display_name": "Python 3"
    }
  },
  "cells": [
    {
      "cell_type": "markdown",
      "metadata": {
        "id": "view-in-github",
        "colab_type": "text"
      },
      "source": [
        "<a href=\"https://colab.research.google.com/github/Tomawock/NLP_Attack/blob/main/Augmentation.ipynb\" target=\"_parent\"><img src=\"https://colab.research.google.com/assets/colab-badge.svg\" alt=\"Open In Colab\"/></a>"
      ]
    },
    {
      "cell_type": "markdown",
      "metadata": {
        "id": "tlOjpoNp8ITf"
      },
      "source": [
        "## **Import vari e inizializzazione pacchetti**"
      ]
    },
    {
      "cell_type": "code",
      "metadata": {
        "id": "XCCBpzDo8Hud"
      },
      "source": [
        "pip install textattack"
      ],
      "execution_count": null,
      "outputs": []
    },
    {
      "cell_type": "markdown",
      "metadata": {
        "id": "xQv50o6BA2zb"
      },
      "source": [
        "### **NOTE IMPORTANTI**\n",
        "\n",
        "\n",
        "> la funzione **Augmenter.augment(arg)** utilizza al suo interno **random**, peccato che non si puo settare il seed durante la fase di costruzione dell'oggetto o quando viene richiamata la funzione, questo ha comportato l'import di random per forzare il seed prima dell'esecuzione del codice.\n",
        "\n"
      ]
    },
    {
      "cell_type": "code",
      "metadata": {
        "id": "WFx8h8ye8N-P"
      },
      "source": [
        "import numpy as np\n",
        "import pandas as pd\n",
        "import matplotlib.pyplot as plt\n",
        "import random"
      ],
      "execution_count": 43,
      "outputs": []
    },
    {
      "cell_type": "markdown",
      "metadata": {
        "id": "y8-aHL3M89yn"
      },
      "source": [
        "# **AMAZON**\n"
      ]
    },
    {
      "cell_type": "code",
      "metadata": {
        "colab": {
          "base_uri": "https://localhost:8080/"
        },
        "id": "yqRivAjI888B",
        "outputId": "7afa3827-d53e-472d-c46d-deee2c747431"
      },
      "source": [
        "dataset = pd.read_csv('/content/drive/Shareddrives/Deep Learning/datasets/Amazon/Reviews.csv')\n",
        "print(f\"COLONNE:{dataset.columns}\")\n",
        "print(f\"DIMENSIONE:{dataset.shape}\")"
      ],
      "execution_count": 60,
      "outputs": [
        {
          "output_type": "stream",
          "text": [
            "COLONNE:Index(['Id', 'ProductId', 'UserId', 'ProfileName', 'HelpfulnessNumerator',\n",
            "       'HelpfulnessDenominator', 'Score', 'Time', 'Summary', 'Text'],\n",
            "      dtype='object')\n",
            "DIMENSIONE:(568454, 10)\n"
          ],
          "name": "stdout"
        }
      ]
    },
    {
      "cell_type": "code",
      "metadata": {
        "id": "_hGDxZS8EOhP",
        "outputId": "8cea2d43-fb68-4a7b-a943-550a8c906670",
        "colab": {
          "base_uri": "https://localhost:8080/"
        }
      },
      "source": [
        "#Filtering di TEXT duplicati prima di fare l'augmentation TODO\n",
        "rar=dataset.copy()\n",
        "rar.drop_duplicates('Text', keep='last')\n",
        "print(f\"COLONNE:{rar.columns}\")\n",
        "print(f\"DIMENSIONE:{rar.shape}\")"
      ],
      "execution_count": 61,
      "outputs": [
        {
          "output_type": "stream",
          "text": [
            "COLONNE:Index(['Id', 'ProductId', 'UserId', 'ProfileName', 'HelpfulnessNumerator',\n",
            "       'HelpfulnessDenominator', 'Score', 'Time', 'Summary', 'Text'],\n",
            "      dtype='object')\n",
            "DIMENSIONE:(568454, 10)\n"
          ],
          "name": "stdout"
        }
      ]
    },
    {
      "cell_type": "code",
      "metadata": {
        "colab": {
          "base_uri": "https://localhost:8080/"
        },
        "id": "nSqzq-4zC91n",
        "outputId": "6e6d2cd9-308e-45a0-d16e-aa43c535e868"
      },
      "source": [
        "from textattack.augmentation import WordNetAugmenter\n",
        "random.seed(30)\n",
        "\n",
        "augmenter = WordNetAugmenter(pct_words_to_swap=1, transformations_per_example=2)\n",
        "s = dataset.Text\n",
        "result=augmenter.augment(s)\n",
        "print(f'original:{s} \\n')\n",
        "print(f'Augmented:{result} \\n')"
      ],
      "execution_count": 47,
      "outputs": [
        {
          "output_type": "stream",
          "text": [
            "original:dog \n",
            "\n",
            "Augmented:['andiron', 'wienerwurst'] \n",
            "\n"
          ],
          "name": "stdout"
        }
      ]
    },
    {
      "cell_type": "markdown",
      "metadata": {
        "id": "Q8IAiec-GXE4"
      },
      "source": [
        "# **ATE ABISTA**\n",
        "\n",
        "> WORD NET AUGMENTER da fare da circa zero unsado la classe WordSwapWordNet(lang=italian or it)\n",
        "\n"
      ]
    },
    {
      "cell_type": "code",
      "metadata": {
        "id": "hENigN88HIF_"
      },
      "source": [
        "# import transformations, contraints, and the Augmenter\n",
        "from textattack.transformations import WordSwapWordNet\n",
        "\n",
        "from textattack.constraints.pre_transformation import RepeatModification\n",
        "from textattack.constraints.pre_transformation import StopwordModification\n",
        "\n",
        "from textattack.augmentation import Augmenter"
      ],
      "execution_count": 16,
      "outputs": []
    },
    {
      "cell_type": "code",
      "metadata": {
        "colab": {
          "base_uri": "https://localhost:8080/"
        },
        "id": "Zu41VzGxG9h4",
        "outputId": "aa0c6eac-2acc-440b-8089-53264ac5b8df"
      },
      "source": [
        "# Set up transformation using CompositeTransformation()\n",
        "transformation = WordSwapWordNet(language='ita')\n",
        "# Set up constraints\n",
        "constraints = [RepeatModification(), StopwordModification()]# rimove la possibilità di sostituire parole gia sostituite,ed anche parole inutili dette \"stopword\"(the,as,a,in ecc)\n",
        "# Create augmenter with specified parameters\n",
        "augmenter = Augmenter(transformation=transformation, constraints=constraints, pct_words_to_swap=1, transformations_per_example=2)\n",
        "s = 'Ordinerò la pizza, ma il ristorante è al completo. Penso mangierò una pizza dal mio kebabbaro preferito!'\n",
        "# Augment!\n",
        "augmenter.augment(s)"
      ],
      "execution_count": 26,
      "outputs": [
        {
          "output_type": "execute_result",
          "data": {
            "text/plain": [
              "['Ordinerò la mattone, ma il trattoria è al vestito. Penso mangierò una pittima dal mio kebabbaro coccolo!',\n",
              " 'Ordinerò la palla, ma il trattoria è al grandissimo. Penso mangierò una bobina dal mio kebabbaro beniamino!']"
            ]
          },
          "metadata": {
            "tags": []
          },
          "execution_count": 26
        }
      ]
    },
    {
      "cell_type": "markdown",
      "metadata": {
        "id": "lCPxTY_v35gb"
      },
      "source": [
        "Come si puo notare da questa frase italiana di esempio **WordSwapWordNet()** non è in grando di trovare nel suo db di parole italiane le varie coniugazioni dei vari verbi, il che limita la possiblità di variare il verbo a meno che esso non si all'infinito. **Questa è una grave limitazione del tool**, per analisi completa del db che crea i sinonimi visita:[link](http://compling.hss.ntu.edu.sg/omw/)"
      ]
    },
    {
      "cell_type": "code",
      "metadata": {
        "id": "yI3wKnHi4qla",
        "outputId": "592ccd03-2731-49bb-9205-d353aadfe747",
        "colab": {
          "base_uri": "https://localhost:8080/"
        }
      },
      "source": [
        "# Set up transformation using CompositeTransformation()\n",
        "transformation = WordSwapWordNet(language='ita')\n",
        "# Set up constraints\n",
        "constraints = [RepeatModification(), StopwordModification()]# rimove la possibilità di sostituire parole gia sostituite,ed anche parole inutili dette \"stopword\"(the,as,a,in ecc)\n",
        "# Create augmenter with specified parameters\n",
        "augmenter = Augmenter(transformation=transformation, constraints=constraints, pct_words_to_swap=1, transformations_per_example=2)\n",
        "s = 'Vorrei un cane'\n",
        "# Augment!\n",
        "augmenter.augment(s)"
      ],
      "execution_count": 36,
      "outputs": [
        {
          "output_type": "execute_result",
          "data": {
            "text/plain": [
              "['Vorrei un incompetente', 'Vorrei un inetto']"
            ]
          },
          "metadata": {
            "tags": []
          },
          "execution_count": 36
        }
      ]
    },
    {
      "cell_type": "markdown",
      "metadata": {
        "id": "Z3RywsIc8EKO"
      },
      "source": [
        "### **TEST GENERICI DI CODICE**"
      ]
    },
    {
      "cell_type": "code",
      "metadata": {
        "id": "gC9WI_h_8Ido",
        "outputId": "3ee4824c-7051-4a53-c45b-088cd88e82ed",
        "colab": {
          "base_uri": "https://localhost:8080/"
        }
      },
      "source": [
        "from nltk.corpus import wordnet\n",
        "import textattack\n",
        "\n",
        "l='eng'\n",
        "word='dog'\n",
        "synonyms = set()\n",
        "for syn in wordnet.synsets(word, lang=l):\n",
        "    for syn_word in syn.lemma_names(lang=l):\n",
        "        if (\n",
        "            (syn_word != word)\n",
        "            and (\"_\" not in syn_word)\n",
        "            and (textattack.shared.utils.is_one_word(syn_word))\n",
        "        ):\n",
        "            # WordNet can suggest phrases that are joined by '_' but we ignore phrases.\n",
        "            synonyms.add(syn_word)\n",
        "result=list(synonyms)\n",
        "\n",
        "print(result)"
      ],
      "execution_count": 37,
      "outputs": [
        {
          "output_type": "stream",
          "text": [
            "['firedog', 'frump', 'trail', 'hound', 'blackguard', 'frank', 'cad', 'tail', 'track', 'andiron', 'hotdog', 'dog-iron', 'pawl', 'click', 'chase', 'detent', 'tag', 'wienerwurst', 'frankfurter', 'bounder', 'heel', 'wiener', 'weenie']\n"
          ],
          "name": "stdout"
        }
      ]
    }
  ]
}