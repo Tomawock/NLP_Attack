{
  "nbformat": 4,
  "nbformat_minor": 0,
  "metadata": {
    "colab": {
      "name": "Augmentation.ipynb",
      "provenance": [],
      "collapsed_sections": [],
      "toc_visible": true,
      "mount_file_id": "https://github.com/Tomawock/NLP_Attack/blob/main/Augmentation.ipynb",
      "authorship_tag": "ABX9TyPKW5QfQyMG4Hy1mFRC03C5",
      "include_colab_link": true
    },
    "kernelspec": {
      "name": "python3",
      "display_name": "Python 3"
    }
  },
  "cells": [
    {
      "cell_type": "markdown",
      "metadata": {
        "id": "view-in-github",
        "colab_type": "text"
      },
      "source": [
        "<a href=\"https://colab.research.google.com/github/Tomawock/NLP_Attack/blob/main/Augmentation.ipynb\" target=\"_parent\"><img src=\"https://colab.research.google.com/assets/colab-badge.svg\" alt=\"Open In Colab\"/></a>"
      ]
    },
    {
      "cell_type": "markdown",
      "metadata": {
        "id": "tlOjpoNp8ITf"
      },
      "source": [
        "## **Import vari e inizializzazione pacchetti**"
      ]
    },
    {
      "cell_type": "code",
      "metadata": {
        "id": "XCCBpzDo8Hud",
        "colab": {
          "base_uri": "https://localhost:8080/"
        },
        "outputId": "bd1eb6a0-b5ac-43b1-c523-d78e20bd5fc7"
      },
      "source": [
        "pip install textattack"
      ],
      "execution_count": 10,
      "outputs": [
        {
          "output_type": "stream",
          "text": [
            "Collecting textattack\n",
            "\u001b[?25l  Downloading https://files.pythonhosted.org/packages/a0/c3/ff6ac6e5c2d5975293e0957ee212a7c6e2abc96f14a804279f1d336c7b8c/textattack-0.2.14-py3-none-any.whl (334kB)\n",
            "\r\u001b[K     |█                               | 10kB 13.4MB/s eta 0:00:01\r\u001b[K     |██                              | 20kB 11.2MB/s eta 0:00:01\r\u001b[K     |███                             | 30kB 8.3MB/s eta 0:00:01\r\u001b[K     |████                            | 40kB 7.1MB/s eta 0:00:01\r\u001b[K     |█████                           | 51kB 4.1MB/s eta 0:00:01\r\u001b[K     |█████▉                          | 61kB 4.6MB/s eta 0:00:01\r\u001b[K     |██████▉                         | 71kB 4.6MB/s eta 0:00:01\r\u001b[K     |███████▉                        | 81kB 5.0MB/s eta 0:00:01\r\u001b[K     |████████▉                       | 92kB 5.3MB/s eta 0:00:01\r\u001b[K     |█████████▉                      | 102kB 5.4MB/s eta 0:00:01\r\u001b[K     |██████████▊                     | 112kB 5.4MB/s eta 0:00:01\r\u001b[K     |███████████▊                    | 122kB 5.4MB/s eta 0:00:01\r\u001b[K     |████████████▊                   | 133kB 5.4MB/s eta 0:00:01\r\u001b[K     |█████████████▊                  | 143kB 5.4MB/s eta 0:00:01\r\u001b[K     |██████████████▊                 | 153kB 5.4MB/s eta 0:00:01\r\u001b[K     |███████████████▊                | 163kB 5.4MB/s eta 0:00:01\r\u001b[K     |████████████████▋               | 174kB 5.4MB/s eta 0:00:01\r\u001b[K     |█████████████████▋              | 184kB 5.4MB/s eta 0:00:01\r\u001b[K     |██████████████████▋             | 194kB 5.4MB/s eta 0:00:01\r\u001b[K     |███████████████████▋            | 204kB 5.4MB/s eta 0:00:01\r\u001b[K     |████████████████████▋           | 215kB 5.4MB/s eta 0:00:01\r\u001b[K     |█████████████████████▌          | 225kB 5.4MB/s eta 0:00:01\r\u001b[K     |██████████████████████▌         | 235kB 5.4MB/s eta 0:00:01\r\u001b[K     |███████████████████████▌        | 245kB 5.4MB/s eta 0:00:01\r\u001b[K     |████████████████████████▌       | 256kB 5.4MB/s eta 0:00:01\r\u001b[K     |█████████████████████████▌      | 266kB 5.4MB/s eta 0:00:01\r\u001b[K     |██████████████████████████▍     | 276kB 5.4MB/s eta 0:00:01\r\u001b[K     |███████████████████████████▍    | 286kB 5.4MB/s eta 0:00:01\r\u001b[K     |████████████████████████████▍   | 296kB 5.4MB/s eta 0:00:01\r\u001b[K     |█████████████████████████████▍  | 307kB 5.4MB/s eta 0:00:01\r\u001b[K     |██████████████████████████████▍ | 317kB 5.4MB/s eta 0:00:01\r\u001b[K     |███████████████████████████████▍| 327kB 5.4MB/s eta 0:00:01\r\u001b[K     |████████████████████████████████| 337kB 5.4MB/s \n",
            "\u001b[?25hRequirement already satisfied: nltk in /usr/local/lib/python3.6/dist-packages (from textattack) (3.2.5)\n",
            "Requirement already satisfied: editdistance in /usr/local/lib/python3.6/dist-packages (from textattack) (0.5.3)\n",
            "Collecting language-tool-python\n",
            "  Downloading https://files.pythonhosted.org/packages/ed/b0/2a67ec6a7ff914edbb3b2ba335a711ca3a564ad4189ed16d33b67e3b0426/language_tool_python-2.4.7-py3-none-any.whl\n",
            "Requirement already satisfied: torch in /usr/local/lib/python3.6/dist-packages (from textattack) (1.7.0+cu101)\n",
            "Collecting flair==0.6.1.post1\n",
            "\u001b[?25l  Downloading https://files.pythonhosted.org/packages/4a/49/a812ed93088ba9519cbb40eb9f52341694b31cfa126bfddcd9db3761f3ac/flair-0.6.1.post1-py3-none-any.whl (337kB)\n",
            "\u001b[K     |████████████████████████████████| 337kB 29.9MB/s \n",
            "\u001b[?25hRequirement already satisfied: filelock in /usr/local/lib/python3.6/dist-packages (from textattack) (3.0.12)\n",
            "Collecting tokenizers==0.8.1-rc2\n",
            "\u001b[?25l  Downloading https://files.pythonhosted.org/packages/80/83/8b9fccb9e48eeb575ee19179e2bdde0ee9a1904f97de5f02d19016b8804f/tokenizers-0.8.1rc2-cp36-cp36m-manylinux1_x86_64.whl (3.0MB)\n",
            "\u001b[K     |████████████████████████████████| 3.0MB 31.4MB/s \n",
            "\u001b[?25hRequirement already satisfied: tqdm<4.50.0,>=4.27 in /usr/local/lib/python3.6/dist-packages (from textattack) (4.41.1)\n",
            "Collecting lemminflect\n",
            "\u001b[?25l  Downloading https://files.pythonhosted.org/packages/8d/c5/62e8dd0b6cbfea212cf55a2338838d85a819dbda9462ba53a415dcf19b86/lemminflect-0.2.1-py3-none-any.whl (769kB)\n",
            "\u001b[K     |████████████████████████████████| 778kB 28.7MB/s \n",
            "\u001b[?25hRequirement already satisfied: scipy==1.4.1 in /usr/local/lib/python3.6/dist-packages (from textattack) (1.4.1)\n",
            "Requirement already satisfied: more-itertools in /usr/local/lib/python3.6/dist-packages (from textattack) (8.6.0)\n",
            "Collecting lru-dict\n",
            "  Downloading https://files.pythonhosted.org/packages/00/a5/32ed6e10246cd341ca8cc205acea5d208e4053f48a4dced2b1b31d45ba3f/lru-dict-1.1.6.tar.gz\n",
            "Requirement already satisfied: numpy<1.19.0 in /usr/local/lib/python3.6/dist-packages (from textattack) (1.18.5)\n",
            "Collecting word2number\n",
            "  Downloading https://files.pythonhosted.org/packages/4a/29/a31940c848521f0725f0df6b25dca8917f13a2025b0e8fcbe5d0457e45e6/word2number-1.1.zip\n",
            "Collecting num2words\n",
            "\u001b[?25l  Downloading https://files.pythonhosted.org/packages/eb/a2/ea800689730732e27711c41beed4b2a129b34974435bdc450377ec407738/num2words-0.5.10-py3-none-any.whl (101kB)\n",
            "\u001b[K     |████████████████████████████████| 102kB 9.2MB/s \n",
            "\u001b[?25hRequirement already satisfied: PySocks!=1.5.7,>=1.5.6 in /usr/local/lib/python3.6/dist-packages (from textattack) (1.7.1)\n",
            "Collecting datasets\n",
            "\u001b[?25l  Downloading https://files.pythonhosted.org/packages/1a/38/0c24dce24767386123d528d27109024220db0e7a04467b658d587695241a/datasets-1.1.3-py3-none-any.whl (153kB)\n",
            "\u001b[K     |████████████████████████████████| 163kB 34.7MB/s \n",
            "\u001b[?25hRequirement already satisfied: pandas>=1.0.1 in /usr/local/lib/python3.6/dist-packages (from textattack) (1.1.4)\n",
            "Collecting transformers==3.3.0\n",
            "\u001b[?25l  Downloading https://files.pythonhosted.org/packages/3a/fc/18e56e5b1093052bacf6750442410423f3d9785d14ce4f54ab2ac6b112a6/transformers-3.3.0-py3-none-any.whl (1.1MB)\n",
            "\u001b[K     |████████████████████████████████| 1.1MB 20.8MB/s \n",
            "\u001b[?25hCollecting bert-score>=0.3.5\n",
            "\u001b[?25l  Downloading https://files.pythonhosted.org/packages/a1/f9/7bd03a70ccb4e3f6a334f5f5dc8871d76de10144d277d23f730b08cf2aaf/bert_score-0.3.7-py3-none-any.whl (53kB)\n",
            "\u001b[K     |████████████████████████████████| 61kB 6.9MB/s \n",
            "\u001b[?25hCollecting terminaltables\n",
            "  Downloading https://files.pythonhosted.org/packages/9b/c4/4a21174f32f8a7e1104798c445dacdc1d4df86f2f26722767034e4de4bff/terminaltables-3.1.0.tar.gz\n",
            "Requirement already satisfied: six in /usr/local/lib/python3.6/dist-packages (from nltk->textattack) (1.15.0)\n",
            "Requirement already satisfied: requests in /usr/local/lib/python3.6/dist-packages (from language-tool-python->textattack) (2.23.0)\n",
            "Requirement already satisfied: dataclasses in /usr/local/lib/python3.6/dist-packages (from torch->textattack) (0.8)\n",
            "Requirement already satisfied: future in /usr/local/lib/python3.6/dist-packages (from torch->textattack) (0.16.0)\n",
            "Requirement already satisfied: typing-extensions in /usr/local/lib/python3.6/dist-packages (from torch->textattack) (3.7.4.3)\n",
            "Collecting deprecated>=1.2.4\n",
            "  Downloading https://files.pythonhosted.org/packages/76/a1/05d7f62f956d77b23a640efc650f80ce24483aa2f85a09c03fb64f49e879/Deprecated-1.2.10-py2.py3-none-any.whl\n",
            "Requirement already satisfied: gdown in /usr/local/lib/python3.6/dist-packages (from flair==0.6.1.post1->textattack) (3.6.4)\n",
            "Requirement already satisfied: scikit-learn>=0.21.3 in /usr/local/lib/python3.6/dist-packages (from flair==0.6.1.post1->textattack) (0.22.2.post1)\n",
            "Collecting langdetect\n",
            "\u001b[?25l  Downloading https://files.pythonhosted.org/packages/56/a3/8407c1e62d5980188b4acc45ef3d94b933d14a2ebc9ef3505f22cf772570/langdetect-1.0.8.tar.gz (981kB)\n",
            "\u001b[K     |████████████████████████████████| 983kB 42.1MB/s \n",
            "\u001b[?25hRequirement already satisfied: hyperopt>=0.1.1 in /usr/local/lib/python3.6/dist-packages (from flair==0.6.1.post1->textattack) (0.1.2)\n",
            "Collecting sqlitedict>=1.6.0\n",
            "  Downloading https://files.pythonhosted.org/packages/5c/2d/b1d99e9ad157dd7de9cd0d36a8a5876b13b55e4b75f7498bc96035fb4e96/sqlitedict-1.7.0.tar.gz\n",
            "Requirement already satisfied: regex in /usr/local/lib/python3.6/dist-packages (from flair==0.6.1.post1->textattack) (2019.12.20)\n",
            "Requirement already satisfied: gensim>=3.4.0 in /usr/local/lib/python3.6/dist-packages (from flair==0.6.1.post1->textattack) (3.6.0)\n",
            "Requirement already satisfied: tabulate in /usr/local/lib/python3.6/dist-packages (from flair==0.6.1.post1->textattack) (0.8.7)\n",
            "Requirement already satisfied: matplotlib>=2.2.3 in /usr/local/lib/python3.6/dist-packages (from flair==0.6.1.post1->textattack) (3.2.2)\n",
            "Requirement already satisfied: lxml in /usr/local/lib/python3.6/dist-packages (from flair==0.6.1.post1->textattack) (4.2.6)\n",
            "Collecting konoha<5.0.0,>=4.0.0\n",
            "  Downloading https://files.pythonhosted.org/packages/ea/01/47358efec5396fc80f98273c42cbdfe7aab056252b07884ffcc0f118978f/konoha-4.6.2-py3-none-any.whl\n",
            "Collecting mpld3==0.3\n",
            "\u001b[?25l  Downloading https://files.pythonhosted.org/packages/91/95/a52d3a83d0a29ba0d6898f6727e9858fe7a43f6c2ce81a5fe7e05f0f4912/mpld3-0.3.tar.gz (788kB)\n",
            "\u001b[K     |████████████████████████████████| 798kB 36.5MB/s \n",
            "\u001b[?25hCollecting segtok>=1.5.7\n",
            "  Downloading https://files.pythonhosted.org/packages/41/08/582dab5f4b1d5ca23bc6927b4bb977c8ff7f3a87a3b98844ef833e2f5623/segtok-1.5.10.tar.gz\n",
            "Requirement already satisfied: python-dateutil>=2.6.1 in /usr/local/lib/python3.6/dist-packages (from flair==0.6.1.post1->textattack) (2.8.1)\n",
            "Collecting ftfy\n",
            "\u001b[?25l  Downloading https://files.pythonhosted.org/packages/ff/e2/3b51c53dffb1e52d9210ebc01f1fb9f2f6eba9b3201fa971fd3946643c71/ftfy-5.8.tar.gz (64kB)\n",
            "\u001b[K     |████████████████████████████████| 71kB 6.9MB/s \n",
            "\u001b[?25hCollecting bpemb>=0.3.2\n",
            "  Downloading https://files.pythonhosted.org/packages/91/77/3f0f53856e86af32b1d3c86652815277f7b5f880002584eb30db115b6df5/bpemb-0.3.2-py3-none-any.whl\n",
            "Collecting sentencepiece!=0.1.92\n",
            "\u001b[?25l  Downloading https://files.pythonhosted.org/packages/e5/2d/6d4ca4bef9a67070fa1cac508606328329152b1df10bdf31fb6e4e727894/sentencepiece-0.1.94-cp36-cp36m-manylinux2014_x86_64.whl (1.1MB)\n",
            "\u001b[K     |████████████████████████████████| 1.1MB 33.6MB/s \n",
            "\u001b[?25hCollecting janome\n",
            "\u001b[?25l  Downloading https://files.pythonhosted.org/packages/a8/63/98858cbead27df7536c7e300c169da0999e9704d02220dc6700b804eeff0/Janome-0.4.1-py2.py3-none-any.whl (19.7MB)\n",
            "\u001b[K     |████████████████████████████████| 19.7MB 1.5MB/s \n",
            "\u001b[?25hRequirement already satisfied: docopt>=0.6.2 in /usr/local/lib/python3.6/dist-packages (from num2words->textattack) (0.6.2)\n",
            "Collecting xxhash\n",
            "\u001b[?25l  Downloading https://files.pythonhosted.org/packages/f7/73/826b19f3594756cb1c6c23d2fbd8ca6a77a9cd3b650c9dec5acc85004c38/xxhash-2.0.0-cp36-cp36m-manylinux2010_x86_64.whl (242kB)\n",
            "\u001b[K     |████████████████████████████████| 245kB 40.3MB/s \n",
            "\u001b[?25hRequirement already satisfied: multiprocess in /usr/local/lib/python3.6/dist-packages (from datasets->textattack) (0.70.11.1)\n",
            "Collecting pyarrow>=0.17.1\n",
            "\u001b[?25l  Downloading https://files.pythonhosted.org/packages/d7/e1/27958a70848f8f7089bff8d6ebe42519daf01f976d28b481e1bfd52c8097/pyarrow-2.0.0-cp36-cp36m-manylinux2014_x86_64.whl (17.7MB)\n",
            "\u001b[K     |████████████████████████████████| 17.7MB 251kB/s \n",
            "\u001b[?25hRequirement already satisfied: dill in /usr/local/lib/python3.6/dist-packages (from datasets->textattack) (0.3.3)\n",
            "Requirement already satisfied: pytz>=2017.2 in /usr/local/lib/python3.6/dist-packages (from pandas>=1.0.1->textattack) (2018.9)\n",
            "Collecting sacremoses\n",
            "\u001b[?25l  Downloading https://files.pythonhosted.org/packages/7d/34/09d19aff26edcc8eb2a01bed8e98f13a1537005d31e95233fd48216eed10/sacremoses-0.0.43.tar.gz (883kB)\n",
            "\u001b[K     |████████████████████████████████| 890kB 35.0MB/s \n",
            "\u001b[?25hRequirement already satisfied: packaging in /usr/local/lib/python3.6/dist-packages (from transformers==3.3.0->textattack) (20.4)\n",
            "Requirement already satisfied: urllib3!=1.25.0,!=1.25.1,<1.26,>=1.21.1 in /usr/local/lib/python3.6/dist-packages (from requests->language-tool-python->textattack) (1.24.3)\n",
            "Requirement already satisfied: idna<3,>=2.5 in /usr/local/lib/python3.6/dist-packages (from requests->language-tool-python->textattack) (2.10)\n",
            "Requirement already satisfied: certifi>=2017.4.17 in /usr/local/lib/python3.6/dist-packages (from requests->language-tool-python->textattack) (2020.11.8)\n",
            "Requirement already satisfied: chardet<4,>=3.0.2 in /usr/local/lib/python3.6/dist-packages (from requests->language-tool-python->textattack) (3.0.4)\n",
            "Requirement already satisfied: wrapt<2,>=1.10 in /usr/local/lib/python3.6/dist-packages (from deprecated>=1.2.4->flair==0.6.1.post1->textattack) (1.12.1)\n",
            "Requirement already satisfied: joblib>=0.11 in /usr/local/lib/python3.6/dist-packages (from scikit-learn>=0.21.3->flair==0.6.1.post1->textattack) (0.17.0)\n",
            "Requirement already satisfied: networkx in /usr/local/lib/python3.6/dist-packages (from hyperopt>=0.1.1->flair==0.6.1.post1->textattack) (2.5)\n",
            "Requirement already satisfied: pymongo in /usr/local/lib/python3.6/dist-packages (from hyperopt>=0.1.1->flair==0.6.1.post1->textattack) (3.11.1)\n",
            "Requirement already satisfied: smart-open>=1.2.1 in /usr/local/lib/python3.6/dist-packages (from gensim>=3.4.0->flair==0.6.1.post1->textattack) (3.0.0)\n",
            "Requirement already satisfied: pyparsing!=2.0.4,!=2.1.2,!=2.1.6,>=2.0.1 in /usr/local/lib/python3.6/dist-packages (from matplotlib>=2.2.3->flair==0.6.1.post1->textattack) (2.4.7)\n",
            "Requirement already satisfied: cycler>=0.10 in /usr/local/lib/python3.6/dist-packages (from matplotlib>=2.2.3->flair==0.6.1.post1->textattack) (0.10.0)\n",
            "Requirement already satisfied: kiwisolver>=1.0.1 in /usr/local/lib/python3.6/dist-packages (from matplotlib>=2.2.3->flair==0.6.1.post1->textattack) (1.3.1)\n",
            "Collecting overrides==3.0.0\n",
            "  Downloading https://files.pythonhosted.org/packages/42/8d/caa729f809ecdf8e76fac3c1ff7d3f0b72c398c9dd8a6919927a30a873b3/overrides-3.0.0.tar.gz\n",
            "Requirement already satisfied: wcwidth in /usr/local/lib/python3.6/dist-packages (from ftfy->flair==0.6.1.post1->textattack) (0.2.5)\n",
            "Requirement already satisfied: click in /usr/local/lib/python3.6/dist-packages (from sacremoses->transformers==3.3.0->textattack) (7.1.2)\n",
            "Requirement already satisfied: decorator>=4.3.0 in /usr/local/lib/python3.6/dist-packages (from networkx->hyperopt>=0.1.1->flair==0.6.1.post1->textattack) (4.4.2)\n",
            "Building wheels for collected packages: lru-dict, word2number, terminaltables, langdetect, sqlitedict, mpld3, segtok, ftfy, sacremoses, overrides\n",
            "  Building wheel for lru-dict (setup.py) ... \u001b[?25l\u001b[?25hdone\n",
            "  Created wheel for lru-dict: filename=lru_dict-1.1.6-cp36-cp36m-linux_x86_64.whl size=25885 sha256=237c521ee76b1afda4bbcd83dc8be0da4717a408a2c7248890189203d8a2ef4a\n",
            "  Stored in directory: /root/.cache/pip/wheels/b7/ef/06/fbdd555907a7d438fb33e4c8675f771ff1cf41917284c51ebf\n",
            "  Building wheel for word2number (setup.py) ... \u001b[?25l\u001b[?25hdone\n",
            "  Created wheel for word2number: filename=word2number-1.1-cp36-none-any.whl size=5588 sha256=c15c05856e90633762217132c2d349d39d492c66e05c064bf239cd553351898a\n",
            "  Stored in directory: /root/.cache/pip/wheels/46/2f/53/5f5c1d275492f2fce1cdab9a9bb12d49286dead829a4078e0e\n",
            "  Building wheel for terminaltables (setup.py) ... \u001b[?25l\u001b[?25hdone\n",
            "  Created wheel for terminaltables: filename=terminaltables-3.1.0-cp36-none-any.whl size=15356 sha256=12e224c2481a3c1f0f780d07dd3908765a1a59314daf632258b424675c2f00e7\n",
            "  Stored in directory: /root/.cache/pip/wheels/30/6b/50/6c75775b681fb36cdfac7f19799888ef9d8813aff9e379663e\n",
            "  Building wheel for langdetect (setup.py) ... \u001b[?25l\u001b[?25hdone\n",
            "  Created wheel for langdetect: filename=langdetect-1.0.8-cp36-none-any.whl size=993195 sha256=3e15e08caef9ebd2ee2755cc7f2cdb9c7326f569e28a6aae7ebca4f0e08ec1ff\n",
            "  Stored in directory: /root/.cache/pip/wheels/8d/b3/aa/6d99de9f3841d7d3d40a60ea06e6d669e8e5012e6c8b947a57\n",
            "  Building wheel for sqlitedict (setup.py) ... \u001b[?25l\u001b[?25hdone\n",
            "  Created wheel for sqlitedict: filename=sqlitedict-1.7.0-cp36-none-any.whl size=14377 sha256=872cd9362daa9048890554296344a316f7293aa68c8a3cae79b8a296c64216f2\n",
            "  Stored in directory: /root/.cache/pip/wheels/cf/c6/4f/2c64a43f041415eb8b8740bd80e15e92f0d46c5e464d8e4b9b\n",
            "  Building wheel for mpld3 (setup.py) ... \u001b[?25l\u001b[?25hdone\n",
            "  Created wheel for mpld3: filename=mpld3-0.3-cp36-none-any.whl size=116677 sha256=081205e974416f3710148cf5a87b4f57d5aac7fea2ebb720258211269395a72d\n",
            "  Stored in directory: /root/.cache/pip/wheels/c0/47/fb/8a64f89aecfe0059830479308ad42d62e898a3e3cefdf6ba28\n",
            "  Building wheel for segtok (setup.py) ... \u001b[?25l\u001b[?25hdone\n",
            "  Created wheel for segtok: filename=segtok-1.5.10-cp36-none-any.whl size=25021 sha256=8bffcace5978705ea50b8d3b7e69bef8d691b8f71dcb87921f6fd0255637823c\n",
            "  Stored in directory: /root/.cache/pip/wheels/b4/39/f6/9ca1c5cabde964d728023b5751c3a206a5c8cc40252321fb6b\n",
            "  Building wheel for ftfy (setup.py) ... \u001b[?25l\u001b[?25hdone\n",
            "  Created wheel for ftfy: filename=ftfy-5.8-cp36-none-any.whl size=45612 sha256=ffc59cc48090f6baf0454d53d66a08f247351349357e56640c2f2caeba7e34a1\n",
            "  Stored in directory: /root/.cache/pip/wheels/ba/c0/ef/f28c4da5ac84a4e06ac256ca9182fc34fa57fefffdbc68425b\n",
            "  Building wheel for sacremoses (setup.py) ... \u001b[?25l\u001b[?25hdone\n",
            "  Created wheel for sacremoses: filename=sacremoses-0.0.43-cp36-none-any.whl size=893257 sha256=4071513720064c64e64b6f28170c9135370c2199f2c11ad74da3436c360b4e08\n",
            "  Stored in directory: /root/.cache/pip/wheels/29/3c/fd/7ce5c3f0666dab31a50123635e6fb5e19ceb42ce38d4e58f45\n",
            "  Building wheel for overrides (setup.py) ... \u001b[?25l\u001b[?25hdone\n",
            "  Created wheel for overrides: filename=overrides-3.0.0-cp36-none-any.whl size=5669 sha256=5cb26ee03c57ca636f5016e47758c06f4ba8e0e2151c51baecc0d70f8bebfabf\n",
            "  Stored in directory: /root/.cache/pip/wheels/6f/1b/ec/6c71a1eb823df7f850d956b2d8c50a6d49c191e1063d73b9be\n",
            "Successfully built lru-dict word2number terminaltables langdetect sqlitedict mpld3 segtok ftfy sacremoses overrides\n",
            "Installing collected packages: language-tool-python, deprecated, tokenizers, sentencepiece, sacremoses, transformers, langdetect, sqlitedict, overrides, konoha, mpld3, segtok, ftfy, bpemb, janome, flair, lemminflect, lru-dict, word2number, num2words, xxhash, pyarrow, datasets, bert-score, terminaltables, textattack\n",
            "  Found existing installation: pyarrow 0.14.1\n",
            "    Uninstalling pyarrow-0.14.1:\n",
            "      Successfully uninstalled pyarrow-0.14.1\n",
            "Successfully installed bert-score-0.3.7 bpemb-0.3.2 datasets-1.1.3 deprecated-1.2.10 flair-0.6.1.post1 ftfy-5.8 janome-0.4.1 konoha-4.6.2 langdetect-1.0.8 language-tool-python-2.4.7 lemminflect-0.2.1 lru-dict-1.1.6 mpld3-0.3 num2words-0.5.10 overrides-3.0.0 pyarrow-2.0.0 sacremoses-0.0.43 segtok-1.5.10 sentencepiece-0.1.94 sqlitedict-1.7.0 terminaltables-3.1.0 textattack-0.2.14 tokenizers-0.8.1rc2 transformers-3.3.0 word2number-1.1 xxhash-2.0.0\n"
          ],
          "name": "stdout"
        }
      ]
    },
    {
      "cell_type": "code",
      "metadata": {
        "id": "k5kKxjg6AWJt",
        "outputId": "ea5e2e2d-361a-4663-f1b3-b531e897cae5",
        "colab": {
          "base_uri": "https://localhost:8080/"
        }
      },
      "source": [
        "from google.colab import drive\n",
        "drive.mount('/content/drive')"
      ],
      "execution_count": 11,
      "outputs": [
        {
          "output_type": "stream",
          "text": [
            "Drive already mounted at /content/drive; to attempt to forcibly remount, call drive.mount(\"/content/drive\", force_remount=True).\n"
          ],
          "name": "stdout"
        }
      ]
    },
    {
      "cell_type": "markdown",
      "metadata": {
        "id": "xQv50o6BA2zb"
      },
      "source": [
        "### **NOTE IMPORTANTI**\n",
        "\n",
        "\n",
        "> la funzione **Augmenter.augment(arg)** utilizza al suo interno **random**, peccato che non si puo settare il seed durante la fase di costruzione dell'oggetto o quando viene richiamata la funzione, questo ha comportato l'import di random per forzare il seed prima dell'esecuzione del codice.\n",
        "\n"
      ]
    },
    {
      "cell_type": "code",
      "metadata": {
        "id": "WFx8h8ye8N-P"
      },
      "source": [
        "import numpy as np\n",
        "import pandas as pd\n",
        "import matplotlib.pyplot as plt\n",
        "import random\n",
        "import timeit # pewr il testing"
      ],
      "execution_count": 3,
      "outputs": []
    },
    {
      "cell_type": "markdown",
      "metadata": {
        "id": "y8-aHL3M89yn"
      },
      "source": [
        "# **AMAZON**\n"
      ]
    },
    {
      "cell_type": "code",
      "metadata": {
        "colab": {
          "base_uri": "https://localhost:8080/"
        },
        "id": "yqRivAjI888B",
        "outputId": "b47d47c7-be80-455c-878c-e76c0a2357a8"
      },
      "source": [
        "dataset = pd.read_csv('/content/drive/Shareddrives/Deep Learning/datasets/Amazon/Reviews.csv')\n",
        "print(f\"COLONNE:{dataset.columns}\")\n",
        "print(f\"DIMENSIONE:{dataset.shape}\")"
      ],
      "execution_count": null,
      "outputs": [
        {
          "output_type": "stream",
          "text": [
            "COLONNE:Index(['Id', 'ProductId', 'UserId', 'ProfileName', 'HelpfulnessNumerator',\n",
            "       'HelpfulnessDenominator', 'Score', 'Time', 'Summary', 'Text'],\n",
            "      dtype='object')\n",
            "DIMENSIONE:(568454, 10)\n"
          ],
          "name": "stdout"
        }
      ]
    },
    {
      "cell_type": "markdown",
      "metadata": {
        "id": "UZ8yS8USfij2"
      },
      "source": [
        "Filtering del dataset dei dati duplicati e rimozione parti inutili di esso"
      ]
    },
    {
      "cell_type": "code",
      "metadata": {
        "colab": {
          "base_uri": "https://localhost:8080/"
        },
        "id": "_hGDxZS8EOhP",
        "outputId": "8983bbc1-a1f4-4328-9d84-2e345ef57613"
      },
      "source": [
        "rar=dataset.copy()\n",
        "#print(rar.groupby(['Text']).count().shape)\n",
        "rar.drop_duplicates(subset =\"Text\", \n",
        "                     keep = \"last\", inplace = True) \n",
        "rar.drop(['Id','ProductId', 'UserId', 'ProfileName', 'HelpfulnessNumerator','HelpfulnessDenominator','Time'], axis=1, inplace=True)\n",
        "print(f\"COLONNE:{rar.columns}\")\n",
        "print(f\"DIMENSIONE:{rar.shape}\")"
      ],
      "execution_count": null,
      "outputs": [
        {
          "output_type": "stream",
          "text": [
            "COLONNE:Index(['Score', 'Summary', 'Text'], dtype='object')\n",
            "DIMENSIONE:(393579, 3)\n"
          ],
          "name": "stdout"
        }
      ]
    },
    {
      "cell_type": "code",
      "metadata": {
        "colab": {
          "base_uri": "https://localhost:8080/"
        },
        "id": "nSqzq-4zC91n",
        "outputId": "2075ac46-31a6-4036-9bdb-8f983e9091fd"
      },
      "source": [
        "from textattack.augmentation import WordNetAugmenter\n",
        "from collections import OrderedDict\n",
        "random.seed(33)\n",
        "\n",
        "my_items = list()\n",
        "number_of_trasformation_to_add=2\n",
        "\n",
        "start_time = timeit.default_timer()\n",
        "\n",
        "for row in rar.head(6).itertuples():\n",
        "  #print(row.Text)\n",
        "  augmenter = WordNetAugmenter(pct_words_to_swap=0.7, transformations_per_example=number_of_trasformation_to_add)\n",
        "  result=augmenter.augment(row.Text)\n",
        "  # print(f'original:{s} \\n')\n",
        "  #print(f'Augmented:{result[0]} \\n')\n",
        "  #Aggiungo al dataset finale la entry originale del dataset\n",
        "  my_items.append({'Score': row.Score,'Summary':row.Summary,'Text':row.Text})\n",
        "  for i in range(number_of_trasformation_to_add):\n",
        "    #Aggiungo al dataset finale una nuova entry augmentata \n",
        "    my_items.append({'Score': row.Score,'Summary':row.Summary,'Text':result[i]})\n",
        "  \n",
        "\n",
        "elapsed = timeit.default_timer() - start_time\n",
        "print(f'TIME OF EXECUTION={elapsed}')\n",
        "augmeted_new = pd.DataFrame(data=my_items, columns=rar.columns)\n",
        "print(f\"COLONNE:{augmeted_new.columns}\")\n",
        "print(f\"DIMENSIONE:{augmeted_new.shape}\")"
      ],
      "execution_count": null,
      "outputs": [
        {
          "output_type": "stream",
          "text": [
            "TIME OF EXECUTION=9.975929705000453\n",
            "COLONNE:Index(['Score', 'Summary', 'Text'], dtype='object')\n",
            "DIMENSIONE:(18, 3)\n"
          ],
          "name": "stdout"
        }
      ]
    },
    {
      "cell_type": "markdown",
      "metadata": {
        "id": "Q8IAiec-GXE4"
      },
      "source": [
        "# **ATE ABISTA**\n",
        "\n",
        "> WORD NET AUGMENTER da fare da circa zero unsado la classe WordSwapWordNet(lang=italian or it)\n",
        "\n"
      ]
    },
    {
      "cell_type": "code",
      "metadata": {
        "id": "8d7Tprx8BH7T",
        "outputId": "ad32efa5-fc01-421c-811f-32cde6a95214",
        "colab": {
          "base_uri": "https://localhost:8080/"
        }
      },
      "source": [
        "dataset = pd.read_json('/content/drive/Shareddrives/Deep Learning/datasets/ATE_ABSITA/ATE_ABSITA_training_set/ate_absita_training.ndjson', lines=True)\n",
        "print(f\"COLONNE:{dataset.columns}\")\n",
        "print(f\"DIMENSIONE:{dataset.shape}\")"
      ],
      "execution_count": 12,
      "outputs": [
        {
          "output_type": "stream",
          "text": [
            "COLONNE:Index(['sentence', 'id_sentence', 'score', 'polarities', 'aspects_position',\n",
            "       'aspects'],\n",
            "      dtype='object')\n",
            "DIMENSIONE:(3054, 6)\n"
          ],
          "name": "stdout"
        }
      ]
    },
    {
      "cell_type": "code",
      "metadata": {
        "id": "MJNYx18qFxon",
        "outputId": "0d2eb9c2-a438-4f88-81b9-d2b32158aec3",
        "colab": {
          "base_uri": "https://localhost:8080/"
        }
      },
      "source": [
        "rar=dataset.copy()\n",
        "#print(rar.groupby(['Text']).count().shape)\n",
        "rar.drop_duplicates(subset =\"sentence\", \n",
        "                     keep = \"last\", inplace = True)\n",
        "print(f\"COLONNE:{rar.columns}\")\n",
        "print(f\"DIMENSIONE:{rar.shape}\")"
      ],
      "execution_count": 13,
      "outputs": [
        {
          "output_type": "stream",
          "text": [
            "COLONNE:Index(['sentence', 'id_sentence', 'score', 'polarities', 'aspects_position',\n",
            "       'aspects'],\n",
            "      dtype='object')\n",
            "DIMENSIONE:(3034, 6)\n"
          ],
          "name": "stdout"
        }
      ]
    },
    {
      "cell_type": "code",
      "metadata": {
        "id": "PCCaLWRXIR7Z",
        "outputId": "29d982ac-9ca3-4955-98e8-dbd974aa913f",
        "colab": {
          "base_uri": "https://localhost:8080/",
          "height": 147
        }
      },
      "source": [
        "rar.head(2)"
      ],
      "execution_count": 15,
      "outputs": [
        {
          "output_type": "execute_result",
          "data": {
            "text/html": [
              "<div>\n",
              "<style scoped>\n",
              "    .dataframe tbody tr th:only-of-type {\n",
              "        vertical-align: middle;\n",
              "    }\n",
              "\n",
              "    .dataframe tbody tr th {\n",
              "        vertical-align: top;\n",
              "    }\n",
              "\n",
              "    .dataframe thead th {\n",
              "        text-align: right;\n",
              "    }\n",
              "</style>\n",
              "<table border=\"1\" class=\"dataframe\">\n",
              "  <thead>\n",
              "    <tr style=\"text-align: right;\">\n",
              "      <th></th>\n",
              "      <th>sentence</th>\n",
              "      <th>id_sentence</th>\n",
              "      <th>score</th>\n",
              "      <th>polarities</th>\n",
              "      <th>aspects_position</th>\n",
              "      <th>aspects</th>\n",
              "    </tr>\n",
              "  </thead>\n",
              "  <tbody>\n",
              "    <tr>\n",
              "      <th>0</th>\n",
              "      <td>Ottimo prodotto di marca, la qualità é veramen...</td>\n",
              "      <td>4b7254a1-3f31-4143-ab22-a8558aa4a73b</td>\n",
              "      <td>5</td>\n",
              "      <td>[[0, 0], [0, 1], [1, 0]]</td>\n",
              "      <td>[[120, 142], [71, 79], [29, 36]]</td>\n",
              "      <td>[provvisto di una tasca, capiente, qualità]</td>\n",
              "    </tr>\n",
              "    <tr>\n",
              "      <th>1</th>\n",
              "      <td>Ottimo rasoio dal semplice utilizzo. Rade molt...</td>\n",
              "      <td>4b74d99d-891f-4526-bbd3-549fa244cd1c</td>\n",
              "      <td>5</td>\n",
              "      <td>[[1, 0], [1, 0], [1, 0], [1, 0]]</td>\n",
              "      <td>[[18, 26], [37, 41], [79, 86], [99, 105]]</td>\n",
              "      <td>[semplice, Rade, Pratico, pulire]</td>\n",
              "    </tr>\n",
              "  </tbody>\n",
              "</table>\n",
              "</div>"
            ],
            "text/plain": [
              "                                            sentence  ...                                      aspects\n",
              "0  Ottimo prodotto di marca, la qualità é veramen...  ...  [provvisto di una tasca, capiente, qualità]\n",
              "1  Ottimo rasoio dal semplice utilizzo. Rade molt...  ...            [semplice, Rade, Pratico, pulire]\n",
              "\n",
              "[2 rows x 6 columns]"
            ]
          },
          "metadata": {
            "tags": []
          },
          "execution_count": 15
        }
      ]
    },
    {
      "cell_type": "code",
      "metadata": {
        "colab": {
          "base_uri": "https://localhost:8080/"
        },
        "id": "Zu41VzGxG9h4",
        "outputId": "4aa8748d-e61f-416d-db5c-85b525b97309"
      },
      "source": [
        "# import transformations, contraints, and the Augmenter\n",
        "from textattack.transformations import WordSwapWordNet\n",
        "\n",
        "from textattack.constraints.pre_transformation import RepeatModification\n",
        "from textattack.constraints.pre_transformation import StopwordModification\n",
        "\n",
        "from textattack.augmentation import Augmenter\n",
        "#Set the seed or the augmenter\n",
        "random.seed(33)\n",
        "\n",
        "transformation = WordSwapWordNet(language='ita')\n",
        "constraints = [RepeatModification(), StopwordModification()]# rimove la possibilità di sostituire parole gia sostituite,ed anche parole inutili dette \"stopword\"(the,as,a,in ecc)\n",
        "\n",
        "my_items = list()\n",
        "number_of_trasformation_to_add=2\n",
        "\n",
        "start_time = timeit.default_timer()\n",
        "\n",
        "for row in rar.head(6).itertuples():\n",
        "  #print(row.Text)\n",
        "  augmenter = Augmenter(transformation=transformation, constraints=constraints, pct_words_to_swap=0.7, transformations_per_example=number_of_trasformation_to_add)\n",
        "  result=augmenter.augment(row.sentence)\n",
        "  # print(f'original:{s} \\n')\n",
        "  #print(f'Augmented:{result[0]} \\n')\n",
        "  #Aggiungo al dataset finale la entry originale del dataset\n",
        "  my_items.append({'sentence':row.sentence, 'id_sentence':row.id_sentence, 'score':row.score, \n",
        "                   'polarities':row.polarities, 'aspects_position':row.aspects_position,'aspects':row.aspects})\n",
        "  for i in range(number_of_trasformation_to_add):\n",
        "    #Aggiungo al dataset finale una nuova entry augmentata \n",
        "    my_items.append({'sentence':result[i], 'id_sentence':None, 'score':row.score, \n",
        "                   'polarities':None, 'aspects_position':None,'aspects':None})\n",
        "\n",
        "elapsed = timeit.default_timer() - start_time\n",
        "print(f'TIME OF EXECUTION={elapsed}')\n",
        "augmeted_new = pd.DataFrame(data=my_items, columns=rar.columns)\n",
        "print(f\"COLONNE:{augmeted_new.columns}\")\n",
        "print(f\"DIMENSIONE:{augmeted_new.shape}\")\n",
        "print(f\"DATI:\\n{augmeted_new.head(5).sentence}\")"
      ],
      "execution_count": 20,
      "outputs": [
        {
          "output_type": "stream",
          "text": [
            "TIME OF EXECUTION=1.1540149610000299\n",
            "COLONNE:Index(['sentence', 'id_sentence', 'score', 'polarities', 'aspects_position',\n",
            "       'aspects'],\n",
            "      dtype='object')\n",
            "DIMENSIONE:(18, 6)\n",
            "DATI:\n",
            "0    Ottimo prodotto di marca, la qualità é veramen...\n",
            "1    Ottimo derrata di contrassegno, la natura é da...\n",
            "2    Ottimo risultato di contrassegno, la nota é be...\n",
            "3    Ottimo rasoio dal semplice utilizzo. Rade molt...\n",
            "4    Ottimo rasoio dal merlotto uso. Rade più amore...\n",
            "Name: sentence, dtype: object\n"
          ],
          "name": "stdout"
        }
      ]
    },
    {
      "cell_type": "markdown",
      "metadata": {
        "id": "lCPxTY_v35gb"
      },
      "source": [
        "Come si puo notare da questa frase italiana di esempio **WordSwapWordNet()** non è in grando di trovare nel suo db di parole italiane le varie coniugazioni dei vari verbi, il che limita la possiblità di variare il verbo a meno che esso non si all'infinito. **Questa è una grave limitazione del tool**, per analisi completa del db che crea i sinonimi visita:[link](http://compling.hss.ntu.edu.sg/omw/)"
      ]
    },
    {
      "cell_type": "code",
      "metadata": {
        "colab": {
          "base_uri": "https://localhost:8080/"
        },
        "id": "yI3wKnHi4qla",
        "outputId": "592ccd03-2731-49bb-9205-d353aadfe747"
      },
      "source": [
        "# Set up transformation using CompositeTransformation()\n",
        "transformation = WordSwapWordNet(language='ita')\n",
        "# Set up constraints\n",
        "constraints = [RepeatModification(), StopwordModification()]# rimove la possibilità di sostituire parole gia sostituite,ed anche parole inutili dette \"stopword\"(the,as,a,in ecc)\n",
        "# Create augmenter with specified parameters\n",
        "augmenter = Augmenter(transformation=transformation, constraints=constraints, pct_words_to_swap=1, transformations_per_example=2)\n",
        "s = 'Vorrei un cane'\n",
        "# Augment!\n",
        "augmenter.augment(s)"
      ],
      "execution_count": null,
      "outputs": [
        {
          "output_type": "execute_result",
          "data": {
            "text/plain": [
              "['Vorrei un incompetente', 'Vorrei un inetto']"
            ]
          },
          "metadata": {
            "tags": []
          },
          "execution_count": 36
        }
      ]
    },
    {
      "cell_type": "markdown",
      "metadata": {
        "id": "Z3RywsIc8EKO"
      },
      "source": [
        "### **TEST GENERICI DI CODICE**"
      ]
    },
    {
      "cell_type": "code",
      "metadata": {
        "colab": {
          "base_uri": "https://localhost:8080/"
        },
        "id": "gC9WI_h_8Ido",
        "outputId": "3ee4824c-7051-4a53-c45b-088cd88e82ed"
      },
      "source": [
        "from nltk.corpus import wordnet\n",
        "import textattack\n",
        "\n",
        "l='eng'\n",
        "word='dog'\n",
        "synonyms = set()\n",
        "for syn in wordnet.synsets(word, lang=l):\n",
        "    for syn_word in syn.lemma_names(lang=l):\n",
        "        if (\n",
        "            (syn_word != word)\n",
        "            and (\"_\" not in syn_word)\n",
        "            and (textattack.shared.utils.is_one_word(syn_word))\n",
        "        ):\n",
        "            # WordNet can suggest phrases that are joined by '_' but we ignore phrases.\n",
        "            synonyms.add(syn_word)\n",
        "result=list(synonyms)\n",
        "\n",
        "print(result)"
      ],
      "execution_count": null,
      "outputs": [
        {
          "output_type": "stream",
          "text": [
            "['firedog', 'frump', 'trail', 'hound', 'blackguard', 'frank', 'cad', 'tail', 'track', 'andiron', 'hotdog', 'dog-iron', 'pawl', 'click', 'chase', 'detent', 'tag', 'wienerwurst', 'frankfurter', 'bounder', 'heel', 'wiener', 'weenie']\n"
          ],
          "name": "stdout"
        }
      ]
    }
  ]
}