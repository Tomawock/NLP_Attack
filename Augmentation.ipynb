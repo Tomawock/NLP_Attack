{
  "nbformat": 4,
  "nbformat_minor": 0,
  "metadata": {
    "colab": {
      "name": "Augmentation.ipynb",
      "provenance": [],
      "collapsed_sections": [],
      "toc_visible": true,
      "mount_file_id": "https://github.com/Tomawock/NLP_Attack/blob/main/Augmentation.ipynb",
      "authorship_tag": "ABX9TyNrbuVNJAiis6oIxDGxjOaE",
      "include_colab_link": true
    },
    "kernelspec": {
      "name": "python3",
      "display_name": "Python 3"
    }
  },
  "cells": [
    {
      "cell_type": "markdown",
      "metadata": {
        "id": "view-in-github",
        "colab_type": "text"
      },
      "source": [
        "<a href=\"https://colab.research.google.com/github/Tomawock/NLP_Attack/blob/main/Augmentation.ipynb\" target=\"_parent\"><img src=\"https://colab.research.google.com/assets/colab-badge.svg\" alt=\"Open In Colab\"/></a>"
      ]
    },
    {
      "cell_type": "markdown",
      "metadata": {
        "id": "tlOjpoNp8ITf"
      },
      "source": [
        "## **Import vari e inizializzazione pacchetti**"
      ]
    },
    {
      "cell_type": "code",
      "metadata": {
        "id": "XCCBpzDo8Hud",
        "colab": {
          "base_uri": "https://localhost:8080/"
        },
        "outputId": "3a541bd3-e79c-4050-d687-b0e0db65b774"
      },
      "source": [
        "pip install textattack"
      ],
      "execution_count": 3,
      "outputs": [
        {
          "output_type": "stream",
          "text": [
            "Requirement already satisfied: textattack in /usr/local/lib/python3.6/dist-packages (0.2.14)\n",
            "Requirement already satisfied: flair==0.6.1.post1 in /usr/local/lib/python3.6/dist-packages (from textattack) (0.6.1.post1)\n",
            "Requirement already satisfied: filelock in /usr/local/lib/python3.6/dist-packages (from textattack) (3.0.12)\n",
            "Requirement already satisfied: editdistance in /usr/local/lib/python3.6/dist-packages (from textattack) (0.5.3)\n",
            "Requirement already satisfied: lru-dict in /usr/local/lib/python3.6/dist-packages (from textattack) (1.1.6)\n",
            "Requirement already satisfied: tqdm<4.50.0,>=4.27 in /usr/local/lib/python3.6/dist-packages (from textattack) (4.41.1)\n",
            "Requirement already satisfied: more-itertools in /usr/local/lib/python3.6/dist-packages (from textattack) (8.6.0)\n",
            "Requirement already satisfied: language-tool-python in /usr/local/lib/python3.6/dist-packages (from textattack) (2.4.7)\n",
            "Requirement already satisfied: scipy==1.4.1 in /usr/local/lib/python3.6/dist-packages (from textattack) (1.4.1)\n",
            "Requirement already satisfied: PySocks!=1.5.7,>=1.5.6 in /usr/local/lib/python3.6/dist-packages (from textattack) (1.7.1)\n",
            "Requirement already satisfied: word2number in /usr/local/lib/python3.6/dist-packages (from textattack) (1.1)\n",
            "Requirement already satisfied: terminaltables in /usr/local/lib/python3.6/dist-packages (from textattack) (3.1.0)\n",
            "Requirement already satisfied: tokenizers==0.8.1-rc2 in /usr/local/lib/python3.6/dist-packages (from textattack) (0.8.1rc2)\n",
            "Requirement already satisfied: lemminflect in /usr/local/lib/python3.6/dist-packages (from textattack) (0.2.1)\n",
            "Requirement already satisfied: transformers==3.3.0 in /usr/local/lib/python3.6/dist-packages (from textattack) (3.3.0)\n",
            "Requirement already satisfied: num2words in /usr/local/lib/python3.6/dist-packages (from textattack) (0.5.10)\n",
            "Requirement already satisfied: torch in /usr/local/lib/python3.6/dist-packages (from textattack) (1.7.0+cu101)\n",
            "Requirement already satisfied: pandas>=1.0.1 in /usr/local/lib/python3.6/dist-packages (from textattack) (1.1.4)\n",
            "Requirement already satisfied: bert-score>=0.3.5 in /usr/local/lib/python3.6/dist-packages (from textattack) (0.3.7)\n",
            "Requirement already satisfied: datasets in /usr/local/lib/python3.6/dist-packages (from textattack) (1.1.3)\n",
            "Requirement already satisfied: nltk in /usr/local/lib/python3.6/dist-packages (from textattack) (3.2.5)\n",
            "Requirement already satisfied: numpy<1.19.0 in /usr/local/lib/python3.6/dist-packages (from textattack) (1.18.5)\n",
            "Requirement already satisfied: hyperopt>=0.1.1 in /usr/local/lib/python3.6/dist-packages (from flair==0.6.1.post1->textattack) (0.1.2)\n",
            "Requirement already satisfied: tabulate in /usr/local/lib/python3.6/dist-packages (from flair==0.6.1.post1->textattack) (0.8.7)\n",
            "Requirement already satisfied: gdown in /usr/local/lib/python3.6/dist-packages (from flair==0.6.1.post1->textattack) (3.6.4)\n",
            "Requirement already satisfied: sqlitedict>=1.6.0 in /usr/local/lib/python3.6/dist-packages (from flair==0.6.1.post1->textattack) (1.7.0)\n",
            "Requirement already satisfied: gensim>=3.4.0 in /usr/local/lib/python3.6/dist-packages (from flair==0.6.1.post1->textattack) (3.6.0)\n",
            "Requirement already satisfied: ftfy in /usr/local/lib/python3.6/dist-packages (from flair==0.6.1.post1->textattack) (5.8)\n",
            "Requirement already satisfied: mpld3==0.3 in /usr/local/lib/python3.6/dist-packages (from flair==0.6.1.post1->textattack) (0.3)\n",
            "Requirement already satisfied: scikit-learn>=0.21.3 in /usr/local/lib/python3.6/dist-packages (from flair==0.6.1.post1->textattack) (0.22.2.post1)\n",
            "Requirement already satisfied: sentencepiece!=0.1.92 in /usr/local/lib/python3.6/dist-packages (from flair==0.6.1.post1->textattack) (0.1.94)\n",
            "Requirement already satisfied: janome in /usr/local/lib/python3.6/dist-packages (from flair==0.6.1.post1->textattack) (0.4.1)\n",
            "Requirement already satisfied: segtok>=1.5.7 in /usr/local/lib/python3.6/dist-packages (from flair==0.6.1.post1->textattack) (1.5.10)\n",
            "Requirement already satisfied: matplotlib>=2.2.3 in /usr/local/lib/python3.6/dist-packages (from flair==0.6.1.post1->textattack) (3.2.2)\n",
            "Requirement already satisfied: deprecated>=1.2.4 in /usr/local/lib/python3.6/dist-packages (from flair==0.6.1.post1->textattack) (1.2.10)\n",
            "Requirement already satisfied: konoha<5.0.0,>=4.0.0 in /usr/local/lib/python3.6/dist-packages (from flair==0.6.1.post1->textattack) (4.6.2)\n",
            "Requirement already satisfied: python-dateutil>=2.6.1 in /usr/local/lib/python3.6/dist-packages (from flair==0.6.1.post1->textattack) (2.8.1)\n",
            "Requirement already satisfied: bpemb>=0.3.2 in /usr/local/lib/python3.6/dist-packages (from flair==0.6.1.post1->textattack) (0.3.2)\n",
            "Requirement already satisfied: regex in /usr/local/lib/python3.6/dist-packages (from flair==0.6.1.post1->textattack) (2019.12.20)\n",
            "Requirement already satisfied: lxml in /usr/local/lib/python3.6/dist-packages (from flair==0.6.1.post1->textattack) (4.2.6)\n",
            "Requirement already satisfied: langdetect in /usr/local/lib/python3.6/dist-packages (from flair==0.6.1.post1->textattack) (1.0.8)\n",
            "Requirement already satisfied: requests in /usr/local/lib/python3.6/dist-packages (from language-tool-python->textattack) (2.23.0)\n",
            "Requirement already satisfied: packaging in /usr/local/lib/python3.6/dist-packages (from transformers==3.3.0->textattack) (20.4)\n",
            "Requirement already satisfied: dataclasses; python_version < \"3.7\" in /usr/local/lib/python3.6/dist-packages (from transformers==3.3.0->textattack) (0.8)\n",
            "Requirement already satisfied: sacremoses in /usr/local/lib/python3.6/dist-packages (from transformers==3.3.0->textattack) (0.0.43)\n",
            "Requirement already satisfied: docopt>=0.6.2 in /usr/local/lib/python3.6/dist-packages (from num2words->textattack) (0.6.2)\n",
            "Requirement already satisfied: future in /usr/local/lib/python3.6/dist-packages (from torch->textattack) (0.16.0)\n",
            "Requirement already satisfied: typing-extensions in /usr/local/lib/python3.6/dist-packages (from torch->textattack) (3.7.4.3)\n",
            "Requirement already satisfied: pytz>=2017.2 in /usr/local/lib/python3.6/dist-packages (from pandas>=1.0.1->textattack) (2018.9)\n",
            "Requirement already satisfied: xxhash in /usr/local/lib/python3.6/dist-packages (from datasets->textattack) (2.0.0)\n",
            "Requirement already satisfied: dill in /usr/local/lib/python3.6/dist-packages (from datasets->textattack) (0.3.3)\n",
            "Requirement already satisfied: multiprocess in /usr/local/lib/python3.6/dist-packages (from datasets->textattack) (0.70.11.1)\n",
            "Requirement already satisfied: pyarrow>=0.17.1 in /usr/local/lib/python3.6/dist-packages (from datasets->textattack) (2.0.0)\n",
            "Requirement already satisfied: six in /usr/local/lib/python3.6/dist-packages (from nltk->textattack) (1.15.0)\n",
            "Requirement already satisfied: networkx in /usr/local/lib/python3.6/dist-packages (from hyperopt>=0.1.1->flair==0.6.1.post1->textattack) (2.5)\n",
            "Requirement already satisfied: pymongo in /usr/local/lib/python3.6/dist-packages (from hyperopt>=0.1.1->flair==0.6.1.post1->textattack) (3.11.1)\n",
            "Requirement already satisfied: smart-open>=1.2.1 in /usr/local/lib/python3.6/dist-packages (from gensim>=3.4.0->flair==0.6.1.post1->textattack) (3.0.0)\n",
            "Requirement already satisfied: wcwidth in /usr/local/lib/python3.6/dist-packages (from ftfy->flair==0.6.1.post1->textattack) (0.2.5)\n",
            "Requirement already satisfied: joblib>=0.11 in /usr/local/lib/python3.6/dist-packages (from scikit-learn>=0.21.3->flair==0.6.1.post1->textattack) (0.17.0)\n",
            "Requirement already satisfied: cycler>=0.10 in /usr/local/lib/python3.6/dist-packages (from matplotlib>=2.2.3->flair==0.6.1.post1->textattack) (0.10.0)\n",
            "Requirement already satisfied: kiwisolver>=1.0.1 in /usr/local/lib/python3.6/dist-packages (from matplotlib>=2.2.3->flair==0.6.1.post1->textattack) (1.3.1)\n",
            "Requirement already satisfied: pyparsing!=2.0.4,!=2.1.2,!=2.1.6,>=2.0.1 in /usr/local/lib/python3.6/dist-packages (from matplotlib>=2.2.3->flair==0.6.1.post1->textattack) (2.4.7)\n",
            "Requirement already satisfied: wrapt<2,>=1.10 in /usr/local/lib/python3.6/dist-packages (from deprecated>=1.2.4->flair==0.6.1.post1->textattack) (1.12.1)\n",
            "Requirement already satisfied: overrides==3.0.0 in /usr/local/lib/python3.6/dist-packages (from konoha<5.0.0,>=4.0.0->flair==0.6.1.post1->textattack) (3.0.0)\n",
            "Requirement already satisfied: chardet<4,>=3.0.2 in /usr/local/lib/python3.6/dist-packages (from requests->language-tool-python->textattack) (3.0.4)\n",
            "Requirement already satisfied: certifi>=2017.4.17 in /usr/local/lib/python3.6/dist-packages (from requests->language-tool-python->textattack) (2020.11.8)\n",
            "Requirement already satisfied: urllib3!=1.25.0,!=1.25.1,<1.26,>=1.21.1 in /usr/local/lib/python3.6/dist-packages (from requests->language-tool-python->textattack) (1.24.3)\n",
            "Requirement already satisfied: idna<3,>=2.5 in /usr/local/lib/python3.6/dist-packages (from requests->language-tool-python->textattack) (2.10)\n",
            "Requirement already satisfied: click in /usr/local/lib/python3.6/dist-packages (from sacremoses->transformers==3.3.0->textattack) (7.1.2)\n",
            "Requirement already satisfied: decorator>=4.3.0 in /usr/local/lib/python3.6/dist-packages (from networkx->hyperopt>=0.1.1->flair==0.6.1.post1->textattack) (4.4.2)\n"
          ],
          "name": "stdout"
        }
      ]
    },
    {
      "cell_type": "code",
      "metadata": {
        "id": "k5kKxjg6AWJt",
        "colab": {
          "base_uri": "https://localhost:8080/"
        },
        "outputId": "ea5e2e2d-361a-4663-f1b3-b531e897cae5"
      },
      "source": [
        "from google.colab import drive\n",
        "drive.mount('/content/drive')"
      ],
      "execution_count": null,
      "outputs": [
        {
          "output_type": "stream",
          "text": [
            "Drive already mounted at /content/drive; to attempt to forcibly remount, call drive.mount(\"/content/drive\", force_remount=True).\n"
          ],
          "name": "stdout"
        }
      ]
    },
    {
      "cell_type": "markdown",
      "metadata": {
        "id": "xQv50o6BA2zb"
      },
      "source": [
        "### **NOTE IMPORTANTI**\n",
        "\n",
        "\n",
        "> la funzione **Augmenter.augment(arg)** utilizza al suo interno **random**, peccato che non si puo settare il seed durante la fase di costruzione dell'oggetto o quando viene richiamata la funzione, questo ha comportato l'import di random per forzare il seed prima dell'esecuzione del codice.\n",
        "\n"
      ]
    },
    {
      "cell_type": "code",
      "metadata": {
        "id": "WFx8h8ye8N-P"
      },
      "source": [
        "import numpy as np\n",
        "import pandas as pd\n",
        "import matplotlib.pyplot as plt\n",
        "import random\n",
        "import timeit # pewr il testing"
      ],
      "execution_count": 4,
      "outputs": []
    },
    {
      "cell_type": "markdown",
      "metadata": {
        "id": "y8-aHL3M89yn"
      },
      "source": [
        "# **AMAZON**\n"
      ]
    },
    {
      "cell_type": "code",
      "metadata": {
        "colab": {
          "base_uri": "https://localhost:8080/"
        },
        "id": "yqRivAjI888B",
        "outputId": "91f79708-4850-47f9-ad3b-768bae19bfdc"
      },
      "source": [
        "dataset = pd.read_csv('/content/drive/Shareddrives/Deep Learning/datasets/Amazon/Reviews.csv')\n",
        "print(f\"COLONNE:{dataset.columns}\")\n",
        "print(f\"DIMENSIONE:{dataset.shape}\")"
      ],
      "execution_count": 5,
      "outputs": [
        {
          "output_type": "stream",
          "text": [
            "COLONNE:Index(['Id', 'ProductId', 'UserId', 'ProfileName', 'HelpfulnessNumerator',\n",
            "       'HelpfulnessDenominator', 'Score', 'Time', 'Summary', 'Text'],\n",
            "      dtype='object')\n",
            "DIMENSIONE:(568454, 10)\n"
          ],
          "name": "stdout"
        }
      ]
    },
    {
      "cell_type": "code",
      "metadata": {
        "id": "1gomAQ_CuoUl"
      },
      "source": [
        "dataset.head(10)"
      ],
      "execution_count": null,
      "outputs": []
    },
    {
      "cell_type": "markdown",
      "metadata": {
        "id": "UZ8yS8USfij2"
      },
      "source": [
        "Filtering del dataset dei dati duplicati e rimozione parti inutili di esso"
      ]
    },
    {
      "cell_type": "code",
      "metadata": {
        "colab": {
          "base_uri": "https://localhost:8080/"
        },
        "id": "_hGDxZS8EOhP",
        "outputId": "a33a3dc4-7dbd-4eb1-9798-c722a9dc35b5"
      },
      "source": [
        "rar=dataset.copy()\n",
        "#print(rar.groupby(['Text']).count().shape)\n",
        "rar.drop_duplicates(subset =\"Text\", \n",
        "                     keep = \"last\", inplace = True) \n",
        "rar.drop(['Id','ProductId', 'UserId', 'ProfileName', 'HelpfulnessNumerator','HelpfulnessDenominator','Time'], axis=1, inplace=True)\n",
        "print(f\"COLONNE:{rar.columns}\")\n",
        "print(f\"DIMENSIONE:{rar.shape}\")"
      ],
      "execution_count": 8,
      "outputs": [
        {
          "output_type": "stream",
          "text": [
            "COLONNE:Index(['Score', 'Summary', 'Text'], dtype='object')\n",
            "DIMENSIONE:(393579, 3)\n"
          ],
          "name": "stdout"
        }
      ]
    },
    {
      "cell_type": "code",
      "metadata": {
        "colab": {
          "base_uri": "https://localhost:8080/"
        },
        "id": "nSqzq-4zC91n",
        "outputId": "e31d2fcf-c03c-49cb-c19e-83e0075b17e5"
      },
      "source": [
        "from textattack.augmentation import WordNetAugmenter\n",
        "from collections import OrderedDict\n",
        "random.seed(33)\n",
        "\n",
        "my_items = list()\n",
        "number_of_trasformation_to_add=1\n",
        "\n",
        "start_time = timeit.default_timer()\n",
        "\n",
        "for row in rar.head(1).itertuples():\n",
        "  #print(row.Text)\n",
        "  augmenter = WordNetAugmenter(pct_words_to_swap=0.1, transformations_per_example=number_of_trasformation_to_add)\n",
        "  result=augmenter.augment(row.Text)\n",
        "  # print(f'original:{s} \\n')\n",
        "  #print(f'Augmented:{result[0]} \\n')\n",
        "  #Aggiungo al dataset finale la entry originale del dataset\n",
        "  my_items.append({'Score': row.Score,'Summary':row.Summary,'Text':row.Text})\n",
        "  for i in range(number_of_trasformation_to_add):\n",
        "    #Aggiungo al dataset finale una nuova entry augmentata \n",
        "    my_items.append({'Score': row.Score,'Summary':row.Summary,'Text':result[i]})\n",
        "  \n",
        "\n",
        "elapsed = timeit.default_timer() - start_time\n",
        "print(f'TIME OF EXECUTION={elapsed}')\n",
        "augmeted_new = pd.DataFrame(data=my_items, columns=rar.columns)\n",
        "print(f\"COLONNE:{augmeted_new.columns}\")\n",
        "print(f\"DIMENSIONE:{augmeted_new.shape}\")"
      ],
      "execution_count": 11,
      "outputs": [
        {
          "output_type": "stream",
          "text": [
            "TIME OF EXECUTION=297.619109064\n",
            "COLONNE:Index(['Score', 'Summary', 'Text'], dtype='object')\n",
            "DIMENSIONE:(200, 3)\n"
          ],
          "name": "stdout"
        }
      ]
    },
    {
      "cell_type": "code",
      "metadata": {
        "id": "7StARN1i1iXI",
        "outputId": "667d2167-c6ef-467e-ad5a-f2d003e01955",
        "colab": {
          "base_uri": "https://localhost:8080/"
        }
      },
      "source": [
        "# import transformations, contraints, and the Augmenter\n",
        "from textattack.augmentation import EmbeddingAugmenter\n",
        "#Set the seed or the augmenter\n",
        "random.seed(33)\n",
        "\n",
        "my_items = list()\n",
        "number_of_trasformation_to_add=2\n",
        "\n",
        "start_time = timeit.default_timer()\n",
        "for row in rar.head(1).itertuples():\n",
        "  #print(row.Text)\n",
        "  augmenter = EmbeddingAugmenter(pct_words_to_swap=1, transformations_per_example=number_of_trasformation_to_add)\n",
        "  result=augmenter.augment(row.Text)\n",
        "  # print(f'original:{s} \\n')\n",
        "  #print(f'Augmented:{result[0]} \\n')\n",
        "  #Aggiungo al dataset finale la entry originale del dataset\n",
        "  my_items.append({'Score': row.Score,'Summary':row.Summary,'Text':row.Text})\n",
        "  for i in range(number_of_trasformation_to_add):\n",
        "    #Aggiungo al dataset finale una nuova entry augmentata \n",
        "    my_items.append({'Score': row.Score,'Summary':row.Summary,'Text':result[i]})\n",
        "\n",
        "elapsed = timeit.default_timer() - start_time\n",
        "print(f'TIME OF EXECUTION={elapsed}')\n",
        "augmeted_new = pd.DataFrame(data=my_items, columns=rar.columns)\n",
        "print(f\"COLONNE:{augmeted_new.columns}\")\n",
        "print(f\"DIMENSIONE:{augmeted_new.shape}\")"
      ],
      "execution_count": 16,
      "outputs": [
        {
          "output_type": "stream",
          "text": [
            "TIME OF EXECUTION=12.052554841000074\n",
            "COLONNE:Index(['Score', 'Summary', 'Text'], dtype='object')\n",
            "DIMENSIONE:(3, 3)\n"
          ],
          "name": "stdout"
        }
      ]
    },
    {
      "cell_type": "code",
      "metadata": {
        "id": "pqPNyfuC4kJx",
        "outputId": "036940bb-ab8f-4168-a55e-fb3ba546db2c",
        "colab": {
          "base_uri": "https://localhost:8080/"
        }
      },
      "source": [
        "pd.set_option('display.max_colwidth', -1)\n"
      ],
      "execution_count": 22,
      "outputs": [
        {
          "output_type": "stream",
          "text": [
            "/usr/local/lib/python3.6/dist-packages/ipykernel_launcher.py:1: FutureWarning: Passing a negative integer is deprecated in version 1.0 and will not be supported in future version. Instead, use None to not limit the column width.\n",
            "  \"\"\"Entry point for launching an IPython kernel.\n"
          ],
          "name": "stderr"
        }
      ]
    },
    {
      "cell_type": "code",
      "metadata": {
        "id": "KNkvHJFi5P8T",
        "outputId": "99acd315-2233-47d2-91b5-cc0ce317b52d",
        "colab": {
          "base_uri": "https://localhost:8080/"
        }
      },
      "source": [
        "augmeted_new.head(3).Text"
      ],
      "execution_count": 23,
      "outputs": [
        {
          "output_type": "execute_result",
          "data": {
            "text/plain": [
              "0    I have bought several of the Vitality canned dog food products and have found them all to be of good quality. The product looks more like a stew than a processed meat and it smells better. My Labrador is finicky and she appreciates this product better than  most.                           \n",
              "1    I have acquiring differing of the Dynamism tinned doggy meals product and have detected them all to be of alright quality. The merchandise seems more adores a simmer than a treated carnes and it olfactory best. My Labrador is fastidious and she grateful this commodities optimum than  most.\n",
              "2    I have purchase myriad of the Dynamism tinned terrier catering merchandise and have discovered them all to be of alright quality. The commodity seems more loves a simmer than a process meats and it reeks optimum. My Labrador is fastidious and she grateful this commodities best than  most. \n",
              "Name: Text, dtype: object"
            ]
          },
          "metadata": {
            "tags": []
          },
          "execution_count": 23
        }
      ]
    },
    {
      "cell_type": "markdown",
      "metadata": {
        "id": "Q8IAiec-GXE4"
      },
      "source": [
        "# **ATE ABISTA**\n",
        "\n",
        "> WORD NET AUGMENTER da fare da circa zero unsado la classe WordSwapWordNet(lang=italian or it)\n",
        "\n"
      ]
    },
    {
      "cell_type": "code",
      "metadata": {
        "id": "8d7Tprx8BH7T",
        "colab": {
          "base_uri": "https://localhost:8080/"
        },
        "outputId": "ad32efa5-fc01-421c-811f-32cde6a95214"
      },
      "source": [
        "dataset = pd.read_json('/content/drive/Shareddrives/Deep Learning/datasets/ATE_ABSITA/ATE_ABSITA_training_set/ate_absita_training.ndjson', lines=True)\n",
        "print(f\"COLONNE:{dataset.columns}\")\n",
        "print(f\"DIMENSIONE:{dataset.shape}\")"
      ],
      "execution_count": null,
      "outputs": [
        {
          "output_type": "stream",
          "text": [
            "COLONNE:Index(['sentence', 'id_sentence', 'score', 'polarities', 'aspects_position',\n",
            "       'aspects'],\n",
            "      dtype='object')\n",
            "DIMENSIONE:(3054, 6)\n"
          ],
          "name": "stdout"
        }
      ]
    },
    {
      "cell_type": "code",
      "metadata": {
        "id": "MJNYx18qFxon",
        "colab": {
          "base_uri": "https://localhost:8080/"
        },
        "outputId": "0d2eb9c2-a438-4f88-81b9-d2b32158aec3"
      },
      "source": [
        "rar=dataset.copy()\n",
        "#print(rar.groupby(['Text']).count().shape)\n",
        "rar.drop_duplicates(subset =\"sentence\", \n",
        "                     keep = \"last\", inplace = True)\n",
        "print(f\"COLONNE:{rar.columns}\")\n",
        "print(f\"DIMENSIONE:{rar.shape}\")"
      ],
      "execution_count": null,
      "outputs": [
        {
          "output_type": "stream",
          "text": [
            "COLONNE:Index(['sentence', 'id_sentence', 'score', 'polarities', 'aspects_position',\n",
            "       'aspects'],\n",
            "      dtype='object')\n",
            "DIMENSIONE:(3034, 6)\n"
          ],
          "name": "stdout"
        }
      ]
    },
    {
      "cell_type": "code",
      "metadata": {
        "id": "PCCaLWRXIR7Z",
        "colab": {
          "base_uri": "https://localhost:8080/",
          "height": 147
        },
        "outputId": "29d982ac-9ca3-4955-98e8-dbd974aa913f"
      },
      "source": [
        "rar.head(2)"
      ],
      "execution_count": null,
      "outputs": [
        {
          "output_type": "execute_result",
          "data": {
            "text/html": [
              "<div>\n",
              "<style scoped>\n",
              "    .dataframe tbody tr th:only-of-type {\n",
              "        vertical-align: middle;\n",
              "    }\n",
              "\n",
              "    .dataframe tbody tr th {\n",
              "        vertical-align: top;\n",
              "    }\n",
              "\n",
              "    .dataframe thead th {\n",
              "        text-align: right;\n",
              "    }\n",
              "</style>\n",
              "<table border=\"1\" class=\"dataframe\">\n",
              "  <thead>\n",
              "    <tr style=\"text-align: right;\">\n",
              "      <th></th>\n",
              "      <th>sentence</th>\n",
              "      <th>id_sentence</th>\n",
              "      <th>score</th>\n",
              "      <th>polarities</th>\n",
              "      <th>aspects_position</th>\n",
              "      <th>aspects</th>\n",
              "    </tr>\n",
              "  </thead>\n",
              "  <tbody>\n",
              "    <tr>\n",
              "      <th>0</th>\n",
              "      <td>Ottimo prodotto di marca, la qualità é veramen...</td>\n",
              "      <td>4b7254a1-3f31-4143-ab22-a8558aa4a73b</td>\n",
              "      <td>5</td>\n",
              "      <td>[[0, 0], [0, 1], [1, 0]]</td>\n",
              "      <td>[[120, 142], [71, 79], [29, 36]]</td>\n",
              "      <td>[provvisto di una tasca, capiente, qualità]</td>\n",
              "    </tr>\n",
              "    <tr>\n",
              "      <th>1</th>\n",
              "      <td>Ottimo rasoio dal semplice utilizzo. Rade molt...</td>\n",
              "      <td>4b74d99d-891f-4526-bbd3-549fa244cd1c</td>\n",
              "      <td>5</td>\n",
              "      <td>[[1, 0], [1, 0], [1, 0], [1, 0]]</td>\n",
              "      <td>[[18, 26], [37, 41], [79, 86], [99, 105]]</td>\n",
              "      <td>[semplice, Rade, Pratico, pulire]</td>\n",
              "    </tr>\n",
              "  </tbody>\n",
              "</table>\n",
              "</div>"
            ],
            "text/plain": [
              "                                            sentence  ...                                      aspects\n",
              "0  Ottimo prodotto di marca, la qualità é veramen...  ...  [provvisto di una tasca, capiente, qualità]\n",
              "1  Ottimo rasoio dal semplice utilizzo. Rade molt...  ...            [semplice, Rade, Pratico, pulire]\n",
              "\n",
              "[2 rows x 6 columns]"
            ]
          },
          "metadata": {
            "tags": []
          },
          "execution_count": 15
        }
      ]
    },
    {
      "cell_type": "code",
      "metadata": {
        "colab": {
          "base_uri": "https://localhost:8080/"
        },
        "id": "Zu41VzGxG9h4",
        "outputId": "4aa8748d-e61f-416d-db5c-85b525b97309"
      },
      "source": [
        "# import transformations, contraints, and the Augmenter\n",
        "from textattack.transformations import WordSwapWordNet\n",
        "\n",
        "from textattack.constraints.pre_transformation import RepeatModification\n",
        "from textattack.constraints.pre_transformation import StopwordModification\n",
        "\n",
        "from textattack.augmentation import Augmenter\n",
        "#Set the seed or the augmenter\n",
        "random.seed(33)\n",
        "\n",
        "transformation = WordSwapWordNet(language='ita')\n",
        "constraints = [RepeatModification(), StopwordModification()]# rimove la possibilità di sostituire parole gia sostituite,ed anche parole inutili dette \"stopword\"(the,as,a,in ecc)\n",
        "\n",
        "my_items = list()\n",
        "number_of_trasformation_to_add=2\n",
        "\n",
        "start_time = timeit.default_timer()\n",
        "\n",
        "for row in rar.head(6).itertuples():\n",
        "  #print(row.Text)\n",
        "  augmenter = Augmenter(transformation=transformation, constraints=constraints, pct_words_to_swap=0.7, transformations_per_example=number_of_trasformation_to_add)\n",
        "  result=augmenter.augment(row.sentence)\n",
        "  # print(f'original:{s} \\n')\n",
        "  #print(f'Augmented:{result[0]} \\n')\n",
        "  #Aggiungo al dataset finale la entry originale del dataset\n",
        "  my_items.append({'sentence':row.sentence, 'id_sentence':row.id_sentence, 'score':row.score, \n",
        "                   'polarities':row.polarities, 'aspects_position':row.aspects_position,'aspects':row.aspects})\n",
        "  for i in range(number_of_trasformation_to_add):\n",
        "    #Aggiungo al dataset finale una nuova entry augmentata \n",
        "    my_items.append({'sentence':result[i], 'id_sentence':None, 'score':row.score, \n",
        "                   'polarities':None, 'aspects_position':None,'aspects':None})\n",
        "\n",
        "elapsed = timeit.default_timer() - start_time\n",
        "print(f'TIME OF EXECUTION={elapsed}')\n",
        "augmeted_new = pd.DataFrame(data=my_items, columns=rar.columns)\n",
        "print(f\"COLONNE:{augmeted_new.columns}\")\n",
        "print(f\"DIMENSIONE:{augmeted_new.shape}\")\n",
        "print(f\"DATI:\\n{augmeted_new.head(5).sentence}\")"
      ],
      "execution_count": null,
      "outputs": [
        {
          "output_type": "stream",
          "text": [
            "TIME OF EXECUTION=1.1540149610000299\n",
            "COLONNE:Index(['sentence', 'id_sentence', 'score', 'polarities', 'aspects_position',\n",
            "       'aspects'],\n",
            "      dtype='object')\n",
            "DIMENSIONE:(18, 6)\n",
            "DATI:\n",
            "0    Ottimo prodotto di marca, la qualità é veramen...\n",
            "1    Ottimo derrata di contrassegno, la natura é da...\n",
            "2    Ottimo risultato di contrassegno, la nota é be...\n",
            "3    Ottimo rasoio dal semplice utilizzo. Rade molt...\n",
            "4    Ottimo rasoio dal merlotto uso. Rade più amore...\n",
            "Name: sentence, dtype: object\n"
          ],
          "name": "stdout"
        }
      ]
    },
    {
      "cell_type": "markdown",
      "metadata": {
        "id": "lCPxTY_v35gb"
      },
      "source": [
        "Come si puo notare da questa frase italiana di esempio **WordSwapWordNet()** non è in grando di trovare nel suo db di parole italiane le varie coniugazioni dei vari verbi, il che limita la possiblità di variare il verbo a meno che esso non si all'infinito. **Questa è una grave limitazione del tool**, per analisi completa del db che crea i sinonimi visita:[link](http://compling.hss.ntu.edu.sg/omw/)"
      ]
    },
    {
      "cell_type": "code",
      "metadata": {
        "colab": {
          "base_uri": "https://localhost:8080/"
        },
        "id": "yI3wKnHi4qla",
        "outputId": "592ccd03-2731-49bb-9205-d353aadfe747"
      },
      "source": [
        "# Set up transformation using CompositeTransformation()\n",
        "transformation = WordSwapWordNet(language='ita')\n",
        "# Set up constraints\n",
        "constraints = [RepeatModification(), StopwordModification()]# rimove la possibilità di sostituire parole gia sostituite,ed anche parole inutili dette \"stopword\"(the,as,a,in ecc)\n",
        "# Create augmenter with specified parameters\n",
        "augmenter = Augmenter(transformation=transformation, constraints=constraints, pct_words_to_swap=1, transformations_per_example=2)\n",
        "s = 'Vorrei un cane'\n",
        "# Augment!\n",
        "augmenter.augment(s)"
      ],
      "execution_count": null,
      "outputs": [
        {
          "output_type": "execute_result",
          "data": {
            "text/plain": [
              "['Vorrei un incompetente', 'Vorrei un inetto']"
            ]
          },
          "metadata": {
            "tags": []
          },
          "execution_count": 36
        }
      ]
    },
    {
      "cell_type": "markdown",
      "metadata": {
        "id": "Z3RywsIc8EKO"
      },
      "source": [
        "### **TEST GENERICI DI CODICE**"
      ]
    },
    {
      "cell_type": "code",
      "metadata": {
        "colab": {
          "base_uri": "https://localhost:8080/"
        },
        "id": "gC9WI_h_8Ido",
        "outputId": "3ee4824c-7051-4a53-c45b-088cd88e82ed"
      },
      "source": [
        "from nltk.corpus import wordnet\n",
        "import textattack\n",
        "\n",
        "l='eng'\n",
        "word='dog'\n",
        "synonyms = set()\n",
        "for syn in wordnet.synsets(word, lang=l):\n",
        "    for syn_word in syn.lemma_names(lang=l):\n",
        "        if (\n",
        "            (syn_word != word)\n",
        "            and (\"_\" not in syn_word)\n",
        "            and (textattack.shared.utils.is_one_word(syn_word))\n",
        "        ):\n",
        "            # WordNet can suggest phrases that are joined by '_' but we ignore phrases.\n",
        "            synonyms.add(syn_word)\n",
        "result=list(synonyms)\n",
        "\n",
        "print(result)"
      ],
      "execution_count": null,
      "outputs": [
        {
          "output_type": "stream",
          "text": [
            "['firedog', 'frump', 'trail', 'hound', 'blackguard', 'frank', 'cad', 'tail', 'track', 'andiron', 'hotdog', 'dog-iron', 'pawl', 'click', 'chase', 'detent', 'tag', 'wienerwurst', 'frankfurter', 'bounder', 'heel', 'wiener', 'weenie']\n"
          ],
          "name": "stdout"
        }
      ]
    }
  ]
}